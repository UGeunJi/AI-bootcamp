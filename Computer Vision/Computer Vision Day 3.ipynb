{
 "cells": [
  {
   "cell_type": "code",
   "execution_count": 1,
   "id": "04b5ab7d",
   "metadata": {},
   "outputs": [],
   "source": [
    "import cv2\n",
    "import numpy as np"
   ]
  },
  {
   "cell_type": "markdown",
   "id": "68183a23",
   "metadata": {},
   "source": [
    "# 영상의 산술 연산"
   ]
  },
  {
   "cell_type": "code",
   "execution_count": 7,
   "id": "a7d37230",
   "metadata": {},
   "outputs": [],
   "source": [
    "src1 = cv2.imread('./data/lenna256.bmp', cv2.IMREAD_GRAYSCALE)\n",
    "src2 = cv2.imread('./data/square.bmp', cv2.IMREAD_GRAYSCALE)\n",
    "\n",
    "dst1 = cv2.add(src1, src2)\n",
    "dst2 = cv2.addWeighted(src1, 1, src2, 0.3, 0)\n",
    "dst3 = cv2.subtract(src1, src2)\n",
    "dst4 = cv2.absdiff(src1, src2)\n",
    "\n",
    "cv2.imshow('src1', src1)\n",
    "cv2.imshow('src2', src2)\n",
    "# cv2.imshow('dst1', dst1)\n",
    "# cv2.imshow('dst2', dst2)\n",
    "# cv2.imshow('dst3', dst3)\n",
    "cv2.imshow('dst4', dst4)\n",
    "cv2.waitKey()\n",
    "cv2.destroyAllWindows()"
   ]
  },
  {
   "cell_type": "markdown",
   "id": "ce1d27ae",
   "metadata": {},
   "source": [
    "# 영상의 논리 연산"
   ]
  },
  {
   "cell_type": "code",
   "execution_count": 3,
   "id": "dfb2a527",
   "metadata": {},
   "outputs": [],
   "source": [
    "src1 = cv2.imread('./data/lenna256.bmp', cv2.IMREAD_GRAYSCALE)\n",
    "src2 = cv2.imread('./data/square.bmp', cv2.IMREAD_GRAYSCALE)\n",
    "\n",
    "dst1 = cv2.bitwise_and(src1, src2)\n",
    "dst2 = cv2.bitwise_or(src1, src2)\n",
    "dst3 = cv2.bitwise_xor(src1, src2)\n",
    "dst4 = cv2.bitwise_not(src1)\n",
    "\n",
    "cv2.imshow('src1', src1)\n",
    "cv2.imshow('src2', src2)\n",
    "cv2.imshow('dst1', dst1)\n",
    "cv2.imshow('dst2', dst2)\n",
    "cv2.imshow('dst3', dst3)\n",
    "cv2.imshow('dst4', dst4)\n",
    "\n",
    "cv2.waitKey()\n",
    "cv2.destroyAllWindows()"
   ]
  },
  {
   "cell_type": "markdown",
   "id": "41f9affe",
   "metadata": {},
   "source": [
    "**(참고) 영상의 이진화"
   ]
  },
  {
   "cell_type": "code",
   "execution_count": 42,
   "id": "4c3b651a",
   "metadata": {},
   "outputs": [],
   "source": [
    "def on_thresh(pos):\n",
    "    # cv2.threshold(이미지, 임계값, 임계값을 넘었을때 적용할 최대값, 임계값연산방법)\n",
    "    ret, dst = cv2.threshold(src, pos, 255, cv2.THRESH_BINARY)\n",
    "    cv2.imshow('dst', dst)\n",
    "\n",
    "src = cv2.imread('./data/neutrophils.png', cv2.IMREAD_GRAYSCALE)\n",
    "dst = src.copy()\n",
    "\n",
    "cv2.imshow('src', src)\n",
    "cv2.imshow('dst', dst)\n",
    "\n",
    "cv2.createTrackbar('threshold', 'dst', 0, 255, on_thresh)\n",
    "\n",
    "cv2.waitKey()\n",
    "cv2.destroyAllWindows()"
   ]
  },
  {
   "cell_type": "code",
   "execution_count": 43,
   "id": "050286c7",
   "metadata": {},
   "outputs": [],
   "source": [
    "# 빈 들판에 비행기 띄우기\n",
    "airplane = cv2.imread('./data/airplane.bmp', cv2.IMREAD_COLOR)\n",
    "field = cv2.imread('./data/field.bmp', cv2.IMREAD_COLOR)\n",
    "\n",
    "gray = cv2.cvtColor(airplane, cv2.COLOR_BGR2GRAY)\n",
    "ret, mask = cv2.threshold(gray, 163, 255, cv2.THRESH_BINARY)\n",
    "\n",
    "mask_inv = cv2.bitwise_not(mask)\n",
    "field[mask_inv > 0] = airplane[mask_inv > 0]\n",
    "\n",
    "# cv2.imshow('airplane', airplane)\n",
    "cv2.imshow('field', field)\n",
    "# cv2.imshow('gray', gray)\n",
    "# cv2.imshow('mask', mask)\n",
    "cv2.imshow('mask_inv', mask_inv)\n",
    "cv2.waitKey()\n",
    "cv2.destroyAllWindows()"
   ]
  },
  {
   "cell_type": "markdown",
   "id": "167f783e",
   "metadata": {},
   "source": [
    "# 영상의 필터링"
   ]
  },
  {
   "cell_type": "markdown",
   "id": "4114d109",
   "metadata": {},
   "source": [
    "## 엠보싱 필터"
   ]
  },
  {
   "cell_type": "code",
   "execution_count": 17,
   "id": "a2e6060f",
   "metadata": {},
   "outputs": [],
   "source": [
    "src = cv2.imread('./data/rose.bmp', cv2.IMREAD_GRAYSCALE)\n",
    "\n",
    "emboss = np.array([[-1, -1, 0],\n",
    "                   [-1, 0, 1],\n",
    "                   [0, 1, 1]])\n",
    "\n",
    "# cv2.filter2D(적용할 이미지, 출력채널수, 필터)\n",
    "dst = cv2.filter2D(src, -1, emboss, delta = 128)   # -1은 입력 영상과 출력 영상의 채널 깊이 동일\n",
    "                                                   # 필터링 연산의 결과, 전체 영상의 값이 작아짐\n",
    "                                                   # delta=128을 통해서 전체 결과에 128을 더해줌\n",
    "                                                   # 전반적으로 밝게 표시해주는 효과\n",
    "           \n",
    "cv2.imshow('src', src)\n",
    "cv2.imshow('dst', dst)\n",
    "\n",
    "cv2.waitKey()\n",
    "cv2.destroyAllWindows()"
   ]
  },
  {
   "cell_type": "markdown",
   "id": "08a0c4a3",
   "metadata": {},
   "source": [
    "## 블러링"
   ]
  },
  {
   "cell_type": "markdown",
   "id": "9c4d6b48",
   "metadata": {},
   "source": [
    "### 평균값 필터"
   ]
  },
  {
   "cell_type": "code",
   "execution_count": 18,
   "id": "3cc1b301",
   "metadata": {},
   "outputs": [],
   "source": [
    "src = cv2.imread('./data/rose.bmp', cv2.IMREAD_GRAYSCALE)\n",
    "\n",
    "blur = np.array([[1, 1, 1],\n",
    "                 [1, 1, 1],\n",
    "                 [1, 1, 1]], dtype=np.float32) * 1/9\n",
    "\n",
    "dst = cv2.filter2D(src, -1, blur)\n",
    "            \n",
    "cv2.imshow('src', src)\n",
    "cv2.imshow('dst', dst)\n",
    "\n",
    "cv2.waitKey()\n",
    "cv2.destroyAllWindows()"
   ]
  },
  {
   "cell_type": "code",
   "execution_count": 28,
   "id": "0dfe93db",
   "metadata": {},
   "outputs": [],
   "source": [
    "src = cv2.imread('./data/rose.bmp', cv2.IMREAD_GRAYSCALE)\n",
    "cv2.imshow('src', src)\n",
    "\n",
    "for ksize in (3, 5, 7):\n",
    "    # cv2.blur(입력영상, 필터사이즈)\n",
    "    dst = cv2.blur(src, (ksize, ksize))\n",
    "    desc = 'Mean: %d X %d' % (ksize, ksize)\n",
    "    cv2.putText(dst, desc, (10, 30), cv2.FONT_HERSHEY_SIMPLEX, 1.0, 255, 1, cv2.LINE_AA)\n",
    "    cv2.imshow('dst', dst)\n",
    "    cv2.waitKey()\n",
    "    \n",
    "cv2.destroyAllWindows()"
   ]
  },
  {
   "cell_type": "markdown",
   "id": "fe32c508",
   "metadata": {},
   "source": [
    "### 가우시안 필터"
   ]
  },
  {
   "cell_type": "code",
   "execution_count": 34,
   "id": "4017dcb2",
   "metadata": {},
   "outputs": [],
   "source": [
    "src = cv2.imread('./data/rose.bmp', cv2.IMREAD_GRAYSCALE)\n",
    "cv2.imshow('src', src)\n",
    "\n",
    "for sigma in range(1, 6):\n",
    "    # cv2.GaussianBlur(입력영상, 커널사이즈, 시그마)\n",
    "    dst = cv2.GaussianBlur(src, (0, 0), sigma)\n",
    "    desc = 'Gaussian: sigma %d'% (sigma)\n",
    "    cv2.putText(dst, desc, (10, 30), cv2.FONT_HERSHEY_SIMPLEX, 1.0, 255, 1, cv2.LINE_AA)\n",
    "    cv2.imshow('dst', dst)\n",
    "    cv2.waitKey()\n",
    "    \n",
    "cv2.destroyAllWindows()"
   ]
  },
  {
   "cell_type": "markdown",
   "id": "1d1ca5d9",
   "metadata": {},
   "source": [
    "## 샤프닝 (영상 날카롭게 하기)"
   ]
  },
  {
   "cell_type": "code",
   "execution_count": 3,
   "id": "07ee7046",
   "metadata": {},
   "outputs": [
    {
     "data": {
      "image/png": "[encoded data removed]",
      "text/plain": [
       "<IPython.core.display.Image object>"
      ]
     },
     "execution_count": 3,
     "metadata": {},
     "output_type": "execute_result"
    }
   ],
   "source": [
    "from IPython.display import Image\n",
    "Image('./images/image4.png')"
   ]
  },
  {
   "cell_type": "code",
   "execution_count": 6,
   "id": "241fd0aa",
   "metadata": {},
   "outputs": [],
   "source": [
    "src = cv2.imread('./data/rose.bmp', cv2.IMREAD_GRAYSCALE)\n",
    "cv2.imshow('src', src)\n",
    "\n",
    "for sigma in range(1, 6):  # sigma가 증감함에 따라 Blur 강도가 커짐 -> 샤프닝 강도가 커짐\n",
    "    blurred = cv2.GaussianBlur(src, (0, 0), sigma)\n",
    "    alpha = 1.0\n",
    "    dst = cv2.addWeighted(src, (1 + alpha), blurred, -alpha, 0)\n",
    "    desc = \"Guassian: sigma %d\"%(sigma)\n",
    "    cv2.putText(dst, desc, (10, 30), cv2.FONT_HERSHEY_SIMPLEX, 1.0, 255, 1, cv2.LINE_AA)\n",
    "    cv2.imshow('dst', dst)\n",
    "    cv2.waitKey()\n",
    "\n",
    "cv2.destroyAllWindows()"
   ]
  },
  {
   "cell_type": "markdown",
   "id": "c7699adf",
   "metadata": {},
   "source": [
    "## 가우시안 잡음 모델"
   ]
  },
  {
   "cell_type": "code",
   "execution_count": 4,
   "id": "9c25ec6c",
   "metadata": {},
   "outputs": [
    {
     "data": {
      "image/png": "[encoded data removed]",
      "text/plain": [
       "<IPython.core.display.Image object>"
      ]
     },
     "execution_count": 4,
     "metadata": {},
     "output_type": "execute_result"
    }
   ],
   "source": [
    "Image('./images/image5.png')"
   ]
  },
  {
   "cell_type": "code",
   "execution_count": 2,
   "id": "508daec1",
   "metadata": {},
   "outputs": [],
   "source": [
    "src = cv2.imread('./data/lenna.bmp', cv2.IMREAD_GRAYSCALE)\n",
    "cv2.imshow('src', src)\n",
    "\n",
    "for stdev in [10, 20, 30]:\n",
    "    noise = np.zeros(src.shape, np.int32)\n",
    "    cv2.randn(noise, 0, stdev)\n",
    "    dst = cv2.add(src, noise, dtype=cv2.CV_8UC1)  # 8CU1: 8 bit Unsigned 1 Channel\n",
    "    desc = \"stdev: %d\"%(stdev)\n",
    "    cv2.putText(dst, desc, (10, 30), cv2.FONT_HERSHEY_SIMPLEX, 1.0, 255, 1, cv2.LINE_AA)\n",
    "\n",
    "    cv2.imshow('dst', dst)\n",
    "    cv2.waitKey()\n",
    "cv2.destroyAllWindows()"
   ]
  },
  {
   "cell_type": "markdown",
   "id": "5a8fbb57",
   "metadata": {},
   "source": [
    "## 양방향 필터"
   ]
  },
  {
   "cell_type": "code",
   "execution_count": 18,
   "id": "18a8fda1",
   "metadata": {},
   "outputs": [],
   "source": [
    "src = cv2.imread('./data/lenna.bmp', cv2.IMREAD_GRAYSCALE)\n",
    "\n",
    "noise = np.zeros(src.shape, np.int32)\n",
    "cv2.randn(noise, 0, 5)\n",
    "dst = cv2.add(src, noise, dtype=cv2.CV_8UC1) # np.uint8\n",
    "\n",
    "# 가우시안\n",
    "dst_gaussian = cv2.GaussianBlur(dst, (0, 0), 5)\n",
    "# 양방향필터\n",
    "dst_bilateral = cv2.bilateralFilter(dst, -1, 10, 5)\n",
    "# sigmaColor : 밝기값의 차이에 따라 에지를 얼마나 보전할지 여부(이 값이 작을수록 에지가 더 보전)\n",
    "# sigmaSpace : 거리의 차이(필터 사이즈) 기준으로 얼마나 블러링을 강하게 할지 여부(이 값이 클수록 블러링이 강하게 적용)\n",
    "\n",
    "cv2.imshow('src', src)\n",
    "cv2.imshow('dst', dst)\n",
    "cv2.imshow('dst_gaussian', dst_gaussian)\n",
    "cv2.imshow('dst_bilateral', dst_bilateral)\n",
    "cv2.waitKey()    \n",
    "cv2.destroyAllWindows()"
   ]
  },
  {
   "cell_type": "markdown",
   "id": "6f1eaccc",
   "metadata": {},
   "source": [
    "## 미디언 필터"
   ]
  },
  {
   "cell_type": "code",
   "execution_count": 7,
   "id": "7db26b04",
   "metadata": {},
   "outputs": [],
   "source": [
    "import random"
   ]
  },
  {
   "cell_type": "code",
   "execution_count": 17,
   "id": "d342be10",
   "metadata": {},
   "outputs": [],
   "source": [
    "src = cv2.imread('./data/lenna.bmp', cv2.IMREAD_GRAYSCALE)\n",
    "\n",
    "# salt & pepper noise(소금 & 후추)\n",
    "\n",
    "for i in range(0, int(src.size/10)):\n",
    "    x = random.randint(0, src.shape[0] - 1)\n",
    "    y = random.randint(0, src.shape[1] - 1)\n",
    "    src[x, y] =(i % 2) * 255 # i가 짝수일 때는 0(pepper)값이 들어가고, 홀수일 때는 255(salt)값이 들어감\n",
    "\n",
    "gaussian_blur = cv2.GaussianBlur(src, (0, 0), 1)\n",
    "median_blur = cv2.medianBlur(src, 3)\n",
    "\n",
    "\n",
    "\n",
    "cv2.imshow('src', src)\n",
    "cv2.imshow('gaussian_blur', gaussian_blur)\n",
    "cv2.imshow('median_blur', median_blur)\n",
    "\n",
    "cv2.waitKey()\n",
    "cv2.destroyAllWindows()"
   ]
  },
  {
   "cell_type": "markdown",
   "id": "673a1e87",
   "metadata": {},
   "source": [
    "# 영상의 기하학적 변환"
   ]
  },
  {
   "cell_type": "markdown",
   "id": "b3f50e3d",
   "metadata": {},
   "source": [
    "## 어파인 변환"
   ]
  },
  {
   "cell_type": "code",
   "execution_count": 25,
   "id": "c069ee2d",
   "metadata": {},
   "outputs": [],
   "source": [
    "src = cv2.imread('./data/tekapo.bmp')\n",
    "\n",
    "src_pts = np.array([[0, 0], [src.shape[1] - 1, 0], [src.shape[1] - 1, src.shape[0] - 1]], dtype=np.float32)\n",
    "dst_pts = np.array([[50, 50], [500, 100], [600, 400]], dtype=np.float32)\n",
    "\n",
    "M = cv2.getAffineTransform(src_pts, dst_pts)  # 2 X 3 변환행렬을 반환\n",
    "dst = cv2.warpAffine(src, M, (0, 0))   # dsize=(0, 0): 원본 영상과 동일한 사이즈\n",
    "\n",
    "\n",
    "cv2.imshow('src', src)\n",
    "cv2.imshow('dst', dst)\n",
    "cv2.waitKey()\n",
    "cv2.destroyAllWindows()"
   ]
  },
  {
   "cell_type": "markdown",
   "id": "d400cb03",
   "metadata": {},
   "source": [
    "## 이동 변환"
   ]
  },
  {
   "cell_type": "code",
   "execution_count": 28,
   "id": "50ec0b11",
   "metadata": {},
   "outputs": [],
   "source": [
    "src = cv2.imread('./data/tekapo.bmp')\n",
    "\n",
    "a = 150  # x축으로 이동할 픽셀 수\n",
    "b = 100  # y축으로 이동할 픽셀 수\n",
    "\n",
    "M = np.array([[1, 0, a],\n",
    "              [0, 1, b]], dtype=np.float32)\n",
    "\n",
    "dst = cv2.warpAffine(src, M, (0, 0))   # dsize=(0, 0): 원본 영상과 동일한 사이즈\n",
    "\n",
    "\n",
    "cv2.imshow('src', src)\n",
    "cv2.imshow('dst', dst)\n",
    "cv2.waitKey()\n",
    "cv2.destroyAllWindows()"
   ]
  }
 ],
 "metadata": {
  "kernelspec": {
   "display_name": "Python 3 (ipykernel)",
   "language": "python",
   "name": "python3"
  },
  "language_info": {
   "codemirror_mode": {
    "name": "ipython",
    "version": 3
   },
   "file_extension": ".py",
   "mimetype": "text/x-python",
   "name": "python",
   "nbconvert_exporter": "python",
   "pygments_lexer": "ipython3",
   "version": "3.9.12"
  }
 },
 "nbformat": 4,
 "nbformat_minor": 5
}
