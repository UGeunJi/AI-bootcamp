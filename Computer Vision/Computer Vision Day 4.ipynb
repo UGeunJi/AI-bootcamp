{
 "cells": [
  {
   "cell_type": "code",
   "execution_count": 1,
   "id": "04b5ab7d",
   "metadata": {},
   "outputs": [],
   "source": [
    "import cv2\n",
    "import numpy as np"
   ]
  },
  {
   "cell_type": "markdown",
   "id": "673a1e87",
   "metadata": {},
   "source": [
    "# 영상의 기하학적 변환"
   ]
  },
  {
   "cell_type": "markdown",
   "id": "99778167",
   "metadata": {},
   "source": [
    "## 전단 변환"
   ]
  },
  {
   "cell_type": "code",
   "execution_count": 4,
   "id": "9f179173",
   "metadata": {},
   "outputs": [],
   "source": [
    "src = cv2.imread('./data/tekapo.bmp')\n",
    "\n",
    "height = src.shape[0]\n",
    "width = src.shape[1]\n",
    "\n",
    "Mx = 0.3\n",
    "\n",
    "M = np.array([[1, Mx, 0],\n",
    "              [0, 1, 0]], dtype=np.float64)\n",
    "\n",
    "dst = cv2.warpAffine(src, M, (int(width + Mx*height) , height)) # dsize=(0, 0) : 원본영상과 동일한 사이즈\n",
    "\n",
    "cv2.imshow('src', src)\n",
    "cv2.imshow('dst', dst)\n",
    "cv2.waitKey()\n",
    "cv2.destroyAllWindows()"
   ]
  },
  {
   "cell_type": "markdown",
   "id": "b8e8f480",
   "metadata": {},
   "source": [
    "## 크기 변환"
   ]
  },
  {
   "cell_type": "code",
   "execution_count": 9,
   "id": "768f1773",
   "metadata": {},
   "outputs": [],
   "source": [
    "src = cv2.imread('./data/tekapo.bmp')\n",
    "\n",
    "height = src.shape[0]\n",
    "width = src.shape[1]\n",
    "\n",
    "Sx = 2\n",
    "Sy = 2\n",
    "\n",
    "\n",
    "M = np.array([[Sx, 0, 0],\n",
    "              [0, Sy, 0]], dtype=np.float64)\n",
    "\n",
    "dst = cv2.warpAffine(src, M, (int(width * Sx), int(height * Sy))) # dsize=(0, 0): 원본 영상과 동일한 사이즈\n",
    "\n",
    "\n",
    "cv2.imshow('src', src)\n",
    "cv2.imshow('dst', dst)\n",
    "cv2.waitKey()\n",
    "cv2.destroyAllWindows()"
   ]
  },
  {
   "cell_type": "code",
   "execution_count": 11,
   "id": "2c1973f9",
   "metadata": {},
   "outputs": [],
   "source": [
    "src = cv2.imread('./data/tekapo.bmp')\n",
    "\n",
    "dst = cv2.resize(src, (0, 0), fx=1.2, fy=1.2)\n",
    "\n",
    "cv2.imshow('src', src)\n",
    "cv2.imshow('dst', dst)\n",
    "cv2.waitKey()\n",
    "cv2.destroyAllWindows()"
   ]
  },
  {
   "cell_type": "code",
   "execution_count": 12,
   "id": "d28fc786",
   "metadata": {},
   "outputs": [],
   "source": [
    "src = cv2.imread('./data/tekapo.bmp')\n",
    "\n",
    "dst = cv2.resize(src, (1920, 1280))\n",
    "\n",
    "cv2.imshow('src', src)\n",
    "cv2.imshow('dst', dst)\n",
    "cv2.waitKey()\n",
    "cv2.destroyAllWindows()"
   ]
  },
  {
   "cell_type": "markdown",
   "id": "dda74bae",
   "metadata": {},
   "source": [
    "## 회전 변환"
   ]
  },
  {
   "cell_type": "code",
   "execution_count": 14,
   "id": "8da0577f",
   "metadata": {},
   "outputs": [],
   "source": [
    "src = cv2.imread('./data/tekapo.bmp')\n",
    "\n",
    "height = src.shape[0]\n",
    "width = src.shape[1]\n",
    "\n",
    "center = width / 2, height / 2\n",
    "angle =20 # 반시계방향 20도\n",
    "scale = 1\n",
    "\n",
    "M = cv2.getRotationMatrix2D(center, angle, scale)\n",
    "\n",
    "dst = cv2.warpAffine(src, M, (0, 0)) # dsize=(0, 0): 원본 영상과 동일한 사이즈\n",
    "\n",
    "\n",
    "cv2.imshow('src', src)\n",
    "cv2.imshow('dst', dst)\n",
    "cv2.waitKey()\n",
    "cv2.destroyAllWindows()"
   ]
  },
  {
   "cell_type": "code",
   "execution_count": 16,
   "id": "528fddb8",
   "metadata": {},
   "outputs": [],
   "source": [
    "# 90도 단위로 회전할 때 rotate 함수 사용\n",
    "src = cv2.imread('./data/tekapo.bmp')\n",
    "\n",
    "dst1 = cv2.rotate(src, cv2.ROTATE_90_CLOCKWISE)\n",
    "dst2 = cv2.rotate(src, cv2.ROTATE_90_COUNTERCLOCKWISE)\n",
    "\n",
    "cv2.imshow('src', src)\n",
    "cv2.imshow('dst1', dst1)\n",
    "cv2.imshow('dst2', dst2)\n",
    "cv2.waitKey()\n",
    "cv2.destroyAllWindows()"
   ]
  },
  {
   "cell_type": "markdown",
   "id": "caf7c5ff",
   "metadata": {},
   "source": [
    "## 대칭 변환"
   ]
  },
  {
   "cell_type": "code",
   "execution_count": 19,
   "id": "b278764a",
   "metadata": {},
   "outputs": [],
   "source": [
    "src = cv2.imread('./data/tekapo.bmp')\n",
    "\n",
    "dst = cv2.flip(src, 1) # 좌우 반전\n",
    "\n",
    "cv2.imshow('src', src)\n",
    "cv2.imshow('dst', dst)\n",
    "cv2.waitKey()\n",
    "cv2.destroyAllWindows()"
   ]
  },
  {
   "cell_type": "code",
   "execution_count": 20,
   "id": "f79cf87f",
   "metadata": {},
   "outputs": [],
   "source": [
    "src = cv2.imread('./data/tekapo.bmp')\n",
    "\n",
    "dst = cv2.flip(src, 0)  # 상하 반전\n",
    "\n",
    "cv2.imshow('src', src)\n",
    "cv2.imshow('dst', dst)\n",
    "cv2.waitKey()\n",
    "cv2.destroyAllWindows()"
   ]
  },
  {
   "cell_type": "code",
   "execution_count": 21,
   "id": "caaa7451",
   "metadata": {},
   "outputs": [],
   "source": [
    "src = cv2.imread('./data/tekapo.bmp')\n",
    "\n",
    "dst = cv2.flip(src, -1)  # 상하좌우 반전\n",
    "\n",
    "cv2.imshow('src', src)\n",
    "cv2.imshow('dst', dst)\n",
    "cv2.waitKey()\n",
    "cv2.destroyAllWindows()"
   ]
  },
  {
   "cell_type": "markdown",
   "id": "312d2ffc",
   "metadata": {},
   "source": [
    "## 투시변환"
   ]
  },
  {
   "cell_type": "code",
   "execution_count": 27,
   "id": "440f0684",
   "metadata": {},
   "outputs": [],
   "source": [
    "src = cv2.imread('./data/tekapo.bmp')\n",
    "\n",
    "height = src.shape[0]\n",
    "width = src.shape[1]\n",
    "\n",
    "src_pts = np.array([[0, 0], [width - 1, 0], [width - 1, height - 1], [0, height - 1]], np.float32)\n",
    "dst_pts = np.array([[60, 100], [width - 20, 80], [width - 10, height - 10], [5, height - 20]], np.float32)\n",
    "\n",
    "M = cv2.getPerspectiveTransform(src_pts, dst_pts)\n",
    "dst = cv2.warpPerspective(src, M, (0, 0))\n",
    "\n",
    "\n",
    "cv2.imshow('src', src)\n",
    "cv2.imshow('dst', dst)\n",
    "cv2.waitKey()\n",
    "cv2.destroyAllWindows()"
   ]
  },
  {
   "cell_type": "code",
   "execution_count": 6,
   "id": "de568bfa",
   "metadata": {},
   "outputs": [],
   "source": [
    "def on_mouse(event, x, y, flag, param):\n",
    "    if event == cv2.EVENT_LBUTTONDOWN:\n",
    "        src_pt_list.append([x, y])\n",
    "        cv2.circle(src, (x, y), 5, (0, 0, 255), 5)\n",
    "        cv2.imshow('src', src)\n",
    "        if len(src_pt_list) == 4 :\n",
    "            src_pts = np.array(src_pt_list, dtype=np.float32)\n",
    "            M = cv2.getPerspectiveTransform(src_pts, dst_pts)\n",
    "            dst = cv2.warpPerspective(src, M, (width, height))\n",
    "            cv2.imshow('dst', dst)\n",
    "\n",
    "src_pt_list = []\n",
    "width, height = 200, 300\n",
    "dst_pts = np.array([[0, 0], [width-1, 0], [width-1, height-1], [0, height-1]], np.float32) # 마우스로 클릭한 순서대로 결과에도 매칭\n",
    "            \n",
    "src = cv2.imread('./data/card.bmp')\n",
    "\n",
    "cv2.imshow('src', src)\n",
    "cv2.setMouseCallback('src', on_mouse)\n",
    "\n",
    "cv2.waitKey()\n",
    "cv2.destroyAllWindows()"
   ]
  },
  {
   "cell_type": "markdown",
   "id": "c6dc47cb",
   "metadata": {},
   "source": [
    "# 에지 검출과 응용"
   ]
  },
  {
   "cell_type": "markdown",
   "id": "78e3af9e",
   "metadata": {},
   "source": [
    "## 마스크 기반 에지 검출 - 소벨 마스크"
   ]
  },
  {
   "cell_type": "code",
   "execution_count": 5,
   "id": "94cb8140",
   "metadata": {},
   "outputs": [],
   "source": [
    "src = cv2.imread('./data/lenna.bmp', cv2.IMREAD_GRAYSCALE)\n",
    "\n",
    "Mx = np.array([[-1, 0, 1],\n",
    "               [-2, 0, 2],\n",
    "               [-1, 0, 1]], dtype=np.float32)\n",
    "My = np.array([[-1, -2, -1],\n",
    "               [0, 0, 0],\n",
    "               [1, 2, 1]], dtype=np.float32)\n",
    "\n",
    "\n",
    "dx = cv2.filter2D(src, -1, Mx)\n",
    "dy = cv2.filter2D(src, -1, My)\n",
    "\n",
    "cv2.imshow('src', src)\n",
    "cv2.imshow('dx', dx)\n",
    "cv2.imshow('dy', dy)\n",
    "cv2.waitKey()\n",
    "cv2.destroyAllWindows()"
   ]
  },
  {
   "cell_type": "code",
   "execution_count": 18,
   "id": "39535deb",
   "metadata": {},
   "outputs": [],
   "source": [
    "src = cv2.imread('./data/lenna.bmp', cv2.IMREAD_GRAYSCALE)\n",
    "\n",
    "# 미분필터(소벨필터)를 따로 준비하지 않고, 원본 이미지와 마스크 연산까지 해주는 함수\n",
    "dx = cv2.Sobel(src, cv2.CV_32FC1, 1, 0) # x축으로 미분\n",
    "dy = cv2.Sobel(src, cv2.CV_32FC1, 0, 1) # y축으로 미분\n",
    "# cv2.Sobel() 함수는 cv2.filter2D()로 마스크 연산까지는 동일한 형변환은 안되어 있는 상태\n",
    "\n",
    "fmag = cv2.magnitude(dx, dy)  # [x축으로 미분, y축으로의 미분] = 그래디언트, magnitude 함수가 그래디언트의 크기를 구해줌\n",
    "mag = np.clip(fmag, 0, 255).astype(np.uint8)\n",
    "\n",
    "T = 150\n",
    "ret, dst = cv2.threshold(mag, T, 255, cv2.THRESH_BINARY)\n",
    "\n",
    "cv2.imshow('src', src)\n",
    "cv2.imshow('mag', mag)\n",
    "cv2.imshow('dst', dst)\n",
    "\n",
    "cv2.waitKey()\n",
    "cv2.destroyAllWindows()"
   ]
  },
  {
   "cell_type": "markdown",
   "id": "15f98fd4",
   "metadata": {},
   "source": [
    "## 캐니 에지 검출기"
   ]
  },
  {
   "cell_type": "code",
   "execution_count": 23,
   "id": "1a121e96",
   "metadata": {},
   "outputs": [],
   "source": [
    "src = cv2.imread('./data/lenna.bmp', cv2.IMREAD_GRAYSCALE)\n",
    "\n",
    "dst = cv2.Canny(src, 90, 150)   # low: high (1:2 or 1:3 recommended)\n",
    "\n",
    "cv2.imshow('src', src)\n",
    "cv2.imshow('dst', dst)\n",
    "cv2.waitKey()\n",
    "cv2.destroyAllWindows()"
   ]
  },
  {
   "cell_type": "markdown",
   "id": "31bcb177",
   "metadata": {},
   "source": [
    "## 허프 변환 직선 검출"
   ]
  },
  {
   "cell_type": "code",
   "execution_count": 48,
   "id": "27fbb712",
   "metadata": {},
   "outputs": [],
   "source": [
    "import math\n",
    "\n",
    "src = cv2.imread('./data/building.jpg', cv2.IMREAD_GRAYSCALE)\n",
    "\n",
    "edge = cv2.Canny(src, 100, 200)\n",
    "rho = 1  # or 2 숫자가 작을수록 정밀하게 검출하지만 연산시간이 더 걸림\n",
    "theta = math.pi / 180  # radian unit\n",
    "threshold = 120   # 축적배열의 숫자가 높다는 것은 직선을 이루는 점들이 많다는 뜻\n",
    "                  # 얼마나 큰 값을 직선으로 판단할지는 threshold에 달려있음\n",
    "minLineLength = 100  # 검출할 선분의 최소길이\n",
    "maxLineGap = 10  # 직선으로 간주할 최대 에지 점 간격\n",
    "\n",
    "lines = cv2.HoughLinesP(edge, rho, theta, threshold, minLineLength = minLineLength,\n",
    "                       maxLineGap = maxLineGap)\n",
    "\n",
    "dst = cv2.cvtColor(edge, cv2.COLOR_GRAY2BGR)  # 직선을 그릴 도화지 (3 채널 도화지)\n",
    "\n",
    "if lines is not None:\n",
    "    for i in range(len(lines)):\n",
    "        line = lines[i][0]\n",
    "        pt1 = line[0], line[1]\n",
    "        pt2 = line[2], line[3]\n",
    "        cv2.line(dst, pt1, pt2, (0, 0, 255), 2, cv2.LINE_AA)\n",
    "        \n",
    "        \n",
    "cv2.imshow('src', src)\n",
    "cv2.imshow('edge', edge)\n",
    "cv2.imshow('dst', dst)\n",
    "cv2.waitKey()\n",
    "cv2.destroyAllWindows()"
   ]
  }
 ],
 "metadata": {
  "kernelspec": {
   "display_name": "Python 3 (ipykernel)",
   "language": "python",
   "name": "python3"
  },
  "language_info": {
   "codemirror_mode": {
    "name": "ipython",
    "version": 3
   },
   "file_extension": ".py",
   "mimetype": "text/x-python",
   "name": "python",
   "nbconvert_exporter": "python",
   "pygments_lexer": "ipython3",
   "version": "3.9.12"
  }
 },
 "nbformat": 4,
 "nbformat_minor": 5
}
