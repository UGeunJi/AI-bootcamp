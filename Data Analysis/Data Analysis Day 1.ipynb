{
 "cells": [
  {
   "cell_type": "markdown",
   "id": "347479ac",
   "metadata": {},
   "source": [
    "# 1. 데이터 분석 개요"
   ]
  },
  {
   "cell_type": "markdown",
   "id": "6db9f07c",
   "metadata": {},
   "source": [
    "## Step 1: 질문하기 (Ask questions)\n",
    "데이터가 주어진 상태에서 질문을 할 수도 있고, 질문에 답할 수 있는 데이터를 수집할 수도 있다."
   ]
  },
  {
   "cell_type": "markdown",
   "id": "0aed8b50",
   "metadata": {},
   "source": [
    "## Step 2: 데이터 랭글링 (Wrangle data)\n",
    "- 데이터 랭글링 : 원자료(raw data)를 보다 쉽게 접근하고 분석할 수 있도록 데이터를 정리하고 통합하는 과정\n",
    "(참고. 위키피디아)\n",
    "- 세부적으로는 데이터의 수집(gather), 평가(assess), 정제(clean) 작업으로 나눌 수 있다."
   ]
  },
  {
   "cell_type": "markdown",
   "id": "6c4ecd1d",
   "metadata": {},
   "source": [
    "## Step 3: 데이터 탐색 (Exploratory Data Analysis)\n",
    "데이터의 패턴을 찾고, 관계를 시각화 하는 작업을 통해 데이터에 대한 직관을 극대화 한다."
   ]
  },
  {
   "cell_type": "markdown",
   "id": "deba7523",
   "metadata": {},
   "source": [
    "## Step 4: 결론 도출 또는 예측 (Draw conclusions or make predictions)\n",
    "- Step 3에서 분석한 내용을 근거로 질문에 대한 답과 결론을 도출 할 수 있다.\n",
    "- 머신러닝 또는 통계 추정 과정을 거치게 되면 예측을 만들어 낼 수도 있다."
   ]
  },
  {
   "cell_type": "markdown",
   "id": "7b66b51e",
   "metadata": {},
   "source": [
    "## Step 5: 결과 공유 (Communicate the results)\n",
    "보고서, 이메일, 블로그 등 다양한 방법을 통해 발견한 통찰들을 공유할 수 있다."
   ]
  },
  {
   "cell_type": "markdown",
   "id": "1986a4b3",
   "metadata": {},
   "source": [
    "# 2. Case Study"
   ]
  },
  {
   "cell_type": "markdown",
   "id": "2858efc5",
   "metadata": {},
   "source": [
    "## Bike Sharing Demand"
   ]
  },
  {
   "cell_type": "markdown",
   "id": "e8ff77e2",
   "metadata": {},
   "source": [
    "- 도시 자전거 공유 시스템 사용 예측\n",
    "- [캐글](https://www.kaggle.com)의 [Bike Sharing Demand](https://www.kaggle.com/c/bike-sharing-demand)에서 `train.csv`와 `test.csv`를 다운로드\n",
    "- 두 파일을 각각 datasets 디렉토리에 bike_train.csv bike_test.csv로 저장 "
   ]
  },
  {
   "cell_type": "markdown",
   "id": "825fb903",
   "metadata": {},
   "source": [
    "**datetime** : hourly date + timestamp  \n",
    "**season** : 1 = 봄, 2 = 여름, 3 = 가을, 4 = 겨울  \n",
    "**holiday**: 1 = 토, 일요일의 주말을 제외한 국경일 등의 휴일, 0 = 휴일이 아닌 날  \n",
    "**workingday**: 1 = 토, 일요일의 주말 및 휴일이 아닌 주중, 0 = 주말 및 휴일  \n",
    "**weather**:  \n",
    "- 1 = 맑음, 약간 구름 낀 흐림  \n",
    "- 2 = 안개, 안개 + 흐림  \n",
    "- 3 = 가벼운 눈, 가벼운 비 + 천둥  \n",
    "- 4 = 심한 눈/비, 천둥/번개  \n",
    "\n",
    "**temp**: 온도(섭씨)   \n",
    "**atemp**: 체감온도(섭씨)  \n",
    "**humidity**: 상대습도  \n",
    "**windspeed**: 풍속  \n",
    "**casual**: 사전에 등록되지 않는 사용자가 대여한 횟수  \n",
    "**registered**: 사전에 등록된 사용자가 대여한 횟수  \n",
    "**count**: 대여 횟수  "
   ]
  },
  {
   "cell_type": "markdown",
   "id": "7b265160",
   "metadata": {},
   "source": [
    "## Step 1: 질문하기 (Ask questions)"
   ]
  },
  {
   "cell_type": "code",
   "execution_count": null,
   "id": "0d487002",
   "metadata": {},
   "outputs": [],
   "source": []
  },
  {
   "cell_type": "markdown",
   "id": "87a57ff7",
   "metadata": {},
   "source": [
    "## Step 2: 데이터 랭글링 (Wrangle data)"
   ]
  },
  {
   "cell_type": "markdown",
   "id": "2a1c7836",
   "metadata": {},
   "source": [
    "- 데이터 적재"
   ]
  },
  {
   "cell_type": "markdown",
   "id": "9686414d",
   "metadata": {},
   "source": [
    "- 데이터 평가"
   ]
  },
  {
   "cell_type": "markdown",
   "id": "f10e5f57",
   "metadata": {},
   "source": [
    "- 데이터 정제 (누락된 값 처리, 잘못된 데이터 타입)"
   ]
  },
  {
   "cell_type": "markdown",
   "id": "7d539e77",
   "metadata": {},
   "source": [
    "## Step 3: 데이터 탐색 (Exploratory Data Analysis)\n"
   ]
  },
  {
   "cell_type": "code",
   "execution_count": null,
   "id": "686bca66",
   "metadata": {},
   "outputs": [],
   "source": []
  },
  {
   "cell_type": "markdown",
   "id": "3e63835d",
   "metadata": {},
   "source": [
    "## Step 4: 결론 도출 또는 예측 (Draw conclusions or make predictions)\n"
   ]
  },
  {
   "cell_type": "code",
   "execution_count": null,
   "id": "c2f6369a",
   "metadata": {},
   "outputs": [],
   "source": []
  },
  {
   "cell_type": "markdown",
   "id": "1cbca4a0",
   "metadata": {},
   "source": [
    "## Step 5: 결과 공유 (Communicate the results)"
   ]
  },
  {
   "cell_type": "code",
   "execution_count": null,
   "id": "f53312b0",
   "metadata": {},
   "outputs": [],
   "source": []
  }
 ],
 "metadata": {
  "kernelspec": {
   "display_name": "Python 3 (ipykernel)",
   "language": "python",
   "name": "python3"
  },
  "language_info": {
   "codemirror_mode": {
    "name": "ipython",
    "version": 3
   },
   "file_extension": ".py",
   "mimetype": "text/x-python",
   "name": "python",
   "nbconvert_exporter": "python",
   "pygments_lexer": "ipython3",
   "version": "3.9.12"
  }
 },
 "nbformat": 4,
 "nbformat_minor": 5
}
