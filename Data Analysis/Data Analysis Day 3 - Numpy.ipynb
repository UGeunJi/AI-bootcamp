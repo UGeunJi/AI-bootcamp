{
 "cells": [
  {
   "cell_type": "code",
   "execution_count": 2,
   "id": "ffbfffb3",
   "metadata": {},
   "outputs": [],
   "source": [
    "import numpy as np"
   ]
  },
  {
   "cell_type": "markdown",
   "id": "4740a071",
   "metadata": {},
   "source": [
    "## 3. 그 외 기능들"
   ]
  },
  {
   "cell_type": "markdown",
   "id": "0c4c5f14",
   "metadata": {},
   "source": [
    "### 3.1 배열 전치"
   ]
  },
  {
   "cell_type": "code",
   "execution_count": 9,
   "id": "dbf66f82",
   "metadata": {},
   "outputs": [
    {
     "data": {
      "text/plain": [
       "array([[ 0,  1,  2,  3,  4],\n",
       "       [ 5,  6,  7,  8,  9],\n",
       "       [10, 11, 12, 13, 14]])"
      ]
     },
     "execution_count": 9,
     "metadata": {},
     "output_type": "execute_result"
    }
   ],
   "source": [
    "arr = np.arange(15).reshape((3, 5))  # 3행 5열의 행렬이 준비\n",
    "arr"
   ]
  },
  {
   "cell_type": "code",
   "execution_count": 8,
   "id": "f3de1c12",
   "metadata": {},
   "outputs": [
    {
     "data": {
      "text/plain": [
       "array([[ 0,  5, 10],\n",
       "       [ 1,  6, 11],\n",
       "       [ 2,  7, 12],\n",
       "       [ 3,  8, 13],\n",
       "       [ 4,  9, 14]])"
      ]
     },
     "execution_count": 8,
     "metadata": {},
     "output_type": "execute_result"
    }
   ],
   "source": [
    "arr.T     # Transpose 전치행렬"
   ]
  },
  {
   "cell_type": "code",
   "execution_count": 10,
   "id": "79d17da6",
   "metadata": {},
   "outputs": [
    {
     "data": {
      "text/plain": [
       "array([[  0,   1,   4,   9,  16],\n",
       "       [ 25,  36,  49,  64,  81],\n",
       "       [100, 121, 144, 169, 196]])"
      ]
     },
     "execution_count": 10,
     "metadata": {},
     "output_type": "execute_result"
    }
   ],
   "source": [
    "arr * arr # 개별 원소의 곱셈"
   ]
  },
  {
   "cell_type": "code",
   "execution_count": null,
   "id": "62a6f6d2",
   "metadata": {},
   "outputs": [],
   "source": [
    "# 행렬의 곱셈\n",
    "# arr @ arr 연산은 가능하지 않음 (@은 행렬의 곱셈)\n",
    "(3, 5) @ (3, 5)\n",
    "\n",
    "# arr @ arr.T 연산은 가능\n",
    "# (3, 5) @ (5, 3) = (3, 3)"
   ]
  },
  {
   "cell_type": "code",
   "execution_count": 11,
   "id": "dc1677fe",
   "metadata": {},
   "outputs": [
    {
     "data": {
      "text/plain": [
       "array([[ 30,  80, 130],\n",
       "       [ 80, 255, 430],\n",
       "       [130, 430, 730]])"
      ]
     },
     "execution_count": 11,
     "metadata": {},
     "output_type": "execute_result"
    }
   ],
   "source": [
    "arr @ arr.T"
   ]
  },
  {
   "cell_type": "code",
   "execution_count": 12,
   "id": "17589e63",
   "metadata": {},
   "outputs": [
    {
     "data": {
      "text/plain": [
       "array([[ 30,  80, 130],\n",
       "       [ 80, 255, 430],\n",
       "       [130, 430, 730]])"
      ]
     },
     "execution_count": 12,
     "metadata": {},
     "output_type": "execute_result"
    }
   ],
   "source": [
    "np.dot(arr, arr.T)"
   ]
  },
  {
   "cell_type": "markdown",
   "id": "00916f5a",
   "metadata": {},
   "source": [
    "### 3.2 배열 연산과 조건절 표현하기"
   ]
  },
  {
   "cell_type": "code",
   "execution_count": 18,
   "id": "520df61e",
   "metadata": {},
   "outputs": [
    {
     "data": {
      "text/plain": [
       "[1, 2, 7, 8]"
      ]
     },
     "execution_count": 18,
     "metadata": {},
     "output_type": "execute_result"
    }
   ],
   "source": [
    "x_list = [1, 2, 3, 4]\n",
    "y_list = [5, 6, 7, 8]\n",
    "cond_list = [True, True, False, False]\n",
    "\n",
    "result = []\n",
    "for x, y, c in zip(x_list, y_list, cond_list):   # 4번 순회\n",
    "    if c:\n",
    "        result.append(x)\n",
    "    else:\n",
    "        result.append(y)\n",
    "result"
   ]
  },
  {
   "cell_type": "code",
   "execution_count": 19,
   "id": "9003d8da",
   "metadata": {},
   "outputs": [
    {
     "data": {
      "text/plain": [
       "array([1, 2, 7, 8])"
      ]
     },
     "execution_count": 19,
     "metadata": {},
     "output_type": "execute_result"
    }
   ],
   "source": [
    "x_arr = np.array([1, 2, 3, 4])\n",
    "y_arr = np.array([5, 6, 7, 8])\n",
    "cond_list = np.array([True, True, False, False])\n",
    "\n",
    "# np.where(조건, 조건이 참일 때 취할 깂, 조건이 거짓일 때 취할 값)\n",
    "result = np.where(cond_list, x_list, y_list)\n",
    "result"
   ]
  },
  {
   "cell_type": "code",
   "execution_count": 21,
   "id": "a4e847b8",
   "metadata": {},
   "outputs": [
    {
     "data": {
      "text/plain": [
       "array([[ 0,  1,  2,  3],\n",
       "       [ 4,  5,  6,  7],\n",
       "       [ 8,  9, 10, 11],\n",
       "       [12, 13, 14, 15]])"
      ]
     },
     "execution_count": 21,
     "metadata": {},
     "output_type": "execute_result"
    }
   ],
   "source": [
    "arr = np.arange(16).reshape((4, 4))\n",
    "arr"
   ]
  },
  {
   "cell_type": "code",
   "execution_count": 22,
   "id": "8e544c34",
   "metadata": {},
   "outputs": [
    {
     "data": {
      "text/plain": [
       "array([[False, False, False, False],\n",
       "       [False, False, False, False],\n",
       "       [False, False, False,  True],\n",
       "       [ True,  True,  True,  True]])"
      ]
     },
     "execution_count": 22,
     "metadata": {},
     "output_type": "execute_result"
    }
   ],
   "source": [
    "arr > 10"
   ]
  },
  {
   "cell_type": "code",
   "execution_count": 23,
   "id": "c710f7b4",
   "metadata": {},
   "outputs": [
    {
     "data": {
      "text/plain": [
       "array([[-1, -1, -1, -1],\n",
       "       [-1, -1, -1, -1],\n",
       "       [-1, -1, -1,  1],\n",
       "       [ 1,  1,  1,  1]])"
      ]
     },
     "execution_count": 23,
     "metadata": {},
     "output_type": "execute_result"
    }
   ],
   "source": [
    "cond = arr > 10\n",
    "np.where(cond, 1, -1)"
   ]
  },
  {
   "cell_type": "code",
   "execution_count": 24,
   "id": "5aa212bc",
   "metadata": {},
   "outputs": [
    {
     "data": {
      "text/plain": [
       "array([[ True,  True,  True,  True],\n",
       "       [ True,  True,  True,  True],\n",
       "       [ True,  True, False, False],\n",
       "       [False, False, False, False]])"
      ]
     },
     "execution_count": 24,
     "metadata": {},
     "output_type": "execute_result"
    }
   ],
   "source": [
    "arr < 10"
   ]
  },
  {
   "cell_type": "code",
   "execution_count": 26,
   "id": "b3097097",
   "metadata": {},
   "outputs": [
    {
     "data": {
      "text/plain": [
       "array([[ 1,  1,  1,  1],\n",
       "       [ 1,  1,  1,  1],\n",
       "       [ 1,  1, 10, 11],\n",
       "       [12, 13, 14, 15]])"
      ]
     },
     "execution_count": 26,
     "metadata": {},
     "output_type": "execute_result"
    }
   ],
   "source": [
    "cond = arr < 10\n",
    "result = np.where(cond, 1, arr)\n",
    "result"
   ]
  },
  {
   "cell_type": "markdown",
   "id": "8193e21b",
   "metadata": {},
   "source": [
    "### 3.3 수학 통계 메서드"
   ]
  },
  {
   "cell_type": "code",
   "execution_count": 1,
   "id": "e39ccbbe",
   "metadata": {},
   "outputs": [
    {
     "data": {
      "image/png": "[encoded data removed]",
      "text/plain": [
       "<IPython.core.display.Image object>"
      ]
     },
     "execution_count": 1,
     "metadata": {},
     "output_type": "execute_result"
    }
   ],
   "source": [
    "from IPython.display import Image\n",
    "Image('./images/image5.PNG')"
   ]
  },
  {
   "cell_type": "code",
   "execution_count": 27,
   "id": "5334a192",
   "metadata": {},
   "outputs": [
    {
     "data": {
      "text/plain": [
       "array([[ 0,  1,  2,  3],\n",
       "       [ 4,  5,  6,  7],\n",
       "       [ 8,  9, 10, 11],\n",
       "       [12, 13, 14, 15],\n",
       "       [16, 17, 18, 19]])"
      ]
     },
     "execution_count": 27,
     "metadata": {},
     "output_type": "execute_result"
    }
   ],
   "source": [
    "arr = np.arange(20).reshape((5, 4))\n",
    "arr"
   ]
  },
  {
   "cell_type": "code",
   "execution_count": 28,
   "id": "9d89e962",
   "metadata": {},
   "outputs": [
    {
     "data": {
      "text/plain": [
       "190"
      ]
     },
     "execution_count": 28,
     "metadata": {},
     "output_type": "execute_result"
    }
   ],
   "source": [
    "np.sum(arr)"
   ]
  },
  {
   "cell_type": "code",
   "execution_count": 29,
   "id": "57783302",
   "metadata": {},
   "outputs": [
    {
     "data": {
      "text/plain": [
       "190"
      ]
     },
     "execution_count": 29,
     "metadata": {},
     "output_type": "execute_result"
    }
   ],
   "source": [
    "arr.sum()"
   ]
  },
  {
   "cell_type": "code",
   "execution_count": 31,
   "id": "26d204dd",
   "metadata": {},
   "outputs": [
    {
     "data": {
      "text/plain": [
       "array([40, 45, 50, 55])"
      ]
     },
     "execution_count": 31,
     "metadata": {},
     "output_type": "execute_result"
    }
   ],
   "source": [
    "np.sum(arr, axis = 0)   # \"0번축(열축)을 따라서\" 합 구하기"
   ]
  },
  {
   "cell_type": "code",
   "execution_count": 33,
   "id": "06a40706",
   "metadata": {},
   "outputs": [
    {
     "data": {
      "text/plain": [
       "array([40, 45, 50, 55])"
      ]
     },
     "execution_count": 33,
     "metadata": {},
     "output_type": "execute_result"
    }
   ],
   "source": [
    "arr.sum(0)"
   ]
  },
  {
   "cell_type": "code",
   "execution_count": 34,
   "id": "af06a1f0",
   "metadata": {},
   "outputs": [
    {
     "data": {
      "text/plain": [
       "array([ 6, 22, 38, 54, 70])"
      ]
     },
     "execution_count": 34,
     "metadata": {},
     "output_type": "execute_result"
    }
   ],
   "source": [
    "np.sum(arr, axis = 1)   # \"1번축(행축)을 따라서\" 합 구하기"
   ]
  },
  {
   "cell_type": "code",
   "execution_count": 35,
   "id": "c209f811",
   "metadata": {},
   "outputs": [
    {
     "data": {
      "text/plain": [
       "array([ 8.,  9., 10., 11.])"
      ]
     },
     "execution_count": 35,
     "metadata": {},
     "output_type": "execute_result"
    }
   ],
   "source": [
    "np.mean(arr, 0)  # arr.mean(0)"
   ]
  },
  {
   "cell_type": "code",
   "execution_count": 37,
   "id": "95b3cc69",
   "metadata": {},
   "outputs": [
    {
     "data": {
      "text/plain": [
       "array([[ 0,  1,  2,  3],\n",
       "       [ 4,  5,  6,  7],\n",
       "       [ 8,  9, 10, 11],\n",
       "       [12, 13, 14, 15],\n",
       "       [16, 17, 18, 19]])"
      ]
     },
     "execution_count": 37,
     "metadata": {},
     "output_type": "execute_result"
    }
   ],
   "source": [
    "arr"
   ]
  },
  {
   "cell_type": "code",
   "execution_count": 40,
   "id": "8925f023",
   "metadata": {},
   "outputs": [
    {
     "data": {
      "text/plain": [
       "0"
      ]
     },
     "execution_count": 40,
     "metadata": {},
     "output_type": "execute_result"
    }
   ],
   "source": [
    "arr.min()"
   ]
  },
  {
   "cell_type": "code",
   "execution_count": 41,
   "id": "328a13b3",
   "metadata": {},
   "outputs": [
    {
     "data": {
      "text/plain": [
       "array([0, 1, 2, 3])"
      ]
     },
     "execution_count": 41,
     "metadata": {},
     "output_type": "execute_result"
    }
   ],
   "source": [
    "arr.min(0)"
   ]
  },
  {
   "cell_type": "code",
   "execution_count": 42,
   "id": "c4a929da",
   "metadata": {},
   "outputs": [
    {
     "data": {
      "text/plain": [
       "array([ 0,  4,  8, 12, 16])"
      ]
     },
     "execution_count": 42,
     "metadata": {},
     "output_type": "execute_result"
    }
   ],
   "source": [
    "arr.min(1)"
   ]
  },
  {
   "cell_type": "code",
   "execution_count": 39,
   "id": "9223b4e9",
   "metadata": {},
   "outputs": [
    {
     "data": {
      "text/plain": [
       "19"
      ]
     },
     "execution_count": 39,
     "metadata": {},
     "output_type": "execute_result"
    }
   ],
   "source": [
    "arr.max()"
   ]
  },
  {
   "cell_type": "code",
   "execution_count": 51,
   "id": "3f7bcdd2",
   "metadata": {},
   "outputs": [
    {
     "data": {
      "text/plain": [
       "array([[ 0,  1,  2,  3],\n",
       "       [ 4,  5,  6,  7],\n",
       "       [ 8,  9, 10, 11],\n",
       "       [12, 13, 14, 15],\n",
       "       [16, 17, 18, 19]])"
      ]
     },
     "execution_count": 51,
     "metadata": {},
     "output_type": "execute_result"
    }
   ],
   "source": [
    "arr"
   ]
  },
  {
   "cell_type": "code",
   "execution_count": 53,
   "id": "79ae9900",
   "metadata": {},
   "outputs": [
    {
     "data": {
      "text/plain": [
       "array([[ 0,  1,  2,  3],\n",
       "       [ 4,  6,  8, 10],\n",
       "       [12, 15, 18, 21],\n",
       "       [24, 28, 32, 36],\n",
       "       [40, 45, 50, 55]], dtype=int32)"
      ]
     },
     "execution_count": 53,
     "metadata": {},
     "output_type": "execute_result"
    }
   ],
   "source": [
    "arr.cumsum(0)"
   ]
  },
  {
   "cell_type": "code",
   "execution_count": 54,
   "id": "fe21d5bf",
   "metadata": {},
   "outputs": [
    {
     "data": {
      "text/plain": [
       "array([[ 0,  1,  3,  6],\n",
       "       [ 4,  9, 15, 22],\n",
       "       [ 8, 17, 27, 38],\n",
       "       [12, 25, 39, 54],\n",
       "       [16, 33, 51, 70]], dtype=int32)"
      ]
     },
     "execution_count": 54,
     "metadata": {},
     "output_type": "execute_result"
    }
   ],
   "source": [
    "arr.cumsum(1)"
   ]
  },
  {
   "cell_type": "code",
   "execution_count": 55,
   "id": "723f7594",
   "metadata": {},
   "outputs": [
    {
     "data": {
      "text/plain": [
       "array([[    0,     0,     0,     0],\n",
       "       [    4,    20,   120,   840],\n",
       "       [    8,    72,   720,  7920],\n",
       "       [   12,   156,  2184, 32760],\n",
       "       [   16,   272,  4896, 93024]], dtype=int32)"
      ]
     },
     "execution_count": 55,
     "metadata": {},
     "output_type": "execute_result"
    }
   ],
   "source": [
    "np.cumprod(arr, 1)"
   ]
  },
  {
   "cell_type": "code",
   "execution_count": 56,
   "id": "27cfa4a3",
   "metadata": {},
   "outputs": [
    {
     "data": {
      "text/plain": [
       "array([[    0,     1,     2,     3],\n",
       "       [    0,     5,    12,    21],\n",
       "       [    0,    45,   120,   231],\n",
       "       [    0,   585,  1680,  3465],\n",
       "       [    0,  9945, 30240, 65835]], dtype=int32)"
      ]
     },
     "execution_count": 56,
     "metadata": {},
     "output_type": "execute_result"
    }
   ],
   "source": [
    "np.cumprod(arr, 0)"
   ]
  },
  {
   "cell_type": "markdown",
   "id": "71f59bbf",
   "metadata": {},
   "source": [
    "## 3.4 불리언 배열 메서드"
   ]
  },
  {
   "cell_type": "code",
   "execution_count": 58,
   "id": "312c05cb",
   "metadata": {},
   "outputs": [
    {
     "data": {
      "text/plain": [
       "array([ True, False,  True])"
      ]
     },
     "execution_count": 58,
     "metadata": {},
     "output_type": "execute_result"
    }
   ],
   "source": [
    "bool_arr = np.array([True, False, True])\n",
    "bool_arr"
   ]
  },
  {
   "cell_type": "code",
   "execution_count": 59,
   "id": "59236059",
   "metadata": {},
   "outputs": [
    {
     "data": {
      "text/plain": [
       "False"
      ]
     },
     "execution_count": 59,
     "metadata": {},
     "output_type": "execute_result"
    }
   ],
   "source": [
    "bool_arr.all()     # 모두 True여야 True 반환"
   ]
  },
  {
   "cell_type": "code",
   "execution_count": 60,
   "id": "cb47a86f",
   "metadata": {},
   "outputs": [
    {
     "data": {
      "text/plain": [
       "True"
      ]
     },
     "execution_count": 60,
     "metadata": {},
     "output_type": "execute_result"
    }
   ],
   "source": [
    "bool_arr.any()     # 하나라도 True면 True 반환"
   ]
  },
  {
   "cell_type": "code",
   "execution_count": 62,
   "id": "bee82535",
   "metadata": {},
   "outputs": [
    {
     "data": {
      "text/plain": [
       "array([[ 0,  1,  2,  3,  4,  5,  6,  7],\n",
       "       [ 8,  9, 10, 11, 12, 13, 14, 15]])"
      ]
     },
     "execution_count": 62,
     "metadata": {},
     "output_type": "execute_result"
    }
   ],
   "source": [
    "arr = np.arange(16).reshape((2, 8))\n",
    "arr"
   ]
  },
  {
   "cell_type": "code",
   "execution_count": 64,
   "id": "22000f8f",
   "metadata": {},
   "outputs": [
    {
     "data": {
      "text/plain": [
       "array([[ True,  True,  True,  True,  True,  True,  True,  True],\n",
       "       [False, False, False, False, False, False, False, False]])"
      ]
     },
     "execution_count": 64,
     "metadata": {},
     "output_type": "execute_result"
    }
   ],
   "source": [
    "bool_arr2 = arr < 8\n",
    "bool_arr2"
   ]
  },
  {
   "cell_type": "code",
   "execution_count": 68,
   "id": "13ffa8c5",
   "metadata": {},
   "outputs": [
    {
     "data": {
      "text/plain": [
       "array([ True, False])"
      ]
     },
     "execution_count": 68,
     "metadata": {},
     "output_type": "execute_result"
    }
   ],
   "source": [
    "bool_arr2.all(1)"
   ]
  },
  {
   "cell_type": "code",
   "execution_count": 70,
   "id": "527450ad",
   "metadata": {},
   "outputs": [
    {
     "data": {
      "text/plain": [
       "array([ True,  True,  True,  True,  True,  True,  True,  True])"
      ]
     },
     "execution_count": 70,
     "metadata": {},
     "output_type": "execute_result"
    }
   ],
   "source": [
    "bool_arr2.any(0)"
   ]
  },
  {
   "cell_type": "markdown",
   "id": "a4c12661",
   "metadata": {},
   "source": [
    "## 3.5 정렬"
   ]
  },
  {
   "cell_type": "code",
   "execution_count": 100,
   "id": "34424339",
   "metadata": {},
   "outputs": [
    {
     "data": {
      "text/plain": [
       "array([[ 1.41136621, -0.33310229,  0.03290198,  0.0083959 ],\n",
       "       [-0.99498877,  1.39198241,  1.02860579,  0.4184684 ],\n",
       "       [-0.28346234,  1.05566916,  0.89892159,  2.70374879]])"
      ]
     },
     "execution_count": 100,
     "metadata": {},
     "output_type": "execute_result"
    }
   ],
   "source": [
    "arr = np.random.randn(3, 4)  # np에서 제공하는 표준정규분포를 따르는 무작위수를 지정한 사이즈로 만들어줌\n",
    "arr"
   ]
  },
  {
   "cell_type": "code",
   "execution_count": 103,
   "id": "a87188b6",
   "metadata": {},
   "outputs": [
    {
     "data": {
      "text/plain": [
       "array([[-0.33310229,  0.0083959 ,  0.03290198,  1.41136621],\n",
       "       [-0.99498877,  0.4184684 ,  1.02860579,  1.39198241],\n",
       "       [-0.28346234,  0.89892159,  1.05566916,  2.70374879]])"
      ]
     },
     "execution_count": 103,
     "metadata": {},
     "output_type": "execute_result"
    }
   ],
   "source": [
    "np.sort(arr, 1)"
   ]
  },
  {
   "cell_type": "code",
   "execution_count": 104,
   "id": "86a5ff1e",
   "metadata": {},
   "outputs": [
    {
     "data": {
      "text/plain": [
       "array([[-0.99498877,  0.0083959 ,  0.03290198,  1.39198241],\n",
       "       [-0.33310229,  0.4184684 ,  1.02860579,  1.41136621],\n",
       "       [-0.28346234,  0.89892159,  1.05566916,  2.70374879]])"
      ]
     },
     "execution_count": 104,
     "metadata": {},
     "output_type": "execute_result"
    }
   ],
   "source": [
    "np.sort(arr, 0)"
   ]
  },
  {
   "cell_type": "code",
   "execution_count": 102,
   "id": "ca707416",
   "metadata": {},
   "outputs": [
    {
     "data": {
      "text/plain": [
       "array([[-0.33310229,  0.0083959 ,  0.03290198,  1.41136621],\n",
       "       [-0.99498877,  0.4184684 ,  1.02860579,  1.39198241],\n",
       "       [-0.28346234,  0.89892159,  1.05566916,  2.70374879]])"
      ]
     },
     "execution_count": 102,
     "metadata": {},
     "output_type": "execute_result"
    }
   ],
   "source": [
    "arr.sort(1)\n",
    "arr"
   ]
  },
  {
   "cell_type": "code",
   "execution_count": 105,
   "id": "ca8b8bec",
   "metadata": {},
   "outputs": [
    {
     "data": {
      "text/plain": [
       "array([[-0.99498877,  0.0083959 ,  0.03290198,  1.39198241],\n",
       "       [-0.33310229,  0.4184684 ,  1.02860579,  1.41136621],\n",
       "       [-0.28346234,  0.89892159,  1.05566916,  2.70374879]])"
      ]
     },
     "execution_count": 105,
     "metadata": {},
     "output_type": "execute_result"
    }
   ],
   "source": [
    "arr.sort(0)\n",
    "arr"
   ]
  },
  {
   "cell_type": "markdown",
   "id": "4a17f7d3",
   "metadata": {},
   "source": [
    "## 3.6 집합 관련 함수"
   ]
  },
  {
   "cell_type": "code",
   "execution_count": 108,
   "id": "1c741db4",
   "metadata": {},
   "outputs": [
    {
     "data": {
      "text/plain": [
       "['strawberry', 'strawberry', 'pear', 'apple']"
      ]
     },
     "execution_count": 108,
     "metadata": {},
     "output_type": "execute_result"
    }
   ],
   "source": [
    "fruits_list = [\"strawberry\", \"strawberry\", \"pear\", \"apple\"]  \n",
    "fruits_list"
   ]
  },
  {
   "cell_type": "code",
   "execution_count": 109,
   "id": "b1bfda07",
   "metadata": {},
   "outputs": [
    {
     "data": {
      "text/plain": [
       "{'apple', 'pear', 'strawberry'}"
      ]
     },
     "execution_count": 109,
     "metadata": {},
     "output_type": "execute_result"
    }
   ],
   "source": [
    "set(fruits_list)     # 파이썬의 집합"
   ]
  },
  {
   "cell_type": "code",
   "execution_count": 110,
   "id": "aa118ab4",
   "metadata": {},
   "outputs": [
    {
     "data": {
      "text/plain": [
       "array(['strawberry', 'strawberry', 'pear', 'apple'], dtype='<U10')"
      ]
     },
     "execution_count": 110,
     "metadata": {},
     "output_type": "execute_result"
    }
   ],
   "source": [
    "fruits_array = np.array([\"strawberry\", \"strawberry\", \"pear\", \"apple\"])\n",
    "fruits_array"
   ]
  },
  {
   "cell_type": "code",
   "execution_count": 111,
   "id": "84a6b42a",
   "metadata": {},
   "outputs": [
    {
     "data": {
      "text/plain": [
       "array(['apple', 'pear', 'strawberry'], dtype='<U10')"
      ]
     },
     "execution_count": 111,
     "metadata": {},
     "output_type": "execute_result"
    }
   ],
   "source": [
    "np.unique(fruits_array)"
   ]
  },
  {
   "cell_type": "markdown",
   "id": "26ccb14d",
   "metadata": {},
   "source": [
    "## 3.7 난수 생성"
   ]
  },
  {
   "cell_type": "code",
   "execution_count": 2,
   "id": "40f8c7df",
   "metadata": {},
   "outputs": [
    {
     "data": {
      "image/png": "[encoded data removed]",
      "text/plain": [
       "<IPython.core.display.Image object>"
      ]
     },
     "execution_count": 2,
     "metadata": {},
     "output_type": "execute_result"
    }
   ],
   "source": [
    "Image('./images/image6.png')"
   ]
  },
  {
   "cell_type": "markdown",
   "id": "319bfbd3",
   "metadata": {},
   "source": [
    "- 정규 분포에서 표본을 추출"
   ]
  },
  {
   "cell_type": "code",
   "execution_count": 113,
   "id": "2626f689",
   "metadata": {},
   "outputs": [
    {
     "data": {
      "text/plain": [
       "array([ 9.40373449, 10.77311697,  8.9602145 , 10.46302794,  8.27478306,\n",
       "        9.85815026,  9.19777757,  9.32835396, 10.57432713,  8.0978082 ,\n",
       "       12.47548898, 11.22555424,  9.29893344, 11.1387272 , 11.5656643 ,\n",
       "       10.28720624, 10.58677548,  9.26297899,  8.85506602, 10.92766013,\n",
       "        8.79753656, 11.31590647, 10.52806147, 10.33514911, 11.54570302,\n",
       "       10.40958715,  9.6061083 , 10.33527217,  9.16158906, 10.00230939,\n",
       "       10.1616452 , 11.32648122,  9.65386948,  9.54954527, 10.60922867,\n",
       "        9.00585734,  9.05495838,  8.96710103,  9.92375894,  9.35705486,\n",
       "        7.80525169,  8.36848338, 11.499959  ,  9.59602383, 10.57635008,\n",
       "       10.4850914 ,  9.50888541, 10.21746065, 10.94533544,  8.96785319,\n",
       "        9.54026606, 11.53366628, 10.06608612,  8.30384264, 10.48102482,\n",
       "        9.25431711, 10.70278516, 10.2719315 ,  9.78627233,  9.15330647,\n",
       "        9.96323825, 10.97561617,  7.91078872, 10.54467346,  8.43108555,\n",
       "        9.87332271, 10.51686354,  8.63523206, 10.75832167,  9.45120485,\n",
       "       10.92192693,  9.11181211,  9.04891858, 11.39387565, 10.10406324,\n",
       "        9.45653316,  8.77474789,  9.3422964 ,  9.88436879,  9.45655964,\n",
       "        7.63547748,  8.7303008 , 10.57504927,  9.01744592,  9.3159697 ,\n",
       "       11.81148608,  9.26189121,  9.48181578,  9.80352967,  9.17655671,\n",
       "       10.29459471,  9.55541333,  9.49950155,  8.79718963,  9.14029623,\n",
       "        8.87057391, 11.00509819,  9.25176283,  8.76195446, 12.03122383,\n",
       "       10.46852403,  8.03683187,  9.1527485 , 10.96519975,  9.48745705,\n",
       "       11.04713052,  8.30368801, 10.31193179, 11.2034821 ,  9.54106984,\n",
       "        9.92015444,  9.5328498 , 11.36674247, 10.42557434,  9.81870511,\n",
       "        9.7262829 , 10.37066218,  9.11313492, 11.23993205,  8.54782581,\n",
       "        9.33776168,  9.96264118, 10.15442493, 10.10367247, 10.09355398,\n",
       "       10.26531075,  9.66302417, 10.87894911,  8.80294933, 11.32330717,\n",
       "       12.04477061, 10.44468345,  8.88309837, 11.12272173, 10.59701788,\n",
       "       11.65207904, 10.38949166, 12.75954973,  9.79912705,  9.54551457,\n",
       "        9.96003489, 10.29228366, 11.22920707, 10.68519884, 11.73688213,\n",
       "       10.4712027 ,  9.61372181,  9.45862693,  9.42879097,  9.53065491,\n",
       "        8.61248135, 10.1051105 ,  9.50535015,  8.85162846, 10.47883207,\n",
       "        9.62694419, 10.16130363, 10.07804364, 10.86548815, 10.55224268,\n",
       "        9.9628193 , 10.86396392,  9.11899505, 12.23142298,  9.08181736,\n",
       "        9.23584152, 12.6029804 , 10.34993131, 10.14296701,  9.2025921 ,\n",
       "        9.38547218,  9.80189931, 11.75648916,  9.50133447, 12.02303218,\n",
       "       10.0640338 , 10.57887818, 11.48205947, 10.49277624,  9.81352779,\n",
       "        8.93968389,  9.11380561,  8.11294403,  9.04079444,  8.83925936,\n",
       "        7.98219279,  9.65500625,  9.86883169,  9.99799358, 10.54048445,\n",
       "        8.47724691, 10.26359094, 10.95648176,  9.21585207, 10.19541438,\n",
       "        9.77931127,  9.93259104,  8.21519856, 10.31675692,  9.36283015,\n",
       "       10.29934281,  7.79196882,  9.74379166,  9.78342524,  8.6983499 ,\n",
       "        9.43704755, 10.17073341, 10.88396011, 11.83320952, 10.39404056,\n",
       "        9.94058538, 10.57359408,  9.91622228,  9.12718393, 10.0890254 ,\n",
       "       10.30374772,  9.26675797,  9.60572361,  9.28720029, 10.25241351,\n",
       "        9.3994743 ,  9.69523612, 10.68764899,  9.53913326,  9.11201294,\n",
       "       10.83183528, 12.35334002,  9.8583284 , 10.54019802,  8.84472603,\n",
       "        9.3608541 ,  9.18270446,  9.59600184,  9.36256924, 10.18195627,\n",
       "        9.71723074,  8.64761682, 10.01536829, 10.31046763,  9.74294545,\n",
       "        9.98545754, 10.21778763, 10.09953571,  9.41518766, 10.41563002,\n",
       "        9.51523925, 10.82851816, 10.78586315,  9.02053843,  8.53180294,\n",
       "       12.31680243,  8.69494698,  8.78050649,  9.01744042,  9.38256125,\n",
       "        9.30344817, 10.43832339, 10.34082485, 10.63597919, 10.03140063,\n",
       "       10.12708522, 10.01647839,  9.87224971, 10.05440568, 10.25309478,\n",
       "        9.42549003, 10.5400607 , 10.71179961,  8.46981767,  8.18649362,\n",
       "       10.00596429, 10.81868305,  9.67531598,  9.29476814, 10.70160193,\n",
       "        9.75536903, 10.03903544, 10.05412285, 10.72186281,  8.89246821,\n",
       "       11.92524174,  9.86469917, 10.18736854,  9.74048647,  9.58871649,\n",
       "        8.26189867,  9.55308041,  8.26712854,  9.17854949, 10.86037657,\n",
       "        9.10706509, 10.45859849,  9.41292629, 10.11399209,  9.97129131,\n",
       "       10.55750535, 10.82320806,  8.90541429,  8.70607395,  9.62394052,\n",
       "        9.96323078,  9.44775957, 10.95225696, 10.69489259,  7.37884241,\n",
       "        9.96132759,  8.17514509, 10.0699605 ,  9.94079894,  9.56368077,\n",
       "        9.91101771, 10.40547289,  9.52820409,  9.09381026,  8.89695494,\n",
       "       10.79923238,  9.68441891,  8.98025198, 10.64416907,  8.53719346,\n",
       "       12.16919212,  9.34088544,  9.64482061,  7.12268559, 10.39793925,\n",
       "        9.93774332, 11.85190263, 10.24668941, 10.21379433, 11.4721086 ,\n",
       "       10.19211312, 10.83242781,  9.86340098,  8.87627496,  9.47636599,\n",
       "       10.26299441,  9.30749307, 10.372919  ,  9.03819049,  8.91262083,\n",
       "        9.78992098, 10.10038559,  9.51223072,  9.11357384,  8.70549736,\n",
       "        9.36085027,  7.73401081, 10.2231291 , 10.04968061,  7.35755097,\n",
       "       10.81920127,  9.10763184,  8.8766014 ,  9.71326927, 10.1056929 ,\n",
       "        9.69378489,  9.2912288 , 10.17769721,  9.54187715,  9.83455919,\n",
       "       10.71877911, 10.53877973,  9.57603678,  8.08119366, 10.02791826,\n",
       "        9.40737805,  9.76005444,  9.48498258,  9.1785333 , 10.53020618,\n",
       "       10.26976783,  9.79289093,  7.04115475,  9.31161847, 11.46793099,\n",
       "        9.28722566, 11.61119739,  9.06637753,  8.66617029, 10.3399676 ,\n",
       "        9.2817536 , 10.44210038,  9.82723631, 12.16603776, 10.46773602,\n",
       "       10.82767583, 10.54075332, 10.12605066, 10.23089839,  9.44070972,\n",
       "       11.60212066,  9.92187989, 10.57927133,  9.44176721,  9.29342837,\n",
       "        7.29875658, 11.70826894,  9.98910363,  9.89252404, 11.68133455,\n",
       "       11.26383211, 10.56708018, 10.53860989, 10.7292439 ,  9.14141822,\n",
       "       10.15266926, 10.25233805,  9.81605497,  9.26247477, 11.25048747,\n",
       "       10.90052403, 11.02218483, 10.87195436, 10.26840198, 10.38296842,\n",
       "        8.27849131,  9.64415794, 10.82845574, 10.21023176, 10.79520676,\n",
       "        8.51155952,  7.42763233,  9.36086817, 10.3540255 ,  9.39568205,\n",
       "       11.88245079, 10.29258731,  9.16129163, 10.07091793, 10.91553786,\n",
       "        8.71207299,  9.60515847, 10.43514589, 10.0764263 , 10.09328   ,\n",
       "        9.74871822,  9.6511242 ,  9.7795237 ,  6.900107  , 10.39645444,\n",
       "        8.80297728,  9.34804537,  9.81846167, 10.81884448,  9.2691634 ,\n",
       "       10.13999267, 11.58832431,  9.20451361,  9.09388527,  9.90799806,\n",
       "       10.89582803,  9.79361503, 11.07887721, 10.63421543,  8.34988084,\n",
       "       11.19179279,  9.98619188,  7.67966442,  9.52988848,  8.7969293 ,\n",
       "       10.30331514,  7.93165344, 10.82858443,  8.50395804,  9.49906557,\n",
       "       11.52597312,  9.39481726, 10.62899204,  9.74570462,  8.88941251,\n",
       "        8.90256391,  9.35193905,  7.55136201, 11.89406498, 10.17792402,\n",
       "        9.9956568 ,  9.45037878,  9.95178847, 10.59380568,  9.69959407,\n",
       "        9.47692535, 10.53123602, 11.86172578, 10.46679565,  9.20122314,\n",
       "       11.20194484, 10.42952922, 10.15974625,  9.55075577, 10.32228953,\n",
       "       10.64428437,  9.14746064,  9.86415062,  8.44266915, 10.15442527,\n",
       "        9.72522279, 10.67670949, 11.47693299,  9.86476814,  9.44340968,\n",
       "        8.15176249, 10.4062046 ,  9.98013579, 10.43096659, 10.2406187 ,\n",
       "        9.79222478,  9.62316897,  8.20251085, 11.41768396,  9.15683021,\n",
       "       10.17084281,  9.21716542, 10.34417499,  8.34620693,  8.44655731,\n",
       "       10.30879747, 11.81095401,  8.47334314,  8.7260638 , 11.04474203,\n",
       "       11.25520909,  9.12628041, 10.00037594, 10.78643991, 10.38989313,\n",
       "        8.8224577 ,  8.66125174,  9.94932537,  9.1606661 ,  9.11091778,\n",
       "        9.89768957,  8.20768153, 10.55180559, 10.71271894, 10.6982932 ,\n",
       "        9.4250752 ,  9.47861369,  9.56408953, 10.29353708, 11.26393055,\n",
       "       11.83149653, 11.29049012, 11.02217226,  8.24307608, 10.62286516,\n",
       "       10.93810387,  8.76710576,  8.6648358 ,  9.70165292,  9.84577754,\n",
       "        9.41882324,  9.52479053,  9.05453498,  8.90424069, 10.7271405 ,\n",
       "       11.2431206 ,  9.20483329,  9.5977989 , 10.42175348,  9.24215738,\n",
       "       10.18931146, 11.30585688,  9.63086932, 11.3954769 ,  8.7833782 ,\n",
       "        9.36571389,  9.70236049, 10.00400331, 10.76097861, 10.50811057,\n",
       "        9.1298064 , 10.60655169,  9.71054214,  9.82144038,  8.87716641,\n",
       "        9.380449  ,  9.67715716,  8.61077004, 11.14412308,  8.78334301,\n",
       "        9.08803593, 10.2947093 , 10.66928138, 10.5714167 ,  8.16703026,\n",
       "        9.28303816,  9.8197658 ,  9.10674637,  9.67434887,  9.13200583,\n",
       "       11.40702798, 12.06926645, 10.63755848, 10.65253302, 11.76240845,\n",
       "        9.83635674, 11.48006161,  9.76739556, 10.64652629,  9.60136051,\n",
       "       11.18373941, 10.32293859, 10.13800852, 12.64056076,  9.0767705 ,\n",
       "        8.26974491, 11.65729105, 10.98452657,  9.89818258, 11.25138386,\n",
       "       11.01316553, 10.87328145, 10.50389155,  8.71650208,  9.91329794,\n",
       "       10.76864771,  7.29883005,  9.80339347,  9.06818512, 10.57486852,\n",
       "        9.91375493,  9.85036127,  9.2636894 , 10.86197619,  7.96102895,\n",
       "        8.22747967, 10.29822733, 11.18609246, 10.11740853, 10.63820513,\n",
       "       10.61192025,  9.71220339,  8.48792066,  8.80845823, 11.31624929,\n",
       "       11.95855383, 11.8120853 ,  7.07229131, 11.87252312, 13.06439439,\n",
       "       10.47752072,  8.62308813,  9.70729039, 10.84562706,  8.5621557 ,\n",
       "        9.75533416, 10.16380127, 12.32680551,  9.82702577, 10.84502573,\n",
       "        9.91425773, 11.91009452,  9.03317901, 10.93696961,  7.84491981,\n",
       "       12.03630409,  9.45867395,  7.52787606,  8.9105355 , 10.33509015,\n",
       "        7.89323112, 11.22959936,  9.8791991 ,  8.12011097, 10.27296012,\n",
       "        9.59404365, 10.03868185, 11.11310758, 11.12230799,  9.17877409,\n",
       "        9.03785787,  9.60969552,  8.48735924, 11.09372248,  9.24034819,\n",
       "        9.95526947, 11.08935255, 10.01607825,  7.43592644,  9.98890614,\n",
       "       11.26936665, 11.14074887, 10.60187986,  9.56155245,  9.93916708,\n",
       "        8.69664908,  9.69765166, 10.51954488, 11.03211558,  9.12073324,\n",
       "        8.21190453, 12.0629224 ,  9.12030422,  8.73513611,  9.81760696,\n",
       "        9.0965725 ,  9.80412767, 10.4374695 ,  9.8164433 ,  7.86832323,\n",
       "        9.25448756,  9.28224283,  9.66710781, 10.24259423,  8.67205717,\n",
       "        9.79801606,  7.47223769,  9.99555268, 10.09654708, 10.05911545,\n",
       "       10.83155279,  9.07966067, 10.56251347, 10.70481487, 10.55750841,\n",
       "        9.50380186, 10.74130682,  9.15505563, 11.58009268, 10.43258277,\n",
       "        9.96857052,  9.25086639,  9.37167678, 10.15678063,  9.28393234,\n",
       "       10.69890983, 11.7818995 ,  8.83840556, 10.28039069, 10.67941837,\n",
       "        9.77263522, 11.05510766,  9.62238289,  8.6787118 , 10.66902485,\n",
       "       10.57595354,  8.92192985, 10.65006941, 11.276761  ,  9.28493978,\n",
       "       10.29980541,  8.72226414, 10.04302478,  8.2349261 , 10.65164577,\n",
       "       10.51779107,  9.83790322,  9.58548864,  9.66432689, 11.40147569,\n",
       "        9.16761911, 10.72717659, 10.03853148, 11.3720779 , 10.20007403,\n",
       "        9.76158455, 10.58750153,  8.69291939,  9.51077576,  9.19180586,\n",
       "       10.58194716, 10.3648226 , 10.84676759,  9.54450104, 12.33000813,\n",
       "        9.61926857, 11.52346232,  8.91886174, 10.82808538, 10.75451497,\n",
       "        9.53224041,  8.77845292,  9.2984756 ,  9.78570032,  8.16188569,\n",
       "        8.6368125 ,  9.65630008,  9.67300939, 10.68352516,  9.90104486,\n",
       "       10.44977023, 10.01327988, 12.79274715, 11.32465569, 10.83404433,\n",
       "       10.19337981, 10.39041793,  8.89183175,  9.02634573,  9.13480485,\n",
       "       11.01045874,  9.20829621,  8.45441031, 10.39688198, 10.04717275,\n",
       "       10.3678217 , 10.59580962,  8.3467416 ,  9.40264516,  9.2089228 ,\n",
       "        9.97645838, 11.0266986 ,  8.98428225, 11.76125325, 10.35879748,\n",
       "       10.46395755,  9.51969473,  9.91707203,  9.63740609, 10.80987362,\n",
       "       11.36464511, 10.36895141,  9.51716991, 10.1939642 ,  8.55570095,\n",
       "        8.4280505 ,  9.52447567,  8.23824735, 10.33569562, 10.15466019,\n",
       "       10.08613648, 11.02103799,  9.63191155,  9.79688067, 10.02598812,\n",
       "        9.47792456, 10.3463614 , 10.34661323, 11.36776597,  8.78158952,\n",
       "       11.19245752,  8.02829278, 10.18332126, 10.02753228, 10.20799122,\n",
       "        8.86656449,  8.59934523, 10.42798384,  8.63113457, 10.18377777,\n",
       "       11.8299736 ,  8.97334023,  9.74104555, 11.71317187,  8.57344282,\n",
       "       11.05518911,  7.9760188 ,  9.03631081,  8.78987163,  9.4635052 ,\n",
       "       10.70567298,  9.69688652,  9.24298626,  9.34336774,  7.97371012,\n",
       "        9.67078794, 12.04873445, 10.01824326,  8.28912112, 10.13392141,\n",
       "        9.00418504,  9.74169944, 10.94569121, 10.31333193,  9.56736057,\n",
       "       10.20729041, 10.71526883, 10.92824907,  9.59907687, 11.54292824,\n",
       "       11.03416861,  9.8318982 , 10.09466531,  7.72093574, 10.5551699 ,\n",
       "       10.33934327, 10.16765579, 11.35590625,  8.54800517, 10.75129773,\n",
       "        9.85487135, 11.02315009, 10.84093445,  9.98475305,  8.74683456,\n",
       "       11.0618994 ,  9.7269326 , 10.51069432, 10.93509586, 10.7950982 ,\n",
       "       11.22032444,  9.52182418,  9.33519217,  8.73525408,  9.5856594 ,\n",
       "        9.36876153, 10.51978003,  8.95188378, 10.12834844, 10.33403806,\n",
       "       10.56894081, 10.84054767, 10.5516068 , 10.43769538,  9.80025268,\n",
       "        8.53588009,  9.31124257, 10.75318244,  9.68198692,  9.05435427,\n",
       "        9.60961296,  9.7262084 ,  9.60657646,  9.91201252, 10.70085564,\n",
       "       10.11700548, 11.51022965,  8.74740613, 10.60657692, 10.43349552,\n",
       "        8.03546171, 10.21246106, 10.62433906, 11.31329071,  8.86507062,\n",
       "       10.38980765, 11.37183372, 11.96521529,  8.46505775,  8.11088842,\n",
       "        7.77614204, 11.15990827,  9.10302879, 10.54527662,  8.92640068,\n",
       "       12.05667555,  9.80892101,  8.54993673, 11.84417116,  8.4966462 ,\n",
       "        9.9377769 ,  8.58356489, 11.23717793,  9.15274062, 10.44747596,\n",
       "       10.59513617,  9.21030879,  9.39583365,  9.91279517,  9.92943032,\n",
       "       10.48528406, 10.26065498, 11.01502426,  8.98154683, 11.71847915,\n",
       "        8.21568374,  9.95448765, 10.54754651,  9.61187223,  9.76959839,\n",
       "       11.04587733, 10.21066058,  9.32707949,  9.98806558, 10.66370995,\n",
       "        9.891604  ,  9.65522798,  9.83673145,  8.42649173,  9.37352663,\n",
       "        9.88649126, 10.1506869 , 10.6805816 , 10.20139259, 11.06392163,\n",
       "        7.59033178,  9.88483869,  9.80611524, 10.03769833,  8.85935021,\n",
       "       12.29877333, 10.20685406, 10.63985136, 11.01123951, 10.11070461,\n",
       "       10.62398455, 10.85025472, 10.59796013,  8.91212408,  9.23874334,\n",
       "       11.16760203, 11.19676935,  8.50307925, 11.6995677 ,  8.99206453,\n",
       "       10.83538799,  9.35620566, 10.0046788 , 10.5640655 , 10.3439381 ])"
      ]
     },
     "execution_count": 113,
     "metadata": {},
     "output_type": "execute_result"
    }
   ],
   "source": [
    "samples = np.random.normal(size = 1000, loc = 10, scale = 1)\n",
    "samples"
   ]
  },
  {
   "cell_type": "code",
   "execution_count": 115,
   "id": "c58883fd",
   "metadata": {},
   "outputs": [
    {
     "data": {
      "text/plain": [
       "6.9001070006994265"
      ]
     },
     "execution_count": 115,
     "metadata": {},
     "output_type": "execute_result"
    }
   ],
   "source": [
    "samples.min()"
   ]
  },
  {
   "cell_type": "code",
   "execution_count": 116,
   "id": "804ed9f7",
   "metadata": {},
   "outputs": [
    {
     "data": {
      "text/plain": [
       "13.064394391469483"
      ]
     },
     "execution_count": 116,
     "metadata": {},
     "output_type": "execute_result"
    }
   ],
   "source": [
    "samples.max()"
   ]
  },
  {
   "cell_type": "code",
   "execution_count": 117,
   "id": "2bf4d0c8",
   "metadata": {},
   "outputs": [
    {
     "data": {
      "text/plain": [
       "9.925157329018257"
      ]
     },
     "execution_count": 117,
     "metadata": {},
     "output_type": "execute_result"
    }
   ],
   "source": [
    "samples.mean()"
   ]
  },
  {
   "cell_type": "code",
   "execution_count": 118,
   "id": "f7d535a4",
   "metadata": {},
   "outputs": [
    {
     "data": {
      "text/plain": [
       "1.0020742822195536"
      ]
     },
     "execution_count": 118,
     "metadata": {},
     "output_type": "execute_result"
    }
   ],
   "source": [
    "samples.std()   # 표준편차 구하기"
   ]
  },
  {
   "cell_type": "code",
   "execution_count": 126,
   "id": "bb35c348",
   "metadata": {},
   "outputs": [],
   "source": [
    "import matplotlib.pyplot as plt"
   ]
  },
  {
   "cell_type": "code",
   "execution_count": 128,
   "id": "80384bf8",
   "metadata": {},
   "outputs": [
    {
     "data": {
      "text/plain": [
       "(array([ 1.,  0.,  2.,  1.,  0.,  0.,  2.,  2.,  2.,  1.,  2.,  2.,  1.,\n",
       "         2.,  3.,  2.,  3.,  4.,  3.,  5.,  5.,  9.,  8.,  4.,  3., 10.,\n",
       "        11.,  6.,  9., 15., 15., 10., 17., 10., 15., 20., 23., 16., 24.,\n",
       "        21., 18., 20., 26., 24., 21., 21., 24., 29., 26., 23., 28., 22.,\n",
       "        22., 26., 17., 30., 19., 23., 16., 36., 20., 22., 11., 23., 13.,\n",
       "        12., 12., 11.,  7.,  9., 13.,  9.,  8.,  3.,  7.,  7.,  3.,  4.,\n",
       "         7.,  6.,  6.,  3.,  2.,  8.,  0.,  2.,  1.,  2.,  3.,  0.,  1.,\n",
       "         0.,  1.,  1.,  0.,  2.,  0.,  0.,  0.,  1.]),\n",
       " array([ 6.900107  ,  6.96174987,  7.02339275,  7.08503562,  7.1466785 ,\n",
       "         7.20832137,  7.26996424,  7.33160712,  7.39324999,  7.45489287,\n",
       "         7.51653574,  7.57817861,  7.63982149,  7.70146436,  7.76310724,\n",
       "         7.82475011,  7.88639298,  7.94803586,  8.00967873,  8.0713216 ,\n",
       "         8.13296448,  8.19460735,  8.25625023,  8.3178931 ,  8.37953597,\n",
       "         8.44117885,  8.50282172,  8.5644646 ,  8.62610747,  8.68775034,\n",
       "         8.74939322,  8.81103609,  8.87267897,  8.93432184,  8.99596471,\n",
       "         9.05760759,  9.11925046,  9.18089334,  9.24253621,  9.30417908,\n",
       "         9.36582196,  9.42746483,  9.4891077 ,  9.55075058,  9.61239345,\n",
       "         9.67403633,  9.7356792 ,  9.79732207,  9.85896495,  9.92060782,\n",
       "         9.9822507 , 10.04389357, 10.10553644, 10.16717932, 10.22882219,\n",
       "        10.29046507, 10.35210794, 10.41375081, 10.47539369, 10.53703656,\n",
       "        10.59867944, 10.66032231, 10.72196518, 10.78360806, 10.84525093,\n",
       "        10.9068938 , 10.96853668, 11.03017955, 11.09182243, 11.1534653 ,\n",
       "        11.21510817, 11.27675105, 11.33839392, 11.4000368 , 11.46167967,\n",
       "        11.52332254, 11.58496542, 11.64660829, 11.70825117, 11.76989404,\n",
       "        11.83153691, 11.89317979, 11.95482266, 12.01646554, 12.07810841,\n",
       "        12.13975128, 12.20139416, 12.26303703, 12.3246799 , 12.38632278,\n",
       "        12.44796565, 12.50960853, 12.5712514 , 12.63289427, 12.69453715,\n",
       "        12.75618002, 12.8178229 , 12.87946577, 12.94110864, 13.00275152,\n",
       "        13.06439439]),\n",
       " <BarContainer object of 100 artists>)"
      ]
     },
     "execution_count": 128,
     "metadata": {},
     "output_type": "execute_result"
    },
    {
     "data": {
      "image/png": "[encoded data removed]",
      "text/plain": [
       "<Figure size 432x288 with 1 Axes>"
      ]
     },
     "metadata": {
      "needs_background": "light"
     },
     "output_type": "display_data"
    }
   ],
   "source": [
    "plt.hist(samples, 100)"
   ]
  },
  {
   "cell_type": "markdown",
   "id": "085a1cb7",
   "metadata": {},
   "source": [
    "- 표준 정규분포에서 표본을 추출"
   ]
  },
  {
   "cell_type": "code",
   "execution_count": 133,
   "id": "6f073ea1",
   "metadata": {},
   "outputs": [
    {
     "data": {
      "text/plain": [
       "array([-1.04007313e+00,  1.67440568e+00, -5.33703100e-01,  1.25531419e+00,\n",
       "       -5.44194605e-01,  8.22768875e-02, -3.12887244e-01,  1.32226634e+00,\n",
       "        1.60507764e+00, -1.14428252e-01, -9.71604415e-01,  2.52420213e-01,\n",
       "       -1.97648773e-01,  5.98760265e-01,  1.69995484e-01,  1.02958319e+00,\n",
       "       -5.26819647e-01,  5.69261360e-01,  4.88777171e-01, -2.89496294e-01,\n",
       "        1.29812141e-01, -6.02904848e-01,  1.04183133e-01, -8.89215813e-01,\n",
       "        9.53316297e-01,  2.08597494e-01,  4.72269124e-01,  1.89431873e+00,\n",
       "        3.52416147e-01,  1.23059503e+00, -2.05607248e+00,  1.02954437e+00,\n",
       "        9.27051986e-01, -1.32233077e+00, -1.84129163e+00,  9.15375423e-01,\n",
       "       -2.79202966e-01,  8.91279259e-02,  7.02582922e-01,  1.43217505e+00,\n",
       "        7.84961537e-01, -1.88703850e+00,  4.25226836e-01, -1.06301005e-01,\n",
       "        4.15279106e-01,  2.39915256e-01,  8.57331509e-01, -1.46278304e+00,\n",
       "        1.04263866e+00, -7.72160458e-01, -3.77662788e-01,  1.64147920e-01,\n",
       "       -5.62128096e-01, -1.31005314e-01,  9.50994297e-01, -4.65271249e-02,\n",
       "        8.04686220e-02, -2.39842492e+00,  1.26941713e+00,  2.42807893e-01,\n",
       "        1.03499394e+00,  1.08715660e+00, -6.66548616e-01, -1.08589007e+00,\n",
       "        8.67180365e-01,  1.31582278e+00,  4.39069534e-01,  9.02342458e-01,\n",
       "       -6.54846410e-01,  6.44812489e-01,  1.38502124e+00, -1.41688091e-01,\n",
       "        3.88633426e-01, -1.48067424e-01, -2.24664981e-01,  5.68705410e-02,\n",
       "        7.55387598e-01, -1.83235461e+00, -5.07123305e-01,  7.78691650e-01,\n",
       "        6.79892192e-01,  6.48166464e-01,  8.15821996e-01, -2.22686699e+00,\n",
       "       -6.92354559e-01, -1.00504823e+00,  5.90085090e-01,  2.39883063e+00,\n",
       "        1.11122139e+00, -1.29712353e+00, -7.91865673e-03,  1.05665960e-01,\n",
       "       -1.73289288e-01,  1.58702268e-02,  5.53373961e-01,  4.92768228e-01,\n",
       "       -1.74717980e-01,  1.41929021e+00, -1.98998316e+00,  4.77946393e-02,\n",
       "       -7.17542271e-01, -2.25077090e+00,  1.33204352e+00, -1.56036487e+00,\n",
       "       -3.36994826e-01, -8.90215863e-02,  8.43915828e-01, -1.11361280e-01,\n",
       "       -2.32104350e+00,  1.47457833e-01,  1.07745799e-01, -2.54951977e-01,\n",
       "        1.15567082e+00,  1.49152080e+00,  4.13761254e-01,  9.21718066e-01,\n",
       "       -2.65456032e-01,  1.54127877e+00,  1.38534802e+00, -1.11645057e-01,\n",
       "        1.29392935e-01, -1.59143790e+00,  1.87585239e+00, -1.38883547e+00,\n",
       "        1.10901854e+00, -7.09568691e-02,  3.77701218e-02,  1.04753277e+00,\n",
       "        1.60654263e-01, -2.37870196e+00, -1.45985453e+00, -2.51295714e-01,\n",
       "        1.03335433e+00,  6.60550187e-01,  1.52087858e+00, -2.95727465e-02,\n",
       "       -3.08792655e-01, -7.23214875e-01,  8.04761698e-01, -5.78682115e-01,\n",
       "       -3.46129981e-01, -9.92906559e-01,  3.90296893e-01,  1.47945026e+00,\n",
       "        3.37681096e-01, -1.05524061e+00, -4.08388723e-01,  9.80429121e-02,\n",
       "       -2.90937173e-01, -4.44175178e-01, -1.14779799e+00,  4.66963118e-01,\n",
       "       -1.80458833e+00,  7.86453362e-02,  5.99187468e-01, -1.11880177e+00,\n",
       "        2.04265821e-02,  8.02491044e-01,  1.05307873e+00, -8.90415627e-01,\n",
       "        1.08824926e+00, -2.79381553e-01, -1.66272067e+00,  5.47692477e-01,\n",
       "       -2.42645649e-01,  1.39271495e-01, -1.64631797e+00, -7.17749045e-02,\n",
       "        1.90382687e-01, -1.77912402e-02, -9.68469073e-02,  8.65730659e-01,\n",
       "        2.01942641e+00, -3.86008071e-01,  1.61818248e+00, -1.99672435e-01,\n",
       "        1.08128581e+00,  5.60413912e-01, -6.21360971e-02, -2.52844294e-01,\n",
       "        4.16407542e-01, -5.17928387e-01,  2.30775450e+00,  2.17367711e+00,\n",
       "       -1.76140234e-01,  7.36197694e-01, -9.13861685e-03,  2.99734675e-01,\n",
       "       -1.57852899e+00, -6.89650567e-01,  2.07241109e+00,  7.85830378e-03,\n",
       "        1.28918257e+00,  1.53492450e+00,  2.48924415e-01,  2.78685089e-01,\n",
       "        9.59126630e-01, -4.27818704e-02,  4.64027918e-01, -5.01657632e-01,\n",
       "       -2.00809970e-01, -2.89038197e+00, -3.36037998e-01,  3.68181512e-01,\n",
       "        1.26834825e+00, -3.28092047e-02,  2.01554647e-01,  1.07049097e+00,\n",
       "       -7.47672742e-01,  2.23249758e-01, -1.33826759e+00,  1.37103861e+00,\n",
       "       -1.35058003e+00, -1.00016818e+00,  6.73582290e-01,  6.74391871e-01,\n",
       "       -1.49168131e+00,  4.18837154e-01, -1.07985944e+00,  4.42450659e-01,\n",
       "       -2.71941227e-02,  6.23539926e-01, -1.00729676e+00, -2.15687060e-01,\n",
       "       -2.36439467e-01, -6.61019910e-01, -8.19500305e-01,  4.15666450e-01,\n",
       "        6.71212293e-01,  1.67485112e+00,  3.72941244e-01, -6.99201755e-01,\n",
       "       -3.09135958e-01,  1.67107932e+00,  6.68475336e-01,  6.04140799e-01,\n",
       "       -1.28783640e-01,  1.23427351e+00, -2.41027965e-01,  1.72178368e-01,\n",
       "       -6.37937228e-01,  7.70666856e-01, -7.44834222e-01, -6.62198321e-01,\n",
       "        5.42299651e-01, -9.59468463e-01, -4.38428866e-01,  1.21988983e+00,\n",
       "       -8.89203589e-01, -1.15542182e+00,  4.85820247e-01,  1.00582418e+00,\n",
       "        6.65747282e-01,  5.91174889e-01,  5.87318179e-01,  2.71476198e-01,\n",
       "       -7.57935263e-01, -8.69413027e-01,  1.72219382e+00, -1.88972082e+00,\n",
       "       -6.43482479e-01,  1.16763737e+00,  2.00204364e-01,  4.73105750e-01,\n",
       "       -1.83146528e+00,  1.42568757e+00,  1.12283409e+00, -1.49639676e+00,\n",
       "       -1.98546652e+00, -1.53688457e-01,  1.66842254e+00,  5.00775612e-01,\n",
       "        1.33705277e-02,  3.31992564e-01, -7.43688836e-01, -4.47850811e-01,\n",
       "        5.05484578e-01,  2.89139182e+00,  4.45293165e-01,  8.49668768e-02,\n",
       "       -3.18199181e-01,  9.80552707e-01, -2.00609101e-01,  9.29832900e-01,\n",
       "       -1.29978113e-01, -7.62050835e-01,  8.49851190e-01, -5.50339602e-01,\n",
       "       -7.06868890e-02,  1.45689765e+00, -7.36442210e-01,  9.67706049e-01,\n",
       "       -1.44647194e-01, -1.12973143e+00,  4.68335687e-01, -3.75738253e-01,\n",
       "        3.31000576e-01, -3.79687875e-01,  8.09692476e-01,  1.66994308e+00,\n",
       "       -1.04019819e+00,  6.60762239e-01, -9.25201457e-01, -5.37771217e-01,\n",
       "        2.00742545e-01,  1.28691243e+00,  1.06045509e+00,  7.95625830e-01,\n",
       "       -4.02227663e-01,  5.90018476e-02,  9.00131578e-01, -9.40202583e-01,\n",
       "        1.08365989e+00,  3.16004576e-01,  8.42994267e-01, -2.01562982e-01,\n",
       "       -4.31873057e-01,  8.90867541e-01, -1.53605632e+00, -6.29281651e-01,\n",
       "        1.14852768e+00, -3.63259587e-01,  3.10541446e-02,  1.21621357e+00,\n",
       "       -1.66158323e+00,  1.84417782e+00, -7.13401660e-01,  3.79896754e-03,\n",
       "        2.07962954e-01, -7.04456810e-01,  8.29589354e-01, -8.09130267e-01,\n",
       "        1.15549319e+00, -1.33480587e-02,  4.78518482e-01, -2.28426526e-01,\n",
       "       -1.38172184e+00, -2.12137991e+00,  4.17695661e-02, -4.80464592e-02,\n",
       "       -7.98524922e-02, -1.68709658e+00,  1.76208793e+00, -9.81726255e-01,\n",
       "       -1.56945263e+00,  4.27443294e-01,  1.09549201e+00,  1.14979285e-01,\n",
       "        1.45728345e+00,  3.85073389e-03,  1.54936673e+00,  7.45503662e-01,\n",
       "       -6.09213681e-01,  1.02868220e-01, -1.22583293e+00,  7.38345071e-01,\n",
       "        9.61368517e-01, -1.15305316e+00,  1.90145996e-01, -9.90349376e-01,\n",
       "        1.42542551e+00,  6.54866910e-01, -1.01391620e-01,  1.87101607e-01,\n",
       "       -1.59613070e+00, -2.60811520e-01, -8.87804766e-01, -8.41423221e-01,\n",
       "        1.13646636e+00,  1.39718937e+00,  1.42298175e+00,  2.36352599e-01,\n",
       "       -4.69647358e-01,  2.87984707e-01, -1.40852591e-01, -2.20603494e-01,\n",
       "        1.23876552e+00,  3.74540225e-01,  5.29783706e-01, -5.20113672e-01,\n",
       "       -3.05582854e-01,  1.27795853e+00, -1.15669562e+00, -4.99420448e-01,\n",
       "        1.14170161e+00, -4.34924984e-01, -2.11875185e-02, -6.15187119e-01,\n",
       "        5.98287749e-01,  4.53559198e-01, -7.39528269e-01,  4.40450224e-01,\n",
       "       -8.66630216e-01,  1.18843793e-01,  1.40362091e+00, -5.09369832e-01,\n",
       "        2.78862285e+00, -1.35047483e+00,  7.81721182e-01,  1.42137716e+00,\n",
       "        1.57044142e-01,  1.68374789e+00, -2.43241333e-02,  9.42309763e-01,\n",
       "       -6.96557361e-01, -2.82763586e-01,  1.22952191e-01, -1.23582650e+00,\n",
       "       -1.49772790e+00,  1.30195957e+00,  7.52101993e-01, -6.47280586e-01,\n",
       "       -5.67686326e-02,  1.67715987e-02,  6.05913631e-01, -3.16553404e-01,\n",
       "        7.31561025e-01,  6.99651486e-01, -4.54098816e-01, -7.83059271e-01,\n",
       "       -2.58788577e+00, -5.66865919e-01,  6.17283816e-01, -5.28319713e-01,\n",
       "       -1.79940794e-01,  4.83789954e-01, -1.96086282e+00, -1.06895083e+00,\n",
       "       -3.89009983e-01, -7.06003286e-01,  2.79213759e-01,  3.75895463e-01,\n",
       "        1.51194096e+00, -5.64857752e-01, -4.20085456e-01,  3.66728473e-01,\n",
       "       -4.50415775e-01,  1.65824505e+00,  2.05079982e-01,  1.09774975e-01,\n",
       "       -4.88838200e-01, -1.02373488e-01,  6.89211873e-01, -2.03631867e+00,\n",
       "       -1.67533821e+00, -3.75628873e-02, -7.37807107e-01, -2.45393367e+00,\n",
       "       -1.70365676e-01,  1.20746707e-01, -1.34377280e+00, -1.81616183e+00,\n",
       "        8.07721745e-01,  6.88211069e-03, -1.16373157e+00, -2.89117926e-01,\n",
       "        2.49305534e-01, -4.57779835e-01, -1.17785684e+00,  5.07027258e-01,\n",
       "        4.22998435e-01,  5.17046862e-02, -1.82689324e+00, -6.42359716e-01,\n",
       "        8.89485762e-01,  4.22841168e-01, -1.10302290e+00, -2.72074932e-01,\n",
       "       -1.13041059e+00, -6.92214414e-01,  4.20032997e-01, -2.07516843e-01,\n",
       "        1.79317793e+00, -1.07322949e+00, -5.72007368e-01, -4.50000890e-01,\n",
       "       -1.32619503e+00, -2.38982369e-01, -1.28184421e+00,  5.42305559e-01,\n",
       "        1.94309858e+00,  2.35453541e-01, -3.23924218e-01,  1.29490839e+00,\n",
       "        1.57134561e+00,  1.25215987e+00, -4.42902362e-02,  5.87289688e-01,\n",
       "       -5.98048884e-01,  1.09549325e+00,  1.75047835e+00,  5.51712823e-01,\n",
       "        1.41956018e+00, -1.00029018e+00,  8.72175595e-01,  3.00530169e-01,\n",
       "       -4.44769175e-01, -4.65790367e-01, -2.93989990e-01,  1.98567428e+00,\n",
       "       -5.11765094e-01, -1.67366574e+00,  4.79371993e-01,  6.65875272e-02,\n",
       "       -1.68961514e+00,  8.09359144e-01, -2.62505563e-01,  2.15935737e-01,\n",
       "       -1.35006270e-01, -1.62684504e+00, -1.50011576e-01, -1.46961009e+00,\n",
       "       -3.31716084e-01, -1.58393903e-01, -1.08523941e-01, -1.21332443e+00,\n",
       "        1.23889323e-01,  6.28701461e-02, -2.49033015e-01,  3.74744429e-01,\n",
       "       -1.90711602e-01, -4.80833845e-01,  1.59928175e-01,  1.63815230e+00,\n",
       "        5.63441626e-01, -1.47624005e+00, -3.00354315e-01, -4.89656584e-01,\n",
       "        1.50976168e+00,  6.10454183e-01, -2.25285188e-01,  3.83572921e-01,\n",
       "        3.52431566e-02,  3.52936198e-01,  1.43262056e+00,  2.26816989e-01,\n",
       "        2.14233202e-01, -1.46729608e+00,  3.60302956e-01,  4.56190133e-01,\n",
       "       -9.17723928e-01, -7.97056494e-01, -4.33362441e-01, -8.19433073e-01,\n",
       "        3.48236839e+00,  4.22247200e-01, -2.97488489e-01, -1.27422862e+00,\n",
       "        7.02620101e-01, -1.58716440e+00, -4.44139221e-01, -6.89672903e-01,\n",
       "       -1.81739688e-01, -1.34211456e+00, -1.03047077e+00,  7.04360510e-01,\n",
       "        1.04534223e+00,  1.32474482e+00, -3.43027549e-01,  8.88516708e-01,\n",
       "       -4.44625946e-01,  1.13116503e+00,  1.46913942e-01,  2.18903163e+00,\n",
       "       -3.37122108e-01, -9.13023200e-01, -5.23076989e-02, -1.22169538e+00,\n",
       "       -1.05160980e+00,  9.62503010e-01,  6.82207668e-01,  7.54378630e-01,\n",
       "        3.75066543e-01,  3.21929739e-01, -1.42639574e+00,  8.09208672e-01,\n",
       "        1.99253949e+00,  9.13731926e-01,  1.71983123e+00,  1.27499157e-01,\n",
       "       -3.27284518e-01, -8.42530874e-01,  7.22045167e-01,  4.38137081e-01,\n",
       "        5.71864802e-01, -1.10581832e+00,  1.72625711e+00, -2.05579742e+00,\n",
       "       -5.79934674e-01, -1.16099858e+00,  1.09088671e+00,  6.52875273e-01,\n",
       "       -5.28540331e-01,  7.90520380e-01,  1.63833615e+00,  8.61471082e-01,\n",
       "       -3.07222602e-01,  8.72575149e-01,  1.02273942e+00, -1.94904562e-01,\n",
       "        1.66688834e+00,  6.74343229e-02, -9.26431422e-01, -3.25012334e-01,\n",
       "        6.29398575e-01, -9.33840382e-01, -6.85707020e-01,  8.98816334e-01,\n",
       "       -1.44767138e+00,  9.99996325e-01, -9.48559302e-01, -6.22858291e-01,\n",
       "       -9.80837624e-01, -1.13998239e+00, -1.11528197e+00,  1.65587304e-01,\n",
       "        6.76355557e-01, -6.40959883e-01,  5.53974316e-01, -1.03160324e+00,\n",
       "        7.72009713e-01, -1.01238199e-01,  5.95743302e-01, -8.23408014e-01,\n",
       "        1.09215243e+00,  5.43956770e-01,  1.20002889e+00,  7.26476501e-01,\n",
       "        1.29270552e+00, -1.19978680e+00, -2.35027520e+00,  1.00269896e+00,\n",
       "       -2.22554674e+00,  2.37956897e-01,  1.30025963e-01, -9.84178353e-01,\n",
       "        1.51022507e+00, -1.62194807e-01,  5.90259982e-01, -5.37256223e-01,\n",
       "       -1.84743387e-01,  1.60419321e-02,  9.21843047e-01,  2.71596264e-01,\n",
       "       -2.37538972e-01, -1.29584552e+00,  1.13972102e+00, -4.04193880e-01,\n",
       "       -2.58326753e-02, -6.00118948e-01, -9.97737190e-02, -4.87338888e-01,\n",
       "        1.39231779e+00, -1.37126047e+00,  1.15068433e-01,  1.73662087e-01,\n",
       "       -1.98503253e+00,  1.39928482e+00, -2.61076939e-03, -9.22710765e-01,\n",
       "       -4.95138211e-01, -1.63931487e+00, -1.10125864e+00, -1.07324802e+00,\n",
       "        6.15057139e-01, -8.51163735e-01,  1.05464652e-01, -2.20597781e+00,\n",
       "        1.64654131e-01, -1.33840185e+00,  2.69090602e+00, -1.04321431e+00,\n",
       "       -9.87320624e-01, -5.53389283e-01,  5.00349028e-01, -8.50684289e-01,\n",
       "        1.82050170e+00, -1.03914814e+00,  1.57321175e+00,  1.75938613e+00,\n",
       "        1.25956598e-01,  1.60768809e+00, -1.05565860e+00, -3.64606433e-01,\n",
       "       -6.95834589e-01,  9.46747749e-01, -7.03236548e-01, -2.81877402e-01,\n",
       "        2.83984538e-01,  1.60123499e+00, -5.96903355e-01,  1.53979229e+00,\n",
       "        1.87656633e+00, -3.93026422e-02, -4.96227527e-01,  1.15517398e+00,\n",
       "        1.33310392e+00,  3.64093219e-01, -8.69887895e-01, -8.70053149e-01,\n",
       "       -1.08932004e-01, -8.36028895e-01, -1.48246112e+00, -1.73294204e+00,\n",
       "        6.57324987e-01, -1.16518421e+00,  1.04688542e+00,  2.27953771e+00,\n",
       "        6.95944994e-01, -1.34231497e+00, -5.21905123e-01,  1.88857289e+00,\n",
       "        5.64231096e-01, -1.04369203e+00, -6.61391489e-01, -5.66469699e-01,\n",
       "       -2.95320937e-01,  5.68344794e-01,  7.70288271e-02, -2.10928250e+00,\n",
       "        1.05917537e+00, -2.41208240e-01, -2.45654040e+00, -3.00481626e-01,\n",
       "        2.38664410e-01,  1.27835742e+00, -9.03614470e-01,  1.64578191e-01,\n",
       "        5.24284430e-01, -6.69081830e-01,  8.76775391e-01, -1.71003983e+00,\n",
       "       -8.83531121e-02, -2.12487338e-01, -9.70903393e-01, -1.30570953e+00,\n",
       "       -9.45462731e-01,  7.09090230e-02, -9.28379262e-01, -6.40896981e-01,\n",
       "        8.08855778e-01,  3.62532921e-01, -5.86973516e-01, -4.76321205e-01,\n",
       "        6.40356584e-01, -1.41400698e+00, -6.94378677e-01, -5.06213219e-01,\n",
       "       -1.33838221e-02, -6.45421770e-01,  6.62694534e-01, -1.68692290e-01,\n",
       "       -5.84664961e-01,  9.56311699e-01, -2.65063932e-02, -1.85804978e+00,\n",
       "       -3.59880833e-01,  8.33342645e-01, -1.34441341e+00, -1.60387857e+00,\n",
       "        1.35912539e+00, -2.80881192e-01, -8.04076393e-01,  1.08867838e+00,\n",
       "       -2.97673041e+00, -7.06865711e-01, -4.84935043e-01, -8.38369242e-01,\n",
       "       -1.03501605e+00, -1.40899957e+00,  1.77147808e+00,  5.73293973e-01,\n",
       "        5.70348112e-01, -2.00538011e+00,  3.60009794e-01,  1.19479601e+00,\n",
       "       -9.64401433e-01, -1.17294632e+00,  5.76290249e-01, -8.34547911e-01,\n",
       "       -1.62199548e+00,  6.01938686e-01, -3.10959748e-01, -7.08131060e-01,\n",
       "        7.41606526e-01, -4.07249420e-01, -2.13858400e-01,  4.95018513e-01,\n",
       "       -1.34353005e-01, -6.45482351e-01,  4.40023158e-02,  4.70134531e-01,\n",
       "        1.28128706e+00,  3.42020905e-01,  1.97390186e+00, -7.61744427e-01,\n",
       "       -1.11633569e+00,  4.51369358e-01,  1.32127939e+00, -5.64887869e-01,\n",
       "       -8.53824778e-01, -5.90573347e-01, -1.66635291e+00,  4.74860061e-01,\n",
       "        1.46641974e+00, -8.15881806e-03,  6.86123026e-01, -1.40895302e+00,\n",
       "        8.18523495e-01, -1.25826390e+00, -9.28589535e-01,  6.33747853e-02,\n",
       "       -1.17701881e+00, -1.45456168e-02, -5.92560871e-01, -1.01392765e+00,\n",
       "       -2.62568059e-02, -5.44669082e-01,  9.97801063e-01, -3.41699501e-01,\n",
       "        9.72726854e-01, -1.00530865e+00,  2.25453586e+00, -3.92193158e-01,\n",
       "       -1.66906172e+00, -1.50048857e+00, -1.50250840e+00,  5.65661867e-01,\n",
       "       -1.14906800e-01,  5.79609899e-01, -6.15831811e-01, -8.39274328e-01,\n",
       "        1.26697323e+00, -3.15431522e-03, -1.82808603e+00,  1.83744116e+00,\n",
       "        1.24020169e-01, -8.55275605e-01,  1.19801630e+00, -1.15215608e+00,\n",
       "       -1.57848556e+00, -8.49263084e-02,  3.48920997e-01,  9.50069842e-01,\n",
       "        1.66880009e+00,  8.67401381e-01,  1.16547166e+00, -2.83217176e-01,\n",
       "        1.58527320e+00,  7.27338820e-01, -5.13714716e-01, -1.09859893e+00,\n",
       "        9.74067656e-01,  1.07772680e-01, -6.90689175e-02,  7.57930841e-01,\n",
       "       -2.03418864e-01,  7.61877588e-01,  1.43256047e+00,  1.83769098e+00,\n",
       "       -1.61079173e+00, -9.66623377e-01, -1.43050655e-02,  7.14965608e-02,\n",
       "       -2.10686573e+00, -2.00777970e+00, -1.30421330e+00,  1.68075193e+00,\n",
       "        1.59273779e+00,  2.21531209e-01,  1.00684298e+00,  1.08888999e-01,\n",
       "        3.79785947e-01,  1.08835807e-01, -7.15631788e-01,  1.99110947e+00,\n",
       "        2.20431464e+00,  1.32681868e+00,  1.32219437e+00,  5.70600962e-01,\n",
       "       -1.55415965e+00,  7.80747874e-02, -1.51365987e-01,  1.79669466e+00,\n",
       "       -6.98616905e-01, -3.67995596e-01,  7.87133428e-01, -7.17546934e-01,\n",
       "        1.62167660e+00,  1.73134090e-02,  3.05855035e-01, -1.03917043e+00,\n",
       "       -1.12011705e+00,  7.06984613e-01, -1.14123021e+00, -5.50937296e-01,\n",
       "        1.11822783e+00, -3.29315100e-01,  4.71923280e-01, -5.03987274e-01,\n",
       "       -8.85386090e-01, -1.40225235e+00, -2.66850836e+00,  2.94601810e-01,\n",
       "       -9.94287954e-02,  6.35963100e-01,  7.52385069e-01, -7.98404668e-01,\n",
       "       -2.09458762e+00, -6.36450154e-01, -4.28908281e-01,  1.15742050e+00,\n",
       "       -8.62395303e-01, -6.82504125e-01,  1.61110845e+00,  1.02561627e-01,\n",
       "        5.87069656e-01,  2.15457176e-01, -9.02287892e-01,  6.63498442e-01,\n",
       "        8.22512790e-02, -1.04895180e+00,  1.24676574e-02, -1.62590417e-01,\n",
       "        9.52986764e-01, -3.14835630e-01,  8.66119626e-01,  4.34981270e-01,\n",
       "       -1.19103714e+00, -2.15298101e+00, -1.12907205e+00, -7.07824699e-01,\n",
       "       -6.74849558e-01, -1.90992140e+00, -5.13668930e-01, -1.21317931e-01,\n",
       "       -1.71403557e+00, -1.70015965e+00, -2.68292039e-01, -1.43900747e+00,\n",
       "        6.60225326e-01,  3.04798200e-01, -5.52179550e-01,  1.13783447e+00,\n",
       "        8.12044912e-02,  1.93611961e+00, -3.05998136e-03, -8.75451724e-01,\n",
       "        2.10335567e-02,  6.80689379e-01, -1.13717864e+00, -2.12109964e-01,\n",
       "       -4.34154640e-02, -1.08941341e+00,  1.22770059e+00,  7.29065094e-01,\n",
       "        5.61479276e-01, -1.01830648e+00,  1.73781185e-01,  3.57984555e-01,\n",
       "       -3.45221926e-02,  1.08709943e+00,  1.44832686e+00,  5.60543766e-01,\n",
       "       -1.21308735e-01,  1.11734973e+00,  6.55592206e-01, -2.45666732e-01,\n",
       "        1.21064189e+00,  2.37002079e+00, -2.22726264e-02,  3.13259313e-01,\n",
       "        8.21641193e-01, -9.25458247e-01,  3.53947218e-01, -3.42541234e-01,\n",
       "        5.81094955e-01,  5.18053962e-01,  5.19308270e-02,  1.50858555e+00,\n",
       "        1.91853896e-01, -1.62867742e-01,  8.91674964e-01,  6.59534219e-01,\n",
       "        1.34487109e+00, -8.90508146e-01,  1.23834702e+00, -1.47310760e+00,\n",
       "       -3.06782099e-01,  1.17376934e-01, -1.72104324e+00, -3.03909084e-01,\n",
       "       -6.92723922e-02, -3.00062759e-01,  1.00414681e+00, -5.09420623e-01,\n",
       "        2.02460643e+00, -6.54645929e-01, -8.50082857e-01, -3.23127038e-01])"
      ]
     },
     "execution_count": 133,
     "metadata": {},
     "output_type": "execute_result"
    }
   ],
   "source": [
    "samples = np.random.randn(1000)\n",
    "samples"
   ]
  },
  {
   "cell_type": "code",
   "execution_count": 134,
   "id": "78ebe629",
   "metadata": {},
   "outputs": [
    {
     "data": {
      "text/plain": [
       "(0.004767933041992158, 0.9985170054207257)"
      ]
     },
     "execution_count": 134,
     "metadata": {},
     "output_type": "execute_result"
    }
   ],
   "source": [
    "samples.mean(), samples.std()   # 평균 0, 표준편차 1"
   ]
  },
  {
   "cell_type": "markdown",
   "id": "c982d44c",
   "metadata": {},
   "source": [
    "- 최대, 최소 범위에서 난수 생성"
   ]
  },
  {
   "cell_type": "code",
   "execution_count": 305,
   "id": "eac1c01a",
   "metadata": {},
   "outputs": [
    {
     "name": "stdout",
     "output_type": "stream",
     "text": [
      "3 3 3 3 5 3 5 1 5 1 6 3 5 1 2 6 4 2 6 1 "
     ]
    }
   ],
   "source": [
    "# 주사위 던지기 \n",
    "for i in range(20):\n",
    "    draw = np.random.randint(1, 7)\n",
    "    print(draw, end = ' ')"
   ]
  },
  {
   "cell_type": "code",
   "execution_count": 310,
   "id": "766f4de5",
   "metadata": {},
   "outputs": [
    {
     "data": {
      "text/plain": [
       "array([3, 2, 4, 1, 1, 1, 2, 4, 5, 5, 4, 3, 1, 5, 5, 2, 1, 6, 5, 4, 5, 1,\n",
       "       4, 4, 2, 2, 3, 5, 3, 4, 6, 4, 5, 6, 4, 6, 3, 1, 3, 6, 3, 3, 3, 3,\n",
       "       3, 5, 4, 5, 5, 1])"
      ]
     },
     "execution_count": 310,
     "metadata": {},
     "output_type": "execute_result"
    }
   ],
   "source": [
    "# 반복문 없이 주사위 던지기 50회 simulation\n",
    "np.random.randint(1, 7, 50)"
   ]
  },
  {
   "cell_type": "code",
   "execution_count": 318,
   "id": "82ac6731",
   "metadata": {},
   "outputs": [
    {
     "data": {
      "text/plain": [
       "array([[12,  2,  3, 13],\n",
       "       [11, 10,  9,  5],\n",
       "       [ 1,  7, 16,  6],\n",
       "       [ 4, 15, 14,  8]])"
      ]
     },
     "execution_count": 318,
     "metadata": {},
     "output_type": "execute_result"
    }
   ],
   "source": [
    "arr = np.arange(1, 17)\n",
    "p = np.random.permutation(arr)\n",
    "p.reshape(4, 4)   # 4팀을 무작위로"
   ]
  },
  {
   "cell_type": "markdown",
   "id": "5de1afe6",
   "metadata": {},
   "source": [
    "## Workshop \n",
    "\n",
    "1~45개의 번호 중 무작위로 6개씩 생성되는 번호 세트를 총 10개 출력하기"
   ]
  },
  {
   "cell_type": "code",
   "execution_count": 378,
   "id": "a7057735",
   "metadata": {},
   "outputs": [
    {
     "name": "stdout",
     "output_type": "stream",
     "text": [
      "[ 1 39 30 44 17 14]\n",
      "[11 28 31 19 36  8]\n",
      "[31 43 39 20 40 18]\n",
      "[30  3 27 26  8 44]\n",
      "[11 19 12  3 41 32]\n",
      "[ 1 33 23 11 40 19]\n",
      "[23 33 26 21  4 17]\n",
      "[23 43 35  2  4 18]\n",
      "[17 35 25 41  6 40]\n",
      "[24 19 16 26 11 37]\n"
     ]
    }
   ],
   "source": [
    "arr = np.arange(1, 46)\n",
    "    \n",
    "for i in range(10):\n",
    "    p = np.random.permutation(arr)\n",
    "    a = p[:6]\n",
    "    print(a)"
   ]
  },
  {
   "cell_type": "markdown",
   "id": "a10ae9fb",
   "metadata": {},
   "source": [
    "## Workshop\n",
    "\n",
    "계단 오르 내리기\n",
    "\n",
    "- 동전을 던졌을 때 앞이 나오면 계단 1칸 올라가기\n",
    "- 동전을 던졌을 때 뒤가 나오면 계단 1칸 내려가기\n",
    "- 현재 위치 position\n",
    "- 1000번 동전을 던졌을 때의 위치의 히스토리: walk 리스트"
   ]
  },
  {
   "cell_type": "code",
   "execution_count": 379,
   "id": "8da71dfa",
   "metadata": {},
   "outputs": [],
   "source": [
    "import random"
   ]
  },
  {
   "cell_type": "code",
   "execution_count": 382,
   "id": "11b6aab3",
   "metadata": {},
   "outputs": [
    {
     "data": {
      "text/plain": [
       "[0,\n",
       " 1,\n",
       " 0,\n",
       " -1,\n",
       " -2,\n",
       " -1,\n",
       " 0,\n",
       " -1,\n",
       " 0,\n",
       " -1,\n",
       " 0,\n",
       " 1,\n",
       " 2,\n",
       " 1,\n",
       " 0,\n",
       " 1,\n",
       " 0,\n",
       " -1,\n",
       " -2,\n",
       " -3,\n",
       " -2,\n",
       " -1,\n",
       " -2,\n",
       " -1,\n",
       " -2,\n",
       " -1,\n",
       " 0,\n",
       " -1,\n",
       " -2,\n",
       " -1,\n",
       " -2,\n",
       " -1,\n",
       " -2,\n",
       " -3,\n",
       " -2,\n",
       " -1,\n",
       " 0,\n",
       " 1,\n",
       " 2,\n",
       " 1,\n",
       " 2,\n",
       " 1,\n",
       " 0,\n",
       " -1,\n",
       " 0,\n",
       " 1,\n",
       " 2,\n",
       " 1,\n",
       " 2,\n",
       " 1,\n",
       " 0,\n",
       " -1,\n",
       " -2,\n",
       " -3,\n",
       " -2,\n",
       " -1,\n",
       " 0,\n",
       " -1,\n",
       " 0,\n",
       " 1,\n",
       " 0,\n",
       " -1,\n",
       " 0,\n",
       " -1,\n",
       " -2,\n",
       " -1,\n",
       " -2,\n",
       " -1,\n",
       " 0,\n",
       " -1,\n",
       " 0,\n",
       " 1,\n",
       " 2,\n",
       " 3,\n",
       " 2,\n",
       " 1,\n",
       " 0,\n",
       " 1,\n",
       " 2,\n",
       " 3,\n",
       " 2,\n",
       " 3,\n",
       " 2,\n",
       " 3,\n",
       " 2,\n",
       " 1,\n",
       " 2,\n",
       " 1,\n",
       " 2,\n",
       " 1,\n",
       " 0,\n",
       " -1,\n",
       " 0,\n",
       " -1,\n",
       " -2,\n",
       " -3,\n",
       " -4,\n",
       " -3,\n",
       " -4,\n",
       " -3,\n",
       " -2,\n",
       " -1,\n",
       " -2,\n",
       " -3,\n",
       " -2,\n",
       " -1,\n",
       " 0,\n",
       " -1,\n",
       " 0,\n",
       " 1,\n",
       " 0,\n",
       " -1,\n",
       " 0,\n",
       " -1,\n",
       " -2,\n",
       " -1,\n",
       " 0,\n",
       " -1,\n",
       " 0,\n",
       " -1,\n",
       " 0,\n",
       " 1,\n",
       " 2,\n",
       " 3,\n",
       " 2,\n",
       " 1,\n",
       " 2,\n",
       " 1,\n",
       " 0,\n",
       " 1,\n",
       " 0,\n",
       " -1,\n",
       " -2,\n",
       " -3,\n",
       " -4,\n",
       " -5,\n",
       " -4,\n",
       " -3,\n",
       " -4,\n",
       " -5,\n",
       " -6,\n",
       " -5,\n",
       " -6,\n",
       " -7,\n",
       " -6,\n",
       " -7,\n",
       " -8,\n",
       " -7,\n",
       " -6,\n",
       " -5,\n",
       " -6,\n",
       " -5,\n",
       " -6,\n",
       " -5,\n",
       " -6,\n",
       " -7,\n",
       " -6,\n",
       " -5,\n",
       " -4,\n",
       " -3,\n",
       " -2,\n",
       " -1,\n",
       " 0,\n",
       " -1,\n",
       " 0,\n",
       " 1,\n",
       " 0,\n",
       " -1,\n",
       " 0,\n",
       " 1,\n",
       " 0,\n",
       " 1,\n",
       " 2,\n",
       " 3,\n",
       " 2,\n",
       " 1,\n",
       " 2,\n",
       " 1,\n",
       " 2,\n",
       " 1,\n",
       " 0,\n",
       " 1,\n",
       " 2,\n",
       " 3,\n",
       " 4,\n",
       " 5,\n",
       " 6,\n",
       " 7,\n",
       " 8,\n",
       " 9,\n",
       " 10,\n",
       " 9,\n",
       " 10,\n",
       " 9,\n",
       " 8,\n",
       " 9,\n",
       " 8,\n",
       " 7,\n",
       " 8,\n",
       " 9,\n",
       " 8,\n",
       " 7,\n",
       " 6,\n",
       " 5,\n",
       " 4,\n",
       " 3,\n",
       " 2,\n",
       " 3,\n",
       " 2,\n",
       " 3,\n",
       " 4,\n",
       " 5,\n",
       " 4,\n",
       " 3,\n",
       " 2,\n",
       " 3,\n",
       " 2,\n",
       " 1,\n",
       " 0,\n",
       " -1,\n",
       " -2,\n",
       " -3,\n",
       " -4,\n",
       " -5,\n",
       " -6,\n",
       " -7,\n",
       " -6,\n",
       " -7,\n",
       " -6,\n",
       " -7,\n",
       " -8,\n",
       " -7,\n",
       " -8,\n",
       " -7,\n",
       " -8,\n",
       " -7,\n",
       " -6,\n",
       " -7,\n",
       " -6,\n",
       " -7,\n",
       " -6,\n",
       " -7,\n",
       " -6,\n",
       " -5,\n",
       " -4,\n",
       " -3,\n",
       " -2,\n",
       " -3,\n",
       " -2,\n",
       " -1,\n",
       " 0,\n",
       " 1,\n",
       " 2,\n",
       " 3,\n",
       " 4,\n",
       " 5,\n",
       " 6,\n",
       " 7,\n",
       " 8,\n",
       " 9,\n",
       " 10,\n",
       " 9,\n",
       " 10,\n",
       " 9,\n",
       " 8,\n",
       " 7,\n",
       " 6,\n",
       " 5,\n",
       " 6,\n",
       " 7,\n",
       " 8,\n",
       " 9,\n",
       " 8,\n",
       " 9,\n",
       " 10,\n",
       " 9,\n",
       " 8,\n",
       " 9,\n",
       " 8,\n",
       " 7,\n",
       " 6,\n",
       " 7,\n",
       " 6,\n",
       " 7,\n",
       " 8,\n",
       " 7,\n",
       " 6,\n",
       " 7,\n",
       " 6,\n",
       " 7,\n",
       " 6,\n",
       " 5,\n",
       " 6,\n",
       " 7,\n",
       " 6,\n",
       " 5,\n",
       " 6,\n",
       " 7,\n",
       " 8,\n",
       " 9,\n",
       " 8,\n",
       " 9,\n",
       " 8,\n",
       " 7,\n",
       " 6,\n",
       " 5,\n",
       " 4,\n",
       " 3,\n",
       " 4,\n",
       " 3,\n",
       " 2,\n",
       " 1,\n",
       " 2,\n",
       " 3,\n",
       " 4,\n",
       " 5,\n",
       " 6,\n",
       " 7,\n",
       " 6,\n",
       " 5,\n",
       " 6,\n",
       " 5,\n",
       " 6,\n",
       " 7,\n",
       " 8,\n",
       " 9,\n",
       " 8,\n",
       " 9,\n",
       " 8,\n",
       " 7,\n",
       " 8,\n",
       " 9,\n",
       " 10,\n",
       " 9,\n",
       " 8,\n",
       " 9,\n",
       " 8,\n",
       " 7,\n",
       " 8,\n",
       " 9,\n",
       " 8,\n",
       " 7,\n",
       " 8,\n",
       " 9,\n",
       " 8,\n",
       " 9,\n",
       " 10,\n",
       " 9,\n",
       " 8,\n",
       " 9,\n",
       " 10,\n",
       " 9,\n",
       " 8,\n",
       " 7,\n",
       " 8,\n",
       " 7,\n",
       " 6,\n",
       " 5,\n",
       " 6,\n",
       " 7,\n",
       " 6,\n",
       " 7,\n",
       " 6,\n",
       " 5,\n",
       " 4,\n",
       " 5,\n",
       " 6,\n",
       " 5,\n",
       " 6,\n",
       " 7,\n",
       " 8,\n",
       " 7,\n",
       " 6,\n",
       " 5,\n",
       " 4,\n",
       " 3,\n",
       " 4,\n",
       " 5,\n",
       " 4,\n",
       " 5,\n",
       " 6,\n",
       " 7,\n",
       " 8,\n",
       " 7,\n",
       " 8,\n",
       " 7,\n",
       " 8,\n",
       " 9,\n",
       " 8,\n",
       " 9,\n",
       " 10,\n",
       " 11,\n",
       " 10,\n",
       " 9,\n",
       " 10,\n",
       " 11,\n",
       " 12,\n",
       " 13,\n",
       " 12,\n",
       " 13,\n",
       " 12,\n",
       " 11,\n",
       " 10,\n",
       " 11,\n",
       " 10,\n",
       " 11,\n",
       " 10,\n",
       " 9,\n",
       " 8,\n",
       " 9,\n",
       " 8,\n",
       " 9,\n",
       " 8,\n",
       " 7,\n",
       " 8,\n",
       " 7,\n",
       " 8,\n",
       " 7,\n",
       " 8,\n",
       " 9,\n",
       " 8,\n",
       " 7,\n",
       " 8,\n",
       " 7,\n",
       " 8,\n",
       " 7,\n",
       " 8,\n",
       " 9,\n",
       " 10,\n",
       " 11,\n",
       " 12,\n",
       " 13,\n",
       " 14,\n",
       " 15,\n",
       " 16,\n",
       " 15,\n",
       " 14,\n",
       " 13,\n",
       " 14,\n",
       " 15,\n",
       " 14,\n",
       " 15,\n",
       " 14,\n",
       " 13,\n",
       " 12,\n",
       " 11,\n",
       " 10,\n",
       " 9,\n",
       " 10,\n",
       " 11,\n",
       " 10,\n",
       " 11,\n",
       " 10,\n",
       " 9,\n",
       " 8,\n",
       " 9,\n",
       " 10,\n",
       " 9,\n",
       " 8,\n",
       " 9,\n",
       " 8,\n",
       " 7,\n",
       " 6,\n",
       " 7,\n",
       " 6,\n",
       " 7,\n",
       " 8,\n",
       " 9,\n",
       " 8,\n",
       " 7,\n",
       " 8,\n",
       " 7,\n",
       " 8,\n",
       " 9,\n",
       " 8,\n",
       " 9,\n",
       " 10,\n",
       " 11,\n",
       " 10,\n",
       " 9,\n",
       " 8,\n",
       " 7,\n",
       " 8,\n",
       " 7,\n",
       " 6,\n",
       " 5,\n",
       " 4,\n",
       " 3,\n",
       " 4,\n",
       " 3,\n",
       " 4,\n",
       " 5,\n",
       " 4,\n",
       " 5,\n",
       " 4,\n",
       " 5,\n",
       " 4,\n",
       " 5,\n",
       " 4,\n",
       " 5,\n",
       " 4,\n",
       " 3,\n",
       " 2,\n",
       " 1,\n",
       " 0,\n",
       " -1,\n",
       " -2,\n",
       " -1,\n",
       " 0,\n",
       " 1,\n",
       " 2,\n",
       " 1,\n",
       " 0,\n",
       " -1,\n",
       " -2,\n",
       " -1,\n",
       " -2,\n",
       " -1,\n",
       " -2,\n",
       " -1,\n",
       " 0,\n",
       " -1,\n",
       " -2,\n",
       " -1,\n",
       " 0,\n",
       " 1,\n",
       " 2,\n",
       " 1,\n",
       " 0,\n",
       " -1,\n",
       " -2,\n",
       " -3,\n",
       " -2,\n",
       " -3,\n",
       " -2,\n",
       " -1,\n",
       " -2,\n",
       " -3,\n",
       " -2,\n",
       " -1,\n",
       " -2,\n",
       " -1,\n",
       " -2,\n",
       " -1,\n",
       " 0,\n",
       " -1,\n",
       " -2,\n",
       " -3,\n",
       " -2,\n",
       " -1,\n",
       " 0,\n",
       " -1,\n",
       " -2,\n",
       " -1,\n",
       " -2,\n",
       " -3,\n",
       " -2,\n",
       " -3,\n",
       " -4,\n",
       " -5,\n",
       " -4,\n",
       " -3,\n",
       " -2,\n",
       " -1,\n",
       " -2,\n",
       " -1,\n",
       " 0,\n",
       " 1,\n",
       " 0,\n",
       " -1,\n",
       " 0,\n",
       " 1,\n",
       " 0,\n",
       " 1,\n",
       " 0,\n",
       " 1,\n",
       " 0,\n",
       " 1,\n",
       " 0,\n",
       " -1,\n",
       " -2,\n",
       " -1,\n",
       " -2,\n",
       " -3,\n",
       " -4,\n",
       " -3,\n",
       " -2,\n",
       " -3,\n",
       " -2,\n",
       " -1,\n",
       " 0,\n",
       " -1,\n",
       " 0,\n",
       " -1,\n",
       " -2,\n",
       " -1,\n",
       " 0,\n",
       " 1,\n",
       " 0,\n",
       " -1,\n",
       " -2,\n",
       " -1,\n",
       " -2,\n",
       " -3,\n",
       " -4,\n",
       " -5,\n",
       " -6,\n",
       " -5,\n",
       " -6,\n",
       " -7,\n",
       " -6,\n",
       " -5,\n",
       " -4,\n",
       " -5,\n",
       " -4,\n",
       " -5,\n",
       " -6,\n",
       " -7,\n",
       " -6,\n",
       " -5,\n",
       " -6,\n",
       " -5,\n",
       " -6,\n",
       " -7,\n",
       " -6,\n",
       " -5,\n",
       " -4,\n",
       " -3,\n",
       " -2,\n",
       " -1,\n",
       " 0,\n",
       " -1,\n",
       " 0,\n",
       " 1,\n",
       " 0,\n",
       " -1,\n",
       " 0,\n",
       " 1,\n",
       " 2,\n",
       " 3,\n",
       " 4,\n",
       " 5,\n",
       " 4,\n",
       " 3,\n",
       " 2,\n",
       " 3,\n",
       " 4,\n",
       " 5,\n",
       " 6,\n",
       " 5,\n",
       " 4,\n",
       " 3,\n",
       " 2,\n",
       " 3,\n",
       " 4,\n",
       " 3,\n",
       " 2,\n",
       " 1,\n",
       " 2,\n",
       " 3,\n",
       " 4,\n",
       " 5,\n",
       " 6,\n",
       " 5,\n",
       " 6,\n",
       " 5,\n",
       " 4,\n",
       " 3,\n",
       " 4,\n",
       " 3,\n",
       " 4,\n",
       " 3,\n",
       " 2,\n",
       " 3,\n",
       " 4,\n",
       " 5,\n",
       " 4,\n",
       " 3,\n",
       " 2,\n",
       " 1,\n",
       " 2,\n",
       " 1,\n",
       " 0,\n",
       " 1,\n",
       " 0,\n",
       " 1,\n",
       " 2,\n",
       " 1,\n",
       " 2,\n",
       " 3,\n",
       " 2,\n",
       " 3,\n",
       " 2,\n",
       " 3,\n",
       " 4,\n",
       " 5,\n",
       " 4,\n",
       " 3,\n",
       " 2,\n",
       " 1,\n",
       " 2,\n",
       " 1,\n",
       " 0,\n",
       " 1,\n",
       " 2,\n",
       " 3,\n",
       " 4,\n",
       " 5,\n",
       " 4,\n",
       " 5,\n",
       " 4,\n",
       " 5,\n",
       " 6,\n",
       " 7,\n",
       " 8,\n",
       " 7,\n",
       " 6,\n",
       " 7,\n",
       " 6,\n",
       " 7,\n",
       " 8,\n",
       " 7,\n",
       " 8,\n",
       " 7,\n",
       " 6,\n",
       " 5,\n",
       " 4,\n",
       " 5,\n",
       " 4,\n",
       " 5,\n",
       " 4,\n",
       " 5,\n",
       " 6,\n",
       " 5,\n",
       " 4,\n",
       " 5,\n",
       " 6,\n",
       " 7,\n",
       " 6,\n",
       " 7,\n",
       " 6,\n",
       " 5,\n",
       " 4,\n",
       " 5,\n",
       " 4,\n",
       " 5,\n",
       " 4,\n",
       " 5,\n",
       " 4,\n",
       " 5,\n",
       " 4,\n",
       " 3,\n",
       " 4,\n",
       " 5,\n",
       " 6,\n",
       " 5,\n",
       " 6,\n",
       " 5,\n",
       " 6,\n",
       " 7,\n",
       " 6,\n",
       " 7,\n",
       " 6,\n",
       " 5,\n",
       " 6,\n",
       " 5,\n",
       " 4,\n",
       " 5,\n",
       " 6,\n",
       " 5,\n",
       " 6,\n",
       " 7,\n",
       " 6,\n",
       " 5,\n",
       " 4,\n",
       " 5,\n",
       " 4,\n",
       " 3,\n",
       " 4,\n",
       " 5,\n",
       " 4,\n",
       " 5,\n",
       " 6,\n",
       " 7,\n",
       " 6,\n",
       " 5,\n",
       " 4,\n",
       " 3,\n",
       " 4,\n",
       " 5,\n",
       " 6,\n",
       " 7,\n",
       " 6,\n",
       " 5,\n",
       " 4,\n",
       " 3,\n",
       " 2,\n",
       " 3,\n",
       " 4,\n",
       " 3,\n",
       " 4,\n",
       " 5,\n",
       " 4,\n",
       " 3,\n",
       " 4,\n",
       " 5,\n",
       " 6,\n",
       " 7,\n",
       " 6,\n",
       " 5,\n",
       " 6,\n",
       " 7,\n",
       " 8,\n",
       " 9,\n",
       " 8,\n",
       " 9,\n",
       " 8,\n",
       " 9,\n",
       " 8,\n",
       " 7,\n",
       " 6,\n",
       " 5,\n",
       " 6,\n",
       " 7,\n",
       " 6,\n",
       " 7,\n",
       " 8,\n",
       " 7,\n",
       " 8,\n",
       " 9,\n",
       " 8,\n",
       " 9,\n",
       " 8,\n",
       " 9,\n",
       " 10,\n",
       " 11,\n",
       " 10,\n",
       " 11,\n",
       " 12,\n",
       " 13,\n",
       " 14,\n",
       " 13,\n",
       " 14,\n",
       " 15,\n",
       " 16,\n",
       " 15,\n",
       " 16,\n",
       " 15,\n",
       " 14,\n",
       " 13,\n",
       " 14,\n",
       " 13,\n",
       " 14,\n",
       " 15,\n",
       " 16,\n",
       " 15,\n",
       " 16,\n",
       " 15,\n",
       " 14,\n",
       " 15,\n",
       " 16,\n",
       " 17,\n",
       " 16,\n",
       " 15,\n",
       " 16,\n",
       " 17,\n",
       " 16,\n",
       " 15,\n",
       " 16,\n",
       " 15,\n",
       " 16,\n",
       " 17,\n",
       " 16,\n",
       " 15,\n",
       " 16,\n",
       " 17,\n",
       " 18,\n",
       " 17,\n",
       " 18,\n",
       " 19,\n",
       " 20,\n",
       " 21,\n",
       " 22,\n",
       " 21,\n",
       " 22,\n",
       " 23,\n",
       " 24,\n",
       " 23,\n",
       " 24,\n",
       " 25,\n",
       " 24,\n",
       " 25,\n",
       " 26,\n",
       " 25,\n",
       " 26,\n",
       " 27,\n",
       " 28,\n",
       " 29,\n",
       " 30,\n",
       " 31,\n",
       " 32,\n",
       " 33,\n",
       " 32,\n",
       " 31,\n",
       " 32,\n",
       " 33,\n",
       " 34,\n",
       " 33,\n",
       " 32,\n",
       " 31,\n",
       " 30,\n",
       " 29,\n",
       " 28,\n",
       " 27,\n",
       " 28,\n",
       " 27,\n",
       " 28,\n",
       " 29,\n",
       " 28,\n",
       " 29,\n",
       " 28,\n",
       " 29,\n",
       " 30,\n",
       " 31,\n",
       " 32,\n",
       " 33,\n",
       " 34,\n",
       " 33,\n",
       " 32,\n",
       " 33,\n",
       " 32,\n",
       " 33,\n",
       " 34,\n",
       " 33,\n",
       " 32,\n",
       " 31,\n",
       " 32,\n",
       " 33,\n",
       " 32,\n",
       " 31,\n",
       " 32,\n",
       " 31,\n",
       " 32,\n",
       " 33,\n",
       " 34,\n",
       " 33,\n",
       " 32,\n",
       " 33,\n",
       " 34,\n",
       " 33,\n",
       " 34,\n",
       " 33,\n",
       " 34,\n",
       " 33,\n",
       " 32,\n",
       " 31,\n",
       " 30,\n",
       " 31,\n",
       " 32,\n",
       " 33,\n",
       " 32,\n",
       " 33,\n",
       " 34,\n",
       " 33,\n",
       " 32,\n",
       " 31,\n",
       " 32,\n",
       " 31,\n",
       " 30,\n",
       " 29,\n",
       " 30,\n",
       " 31,\n",
       " 30,\n",
       " 31,\n",
       " 32,\n",
       " 31,\n",
       " 32,\n",
       " 31,\n",
       " 30,\n",
       " 29,\n",
       " 28,\n",
       " 27,\n",
       " 26,\n",
       " 27,\n",
       " 28,\n",
       " 27,\n",
       " 28,\n",
       " 29,\n",
       " 30,\n",
       " 31,\n",
       " 30,\n",
       " 29,\n",
       " 30,\n",
       " 31,\n",
       " 32,\n",
       " 33,\n",
       " 32,\n",
       " 33,\n",
       " 32,\n",
       " 31,\n",
       " ...]"
      ]
     },
     "execution_count": 382,
     "metadata": {},
     "output_type": "execute_result"
    }
   ],
   "source": [
    "position = 0 # 계단 1칸 오르면 +1, 1칸 내려가면 -1\n",
    "steps = 1000\n",
    "\n",
    "walk = [position] # [0, 1, 0, -1, -2, -3, -2, -1, 0, -1 , 0, 1]\n",
    "\n",
    "w = 0\n",
    "\n",
    "for i in range(steps):\n",
    "    a = random.randint(0, 1)\n",
    "    if a == 1:\n",
    "        w += 1\n",
    "        walk.append(w)\n",
    "    elif a == 0:\n",
    "        w -= 1\n",
    "        walk.append(w)\n",
    "walk"
   ]
  },
  {
   "cell_type": "code",
   "execution_count": 383,
   "id": "181f4e87",
   "metadata": {},
   "outputs": [
    {
     "data": {
      "text/plain": [
       "30"
      ]
     },
     "execution_count": 383,
     "metadata": {},
     "output_type": "execute_result"
    }
   ],
   "source": [
    "walk[-1]"
   ]
  },
  {
   "cell_type": "code",
   "execution_count": 384,
   "id": "0ec4a901",
   "metadata": {},
   "outputs": [
    {
     "data": {
      "text/plain": [
       "[<matplotlib.lines.Line2D at 0x1ffb4da9070>]"
      ]
     },
     "execution_count": 384,
     "metadata": {},
     "output_type": "execute_result"
    },
    {
     "data": {
      "image/png": "[encoded data removed]",
      "text/plain": [
       "<Figure size 432x288 with 1 Axes>"
      ]
     },
     "metadata": {
      "needs_background": "light"
     },
     "output_type": "display_data"
    }
   ],
   "source": [
    "plt.plot(walk)"
   ]
  },
  {
   "cell_type": "markdown",
   "id": "1b25b1d9",
   "metadata": {},
   "source": [
    "- 위에서 사용한 파이썬 코드를 사용하지 않고(for문을 사용하지 않고) numpy로 구현\n",
    "```\n",
    "np.random.randint(): 동전의 앞뒤 결정\n",
    "np.where(): 동전의 앞뒤 조건에 따른 step 결정\n",
    "np.cumsum(): 현재 위치의 히스토리\n",
    "```"
   ]
  },
  {
   "cell_type": "code",
   "execution_count": 417,
   "id": "f141ba47",
   "metadata": {},
   "outputs": [
    {
     "data": {
      "text/plain": [
       "[<matplotlib.lines.Line2D at 0x1ffb6011be0>]"
      ]
     },
     "execution_count": 417,
     "metadata": {},
     "output_type": "execute_result"
    },
    {
     "data": {
      "image/png": "[encoded data removed]",
      "text/plain": [
       "<Figure size 432x288 with 1 Axes>"
      ]
     },
     "metadata": {
      "needs_background": "light"
     },
     "output_type": "display_data"
    }
   ],
   "source": [
    "r = np.random.randint(0, 2, 1000)\n",
    "\n",
    "arr = np.where(r, +1, -1)\n",
    "c = np.cumsum(arr)\n",
    "\n",
    "plt.plot(c)"
   ]
  },
  {
   "cell_type": "code",
   "execution_count": null,
   "id": "27890f40",
   "metadata": {},
   "outputs": [],
   "source": [
    "arr = np.array([1, 100, 20, 30])"
   ]
  },
  {
   "cell_type": "code",
   "execution_count": 418,
   "id": "13068d67",
   "metadata": {},
   "outputs": [
    {
     "data": {
      "text/plain": [
       "(1, 100)"
      ]
     },
     "execution_count": 418,
     "metadata": {},
     "output_type": "execute_result"
    }
   ],
   "source": [
    "np.min(arr), np.max(arr)"
   ]
  },
  {
   "cell_type": "code",
   "execution_count": 419,
   "id": "fa789771",
   "metadata": {},
   "outputs": [
    {
     "data": {
      "text/plain": [
       "(0, 1)"
      ]
     },
     "execution_count": 419,
     "metadata": {},
     "output_type": "execute_result"
    }
   ],
   "source": [
    "np.argmin(arr), np.argmax(arr)    # 위치를 출력"
   ]
  },
  {
   "cell_type": "code",
   "execution_count": 422,
   "id": "d5da62ae",
   "metadata": {},
   "outputs": [
    {
     "data": {
      "text/plain": [
       "53"
      ]
     },
     "execution_count": 422,
     "metadata": {},
     "output_type": "execute_result"
    }
   ],
   "source": [
    "# 처음 위치에서 10계단 이상 올라가는데 걸린 횟수\n",
    "\n",
    "bool_arr = c >= 10\n",
    "np.argmax(bool_arr)  # False는 0, True는 1로 간주\n",
    "                     # argmax() 최댓값(1)이 최초로 등장한 index를 알려줌\n",
    "                     # 처음 위치에서 10계단 이상 올라가는데 53번의 동전을 던진 것을 확인할 수 있음"
   ]
  },
  {
   "cell_type": "code",
   "execution_count": 423,
   "id": "ecfdb7a7",
   "metadata": {},
   "outputs": [
    {
     "data": {
      "text/plain": [
       "53"
      ]
     },
     "execution_count": 423,
     "metadata": {},
     "output_type": "execute_result"
    }
   ],
   "source": [
    "bool_arr.argmax()"
   ]
  },
  {
   "cell_type": "code",
   "execution_count": null,
   "id": "6b4bddb1",
   "metadata": {},
   "outputs": [],
   "source": []
  },
  {
   "cell_type": "code",
   "execution_count": null,
   "id": "f9a4d2a8",
   "metadata": {},
   "outputs": [],
   "source": []
  },
  {
   "cell_type": "code",
   "execution_count": null,
   "id": "695dff40",
   "metadata": {},
   "outputs": [],
   "source": []
  }
 ],
 "metadata": {
  "kernelspec": {
   "display_name": "Python 3 (ipykernel)",
   "language": "python",
   "name": "python3"
  },
  "language_info": {
   "codemirror_mode": {
    "name": "ipython",
    "version": 3
   },
   "file_extension": ".py",
   "mimetype": "text/x-python",
   "name": "python",
   "nbconvert_exporter": "python",
   "pygments_lexer": "ipython3",
   "version": "3.9.12"
  }
 },
 "nbformat": 4,
 "nbformat_minor": 5
}
