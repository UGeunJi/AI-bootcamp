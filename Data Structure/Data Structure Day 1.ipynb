{
 "cells": [
  {
   "cell_type": "markdown",
   "id": "bf897667",
   "metadata": {},
   "source": [
    "# 시간 복잡도 계산하기"
   ]
  },
  {
   "cell_type": "markdown",
   "id": "546c27c2",
   "metadata": {},
   "source": [
    "**시간 복잡도 표기법**\n",
    "- 빅-오(O(n)): 최악일 때의 연산 횟수를 나타낸 표기법"
   ]
  },
  {
   "cell_type": "code",
   "execution_count": 12,
   "id": "1b85572e",
   "metadata": {},
   "outputs": [
    {
     "name": "stdout",
     "output_type": "stream",
     "text": [
      "98\n"
     ]
    }
   ],
   "source": [
    "# 1에서 100 사이의 무작위수를 찾아 출력\n",
    "import random\n",
    "\n",
    "findNumber = random.randrange(1, 101) # fineNumber\n",
    "\n",
    "for i in range(1, 101):  # 1 ~ 100\n",
    "    if i == findNumber:\n",
    "        print(i)\n",
    "        break\n",
    "        \n",
    "# 최선일 때 1 회\n",
    "# 보통일 때 50회\n",
    "# 최악일 때 100회: O(n)"
   ]
  },
  {
   "cell_type": "code",
   "execution_count": 15,
   "id": "9c731421",
   "metadata": {},
   "outputs": [
    {
     "name": "stdout",
     "output_type": "stream",
     "text": [
      "45 3628800\n"
     ]
    }
   ],
   "source": [
    "sum = 0\n",
    "fact = 1\n",
    "\n",
    "for i in range(10):\n",
    "    sum += i\n",
    "    \n",
    "for j in range(1, 11):\n",
    "    fact *= j\n",
    "\n",
    "print(sum, fact)\n",
    "\n",
    "# 시간 복잡도: O(2n) --> O(n)으로 간주"
   ]
  },
  {
   "cell_type": "code",
   "execution_count": 16,
   "id": "568da922",
   "metadata": {},
   "outputs": [
    {
     "name": "stdout",
     "output_type": "stream",
     "text": [
      "9\n",
      "15\n",
      "3\n",
      "6\n",
      "12\n",
      "15\n",
      "25\n",
      "5\n",
      "10\n",
      "20\n",
      "3\n",
      "5\n",
      "1\n",
      "2\n",
      "4\n",
      "6\n",
      "10\n",
      "2\n",
      "4\n",
      "8\n",
      "12\n",
      "20\n",
      "4\n",
      "8\n",
      "16\n"
     ]
    }
   ],
   "source": [
    "array = [3, 5, 1, 2, 4]   # 5개의 데이터\n",
    "\n",
    "for i in array:    # array에는 5개의 데이터\n",
    "    for j in array:   # array에는 5개의 데이터\n",
    "        temp = i * j\n",
    "        print(temp)\n",
    "        \n",
    "# 시간 복잡도 --> O(n ** 2)"
   ]
  },
  {
   "cell_type": "code",
   "execution_count": null,
   "id": "08bf14d0",
   "metadata": {},
   "outputs": [],
   "source": [
    "# manatee1 = {\"name\": \"cute\", \"age\": 2, ....}       # 총 m개의 키\n",
    "# manatee2 = {\"name\": \"handsome\", \"age\": 1, ....}   # 총 m개의 키\n",
    "# manatee3 = {\"name\": \"pretty\", \"age\": 3, ....}     # 총 m개의 키\n",
    "# manatees = [manatee1, manatee2, manatee3, ...]   # 총 n마리의 manatee를 저장하는 리스트"
   ]
  },
  {
   "cell_type": "code",
   "execution_count": null,
   "id": "ff57700e",
   "metadata": {},
   "outputs": [],
   "source": [
    "def example1(manatees):\n",
    "    for manatee in manatees: # n iterations\n",
    "        print(manatee['name'])\n",
    "        \n",
    "# 시간 복잡도 --> O(n)\n",
    "\n",
    "def example2(manatees):\n",
    "    print(manatees[0]['name'])\n",
    "    print(manatees[0]['age'])\n",
    "\n",
    "# 시간 복잡도 --> O(2) --> O(1)\n",
    "\n",
    "def example3(manatees):\n",
    "    for manatee in manatees: # n iterations\n",
    "        for manatee_property in manatee: # m iterations\n",
    "            print(manatee_property, \": \", manatee[manatee_property])\n",
    "\n",
    "# 시간 복잡도 --> O(n * m)\n",
    "\n",
    "def example4(manatees):\n",
    "    oldest_manatee = \"No manatees here!\"\n",
    "    for manatee1 in manatees: # n iterations\n",
    "        for manatee2 in manatees:# n iterations\n",
    "            if manatee1['age'] < manatee2['age']:  \n",
    "                oldest_manatee = manatee2['name']  # 1회 \n",
    "            else:\n",
    "                oldest_manatee = manatee1['name']  # 1회   중에 하나\n",
    "    print(oldest_manatee)\n",
    "    \n",
    "# 시간 복잡도 --> 2 * n ** 2 --> O(n ** 2) or O(n ^ 2)"
   ]
  }
 ],
 "metadata": {
  "kernelspec": {
   "display_name": "Python 3 (ipykernel)",
   "language": "python",
   "name": "python3"
  },
  "language_info": {
   "codemirror_mode": {
    "name": "ipython",
    "version": 3
   },
   "file_extension": ".py",
   "mimetype": "text/x-python",
   "name": "python",
   "nbconvert_exporter": "python",
   "pygments_lexer": "ipython3",
   "version": "3.9.12"
  }
 },
 "nbformat": 4,
 "nbformat_minor": 5
}
