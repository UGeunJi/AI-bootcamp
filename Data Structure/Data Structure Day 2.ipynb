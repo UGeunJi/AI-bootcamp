{
 "cells": [
  {
   "cell_type": "markdown",
   "id": "c69e3972",
   "metadata": {},
   "source": [
    "# 배열 응용문제"
   ]
  },
  {
   "cell_type": "markdown",
   "id": "7c6cf42f",
   "metadata": {},
   "source": [
    "#### 숫자의 합 구하기\n",
    "- 시간 제한 1초 | 난이도 브론즈 Ⅳ | 백준 온라인 저지 11720번\n",
    "- N개의 숫자가 공백 없이 써 있다. 이 숫자를 모두 합해 출력하는 프로그램을 작성하시오.\n",
    "**입력**\n",
    "- 1번째 줄에 숫자의 개수 N(1<=N<=100), 2번째 줄에 숫자 N개가 공백 없이 주어진다.\n",
    "**출력**\n",
    "- 입력으로 주어진 숫자 N개가 합을 출력한다."
   ]
  },
  {
   "cell_type": "markdown",
   "id": "dfe46e8e",
   "metadata": {},
   "source": [
    "**이미지 다운로드 코드**"
   ]
  },
  {
   "cell_type": "markdown",
   "id": "4b84142e",
   "metadata": {},
   "source": [
    "```\n",
    "from IPython.display import Image\n",
    "Image(\"그림이름.형식자\", width = 600)\n",
    "```"
   ]
  },
  {
   "cell_type": "code",
   "execution_count": 19,
   "id": "619b0f85",
   "metadata": {},
   "outputs": [
    {
     "name": "stdout",
     "output_type": "stream",
     "text": [
      "12512612\n",
      "28\n"
     ]
    }
   ],
   "source": [
    "sum = 0\n",
    "l = []\n",
    "\n",
    "a = input()\n",
    "l = list(a)\n",
    "\n",
    "for i in range(len(l)):\n",
    "    sum += i\n",
    "\n",
    "print(sum)"
   ]
  },
  {
   "cell_type": "code",
   "execution_count": 20,
   "id": "1ad31522",
   "metadata": {},
   "outputs": [
    {
     "name": "stdout",
     "output_type": "stream",
     "text": [
      "12\n",
      "124152562167\n",
      "42\n"
     ]
    }
   ],
   "source": [
    "n = int(input())\n",
    "numbers = list(input())  # numbers = ['1', '0', '6', '7', '2', ...]\n",
    "\n",
    "s = 0  # 합을 담을 그릇\n",
    "\n",
    "for i in numbers:\n",
    "    s = s + int(i)  # i: 1 -> 0 -> 6 -> 7 -> 2 ...\n",
    "print(s)"
   ]
  },
  {
   "cell_type": "markdown",
   "id": "21120e7f",
   "metadata": {},
   "source": [
    "# 단순 연결 리스트"
   ]
  },
  {
   "cell_type": "code",
   "execution_count": 21,
   "id": "4df35170",
   "metadata": {},
   "outputs": [
    {
     "name": "stdout",
     "output_type": "stream",
     "text": [
      "['지민', '010-1111-1111'] \n",
      "['정국', '010-2222-2222'] ['지민', '010-1111-1111'] \n",
      "['뷔', '010-3333-3333'] ['정국', '010-2222-2222'] ['지민', '010-1111-1111'] \n",
      "['뷔', '010-3333-3333'] ['슈가', '010-4444-4444'] ['정국', '010-2222-2222'] ['지민', '010-1111-1111'] \n",
      "['뷔', '010-3333-3333'] ['슈가', '010-4444-4444'] ['정국', '010-2222-2222'] ['지민', '010-1111-1111'] ['진', '010-5555-5555'] \n"
     ]
    }
   ],
   "source": [
    "class Node() :\n",
    "    def __init__ (self) :\n",
    "        self.data = None\n",
    "        self.link = None\n",
    "        \n",
    "def printNodes(start) :\n",
    "    current = start\n",
    "    \n",
    "    if current == None :\n",
    "        return\n",
    "    print(current.data, end = ' ')\n",
    "    \n",
    "    while current.link != None:\n",
    "        current = current.link\n",
    "        print(current.data, end = ' ')\n",
    "    print()\n",
    "    \n",
    "def makeSimpleLinkedList(namePhone) :\n",
    "    global memory, head, current, pre\n",
    "    printNodes(head)\n",
    "    node = Node()\n",
    "    node.data = namePhone\n",
    "    memory.append(node)\n",
    "    \n",
    "    if head == None : # 첫 번째 노드일 때\n",
    "        head = node\n",
    "        return\n",
    "    \n",
    "    if head.data[0] > namePhone[0] : # 첫 번째 노드보다 작을 때\n",
    "        node.link = head\n",
    "        head = node\n",
    "        return\n",
    "    \n",
    "    # 중간 노드로 삽입하는 경우\n",
    "    current = head\n",
    "    while current.link != None :\n",
    "        pre = current\n",
    "        current = current.link\n",
    "        if current.data[0] > namePhone[0]:\n",
    "            pre.link = node\n",
    "            node.link = current\n",
    "            return\n",
    "        \n",
    "    # 삽입하는 노드가 가장 큰 경우\n",
    "    current.link = node\n",
    "    \n",
    "## 전역 변수 선언 부분 ##\n",
    "memory = []\n",
    "head, current, pre = None, None, None\n",
    "dataArray = [[\"지민\", \"010-1111-1111\"], [\"정국\", \"010-2222-2222\"], [\"뷔\", \"010-3333-3333\"], [\"슈가\", \"010-4444-4444\"], [\"진\", \"010-5555-5555\"]]\n",
    "\n",
    "## 메인 코드 부분 ##\n",
    "if __name__ == \"__main__\" :\n",
    "    for data in dataArray :   # 5 iterations: 지민 -> 정국 -> 뷔 -> 슈가 -> 진\n",
    "        makeSimpleLinkedList(data)\n",
    "    printNodes(head)"
   ]
  },
  {
   "cell_type": "code",
   "execution_count": 24,
   "id": "536f8abc",
   "metadata": {},
   "outputs": [
    {
     "name": "stdout",
     "output_type": "stream",
     "text": [
      "스택의 크기를 입력하세요 ==> 2\n",
      "삽입(I)/추출(E)/확인(V)/종료(X) 중 하나를 선택 ==> i\n",
      "입력할 데이터 ==> awdn\n",
      "스택 상태 :  ['awdn', None]\n",
      "삽입(I)/추출(E)/확인(V)/종료(X) 중 하나를 선택 ==> i\n",
      "입력할 데이터 ==> ajwdn\n",
      "스택 상태 :  ['awdn', 'ajwdn']\n",
      "삽입(I)/추출(E)/확인(V)/종료(X) 중 하나를 선택 ==> e\n",
      "추출된 데이터 ==>  ajwdn\n",
      "스택 상태 :  ['awdn', 'ajwdn']\n",
      "삽입(I)/추출(E)/확인(V)/종료(X) 중 하나를 선택 ==> e\n",
      "추출된 데이터 ==>  ajwdn\n",
      "스택 상태 :  ['awdn', 'ajwdn']\n",
      "삽입(I)/추출(E)/확인(V)/종료(X) 중 하나를 선택 ==> x\n",
      "프로그램 종료!\n"
     ]
    }
   ],
   "source": [
    "# %load \"(실습 4) 스택 일반.py\"\n",
    "## 함수 선언 부분 ##\n",
    "def isStackFull() :\n",
    "    global SIZE, stack, top\n",
    "    if (top >= SIZE-1) :\n",
    "        return True\n",
    "    else :\n",
    "        return False\n",
    "    \n",
    "def isStackEmpty() :\n",
    "    global SIZE, stack, top\n",
    "    if (top == -1) :\n",
    "        return True\n",
    "    else :\n",
    "        return False\n",
    "    \n",
    "def push(data) :\n",
    "    global SIZE, stack, top\n",
    "    if (isStackFull()) :\n",
    "        print(\"스택이 꽉 찼습니다.\")\n",
    "        return\n",
    "    \n",
    "    top += 1           # push 했으니 한층 더 쌓음\n",
    "    stack[top]= data   # 그 탑에 데이터를 입력한 넣어줌    \n",
    "    \n",
    "def pop() :\n",
    "    global SIZE, stack, top\n",
    "    if (isStackEmpty()) :\n",
    "        print(\"스택이 비었습니다.\")\n",
    "        return None\n",
    "    \n",
    "    data = stack[top]     # 제일 위에 있는 데이터를 pop\n",
    "    stack[top] = None     # 데이터를 꺼낸 자리엔 None이 입력되도록 함\n",
    "    top -= 1              # 빼냈으니 top을 낮춤\n",
    "    \n",
    "    return data\n",
    "\n",
    "def peek() :\n",
    "    global SIZE, stack, top\n",
    "    if (isStackEmpty()) :\n",
    "        print(\"스택이 비었습니다.\")\n",
    "        return None\n",
    "    return stack[top]\n",
    "\n",
    "## 전역 변수 선언 부분 ##\n",
    "SIZE = int(input(\"스택의 크기를 입력하세요 ==> \"))\n",
    "stack = [ None for _ in range(SIZE) ]        # _ 는 None으로 채울 부분을 나타낸 것\n",
    "top = -1\n",
    "\n",
    "## 메인 코드 부분 ##\n",
    "if __name__ == \"__main__\" :        # 시작점이기 때문에 __main__\n",
    "    select = input(\"삽입(I)/추출(E)/확인(V)/종료(X) 중 하나를 선택 ==> \")\n",
    "    \n",
    "    while (select != 'X' and select != 'x') :\n",
    "        if select=='I' or select =='i' :\n",
    "            data = input(\"입력할 데이터 ==> \")\n",
    "            push(data)\n",
    "            print(\"스택 상태 : \", stack)\n",
    "        elif select=='E' or select =='e' :\n",
    "            data = pop()\n",
    "            print(\"추출된 데이터 ==> \", data)\n",
    "            print(\"스택 상태 : \", stack)\n",
    "        elif select=='V' or select =='v' :\n",
    "            data = peek()\n",
    "            print(\"확인된 데이터 ==> \", data)\n",
    "            print(\"스택 상태 : \", stack)\n",
    "        else :\n",
    "            print(\"입력이 잘못됨\")\n",
    "        select = input(\"삽입(I)/추출(E)/확인(V)/종료(X) 중 하나를 선택 ==> \")\n",
    "    print(\"프로그램 종료!\")"
   ]
  },
  {
   "cell_type": "markdown",
   "id": "c37274bc",
   "metadata": {},
   "source": [
    "# 스택 응용"
   ]
  },
  {
   "cell_type": "markdown",
   "id": "fd3d46d9",
   "metadata": {},
   "source": [
    "- 웹 서핑에서 이전 페이지 돌아가기"
   ]
  },
  {
   "cell_type": "code",
   "execution_count": 25,
   "id": "9fa9aa17",
   "metadata": {},
   "outputs": [],
   "source": [
    "import webbrowser"
   ]
  },
  {
   "cell_type": "code",
   "execution_count": 27,
   "id": "d1b53754",
   "metadata": {},
   "outputs": [
    {
     "data": {
      "text/plain": [
       "True"
      ]
     },
     "execution_count": 27,
     "metadata": {},
     "output_type": "execute_result"
    }
   ],
   "source": [
    "webbrowser.open(\"http://naver.com\")"
   ]
  },
  {
   "cell_type": "code",
   "execution_count": 42,
   "id": "591351c9",
   "metadata": {},
   "outputs": [
    {
     "name": "stdout",
     "output_type": "stream",
     "text": [
      "naver.com-->daum.net-->nate.com-->방문 종료\n",
      "nate.com-->daum.net-->naver.com-->스택이 비었습니다.\n",
      "방문 종료\n"
     ]
    }
   ],
   "source": [
    "import webbrowser\n",
    "import time\n",
    "\n",
    "## 함수 선언 부분 ##\n",
    "def isStackFull() :\n",
    "    global SIZE, stack, top\n",
    "    if (top >= SIZE-1) :\n",
    "        return True\n",
    "    else :\n",
    "        return False\n",
    "    \n",
    "def isStackEmpty() :\n",
    "    global SIZE, stack, top\n",
    "    if (top == -1) :\n",
    "        return True\n",
    "    else :\n",
    "        return False\n",
    "    \n",
    "def push(data) :\n",
    "    global SIZE, stack, top\n",
    "    if (isStackFull()) :\n",
    "        print(\"스택이 꽉 찼습니다.\")\n",
    "        return\n",
    "    \n",
    "    top += 1\n",
    "    stack[top] = data\n",
    "    \n",
    "def pop() :\n",
    "    global SIZE, stack, top\n",
    "    if (isStackEmpty()) :\n",
    "        print(\"스택이 비었습니다.\")\n",
    "        return None\n",
    "    \n",
    "    data = stack[top]\n",
    "    stack[top] = None\n",
    "    top -= 1\n",
    "    return data\n",
    "\n",
    "def peek() :\n",
    "    global SIZE, stack, top\n",
    "    if (isStackEmpty()) :\n",
    "        print(\"스택이 비었습니다.\")\n",
    "        return None\n",
    "    return stack[top]\n",
    "\n",
    "## 전역 변수 선언 부분 ##\n",
    "SIZE = 100\n",
    "stack = [ None for _ in range(SIZE) ]\n",
    "top = -1\n",
    "\n",
    "## 메인 코드 부분 ##\n",
    "if __name__ == \"__main__\" :\n",
    "    urls = [ 'naver.com', 'daum.net', 'nate.com']\n",
    "    for url in urls :\n",
    "        push(url)                             \n",
    "        webbrowser.open('http://' + url)                                                    \n",
    "        print(url, end = '-->')\n",
    "        time.sleep(1)\n",
    "    print(\"방문 종료\")\n",
    "    time.sleep(5)\n",
    "    \n",
    "    while True :\n",
    "        url = pop()\n",
    "        if url == None:\n",
    "            break\n",
    "        webbrowser.open('http://' + url)      \n",
    "        print(url, end = '-->')    \n",
    "        time.sleep(1)\n",
    "    print(\"방문 종료\")"
   ]
  },
  {
   "cell_type": "markdown",
   "id": "80d34b49",
   "metadata": {},
   "source": [
    "**헨젤과 그레텔**\n",
    "- 헨젤과 그레텔이 돌을 떨어뜨리면서 숲으로 들어간다. 과자집에서 집으로 돌아갈 때는 떨어뜨린 순서와 반대로 돌을 주워야 한다. 스택을 이용해서 집으로 무사히 돌아가도록 하자"
   ]
  },
  {
   "cell_type": "code",
   "execution_count": 44,
   "id": "79bd73fc",
   "metadata": {},
   "outputs": [
    {
     "name": "stdout",
     "output_type": "stream",
     "text": [
      "과자집에 가는길 :  보라 --> 노랑 --> 파랑 --> 초록 --> 빨강 --> 주황 --> 과자집\n",
      "우리집에 오는길 :  주황 --> 빨강 --> 초록 --> 파랑 --> 노랑 --> 보라 --> 우리집\n"
     ]
    }
   ],
   "source": [
    "import random\n",
    "\n",
    "## 함수 선언 부분 ##\n",
    "def isStackFull() :\n",
    "    global SIZE, stack, top\n",
    "    if (top >= SIZE-1) :\n",
    "        return True\n",
    "    else :\n",
    "        return False\n",
    "    \n",
    "def isStackEmpty() :\n",
    "    global SIZE, stack, top\n",
    "    if (top == -1) :\n",
    "        return True\n",
    "    else :\n",
    "        return False\n",
    "    \n",
    "def push(data) :\n",
    "    global SIZE, stack, top\n",
    "    if (isStackFull()) :\n",
    "        return\n",
    "    top += 1\n",
    "    stack[top] = data\n",
    "    \n",
    "def pop() :\n",
    "    global SIZE, stack, top\n",
    "    if (isStackEmpty()) :\n",
    "        return None\n",
    "    data = stack[top]\n",
    "    stack[top] = None\n",
    "    top -= 1\n",
    "    return data\n",
    "\n",
    "def peek() :\n",
    "    global SIZE, stack, top\n",
    "    if (isStackEmpty()) :\n",
    "        return None\n",
    "    return stack[top]\n",
    "\n",
    "## 전역 변수 선언 부분 ##\n",
    "SIZE = 10\n",
    "stack = [ None for _ in range(SIZE) ]\n",
    "top = -1\n",
    "\n",
    "## 메인 코드 부분 ##\n",
    "if __name__ == \"__main__\" :\n",
    "    stoneAry = [\"빨강\", \"파랑\", \"초록\", \"노랑\", \"보라\", \"주황\"]\n",
    "    random.shuffle(stoneAry)\n",
    "    print(\"과자집에 가는길 : \", end = ' ')\n",
    "    \n",
    "    for stone in stoneAry :\n",
    "        push(stone)\n",
    "        #TODO\n",
    "        print(stone, \"-->\", end = ' ')\n",
    "    print(\"과자집\")\n",
    "    print(\"우리집에 오는길 : \", end = ' ')\n",
    "    \n",
    "    while True :\n",
    "        stone = pop()\n",
    "        if stone == None:\n",
    "            break\n",
    "        #TODO\n",
    "        print(stone, \"-->\", end = ' ')\n",
    "    print(\"우리집\")"
   ]
  },
  {
   "cell_type": "markdown",
   "id": "51e0a891",
   "metadata": {},
   "source": [
    "# 큐"
   ]
  },
  {
   "cell_type": "code",
   "execution_count": 56,
   "id": "3e5b8941",
   "metadata": {},
   "outputs": [
    {
     "name": "stdout",
     "output_type": "stream",
     "text": [
      "큐의 크기를 입력하세요 ==> 2\n",
      "삽입(I)/추출(E)/확인(V)/종료(X) 중 하나를 선택 ==> i\n",
      "입력할 데이터 ==> qwe\n",
      "큐 상태 :  ['qwe', None]\n",
      "삽입(I)/추출(E)/확인(V)/종료(X) 중 하나를 선택 ==> i\n",
      "입력할 데이터 ==> asd\n",
      "큐 상태 :  ['qwe', 'asd']\n",
      "삽입(I)/추출(E)/확인(V)/종료(X) 중 하나를 선택 ==> e\n",
      "추출된 데이터 ==>  qwe\n",
      "큐 상태 :  [None, 'asd']\n",
      "삽입(I)/추출(E)/확인(V)/종료(X) 중 하나를 선택 ==> e\n",
      "추출된 데이터 ==>  asd\n",
      "큐 상태 :  [None, None]\n",
      "삽입(I)/추출(E)/확인(V)/종료(X) 중 하나를 선택 ==> x\n",
      "프로그램 종료!\n"
     ]
    }
   ],
   "source": [
    "## 함수 선언 부분 ##\n",
    "def isQueueFull() :\n",
    "    global SIZE, queue, front, rear\n",
    "    if (rear == SIZE-1) :\n",
    "        return True\n",
    "    else :\n",
    "        return False\n",
    "    \n",
    "def isQueueEmpty() :\n",
    "    global SIZE, queue, front, rear\n",
    "    if (front == rear) :\n",
    "        return True\n",
    "    else :\n",
    "        return False\n",
    "    \n",
    "def enQueue(data) :\n",
    "    global SIZE, queue, front, rear\n",
    "    if (isQueueFull()) :\n",
    "        print(\"큐가 꽉 찼습니다.\")\n",
    "        return\n",
    "    \n",
    "    # todo\n",
    "    rear += 1\n",
    "    queue[rear] = data\n",
    "    \n",
    "def deQueue() :\n",
    "    global SIZE, queue, front, rear\n",
    "    if (isQueueEmpty()) :\n",
    "        print(\"큐가 비었습니다.\")\n",
    "        return None\n",
    "    \n",
    "    # todo\n",
    "    front += 1\n",
    "    data = queue[front]\n",
    "    queue[front] = None\n",
    "    return data\n",
    "\n",
    "def peek() :\n",
    "    global SIZE, queue, front, rear\n",
    "    if (isQueueEmpty()) :\n",
    "        print(\"큐가 비었습니다.\")\n",
    "        return None\n",
    "    return queue[front+1]\n",
    "\n",
    "## 전역 변수 선언 부분 ##\n",
    "SIZE = int(input(\"큐의 크기를 입력하세요 ==> \"))\n",
    "queue = [ None for _ in range(SIZE) ]\n",
    "front = rear = -1\n",
    "\n",
    "## 메인 코드 부분 ##\n",
    "if __name__ == \"__main__\" :\n",
    "    select = input(\"삽입(I)/추출(E)/확인(V)/종료(X) 중 하나를 선택 ==> \")\n",
    "    while (select != 'X' and select != 'x') :\n",
    "        if select=='I' or select =='i' :\n",
    "            data = input(\"입력할 데이터 ==> \")\n",
    "            enQueue(data)\n",
    "            print(\"큐 상태 : \", queue)\n",
    "        elif select=='E' or select =='e' :\n",
    "            data = deQueue()\n",
    "            print(\"추출된 데이터 ==> \", data)\n",
    "            print(\"큐 상태 : \", queue)\n",
    "        elif select=='V' or select =='v' :\n",
    "            data = peek()\n",
    "            print(\"확인된 데이터 ==> \", data)\n",
    "            print(\"큐 상태 : \", queue)\n",
    "        else :\n",
    "            print(\"입력이 잘못됨\")\n",
    "        select = input(\"삽입(I)/추출(E)/확인(V)/종료(X) 중 하나를 선택 ==> \")\n",
    "    print(\"프로그램 종료!\")"
   ]
  },
  {
   "cell_type": "code",
   "execution_count": 79,
   "id": "36a8805d",
   "metadata": {},
   "outputs": [
    {
     "name": "stdout",
     "output_type": "stream",
     "text": [
      "큐가 꽉 찼는지 여부 ==> False\n",
      "큐 상태 ==>  [None, '문별', '휘인', '선미', None]\n"
     ]
    }
   ],
   "source": [
    "def isQueueFull() :\n",
    "    global SIZE, queue, front, rear\n",
    "    \n",
    "    if (rear != SIZE-1) :\n",
    "        return False\n",
    "    elif (rear == SIZE -1) and (front == -1) :\n",
    "        return True\n",
    "    else :\n",
    "        for i in range(front + 1, SIZE) :\n",
    "\n",
    "            queue[i - 1] = queue[i]\n",
    "            queue[i] = None\n",
    "            \n",
    "        front -= 1\n",
    "        rear -= 1\n",
    "        return False             #TODO\n",
    "        \n",
    "        \n",
    "SIZE = 5\n",
    "queue = [None, None, \"문별\", \"휘인\", \"선미\"]\n",
    "front = 1\n",
    "rear = 4\n",
    "print(\"큐가 꽉 찼는지 여부 ==>\", isQueueFull())\n",
    "print(\"큐 상태 ==> \", queue)\n",
    "# 흰색_확인_표시\n",
    "# 두_눈\n",
    "# 두_손을_들고_있는_사람\n",
    "# 반응\n",
    "# 댓글\n",
    "\n",
    "\n",
    "\n",
    "\n",
    "\n",
    "\n",
    "\n",
    "\n"
   ]
  },
  {
   "cell_type": "markdown",
   "id": "1472c17b",
   "metadata": {},
   "source": [
    "# 큐 응용"
   ]
  },
  {
   "cell_type": "markdown",
   "id": "d88ac3c7",
   "metadata": {},
   "source": [
    "**유명 맛집의 대기줄**\n",
    "- 유명 맛집의 대기줄에는 손님들이 들어온 순서대로 줄을 선다.\n",
    "그리고 대기줄이 꽉 차면 더 이상 손님을 받지 않는다.\n",
    "이제 대기줄 손님들은 자리가 생기면 1명씩 식당으로 들어간다.\n",
    "맨 앞쪽 손님이 대기줄에서 식당으로 들어갈 때마다 대기줄 뒤쪽 손님들은 한 칸씩 이동해서 줄을 다시 서도록 한다."
   ]
  },
  {
   "cell_type": "code",
   "execution_count": 90,
   "id": "76633a50",
   "metadata": {},
   "outputs": [
    {
     "name": "stdout",
     "output_type": "stream",
     "text": [
      "대기 줄 상태 :  ['정국', '뷔', '지민', '진', '슈가']\n",
      "정국 님 식당에 들어감\n",
      "대기 줄 상태 :  ['뷔', '지민', '진', '슈가', None]\n",
      "뷔 님 식당에 들어감\n",
      "대기 줄 상태 :  ['지민', '진', '슈가', None, None]\n",
      "지민 님 식당에 들어감\n",
      "대기 줄 상태 :  ['진', '슈가', None, None, None]\n",
      "진 님 식당에 들어감\n",
      "대기 줄 상태 :  ['슈가', None, None, None, None]\n",
      "슈가 님 식당에 들어감\n",
      "대기 줄 상태 :  [None, None, None, None, None]\n",
      "식당 영업 종료!\n"
     ]
    }
   ],
   "source": [
    "## 함수 선언 부분 ##\n",
    "def isQueueFull() :\n",
    "    global SIZE, queue, front, rear\n",
    "    if (rear == SIZE-1) :\n",
    "        return True\n",
    "    else :\n",
    "        return False\n",
    "\n",
    "def isQueueEmpty() :\n",
    "    global SIZE, queue, front, rear\n",
    "    if (front == rear) :\n",
    "        return True\n",
    "    else :\n",
    "        return False\n",
    "\n",
    "def enQueue(data) :\n",
    "    global SIZE, queue, front, rear\n",
    "    if (isQueueFull()) :\n",
    "        print(\"큐가 꽉 찼습니다.\")\n",
    "        return\n",
    "    rear += 1\n",
    "    queue[rear] = data\n",
    "\n",
    "def deQueue() :\n",
    "    global SIZE, queue, front, rear\n",
    "    if (isQueueEmpty()) :\n",
    "        print(\"큐가 비었습니다.\")\n",
    "        return None\n",
    "    front += 1\n",
    "    data = queue[front]\n",
    "    queue[front] = None\n",
    "\n",
    "    # 모든 사람을 한칸씩 앞으로 당기기\n",
    "    # todo\n",
    "    for i in range(front + 1, SIZE) :    # SiZE 대신 rear + 1로 해줘도 된다.\n",
    "            queue[i - 1] = queue[i]\n",
    "            queue[i] = None\n",
    "    front -= 1\n",
    "    rear -= 1\n",
    "  \n",
    "    return data\n",
    "\n",
    "def peek() :\n",
    "    global SIZE, queue, front, rear\n",
    "    if (isQueueEmpty()) :\n",
    "        print(\"큐가 비었습니다.\")\n",
    "        return None\n",
    "    return queue[front+1]\n",
    "\n",
    "## 전역 변수 선언 부분 ##\n",
    "SIZE = 5\n",
    "queue = [ None for _ in range(SIZE) ]\n",
    "front = rear = -1\n",
    "\n",
    "## 메인 코드 부분 ##\n",
    "if __name__ == \"__main__\" :\n",
    "    enQueue('정국')\n",
    "    enQueue('뷔')\n",
    "    enQueue('지민')\n",
    "    enQueue('진')\n",
    "    enQueue('슈가')\n",
    "    print(\"대기 줄 상태 : \", queue)\n",
    "\n",
    "    for _ in range(rear+1) :\n",
    "        print(deQueue(), '님 식당에 들어감')\n",
    "        print(\"대기 줄 상태 : \", queue)\n",
    "\n",
    "    print(\"식당 영업 종료!\")"
   ]
  },
  {
   "cell_type": "code",
   "execution_count": null,
   "id": "9c4a38c6",
   "metadata": {},
   "outputs": [],
   "source": []
  }
 ],
 "metadata": {
  "kernelspec": {
   "display_name": "Python 3 (ipykernel)",
   "language": "python",
   "name": "python3"
  },
  "language_info": {
   "codemirror_mode": {
    "name": "ipython",
    "version": 3
   },
   "file_extension": ".py",
   "mimetype": "text/x-python",
   "name": "python",
   "nbconvert_exporter": "python",
   "pygments_lexer": "ipython3",
   "version": "3.9.12"
  }
 },
 "nbformat": 4,
 "nbformat_minor": 5
}
