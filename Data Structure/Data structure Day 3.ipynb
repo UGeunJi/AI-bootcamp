{
 "cells": [
  {
   "cell_type": "markdown",
   "id": "09bd524e",
   "metadata": {},
   "source": [
    "# 이진 트리 순회"
   ]
  },
  {
   "cell_type": "code",
   "execution_count": 2,
   "id": "10684cba",
   "metadata": {},
   "outputs": [
    {
     "name": "stdout",
     "output_type": "stream",
     "text": [
      "전위 순회 : 화사->솔라->휘인->쯔위->문별->선미->끝\n",
      "중위 순회 : 휘인->솔라->쯔위->화사->선미->문별->끝\n",
      "후위 순회 : 휘인->쯔위->솔라->선미->문별->화사->끝\n"
     ]
    }
   ],
   "source": [
    "class TreeNode() :\n",
    "    def __init__ (self) :\n",
    "        self.left = None\n",
    "        self.data = None\n",
    "        self.right = None\n",
    "        \n",
    "node1 = TreeNode()\n",
    "node1.data = '화사'\n",
    "\n",
    "node2 = TreeNode()\n",
    "node2.data = '솔라'\n",
    "node1.left = node2\n",
    "\n",
    "node3 = TreeNode()\n",
    "node3.data = '문별'\n",
    "node1.right = node3\n",
    "\n",
    "node4 = TreeNode()\n",
    "node4.data = '휘인'\n",
    "node2.left = node4\n",
    "\n",
    "node5 = TreeNode()\n",
    "node5.data = '쯔위'\n",
    "node2.right = node5\n",
    "\n",
    "node6 = TreeNode()\n",
    "node6.data = '선미'\n",
    "node3.left = node6\n",
    "\n",
    "def preorder(node) :\n",
    "    if node == None:\n",
    "        return\n",
    "    \n",
    "    print(node.data, end='->')\n",
    "    preorder(node.left)\n",
    "    preorder(node.right)\n",
    "        \n",
    "def inorder(node):\n",
    "    if node == None :\n",
    "        return\n",
    "        \n",
    "    inorder(node.left)\n",
    "    print(node.data, end='->')\n",
    "    inorder(node.right)\n",
    "        \n",
    "def postorder(node):\n",
    "    if node == None :\n",
    "        return\n",
    "        \n",
    "    postorder(node.left)\n",
    "    postorder(node.right)\n",
    "        \n",
    "    print(node.data, end='->')\n",
    "        \n",
    "print('전위 순회 : ', end = '')\n",
    "preorder(node1)\n",
    "print('끝')\n",
    "print('중위 순회 : ', end = '')\n",
    "inorder(node1)\n",
    "print('끝')\n",
    "print('후위 순회 : ', end = '')\n",
    "postorder(node1)\n",
    "print('끝')"
   ]
  },
  {
   "cell_type": "markdown",
   "id": "871c8e81",
   "metadata": {},
   "source": [
    "# 이진 탐색 트리"
   ]
  },
  {
   "cell_type": "code",
   "execution_count": 27,
   "id": "890ee02f",
   "metadata": {},
   "outputs": [
    {
     "name": "stdout",
     "output_type": "stream",
     "text": [
      "이진 탐색 트리 구성 완료!\n"
     ]
    }
   ],
   "source": [
    "## 함수 선언 부분 ##\n",
    "class TreeNode() :\n",
    "    def __init__ (self) :\n",
    "        self.left = None\n",
    "        self.data = None\n",
    "        self.right = None\n",
    "        \n",
    "## 전역 변수 선언 부분 ##\n",
    "memory = []\n",
    "root = None\n",
    "nameAry = ['블랙핑크', '레드벨벳', '마마무', '에이핑크',  '걸스데이', '트와이스' ]\n",
    "\n",
    "## 메인 코드 부분 ##\n",
    "node = TreeNode()\n",
    "node.data = nameAry[0]\n",
    "root = node\n",
    "memory.append(node)\n",
    "\n",
    "for name in nameAry[1:] :\n",
    "    node = TreeNode()\n",
    "    node.data = name\n",
    "    current = root\n",
    "    \n",
    "    while True :\n",
    "        if name < current.data :\n",
    "            if current.left == None:\n",
    "                current.left = node\n",
    "                break\n",
    "            current = current.left\n",
    "            \n",
    "        else :\n",
    "            if current.right == None:\n",
    "                current.right = node\n",
    "                break\n",
    "            current = current.right\n",
    "            \n",
    "    memory.append(node)\n",
    "print(\"이진 탐색 트리 구성 완료!\")"
   ]
  },
  {
   "cell_type": "code",
   "execution_count": 28,
   "id": "c724da6d",
   "metadata": {},
   "outputs": [
    {
     "name": "stdout",
     "output_type": "stream",
     "text": [
      "블랙핑크->레드벨벳->걸스데이->마마무->에이핑크->트와이스->"
     ]
    }
   ],
   "source": [
    "preorder(root)"
   ]
  },
  {
   "cell_type": "code",
   "execution_count": 29,
   "id": "26c1ae9d",
   "metadata": {},
   "outputs": [
    {
     "name": "stdout",
     "output_type": "stream",
     "text": [
      "걸스데이->레드벨벳->마마무->블랙핑크->에이핑크->트와이스->"
     ]
    }
   ],
   "source": [
    "inorder(root)"
   ]
  },
  {
   "cell_type": "code",
   "execution_count": 30,
   "id": "ab14fb11",
   "metadata": {},
   "outputs": [
    {
     "name": "stdout",
     "output_type": "stream",
     "text": [
      "걸스데이->마마무->레드벨벳->트와이스->에이핑크->블랙핑크->"
     ]
    }
   ],
   "source": [
    "postorder(root)"
   ]
  },
  {
   "cell_type": "markdown",
   "id": "60ead088",
   "metadata": {},
   "source": [
    "# 이진 탐색 트리 검색"
   ]
  },
  {
   "cell_type": "code",
   "execution_count": 45,
   "id": "27c67afd",
   "metadata": {},
   "outputs": [
    {
     "name": "stdout",
     "output_type": "stream",
     "text": [
      "마마무 을(를) 찾음.\n"
     ]
    }
   ],
   "source": [
    "findName = '마마무'\n",
    "\n",
    "current = root\n",
    "while True :\n",
    "    if findName == current.data:\n",
    "        print(findName, '을(를) 찾음.')\n",
    "        break\n",
    "    elif findName < current.data:\n",
    "        if current.left == None :\n",
    "            print(findName, '이(가) 트리에 없음')\n",
    "            break\n",
    "        current = current.left\n",
    "    else :\n",
    "        if current.right == None :\n",
    "            print(findName, '이(가) 트리에 없음')\n",
    "            break\n",
    "        current = current.right"
   ]
  },
  {
   "cell_type": "code",
   "execution_count": 46,
   "id": "4c2ec86d",
   "metadata": {},
   "outputs": [
    {
     "name": "stdout",
     "output_type": "stream",
     "text": [
      "바마무 이(가) 트리에 없음\n"
     ]
    }
   ],
   "source": [
    "findName = '바마무'       # 없으면 없다고 뜸\n",
    "\n",
    "current = root\n",
    "while True :\n",
    "    if findName == current.data:\n",
    "        print(findName, '을(를) 찾음.')\n",
    "        break\n",
    "    elif findName < current.data:\n",
    "        if current.left == None :\n",
    "            print(findName, '이(가) 트리에 없음')\n",
    "            break\n",
    "        current = current.left\n",
    "    else :\n",
    "        if current.right == None :\n",
    "            print(findName, '이(가) 트리에 없음')\n",
    "            break\n",
    "        current = current.right"
   ]
  },
  {
   "cell_type": "code",
   "execution_count": 47,
   "id": "4dedcae7",
   "metadata": {},
   "outputs": [
    {
     "name": "stdout",
     "output_type": "stream",
     "text": [
      "걸스데이 을(를) 찾음.\n"
     ]
    }
   ],
   "source": [
    "findName = '걸스데이'\n",
    "\n",
    "current = root\n",
    "while True :\n",
    "    if findName == current.data:\n",
    "        print(findName, '을(를) 찾음.')\n",
    "        break\n",
    "    elif findName < current.data:\n",
    "        if current.left == None :\n",
    "            print(findName, '이(가) 트리에 없음')\n",
    "            break\n",
    "        current = current.left\n",
    "    else :\n",
    "        if current.right == None :\n",
    "            print(findName, '이(가) 트리에 없음')\n",
    "            break\n",
    "        current = current.right"
   ]
  },
  {
   "cell_type": "code",
   "execution_count": 48,
   "id": "520d1819",
   "metadata": {},
   "outputs": [
    {
     "name": "stdout",
     "output_type": "stream",
     "text": [
      "블랙핑크 을(를) 찾음.\n"
     ]
    }
   ],
   "source": [
    "findName = '블랙핑크'\n",
    "\n",
    "current = root\n",
    "while True :\n",
    "    if findName == current.data:\n",
    "        print(findName, '을(를) 찾음.')\n",
    "        break\n",
    "    elif findName < current.data:\n",
    "        if current.left == None :\n",
    "            print(findName, '이(가) 트리에 없음')\n",
    "            break\n",
    "        current = current.left\n",
    "    else :\n",
    "        if current.right == None :\n",
    "            print(findName, '이(가) 트리에 없음')\n",
    "            break\n",
    "        current = current.right"
   ]
  },
  {
   "cell_type": "markdown",
   "id": "4dfcb0e0",
   "metadata": {},
   "source": [
    "# 이진 탐색 트리 삭제"
   ]
  },
  {
   "cell_type": "code",
   "execution_count": 49,
   "id": "544926fb",
   "metadata": {},
   "outputs": [
    {
     "name": "stdout",
     "output_type": "stream",
     "text": [
      "마마무 이(가) 삭제됨.\n"
     ]
    }
   ],
   "source": [
    "deleteName = '마마무'\n",
    "current = root\n",
    "parent = None\n",
    "while True:\n",
    "    if deleteName == current.data :\n",
    "        if current.left == None and current.right == None :\n",
    "            if parent.left == current :\n",
    "                parent.left = None\n",
    "            else :\n",
    "                parent.right = None\n",
    "            del(current)\n",
    "        elif current.left != None and current.right == None :\n",
    "            if parent.left == current :\n",
    "                parent.left = current.left\n",
    "            else :\n",
    "                parent.right = current.left\n",
    "            del(current)\n",
    "        elif current.left == None and current.right != None :\n",
    "            if parent.left == current:\n",
    "                parent.left = current.right\n",
    "            else:\n",
    "                parent.right = current.right\n",
    "            del(current)\n",
    "        print(deleteName, '이(가) 삭제됨.')\n",
    "        break\n",
    "    elif deleteName < current.data :\n",
    "        if current.left == None :\n",
    "            print(deleteName, '이(가) 트리에 없음')\n",
    "            break\n",
    "        parent = current\n",
    "        current = current.left\n",
    "    else:\n",
    "        if current.right == None :\n",
    "            print(deleteName, '이(가) 트리에 없음')\n",
    "            break\n",
    "        parent = current\n",
    "        current = current.right"
   ]
  },
  {
   "cell_type": "markdown",
   "id": "12e2e25b",
   "metadata": {},
   "source": [
    "# 선택 정렬"
   ]
  },
  {
   "cell_type": "code",
   "execution_count": 93,
   "id": "8a28d6ee",
   "metadata": {},
   "outputs": [
    {
     "name": "stdout",
     "output_type": "stream",
     "text": [
      "정렬 전 --> [188, 162, 168, 120, 50, 150, 177, 105]\n",
      "정렬 후 --> [105, 50, 120, 150, 162, 168, 177, 188]\n"
     ]
    }
   ],
   "source": [
    "## 함수 선언 부분 ##\n",
    "def selectionSort(ary) :\n",
    "    n = len(ary)\n",
    "    for i in range(0, n - 1) :\n",
    "        minIdx = i\n",
    "        for k in range(i + 1, n) :    # cycle의 반복\n",
    "            if ary[k] < ary[minIdx]:\n",
    "                minIdx = k\n",
    "            ary[minIdx], ary[i] = ary[i], ary[minIdx]\n",
    "    return ary\n",
    "\n",
    "## 전역 변수 선언 부분 ##\n",
    "dataAry = [188, 162, 168, 120, 50, 150, 177, 105]\n",
    "\n",
    "## 메인 코드 부분 ##\n",
    "print('정렬 전 -->', dataAry)\n",
    "dataAry = selectionSort(dataAry)\n",
    "print('정렬 후 -->', dataAry)"
   ]
  },
  {
   "cell_type": "markdown",
   "id": "d88caa95",
   "metadata": {},
   "source": [
    "# 선택 정렬 응용 문제"
   ]
  },
  {
   "cell_type": "markdown",
   "id": "e2cbd983",
   "metadata": {},
   "source": [
    "**내림차순으로 자릿수 정렬하기**\n",
    "- 시간 제한 2초 | 난이도 실버 Ⅴ | 백준 온라인 저지 1427번\n",
    "- 배열을 정렬하는 것은 쉽다. 수가 주어지면 그 수의 각 자릿수를 내림차순으로 정렬하시오.\n",
    "**입력**\n",
    "- 1번째 줄에 정렬할 수 N이 주어진다. N은 1,000,000,000보다 작거나 같은 자연수다.\n",
    "**출력**\n",
    "- 1번째 줄에 자릿수를 내림차순 정렬한 수를 출력한다."
   ]
  },
  {
   "cell_type": "code",
   "execution_count": 77,
   "id": "41eb7b3b",
   "metadata": {},
   "outputs": [
    {
     "name": "stdout",
     "output_type": "stream",
     "text": [
      "124125\n"
     ]
    },
    {
     "data": {
      "text/plain": [
       "['5', '4', '2', '2', '1', '1']"
      ]
     },
     "execution_count": 77,
     "metadata": {},
     "output_type": "execute_result"
    }
   ],
   "source": [
    "n_list = input()\n",
    "\n",
    "n = sorted(n_list, reverse = True)\n",
    "\n",
    "n"
   ]
  },
  {
   "cell_type": "code",
   "execution_count": 78,
   "id": "7b4816ea",
   "metadata": {},
   "outputs": [
    {
     "name": "stdout",
     "output_type": "stream",
     "text": [
      "6\n"
     ]
    }
   ],
   "source": [
    "print(len(n))"
   ]
  },
  {
   "cell_type": "code",
   "execution_count": 104,
   "id": "e6a03596",
   "metadata": {},
   "outputs": [
    {
     "name": "stdout",
     "output_type": "stream",
     "text": [
      "978125\n",
      "987521"
     ]
    }
   ],
   "source": [
    "a = list(input())\n",
    "n = len(a)\n",
    "\n",
    "for i in range(n):\n",
    "    maxIdx = i\n",
    "    for j in range((i + 1), n):\n",
    "        if a[maxIdx] < a[j]:\n",
    "            maxIdx = j\n",
    "    a[i], a[maxIdx] = a[maxIdx], a[i]\n",
    "\n",
    "for i in range(len(a)):\n",
    "    print(a[i], end = '')"
   ]
  },
  {
   "cell_type": "markdown",
   "id": "fee54122",
   "metadata": {},
   "source": [
    "# 삽입 정렬"
   ]
  },
  {
   "cell_type": "code",
   "execution_count": 107,
   "id": "bec8cb6e",
   "metadata": {},
   "outputs": [
    {
     "name": "stdout",
     "output_type": "stream",
     "text": [
      "정렬 전 --> [188, 162, 168, 120, 50, 150, 177, 105]\n",
      "정렬 후 --> [50, 105, 120, 150, 162, 168, 177, 188]\n"
     ]
    }
   ],
   "source": [
    "## 함수 선언 부분 ##\n",
    "def insertionSort(ary) :\n",
    "    n = len(ary)\n",
    "    for end in range(1, n) :\n",
    "        for cur in range(end, 0, -1) :\n",
    "            if ary[cur -1] > ary[cur]:            # >: 오름차순, <: 내림차순\n",
    "                ary[cur - 1], ary[cur] = ary[cur], ary[cur - 1]\n",
    "    return ary\n",
    "\n",
    "## 전역 변수 선언 부분 ##\n",
    "dataAry = [188, 162, 168, 120, 50, 150, 177, 105]\n",
    "\n",
    "## 메인 코드 부분 ##\n",
    "print('정렬 전 -->', dataAry)\n",
    "dataAry = insertionSort(dataAry)\n",
    "print('정렬 후 -->', dataAry)"
   ]
  },
  {
   "cell_type": "markdown",
   "id": "4326538e",
   "metadata": {},
   "source": [
    "# 삽입 정렬 응용"
   ]
  },
  {
   "cell_type": "markdown",
   "id": "40d2dffb",
   "metadata": {},
   "source": [
    "**성적별 조 편성하기**\n",
    "- 학생의 성적별로 정렬한 후 가장 성적이 높은 학생과 가장 성적이 낮은 학생을 짝으로 조를 만들어 주자. 전체 학생 수는 짝수라고 가정한다."
   ]
  },
  {
   "cell_type": "code",
   "execution_count": 137,
   "id": "9aa2ddc3",
   "metadata": {},
   "outputs": [
    {
     "name": "stdout",
     "output_type": "stream",
     "text": [
      "정렬 전 --> [['선미', 88], ['초아', 99], ['화사', 71], ['영탁', 78], ['영웅', 67], ['민호', 92]]\n",
      "정렬 후 --> [['영웅', 67], ['화사', 71], ['영탁', 78], ['선미', 88], ['민호', 92], ['초아', 99]]\n",
      "## 성적별 조 편성표 ##\n",
      "영웅 초아\n",
      "화사 민호\n",
      "영탁 선미\n"
     ]
    }
   ],
   "source": [
    "## 함수 선언 부분 ##\n",
    "def scoreSort(ary) :\n",
    "    n = len(ary)\n",
    "    for end in range(1, n) :\n",
    "        for cur in range(end, 0, -1) :\n",
    "            if ( ary[cur-1][1] > ary[cur][1] ) :\n",
    "                ary[cur-1], ary[cur] = ary[cur], ary[cur-1]\n",
    "    return ary\n",
    "\n",
    "## 전역 변수 선언 부분 ##\n",
    "scoreAry = [['선미', 88], ['초아', 99], ['화사', 71], ['영탁', 78], ['영웅', 67], ['민호', 92]]\n",
    "\n",
    "## 메인 코드 부분 ##\n",
    "print('정렬 전 -->', scoreAry)\n",
    "scoreAry = scoreSort(scoreAry)\n",
    "print('정렬 후 -->', scoreAry)\n",
    "print('## 성적별 조 편성표 ##')\n",
    "\n",
    "for i in range(len(scoreAry)//2) :\n",
    "    print(scoreAry[i][0], scoreAry[-i-1][0])"
   ]
  },
  {
   "cell_type": "code",
   "execution_count": 139,
   "id": "47ecdf26",
   "metadata": {},
   "outputs": [
    {
     "name": "stdout",
     "output_type": "stream",
     "text": [
      "정렬 전 --> [['선미', 88], ['초아', 99], ['화사', 71], ['영탁', 78], ['영웅', 67], ['민호', 92]]\n",
      "정렬 후 --> [['영웅', 67], ['화사', 71], ['영탁', 78], ['선미', 88], ['민호', 92], ['초아', 99]]\n",
      "## 성적별 조 편성표 ##\n",
      "영웅 초아\n",
      "화사 민호\n",
      "영탁 선미\n"
     ]
    }
   ],
   "source": [
    "## 함수 선언 부분 ##\n",
    "def scoreSort(ary) :\n",
    "    n = len(ary)\n",
    "    for end in range(1, n) :\n",
    "        for cur in range(end, 0, -1) :\n",
    "            if ( ary[cur-1][1] > ary[cur][1] ) :\n",
    "                ary[cur-1], ary[cur] = ary[cur], ary[cur-1]\n",
    "    return ary\n",
    "\n",
    "## 전역 변수 선언 부분 ##\n",
    "scoreAry = [['선미', 88], ['초아', 99], ['화사', 71], ['영탁', 78], ['영웅', 67], ['민호', 92]]\n",
    "\n",
    "## 메인 코드 부분 ##\n",
    "print('정렬 전 -->', scoreAry)\n",
    "scoreAry = scoreSort(scoreAry)\n",
    "print('정렬 후 -->', scoreAry)\n",
    "print('## 성적별 조 편성표 ##')\n",
    "\n",
    "for i in range(len(scoreAry)//2) :\n",
    "    print(scoreAry[i][0], scoreAry[len(scoreAry)-i-1][0])"
   ]
  },
  {
   "cell_type": "markdown",
   "id": "080512d9",
   "metadata": {},
   "source": [
    "# 버블 정렬"
   ]
  },
  {
   "cell_type": "code",
   "execution_count": 143,
   "id": "cbe5a822",
   "metadata": {},
   "outputs": [
    {
     "name": "stdout",
     "output_type": "stream",
     "text": [
      "정렬 전 --> [188, 162, 168, 120, 50, 150, 177, 105]\n",
      "정렬 후 --> [188, 168, 162, 150, 177, 120, 105, 50]\n"
     ]
    }
   ],
   "source": [
    "## 함수 선언 부분 ##\n",
    "def insertionSort(ary) :\n",
    "    n = len(ary)\n",
    "    for end in range(1, n) :\n",
    "        for cur in range(0, end) :\n",
    "            if ary[cur] < ary[cur+1]:            # >: 오름차순, <: 내림차순\n",
    "                ary[cur], ary[cur+1] = ary[cur+1], ary[cur]\n",
    "    return ary\n",
    "\n",
    "## 전역 변수 선언 부분 ##\n",
    "dataAry = [188, 162, 168, 120, 50, 150, 177, 105]\n",
    "\n",
    "## 메인 코드 부분 ##\n",
    "print('정렬 전 -->', dataAry)\n",
    "dataAry = insertionSort(dataAry)\n",
    "print('정렬 후 -->', dataAry)"
   ]
  },
  {
   "cell_type": "markdown",
   "id": "05d5f192",
   "metadata": {},
   "source": [
    "# 개선된 버블 정렬"
   ]
  },
  {
   "cell_type": "code",
   "execution_count": 149,
   "id": "24a71800",
   "metadata": {},
   "outputs": [
    {
     "name": "stdout",
     "output_type": "stream",
     "text": [
      "정렬 전 --> [50, 105, 120, 188, 150, 162, 168, 177]\n",
      "정렬 후 --> [50, 105, 120, 150, 162, 168, 177, 188]\n"
     ]
    }
   ],
   "source": [
    "## 함수 선언 부분 ##\n",
    "def bubbleSort(ary) :\n",
    "    n = len(ary)\n",
    "    for end in range(n-1, 0, -1) :\n",
    "        changeYN = False\n",
    "        for cur in range(0, end) :\n",
    "            if (ary[cur] > ary[cur+1]) :\n",
    "                ary[cur], ary[cur+1] = ary[cur+1], ary[cur]\n",
    "                changeYN = True\n",
    "        if changeYN == False:\n",
    "            break\n",
    "    return ary\n",
    "\n",
    "## 전역 변수 선언 부분 ##\n",
    "dataAry = [50, 105, 120, 188, 150, 162, 168, 177]\n",
    "\n",
    "## 메인 코드 부분 ##\n",
    "print('정렬 전 -->', dataAry)\n",
    "dataAry = bubbleSort(dataAry)\n",
    "print('정렬 후 -->', dataAry)"
   ]
  },
  {
   "cell_type": "markdown",
   "id": "ecc378d3",
   "metadata": {},
   "source": [
    "# 퀵 정렬"
   ]
  },
  {
   "cell_type": "code",
   "execution_count": 150,
   "id": "ee181fa1",
   "metadata": {},
   "outputs": [
    {
     "name": "stdout",
     "output_type": "stream",
     "text": [
      "정렬 전 --> [188, 150, 168, 162, 105, 120, 177, 50]\n",
      "정렬 후 --> [50, 105, 120, 150, 162, 168, 177, 188]\n"
     ]
    }
   ],
   "source": [
    "## 함수 선언 부분 ##\n",
    "def quickSort(ary) :\n",
    "    n = len(ary)\n",
    "    \n",
    "    if n <= 1 : # 정렬할 리스트의 개수가 1개 이하면\n",
    "        return ary\n",
    "    \n",
    "    pivot = ary[n // 2]   # 기준값을 중간값으로 지정\n",
    "    leftAry, rightAry = [], []\n",
    "    \n",
    "    for num in ary :\n",
    "        if num < pivot :\n",
    "            leftAry.append(num)\n",
    "        elif num > pivot :\n",
    "            rightAry.append(num)\n",
    "    return quickSort(leftAry) + [pivot] + quickSort(rightAry)\n",
    "\n",
    "## 전역 변수 선언 부분 ##\n",
    "dataAry = [188, 150, 168,  162, 105, 120,  177,  50]\n",
    "\n",
    "## 메인 코드 부분 ##\n",
    "print('정렬 전 -->', dataAry)\n",
    "dataAry = quickSort(dataAry)\n",
    "print('정렬 후 -->', dataAry)"
   ]
  },
  {
   "cell_type": "code",
   "execution_count": 1,
   "id": "ecf47a21",
   "metadata": {
    "scrolled": true
   },
   "outputs": [
    {
     "name": "stdout",
     "output_type": "stream",
     "text": [
      "정렬 전 --> [120, 120, 188, 150, 168, 50, 50, 162, 105, 120, 177, 50]\n",
      "정렬 후 --> [50, 50, 50, 105, 120, 120, 120, 150, 162, 168, 177, 188]\n"
     ]
    }
   ],
   "source": [
    "## 함수 선언 부분 ##\n",
    "def quickSort(ary) :\n",
    "    n = len(ary)\n",
    "    if n <= 1 :   # 정렬할 리스트의 개수가 1개 이하면\n",
    "        return ary\n",
    "    pivot = ary[n // 2]   # 기준값을 중간 값으로 지정\n",
    "    leftAry, midAry, rightAry = [], [], []\n",
    "    for num in ary :\n",
    "        if num < pivot :\n",
    "            leftAry.append(num)\n",
    "        elif num > pivot :\n",
    "            rightAry.append(num)\n",
    "        else :\n",
    "            midAry.append(num)\n",
    "    return quickSort(leftAry) + midAry + quickSort(rightAry)\n",
    "## 전역 변수 선언 부분 ##\n",
    "dataAry = [120, 120, 188, 150, 168, 50, 50, 162, 105, 120,  177,  50]\n",
    "## 메인 코드 부분 ##\n",
    "print('정렬 전 -->', dataAry)\n",
    "dataAry = quickSort(dataAry)\n",
    "print('정렬 후 -->', dataAry)"
   ]
  },
  {
   "cell_type": "markdown",
   "id": "7a3a4903",
   "metadata": {},
   "source": [
    "# 퀵 정렬 일반"
   ]
  },
  {
   "cell_type": "code",
   "execution_count": 2,
   "id": "0e441238",
   "metadata": {},
   "outputs": [
    {
     "name": "stdout",
     "output_type": "stream",
     "text": [
      "정렬 전 --> [188, 150, 168, 162, 105, 120, 177, 50]\n",
      "정렬 후 --> [50, 105, 120, 150, 162, 168, 177, 188]\n"
     ]
    }
   ],
   "source": [
    "## 함수 선언 부분 ##\n",
    "def qSort(arr, start, end) :\n",
    "    if end <= start :\n",
    "        return\n",
    "    low = start\n",
    "    high = end\n",
    "    pivot = arr[(low + high) // 2]  # 작은 값은 왼쪽, 큰 값은 오른쪽으로 분리한다.\n",
    "    while low <= high :\n",
    "        while arr[low] < pivot :\n",
    "            low += 1\n",
    "        while arr[high] > pivot :\n",
    "            high -= 1\n",
    "        if low <= high :\n",
    "            arr[low], arr[high] = arr[high], arr[low]\n",
    "            low, high = low + 1, high - 1\n",
    "        mid = low\n",
    "        qSort(arr, start, mid-1)\n",
    "        qSort(arr, mid, end)\n",
    "def quickSort(ary) :\n",
    "    qSort(ary, 0, len(ary)-1)\n",
    "\n",
    "## 전역 변수 선언 부분 ##\n",
    "dataAry = [188, 150, 168, 162, 105, 120, 177, 50]\n",
    "## 메인 코드 부분 ##\n",
    "print('정렬 전 -->', dataAry)\n",
    "quickSort(dataAry)\n",
    "print('정렬 후 -->', dataAry)"
   ]
  },
  {
   "cell_type": "markdown",
   "id": "b441a870",
   "metadata": {},
   "source": [
    "# (실습 26) 선택 정렬과 퀵 정렬의 성능 비교하기\n",
    "- 선택 정렬은 O($n^2$)의 연산횟수를, 퀵 정렬렬은 O(n log n)의 연산 횟수를 갖는다. \n",
    "- 정렬할 데이터양에 따라서 두 정렬 방식의 시간 차이를 비교해 본다. \n",
    "- 데이터는 1000, 10000, 12000, 15000개를 정렬한다."
   ]
  },
  {
   "cell_type": "code",
   "execution_count": 6,
   "id": "e805446b",
   "metadata": {},
   "outputs": [
    {
     "name": "stdout",
     "output_type": "stream",
     "text": [
      "## 데이터 수 :  1000 개\n",
      "\t선택 정렬 -->      0.047 초\n",
      "\t퀵 정렬  -->      0.005 초\n",
      "\n",
      "## 데이터 수 :  10000 개\n",
      "\t선택 정렬 -->      4.143 초\n",
      "\t퀵 정렬  -->      0.031 초\n",
      "\n",
      "## 데이터 수 :  12000 개\n",
      "\t선택 정렬 -->      5.464 초\n",
      "\t퀵 정렬  -->      0.031 초\n",
      "\n",
      "## 데이터 수 :  15000 개\n",
      "\t선택 정렬 -->      9.077 초\n",
      "\t퀵 정렬  -->      0.047 초\n",
      "\n"
     ]
    }
   ],
   "source": [
    "import random\n",
    "import time\n",
    "\n",
    "## 함수 선언 부분 ##\n",
    "def selectionSort(ary) :\n",
    "    n = len(ary)\n",
    "    for i in range(0, n-1) :\n",
    "        minIdx = i\n",
    "        for k in range(i+1, n) :\n",
    "            if (ary[minIdx] > ary[k]) :\n",
    "                minIdx = k\n",
    "        tmp = ary[i]\n",
    "        ary[i] = ary[minIdx]\n",
    "        ary[minIdx] = tmp\n",
    "\n",
    "    return ary\n",
    "\n",
    "def qSort(arr, start, end) :\n",
    "    if end <= start :\n",
    "        return\n",
    "\n",
    "    low = start\n",
    "    high = end\n",
    "\n",
    "    pivot = arr[(low + high) // 2]   # 작은 값은 왼쪽, 큰 값은 오른쪽으로 분리한다.\n",
    "    while low <= high:\n",
    "        while arr[low] < pivot :\n",
    "            low += 1\n",
    "        while arr[high] > pivot :\n",
    "            high -= 1\n",
    "        if low <= high :\n",
    "            arr[low], arr[high] = arr[high], arr[low]\n",
    "            low, high = low + 1, high - 1\n",
    "\n",
    "    mid = low\n",
    "\n",
    "    qSort(arr, start, mid-1)\n",
    "    qSort(arr, mid, end)\n",
    "\n",
    "def quickSort(ary) :\n",
    "    qSort(ary, 0, len(ary)-1)\n",
    "\n",
    "## 메인 코드 부분 ##\n",
    "countAry = [1000, 10000, 12000, 15000]\n",
    "\n",
    "for count in countAry :\n",
    "    tempAry = [ random.randint(10000, 99999) for _ in range(count)]\n",
    "    selectAry = tempAry[:]\n",
    "    quickAry = tempAry[:]\n",
    "\n",
    "    print(\"## 데이터 수 : \", count, \"개\")\n",
    "    \n",
    "    start = time.time()\n",
    "    selectionSort(selectAry)\n",
    "    end = time.time()\n",
    "    print(\"\t선택 정렬 --> %10.3f 초\" % (end-start))\n",
    "    \n",
    "    start = time.time()\n",
    "    quickSort(quickAry)\n",
    "    end = time.time()\n",
    "    print(\"\t퀵 정렬  --> %10.3f 초\" % (end-start))\n",
    "    \n",
    "    print()\n",
    "\n",
    "    count *= 5\n"
   ]
  },
  {
   "cell_type": "code",
   "execution_count": null,
   "id": "e3825157",
   "metadata": {},
   "outputs": [],
   "source": []
  }
 ],
 "metadata": {
  "kernelspec": {
   "display_name": "Python 3 (ipykernel)",
   "language": "python",
   "name": "python3"
  },
  "language_info": {
   "codemirror_mode": {
    "name": "ipython",
    "version": 3
   },
   "file_extension": ".py",
   "mimetype": "text/x-python",
   "name": "python",
   "nbconvert_exporter": "python",
   "pygments_lexer": "ipython3",
   "version": "3.9.12"
  }
 },
 "nbformat": 4,
 "nbformat_minor": 5
}
