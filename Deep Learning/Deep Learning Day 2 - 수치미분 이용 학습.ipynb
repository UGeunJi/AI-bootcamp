{
 "cells": [
  {
   "cell_type": "markdown",
   "id": "4e8b240b",
   "metadata": {},
   "source": [
    "# 신경망 학습"
   ]
  },
  {
   "cell_type": "code",
   "execution_count": 2,
   "id": "c0a2601d",
   "metadata": {},
   "outputs": [],
   "source": [
    "import numpy as np\n",
    "from dataset.mnist import load_mnist"
   ]
  },
  {
   "cell_type": "markdown",
   "id": "25a6ebbd",
   "metadata": {},
   "source": [
    "## Helper functions"
   ]
  },
  {
   "cell_type": "code",
   "execution_count": 3,
   "id": "c0c5b1ad",
   "metadata": {},
   "outputs": [],
   "source": [
    "# 손실함수 (Cross Entropy)\n",
    "def cross_entropy_error(y, t):\n",
    "    delta = 1e-7 # 0.0000001\n",
    "    \n",
    "    if y.ndim == 1:\n",
    "        t = t.reshape(1, t.size) \n",
    "        y = y.reshape(1, y.size)\n",
    "        \n",
    "    batch_size = y.shape[0]\n",
    "    return -np.sum(t*np.log(y+delta))/batch_size"
   ]
  },
  {
   "cell_type": "code",
   "execution_count": 4,
   "id": "abc413a5",
   "metadata": {},
   "outputs": [],
   "source": [
    "# 신경망에서 사용할 W(Matrix 형태)의 편미분 행렬을 구하는 함수\n",
    "# 신경망의 기울기 : 그레디언트 (편미분 벡터)\n",
    "def numerical_gradient(f, x): # x의 shape이 (784, 20) => grads 도 (784, 20)\n",
    "    h = 1e-4 # 0.0001\n",
    "    grads = np.zeros_like(x)\n",
    "    \n",
    "    it = np.nditer(x, flags=[\"multi_index\"], op_flags=[\"readwrite\"])\n",
    "        \n",
    "    while not it.finished:\n",
    "        idx = it.multi_index\n",
    "        tmp_val = x[idx]\n",
    "\n",
    "        x[idx] = tmp_val + h\n",
    "        fxh1 = f(x) # f(x+h)\n",
    "        x[idx] = tmp_val - h\n",
    "        fxh2 = f(x) # f(x-h)\n",
    "    \n",
    "        grads[idx] = (fxh1 - fxh2) / (2*h)\n",
    "        x[idx] = tmp_val\n",
    "        it.iternext()\n",
    "        \n",
    "    return grads"
   ]
  },
  {
   "cell_type": "code",
   "execution_count": 5,
   "id": "44236caa",
   "metadata": {},
   "outputs": [],
   "source": [
    "# Softmax\n",
    "def softmax(x):\n",
    "    if x.ndim == 2:\n",
    "        x = x.T # 10*100\n",
    "        x = x - np.max(x, axis=0) # 10*100 - 100 = 10*100\n",
    "        y = np.exp(x) / np.sum(np.exp(x), axis=0)\n",
    "        return y.T \n",
    "\n",
    "    x = x - np.max(x) # 오버플로 대책\n",
    "    return np.exp(x) / np.sum(np.exp(x))"
   ]
  },
  {
   "cell_type": "code",
   "execution_count": 6,
   "id": "b35d3bdc",
   "metadata": {},
   "outputs": [],
   "source": [
    "# Sigmoid\n",
    "def sigmoid(x):\n",
    "    return 1/(1+np.exp(-x))"
   ]
  },
  {
   "cell_type": "markdown",
   "id": "15168194",
   "metadata": {},
   "source": [
    "## 2층 신경망 구현하기"
   ]
  },
  {
   "cell_type": "code",
   "execution_count": 28,
   "id": "03679940",
   "metadata": {},
   "outputs": [],
   "source": [
    "class TwoLayerNet:\n",
    "    def __init__(self, input_size, hidden_size, output_size, weight_init_std=0.01):\n",
    "        # 모델 파라미터 초기화\n",
    "        self.params = {}\n",
    "        self.params['W1'] = weight_init_std * np.random.randn(input_size, hidden_size)  # (784, 20)\n",
    "        self.params['b1'] = np.zeros(hidden_size)       # (20, )\n",
    "        self.params['W2'] = weight_init_std * np.random.randn(hidden_size, output_size)   # (20, 10)\n",
    "        self.params['b2'] = np.zeros(output_size)       # (10, )\n",
    "        \n",
    "    def predict(self, x):\n",
    "        W1, W2 = self.params['W1'], self.params['W2']\n",
    "        b1, b2 = self.params['b1'], self.params['b2'],\n",
    "    \n",
    "        a1 = np.dot(x, W1) + b1     # (20, )\n",
    "        z1 = sigmoid(a1)            # (20, )\n",
    "        a2 = np.dot(z1, W2) + b2    # (10, )\n",
    "        z2 = softmax(a2)            # (10, )\n",
    "        return z2\n",
    "        \n",
    "    def loss(self, x, t):\n",
    "        y = self.predict(x)\n",
    "        loss = cross_entropy_error(y, t)\n",
    "        return loss\n",
    "        \n",
    "    def numerical_gradient(self, x, t):\n",
    "        f = lambda w: self.loss(x, t)\n",
    "        \n",
    "        grads = {}\n",
    "        grads['W1'] = numerical_gradient(f, self.params['W1'])  # W1 (784, 20) --> dW1 (784, 20)\n",
    "        grads['b1'] = numerical_gradient(f, self.params['b1'])  # b1 (20, ) --> db1 (20, )\n",
    "        grads['W2'] = numerical_gradient(f, self.params['W2'])  # W2 (20, 10) --> dW2 (20, 10)\n",
    "        grads['b2'] = numerical_gradient(f, self.params['b2'])  # b2 (10, ) --> db2 (10, )\n",
    "        return grads\n",
    "    \n",
    "    def accuracy(self, ):\n",
    "        pass"
   ]
  },
  {
   "cell_type": "code",
   "execution_count": 29,
   "id": "6fce2dfa",
   "metadata": {},
   "outputs": [],
   "source": [
    "(X_train, y_train), (X_test, y_test) = load_mnist(normalize=True, flatten=True, one_hot_label=True)"
   ]
  },
  {
   "cell_type": "code",
   "execution_count": 30,
   "id": "99d12b53",
   "metadata": {},
   "outputs": [],
   "source": [
    "network = TwoLayerNet(input_size = 784, hidden_size = 20, output_size = 10)"
   ]
  },
  {
   "cell_type": "code",
   "execution_count": 31,
   "id": "bcf1bdca",
   "metadata": {},
   "outputs": [
    {
     "name": "stdout",
     "output_type": "stream",
     "text": [
      "2.296413519548535\n",
      "2.2936651002506836\n",
      "2.2955634302552044\n",
      "2.3003798146752774\n",
      "2.2997176647342554\n",
      "2.2980852157645786\n",
      "2.299867600372201\n",
      "2.298694935196747\n",
      "2.300851053396086\n",
      "2.295233290173953\n",
      "2.293713768597055\n",
      "2.2939479259830806\n",
      "2.3006807613831977\n",
      "2.302486272539229\n",
      "2.3020922663609493\n",
      "2.2959038907496665\n",
      "2.3065646486137372\n",
      "2.291779590204008\n",
      "2.289093952268112\n",
      "2.3021323362250428\n",
      "2.3010013309517627\n",
      "2.2984018751230577\n",
      "2.295466993230261\n",
      "2.294979989588273\n",
      "2.300845718496004\n",
      "2.3039543119730603\n",
      "2.2974380667915155\n",
      "2.299113708435143\n",
      "2.2976091534388443\n",
      "2.291842072306648\n",
      "2.302750364124344\n",
      "2.301833745149696\n",
      "2.2916067057803318\n",
      "2.296609789685288\n",
      "2.3005388500407835\n"
     ]
    },
    {
     "ename": "KeyboardInterrupt",
     "evalue": "",
     "output_type": "error",
     "traceback": [
      "\u001b[1;31m---------------------------------------------------------------------------\u001b[0m",
      "\u001b[1;31mKeyboardInterrupt\u001b[0m                         Traceback (most recent call last)",
      "Input \u001b[1;32mIn [31]\u001b[0m, in \u001b[0;36m<cell line: 6>\u001b[1;34m()\u001b[0m\n\u001b[0;32m      9\u001b[0m t_batch \u001b[38;5;241m=\u001b[39m y_train[batch_mask]\n\u001b[0;32m     11\u001b[0m \u001b[38;5;66;03m# 1. Gradient\u001b[39;00m\n\u001b[1;32m---> 12\u001b[0m grads \u001b[38;5;241m=\u001b[39m \u001b[43mnetwork\u001b[49m\u001b[38;5;241;43m.\u001b[39;49m\u001b[43mnumerical_gradient\u001b[49m\u001b[43m(\u001b[49m\u001b[43mx_batch\u001b[49m\u001b[43m,\u001b[49m\u001b[43m \u001b[49m\u001b[43mt_batch\u001b[49m\u001b[43m)\u001b[49m\n\u001b[0;32m     14\u001b[0m \u001b[38;5;66;03m# 2. Gradient Descent (모델 파라미터 업데이트)\u001b[39;00m\n\u001b[0;32m     15\u001b[0m \u001b[38;5;28;01mfor\u001b[39;00m keys \u001b[38;5;129;01min\u001b[39;00m (\u001b[38;5;124m'\u001b[39m\u001b[38;5;124mW1\u001b[39m\u001b[38;5;124m'\u001b[39m, \u001b[38;5;124m'\u001b[39m\u001b[38;5;124mW2\u001b[39m\u001b[38;5;124m'\u001b[39m, \u001b[38;5;124m'\u001b[39m\u001b[38;5;124mb1\u001b[39m\u001b[38;5;124m'\u001b[39m, \u001b[38;5;124m'\u001b[39m\u001b[38;5;124mb2\u001b[39m\u001b[38;5;124m'\u001b[39m):\n\u001b[0;32m     16\u001b[0m     \u001b[38;5;66;03m# W(new) <-- W(old) - (lr * Gradient): 경사 하강법\u001b[39;00m\n",
      "Input \u001b[1;32mIn [28]\u001b[0m, in \u001b[0;36mTwoLayerNet.numerical_gradient\u001b[1;34m(self, x, t)\u001b[0m\n\u001b[0;32m     26\u001b[0m f \u001b[38;5;241m=\u001b[39m \u001b[38;5;28;01mlambda\u001b[39;00m w: \u001b[38;5;28mself\u001b[39m\u001b[38;5;241m.\u001b[39mloss(x, t)\n\u001b[0;32m     28\u001b[0m grads \u001b[38;5;241m=\u001b[39m {}\n\u001b[1;32m---> 29\u001b[0m grads[\u001b[38;5;124m'\u001b[39m\u001b[38;5;124mW1\u001b[39m\u001b[38;5;124m'\u001b[39m] \u001b[38;5;241m=\u001b[39m \u001b[43mnumerical_gradient\u001b[49m\u001b[43m(\u001b[49m\u001b[43mf\u001b[49m\u001b[43m,\u001b[49m\u001b[43m \u001b[49m\u001b[38;5;28;43mself\u001b[39;49m\u001b[38;5;241;43m.\u001b[39;49m\u001b[43mparams\u001b[49m\u001b[43m[\u001b[49m\u001b[38;5;124;43m'\u001b[39;49m\u001b[38;5;124;43mW1\u001b[39;49m\u001b[38;5;124;43m'\u001b[39;49m\u001b[43m]\u001b[49m\u001b[43m)\u001b[49m  \u001b[38;5;66;03m# W1 (784, 20) --> dW1 (784, 20)\u001b[39;00m\n\u001b[0;32m     30\u001b[0m grads[\u001b[38;5;124m'\u001b[39m\u001b[38;5;124mb1\u001b[39m\u001b[38;5;124m'\u001b[39m] \u001b[38;5;241m=\u001b[39m numerical_gradient(f, \u001b[38;5;28mself\u001b[39m\u001b[38;5;241m.\u001b[39mparams[\u001b[38;5;124m'\u001b[39m\u001b[38;5;124mb1\u001b[39m\u001b[38;5;124m'\u001b[39m])  \u001b[38;5;66;03m# b1 (20, ) --> db1 (20, )\u001b[39;00m\n\u001b[0;32m     31\u001b[0m grads[\u001b[38;5;124m'\u001b[39m\u001b[38;5;124mW2\u001b[39m\u001b[38;5;124m'\u001b[39m] \u001b[38;5;241m=\u001b[39m numerical_gradient(f, \u001b[38;5;28mself\u001b[39m\u001b[38;5;241m.\u001b[39mparams[\u001b[38;5;124m'\u001b[39m\u001b[38;5;124mW2\u001b[39m\u001b[38;5;124m'\u001b[39m])  \u001b[38;5;66;03m# W2 (20, 10) --> dW2 (20, 10)\u001b[39;00m\n",
      "Input \u001b[1;32mIn [4]\u001b[0m, in \u001b[0;36mnumerical_gradient\u001b[1;34m(f, x)\u001b[0m\n\u001b[0;32m     11\u001b[0m tmp_val \u001b[38;5;241m=\u001b[39m x[idx]\n\u001b[0;32m     13\u001b[0m x[idx] \u001b[38;5;241m=\u001b[39m tmp_val \u001b[38;5;241m+\u001b[39m h\n\u001b[1;32m---> 14\u001b[0m fxh1 \u001b[38;5;241m=\u001b[39m \u001b[43mf\u001b[49m\u001b[43m(\u001b[49m\u001b[43mx\u001b[49m\u001b[43m)\u001b[49m \u001b[38;5;66;03m# f(x+h)\u001b[39;00m\n\u001b[0;32m     15\u001b[0m x[idx] \u001b[38;5;241m=\u001b[39m tmp_val \u001b[38;5;241m-\u001b[39m h\n\u001b[0;32m     16\u001b[0m fxh2 \u001b[38;5;241m=\u001b[39m f(x) \u001b[38;5;66;03m# f(x-h)\u001b[39;00m\n",
      "Input \u001b[1;32mIn [28]\u001b[0m, in \u001b[0;36mTwoLayerNet.numerical_gradient.<locals>.<lambda>\u001b[1;34m(w)\u001b[0m\n\u001b[0;32m     25\u001b[0m \u001b[38;5;28;01mdef\u001b[39;00m \u001b[38;5;21mnumerical_gradient\u001b[39m(\u001b[38;5;28mself\u001b[39m, x, t):\n\u001b[1;32m---> 26\u001b[0m     f \u001b[38;5;241m=\u001b[39m \u001b[38;5;28;01mlambda\u001b[39;00m w: \u001b[38;5;28;43mself\u001b[39;49m\u001b[38;5;241;43m.\u001b[39;49m\u001b[43mloss\u001b[49m\u001b[43m(\u001b[49m\u001b[43mx\u001b[49m\u001b[43m,\u001b[49m\u001b[43m \u001b[49m\u001b[43mt\u001b[49m\u001b[43m)\u001b[49m\n\u001b[0;32m     28\u001b[0m     grads \u001b[38;5;241m=\u001b[39m {}\n\u001b[0;32m     29\u001b[0m     grads[\u001b[38;5;124m'\u001b[39m\u001b[38;5;124mW1\u001b[39m\u001b[38;5;124m'\u001b[39m] \u001b[38;5;241m=\u001b[39m numerical_gradient(f, \u001b[38;5;28mself\u001b[39m\u001b[38;5;241m.\u001b[39mparams[\u001b[38;5;124m'\u001b[39m\u001b[38;5;124mW1\u001b[39m\u001b[38;5;124m'\u001b[39m])  \u001b[38;5;66;03m# W1 (784, 20) --> dW1 (784, 20)\u001b[39;00m\n",
      "Input \u001b[1;32mIn [28]\u001b[0m, in \u001b[0;36mTwoLayerNet.loss\u001b[1;34m(self, x, t)\u001b[0m\n\u001b[0;32m     20\u001b[0m \u001b[38;5;28;01mdef\u001b[39;00m \u001b[38;5;21mloss\u001b[39m(\u001b[38;5;28mself\u001b[39m, x, t):\n\u001b[1;32m---> 21\u001b[0m     y \u001b[38;5;241m=\u001b[39m \u001b[38;5;28;43mself\u001b[39;49m\u001b[38;5;241;43m.\u001b[39;49m\u001b[43mpredict\u001b[49m\u001b[43m(\u001b[49m\u001b[43mx\u001b[49m\u001b[43m)\u001b[49m\n\u001b[0;32m     22\u001b[0m     loss \u001b[38;5;241m=\u001b[39m cross_entropy_error(y, t)\n\u001b[0;32m     23\u001b[0m     \u001b[38;5;28;01mreturn\u001b[39;00m loss\n",
      "Input \u001b[1;32mIn [28]\u001b[0m, in \u001b[0;36mTwoLayerNet.predict\u001b[1;34m(self, x)\u001b[0m\n\u001b[0;32m     11\u001b[0m W1, W2 \u001b[38;5;241m=\u001b[39m \u001b[38;5;28mself\u001b[39m\u001b[38;5;241m.\u001b[39mparams[\u001b[38;5;124m'\u001b[39m\u001b[38;5;124mW1\u001b[39m\u001b[38;5;124m'\u001b[39m], \u001b[38;5;28mself\u001b[39m\u001b[38;5;241m.\u001b[39mparams[\u001b[38;5;124m'\u001b[39m\u001b[38;5;124mW2\u001b[39m\u001b[38;5;124m'\u001b[39m]\n\u001b[0;32m     12\u001b[0m b1, b2 \u001b[38;5;241m=\u001b[39m \u001b[38;5;28mself\u001b[39m\u001b[38;5;241m.\u001b[39mparams[\u001b[38;5;124m'\u001b[39m\u001b[38;5;124mb1\u001b[39m\u001b[38;5;124m'\u001b[39m], \u001b[38;5;28mself\u001b[39m\u001b[38;5;241m.\u001b[39mparams[\u001b[38;5;124m'\u001b[39m\u001b[38;5;124mb2\u001b[39m\u001b[38;5;124m'\u001b[39m],\n\u001b[1;32m---> 14\u001b[0m a1 \u001b[38;5;241m=\u001b[39m \u001b[43mnp\u001b[49m\u001b[38;5;241;43m.\u001b[39;49m\u001b[43mdot\u001b[49m\u001b[43m(\u001b[49m\u001b[43mx\u001b[49m\u001b[43m,\u001b[49m\u001b[43m \u001b[49m\u001b[43mW1\u001b[49m\u001b[43m)\u001b[49m \u001b[38;5;241m+\u001b[39m b1     \u001b[38;5;66;03m# (20, )\u001b[39;00m\n\u001b[0;32m     15\u001b[0m z1 \u001b[38;5;241m=\u001b[39m sigmoid(a1)            \u001b[38;5;66;03m# (20, )\u001b[39;00m\n\u001b[0;32m     16\u001b[0m a2 \u001b[38;5;241m=\u001b[39m np\u001b[38;5;241m.\u001b[39mdot(z1, W2) \u001b[38;5;241m+\u001b[39m b2    \u001b[38;5;66;03m# (10, )\u001b[39;00m\n",
      "File \u001b[1;32m<__array_function__ internals>:5\u001b[0m, in \u001b[0;36mdot\u001b[1;34m(*args, **kwargs)\u001b[0m\n",
      "\u001b[1;31mKeyboardInterrupt\u001b[0m: "
     ]
    }
   ],
   "source": [
    "# Hyper Parameter\n",
    "iters_num = 1000\n",
    "batch_size = 100 # mini batch size\n",
    "learning_rate = 0.1\n",
    "\n",
    "for i in range(iters_num):\n",
    "    batch_mask = np.random.choice(60000, 100)\n",
    "    x_batch = X_train[batch_mask]\n",
    "    t_batch = y_train[batch_mask]\n",
    "\n",
    "    # 1. Gradient\n",
    "    grads = network.numerical_gradient(x_batch, t_batch)\n",
    "\n",
    "    # 2. Gradient Descent (모델 파라미터 업데이트)\n",
    "    for keys in ('W1', 'W2', 'b1', 'b2'):\n",
    "        # W(new) <-- W(old) - (lr * Gradient): 경사 하강법\n",
    "        network.params[keys] = network.params[keys] - (learning_rate * grads[keys])\n",
    "\n",
    "    loss = network.loss(x_batch, t_batch)\n",
    "    print(loss)"
   ]
  }
 ],
 "metadata": {
  "kernelspec": {
   "display_name": "Python 3 (ipykernel)",
   "language": "python",
   "name": "python3"
  },
  "language_info": {
   "codemirror_mode": {
    "name": "ipython",
    "version": 3
   },
   "file_extension": ".py",
   "mimetype": "text/x-python",
   "name": "python",
   "nbconvert_exporter": "python",
   "pygments_lexer": "ipython3",
   "version": "3.9.12"
  }
 },
 "nbformat": 4,
 "nbformat_minor": 5
}
