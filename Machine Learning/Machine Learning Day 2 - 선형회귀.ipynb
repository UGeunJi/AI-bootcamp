{
 "cells": [
  {
   "cell_type": "markdown",
   "id": "e6efbf10",
   "metadata": {
    "id": "e6efbf10"
   },
   "source": [
    "# 선형회귀"
   ]
  },
  {
   "cell_type": "code",
   "execution_count": 3,
   "id": "614919fd",
   "metadata": {
    "executionInfo": {
     "elapsed": 464,
     "status": "ok",
     "timestamp": 1669616612689,
     "user": {
      "displayName": "장경희",
      "userId": "05148120440289478711"
     },
     "user_tz": -540
    },
    "id": "614919fd"
   },
   "outputs": [],
   "source": [
    "import numpy as np\n",
    "import matplotlib.pyplot as plt\n",
    "from IPython.display import Image\n",
    "np.random.seed(42)"
   ]
  },
  {
   "cell_type": "markdown",
   "id": "288cda0b",
   "metadata": {
    "id": "288cda0b"
   },
   "source": [
    "## 1. 정규 방정식을 사용한 선형회귀"
   ]
  },
  {
   "cell_type": "markdown",
   "id": "uddi1Rdqxj_f",
   "metadata": {
    "id": "uddi1Rdqxj_f"
   },
   "source": [
    "- y =3X + 4"
   ]
  },
  {
   "cell_type": "code",
   "execution_count": 4,
   "id": "O0IEp-whxj1K",
   "metadata": {
    "executionInfo": {
     "elapsed": 3,
     "status": "ok",
     "timestamp": 1669616614128,
     "user": {
      "displayName": "장경희",
      "userId": "05148120440289478711"
     },
     "user_tz": -540
    },
    "id": "O0IEp-whxj1K"
   },
   "outputs": [],
   "source": [
    "X = 2 * np.random.rand(100, 1)\n",
    "y = 3 * X + 4 + np.random.randn(100, 1)"
   ]
  },
  {
   "cell_type": "code",
   "execution_count": 5,
   "id": "WHpjZAyHxjrH",
   "metadata": {
    "colab": {
     "base_uri": "https://localhost:8080/",
     "height": 283
    },
    "executionInfo": {
     "elapsed": 16,
     "status": "ok",
     "timestamp": 1669616614969,
     "user": {
      "displayName": "장경희",
      "userId": "05148120440289478711"
     },
     "user_tz": -540
    },
    "id": "WHpjZAyHxjrH",
    "outputId": "1e93edb5-fb42-4f09-b76a-0b44715075b3"
   },
   "outputs": [
    {
     "data": {
      "text/plain": [
       "[<matplotlib.lines.Line2D at 0x1ea312ccb80>]"
      ]
     },
     "execution_count": 5,
     "metadata": {},
     "output_type": "execute_result"
    },
    {
     "data": {
      "image/png": "[encoded data removed]",
      "text/plain": [
       "<Figure size 432x288 with 1 Axes>"
      ]
     },
     "metadata": {
      "needs_background": "light"
     },
     "output_type": "display_data"
    }
   ],
   "source": [
    "plt.plot(X, y, '.')"
   ]
  },
  {
   "cell_type": "code",
   "execution_count": 6,
   "id": "bc57WcdP4K_d",
   "metadata": {
    "id": "bc57WcdP4K_d"
   },
   "outputs": [
    {
     "data": {
      "text/plain": [
       "array([[1.],\n",
       "       [1.],\n",
       "       [1.],\n",
       "       [1.],\n",
       "       [1.],\n",
       "       [1.],\n",
       "       [1.],\n",
       "       [1.],\n",
       "       [1.],\n",
       "       [1.],\n",
       "       [1.],\n",
       "       [1.],\n",
       "       [1.],\n",
       "       [1.],\n",
       "       [1.],\n",
       "       [1.],\n",
       "       [1.],\n",
       "       [1.],\n",
       "       [1.],\n",
       "       [1.],\n",
       "       [1.],\n",
       "       [1.],\n",
       "       [1.],\n",
       "       [1.],\n",
       "       [1.],\n",
       "       [1.],\n",
       "       [1.],\n",
       "       [1.],\n",
       "       [1.],\n",
       "       [1.],\n",
       "       [1.],\n",
       "       [1.],\n",
       "       [1.],\n",
       "       [1.],\n",
       "       [1.],\n",
       "       [1.],\n",
       "       [1.],\n",
       "       [1.],\n",
       "       [1.],\n",
       "       [1.],\n",
       "       [1.],\n",
       "       [1.],\n",
       "       [1.],\n",
       "       [1.],\n",
       "       [1.],\n",
       "       [1.],\n",
       "       [1.],\n",
       "       [1.],\n",
       "       [1.],\n",
       "       [1.],\n",
       "       [1.],\n",
       "       [1.],\n",
       "       [1.],\n",
       "       [1.],\n",
       "       [1.],\n",
       "       [1.],\n",
       "       [1.],\n",
       "       [1.],\n",
       "       [1.],\n",
       "       [1.],\n",
       "       [1.],\n",
       "       [1.],\n",
       "       [1.],\n",
       "       [1.],\n",
       "       [1.],\n",
       "       [1.],\n",
       "       [1.],\n",
       "       [1.],\n",
       "       [1.],\n",
       "       [1.],\n",
       "       [1.],\n",
       "       [1.],\n",
       "       [1.],\n",
       "       [1.],\n",
       "       [1.],\n",
       "       [1.],\n",
       "       [1.],\n",
       "       [1.],\n",
       "       [1.],\n",
       "       [1.],\n",
       "       [1.],\n",
       "       [1.],\n",
       "       [1.],\n",
       "       [1.],\n",
       "       [1.],\n",
       "       [1.],\n",
       "       [1.],\n",
       "       [1.],\n",
       "       [1.],\n",
       "       [1.],\n",
       "       [1.],\n",
       "       [1.],\n",
       "       [1.],\n",
       "       [1.],\n",
       "       [1.],\n",
       "       [1.],\n",
       "       [1.],\n",
       "       [1.],\n",
       "       [1.],\n",
       "       [1.]])"
      ]
     },
     "execution_count": 6,
     "metadata": {},
     "output_type": "execute_result"
    }
   ],
   "source": [
    "np.ones((100, 1))"
   ]
  },
  {
   "cell_type": "code",
   "execution_count": 7,
   "id": "QwEA5JVA24zV",
   "metadata": {
    "executionInfo": {
     "elapsed": 3,
     "status": "ok",
     "timestamp": 1669616617822,
     "user": {
      "displayName": "장경희",
      "userId": "05148120440289478711"
     },
     "user_tz": -540
    },
    "id": "QwEA5JVA24zV"
   },
   "outputs": [],
   "source": [
    "X_b = np.c_[np.ones((100, 1)), X]"
   ]
  },
  {
   "cell_type": "code",
   "execution_count": 114,
   "id": "ba0cab76",
   "metadata": {
    "colab": {
     "base_uri": "https://localhost:8080/",
     "height": 77
    },
    "executionInfo": {
     "elapsed": 8,
     "status": "ok",
     "timestamp": 1669616686949,
     "user": {
      "displayName": "장경희",
      "userId": "05148120440289478711"
     },
     "user_tz": -540
    },
    "id": "ba0cab76",
    "outputId": "190052ea-3f25-4d98-8827-6097b8c3bb99"
   },
   "outputs": [
    {
     "data": {
      "image/png": "[encoded data removed]",
      "text/plain": [
       "<IPython.core.display.Image object>"
      ]
     },
     "execution_count": 114,
     "metadata": {},
     "output_type": "execute_result"
    }
   ],
   "source": [
    "Image('./images/img1.png')"
   ]
  },
  {
   "cell_type": "markdown",
   "id": "1ce0b5e1",
   "metadata": {
    "id": "1ce0b5e1"
   },
   "source": [
    "- 정규방정식 공식을 np.linalg 함수를 이용해서 해를 구함"
   ]
  },
  {
   "cell_type": "code",
   "execution_count": 9,
   "id": "e9c26f16",
   "metadata": {
    "executionInfo": {
     "elapsed": 767,
     "status": "ok",
     "timestamp": 1669616633074,
     "user": {
      "displayName": "장경희",
      "userId": "05148120440289478711"
     },
     "user_tz": -540
    },
    "id": "e9c26f16"
   },
   "outputs": [],
   "source": [
    "theta_best = np.linalg.inv(X_b.T.dot(X_b)).dot(X_b.T).dot(y)"
   ]
  },
  {
   "cell_type": "code",
   "execution_count": 10,
   "id": "69ef510d",
   "metadata": {
    "colab": {
     "base_uri": "https://localhost:8080/"
    },
    "executionInfo": {
     "elapsed": 5,
     "status": "ok",
     "timestamp": 1669616634617,
     "user": {
      "displayName": "장경희",
      "userId": "05148120440289478711"
     },
     "user_tz": -540
    },
    "id": "69ef510d",
    "outputId": "2c2440c4-6adc-450b-bb28-b2b606a13f80"
   },
   "outputs": [
    {
     "data": {
      "text/plain": [
       "array([[4.21509616],\n",
       "       [2.77011339]])"
      ]
     },
     "execution_count": 10,
     "metadata": {},
     "output_type": "execute_result"
    }
   ],
   "source": [
    "theta_best"
   ]
  },
  {
   "cell_type": "code",
   "execution_count": 11,
   "id": "CoiPt98l5pAl",
   "metadata": {
    "id": "CoiPt98l5pAl"
   },
   "outputs": [],
   "source": [
    "# array([[4.21509616], # theta 0 : 절편\n",
    "#        [2.77011339]]) # theta 1 : 기울기\n",
    "# y = 3X + 4"
   ]
  },
  {
   "cell_type": "markdown",
   "id": "501f36be",
   "metadata": {
    "id": "501f36be"
   },
   "source": [
    "- scikit-learn 제공 LinearRegression 사용"
   ]
  },
  {
   "cell_type": "code",
   "execution_count": 12,
   "id": "4f51f975",
   "metadata": {
    "executionInfo": {
     "elapsed": 4,
     "status": "ok",
     "timestamp": 1669616739703,
     "user": {
      "displayName": "장경희",
      "userId": "05148120440289478711"
     },
     "user_tz": -540
    },
    "id": "4f51f975"
   },
   "outputs": [],
   "source": [
    "from sklearn.linear_model import LinearRegression"
   ]
  },
  {
   "cell_type": "code",
   "execution_count": 13,
   "id": "b4ca488d",
   "metadata": {
    "colab": {
     "base_uri": "https://localhost:8080/"
    },
    "executionInfo": {
     "elapsed": 443,
     "status": "ok",
     "timestamp": 1669616771987,
     "user": {
      "displayName": "장경희",
      "userId": "05148120440289478711"
     },
     "user_tz": -540
    },
    "id": "b4ca488d",
    "outputId": "5de4975f-e227-4c6c-8fe4-88f321d611a0"
   },
   "outputs": [
    {
     "data": {
      "text/plain": [
       "LinearRegression()"
      ]
     },
     "execution_count": 13,
     "metadata": {},
     "output_type": "execute_result"
    }
   ],
   "source": [
    "lin_reg = LinearRegression()\n",
    "lin_reg.fit(X, y)"
   ]
  },
  {
   "cell_type": "code",
   "execution_count": 14,
   "id": "1x852OSJ6jA6",
   "metadata": {
    "colab": {
     "base_uri": "https://localhost:8080/"
    },
    "executionInfo": {
     "elapsed": 7,
     "status": "ok",
     "timestamp": 1669616807730,
     "user": {
      "displayName": "장경희",
      "userId": "05148120440289478711"
     },
     "user_tz": -540
    },
    "id": "1x852OSJ6jA6",
    "outputId": "b819aa00-1bdd-4cb4-9cf9-a526682eed63"
   },
   "outputs": [
    {
     "data": {
      "text/plain": [
       "(array([4.21509616]), array([[2.77011339]]))"
      ]
     },
     "execution_count": 14,
     "metadata": {},
     "output_type": "execute_result"
    }
   ],
   "source": [
    "lin_reg.intercept_, lin_reg.coef_"
   ]
  },
  {
   "cell_type": "markdown",
   "id": "a43ab40d",
   "metadata": {
    "id": "a43ab40d"
   },
   "source": [
    "## 2. 경사 하강법을 사용한 선형회귀"
   ]
  },
  {
   "cell_type": "markdown",
   "id": "800c7bdb",
   "metadata": {
    "id": "800c7bdb"
   },
   "source": [
    "**경사하강법**"
   ]
  },
  {
   "cell_type": "code",
   "execution_count": 115,
   "id": "a5ab7765",
   "metadata": {
    "id": "a5ab7765",
    "outputId": "690ab108-5286-48f2-90dc-72321b3cdda6"
   },
   "outputs": [
    {
     "data": {
      "image/png": "[encoded data removed]",
      "text/plain": [
       "<IPython.core.display.Image object>"
      ]
     },
     "execution_count": 115,
     "metadata": {},
     "output_type": "execute_result"
    }
   ],
   "source": [
    "Image('./images/img2.png')"
   ]
  },
  {
   "cell_type": "markdown",
   "id": "02401448",
   "metadata": {
    "id": "02401448"
   },
   "source": [
    "**그레디언트**"
   ]
  },
  {
   "cell_type": "code",
   "execution_count": 117,
   "id": "8b026287",
   "metadata": {
    "id": "8b026287",
    "outputId": "b64fcb27-8425-40fc-d5a0-8eb0bedefa8e"
   },
   "outputs": [
    {
     "data": {
      "image/png": "[encoded data removed]",
      "text/plain": [
       "<IPython.core.display.Image object>"
      ]
     },
     "execution_count": 117,
     "metadata": {},
     "output_type": "execute_result"
    }
   ],
   "source": [
    "Image('./images/img3.png')"
   ]
  },
  {
   "cell_type": "markdown",
   "id": "3f164988",
   "metadata": {
    "id": "3f164988"
   },
   "source": [
    "- 배치 경사하강법"
   ]
  },
  {
   "cell_type": "code",
   "execution_count": 17,
   "id": "d26eb708",
   "metadata": {
    "executionInfo": {
     "elapsed": 321,
     "status": "ok",
     "timestamp": 1669617304445,
     "user": {
      "displayName": "장경희",
      "userId": "05148120440289478711"
     },
     "user_tz": -540
    },
    "id": "d26eb708"
   },
   "outputs": [],
   "source": [
    "m = 100\n",
    "theta = np.random.randn(2, 1)\n",
    "eta = 0.1\n",
    "n_iterations = 1000\n",
    "\n",
    "for iteration in range(n_iterations):\n",
    "  gradients = 2/m * X_b.T.dot(X_b.dot(theta) - y) # gradients (theta1에 대한 미분, theta2에 대한 미분)\n",
    "  theta = theta - eta*gradients # theta (theta 0, theta 1)"
   ]
  },
  {
   "cell_type": "code",
   "execution_count": 18,
   "id": "7HDrYYNS8kw2",
   "metadata": {
    "colab": {
     "base_uri": "https://localhost:8080/"
    },
    "executionInfo": {
     "elapsed": 432,
     "status": "ok",
     "timestamp": 1669617311400,
     "user": {
      "displayName": "장경희",
      "userId": "05148120440289478711"
     },
     "user_tz": -540
    },
    "id": "7HDrYYNS8kw2",
    "outputId": "0f70224f-4709-42f9-8b63-bd8c94e6b223"
   },
   "outputs": [
    {
     "data": {
      "text/plain": [
       "array([[4.21509616],\n",
       "       [2.77011339]])"
      ]
     },
     "execution_count": 18,
     "metadata": {},
     "output_type": "execute_result"
    }
   ],
   "source": [
    "theta # y= 3X + 4"
   ]
  },
  {
   "cell_type": "markdown",
   "id": "5b0da631",
   "metadata": {
    "id": "5b0da631"
   },
   "source": [
    "- 확률적 경사하강법"
   ]
  },
  {
   "cell_type": "code",
   "execution_count": 19,
   "id": "44b98ac7",
   "metadata": {
    "executionInfo": {
     "elapsed": 330,
     "status": "ok",
     "timestamp": 1669617370087,
     "user": {
      "displayName": "장경희",
      "userId": "05148120440289478711"
     },
     "user_tz": -540
    },
    "id": "44b98ac7"
   },
   "outputs": [],
   "source": [
    "np.random.seed(42)"
   ]
  },
  {
   "cell_type": "code",
   "execution_count": 20,
   "id": "a7643e89",
   "metadata": {
    "executionInfo": {
     "elapsed": 1035,
     "status": "ok",
     "timestamp": 1669619633208,
     "user": {
      "displayName": "장경희",
      "userId": "05148120440289478711"
     },
     "user_tz": -540
    },
    "id": "a7643e89"
   },
   "outputs": [],
   "source": [
    "m = 100\n",
    "theta = np.random.randn(2, 1)\n",
    "n_epochs = 50 \n",
    "t0, t1 = 5, 50\n",
    "def learning_schedule(t):\n",
    "  return t0/(t + t1)\n",
    "\n",
    "for epoch in range(n_epochs): # epoch : 모든 데이터가 학습에 참여했을 때 1 epoch\n",
    "  for i in range(m): # m: 100개 샘플수 (100개의 샘플중에 여러번 뽑히는 샘플도 있고, 전혀 선택되지 않는 샘플도 있음)\n",
    "    random_index = np.random.randint(m)\n",
    "    xi = X_b[random_index:random_index+1]\n",
    "    yi = y[random_index:random_index+1]\n",
    "    gradients = 2 * xi.T.dot(xi.dot(theta) - yi) # gradients (theta1에 대한 미분, theta2에 대한 미분)\n",
    "    eta = learning_schedule(epoch*m+ i) # step수가 증감함에 따라 eta(학습률)이 작아지게 함\n",
    "    theta = theta - eta*gradients # theta (theta 0, theta 1)"
   ]
  },
  {
   "cell_type": "code",
   "execution_count": 21,
   "id": "6a7edbcd",
   "metadata": {
    "colab": {
     "base_uri": "https://localhost:8080/"
    },
    "executionInfo": {
     "elapsed": 4,
     "status": "ok",
     "timestamp": 1669619638881,
     "user": {
      "displayName": "장경희",
      "userId": "05148120440289478711"
     },
     "user_tz": -540
    },
    "id": "6a7edbcd",
    "outputId": "dc0cb48c-b709-4b33-f35c-51434c5ab3a9"
   },
   "outputs": [
    {
     "data": {
      "text/plain": [
       "array([[4.21076011],\n",
       "       [2.74856079]])"
      ]
     },
     "execution_count": 21,
     "metadata": {},
     "output_type": "execute_result"
    }
   ],
   "source": [
    "theta # y = 3X + 4"
   ]
  },
  {
   "cell_type": "markdown",
   "id": "c94d63af",
   "metadata": {
    "id": "c94d63af"
   },
   "source": [
    "- scikit-learn 제공하는 SGDRegressor() 사용"
   ]
  },
  {
   "cell_type": "code",
   "execution_count": 22,
   "id": "90503a75",
   "metadata": {
    "executionInfo": {
     "elapsed": 291,
     "status": "ok",
     "timestamp": 1669619727298,
     "user": {
      "displayName": "장경희",
      "userId": "05148120440289478711"
     },
     "user_tz": -540
    },
    "id": "90503a75"
   },
   "outputs": [],
   "source": [
    "from sklearn.linear_model import SGDRegressor"
   ]
  },
  {
   "cell_type": "code",
   "execution_count": 23,
   "id": "M2jpnklcGT8X",
   "metadata": {
    "colab": {
     "base_uri": "https://localhost:8080/"
    },
    "executionInfo": {
     "elapsed": 10,
     "status": "ok",
     "timestamp": 1669619876452,
     "user": {
      "displayName": "장경희",
      "userId": "05148120440289478711"
     },
     "user_tz": -540
    },
    "id": "M2jpnklcGT8X",
    "outputId": "85e5fe9b-8320-4d4e-dbb0-aa49118ff074"
   },
   "outputs": [
    {
     "data": {
      "text/plain": [
       "(100, 1)"
      ]
     },
     "execution_count": 23,
     "metadata": {},
     "output_type": "execute_result"
    }
   ],
   "source": [
    "y.shape"
   ]
  },
  {
   "cell_type": "code",
   "execution_count": 24,
   "id": "eW-AUlBtGd_1",
   "metadata": {
    "colab": {
     "base_uri": "https://localhost:8080/"
    },
    "executionInfo": {
     "elapsed": 720,
     "status": "ok",
     "timestamp": 1669619916042,
     "user": {
      "displayName": "장경희",
      "userId": "05148120440289478711"
     },
     "user_tz": -540
    },
    "id": "eW-AUlBtGd_1",
    "outputId": "2d4f367d-8a8e-4cd3-c6fa-fca4d69b5456"
   },
   "outputs": [
    {
     "data": {
      "text/plain": [
       "(100,)"
      ]
     },
     "execution_count": 24,
     "metadata": {},
     "output_type": "execute_result"
    }
   ],
   "source": [
    "y.ravel().shape"
   ]
  },
  {
   "cell_type": "code",
   "execution_count": 25,
   "id": "nxibxPo1Gj4k",
   "metadata": {
    "colab": {
     "base_uri": "https://localhost:8080/"
    },
    "executionInfo": {
     "elapsed": 8,
     "status": "ok",
     "timestamp": 1669619936386,
     "user": {
      "displayName": "장경희",
      "userId": "05148120440289478711"
     },
     "user_tz": -540
    },
    "id": "nxibxPo1Gj4k",
    "outputId": "572815df-3873-4413-99ef-41deec087fbd"
   },
   "outputs": [
    {
     "data": {
      "text/plain": [
       "(100,)"
      ]
     },
     "execution_count": 25,
     "metadata": {},
     "output_type": "execute_result"
    }
   ],
   "source": [
    "y.flatten().shape"
   ]
  },
  {
   "cell_type": "code",
   "execution_count": 26,
   "id": "f59485a7",
   "metadata": {
    "colab": {
     "base_uri": "https://localhost:8080/"
    },
    "executionInfo": {
     "elapsed": 482,
     "status": "ok",
     "timestamp": 1669619955626,
     "user": {
      "displayName": "장경희",
      "userId": "05148120440289478711"
     },
     "user_tz": -540
    },
    "id": "f59485a7",
    "outputId": "2f39e0d9-cb18-46f7-f375-0ace811dc05d"
   },
   "outputs": [
    {
     "data": {
      "text/plain": [
       "SGDRegressor(eta0=0.1, max_iter=50, penalty=None, random_state=42)"
      ]
     },
     "execution_count": 26,
     "metadata": {},
     "output_type": "execute_result"
    }
   ],
   "source": [
    "sgd_reg = SGDRegressor(max_iter=50, penalty=None, eta0=0.1, random_state=42)\n",
    "sgd_reg.fit(X, y.ravel())"
   ]
  },
  {
   "cell_type": "code",
   "execution_count": 27,
   "id": "U8g3ILZbGsVa",
   "metadata": {
    "colab": {
     "base_uri": "https://localhost:8080/"
    },
    "executionInfo": {
     "elapsed": 11,
     "status": "ok",
     "timestamp": 1669619987895,
     "user": {
      "displayName": "장경희",
      "userId": "05148120440289478711"
     },
     "user_tz": -540
    },
    "id": "U8g3ILZbGsVa",
    "outputId": "ea1786eb-2148-4988-cec5-0151d5620596"
   },
   "outputs": [
    {
     "data": {
      "text/plain": [
       "(array([4.24365286]), array([2.8250878]))"
      ]
     },
     "execution_count": 27,
     "metadata": {},
     "output_type": "execute_result"
    }
   ],
   "source": [
    "sgd_reg.intercept_, sgd_reg.coef_ # y= 3X + 4"
   ]
  },
  {
   "cell_type": "code",
   "execution_count": 28,
   "id": "MgiQ9xa2HIbZ",
   "metadata": {
    "id": "MgiQ9xa2HIbZ"
   },
   "outputs": [],
   "source": [
    "# 선형회귀 모델의 잠재적인 문제점\n",
    "# - 데이터 자체가 선형적으로 표현이 안될 수 있음 -> 비선형적인 데이터를 표현할 수 있게 특성 추가(다항회귀)\n",
    "# - 시간을 두고 쌓인 데이터, 지리적으로 가까운 데이터인 경우 잘 동작을 안함 -> 다른 모델 사용(ARIMA, ARMA 등)\n",
    "# - 데이터(엄밀히는 예측과 실제의 차이)가 정규분포를 따르지 않으면 선형회귀 모델에서 성능이 떨어질 수 있음 -> 로그변환\n",
    "# - 바깥값이 있어도 잘 동작을 안함 -> 바깥값은 삭제\n",
    "# - 다중공선성 문제 -> 상관관계 큰 특성을 삭제 또는 제 3의 특성을 추출"
   ]
  },
  {
   "cell_type": "markdown",
   "id": "2d5aa674",
   "metadata": {
    "id": "2d5aa674"
   },
   "source": [
    "## 3. 다항 회귀"
   ]
  },
  {
   "cell_type": "code",
   "execution_count": 29,
   "id": "3f0555e4",
   "metadata": {
    "id": "3f0555e4"
   },
   "outputs": [],
   "source": [
    "# 비선형성을 갖는 데이터를 준비하기 위해서\n",
    "# 0.5X ** 2 + X + 2 형태의 데이터를 이므이로 준비\n",
    "# 모델이 훈련을 마친 후에 모델 파라미터 (0.5, 1, 2,)에 근사하는지 확인"
   ]
  },
  {
   "cell_type": "code",
   "execution_count": 34,
   "id": "41b7ab3b",
   "metadata": {
    "id": "41b7ab3b"
   },
   "outputs": [
    {
     "data": {
      "text/plain": [
       "[<matplotlib.lines.Line2D at 0x1ea353bef40>]"
      ]
     },
     "execution_count": 34,
     "metadata": {},
     "output_type": "execute_result"
    },
    {
     "data": {
      "image/png": "[encoded data removed]",
      "text/plain": [
       "<Figure size 432x288 with 1 Axes>"
      ]
     },
     "metadata": {
      "needs_background": "light"
     },
     "output_type": "display_data"
    }
   ],
   "source": [
    "np.random.seed(42)\n",
    "\n",
    "m = 100\n",
    "X = 6 * np.random.rand(m, 1) - 3\n",
    "y = 0.5 * X ** 2 + X + 2 + np.random.rand(m, 1)\n",
    "\n",
    "plt.plot(X, y, '.')"
   ]
  },
  {
   "cell_type": "code",
   "execution_count": 35,
   "id": "1552e6c3",
   "metadata": {
    "id": "1552e6c3"
   },
   "outputs": [
    {
     "data": {
      "text/plain": [
       "LinearRegression()"
      ]
     },
     "execution_count": 35,
     "metadata": {},
     "output_type": "execute_result"
    }
   ],
   "source": [
    "lin_reg = LinearRegression()\n",
    "lin_reg.fit(X, y)"
   ]
  },
  {
   "cell_type": "code",
   "execution_count": 36,
   "id": "e94a30c2",
   "metadata": {},
   "outputs": [
    {
     "data": {
      "text/plain": [
       "(array([4.07563772]), array([[0.9146609]]))"
      ]
     },
     "execution_count": 36,
     "metadata": {},
     "output_type": "execute_result"
    }
   ],
   "source": [
    "lin_reg.intercept_, lin_reg.coef_"
   ]
  },
  {
   "cell_type": "markdown",
   "id": "00cbf46e",
   "metadata": {},
   "source": [
    "```\n",
    "모델 = 예측기(or 분류기)()          # 예측기 or 분류기\n",
    "모델.fit(X, y)               # 학습\n",
    "모델.predict(X)              # 예측\n",
    "\n",
    "변환기 = 변환기객체생성()\n",
    "변환기.fit(X)                # 변환할 준비\n",
    "변환기.transform()           # 실제 변환\n",
    "```"
   ]
  },
  {
   "cell_type": "code",
   "execution_count": 80,
   "id": "8e5f772b",
   "metadata": {},
   "outputs": [],
   "source": [
    "# 원본 특성에 제곱항을 추가\n",
    "from sklearn.preprocessing import PolynomialFeatures     # 변환기\n",
    "\n",
    "poly_features = PolynomialFeatures(degree = 2, include_bias = False)\n",
    "X_poly = poly_features.fit_transform(X)"
   ]
  },
  {
   "cell_type": "code",
   "execution_count": 81,
   "id": "95618f9e",
   "metadata": {},
   "outputs": [
    {
     "data": {
      "text/plain": [
       "array([-0.75275929])"
      ]
     },
     "execution_count": 81,
     "metadata": {},
     "output_type": "execute_result"
    }
   ],
   "source": [
    "X[0]"
   ]
  },
  {
   "cell_type": "code",
   "execution_count": 82,
   "id": "aa88cd59",
   "metadata": {},
   "outputs": [
    {
     "data": {
      "text/plain": [
       "array([-0.75275929,  0.56664654])"
      ]
     },
     "execution_count": 82,
     "metadata": {},
     "output_type": "execute_result"
    }
   ],
   "source": [
    "X_poly[0]"
   ]
  },
  {
   "cell_type": "code",
   "execution_count": 83,
   "id": "1ab8df48",
   "metadata": {},
   "outputs": [
    {
     "data": {
      "text/plain": [
       "0.566646548681304"
      ]
     },
     "execution_count": 83,
     "metadata": {},
     "output_type": "execute_result"
    }
   ],
   "source": [
    "(-0.75275929) ** 2"
   ]
  },
  {
   "cell_type": "code",
   "execution_count": 84,
   "id": "490676b6",
   "metadata": {},
   "outputs": [
    {
     "name": "stderr",
     "output_type": "stream",
     "text": [
      "C:\\Users\\Playdata\\anaconda3_NR\\lib\\site-packages\\sklearn\\utils\\deprecation.py:87: FutureWarning: Function get_feature_names is deprecated; get_feature_names is deprecated in 1.0 and will be removed in 1.2. Please use get_feature_names_out instead.\n",
      "  warnings.warn(msg, category=FutureWarning)\n"
     ]
    },
    {
     "data": {
      "text/plain": [
       "['x0', 'x0^2']"
      ]
     },
     "execution_count": 84,
     "metadata": {},
     "output_type": "execute_result"
    }
   ],
   "source": [
    "poly_features.get_feature_names()"
   ]
  },
  {
   "cell_type": "code",
   "execution_count": 86,
   "id": "787e946f",
   "metadata": {
    "scrolled": true
   },
   "outputs": [
    {
     "data": {
      "text/plain": [
       "LinearRegression()"
      ]
     },
     "execution_count": 86,
     "metadata": {},
     "output_type": "execute_result"
    }
   ],
   "source": [
    "lin_reg = LinearRegression()\n",
    "lin_reg.fit(X_poly, y)"
   ]
  },
  {
   "cell_type": "code",
   "execution_count": 87,
   "id": "3004a8fa",
   "metadata": {},
   "outputs": [
    {
     "data": {
      "text/plain": [
       "(array([2.49786712]), array([[0.9943591 , 0.49967213]]))"
      ]
     },
     "execution_count": 87,
     "metadata": {},
     "output_type": "execute_result"
    }
   ],
   "source": [
    "lin_reg.intercept_, lin_reg.coef_  # 0.5X ** 2 + X + 2"
   ]
  },
  {
   "cell_type": "code",
   "execution_count": 92,
   "id": "a6cd56e1",
   "metadata": {},
   "outputs": [
    {
     "name": "stdout",
     "output_type": "stream",
     "text": [
      "(100, 2) (100, 2)\n"
     ]
    },
    {
     "data": {
      "text/plain": [
       "[<matplotlib.lines.Line2D at 0x1ea35e30370>]"
      ]
     },
     "execution_count": 92,
     "metadata": {},
     "output_type": "execute_result"
    },
    {
     "data": {
      "image/png": "[encoded data removed]",
      "text/plain": [
       "<Figure size 432x288 with 1 Axes>"
      ]
     },
     "metadata": {
      "needs_background": "light"
     },
     "output_type": "display_data"
    }
   ],
   "source": [
    "X_new = np.linspace(-3, 3, 100).reshape(100, 1)\n",
    "X_new_poly = poly_features.transform(X_new)\n",
    "\n",
    "# X가 전처리(제곱항 특성이 추가)된 부분이 새 데이터에도 반영이 되어야 함\n",
    "y_pred = lin_reg.predict(X_new_poly)\n",
    "print(X_poly.shape, X_new_poly.shape)\n",
    "\n",
    "plt.plot(X_new, y_pred, 'r-')  # 새로운 데이터(X_new)에 대한 예측\n",
    "plt.plot(X, y, 'b.')  # 데이터 샘플"
   ]
  },
  {
   "cell_type": "code",
   "execution_count": 93,
   "id": "3bad38f2",
   "metadata": {},
   "outputs": [
    {
     "data": {
      "text/plain": [
       "((100, 2), (100, 1))"
      ]
     },
     "execution_count": 93,
     "metadata": {},
     "output_type": "execute_result"
    }
   ],
   "source": [
    "X_poly.shape, X_new.shape"
   ]
  },
  {
   "cell_type": "markdown",
   "id": "b1a1e2c5",
   "metadata": {
    "id": "b1a1e2c5"
   },
   "source": [
    "## 4. 규제 모델"
   ]
  },
  {
   "cell_type": "markdown",
   "id": "b329fe2a",
   "metadata": {
    "id": "b329fe2a"
   },
   "source": [
    "### 4.1 릿지 회귀 - L2 규제"
   ]
  },
  {
   "cell_type": "code",
   "execution_count": 95,
   "id": "7bd17e2d",
   "metadata": {
    "id": "7bd17e2d"
   },
   "outputs": [
    {
     "data": {
      "text/plain": [
       "[<matplotlib.lines.Line2D at 0x1ea35e628b0>]"
      ]
     },
     "execution_count": 95,
     "metadata": {},
     "output_type": "execute_result"
    },
    {
     "data": {
      "image/png": "[encoded data removed]",
      "text/plain": [
       "<Figure size 432x288 with 1 Axes>"
      ]
     },
     "metadata": {
      "needs_background": "light"
     },
     "output_type": "display_data"
    }
   ],
   "source": [
    "np.random.seed(42)\n",
    "\n",
    "m = 20\n",
    "X = 3 * np.random.rand(m, 1)\n",
    "y = 0.5 * X + 1 + np.random.randn(m, 1) / 1.5\n",
    "plt.plot(X, y, '.')"
   ]
  },
  {
   "cell_type": "code",
   "execution_count": 97,
   "id": "30df4311",
   "metadata": {
    "id": "30df4311"
   },
   "outputs": [
    {
     "data": {
      "text/plain": [
       "LinearRegression()"
      ]
     },
     "execution_count": 97,
     "metadata": {},
     "output_type": "execute_result"
    }
   ],
   "source": [
    "# 선형회귀 모델\n",
    "lin_reg = LinearRegression()\n",
    "lin_reg.fit(X, y)"
   ]
  },
  {
   "cell_type": "code",
   "execution_count": 98,
   "id": "67238e6b",
   "metadata": {},
   "outputs": [
    {
     "data": {
      "text/plain": [
       "(array([0.97573667]), array([[0.3852145]]))"
      ]
     },
     "execution_count": 98,
     "metadata": {},
     "output_type": "execute_result"
    }
   ],
   "source": [
    "lin_reg.intercept_, lin_reg.coef_  # y = 0.5X + 1"
   ]
  },
  {
   "cell_type": "code",
   "execution_count": 99,
   "id": "01497f7a",
   "metadata": {},
   "outputs": [
    {
     "data": {
      "text/plain": [
       "Ridge()"
      ]
     },
     "execution_count": 99,
     "metadata": {},
     "output_type": "execute_result"
    }
   ],
   "source": [
    "# 릿지회귀 모델 (L2 규제) - 해석적으로 해를 구함\n",
    "from sklearn.linear_model import Ridge\n",
    "ridge_reg = Ridge()\n",
    "ridge_reg.fit(X, y)"
   ]
  },
  {
   "cell_type": "code",
   "execution_count": 100,
   "id": "ceab7a9d",
   "metadata": {},
   "outputs": [
    {
     "data": {
      "text/plain": [
       "(array([1.00650911]), array([[0.36280369]]))"
      ]
     },
     "execution_count": 100,
     "metadata": {},
     "output_type": "execute_result"
    }
   ],
   "source": [
    "ridge_reg.intercept_, ridge_reg.coef_   # 절편(theta 0)은 규제의 범위에 포함되지 않음"
   ]
  },
  {
   "cell_type": "code",
   "execution_count": 107,
   "id": "2d8643bf",
   "metadata": {},
   "outputs": [
    {
     "name": "stdout",
     "output_type": "stream",
     "text": [
      "[0.53945658] [0.62046175]\n",
      "[0.57901244] [0.58606577]\n"
     ]
    }
   ],
   "source": [
    "# 릿지회귀 모델 (L2 규제) - 경사하강법으로 해를 구함\n",
    "\n",
    "# 규제 없이\n",
    "sgd_reg = SGDRegressor(penalty = None, random_state = 42)\n",
    "sgd_reg.fit(X, y.ravel())    # y.ravel(), y.flatten()은 데이터를 일차원으로 만들어줌\n",
    "print(sgd_reg.intercept_, sgd_reg.coef_)\n",
    "\n",
    "# 규제 추가\n",
    "sgd_reg_l2 = SGDRegressor(penalty = 'l2', alpha = 0.1, random_state = 42)\n",
    "sgd_reg_l2.fit(X, y.ravel())\n",
    "print(sgd_reg_l2.intercept_, sgd_reg_l2.coef_)"
   ]
  },
  {
   "cell_type": "markdown",
   "id": "e126d487",
   "metadata": {
    "id": "e126d487"
   },
   "source": [
    "### 4.2 라쏘 회귀 - L1 규제"
   ]
  },
  {
   "cell_type": "code",
   "execution_count": 106,
   "id": "0fab9ba5",
   "metadata": {
    "id": "0fab9ba5"
   },
   "outputs": [
    {
     "data": {
      "text/plain": [
       "(array([1.14537356]), array([0.26167212]))"
      ]
     },
     "execution_count": 106,
     "metadata": {},
     "output_type": "execute_result"
    }
   ],
   "source": [
    "# 라쏘 회귀 모델(L1 규제) - 해석적으로 해를 구함\n",
    "from sklearn.linear_model import Lasso\n",
    "\n",
    "lasso_reg = Lasso(alpha = 0.1, random_state = 42)\n",
    "lasso_reg.fit(X, y)\n",
    "lasso_reg.intercept_, lasso_reg.coef_"
   ]
  },
  {
   "cell_type": "code",
   "execution_count": 110,
   "id": "391f04e4",
   "metadata": {
    "id": "a85789f0"
   },
   "outputs": [
    {
     "name": "stdout",
     "output_type": "stream",
     "text": [
      "[0.53945658] [0.62046175]\n",
      "[0.64450934] [0.54050476]\n"
     ]
    }
   ],
   "source": [
    "#### 라쏘 회귀 모델(L1 규제) - 경사하강법으로 해를 구함\n",
    "\n",
    "# 규제 없이\n",
    "sgd_reg = SGDRegressor(penalty = None, random_state = 42)\n",
    "sgd_reg.fit(X, y.ravel())    # y.ravel(), y.flatten()은 데이터를 일차원으로 만들어줌\n",
    "print(sgd_reg.intercept_, sgd_reg.coef_)\n",
    "\n",
    "# 규제 추가\n",
    "sgd_reg_l1 = SGDRegressor(penalty = 'l1', alpha = 0.1, random_state = 42)\n",
    "sgd_reg_l1.fit(X, y.ravel())\n",
    "print(sgd_reg_l1.intercept_, sgd_reg_l1.coef_)"
   ]
  },
  {
   "cell_type": "markdown",
   "id": "5a21043b",
   "metadata": {
    "id": "5a21043b"
   },
   "source": [
    "### 4.3  엘라스틱넷"
   ]
  },
  {
   "cell_type": "code",
   "execution_count": 112,
   "id": "lShioLkjVJUq",
   "metadata": {
    "id": "lShioLkjVJUq"
   },
   "outputs": [
    {
     "data": {
      "text/plain": [
       "(array([1.08639303]), array([0.30462619]))"
      ]
     },
     "execution_count": 112,
     "metadata": {},
     "output_type": "execute_result"
    }
   ],
   "source": [
    "# ElasticNet (L1 규제, L2 규제)\n",
    "from sklearn.linear_model import ElasticNet\n",
    "\n",
    "elastic_reg = ElasticNet(alpha = 0.1, l1_ratio = 0.5, random_state = 42)\n",
    "elastic_reg.fit(X, y)\n",
    "elastic_reg.intercept_, elastic_reg.coef_"
   ]
  },
  {
   "cell_type": "code",
   "execution_count": 113,
   "id": "8goirjbZVJLH",
   "metadata": {
    "id": "8goirjbZVJLH"
   },
   "outputs": [
    {
     "name": "stdout",
     "output_type": "stream",
     "text": [
      "[0.53945658] [0.62046175]\n",
      "[0.59684835] [0.57598861]\n"
     ]
    }
   ],
   "source": [
    "# 규제 없이\n",
    "sgd_reg = SGDRegressor(penalty = None, random_state = 42)\n",
    "sgd_reg.fit(X, y.ravel())    # y.ravel(), y.flatten()은 데이터를 일차원으로 만들어줌\n",
    "print(sgd_reg.intercept_, sgd_reg.coef_)\n",
    "\n",
    "# 규제 추가\n",
    "sgd_reg_l1l2 = SGDRegressor(penalty = 'elasticnet', alpha = 0.1, random_state = 42)\n",
    "sgd_reg_l1l2.fit(X, y.ravel())\n",
    "print(sgd_reg_l1l2.intercept_, sgd_reg_l1l2.coef_)"
   ]
  }
 ],
 "metadata": {
  "colab": {
   "provenance": []
  },
  "kernelspec": {
   "display_name": "Python 3 (ipykernel)",
   "language": "python",
   "name": "python3"
  },
  "language_info": {
   "codemirror_mode": {
    "name": "ipython",
    "version": 3
   },
   "file_extension": ".py",
   "mimetype": "text/x-python",
   "name": "python",
   "nbconvert_exporter": "python",
   "pygments_lexer": "ipython3",
   "version": "3.9.12"
  }
 },
 "nbformat": 4,
 "nbformat_minor": 5
}
