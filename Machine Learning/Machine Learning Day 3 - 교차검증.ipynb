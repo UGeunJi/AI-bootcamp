{
 "cells": [
  {
   "cell_type": "code",
   "execution_count": 1,
   "metadata": {
    "executionInfo": {
     "elapsed": 4,
     "status": "ok",
     "timestamp": 1657251534582,
     "user": {
      "displayName": "장경희",
      "userId": "05148120440289478711"
     },
     "user_tz": -540
    },
    "id": "o7ZmSehg3OqD"
   },
   "outputs": [],
   "source": [
    "from sklearn.datasets import load_iris\n",
    "from sklearn.model_selection import KFold\n",
    "from sklearn.model_selection import StratifiedKFold\n",
    "\n",
    "import numpy as np\n",
    "import pandas as pd"
   ]
  },
  {
   "cell_type": "code",
   "execution_count": 2,
   "metadata": {
    "executionInfo": {
     "elapsed": 353,
     "status": "ok",
     "timestamp": 1657251187775,
     "user": {
      "displayName": "장경희",
      "userId": "05148120440289478711"
     },
     "user_tz": -540
    },
    "id": "Y9czt_Mw3cFs"
   },
   "outputs": [],
   "source": [
    "iris = load_iris()"
   ]
  },
  {
   "cell_type": "code",
   "execution_count": 3,
   "metadata": {
    "colab": {
     "base_uri": "https://localhost:8080/"
    },
    "executionInfo": {
     "elapsed": 330,
     "status": "ok",
     "timestamp": 1657251209086,
     "user": {
      "displayName": "장경희",
      "userId": "05148120440289478711"
     },
     "user_tz": -540
    },
    "id": "Q8dkNMiP3keU",
    "outputId": "826809e5-abb4-4424-ff2a-be8fd3be1dd6"
   },
   "outputs": [
    {
     "data": {
      "text/plain": [
       "array([[5.1, 3.5, 1.4, 0.2],\n",
       "       [4.9, 3. , 1.4, 0.2],\n",
       "       [4.7, 3.2, 1.3, 0.2],\n",
       "       [4.6, 3.1, 1.5, 0.2],\n",
       "       [5. , 3.6, 1.4, 0.2]])"
      ]
     },
     "execution_count": 3,
     "metadata": {},
     "output_type": "execute_result"
    }
   ],
   "source": [
    "iris.data[:5]"
   ]
  },
  {
   "cell_type": "code",
   "execution_count": 4,
   "metadata": {
    "colab": {
     "base_uri": "https://localhost:8080/"
    },
    "executionInfo": {
     "elapsed": 345,
     "status": "ok",
     "timestamp": 1657251228728,
     "user": {
      "displayName": "장경희",
      "userId": "05148120440289478711"
     },
     "user_tz": -540
    },
    "id": "Gh2nrM3a3lnM",
    "outputId": "9755e7d3-f21e-42e8-ff05-81757cb3dc3e"
   },
   "outputs": [
    {
     "data": {
      "text/plain": [
       "array([0, 0, 0, 0, 0])"
      ]
     },
     "execution_count": 4,
     "metadata": {},
     "output_type": "execute_result"
    }
   ],
   "source": [
    "iris.target[:5]"
   ]
  },
  {
   "cell_type": "code",
   "execution_count": 5,
   "metadata": {
    "executionInfo": {
     "elapsed": 334,
     "status": "ok",
     "timestamp": 1657251406558,
     "user": {
      "displayName": "장경희",
      "userId": "05148120440289478711"
     },
     "user_tz": -540
    },
    "id": "tyvFbZhN4Wye"
   },
   "outputs": [],
   "source": [
    "X = iris.data\n",
    "y = iris.target"
   ]
  },
  {
   "cell_type": "code",
   "execution_count": 6,
   "metadata": {
    "executionInfo": {
     "elapsed": 496,
     "status": "ok",
     "timestamp": 1657251339888,
     "user": {
      "displayName": "장경희",
      "userId": "05148120440289478711"
     },
     "user_tz": -540
    },
    "id": "IHIBmxLQ3tCF"
   },
   "outputs": [],
   "source": [
    "from sklearn.neighbors import KNeighborsClassifier"
   ]
  },
  {
   "cell_type": "markdown",
   "metadata": {
    "id": "VI7elDOh4bJV"
   },
   "source": [
    "## 1. K- 폴드 교차 검증"
   ]
  },
  {
   "cell_type": "code",
   "execution_count": 7,
   "metadata": {
    "executionInfo": {
     "elapsed": 321,
     "status": "ok",
     "timestamp": 1657258101004,
     "user": {
      "displayName": "장경희",
      "userId": "05148120440289478711"
     },
     "user_tz": -540
    },
    "id": "6bch7u8SRUd8"
   },
   "outputs": [],
   "source": [
    "from sklearn.metrics import accuracy_score # 정확도"
   ]
  },
  {
   "cell_type": "code",
   "execution_count": 8,
   "metadata": {
    "colab": {
     "base_uri": "https://localhost:8080/"
    },
    "executionInfo": {
     "elapsed": 413,
     "status": "ok",
     "timestamp": 1657258866193,
     "user": {
      "displayName": "장경희",
      "userId": "05148120440289478711"
     },
     "user_tz": -540
    },
    "id": "Lw96plJW4mNE",
    "outputId": "82c6b731-e8ce-4e9e-a57c-67e85ffc6e49"
   },
   "outputs": [
    {
     "name": "stdout",
     "output_type": "stream",
     "text": [
      "[0.9333333333333333, 0.9333333333333333, 1.0, 0.9666666666666667, 0.9666666666666667]\n",
      "평균 정확도 :  0.96\n"
     ]
    }
   ],
   "source": [
    "accuracy_list = []\n",
    "\n",
    "knn_clf = KNeighborsClassifier()\n",
    "\n",
    "kfold = KFold(n_splits=5, shuffle=True)\n",
    "for train_index, valid_index in kfold.split(X):\n",
    "    # 훈련(학습)\n",
    "    X_train, y_train = X[train_index], y[train_index] # 4/5\n",
    "    X_valid, y_valid = X[valid_index], y[valid_index] # 1/5\n",
    "    knn_clf.fit(X_train, y_train)\n",
    "  \n",
    "  \n",
    "    # 예측과 평가(정확도)\n",
    "    pred = knn_clf.predict(X_valid)\n",
    "    accuracy = accuracy_score(y_valid, pred)\n",
    "    accuracy_list.append(accuracy)\n",
    "    \n",
    "print(accuracy_list)\n",
    "print(\"평균 정확도 : \", np.mean(accuracy_list))"
   ]
  },
  {
   "cell_type": "markdown",
   "metadata": {
    "id": "9fSGr__tUB7Y"
   },
   "source": [
    "## 2. Stratified K 폴드 교차 검증"
   ]
  },
  {
   "cell_type": "code",
   "execution_count": 9,
   "metadata": {
    "colab": {
     "base_uri": "https://localhost:8080/"
    },
    "executionInfo": {
     "elapsed": 2,
     "status": "ok",
     "timestamp": 1657258866713,
     "user": {
      "displayName": "장경희",
      "userId": "05148120440289478711"
     },
     "user_tz": -540
    },
    "id": "66b357uPUN13",
    "outputId": "23d592a0-e52f-4a8f-a085-2438b4ca03f3"
   },
   "outputs": [
    {
     "name": "stdout",
     "output_type": "stream",
     "text": [
      "[0.9666666666666667, 0.9333333333333333, 0.9666666666666667, 1.0, 1.0]\n",
      "평균 정확도 :  0.9733333333333334\n"
     ]
    }
   ],
   "source": [
    "accuracy_list = []\n",
    "\n",
    "knn_clf = KNeighborsClassifier()\n",
    "\n",
    "skfold = StratifiedKFold(n_splits=5, shuffle=True)\n",
    "for train_index, valid_index in skfold.split(X, y):\n",
    "    # 훈련(학습)\n",
    "    X_train, y_train = X[train_index], y[train_index] # 4/5\n",
    "    X_valid, y_valid = X[valid_index], y[valid_index] # 1/5\n",
    "    knn_clf.fit(X_train, y_train)\n",
    "  \n",
    "  \n",
    "    # 예측과 평가(정확도)\n",
    "    pred = knn_clf.predict(X_valid)\n",
    "    accuracy = accuracy_score(y_valid, pred)\n",
    "    accuracy_list.append(accuracy)\n",
    "    \n",
    "print(accuracy_list)\n",
    "print(\"평균 정확도 : \", np.mean(accuracy_list))"
   ]
  },
  {
   "cell_type": "markdown",
   "metadata": {
    "id": "ZiwV_yhLSbBQ"
   },
   "source": [
    "## 3. cross_val_score()"
   ]
  },
  {
   "cell_type": "code",
   "execution_count": 22,
   "metadata": {
    "executionInfo": {
     "elapsed": 350,
     "status": "ok",
     "timestamp": 1657258977297,
     "user": {
      "displayName": "장경희",
      "userId": "05148120440289478711"
     },
     "user_tz": -540
    },
    "id": "f5qgmC024mKA"
   },
   "outputs": [
    {
     "name": "stdout",
     "output_type": "stream",
     "text": [
      "[0.96666667 1.         0.93333333 0.96666667 1.        ]\n",
      "평균 정확도 :  0.9733333333333334\n"
     ]
    }
   ],
   "source": [
    "from sklearn.model_selection import cross_val_score\n",
    "\n",
    "knn_clf = KNeighborsClassifier()\n",
    "\n",
    "scores = cross_val_score(knn_clf, X, y, scoring=\"accuracy\", cv = 5) # scoring은 검증 데이터를 어떤 성능 지표로 평가할지\n",
    "\n",
    "print(scores)\n",
    "print(\"평균 정확도 : \", np.mean(scores))"
   ]
  }
 ],
 "metadata": {
  "colab": {
   "authorship_tag": "ABX9TyO99FKvhlZgTAq3NYXsdduN",
   "collapsed_sections": [],
   "name": "Machine Learning Day 3 - 교차검증.ipynb",
   "provenance": []
  },
  "kernelspec": {
   "display_name": "Python 3 (ipykernel)",
   "language": "python",
   "name": "python3"
  },
  "language_info": {
   "codemirror_mode": {
    "name": "ipython",
    "version": 3
   },
   "file_extension": ".py",
   "mimetype": "text/x-python",
   "name": "python",
   "nbconvert_exporter": "python",
   "pygments_lexer": "ipython3",
   "version": "3.9.12"
  }
 },
 "nbformat": 4,
 "nbformat_minor": 1
}
