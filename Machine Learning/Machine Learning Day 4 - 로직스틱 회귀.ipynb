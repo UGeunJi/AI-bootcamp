{
 "cells": [
  {
   "cell_type": "markdown",
   "id": "16c08737",
   "metadata": {},
   "source": [
    "# 로지스틱 회귀"
   ]
  },
  {
   "cell_type": "code",
   "execution_count": 1,
   "id": "7b02d7e7",
   "metadata": {},
   "outputs": [],
   "source": [
    "import numpy as np\n",
    "import matplotlib.pyplot as plt\n",
    "from sklearn.datasets import load_iris"
   ]
  },
  {
   "cell_type": "code",
   "execution_count": 4,
   "id": "a5d95bd0",
   "metadata": {},
   "outputs": [],
   "source": [
    "iris = load_iris()"
   ]
  },
  {
   "cell_type": "code",
   "execution_count": 5,
   "id": "33de0ea8",
   "metadata": {},
   "outputs": [
    {
     "data": {
      "text/plain": [
       "['sepal length (cm)',\n",
       " 'sepal width (cm)',\n",
       " 'petal length (cm)',\n",
       " 'petal width (cm)']"
      ]
     },
     "execution_count": 5,
     "metadata": {},
     "output_type": "execute_result"
    }
   ],
   "source": [
    "iris.feature_names"
   ]
  },
  {
   "cell_type": "code",
   "execution_count": 8,
   "id": "2078cc0d",
   "metadata": {},
   "outputs": [],
   "source": [
    "X = iris.data[:, 3:]  # 특성 1개만 사용 ('petal width\n",
    "(cm)')\n",
    "y = (iris.target == 2).astype(np.int32)  # Virginica 이면 1, 아니면 0"
   ]
  },
  {
   "cell_type": "code",
   "execution_count": 9,
   "id": "95941cf3",
   "metadata": {},
   "outputs": [
    {
     "data": {
      "text/plain": [
       "LogisticRegression(random_state=42)"
      ]
     },
     "execution_count": 9,
     "metadata": {},
     "output_type": "execute_result"
    }
   ],
   "source": [
    "from sklearn.linear_model import LogisticRegression\n",
    "\n",
    "log_reg = LogisticRegression(random_state=42)\n",
    "log_reg.fit(X, y)   # 훈련: 비용함수(로그손실)를 최소화하는 모델파라미터(theta 0, 1)를 찾음"
   ]
  },
  {
   "cell_type": "code",
   "execution_count": 10,
   "id": "e20816de",
   "metadata": {},
   "outputs": [
    {
     "data": {
      "text/plain": [
       "(array([-7.1947083]), array([[4.3330846]]))"
      ]
     },
     "execution_count": 10,
     "metadata": {},
     "output_type": "execute_result"
    }
   ],
   "source": [
    "log_reg.intercept_, log_reg.coef_"
   ]
  },
  {
   "cell_type": "code",
   "execution_count": 13,
   "id": "f6bfa010",
   "metadata": {},
   "outputs": [
    {
     "data": {
      "text/plain": [
       "array([1])"
      ]
     },
     "execution_count": 13,
     "metadata": {},
     "output_type": "execute_result"
    }
   ],
   "source": [
    "log_reg.predict([[2.5]])   # 야생에서 가져온 샘플의 petal width (2차원 데이터로 넣어주기)"
   ]
  },
  {
   "cell_type": "code",
   "execution_count": 14,
   "id": "15b8e493",
   "metadata": {},
   "outputs": [
    {
     "data": {
      "text/plain": [
       "array([[0.02563061, 0.97436939]])"
      ]
     },
     "execution_count": 14,
     "metadata": {},
     "output_type": "execute_result"
    }
   ],
   "source": [
    "log_reg.predict_proba([[2.5]])   # 앞이 Virginica가 아닐 확률, 뒤는 Virginica일 확률"
   ]
  },
  {
   "cell_type": "code",
   "execution_count": 17,
   "id": "0305b8c1",
   "metadata": {},
   "outputs": [
    {
     "data": {
      "text/plain": [
       "1.0"
      ]
     },
     "execution_count": 17,
     "metadata": {},
     "output_type": "execute_result"
    }
   ],
   "source": [
    "0.02563061 + 0.97436939"
   ]
  },
  {
   "cell_type": "code",
   "execution_count": 20,
   "id": "c5c56c48",
   "metadata": {},
   "outputs": [
    {
     "data": {
      "text/plain": [
       "(1000, 1)"
      ]
     },
     "execution_count": 20,
     "metadata": {},
     "output_type": "execute_result"
    }
   ],
   "source": [
    "X_new = np.linspace(0, 3, 1000).reshape((-1, 1))\n",
    "X_new.shape"
   ]
  },
  {
   "cell_type": "code",
   "execution_count": 21,
   "id": "f542e428",
   "metadata": {},
   "outputs": [],
   "source": [
    "y_prob = log_reg.predict_proba(X_new)"
   ]
  },
  {
   "cell_type": "code",
   "execution_count": 23,
   "id": "f5389dce",
   "metadata": {},
   "outputs": [
    {
     "data": {
      "text/plain": [
       "(array([0.]), array([3.]))"
      ]
     },
     "execution_count": 23,
     "metadata": {},
     "output_type": "execute_result"
    }
   ],
   "source": [
    "X_new[0], X_new[-1]"
   ]
  },
  {
   "cell_type": "code",
   "execution_count": 22,
   "id": "16b08374",
   "metadata": {},
   "outputs": [
    {
     "data": {
      "text/plain": [
       "array([9.99250016e-01, 7.49984089e-04])"
      ]
     },
     "execution_count": 22,
     "metadata": {},
     "output_type": "execute_result"
    }
   ],
   "source": [
    "y_prob[0][0]  # 1000개 중 0번째 샘플(petal width 0cm)에 대해 Virginica가 아닐 확률\n",
    "y_prob[0][1]  # 1000개 중 0번째 샘플(petal width 0cm)에 대해 Virginica일 확률"
   ]
  },
  {
   "cell_type": "code",
   "execution_count": 29,
   "id": "80505f76",
   "metadata": {},
   "outputs": [],
   "source": [
    "decision_boundary = X_new[y_prob[:, 1] > 0.5][0]"
   ]
  },
  {
   "cell_type": "code",
   "execution_count": 36,
   "id": "d664aaf2",
   "metadata": {
    "scrolled": false
   },
   "outputs": [
    {
     "data": {
      "text/plain": [
       "<matplotlib.legend.Legend at 0x1fde4dbc310>"
      ]
     },
     "execution_count": 36,
     "metadata": {},
     "output_type": "execute_result"
    },
    {
     "data": {
      "image/png": "[encoded data removed]",
      "text/plain": [
       "<Figure size 576x216 with 1 Axes>"
      ]
     },
     "metadata": {
      "needs_background": "light"
     },
     "output_type": "display_data"
    }
   ],
   "source": [
    "plt.figure(figsize=(8, 3))\n",
    "plt.plot([decision_boundary, decision_boundary], [0, 1], 'k:')\n",
    "plt.plot(X_new, y_prob[:, 0], label='Not iris-Virginica')   # Virginica가 아닐 확률\n",
    "plt.plot(X_new, y_prob[:, 1], label='Virginica')   # Virginica일 확률\n",
    "plt.legend()"
   ]
  },
  {
   "cell_type": "code",
   "execution_count": 32,
   "id": "5e7af72f",
   "metadata": {},
   "outputs": [
    {
     "data": {
      "text/plain": [
       "array([1])"
      ]
     },
     "execution_count": 32,
     "metadata": {},
     "output_type": "execute_result"
    }
   ],
   "source": [
    "log_reg.predict([[1.7]])"
   ]
  },
  {
   "cell_type": "code",
   "execution_count": 34,
   "id": "71912f2b",
   "metadata": {},
   "outputs": [
    {
     "data": {
      "text/plain": [
       "array([0])"
      ]
     },
     "execution_count": 34,
     "metadata": {},
     "output_type": "execute_result"
    }
   ],
   "source": [
    "log_reg.predict([[1.5]])"
   ]
  },
  {
   "cell_type": "markdown",
   "id": "ee148431",
   "metadata": {},
   "source": [
    "# 소프트맥스 회귀"
   ]
  },
  {
   "cell_type": "code",
   "execution_count": 37,
   "id": "3ea75c23",
   "metadata": {},
   "outputs": [
    {
     "data": {
      "text/plain": [
       "['sepal length (cm)',\n",
       " 'sepal width (cm)',\n",
       " 'petal length (cm)',\n",
       " 'petal width (cm)']"
      ]
     },
     "execution_count": 37,
     "metadata": {},
     "output_type": "execute_result"
    }
   ],
   "source": [
    "iris.feature_names"
   ]
  },
  {
   "cell_type": "code",
   "execution_count": 43,
   "id": "ad669a7a",
   "metadata": {},
   "outputs": [],
   "source": [
    "X = iris.data[:, 2:]  # 특성 2개만 사용 (''petal length (cm)', petal width (cm)')\n",
    "y = iris.target  # 3품종(클래스)을 구분하는 문제(다중 분류)"
   ]
  },
  {
   "cell_type": "code",
   "execution_count": 44,
   "id": "404cfc1b",
   "metadata": {},
   "outputs": [
    {
     "data": {
      "text/plain": [
       "LogisticRegression(multi_class='multinomial', random_state=42)"
      ]
     },
     "execution_count": 44,
     "metadata": {},
     "output_type": "execute_result"
    }
   ],
   "source": [
    "softmax_reg = LogisticRegression(multi_class='multinomial', random_state=42)\n",
    "softmax_reg.fit(X, y)  # 훈련: 비용함수(로그손실)를 최소화하는 모델파라미터(theta 0, 1)를 찾음"
   ]
  },
  {
   "cell_type": "code",
   "execution_count": 45,
   "id": "6e171ec5",
   "metadata": {},
   "outputs": [
    {
     "data": {
      "text/plain": [
       "array([ 11.12767979,   3.22717485, -14.35485463])"
      ]
     },
     "execution_count": 45,
     "metadata": {},
     "output_type": "execute_result"
    }
   ],
   "source": [
    "softmax_reg.intercept_"
   ]
  },
  {
   "cell_type": "code",
   "execution_count": 46,
   "id": "a47fe8e9",
   "metadata": {},
   "outputs": [
    {
     "data": {
      "text/plain": [
       "array([[-2.74866104, -1.16890756],\n",
       "       [ 0.08356447, -0.90803047],\n",
       "       [ 2.66509657,  2.07693804]])"
      ]
     },
     "execution_count": 46,
     "metadata": {},
     "output_type": "execute_result"
    }
   ],
   "source": [
    "softmax_reg.coef_"
   ]
  },
  {
   "cell_type": "code",
   "execution_count": 48,
   "id": "5553ffb8",
   "metadata": {},
   "outputs": [
    {
     "data": {
      "text/plain": [
       "array([2])"
      ]
     },
     "execution_count": 48,
     "metadata": {},
     "output_type": "execute_result"
    }
   ],
   "source": [
    "# 예측: 야생에서 채집해온 데이터의 꽃잎의 길이와 너비 -> (5cm, 2cm)\n",
    "softmax_reg.predict([[5, 2]])  # 2번 class (Setosa로 예측)"
   ]
  },
  {
   "cell_type": "code",
   "execution_count": 49,
   "id": "0cdc3804",
   "metadata": {},
   "outputs": [
    {
     "data": {
      "text/plain": [
       "array([[2.43559894e-04, 2.14859516e-01, 7.84896924e-01]])"
      ]
     },
     "execution_count": 49,
     "metadata": {},
     "output_type": "execute_result"
    }
   ],
   "source": [
    "softmax_reg.predict_proba([[5, 2]])"
   ]
  }
 ],
 "metadata": {
  "kernelspec": {
   "display_name": "Python 3 (ipykernel)",
   "language": "python",
   "name": "python3"
  },
  "language_info": {
   "codemirror_mode": {
    "name": "ipython",
    "version": 3
   },
   "file_extension": ".py",
   "mimetype": "text/x-python",
   "name": "python",
   "nbconvert_exporter": "python",
   "pygments_lexer": "ipython3",
   "version": "3.9.12"
  }
 },
 "nbformat": 4,
 "nbformat_minor": 5
}
