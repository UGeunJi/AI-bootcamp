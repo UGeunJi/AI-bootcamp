{
 "cells": [
  {
   "cell_type": "markdown",
   "id": "a3bce32a",
   "metadata": {
    "id": "a3bce32a"
   },
   "source": [
    "# 캘리포니아 주택 가격 예측 모델 만들기"
   ]
  },
  {
   "cell_type": "code",
   "execution_count": 3,
   "id": "cca0f968",
   "metadata": {
    "executionInfo": {
     "elapsed": 1465,
     "status": "ok",
     "timestamp": 1669958768333,
     "user": {
      "displayName": "장경희",
      "userId": "05148120440289478711"
     },
     "user_tz": -540
    },
    "id": "cca0f968"
   },
   "outputs": [],
   "source": [
    "import numpy as np\n",
    "import pandas as pd\n",
    "import matplotlib.pyplot as plt\n",
    "import sklearn"
   ]
  },
  {
   "cell_type": "markdown",
   "id": "2d962c43",
   "metadata": {
    "id": "2d962c43"
   },
   "source": [
    "## 1. 데이터 가져오기"
   ]
  },
  {
   "cell_type": "code",
   "execution_count": 4,
   "id": "dc8e6e82",
   "metadata": {
    "executionInfo": {
     "elapsed": 45,
     "status": "ok",
     "timestamp": 1669958768340,
     "user": {
      "displayName": "장경희",
      "userId": "05148120440289478711"
     },
     "user_tz": -540
    },
    "id": "dc8e6e82"
   },
   "outputs": [],
   "source": [
    "housing = pd.read_csv('./datasets/housing.csv')"
   ]
  },
  {
   "cell_type": "markdown",
   "id": "e42316a8",
   "metadata": {
    "id": "e42316a8"
   },
   "source": [
    "## 2. 데이터 훑어보기"
   ]
  },
  {
   "cell_type": "code",
   "execution_count": 5,
   "id": "0c7a8f62",
   "metadata": {
    "colab": {
     "base_uri": "https://localhost:8080/",
     "height": 270
    },
    "executionInfo": {
     "elapsed": 45,
     "status": "ok",
     "timestamp": 1669958768341,
     "user": {
      "displayName": "장경희",
      "userId": "05148120440289478711"
     },
     "user_tz": -540
    },
    "id": "0c7a8f62",
    "outputId": "be3936e1-95ef-47ac-b515-9c41d4733163"
   },
   "outputs": [
    {
     "data": {
      "text/html": [
       "<div>\n",
       "<style scoped>\n",
       "    .dataframe tbody tr th:only-of-type {\n",
       "        vertical-align: middle;\n",
       "    }\n",
       "\n",
       "    .dataframe tbody tr th {\n",
       "        vertical-align: top;\n",
       "    }\n",
       "\n",
       "    .dataframe thead th {\n",
       "        text-align: right;\n",
       "    }\n",
       "</style>\n",
       "<table border=\"1\" class=\"dataframe\">\n",
       "  <thead>\n",
       "    <tr style=\"text-align: right;\">\n",
       "      <th></th>\n",
       "      <th>longitude</th>\n",
       "      <th>latitude</th>\n",
       "      <th>housing_median_age</th>\n",
       "      <th>total_rooms</th>\n",
       "      <th>total_bedrooms</th>\n",
       "      <th>population</th>\n",
       "      <th>households</th>\n",
       "      <th>median_income</th>\n",
       "      <th>median_house_value</th>\n",
       "      <th>ocean_proximity</th>\n",
       "    </tr>\n",
       "  </thead>\n",
       "  <tbody>\n",
       "    <tr>\n",
       "      <th>0</th>\n",
       "      <td>-122.23</td>\n",
       "      <td>37.88</td>\n",
       "      <td>41.0</td>\n",
       "      <td>880.0</td>\n",
       "      <td>129.0</td>\n",
       "      <td>322.0</td>\n",
       "      <td>126.0</td>\n",
       "      <td>8.3252</td>\n",
       "      <td>452600.0</td>\n",
       "      <td>NEAR BAY</td>\n",
       "    </tr>\n",
       "    <tr>\n",
       "      <th>1</th>\n",
       "      <td>-122.22</td>\n",
       "      <td>37.86</td>\n",
       "      <td>21.0</td>\n",
       "      <td>7099.0</td>\n",
       "      <td>1106.0</td>\n",
       "      <td>2401.0</td>\n",
       "      <td>1138.0</td>\n",
       "      <td>8.3014</td>\n",
       "      <td>358500.0</td>\n",
       "      <td>NEAR BAY</td>\n",
       "    </tr>\n",
       "    <tr>\n",
       "      <th>2</th>\n",
       "      <td>-122.24</td>\n",
       "      <td>37.85</td>\n",
       "      <td>52.0</td>\n",
       "      <td>1467.0</td>\n",
       "      <td>190.0</td>\n",
       "      <td>496.0</td>\n",
       "      <td>177.0</td>\n",
       "      <td>7.2574</td>\n",
       "      <td>352100.0</td>\n",
       "      <td>NEAR BAY</td>\n",
       "    </tr>\n",
       "    <tr>\n",
       "      <th>3</th>\n",
       "      <td>-122.25</td>\n",
       "      <td>37.85</td>\n",
       "      <td>52.0</td>\n",
       "      <td>1274.0</td>\n",
       "      <td>235.0</td>\n",
       "      <td>558.0</td>\n",
       "      <td>219.0</td>\n",
       "      <td>5.6431</td>\n",
       "      <td>341300.0</td>\n",
       "      <td>NEAR BAY</td>\n",
       "    </tr>\n",
       "    <tr>\n",
       "      <th>4</th>\n",
       "      <td>-122.25</td>\n",
       "      <td>37.85</td>\n",
       "      <td>52.0</td>\n",
       "      <td>1627.0</td>\n",
       "      <td>280.0</td>\n",
       "      <td>565.0</td>\n",
       "      <td>259.0</td>\n",
       "      <td>3.8462</td>\n",
       "      <td>342200.0</td>\n",
       "      <td>NEAR BAY</td>\n",
       "    </tr>\n",
       "  </tbody>\n",
       "</table>\n",
       "</div>"
      ],
      "text/plain": [
       "   longitude  latitude  housing_median_age  total_rooms  total_bedrooms  \\\n",
       "0    -122.23     37.88                41.0        880.0           129.0   \n",
       "1    -122.22     37.86                21.0       7099.0          1106.0   \n",
       "2    -122.24     37.85                52.0       1467.0           190.0   \n",
       "3    -122.25     37.85                52.0       1274.0           235.0   \n",
       "4    -122.25     37.85                52.0       1627.0           280.0   \n",
       "\n",
       "   population  households  median_income  median_house_value ocean_proximity  \n",
       "0       322.0       126.0         8.3252            452600.0        NEAR BAY  \n",
       "1      2401.0      1138.0         8.3014            358500.0        NEAR BAY  \n",
       "2       496.0       177.0         7.2574            352100.0        NEAR BAY  \n",
       "3       558.0       219.0         5.6431            341300.0        NEAR BAY  \n",
       "4       565.0       259.0         3.8462            342200.0        NEAR BAY  "
      ]
     },
     "execution_count": 5,
     "metadata": {},
     "output_type": "execute_result"
    }
   ],
   "source": [
    "housing.head()"
   ]
  },
  {
   "cell_type": "code",
   "execution_count": 6,
   "id": "-0LCqr-vNPPb",
   "metadata": {
    "colab": {
     "base_uri": "https://localhost:8080/"
    },
    "executionInfo": {
     "elapsed": 41,
     "status": "ok",
     "timestamp": 1669958768343,
     "user": {
      "displayName": "장경희",
      "userId": "05148120440289478711"
     },
     "user_tz": -540
    },
    "id": "-0LCqr-vNPPb",
    "outputId": "76f1374c-55c8-4a8f-f37b-471797ec1e03"
   },
   "outputs": [
    {
     "name": "stdout",
     "output_type": "stream",
     "text": [
      "<class 'pandas.core.frame.DataFrame'>\n",
      "RangeIndex: 20640 entries, 0 to 20639\n",
      "Data columns (total 10 columns):\n",
      " #   Column              Non-Null Count  Dtype  \n",
      "---  ------              --------------  -----  \n",
      " 0   longitude           20640 non-null  float64\n",
      " 1   latitude            20640 non-null  float64\n",
      " 2   housing_median_age  20640 non-null  float64\n",
      " 3   total_rooms         20640 non-null  float64\n",
      " 4   total_bedrooms      20433 non-null  float64\n",
      " 5   population          20640 non-null  float64\n",
      " 6   households          20640 non-null  float64\n",
      " 7   median_income       20640 non-null  float64\n",
      " 8   median_house_value  20640 non-null  float64\n",
      " 9   ocean_proximity     20640 non-null  object \n",
      "dtypes: float64(9), object(1)\n",
      "memory usage: 1.6+ MB\n"
     ]
    }
   ],
   "source": [
    "housing.info()"
   ]
  },
  {
   "cell_type": "markdown",
   "id": "Xy9hoERuOvI1",
   "metadata": {
    "id": "Xy9hoERuOvI1"
   },
   "source": [
    "**범주형 특성 탐색**"
   ]
  },
  {
   "cell_type": "code",
   "execution_count": 7,
   "id": "PWPfJDeVO6SX",
   "metadata": {
    "colab": {
     "base_uri": "https://localhost:8080/"
    },
    "executionInfo": {
     "elapsed": 24,
     "status": "ok",
     "timestamp": 1669958768344,
     "user": {
      "displayName": "장경희",
      "userId": "05148120440289478711"
     },
     "user_tz": -540
    },
    "id": "PWPfJDeVO6SX",
    "outputId": "b4ab50bf-1571-4b3d-fdfc-08336d7895e8"
   },
   "outputs": [
    {
     "data": {
      "text/plain": [
       "<1H OCEAN     9136\n",
       "INLAND        6551\n",
       "NEAR OCEAN    2658\n",
       "NEAR BAY      2290\n",
       "ISLAND           5\n",
       "Name: ocean_proximity, dtype: int64"
      ]
     },
     "execution_count": 7,
     "metadata": {},
     "output_type": "execute_result"
    }
   ],
   "source": [
    "housing['ocean_proximity'].value_counts()"
   ]
  },
  {
   "cell_type": "markdown",
   "id": "8m-u_6sDO3rX",
   "metadata": {
    "id": "8m-u_6sDO3rX"
   },
   "source": [
    "**수치형 특성 탐색**"
   ]
  },
  {
   "cell_type": "code",
   "execution_count": 8,
   "id": "0X6D3ymdOu_e",
   "metadata": {
    "colab": {
     "base_uri": "https://localhost:8080/",
     "height": 364
    },
    "executionInfo": {
     "elapsed": 21,
     "status": "ok",
     "timestamp": 1669958768346,
     "user": {
      "displayName": "장경희",
      "userId": "05148120440289478711"
     },
     "user_tz": -540
    },
    "id": "0X6D3ymdOu_e",
    "outputId": "d25d7682-0939-495b-a612-d73545a02b18"
   },
   "outputs": [
    {
     "data": {
      "text/html": [
       "<div>\n",
       "<style scoped>\n",
       "    .dataframe tbody tr th:only-of-type {\n",
       "        vertical-align: middle;\n",
       "    }\n",
       "\n",
       "    .dataframe tbody tr th {\n",
       "        vertical-align: top;\n",
       "    }\n",
       "\n",
       "    .dataframe thead th {\n",
       "        text-align: right;\n",
       "    }\n",
       "</style>\n",
       "<table border=\"1\" class=\"dataframe\">\n",
       "  <thead>\n",
       "    <tr style=\"text-align: right;\">\n",
       "      <th></th>\n",
       "      <th>longitude</th>\n",
       "      <th>latitude</th>\n",
       "      <th>housing_median_age</th>\n",
       "      <th>total_rooms</th>\n",
       "      <th>total_bedrooms</th>\n",
       "      <th>population</th>\n",
       "      <th>households</th>\n",
       "      <th>median_income</th>\n",
       "      <th>median_house_value</th>\n",
       "    </tr>\n",
       "  </thead>\n",
       "  <tbody>\n",
       "    <tr>\n",
       "      <th>count</th>\n",
       "      <td>20640.000000</td>\n",
       "      <td>20640.000000</td>\n",
       "      <td>20640.000000</td>\n",
       "      <td>20640.000000</td>\n",
       "      <td>20433.000000</td>\n",
       "      <td>20640.000000</td>\n",
       "      <td>20640.000000</td>\n",
       "      <td>20640.000000</td>\n",
       "      <td>20640.000000</td>\n",
       "    </tr>\n",
       "    <tr>\n",
       "      <th>mean</th>\n",
       "      <td>-119.569704</td>\n",
       "      <td>35.631861</td>\n",
       "      <td>28.639486</td>\n",
       "      <td>2635.763081</td>\n",
       "      <td>537.870553</td>\n",
       "      <td>1425.476744</td>\n",
       "      <td>499.539680</td>\n",
       "      <td>3.870671</td>\n",
       "      <td>206855.816909</td>\n",
       "    </tr>\n",
       "    <tr>\n",
       "      <th>std</th>\n",
       "      <td>2.003532</td>\n",
       "      <td>2.135952</td>\n",
       "      <td>12.585558</td>\n",
       "      <td>2181.615252</td>\n",
       "      <td>421.385070</td>\n",
       "      <td>1132.462122</td>\n",
       "      <td>382.329753</td>\n",
       "      <td>1.899822</td>\n",
       "      <td>115395.615874</td>\n",
       "    </tr>\n",
       "    <tr>\n",
       "      <th>min</th>\n",
       "      <td>-124.350000</td>\n",
       "      <td>32.540000</td>\n",
       "      <td>1.000000</td>\n",
       "      <td>2.000000</td>\n",
       "      <td>1.000000</td>\n",
       "      <td>3.000000</td>\n",
       "      <td>1.000000</td>\n",
       "      <td>0.499900</td>\n",
       "      <td>14999.000000</td>\n",
       "    </tr>\n",
       "    <tr>\n",
       "      <th>25%</th>\n",
       "      <td>-121.800000</td>\n",
       "      <td>33.930000</td>\n",
       "      <td>18.000000</td>\n",
       "      <td>1447.750000</td>\n",
       "      <td>296.000000</td>\n",
       "      <td>787.000000</td>\n",
       "      <td>280.000000</td>\n",
       "      <td>2.563400</td>\n",
       "      <td>119600.000000</td>\n",
       "    </tr>\n",
       "    <tr>\n",
       "      <th>50%</th>\n",
       "      <td>-118.490000</td>\n",
       "      <td>34.260000</td>\n",
       "      <td>29.000000</td>\n",
       "      <td>2127.000000</td>\n",
       "      <td>435.000000</td>\n",
       "      <td>1166.000000</td>\n",
       "      <td>409.000000</td>\n",
       "      <td>3.534800</td>\n",
       "      <td>179700.000000</td>\n",
       "    </tr>\n",
       "    <tr>\n",
       "      <th>75%</th>\n",
       "      <td>-118.010000</td>\n",
       "      <td>37.710000</td>\n",
       "      <td>37.000000</td>\n",
       "      <td>3148.000000</td>\n",
       "      <td>647.000000</td>\n",
       "      <td>1725.000000</td>\n",
       "      <td>605.000000</td>\n",
       "      <td>4.743250</td>\n",
       "      <td>264725.000000</td>\n",
       "    </tr>\n",
       "    <tr>\n",
       "      <th>max</th>\n",
       "      <td>-114.310000</td>\n",
       "      <td>41.950000</td>\n",
       "      <td>52.000000</td>\n",
       "      <td>39320.000000</td>\n",
       "      <td>6445.000000</td>\n",
       "      <td>35682.000000</td>\n",
       "      <td>6082.000000</td>\n",
       "      <td>15.000100</td>\n",
       "      <td>500001.000000</td>\n",
       "    </tr>\n",
       "  </tbody>\n",
       "</table>\n",
       "</div>"
      ],
      "text/plain": [
       "          longitude      latitude  housing_median_age   total_rooms  \\\n",
       "count  20640.000000  20640.000000        20640.000000  20640.000000   \n",
       "mean    -119.569704     35.631861           28.639486   2635.763081   \n",
       "std        2.003532      2.135952           12.585558   2181.615252   \n",
       "min     -124.350000     32.540000            1.000000      2.000000   \n",
       "25%     -121.800000     33.930000           18.000000   1447.750000   \n",
       "50%     -118.490000     34.260000           29.000000   2127.000000   \n",
       "75%     -118.010000     37.710000           37.000000   3148.000000   \n",
       "max     -114.310000     41.950000           52.000000  39320.000000   \n",
       "\n",
       "       total_bedrooms    population    households  median_income  \\\n",
       "count    20433.000000  20640.000000  20640.000000   20640.000000   \n",
       "mean       537.870553   1425.476744    499.539680       3.870671   \n",
       "std        421.385070   1132.462122    382.329753       1.899822   \n",
       "min          1.000000      3.000000      1.000000       0.499900   \n",
       "25%        296.000000    787.000000    280.000000       2.563400   \n",
       "50%        435.000000   1166.000000    409.000000       3.534800   \n",
       "75%        647.000000   1725.000000    605.000000       4.743250   \n",
       "max       6445.000000  35682.000000   6082.000000      15.000100   \n",
       "\n",
       "       median_house_value  \n",
       "count        20640.000000  \n",
       "mean        206855.816909  \n",
       "std         115395.615874  \n",
       "min          14999.000000  \n",
       "25%         119600.000000  \n",
       "50%         179700.000000  \n",
       "75%         264725.000000  \n",
       "max         500001.000000  "
      ]
     },
     "execution_count": 8,
     "metadata": {},
     "output_type": "execute_result"
    }
   ],
   "source": [
    "housing.describe()"
   ]
  },
  {
   "cell_type": "markdown",
   "id": "oTDGzeNqP_fu",
   "metadata": {
    "id": "oTDGzeNqP_fu"
   },
   "source": [
    "**수치형 특성별 히스토그램**"
   ]
  },
  {
   "cell_type": "code",
   "execution_count": 9,
   "id": "rb4bhYudP94S",
   "metadata": {
    "colab": {
     "base_uri": "https://localhost:8080/",
     "height": 577
    },
    "executionInfo": {
     "elapsed": 2901,
     "status": "ok",
     "timestamp": 1669958771228,
     "user": {
      "displayName": "장경희",
      "userId": "05148120440289478711"
     },
     "user_tz": -540
    },
    "id": "rb4bhYudP94S",
    "outputId": "440de781-aafa-4aa1-c68a-537699e01c51"
   },
   "outputs": [
    {
     "data": {
      "image/png": "[encoded data removed]",
      "text/plain": [
       "<Figure size 1440x1080 with 9 Axes>"
      ]
     },
     "metadata": {
      "needs_background": "light"
     },
     "output_type": "display_data"
    }
   ],
   "source": [
    "h = housing.hist(bins=50, figsize=(20, 15))"
   ]
  },
  {
   "cell_type": "markdown",
   "id": "fff95f42",
   "metadata": {
    "id": "fff95f42"
   },
   "source": [
    "## 3. 데이터 세트 분리\n",
    "- 훈련 데이터/ 테스트 데이터"
   ]
  },
  {
   "cell_type": "markdown",
   "id": "777f2ff1",
   "metadata": {
    "id": "777f2ff1"
   },
   "source": [
    "**계층적 샘플링(Straityfied sampling)**"
   ]
  },
  {
   "cell_type": "code",
   "execution_count": 10,
   "id": "9CCICxexRstr",
   "metadata": {
    "executionInfo": {
     "elapsed": 69,
     "status": "ok",
     "timestamp": 1669958771231,
     "user": {
      "displayName": "장경희",
      "userId": "05148120440289478711"
     },
     "user_tz": -540
    },
    "id": "9CCICxexRstr"
   },
   "outputs": [],
   "source": [
    "bins = [0, 1.5, 3.0, 4.5, 6.0, np.inf]\n",
    "labels = [1, 2, 3, 4, 5]\n",
    "housing['income_cat'] = pd.cut(housing['median_income'], bins=bins, labels=labels)"
   ]
  },
  {
   "cell_type": "code",
   "execution_count": 11,
   "id": "jTwZuQfTRsmY",
   "metadata": {
    "colab": {
     "base_uri": "https://localhost:8080/"
    },
    "executionInfo": {
     "elapsed": 69,
     "status": "ok",
     "timestamp": 1669958771233,
     "user": {
      "displayName": "장경희",
      "userId": "05148120440289478711"
     },
     "user_tz": -540
    },
    "id": "jTwZuQfTRsmY",
    "outputId": "2c68fa94-df57-48f2-85ee-4f8c5957fe2c"
   },
   "outputs": [
    {
     "data": {
      "text/plain": [
       "0        8.3252\n",
       "1        8.3014\n",
       "2        7.2574\n",
       "3        5.6431\n",
       "4        3.8462\n",
       "          ...  \n",
       "20635    1.5603\n",
       "20636    2.5568\n",
       "20637    1.7000\n",
       "20638    1.8672\n",
       "20639    2.3886\n",
       "Name: median_income, Length: 20640, dtype: float64"
      ]
     },
     "execution_count": 11,
     "metadata": {},
     "output_type": "execute_result"
    }
   ],
   "source": [
    "housing['median_income']"
   ]
  },
  {
   "cell_type": "code",
   "execution_count": 12,
   "id": "sINVXGAHRsc6",
   "metadata": {
    "colab": {
     "base_uri": "https://localhost:8080/"
    },
    "executionInfo": {
     "elapsed": 67,
     "status": "ok",
     "timestamp": 1669958771234,
     "user": {
      "displayName": "장경희",
      "userId": "05148120440289478711"
     },
     "user_tz": -540
    },
    "id": "sINVXGAHRsc6",
    "outputId": "405e2782-2dfd-4f19-d5d0-01ac46bebc91"
   },
   "outputs": [
    {
     "data": {
      "text/plain": [
       "3    7236\n",
       "2    6581\n",
       "4    3639\n",
       "5    2362\n",
       "1     822\n",
       "Name: income_cat, dtype: int64"
      ]
     },
     "execution_count": 12,
     "metadata": {},
     "output_type": "execute_result"
    }
   ],
   "source": [
    "housing['income_cat'].value_counts() # 도수"
   ]
  },
  {
   "cell_type": "code",
   "execution_count": 13,
   "id": "W54Ryj_PYI4b",
   "metadata": {
    "colab": {
     "base_uri": "https://localhost:8080/"
    },
    "executionInfo": {
     "elapsed": 63,
     "status": "ok",
     "timestamp": 1669958771236,
     "user": {
      "displayName": "장경희",
      "userId": "05148120440289478711"
     },
     "user_tz": -540
    },
    "id": "W54Ryj_PYI4b",
    "outputId": "5540e466-0ed3-4b72-8ed0-86e87fb494ed"
   },
   "outputs": [
    {
     "data": {
      "text/plain": [
       "3    0.350581\n",
       "2    0.318847\n",
       "4    0.176308\n",
       "5    0.114438\n",
       "1    0.039826\n",
       "Name: income_cat, dtype: float64"
      ]
     },
     "execution_count": 13,
     "metadata": {},
     "output_type": "execute_result"
    }
   ],
   "source": [
    "housing['income_cat'].value_counts() / len(housing)"
   ]
  },
  {
   "cell_type": "code",
   "execution_count": 14,
   "id": "4niEv0dPYWbg",
   "metadata": {
    "executionInfo": {
     "elapsed": 60,
     "status": "ok",
     "timestamp": 1669958771237,
     "user": {
      "displayName": "장경희",
      "userId": "05148120440289478711"
     },
     "user_tz": -540
    },
    "id": "4niEv0dPYWbg"
   },
   "outputs": [],
   "source": [
    "from sklearn.model_selection import train_test_split"
   ]
  },
  {
   "cell_type": "code",
   "execution_count": 15,
   "id": "uzBMNPMpUK_q",
   "metadata": {
    "executionInfo": {
     "elapsed": 62,
     "status": "ok",
     "timestamp": 1669958771240,
     "user": {
      "displayName": "장경희",
      "userId": "05148120440289478711"
     },
     "user_tz": -540
    },
    "id": "uzBMNPMpUK_q"
   },
   "outputs": [],
   "source": [
    "strat_train_set, strat_test_set = train_test_split(housing, stratify=housing['income_cat'], test_size=0.2, random_state=42)"
   ]
  },
  {
   "cell_type": "code",
   "execution_count": 16,
   "id": "qx2CDNsVY0aj",
   "metadata": {
    "colab": {
     "base_uri": "https://localhost:8080/"
    },
    "executionInfo": {
     "elapsed": 62,
     "status": "ok",
     "timestamp": 1669958771240,
     "user": {
      "displayName": "장경희",
      "userId": "05148120440289478711"
     },
     "user_tz": -540
    },
    "id": "qx2CDNsVY0aj",
    "outputId": "cd2cc679-6025-4bb4-9bed-81ada95978c8"
   },
   "outputs": [
    {
     "data": {
      "text/plain": [
       "3    0.350594\n",
       "2    0.318859\n",
       "4    0.176296\n",
       "5    0.114462\n",
       "1    0.039789\n",
       "Name: income_cat, dtype: float64"
      ]
     },
     "execution_count": 16,
     "metadata": {},
     "output_type": "execute_result"
    }
   ],
   "source": [
    "strat_train_set['income_cat'].value_counts() / len(strat_train_set)"
   ]
  },
  {
   "cell_type": "code",
   "execution_count": 17,
   "id": "dptV-MIcY0VF",
   "metadata": {
    "colab": {
     "base_uri": "https://localhost:8080/"
    },
    "executionInfo": {
     "elapsed": 58,
     "status": "ok",
     "timestamp": 1669958771241,
     "user": {
      "displayName": "장경희",
      "userId": "05148120440289478711"
     },
     "user_tz": -540
    },
    "id": "dptV-MIcY0VF",
    "outputId": "6ae6ce51-dac7-40eb-8c2d-695efb8f090b"
   },
   "outputs": [
    {
     "data": {
      "text/plain": [
       "3    0.350533\n",
       "2    0.318798\n",
       "4    0.176357\n",
       "5    0.114341\n",
       "1    0.039971\n",
       "Name: income_cat, dtype: float64"
      ]
     },
     "execution_count": 17,
     "metadata": {},
     "output_type": "execute_result"
    }
   ],
   "source": [
    "strat_test_set['income_cat'].value_counts() / len(strat_test_set)"
   ]
  },
  {
   "cell_type": "markdown",
   "id": "mPgUH1itZoF9",
   "metadata": {
    "id": "mPgUH1itZoF9"
   },
   "source": [
    "**데이터 되돌리기**"
   ]
  },
  {
   "cell_type": "code",
   "execution_count": 18,
   "id": "ZKX-vwpCZxyu",
   "metadata": {
    "executionInfo": {
     "elapsed": 55,
     "status": "ok",
     "timestamp": 1669958771242,
     "user": {
      "displayName": "장경희",
      "userId": "05148120440289478711"
     },
     "user_tz": -540
    },
    "id": "ZKX-vwpCZxyu"
   },
   "outputs": [],
   "source": [
    "strat_train_set.drop('income_cat', axis=1, inplace=True)\n",
    "strat_test_set.drop('income_cat', axis=1, inplace=True)"
   ]
  },
  {
   "cell_type": "markdown",
   "id": "21666991",
   "metadata": {
    "id": "21666991"
   },
   "source": [
    "## 4. 데이터 탐색"
   ]
  },
  {
   "cell_type": "markdown",
   "id": "6c3d73bf",
   "metadata": {
    "id": "6c3d73bf"
   },
   "source": [
    "**탐색적 데이터분석**\n",
    "- 어떤 특성을 선택할지, 제거할지, 조합을 통해서 더 좋은 특성을 만들 수 있는지를 분석\n",
    "- 시각화(데이터의 경향성, 왜곡, 특잇값, 통계적정보)\n",
    "- 상관관계, 누락데이터(결측치)를 종합적으로 분석\n",
    "- 탐색적 데이터 분석의 결과로 모델링 방향을 결정할 수 있음"
   ]
  },
  {
   "cell_type": "code",
   "execution_count": 19,
   "id": "419972f0",
   "metadata": {
    "executionInfo": {
     "elapsed": 55,
     "status": "ok",
     "timestamp": 1669958771243,
     "user": {
      "displayName": "장경희",
      "userId": "05148120440289478711"
     },
     "user_tz": -540
    },
    "id": "419972f0"
   },
   "outputs": [],
   "source": [
    "# 훈련셋만을 대상으로 탐색과 시각화를 적용 (strat_test_set는 최종 예측에 사용)\n",
    "housing = strat_train_set.copy()"
   ]
  },
  {
   "cell_type": "markdown",
   "id": "24bcec66",
   "metadata": {
    "id": "24bcec66"
   },
   "source": [
    "### 4.1 지리적 데이터 시각화"
   ]
  },
  {
   "cell_type": "code",
   "execution_count": 20,
   "id": "227eafab",
   "metadata": {
    "colab": {
     "base_uri": "https://localhost:8080/",
     "height": 297
    },
    "executionInfo": {
     "elapsed": 55,
     "status": "ok",
     "timestamp": 1669958771243,
     "user": {
      "displayName": "장경희",
      "userId": "05148120440289478711"
     },
     "user_tz": -540
    },
    "id": "227eafab",
    "outputId": "ac662cdc-6385-4b58-f1c7-03a7cc56b97d"
   },
   "outputs": [
    {
     "data": {
      "text/plain": [
       "<AxesSubplot:xlabel='longitude', ylabel='latitude'>"
      ]
     },
     "execution_count": 20,
     "metadata": {},
     "output_type": "execute_result"
    },
    {
     "data": {
      "image/png": "[encoded data removed]",
      "text/plain": [
       "<Figure size 432x288 with 1 Axes>"
      ]
     },
     "metadata": {
      "needs_background": "light"
     },
     "output_type": "display_data"
    }
   ],
   "source": [
    "# longitude(경도) : 동서\n",
    "# latitude(위도) : 남북\n",
    "housing.plot(kind='scatter', x='longitude', y='latitude', alpha=0.3, grid=True)"
   ]
  },
  {
   "cell_type": "code",
   "execution_count": 21,
   "id": "od_fjoP4dLMn",
   "metadata": {
    "colab": {
     "base_uri": "https://localhost:8080/"
    },
    "executionInfo": {
     "elapsed": 49,
     "status": "ok",
     "timestamp": 1669958771244,
     "user": {
      "displayName": "장경희",
      "userId": "05148120440289478711"
     },
     "user_tz": -540
    },
    "id": "od_fjoP4dLMn",
    "outputId": "6be89f3c-6d8a-4ab6-b552-bcef8cda72ac"
   },
   "outputs": [
    {
     "data": {
      "text/plain": [
       "Index(['longitude', 'latitude', 'housing_median_age', 'total_rooms',\n",
       "       'total_bedrooms', 'population', 'households', 'median_income',\n",
       "       'median_house_value', 'ocean_proximity'],\n",
       "      dtype='object')"
      ]
     },
     "execution_count": 21,
     "metadata": {},
     "output_type": "execute_result"
    }
   ],
   "source": [
    "housing.columns"
   ]
  },
  {
   "cell_type": "code",
   "execution_count": 22,
   "id": "uQoiG-KkcHRj",
   "metadata": {
    "colab": {
     "base_uri": "https://localhost:8080/",
     "height": 464
    },
    "executionInfo": {
     "elapsed": 1211,
     "status": "ok",
     "timestamp": 1669958772425,
     "user": {
      "displayName": "장경희",
      "userId": "05148120440289478711"
     },
     "user_tz": -540
    },
    "id": "uQoiG-KkcHRj",
    "outputId": "fff4dd5d-fb29-4d35-c693-1101f59caa71"
   },
   "outputs": [
    {
     "data": {
      "text/plain": [
       "<AxesSubplot:xlabel='longitude', ylabel='latitude'>"
      ]
     },
     "execution_count": 22,
     "metadata": {},
     "output_type": "execute_result"
    },
    {
     "data": {
      "image/png": "[encoded data removed]",
      "text/plain": [
       "<Figure size 720x504 with 2 Axes>"
      ]
     },
     "metadata": {
      "needs_background": "light"
     },
     "output_type": "display_data"
    }
   ],
   "source": [
    "housing.plot(kind='scatter', x='longitude', y='latitude', alpha=0.8, grid=True,\n",
    "             c = 'median_house_value', cmap='jet', colorbar=True, figsize=(10, 7), # color 를 통해서 주택가격 표시\n",
    "             s = housing['population']/100,  sharex=False) # size를 통해서 인구수를 표시"
   ]
  },
  {
   "cell_type": "markdown",
   "id": "8auuue6Sdrp1",
   "metadata": {
    "id": "8auuue6Sdrp1"
   },
   "source": [
    "**지리적 데이터 분석결과**\n",
    ": 해안가이면서 밀집 지역일수록 주택가격이 높음"
   ]
  },
  {
   "cell_type": "markdown",
   "id": "ba178228",
   "metadata": {
    "id": "ba178228"
   },
   "source": [
    "### 4.2 상관관계 조사"
   ]
  },
  {
   "cell_type": "markdown",
   "id": "cd6042a3",
   "metadata": {
    "id": "cd6042a3"
   },
   "source": [
    "- 상관계수"
   ]
  },
  {
   "cell_type": "code",
   "execution_count": 23,
   "id": "b4d0d41e",
   "metadata": {
    "colab": {
     "base_uri": "https://localhost:8080/",
     "height": 396
    },
    "executionInfo": {
     "elapsed": 22,
     "status": "ok",
     "timestamp": 1669958772426,
     "user": {
      "displayName": "장경희",
      "userId": "05148120440289478711"
     },
     "user_tz": -540
    },
    "id": "b4d0d41e",
    "outputId": "86d33e2e-521b-44aa-8d1f-5364958836e2"
   },
   "outputs": [
    {
     "data": {
      "text/html": [
       "<div>\n",
       "<style scoped>\n",
       "    .dataframe tbody tr th:only-of-type {\n",
       "        vertical-align: middle;\n",
       "    }\n",
       "\n",
       "    .dataframe tbody tr th {\n",
       "        vertical-align: top;\n",
       "    }\n",
       "\n",
       "    .dataframe thead th {\n",
       "        text-align: right;\n",
       "    }\n",
       "</style>\n",
       "<table border=\"1\" class=\"dataframe\">\n",
       "  <thead>\n",
       "    <tr style=\"text-align: right;\">\n",
       "      <th></th>\n",
       "      <th>longitude</th>\n",
       "      <th>latitude</th>\n",
       "      <th>housing_median_age</th>\n",
       "      <th>total_rooms</th>\n",
       "      <th>total_bedrooms</th>\n",
       "      <th>population</th>\n",
       "      <th>households</th>\n",
       "      <th>median_income</th>\n",
       "      <th>median_house_value</th>\n",
       "    </tr>\n",
       "  </thead>\n",
       "  <tbody>\n",
       "    <tr>\n",
       "      <th>longitude</th>\n",
       "      <td>1.000000</td>\n",
       "      <td>-0.924478</td>\n",
       "      <td>-0.105823</td>\n",
       "      <td>0.048909</td>\n",
       "      <td>0.076686</td>\n",
       "      <td>0.108071</td>\n",
       "      <td>0.063146</td>\n",
       "      <td>-0.019615</td>\n",
       "      <td>-0.047466</td>\n",
       "    </tr>\n",
       "    <tr>\n",
       "      <th>latitude</th>\n",
       "      <td>-0.924478</td>\n",
       "      <td>1.000000</td>\n",
       "      <td>0.005737</td>\n",
       "      <td>-0.039245</td>\n",
       "      <td>-0.072550</td>\n",
       "      <td>-0.115290</td>\n",
       "      <td>-0.077765</td>\n",
       "      <td>-0.075146</td>\n",
       "      <td>-0.142673</td>\n",
       "    </tr>\n",
       "    <tr>\n",
       "      <th>housing_median_age</th>\n",
       "      <td>-0.105823</td>\n",
       "      <td>0.005737</td>\n",
       "      <td>1.000000</td>\n",
       "      <td>-0.364535</td>\n",
       "      <td>-0.325101</td>\n",
       "      <td>-0.298737</td>\n",
       "      <td>-0.306473</td>\n",
       "      <td>-0.111315</td>\n",
       "      <td>0.114146</td>\n",
       "    </tr>\n",
       "    <tr>\n",
       "      <th>total_rooms</th>\n",
       "      <td>0.048909</td>\n",
       "      <td>-0.039245</td>\n",
       "      <td>-0.364535</td>\n",
       "      <td>1.000000</td>\n",
       "      <td>0.929391</td>\n",
       "      <td>0.855103</td>\n",
       "      <td>0.918396</td>\n",
       "      <td>0.200133</td>\n",
       "      <td>0.135140</td>\n",
       "    </tr>\n",
       "    <tr>\n",
       "      <th>total_bedrooms</th>\n",
       "      <td>0.076686</td>\n",
       "      <td>-0.072550</td>\n",
       "      <td>-0.325101</td>\n",
       "      <td>0.929391</td>\n",
       "      <td>1.000000</td>\n",
       "      <td>0.876324</td>\n",
       "      <td>0.980167</td>\n",
       "      <td>-0.009643</td>\n",
       "      <td>0.047781</td>\n",
       "    </tr>\n",
       "    <tr>\n",
       "      <th>population</th>\n",
       "      <td>0.108071</td>\n",
       "      <td>-0.115290</td>\n",
       "      <td>-0.298737</td>\n",
       "      <td>0.855103</td>\n",
       "      <td>0.876324</td>\n",
       "      <td>1.000000</td>\n",
       "      <td>0.904639</td>\n",
       "      <td>0.002421</td>\n",
       "      <td>-0.026882</td>\n",
       "    </tr>\n",
       "    <tr>\n",
       "      <th>households</th>\n",
       "      <td>0.063146</td>\n",
       "      <td>-0.077765</td>\n",
       "      <td>-0.306473</td>\n",
       "      <td>0.918396</td>\n",
       "      <td>0.980167</td>\n",
       "      <td>0.904639</td>\n",
       "      <td>1.000000</td>\n",
       "      <td>0.010869</td>\n",
       "      <td>0.064590</td>\n",
       "    </tr>\n",
       "    <tr>\n",
       "      <th>median_income</th>\n",
       "      <td>-0.019615</td>\n",
       "      <td>-0.075146</td>\n",
       "      <td>-0.111315</td>\n",
       "      <td>0.200133</td>\n",
       "      <td>-0.009643</td>\n",
       "      <td>0.002421</td>\n",
       "      <td>0.010869</td>\n",
       "      <td>1.000000</td>\n",
       "      <td>0.687151</td>\n",
       "    </tr>\n",
       "    <tr>\n",
       "      <th>median_house_value</th>\n",
       "      <td>-0.047466</td>\n",
       "      <td>-0.142673</td>\n",
       "      <td>0.114146</td>\n",
       "      <td>0.135140</td>\n",
       "      <td>0.047781</td>\n",
       "      <td>-0.026882</td>\n",
       "      <td>0.064590</td>\n",
       "      <td>0.687151</td>\n",
       "      <td>1.000000</td>\n",
       "    </tr>\n",
       "  </tbody>\n",
       "</table>\n",
       "</div>"
      ],
      "text/plain": [
       "                    longitude  latitude  housing_median_age  total_rooms  \\\n",
       "longitude            1.000000 -0.924478           -0.105823     0.048909   \n",
       "latitude            -0.924478  1.000000            0.005737    -0.039245   \n",
       "housing_median_age  -0.105823  0.005737            1.000000    -0.364535   \n",
       "total_rooms          0.048909 -0.039245           -0.364535     1.000000   \n",
       "total_bedrooms       0.076686 -0.072550           -0.325101     0.929391   \n",
       "population           0.108071 -0.115290           -0.298737     0.855103   \n",
       "households           0.063146 -0.077765           -0.306473     0.918396   \n",
       "median_income       -0.019615 -0.075146           -0.111315     0.200133   \n",
       "median_house_value  -0.047466 -0.142673            0.114146     0.135140   \n",
       "\n",
       "                    total_bedrooms  population  households  median_income  \\\n",
       "longitude                 0.076686    0.108071    0.063146      -0.019615   \n",
       "latitude                 -0.072550   -0.115290   -0.077765      -0.075146   \n",
       "housing_median_age       -0.325101   -0.298737   -0.306473      -0.111315   \n",
       "total_rooms               0.929391    0.855103    0.918396       0.200133   \n",
       "total_bedrooms            1.000000    0.876324    0.980167      -0.009643   \n",
       "population                0.876324    1.000000    0.904639       0.002421   \n",
       "households                0.980167    0.904639    1.000000       0.010869   \n",
       "median_income            -0.009643    0.002421    0.010869       1.000000   \n",
       "median_house_value        0.047781   -0.026882    0.064590       0.687151   \n",
       "\n",
       "                    median_house_value  \n",
       "longitude                    -0.047466  \n",
       "latitude                     -0.142673  \n",
       "housing_median_age            0.114146  \n",
       "total_rooms                   0.135140  \n",
       "total_bedrooms                0.047781  \n",
       "population                   -0.026882  \n",
       "households                    0.064590  \n",
       "median_income                 0.687151  \n",
       "median_house_value            1.000000  "
      ]
     },
     "execution_count": 23,
     "metadata": {},
     "output_type": "execute_result"
    }
   ],
   "source": [
    "# 모든 수치형 특성간의 상관계수 확인\n",
    "corr_matrix = housing.corr()\n",
    "corr_matrix"
   ]
  },
  {
   "cell_type": "code",
   "execution_count": 24,
   "id": "KavjiRfeecpC",
   "metadata": {
    "executionInfo": {
     "elapsed": 19,
     "status": "ok",
     "timestamp": 1669958772427,
     "user": {
      "displayName": "장경희",
      "userId": "05148120440289478711"
     },
     "user_tz": -540
    },
    "id": "KavjiRfeecpC"
   },
   "outputs": [],
   "source": [
    "# 중간 주택 가격(타깃)과 다른 특성간의 상관관계 확인"
   ]
  },
  {
   "cell_type": "code",
   "execution_count": 25,
   "id": "1tbrTYivecdc",
   "metadata": {
    "colab": {
     "base_uri": "https://localhost:8080/"
    },
    "executionInfo": {
     "elapsed": 18,
     "status": "ok",
     "timestamp": 1669958772427,
     "user": {
      "displayName": "장경희",
      "userId": "05148120440289478711"
     },
     "user_tz": -540
    },
    "id": "1tbrTYivecdc",
    "outputId": "52d705e7-14c3-466a-b908-e8d619539367"
   },
   "outputs": [
    {
     "data": {
      "text/plain": [
       "median_house_value    1.000000\n",
       "median_income         0.687151\n",
       "total_rooms           0.135140\n",
       "housing_median_age    0.114146\n",
       "households            0.064590\n",
       "total_bedrooms        0.047781\n",
       "population           -0.026882\n",
       "longitude            -0.047466\n",
       "latitude             -0.142673\n",
       "Name: median_house_value, dtype: float64"
      ]
     },
     "execution_count": 25,
     "metadata": {},
     "output_type": "execute_result"
    }
   ],
   "source": [
    "corr_matrix['median_house_value'].sort_values(ascending=False)"
   ]
  },
  {
   "cell_type": "markdown",
   "id": "0fd04365",
   "metadata": {
    "id": "0fd04365"
   },
   "source": [
    "- 산점도"
   ]
  },
  {
   "cell_type": "code",
   "execution_count": 26,
   "id": "fb825098",
   "metadata": {
    "colab": {
     "base_uri": "https://localhost:8080/",
     "height": 518
    },
    "executionInfo": {
     "elapsed": 2746,
     "status": "ok",
     "timestamp": 1669958775162,
     "user": {
      "displayName": "장경희",
      "userId": "05148120440289478711"
     },
     "user_tz": -540
    },
    "id": "fb825098",
    "outputId": "9c480a39-2a9d-4643-f477-a1103e314377"
   },
   "outputs": [
    {
     "data": {
      "image/png": "[encoded data removed]",
      "text/plain": [
       "<Figure size 864x576 with 16 Axes>"
      ]
     },
     "metadata": {
      "needs_background": "light"
     },
     "output_type": "display_data"
    }
   ],
   "source": [
    "attributes = ['median_house_value', 'median_income', 'total_rooms', 'housing_median_age']\n",
    "\n",
    "obj = pd.plotting.scatter_matrix(housing[attributes], figsize=(12, 8))\n",
    "plt.show() # python script에서는 해줘야 함"
   ]
  },
  {
   "cell_type": "code",
   "execution_count": 27,
   "id": "P74DR-TKfmSw",
   "metadata": {
    "colab": {
     "base_uri": "https://localhost:8080/",
     "height": 298
    },
    "executionInfo": {
     "elapsed": 56,
     "status": "ok",
     "timestamp": 1669958775164,
     "user": {
      "displayName": "장경희",
      "userId": "05148120440289478711"
     },
     "user_tz": -540
    },
    "id": "P74DR-TKfmSw",
    "outputId": "4a8ae4e1-66ec-49ac-ec61-eac09dcdbb2e"
   },
   "outputs": [
    {
     "data": {
      "text/plain": [
       "<AxesSubplot:xlabel='median_income', ylabel='median_house_value'>"
      ]
     },
     "execution_count": 27,
     "metadata": {},
     "output_type": "execute_result"
    },
    {
     "data": {
      "image/png": "[encoded data removed]",
      "text/plain": [
       "<Figure size 432x288 with 1 Axes>"
      ]
     },
     "metadata": {
      "needs_background": "light"
     },
     "output_type": "display_data"
    }
   ],
   "source": [
    "# 중간 주택 가격(타깃)과 중간소득의 산점도\n",
    "housing.plot(kind='scatter', x='median_income', y='median_house_value', alpha=0.1, grid=True)"
   ]
  },
  {
   "cell_type": "markdown",
   "id": "5609f050",
   "metadata": {
    "id": "5609f050"
   },
   "source": [
    "### 4.3 특성 조합을 실험"
   ]
  },
  {
   "cell_type": "code",
   "execution_count": 28,
   "id": "4ae14def",
   "metadata": {
    "executionInfo": {
     "elapsed": 28,
     "status": "ok",
     "timestamp": 1669958775165,
     "user": {
      "displayName": "장경희",
      "userId": "05148120440289478711"
     },
     "user_tz": -540
    },
    "id": "4ae14def"
   },
   "outputs": [],
   "source": [
    "housing['rooms_per_household'] = housing['total_rooms'] / housing['households']\n",
    "housing['bedrooms_per_rooms'] = housing['total_bedrooms'] / housing['total_rooms']\n",
    "housing['population_per_household'] = housing['population'] / housing['households']"
   ]
  },
  {
   "cell_type": "code",
   "execution_count": 29,
   "id": "2Get20I1hcEQ",
   "metadata": {
    "colab": {
     "base_uri": "https://localhost:8080/"
    },
    "executionInfo": {
     "elapsed": 27,
     "status": "ok",
     "timestamp": 1669958775165,
     "user": {
      "displayName": "장경희",
      "userId": "05148120440289478711"
     },
     "user_tz": -540
    },
    "id": "2Get20I1hcEQ",
    "outputId": "072f8b0d-e985-4061-e38f-933e9f32b21d"
   },
   "outputs": [
    {
     "data": {
      "text/plain": [
       "median_house_value          1.000000\n",
       "median_income               0.687151\n",
       "rooms_per_household         0.146255\n",
       "total_rooms                 0.135140\n",
       "housing_median_age          0.114146\n",
       "households                  0.064590\n",
       "total_bedrooms              0.047781\n",
       "population_per_household   -0.021991\n",
       "population                 -0.026882\n",
       "longitude                  -0.047466\n",
       "latitude                   -0.142673\n",
       "bedrooms_per_rooms         -0.259952\n",
       "Name: median_house_value, dtype: float64"
      ]
     },
     "execution_count": 29,
     "metadata": {},
     "output_type": "execute_result"
    }
   ],
   "source": [
    "corr_matrix = housing.corr()\n",
    "corr_matrix['median_house_value'].sort_values(ascending=False)"
   ]
  },
  {
   "cell_type": "markdown",
   "id": "48fc7bbc",
   "metadata": {
    "id": "48fc7bbc"
   },
   "source": [
    "## 5. 데이터 전처리"
   ]
  },
  {
   "cell_type": "code",
   "execution_count": 30,
   "id": "U9UBUPQDmpHm",
   "metadata": {
    "executionInfo": {
     "elapsed": 23,
     "status": "ok",
     "timestamp": 1669958775166,
     "user": {
      "displayName": "장경희",
      "userId": "05148120440289478711"
     },
     "user_tz": -540
    },
    "id": "U9UBUPQDmpHm"
   },
   "outputs": [],
   "source": [
    "# strat_train_set (시각화, 전처리)\n",
    "# strat_test_set (최종 예측)"
   ]
  },
  {
   "cell_type": "code",
   "execution_count": 31,
   "id": "VUgh1LMKm0-i",
   "metadata": {
    "executionInfo": {
     "elapsed": 24,
     "status": "ok",
     "timestamp": 1669958775167,
     "user": {
      "displayName": "장경희",
      "userId": "05148120440289478711"
     },
     "user_tz": -540
    },
    "id": "VUgh1LMKm0-i"
   },
   "outputs": [],
   "source": [
    "# 특성과 레이블을 분리\n",
    "housing = strat_train_set.drop('median_house_value', axis=1) # 특성 (X 데이터)\n",
    "housing_label = strat_train_set['median_house_value'].copy() # 레이블 (y 데이터)"
   ]
  },
  {
   "cell_type": "markdown",
   "id": "c69eae1c",
   "metadata": {
    "id": "c69eae1c"
   },
   "source": [
    "### 5.1 데이터 전처리(1) - 결손값 처리"
   ]
  },
  {
   "cell_type": "markdown",
   "id": "C3iL3mXln6vT",
   "metadata": {
    "id": "C3iL3mXln6vT"
   },
   "source": [
    "**결손값(Null/NaN) 처리 방법**\n",
    "\n",
    "- 옵션1 : 해당 구역 제거\n",
    "- 옵션2 : 전체 특성 삭제\n",
    "- 옵션3 : 어떤 값으로 대체(0, 평균, 중간값 등)\n"
   ]
  },
  {
   "cell_type": "markdown",
   "id": "b44438a3",
   "metadata": {
    "id": "b44438a3"
   },
   "source": [
    "**scikit-learn의 전처리기를 이용하여 옵션3 을 처리**"
   ]
  },
  {
   "cell_type": "code",
   "execution_count": 32,
   "id": "mO9U19nNoMCV",
   "metadata": {
    "executionInfo": {
     "elapsed": 24,
     "status": "ok",
     "timestamp": 1669958775168,
     "user": {
      "displayName": "장경희",
      "userId": "05148120440289478711"
     },
     "user_tz": -540
    },
    "id": "mO9U19nNoMCV"
   },
   "outputs": [],
   "source": [
    "# <scikit-learn의 전처리기들 예시>\n",
    "# preprocessing -> PolynomialFeatures \n",
    "# preprocessing -> StandardScaler\n",
    "# impute -> SimpleImputer\n",
    "# OneHotEncoder\n",
    "# LabelEncoder, OrdinalEncoder\n",
    "# MinMaxScaler\n",
    "# 함수를 이용한 전처리 \n",
    "# 나만의 전처리기"
   ]
  },
  {
   "cell_type": "code",
   "execution_count": 33,
   "id": "iEjht0csqU55",
   "metadata": {
    "executionInfo": {
     "elapsed": 24,
     "status": "ok",
     "timestamp": 1669958775169,
     "user": {
      "displayName": "장경희",
      "userId": "05148120440289478711"
     },
     "user_tz": -540
    },
    "id": "iEjht0csqU55"
   },
   "outputs": [],
   "source": [
    "housing_num = housing.drop('ocean_proximity', axis=1)\n",
    "# housing_num = housing.select_dtypes(include=[np.number])"
   ]
  },
  {
   "cell_type": "code",
   "execution_count": 34,
   "id": "1d0PQDWToL_X",
   "metadata": {
    "colab": {
     "base_uri": "https://localhost:8080/"
    },
    "executionInfo": {
     "elapsed": 865,
     "status": "ok",
     "timestamp": 1669958776011,
     "user": {
      "displayName": "장경희",
      "userId": "05148120440289478711"
     },
     "user_tz": -540
    },
    "id": "1d0PQDWToL_X",
    "outputId": "4dcd39df-b324-487f-a795-08ede11fd0b1"
   },
   "outputs": [
    {
     "data": {
      "text/plain": [
       "SimpleImputer(strategy='median')"
      ]
     },
     "execution_count": 34,
     "metadata": {},
     "output_type": "execute_result"
    }
   ],
   "source": [
    "# SimpleImputer를 결측값을 대체(옵션3) 할 수 있음\n",
    "from sklearn.impute import SimpleImputer\n",
    "\n",
    "imputer = SimpleImputer(strategy='median') # 변환기 객체 생성\n",
    "imputer.fit(housing_num) # 변환할 준비 : 중앙값을 구함"
   ]
  },
  {
   "cell_type": "code",
   "execution_count": 35,
   "id": "yBv3ML-yq6zp",
   "metadata": {
    "colab": {
     "base_uri": "https://localhost:8080/"
    },
    "executionInfo": {
     "elapsed": 126,
     "status": "ok",
     "timestamp": 1669958776012,
     "user": {
      "displayName": "장경희",
      "userId": "05148120440289478711"
     },
     "user_tz": -540
    },
    "id": "yBv3ML-yq6zp",
    "outputId": "44a286cd-ef6e-4026-b2e2-8bba461cb703"
   },
   "outputs": [
    {
     "data": {
      "text/plain": [
       "array([-118.51   ,   34.26   ,   29.     , 2119.     ,  433.     ,\n",
       "       1164.     ,  408.     ,    3.54155])"
      ]
     },
     "execution_count": 35,
     "metadata": {},
     "output_type": "execute_result"
    }
   ],
   "source": [
    "imputer.statistics_"
   ]
  },
  {
   "cell_type": "code",
   "execution_count": 36,
   "id": "BXMTPgN5rCYt",
   "metadata": {
    "colab": {
     "base_uri": "https://localhost:8080/"
    },
    "executionInfo": {
     "elapsed": 120,
     "status": "ok",
     "timestamp": 1669958776012,
     "user": {
      "displayName": "장경희",
      "userId": "05148120440289478711"
     },
     "user_tz": -540
    },
    "id": "BXMTPgN5rCYt",
    "outputId": "a7b58c47-85cc-4bef-aee0-256ffd24c78b"
   },
   "outputs": [
    {
     "data": {
      "text/plain": [
       "longitude             -118.51000\n",
       "latitude                34.26000\n",
       "housing_median_age      29.00000\n",
       "total_rooms           2119.00000\n",
       "total_bedrooms         433.00000\n",
       "population            1164.00000\n",
       "households             408.00000\n",
       "median_income            3.54155\n",
       "dtype: float64"
      ]
     },
     "execution_count": 36,
     "metadata": {},
     "output_type": "execute_result"
    }
   ],
   "source": [
    "# 위의 statistics_ 값과 동일\n",
    "housing_num.median()"
   ]
  },
  {
   "cell_type": "code",
   "execution_count": 37,
   "id": "wS0G8zzxoL8T",
   "metadata": {
    "executionInfo": {
     "elapsed": 115,
     "status": "ok",
     "timestamp": 1669958776013,
     "user": {
      "displayName": "장경희",
      "userId": "05148120440289478711"
     },
     "user_tz": -540
    },
    "id": "wS0G8zzxoL8T"
   },
   "outputs": [],
   "source": [
    "X = imputer.transform(housing_num) # 실제 변환"
   ]
  },
  {
   "cell_type": "code",
   "execution_count": 38,
   "id": "2x0clFtgoL5B",
   "metadata": {
    "executionInfo": {
     "elapsed": 112,
     "status": "ok",
     "timestamp": 1669958776013,
     "user": {
      "displayName": "장경희",
      "userId": "05148120440289478711"
     },
     "user_tz": -540
    },
    "id": "2x0clFtgoL5B"
   },
   "outputs": [],
   "source": [
    "# housing_num_tr = pd.DataFrame(X, columns=housing_num.columns, index=housing_num.index)\n",
    "# housing_num_tr.info()"
   ]
  },
  {
   "cell_type": "markdown",
   "id": "b8420796",
   "metadata": {
    "id": "b8420796"
   },
   "source": [
    "### 5.2 데이터 전처리(2) - 데이터 인코딩\n",
    "- 데이터 인코딩을 하는 이유는 머신러닝에서 수치값만 기대하기 때문"
   ]
  },
  {
   "cell_type": "code",
   "execution_count": 39,
   "id": "d3ea7c53",
   "metadata": {
    "executionInfo": {
     "elapsed": 112,
     "status": "ok",
     "timestamp": 1669958776014,
     "user": {
      "displayName": "장경희",
      "userId": "05148120440289478711"
     },
     "user_tz": -540
    },
    "id": "d3ea7c53"
   },
   "outputs": [],
   "source": [
    "housing_cat = housing[['ocean_proximity']] # 2차원의 dataframe으로 준비"
   ]
  },
  {
   "cell_type": "markdown",
   "id": "7e21a40d",
   "metadata": {
    "id": "7e21a40d"
   },
   "source": [
    "#### (1) 레이블 인코딩"
   ]
  },
  {
   "cell_type": "code",
   "execution_count": 40,
   "id": "ea365710",
   "metadata": {
    "colab": {
     "base_uri": "https://localhost:8080/"
    },
    "executionInfo": {
     "elapsed": 112,
     "status": "ok",
     "timestamp": 1669958776014,
     "user": {
      "displayName": "장경희",
      "userId": "05148120440289478711"
     },
     "user_tz": -540
    },
    "id": "ea365710",
    "outputId": "245177fb-52b1-4a82-8937-1a46df79a6c2"
   },
   "outputs": [
    {
     "data": {
      "text/plain": [
       "(array([0, 1, 0, ..., 2, 2, 0], dtype=int64),\n",
       " Index(['INLAND', 'NEAR OCEAN', '<1H OCEAN', 'NEAR BAY', 'ISLAND'], dtype='object'))"
      ]
     },
     "execution_count": 40,
     "metadata": {},
     "output_type": "execute_result"
    }
   ],
   "source": [
    "# pandas\n",
    "pd.factorize(housing['ocean_proximity'])"
   ]
  },
  {
   "cell_type": "code",
   "execution_count": 41,
   "id": "ba9b7c22",
   "metadata": {
    "colab": {
     "base_uri": "https://localhost:8080/"
    },
    "executionInfo": {
     "elapsed": 110,
     "status": "ok",
     "timestamp": 1669958776015,
     "user": {
      "displayName": "장경희",
      "userId": "05148120440289478711"
     },
     "user_tz": -540
    },
    "id": "ba9b7c22",
    "outputId": "716d839e-aa21-4463-b2ed-41302e69e4ad"
   },
   "outputs": [
    {
     "data": {
      "text/plain": [
       "array([[1.],\n",
       "       [4.],\n",
       "       [1.],\n",
       "       ...,\n",
       "       [0.],\n",
       "       [0.],\n",
       "       [1.]])"
      ]
     },
     "execution_count": 41,
     "metadata": {},
     "output_type": "execute_result"
    }
   ],
   "source": [
    "# scikit-learn 변환기\n",
    "from sklearn.preprocessing import OrdinalEncoder # LabelEncoder는 1차원 데이터를 기대\n",
    "\n",
    "ordinal_encoder = OrdinalEncoder()\n",
    "ordinal_encoder.fit_transform(housing_cat)"
   ]
  },
  {
   "cell_type": "markdown",
   "id": "1cdbf7c5",
   "metadata": {
    "id": "1cdbf7c5"
   },
   "source": [
    "#### (2) 원핫 인코딩\n",
    "숫자의 크기가 모델 훈련과정에서 잘못된 영향을 줄 수 있으므로 원핫 인코딩"
   ]
  },
  {
   "cell_type": "code",
   "execution_count": 42,
   "id": "38b842ac",
   "metadata": {
    "colab": {
     "base_uri": "https://localhost:8080/",
     "height": 505
    },
    "executionInfo": {
     "elapsed": 103,
     "status": "ok",
     "timestamp": 1669958776015,
     "user": {
      "displayName": "장경희",
      "userId": "05148120440289478711"
     },
     "user_tz": -540
    },
    "id": "38b842ac",
    "outputId": "7fa86c00-9dcd-4d40-e402-1512b858cf92"
   },
   "outputs": [
    {
     "data": {
      "text/html": [
       "<div>\n",
       "<style scoped>\n",
       "    .dataframe tbody tr th:only-of-type {\n",
       "        vertical-align: middle;\n",
       "    }\n",
       "\n",
       "    .dataframe tbody tr th {\n",
       "        vertical-align: top;\n",
       "    }\n",
       "\n",
       "    .dataframe thead th {\n",
       "        text-align: right;\n",
       "    }\n",
       "</style>\n",
       "<table border=\"1\" class=\"dataframe\">\n",
       "  <thead>\n",
       "    <tr style=\"text-align: right;\">\n",
       "      <th></th>\n",
       "      <th>ocean_proximity_&lt;1H OCEAN</th>\n",
       "      <th>ocean_proximity_INLAND</th>\n",
       "      <th>ocean_proximity_ISLAND</th>\n",
       "      <th>ocean_proximity_NEAR BAY</th>\n",
       "      <th>ocean_proximity_NEAR OCEAN</th>\n",
       "    </tr>\n",
       "  </thead>\n",
       "  <tbody>\n",
       "    <tr>\n",
       "      <th>12655</th>\n",
       "      <td>0</td>\n",
       "      <td>1</td>\n",
       "      <td>0</td>\n",
       "      <td>0</td>\n",
       "      <td>0</td>\n",
       "    </tr>\n",
       "    <tr>\n",
       "      <th>15502</th>\n",
       "      <td>0</td>\n",
       "      <td>0</td>\n",
       "      <td>0</td>\n",
       "      <td>0</td>\n",
       "      <td>1</td>\n",
       "    </tr>\n",
       "    <tr>\n",
       "      <th>2908</th>\n",
       "      <td>0</td>\n",
       "      <td>1</td>\n",
       "      <td>0</td>\n",
       "      <td>0</td>\n",
       "      <td>0</td>\n",
       "    </tr>\n",
       "    <tr>\n",
       "      <th>14053</th>\n",
       "      <td>0</td>\n",
       "      <td>0</td>\n",
       "      <td>0</td>\n",
       "      <td>0</td>\n",
       "      <td>1</td>\n",
       "    </tr>\n",
       "    <tr>\n",
       "      <th>20496</th>\n",
       "      <td>1</td>\n",
       "      <td>0</td>\n",
       "      <td>0</td>\n",
       "      <td>0</td>\n",
       "      <td>0</td>\n",
       "    </tr>\n",
       "    <tr>\n",
       "      <th>...</th>\n",
       "      <td>...</td>\n",
       "      <td>...</td>\n",
       "      <td>...</td>\n",
       "      <td>...</td>\n",
       "      <td>...</td>\n",
       "    </tr>\n",
       "    <tr>\n",
       "      <th>15174</th>\n",
       "      <td>1</td>\n",
       "      <td>0</td>\n",
       "      <td>0</td>\n",
       "      <td>0</td>\n",
       "      <td>0</td>\n",
       "    </tr>\n",
       "    <tr>\n",
       "      <th>12661</th>\n",
       "      <td>0</td>\n",
       "      <td>1</td>\n",
       "      <td>0</td>\n",
       "      <td>0</td>\n",
       "      <td>0</td>\n",
       "    </tr>\n",
       "    <tr>\n",
       "      <th>19263</th>\n",
       "      <td>1</td>\n",
       "      <td>0</td>\n",
       "      <td>0</td>\n",
       "      <td>0</td>\n",
       "      <td>0</td>\n",
       "    </tr>\n",
       "    <tr>\n",
       "      <th>19140</th>\n",
       "      <td>1</td>\n",
       "      <td>0</td>\n",
       "      <td>0</td>\n",
       "      <td>0</td>\n",
       "      <td>0</td>\n",
       "    </tr>\n",
       "    <tr>\n",
       "      <th>19773</th>\n",
       "      <td>0</td>\n",
       "      <td>1</td>\n",
       "      <td>0</td>\n",
       "      <td>0</td>\n",
       "      <td>0</td>\n",
       "    </tr>\n",
       "  </tbody>\n",
       "</table>\n",
       "<p>16512 rows × 5 columns</p>\n",
       "</div>"
      ],
      "text/plain": [
       "       ocean_proximity_<1H OCEAN  ocean_proximity_INLAND  \\\n",
       "12655                          0                       1   \n",
       "15502                          0                       0   \n",
       "2908                           0                       1   \n",
       "14053                          0                       0   \n",
       "20496                          1                       0   \n",
       "...                          ...                     ...   \n",
       "15174                          1                       0   \n",
       "12661                          0                       1   \n",
       "19263                          1                       0   \n",
       "19140                          1                       0   \n",
       "19773                          0                       1   \n",
       "\n",
       "       ocean_proximity_ISLAND  ocean_proximity_NEAR BAY  \\\n",
       "12655                       0                         0   \n",
       "15502                       0                         0   \n",
       "2908                        0                         0   \n",
       "14053                       0                         0   \n",
       "20496                       0                         0   \n",
       "...                       ...                       ...   \n",
       "15174                       0                         0   \n",
       "12661                       0                         0   \n",
       "19263                       0                         0   \n",
       "19140                       0                         0   \n",
       "19773                       0                         0   \n",
       "\n",
       "       ocean_proximity_NEAR OCEAN  \n",
       "12655                           0  \n",
       "15502                           1  \n",
       "2908                            0  \n",
       "14053                           1  \n",
       "20496                           0  \n",
       "...                           ...  \n",
       "15174                           0  \n",
       "12661                           0  \n",
       "19263                           0  \n",
       "19140                           0  \n",
       "19773                           0  \n",
       "\n",
       "[16512 rows x 5 columns]"
      ]
     },
     "execution_count": 42,
     "metadata": {},
     "output_type": "execute_result"
    }
   ],
   "source": [
    "# pandas\n",
    "pd.get_dummies(housing_cat)"
   ]
  },
  {
   "cell_type": "code",
   "execution_count": 43,
   "id": "34c8edc6",
   "metadata": {
    "colab": {
     "base_uri": "https://localhost:8080/"
    },
    "executionInfo": {
     "elapsed": 102,
     "status": "ok",
     "timestamp": 1669958776016,
     "user": {
      "displayName": "장경희",
      "userId": "05148120440289478711"
     },
     "user_tz": -540
    },
    "id": "34c8edc6",
    "outputId": "faca61a6-c80a-4560-d68b-a68ef8a4ec6d"
   },
   "outputs": [
    {
     "data": {
      "text/plain": [
       "array([[0., 1., 0., 0., 0.],\n",
       "       [0., 0., 0., 0., 1.],\n",
       "       [0., 1., 0., 0., 0.],\n",
       "       ...,\n",
       "       [1., 0., 0., 0., 0.],\n",
       "       [1., 0., 0., 0., 0.],\n",
       "       [0., 1., 0., 0., 0.]])"
      ]
     },
     "execution_count": 43,
     "metadata": {},
     "output_type": "execute_result"
    }
   ],
   "source": [
    "# scikit-learn 변환기\n",
    "from sklearn.preprocessing import OneHotEncoder\n",
    "\n",
    "onehot_encoder = OneHotEncoder(sparse=False)\n",
    "onehot_encoder.fit_transform(housing_cat)"
   ]
  },
  {
   "cell_type": "code",
   "execution_count": 44,
   "id": "TChOKX4guSnr",
   "metadata": {
    "colab": {
     "base_uri": "https://localhost:8080/"
    },
    "executionInfo": {
     "elapsed": 98,
     "status": "ok",
     "timestamp": 1669958776016,
     "user": {
      "displayName": "장경희",
      "userId": "05148120440289478711"
     },
     "user_tz": -540
    },
    "id": "TChOKX4guSnr",
    "outputId": "a2442362-9a4d-47f2-a000-8f624e5aa6fb"
   },
   "outputs": [
    {
     "data": {
      "text/plain": [
       "[array(['<1H OCEAN', 'INLAND', 'ISLAND', 'NEAR BAY', 'NEAR OCEAN'],\n",
       "       dtype=object)]"
      ]
     },
     "execution_count": 44,
     "metadata": {},
     "output_type": "execute_result"
    }
   ],
   "source": [
    "onehot_encoder.categories_"
   ]
  },
  {
   "cell_type": "markdown",
   "id": "28a85e39",
   "metadata": {
    "id": "28a85e39"
   },
   "source": [
    "### 5.3 데이터 전처리(3) - 특성 스케일링\n",
    "- 표준화 (Z score Standardize) : 평균 0, 표준편차 1\n",
    "- 정규화 (Min Max Scaling) : 0~1 사이로 정규화 (참고 : 특잇값에 영향을 받음)\n",
    "- 로그 스케일링 : 데이터의 분포가 왜곡되어 있을때 주로 사용"
   ]
  },
  {
   "cell_type": "code",
   "execution_count": 45,
   "id": "cf340c9e",
   "metadata": {
    "executionInfo": {
     "elapsed": 94,
     "status": "ok",
     "timestamp": 1669958776016,
     "user": {
      "displayName": "장경희",
      "userId": "05148120440289478711"
     },
     "user_tz": -540
    },
    "id": "cf340c9e"
   },
   "outputs": [],
   "source": [
    "arr = np.arange(9).reshape(3,3)"
   ]
  },
  {
   "cell_type": "code",
   "execution_count": 46,
   "id": "6a32247e",
   "metadata": {
    "colab": {
     "base_uri": "https://localhost:8080/"
    },
    "executionInfo": {
     "elapsed": 95,
     "status": "ok",
     "timestamp": 1669958776017,
     "user": {
      "displayName": "장경희",
      "userId": "05148120440289478711"
     },
     "user_tz": -540
    },
    "id": "6a32247e",
    "outputId": "4d9274b1-bee9-4e86-8c07-cd153a59b148"
   },
   "outputs": [
    {
     "data": {
      "text/plain": [
       "(0.0, 1.0)"
      ]
     },
     "execution_count": 46,
     "metadata": {},
     "output_type": "execute_result"
    }
   ],
   "source": [
    "Z_arr = (arr - arr.mean())/arr.std() # 표준화 공식\n",
    "Z_arr.mean(), Z_arr.std()"
   ]
  },
  {
   "cell_type": "code",
   "execution_count": 47,
   "id": "x3sRmgrQvbGF",
   "metadata": {
    "colab": {
     "base_uri": "https://localhost:8080/"
    },
    "executionInfo": {
     "elapsed": 91,
     "status": "ok",
     "timestamp": 1669958776017,
     "user": {
      "displayName": "장경희",
      "userId": "05148120440289478711"
     },
     "user_tz": -540
    },
    "id": "x3sRmgrQvbGF",
    "outputId": "403a681b-8334-4b92-c467-cf3751d6a11a"
   },
   "outputs": [
    {
     "data": {
      "text/plain": [
       "(0.0, 1.0)"
      ]
     },
     "execution_count": 47,
     "metadata": {},
     "output_type": "execute_result"
    }
   ],
   "source": [
    "M_arr = (arr - arr.min())/(arr.max()- arr.min()) # 정규화(0~1) 공식\n",
    "M_arr.min(), M_arr.max()"
   ]
  },
  {
   "cell_type": "code",
   "execution_count": 48,
   "id": "XLOfmVXev1YX",
   "metadata": {
    "executionInfo": {
     "elapsed": 81,
     "status": "ok",
     "timestamp": 1669958776018,
     "user": {
      "displayName": "장경희",
      "userId": "05148120440289478711"
     },
     "user_tz": -540
    },
    "id": "XLOfmVXev1YX"
   },
   "outputs": [],
   "source": [
    "# pandas\n",
    "def minmax_normalize(arr):\n",
    "    return (arr-arr.min())/(arr.max()-arr.min())\n",
    "\n",
    "def zscore_standize(arr): # 평균 0, 표준편차 1\n",
    "    return (arr - arr.mean())/arr.std()    "
   ]
  },
  {
   "cell_type": "code",
   "execution_count": 49,
   "id": "HkrbLIhCwDmd",
   "metadata": {
    "executionInfo": {
     "elapsed": 81,
     "status": "ok",
     "timestamp": 1669958776019,
     "user": {
      "displayName": "장경희",
      "userId": "05148120440289478711"
     },
     "user_tz": -540
    },
    "id": "HkrbLIhCwDmd"
   },
   "outputs": [],
   "source": [
    "# scikit-learn 변환기"
   ]
  },
  {
   "cell_type": "code",
   "execution_count": 50,
   "id": "hHkmhiINwHyT",
   "metadata": {
    "colab": {
     "base_uri": "https://localhost:8080/"
    },
    "executionInfo": {
     "elapsed": 80,
     "status": "ok",
     "timestamp": 1669958776019,
     "user": {
      "displayName": "장경희",
      "userId": "05148120440289478711"
     },
     "user_tz": -540
    },
    "id": "hHkmhiINwHyT",
    "outputId": "cbc6f805-83de-437d-c4a6-b4ed12112c8f"
   },
   "outputs": [
    {
     "data": {
      "text/plain": [
       "(array([-5.24924634e-15,  2.81159678e-16,  8.77850764e-17, -1.54914841e-17,\n",
       "                    nan,  6.45478503e-19, -1.05428155e-17,  1.14841384e-16]),\n",
       " array([ 1.,  1.,  1.,  1., nan,  1.,  1.,  1.]))"
      ]
     },
     "execution_count": 50,
     "metadata": {},
     "output_type": "execute_result"
    }
   ],
   "source": [
    "# 표준화 (Z score Standardize) : 평균 0, 표준편차 1\n",
    "from sklearn.preprocessing import StandardScaler\n",
    "std_scaler = StandardScaler()\n",
    "housing_num_std = std_scaler.fit_transform(housing_num)\n",
    "housing_num_std.mean(0), housing_num_std.std(0) # 0번축으로 각각의 컬럼별 평균/표준편차"
   ]
  },
  {
   "cell_type": "code",
   "execution_count": 51,
   "id": "yQOeXr3uz6K1",
   "metadata": {
    "colab": {
     "base_uri": "https://localhost:8080/"
    },
    "executionInfo": {
     "elapsed": 72,
     "status": "ok",
     "timestamp": 1669958776020,
     "user": {
      "displayName": "장경희",
      "userId": "05148120440289478711"
     },
     "user_tz": -540
    },
    "id": "yQOeXr3uz6K1",
    "outputId": "763d9308-b15d-467f-dd84-09c14062a503"
   },
   "outputs": [
    {
     "data": {
      "text/plain": [
       "(array([ 0.,  0.,  0.,  0., nan,  0.,  0.,  0.]),\n",
       " array([ 1.,  1.,  1.,  1., nan,  1.,  1.,  1.]))"
      ]
     },
     "execution_count": 51,
     "metadata": {},
     "output_type": "execute_result"
    }
   ],
   "source": [
    "# 정규화 (Min Max Scaling) : 0~1 사이로 정규화 (참고 : 특잇값에 영향을 받음)\n",
    "from sklearn.preprocessing import MinMaxScaler\n",
    "\n",
    "min_max_scaler = MinMaxScaler(feature_range=(0, 1)) # feature_range=(0, 1)가 기본값, 변경 가능\n",
    "housing_num_mm = min_max_scaler.fit_transform(housing_num)\n",
    "housing_num_mm.min(0), housing_num_mm.max(0)"
   ]
  },
  {
   "cell_type": "code",
   "execution_count": 52,
   "id": "qKHOUzLR1oR1",
   "metadata": {
    "executionInfo": {
     "elapsed": 67,
     "status": "ok",
     "timestamp": 1669958776021,
     "user": {
      "displayName": "장경희",
      "userId": "05148120440289478711"
     },
     "user_tz": -540
    },
    "id": "qKHOUzLR1oR1"
   },
   "outputs": [],
   "source": [
    "# 로그 스케일링 : 데이터의 분포가 왜곡되어 있을때 주로 사용\n",
    "from sklearn.preprocessing import FunctionTransformer\n",
    "\n",
    "log_transformer = FunctionTransformer(np.log)\n",
    "log_population = log_transformer.fit_transform(housing_num[['population']])"
   ]
  },
  {
   "cell_type": "code",
   "execution_count": 53,
   "id": "rALmw8Hf2mNY",
   "metadata": {
    "colab": {
     "base_uri": "https://localhost:8080/",
     "height": 317
    },
    "executionInfo": {
     "elapsed": 69,
     "status": "ok",
     "timestamp": 1669958776024,
     "user": {
      "displayName": "장경희",
      "userId": "05148120440289478711"
     },
     "user_tz": -540
    },
    "id": "rALmw8Hf2mNY",
    "outputId": "3bab5733-e234-4714-a918-3721a9b50264"
   },
   "outputs": [
    {
     "data": {
      "text/plain": [
       "array([[<AxesSubplot:title={'center':'population'}>]], dtype=object)"
      ]
     },
     "execution_count": 53,
     "metadata": {},
     "output_type": "execute_result"
    },
    {
     "data": {
      "image/png": "[encoded data removed]",
      "text/plain": [
       "<Figure size 432x288 with 1 Axes>"
      ]
     },
     "metadata": {
      "needs_background": "light"
     },
     "output_type": "display_data"
    }
   ],
   "source": [
    "log_population.hist(bins=50) # 변환후"
   ]
  },
  {
   "cell_type": "code",
   "execution_count": 54,
   "id": "NbNnEYjEz7ki",
   "metadata": {
    "colab": {
     "base_uri": "https://localhost:8080/",
     "height": 283
    },
    "executionInfo": {
     "elapsed": 59,
     "status": "ok",
     "timestamp": 1669958776026,
     "user": {
      "displayName": "장경희",
      "userId": "05148120440289478711"
     },
     "user_tz": -540
    },
    "id": "NbNnEYjEz7ki",
    "outputId": "865b3713-bed9-435a-9f50-d18ed5b5d459"
   },
   "outputs": [
    {
     "data": {
      "text/plain": [
       "<AxesSubplot:>"
      ]
     },
     "execution_count": 54,
     "metadata": {},
     "output_type": "execute_result"
    },
    {
     "data": {
      "image/png": "[encoded data removed]",
      "text/plain": [
       "<Figure size 432x288 with 1 Axes>"
      ]
     },
     "metadata": {
      "needs_background": "light"
     },
     "output_type": "display_data"
    }
   ],
   "source": [
    "housing_num['population'].hist(bins=50) # 변환전"
   ]
  },
  {
   "cell_type": "markdown",
   "id": "732fafe8",
   "metadata": {
    "id": "732fafe8"
   },
   "source": [
    "### 5.4 데이터 전처리(4) - 변환 파이프라인"
   ]
  },
  {
   "cell_type": "code",
   "execution_count": 53,
   "id": "254fbb45",
   "metadata": {
    "colab": {
     "base_uri": "https://localhost:8080/"
    },
    "executionInfo": {
     "elapsed": 77,
     "status": "ok",
     "timestamp": 1669958776049,
     "user": {
      "displayName": "장경희",
      "userId": "05148120440289478711"
     },
     "user_tz": -540
    },
    "id": "254fbb45",
    "outputId": "4da88d03-26cf-413c-fe0b-d3042285cdd8"
   },
   "outputs": [
    {
     "data": {
      "text/plain": [
       "Index(['longitude', 'latitude', 'housing_median_age', 'total_rooms',\n",
       "       'total_bedrooms', 'population', 'households', 'median_income',\n",
       "       'ocean_proximity'],\n",
       "      dtype='object')"
      ]
     },
     "execution_count": 53,
     "metadata": {},
     "output_type": "execute_result"
    }
   ],
   "source": [
    "housing.columns"
   ]
  },
  {
   "cell_type": "markdown",
   "id": "dd89a98f",
   "metadata": {},
   "source": [
    "## 4.3에서 새로운 컬럼 생성한 과정을 아래의 방법으로 나타내었다."
   ]
  },
  {
   "cell_type": "markdown",
   "id": "7178ef15",
   "metadata": {},
   "source": [
    "```\n",
    "# 나만의 변환기\n",
    "\n",
    "# 1. 아래 형식을 그대로 가져가기\n",
    "\n",
    "from sklearn.base import BaseEstimator, TransformerMixin\n",
    "class 나만의변환기(BaseEstimator, TransformerMixin):\n",
    "    def __init__(self):\n",
    "        # todo\n",
    "    \n",
    "    def fit(self, X, y=None):\n",
    "        # todo\n",
    "        return self\n",
    "    \n",
    "    def transform(self, X):\n",
    "        # todo\n",
    "        return 변형된 데이터\n",
    "    \n",
    "# 2. transform 함수 위주로 코드를 채우기\n",
    "\n",
    "# 3. 변환기 초기 값이 필요하다면 __init__ 함수 채우기\n",
    "\n",
    "#    변환 준비를 해야 한다면 fit() 함수 채우기\n",
    "```"
   ]
  },
  {
   "cell_type": "markdown",
   "id": "79d6d27c",
   "metadata": {},
   "source": [
    "```\n",
    "# 참고\n",
    "# 변환기에 데이터프레임이 들어왔을때 처리\n",
    "ratio_transformer = FunctionTransformer(lambda X: X.iloc[:, 0] / X.iloc[:, 1])\n",
    "ratio_transformer.fit_transform(housing[['total_rooms', 'households']])\n",
    "\n",
    "# 변환기에 넘파이가 들어왔을때 처리\n",
    "ratio_transformer = FunctionTransformer(lambda X: X[:, [0]] / X[:, [1]])\n",
    "ratio_transformer.fit_transform(housing[['total_rooms', 'households']].values)\n",
    "\n",
    "housing[['total_rooms', 'households']].values[:, [1]]\n",
    "```"
   ]
  },
  {
   "cell_type": "code",
   "execution_count": 80,
   "id": "02c01470",
   "metadata": {},
   "outputs": [],
   "source": [
    "# housing['rooms_per_household'] = housing['total_rooms'] / housing['households']\n",
    "# housing['bedrooms_per_rooms'] = housing['total_bedrooms'] / housing['total_rooms']\n",
    "# housing['population_per_household'] = housing['population'] / housing['households']\n",
    "\n",
    "# 수치형 데이터를 위한 파이프라인(1) - 특성조합 실험 (비율 특성 추가)\n",
    "\n",
    "from sklearn.base import BaseEstimator, TransformerMixin\n",
    "from sklearn.pipeline import Pipeline \n",
    "\n",
    "room_ix = 0\n",
    "bedrooms_ix = 1\n",
    "populaion_ix = 2\n",
    "household_ix = 3\n",
    "\n",
    "class CombinedAtrributeAdder(BaseEstimator, TransformerMixin):\n",
    "    def __init__(self):\n",
    "        pass\n",
    "    \n",
    "    def fit(self, X, y=None):\n",
    "        return self\n",
    "    \n",
    "    def transform(self, X):\n",
    "        rooms_per_households = X[:, room_ix] / X[:, household_ix]\n",
    "        bedrooms_per_rooms = X[:, bedrooms_ix] / X[:, room_ix]\n",
    "        population_per_house = X[:, populaion_ix] / X[:, household_ix]\n",
    "        return np.c_[rooms_per_households, bedrooms_per_rooms, population_per_house]\n",
    "    \n",
    "# adder = CombinedAtrributeAdder()\n",
    "# adder.fit_transform(housing_num[['total_rooms', 'total_bedrooms', 'population', 'households']].values)\n",
    "\n",
    "\n",
    "ratio_add_pipeline = Pipeline([('imputer', SimpleImputer(strategy='median')),\n",
    "                                ('ratio_adder', CombinedAtrributeAdder()),\n",
    "                         ('std_scaler', StandardScaler())\n",
    "                        ])"
   ]
  },
  {
   "cell_type": "code",
   "execution_count": 81,
   "id": "ddb4ea74",
   "metadata": {},
   "outputs": [],
   "source": [
    "# 수치형 데이터를 위한 파이프라인(2) - 왜곡된 수치형 데이터 로그 변환\n",
    "\n",
    "from sklearn.preprocessing import FunctionTransformer\n",
    "\n",
    "# log_transformer = FunctionTransformer(np.log)\n",
    "\n",
    "log_pipeline = Pipeline([('imputer', SimpleImputer(strategy='median')),\n",
    "                         ('log_transformer', FunctionTransformer(np.log)),\n",
    "                         ('std_scaler', StandardScaler())\n",
    "                        ])"
   ]
  },
  {
   "cell_type": "code",
   "execution_count": 91,
   "id": "74213e94",
   "metadata": {},
   "outputs": [
    {
     "data": {
      "text/plain": [
       "KMeans(n_clusters=10, random_state=42)"
      ]
     },
     "execution_count": 91,
     "metadata": {},
     "output_type": "execute_result"
    }
   ],
   "source": [
    "# 수치형 데이터를 위한 파이프라인(3)\n",
    "from sklearn.cluster import KMeans\n",
    "\n",
    "Kmeans = KMeans(10, random_state=42)\n",
    "Kmeans.fit(housing[['longitude', 'latitude']], sample_weight)"
   ]
  },
  {
   "cell_type": "code",
   "execution_count": 99,
   "id": "e3a06268",
   "metadata": {},
   "outputs": [
    {
     "data": {
      "text/plain": [
       "array([7, 5, 8, ..., 2, 2, 4])"
      ]
     },
     "execution_count": 99,
     "metadata": {},
     "output_type": "execute_result"
    }
   ],
   "source": [
    "Kmeans.labels_"
   ]
  },
  {
   "cell_type": "code",
   "execution_count": 100,
   "id": "7994d0ae",
   "metadata": {},
   "outputs": [],
   "source": [
    "cluster_centers = Kmeans.cluster_centers_\n",
    "cluster_labels = np.unique(Kmeans.labels_)"
   ]
  },
  {
   "cell_type": "code",
   "execution_count": 105,
   "id": "4373ed9f",
   "metadata": {},
   "outputs": [
    {
     "data": {
      "image/png": "[encoded data removed]",
      "text/plain": [
       "<Figure size 720x504 with 2 Axes>"
      ]
     },
     "metadata": {
      "needs_background": "light"
     },
     "output_type": "display_data"
    }
   ],
   "source": [
    "housing.plot(kind='scatter', x='longitude', y='latitude', alpha=0.8, grid=True,\n",
    "             c=housing_label, cmap='jet', colorbar=True, figsize=(10, 7), # color 를 통해서 주택가격 표시\n",
    "             s = housing['population']/100,  sharex=False) # size를 통해서 인구수를 표시\n",
    "\n",
    "plt.scatter(cluster_centers[:, 0], cluster_centers[:,1], c=cluster_labels, marker='^', linewidths=2, edgecolors='k', s=40)\n",
    "\n",
    "for cluster_label in cluster_labels:\n",
    "    plt.annotate(cluster_label, (cluster_centers[cluster_label, 0], cluster_centers[cluster_label,1]))"
   ]
  },
  {
   "cell_type": "code",
   "execution_count": 106,
   "id": "e994065e",
   "metadata": {},
   "outputs": [
    {
     "data": {
      "text/plain": [
       "array([7, 5, 8, 5, 6])"
      ]
     },
     "execution_count": 106,
     "metadata": {},
     "output_type": "execute_result"
    }
   ],
   "source": [
    "Kmeans.labels_[:5]"
   ]
  },
  {
   "cell_type": "code",
   "execution_count": 107,
   "id": "c9a30ce9",
   "metadata": {},
   "outputs": [
    {
     "data": {
      "text/html": [
       "<div>\n",
       "<style scoped>\n",
       "    .dataframe tbody tr th:only-of-type {\n",
       "        vertical-align: middle;\n",
       "    }\n",
       "\n",
       "    .dataframe tbody tr th {\n",
       "        vertical-align: top;\n",
       "    }\n",
       "\n",
       "    .dataframe thead th {\n",
       "        text-align: right;\n",
       "    }\n",
       "</style>\n",
       "<table border=\"1\" class=\"dataframe\">\n",
       "  <thead>\n",
       "    <tr style=\"text-align: right;\">\n",
       "      <th></th>\n",
       "      <th>longitude</th>\n",
       "      <th>latitude</th>\n",
       "    </tr>\n",
       "  </thead>\n",
       "  <tbody>\n",
       "    <tr>\n",
       "      <th>12655</th>\n",
       "      <td>-121.46</td>\n",
       "      <td>38.52</td>\n",
       "    </tr>\n",
       "    <tr>\n",
       "      <th>15502</th>\n",
       "      <td>-117.23</td>\n",
       "      <td>33.09</td>\n",
       "    </tr>\n",
       "    <tr>\n",
       "      <th>2908</th>\n",
       "      <td>-119.04</td>\n",
       "      <td>35.37</td>\n",
       "    </tr>\n",
       "    <tr>\n",
       "      <th>14053</th>\n",
       "      <td>-117.13</td>\n",
       "      <td>32.75</td>\n",
       "    </tr>\n",
       "    <tr>\n",
       "      <th>20496</th>\n",
       "      <td>-118.70</td>\n",
       "      <td>34.28</td>\n",
       "    </tr>\n",
       "  </tbody>\n",
       "</table>\n",
       "</div>"
      ],
      "text/plain": [
       "       longitude  latitude\n",
       "12655    -121.46     38.52\n",
       "15502    -117.23     33.09\n",
       "2908     -119.04     35.37\n",
       "14053    -117.13     32.75\n",
       "20496    -118.70     34.28"
      ]
     },
     "execution_count": 107,
     "metadata": {},
     "output_type": "execute_result"
    }
   ],
   "source": [
    "housing[['longitude', 'latitude']].head()"
   ]
  },
  {
   "cell_type": "markdown",
   "id": "f1c89ca6",
   "metadata": {},
   "source": [
    "## 클러스터 유사도 측정"
   ]
  },
  {
   "cell_type": "code",
   "execution_count": 111,
   "id": "3e5306e0",
   "metadata": {},
   "outputs": [],
   "source": [
    "from sklearn.metrics.pairwise import rbf_kernel\n",
    "\n",
    "simil = rbf_kernel(housing[['longitude', 'latitude']], Kmeans.cluster_centers_, gamma=1.0)"
   ]
  },
  {
   "cell_type": "code",
   "execution_count": 112,
   "id": "26a2696d",
   "metadata": {
    "scrolled": true
   },
   "outputs": [
    {
     "data": {
      "text/plain": [
       "array([[0.  , 0.47, 0.34, 0.  , 0.  , 0.  , 0.  , 0.82, 0.  , 0.16],\n",
       "       [0.42, 0.  , 0.  , 0.  , 0.  , 0.9 , 0.12, 0.  , 0.  , 0.  ],\n",
       "       [0.02, 0.  , 0.  , 0.16, 0.  , 0.  , 0.1 , 0.  , 0.55, 0.  ],\n",
       "       [0.19, 0.  , 0.  , 0.  , 0.  , 0.92, 0.05, 0.  , 0.  , 0.  ],\n",
       "       [0.3 , 0.  , 0.  , 0.  , 0.  , 0.01, 0.81, 0.  , 0.23, 0.  ]])"
      ]
     },
     "execution_count": 112,
     "metadata": {},
     "output_type": "execute_result"
    }
   ],
   "source": [
    "simil[:5].round(2)"
   ]
  },
  {
   "cell_type": "code",
   "execution_count": 117,
   "id": "0b62a705",
   "metadata": {},
   "outputs": [],
   "source": [
    "class ClusterSimilarity(BaseEstimator, TransformerMixin):\n",
    "    def __init__(self, n_clusters=10, gamma=1.0, random_state=None):\n",
    "        self.n_clusters = n_clusters\n",
    "        self.gamma = gamma\n",
    "        self.random_state = random_state\n",
    "\n",
    "    def fit(self, X, y=None, sample_weight=None):  # 지리 정보를 군집시킴\n",
    "        self.Kmeans_ = KMeans(self.n_clusters, random_state=self.random_state)\n",
    "        self.Kmeans_.fit(X, sample_weight=sample_weight)\n",
    "        return self\n",
    "\n",
    "    def transform(self, X):   # 군집된 위치로부터 유사도를 구함\n",
    "        return rbf_kernel(X, self.Kmeans_.cluster_centers_, gamma=self.gamma)\n",
    "    \n",
    "cluster_simil = ClusterSimilarity(n_clusters=10, gamma=1.0, random_state=42)\n",
    "# similarities = cluster_simil.fit_transform(housing[['longitude', 'latitude']], sample_weight=housing_label)\n",
    "# similarities.round(2)"
   ]
  },
  {
   "cell_type": "code",
   "execution_count": 82,
   "id": "8ffdcdd9",
   "metadata": {
    "executionInfo": {
     "elapsed": 77,
     "status": "ok",
     "timestamp": 1669958776053,
     "user": {
      "displayName": "장경희",
      "userId": "05148120440289478711"
     },
     "user_tz": -540
    },
    "id": "8ffdcdd9"
   },
   "outputs": [],
   "source": [
    "# 수치형 데이터를 위한 파이프라인(4)\n",
    "\n",
    "# 누락된 데이터를 중앙값으로 대체\n",
    "# ---> 표준화\n",
    "\n",
    "from sklearn.pipeline import Pipeline \n",
    "\n",
    "num_pipeline = Pipeline([('imputer', SimpleImputer(strategy='median')),\n",
    "                         ('std_scaler', StandardScaler())\n",
    "                        ])\n",
    "# num_pipeline.fit_transform(housing_num)"
   ]
  },
  {
   "cell_type": "code",
   "execution_count": 83,
   "id": "iHYGUJsa3iM7",
   "metadata": {
    "executionInfo": {
     "elapsed": 77,
     "status": "ok",
     "timestamp": 1669958776054,
     "user": {
      "displayName": "장경희",
      "userId": "05148120440289478711"
     },
     "user_tz": -540
    },
    "id": "iHYGUJsa3iM7"
   },
   "outputs": [],
   "source": [
    "# 범주형 데이터를 위한 파이프라인\n",
    "# --> 원핫 인코딩"
   ]
  },
  {
   "cell_type": "code",
   "execution_count": 84,
   "id": "46fe1f00",
   "metadata": {},
   "outputs": [
    {
     "data": {
      "text/plain": [
       "Index(['longitude', 'latitude', 'housing_median_age', 'total_rooms',\n",
       "       'total_bedrooms', 'population', 'households', 'median_income',\n",
       "       'ocean_proximity'],\n",
       "      dtype='object')"
      ]
     },
     "execution_count": 84,
     "metadata": {},
     "output_type": "execute_result"
    }
   ],
   "source": [
    "housing.columns"
   ]
  },
  {
   "cell_type": "code",
   "execution_count": 119,
   "id": "l8h22cWZ6alH",
   "metadata": {
    "executionInfo": {
     "elapsed": 79,
     "status": "ok",
     "timestamp": 1669958776056,
     "user": {
      "displayName": "장경희",
      "userId": "05148120440289478711"
     },
     "user_tz": -540
    },
    "id": "l8h22cWZ6alH"
   },
   "outputs": [],
   "source": [
    "ratio_attribs = ['total_rooms', 'total_bedrooms', 'population', 'households']\n",
    "log_attribs = ['total_rooms', 'total_bedrooms', 'population', 'households', 'median_income']\n",
    "geo_attribs = ['longitude', 'latitude']\n",
    "num_attribs = ['longitude', 'latitude', 'housing_median_age']\n",
    "\n",
    "cat_attrib = ['ocean_proximity']"
   ]
  },
  {
   "cell_type": "code",
   "execution_count": 120,
   "id": "LHtH92yM4-gJ",
   "metadata": {
    "executionInfo": {
     "elapsed": 80,
     "status": "ok",
     "timestamp": 1669958776057,
     "user": {
      "displayName": "장경희",
      "userId": "05148120440289478711"
     },
     "user_tz": -540
    },
    "id": "LHtH92yM4-gJ"
   },
   "outputs": [],
   "source": [
    "from sklearn.compose import ColumnTransformer\n",
    "\n",
    "full_pipeline = ColumnTransformer([('ratio_add_pipeline', ratio_add_pipeline, ratio_attribs),\n",
    "                                   ('log_pipeline', log_pipeline, log_attribs),\n",
    "                                   ('cluster_simil', cluster_simil, geo_attribs),\n",
    "                                   ('num_pipeline', num_pipeline, num_attribs),\n",
    "                                   ('onehot_encoder', OneHotEncoder(), cat_attrib)])\n"
   ]
  },
  {
   "cell_type": "code",
   "execution_count": 121,
   "id": "Hqyto7dF3ksZ",
   "metadata": {
    "executionInfo": {
     "elapsed": 80,
     "status": "ok",
     "timestamp": 1669958776058,
     "user": {
      "displayName": "장경희",
      "userId": "05148120440289478711"
     },
     "user_tz": -540
    },
    "id": "Hqyto7dF3ksZ"
   },
   "outputs": [],
   "source": [
    "housing_prepared = full_pipeline.fit_transform(housing)"
   ]
  },
  {
   "cell_type": "code",
   "execution_count": 122,
   "id": "B5dJ2P4E7PcD",
   "metadata": {
    "colab": {
     "base_uri": "https://localhost:8080/"
    },
    "executionInfo": {
     "elapsed": 87,
     "status": "ok",
     "timestamp": 1669958776065,
     "user": {
      "displayName": "장경희",
      "userId": "05148120440289478711"
     },
     "user_tz": -540
    },
    "id": "B5dJ2P4E7PcD",
    "outputId": "74fc6f21-d302-4ab6-e16a-d7b2deaf9e7f"
   },
   "outputs": [
    {
     "data": {
      "text/plain": [
       "(16512, 26)"
      ]
     },
     "execution_count": 122,
     "metadata": {},
     "output_type": "execute_result"
    }
   ],
   "source": [
    "housing_prepared.shape"
   ]
  },
  {
   "cell_type": "code",
   "execution_count": 123,
   "id": "7L1996Et7VDF",
   "metadata": {
    "colab": {
     "base_uri": "https://localhost:8080/"
    },
    "executionInfo": {
     "elapsed": 88,
     "status": "ok",
     "timestamp": 1669958776070,
     "user": {
      "displayName": "장경희",
      "userId": "05148120440289478711"
     },
     "user_tz": -540
    },
    "id": "7L1996Et7VDF",
    "outputId": "b48dd2a1-e512-4c3d-d089-f0daaedb819a"
   },
   "outputs": [
    {
     "data": {
      "text/plain": [
       "(16512, 9)"
      ]
     },
     "execution_count": 123,
     "metadata": {},
     "output_type": "execute_result"
    }
   ],
   "source": [
    "housing.shape"
   ]
  },
  {
   "cell_type": "code",
   "execution_count": 150,
   "id": "fed5d2d2",
   "metadata": {},
   "outputs": [],
   "source": [
    "from sklearn import set_config\n",
    "\n",
    "set_config(display='diagram')"
   ]
  },
  {
   "cell_type": "code",
   "execution_count": 151,
   "id": "adb12481",
   "metadata": {},
   "outputs": [
    {
     "data": {
      "text/html": [
       "<style>#sk-501ffedf-e14b-46c3-bd3e-b6584072df0b {color: black;background-color: white;}#sk-501ffedf-e14b-46c3-bd3e-b6584072df0b pre{padding: 0;}#sk-501ffedf-e14b-46c3-bd3e-b6584072df0b div.sk-toggleable {background-color: white;}#sk-501ffedf-e14b-46c3-bd3e-b6584072df0b label.sk-toggleable__label {cursor: pointer;display: block;width: 100%;margin-bottom: 0;padding: 0.3em;box-sizing: border-box;text-align: center;}#sk-501ffedf-e14b-46c3-bd3e-b6584072df0b label.sk-toggleable__label-arrow:before {content: \"▸\";float: left;margin-right: 0.25em;color: #696969;}#sk-501ffedf-e14b-46c3-bd3e-b6584072df0b label.sk-toggleable__label-arrow:hover:before {color: black;}#sk-501ffedf-e14b-46c3-bd3e-b6584072df0b div.sk-estimator:hover label.sk-toggleable__label-arrow:before {color: black;}#sk-501ffedf-e14b-46c3-bd3e-b6584072df0b div.sk-toggleable__content {max-height: 0;max-width: 0;overflow: hidden;text-align: left;background-color: #f0f8ff;}#sk-501ffedf-e14b-46c3-bd3e-b6584072df0b div.sk-toggleable__content pre {margin: 0.2em;color: black;border-radius: 0.25em;background-color: #f0f8ff;}#sk-501ffedf-e14b-46c3-bd3e-b6584072df0b input.sk-toggleable__control:checked~div.sk-toggleable__content {max-height: 200px;max-width: 100%;overflow: auto;}#sk-501ffedf-e14b-46c3-bd3e-b6584072df0b input.sk-toggleable__control:checked~label.sk-toggleable__label-arrow:before {content: \"▾\";}#sk-501ffedf-e14b-46c3-bd3e-b6584072df0b div.sk-estimator input.sk-toggleable__control:checked~label.sk-toggleable__label {background-color: #d4ebff;}#sk-501ffedf-e14b-46c3-bd3e-b6584072df0b div.sk-label input.sk-toggleable__control:checked~label.sk-toggleable__label {background-color: #d4ebff;}#sk-501ffedf-e14b-46c3-bd3e-b6584072df0b input.sk-hidden--visually {border: 0;clip: rect(1px 1px 1px 1px);clip: rect(1px, 1px, 1px, 1px);height: 1px;margin: -1px;overflow: hidden;padding: 0;position: absolute;width: 1px;}#sk-501ffedf-e14b-46c3-bd3e-b6584072df0b div.sk-estimator {font-family: monospace;background-color: #f0f8ff;border: 1px dotted black;border-radius: 0.25em;box-sizing: border-box;margin-bottom: 0.5em;}#sk-501ffedf-e14b-46c3-bd3e-b6584072df0b div.sk-estimator:hover {background-color: #d4ebff;}#sk-501ffedf-e14b-46c3-bd3e-b6584072df0b div.sk-parallel-item::after {content: \"\";width: 100%;border-bottom: 1px solid gray;flex-grow: 1;}#sk-501ffedf-e14b-46c3-bd3e-b6584072df0b div.sk-label:hover label.sk-toggleable__label {background-color: #d4ebff;}#sk-501ffedf-e14b-46c3-bd3e-b6584072df0b div.sk-serial::before {content: \"\";position: absolute;border-left: 1px solid gray;box-sizing: border-box;top: 2em;bottom: 0;left: 50%;}#sk-501ffedf-e14b-46c3-bd3e-b6584072df0b div.sk-serial {display: flex;flex-direction: column;align-items: center;background-color: white;padding-right: 0.2em;padding-left: 0.2em;}#sk-501ffedf-e14b-46c3-bd3e-b6584072df0b div.sk-item {z-index: 1;}#sk-501ffedf-e14b-46c3-bd3e-b6584072df0b div.sk-parallel {display: flex;align-items: stretch;justify-content: center;background-color: white;}#sk-501ffedf-e14b-46c3-bd3e-b6584072df0b div.sk-parallel::before {content: \"\";position: absolute;border-left: 1px solid gray;box-sizing: border-box;top: 2em;bottom: 0;left: 50%;}#sk-501ffedf-e14b-46c3-bd3e-b6584072df0b div.sk-parallel-item {display: flex;flex-direction: column;position: relative;background-color: white;}#sk-501ffedf-e14b-46c3-bd3e-b6584072df0b div.sk-parallel-item:first-child::after {align-self: flex-end;width: 50%;}#sk-501ffedf-e14b-46c3-bd3e-b6584072df0b div.sk-parallel-item:last-child::after {align-self: flex-start;width: 50%;}#sk-501ffedf-e14b-46c3-bd3e-b6584072df0b div.sk-parallel-item:only-child::after {width: 0;}#sk-501ffedf-e14b-46c3-bd3e-b6584072df0b div.sk-dashed-wrapped {border: 1px dashed gray;margin: 0 0.4em 0.5em 0.4em;box-sizing: border-box;padding-bottom: 0.4em;background-color: white;position: relative;}#sk-501ffedf-e14b-46c3-bd3e-b6584072df0b div.sk-label label {font-family: monospace;font-weight: bold;background-color: white;display: inline-block;line-height: 1.2em;}#sk-501ffedf-e14b-46c3-bd3e-b6584072df0b div.sk-label-container {position: relative;z-index: 2;text-align: center;}#sk-501ffedf-e14b-46c3-bd3e-b6584072df0b div.sk-container {/* jupyter's `normalize.less` sets `[hidden] { display: none; }` but bootstrap.min.css set `[hidden] { display: none !important; }` so we also need the `!important` here to be able to override the default hidden behavior on the sphinx rendered scikit-learn.org. See: https://github.com/scikit-learn/scikit-learn/issues/21755 */display: inline-block !important;position: relative;}#sk-501ffedf-e14b-46c3-bd3e-b6584072df0b div.sk-text-repr-fallback {display: none;}</style><div id=\"sk-501ffedf-e14b-46c3-bd3e-b6584072df0b\" class=\"sk-top-container\"><div class=\"sk-text-repr-fallback\"><pre>ColumnTransformer(transformers=[(&#x27;ratio_add_pipeline&#x27;,\n",
       "                                 Pipeline(steps=[(&#x27;imputer&#x27;,\n",
       "                                                  SimpleImputer(strategy=&#x27;median&#x27;)),\n",
       "                                                 (&#x27;ratio_adder&#x27;,\n",
       "                                                  CombinedAtrributeAdder()),\n",
       "                                                 (&#x27;std_scaler&#x27;,\n",
       "                                                  StandardScaler())]),\n",
       "                                 [&#x27;total_rooms&#x27;, &#x27;total_bedrooms&#x27;, &#x27;population&#x27;,\n",
       "                                  &#x27;households&#x27;]),\n",
       "                                (&#x27;log_pipeline&#x27;,\n",
       "                                 Pipeline(steps=[(&#x27;imputer&#x27;,\n",
       "                                                  SimpleImputer(strategy=&#x27;median&#x27;)),\n",
       "                                                 (&#x27;log_transformer&#x27;,\n",
       "                                                  Func...\n",
       "                                 [&#x27;total_rooms&#x27;, &#x27;total_bedrooms&#x27;, &#x27;population&#x27;,\n",
       "                                  &#x27;households&#x27;, &#x27;median_income&#x27;]),\n",
       "                                (&#x27;cluster_simil&#x27;,\n",
       "                                 ClusterSimilarity(random_state=42),\n",
       "                                 [&#x27;longitude&#x27;, &#x27;latitude&#x27;]),\n",
       "                                (&#x27;num_pipeline&#x27;,\n",
       "                                 Pipeline(steps=[(&#x27;imputer&#x27;,\n",
       "                                                  SimpleImputer(strategy=&#x27;median&#x27;)),\n",
       "                                                 (&#x27;std_scaler&#x27;,\n",
       "                                                  StandardScaler())]),\n",
       "                                 [&#x27;longitude&#x27;, &#x27;latitude&#x27;,\n",
       "                                  &#x27;housing_median_age&#x27;]),\n",
       "                                (&#x27;onehot_encoder&#x27;, OneHotEncoder(),\n",
       "                                 [&#x27;ocean_proximity&#x27;])])</pre><b>Please rerun this cell to show the HTML repr or trust the notebook.</b></div><div class=\"sk-container\" hidden><div class=\"sk-item sk-dashed-wrapped\"><div class=\"sk-label-container\"><div class=\"sk-label sk-toggleable\"><input class=\"sk-toggleable__control sk-hidden--visually\" id=\"29f68df1-0bcf-4ed7-bf94-9d89098a24c2\" type=\"checkbox\" ><label for=\"29f68df1-0bcf-4ed7-bf94-9d89098a24c2\" class=\"sk-toggleable__label sk-toggleable__label-arrow\">ColumnTransformer</label><div class=\"sk-toggleable__content\"><pre>ColumnTransformer(transformers=[(&#x27;ratio_add_pipeline&#x27;,\n",
       "                                 Pipeline(steps=[(&#x27;imputer&#x27;,\n",
       "                                                  SimpleImputer(strategy=&#x27;median&#x27;)),\n",
       "                                                 (&#x27;ratio_adder&#x27;,\n",
       "                                                  CombinedAtrributeAdder()),\n",
       "                                                 (&#x27;std_scaler&#x27;,\n",
       "                                                  StandardScaler())]),\n",
       "                                 [&#x27;total_rooms&#x27;, &#x27;total_bedrooms&#x27;, &#x27;population&#x27;,\n",
       "                                  &#x27;households&#x27;]),\n",
       "                                (&#x27;log_pipeline&#x27;,\n",
       "                                 Pipeline(steps=[(&#x27;imputer&#x27;,\n",
       "                                                  SimpleImputer(strategy=&#x27;median&#x27;)),\n",
       "                                                 (&#x27;log_transformer&#x27;,\n",
       "                                                  Func...\n",
       "                                 [&#x27;total_rooms&#x27;, &#x27;total_bedrooms&#x27;, &#x27;population&#x27;,\n",
       "                                  &#x27;households&#x27;, &#x27;median_income&#x27;]),\n",
       "                                (&#x27;cluster_simil&#x27;,\n",
       "                                 ClusterSimilarity(random_state=42),\n",
       "                                 [&#x27;longitude&#x27;, &#x27;latitude&#x27;]),\n",
       "                                (&#x27;num_pipeline&#x27;,\n",
       "                                 Pipeline(steps=[(&#x27;imputer&#x27;,\n",
       "                                                  SimpleImputer(strategy=&#x27;median&#x27;)),\n",
       "                                                 (&#x27;std_scaler&#x27;,\n",
       "                                                  StandardScaler())]),\n",
       "                                 [&#x27;longitude&#x27;, &#x27;latitude&#x27;,\n",
       "                                  &#x27;housing_median_age&#x27;]),\n",
       "                                (&#x27;onehot_encoder&#x27;, OneHotEncoder(),\n",
       "                                 [&#x27;ocean_proximity&#x27;])])</pre></div></div></div><div class=\"sk-parallel\"><div class=\"sk-parallel-item\"><div class=\"sk-item\"><div class=\"sk-label-container\"><div class=\"sk-label sk-toggleable\"><input class=\"sk-toggleable__control sk-hidden--visually\" id=\"0e3958bd-23fd-4aa3-930a-f7df04221498\" type=\"checkbox\" ><label for=\"0e3958bd-23fd-4aa3-930a-f7df04221498\" class=\"sk-toggleable__label sk-toggleable__label-arrow\">ratio_add_pipeline</label><div class=\"sk-toggleable__content\"><pre>[&#x27;total_rooms&#x27;, &#x27;total_bedrooms&#x27;, &#x27;population&#x27;, &#x27;households&#x27;]</pre></div></div></div><div class=\"sk-serial\"><div class=\"sk-item\"><div class=\"sk-serial\"><div class=\"sk-item\"><div class=\"sk-estimator sk-toggleable\"><input class=\"sk-toggleable__control sk-hidden--visually\" id=\"417970b6-1fe0-48f3-b17f-9e4625525d04\" type=\"checkbox\" ><label for=\"417970b6-1fe0-48f3-b17f-9e4625525d04\" class=\"sk-toggleable__label sk-toggleable__label-arrow\">SimpleImputer</label><div class=\"sk-toggleable__content\"><pre>SimpleImputer(strategy=&#x27;median&#x27;)</pre></div></div></div><div class=\"sk-item\"><div class=\"sk-estimator sk-toggleable\"><input class=\"sk-toggleable__control sk-hidden--visually\" id=\"5d6d1d89-35df-407e-9cf2-75e49ee77683\" type=\"checkbox\" ><label for=\"5d6d1d89-35df-407e-9cf2-75e49ee77683\" class=\"sk-toggleable__label sk-toggleable__label-arrow\">CombinedAtrributeAdder</label><div class=\"sk-toggleable__content\"><pre>CombinedAtrributeAdder()</pre></div></div></div><div class=\"sk-item\"><div class=\"sk-estimator sk-toggleable\"><input class=\"sk-toggleable__control sk-hidden--visually\" id=\"df781f76-6447-42b7-b449-1ba34eb93d4c\" type=\"checkbox\" ><label for=\"df781f76-6447-42b7-b449-1ba34eb93d4c\" class=\"sk-toggleable__label sk-toggleable__label-arrow\">StandardScaler</label><div class=\"sk-toggleable__content\"><pre>StandardScaler()</pre></div></div></div></div></div></div></div></div><div class=\"sk-parallel-item\"><div class=\"sk-item\"><div class=\"sk-label-container\"><div class=\"sk-label sk-toggleable\"><input class=\"sk-toggleable__control sk-hidden--visually\" id=\"18b5e285-0d18-4eac-a82c-5b2e2fa31d32\" type=\"checkbox\" ><label for=\"18b5e285-0d18-4eac-a82c-5b2e2fa31d32\" class=\"sk-toggleable__label sk-toggleable__label-arrow\">log_pipeline</label><div class=\"sk-toggleable__content\"><pre>[&#x27;total_rooms&#x27;, &#x27;total_bedrooms&#x27;, &#x27;population&#x27;, &#x27;households&#x27;, &#x27;median_income&#x27;]</pre></div></div></div><div class=\"sk-serial\"><div class=\"sk-item\"><div class=\"sk-serial\"><div class=\"sk-item\"><div class=\"sk-estimator sk-toggleable\"><input class=\"sk-toggleable__control sk-hidden--visually\" id=\"f7e425a0-997f-4c30-9cf5-fa6e61febf87\" type=\"checkbox\" ><label for=\"f7e425a0-997f-4c30-9cf5-fa6e61febf87\" class=\"sk-toggleable__label sk-toggleable__label-arrow\">SimpleImputer</label><div class=\"sk-toggleable__content\"><pre>SimpleImputer(strategy=&#x27;median&#x27;)</pre></div></div></div><div class=\"sk-item\"><div class=\"sk-estimator sk-toggleable\"><input class=\"sk-toggleable__control sk-hidden--visually\" id=\"d17cf161-be87-4d6f-9fc3-f23092bbc540\" type=\"checkbox\" ><label for=\"d17cf161-be87-4d6f-9fc3-f23092bbc540\" class=\"sk-toggleable__label sk-toggleable__label-arrow\">FunctionTransformer</label><div class=\"sk-toggleable__content\"><pre>FunctionTransformer(func=&lt;ufunc &#x27;log&#x27;&gt;)</pre></div></div></div><div class=\"sk-item\"><div class=\"sk-estimator sk-toggleable\"><input class=\"sk-toggleable__control sk-hidden--visually\" id=\"2d3d0c10-8bc7-44dc-b518-08ab96ed5b93\" type=\"checkbox\" ><label for=\"2d3d0c10-8bc7-44dc-b518-08ab96ed5b93\" class=\"sk-toggleable__label sk-toggleable__label-arrow\">StandardScaler</label><div class=\"sk-toggleable__content\"><pre>StandardScaler()</pre></div></div></div></div></div></div></div></div><div class=\"sk-parallel-item\"><div class=\"sk-item\"><div class=\"sk-label-container\"><div class=\"sk-label sk-toggleable\"><input class=\"sk-toggleable__control sk-hidden--visually\" id=\"b65035cf-9bd9-4b5a-b84d-3f19d95d16ea\" type=\"checkbox\" ><label for=\"b65035cf-9bd9-4b5a-b84d-3f19d95d16ea\" class=\"sk-toggleable__label sk-toggleable__label-arrow\">cluster_simil</label><div class=\"sk-toggleable__content\"><pre>[&#x27;longitude&#x27;, &#x27;latitude&#x27;]</pre></div></div></div><div class=\"sk-serial\"><div class=\"sk-item\"><div class=\"sk-estimator sk-toggleable\"><input class=\"sk-toggleable__control sk-hidden--visually\" id=\"cf50ce4e-d04a-491d-99d2-a46b71f2501a\" type=\"checkbox\" ><label for=\"cf50ce4e-d04a-491d-99d2-a46b71f2501a\" class=\"sk-toggleable__label sk-toggleable__label-arrow\">ClusterSimilarity</label><div class=\"sk-toggleable__content\"><pre>ClusterSimilarity(random_state=42)</pre></div></div></div></div></div></div><div class=\"sk-parallel-item\"><div class=\"sk-item\"><div class=\"sk-label-container\"><div class=\"sk-label sk-toggleable\"><input class=\"sk-toggleable__control sk-hidden--visually\" id=\"414f331a-0e2d-47db-a0da-e2743a16945d\" type=\"checkbox\" ><label for=\"414f331a-0e2d-47db-a0da-e2743a16945d\" class=\"sk-toggleable__label sk-toggleable__label-arrow\">num_pipeline</label><div class=\"sk-toggleable__content\"><pre>[&#x27;longitude&#x27;, &#x27;latitude&#x27;, &#x27;housing_median_age&#x27;]</pre></div></div></div><div class=\"sk-serial\"><div class=\"sk-item\"><div class=\"sk-serial\"><div class=\"sk-item\"><div class=\"sk-estimator sk-toggleable\"><input class=\"sk-toggleable__control sk-hidden--visually\" id=\"b71ccf65-3e44-4e4d-8f2f-cf6435812d81\" type=\"checkbox\" ><label for=\"b71ccf65-3e44-4e4d-8f2f-cf6435812d81\" class=\"sk-toggleable__label sk-toggleable__label-arrow\">SimpleImputer</label><div class=\"sk-toggleable__content\"><pre>SimpleImputer(strategy=&#x27;median&#x27;)</pre></div></div></div><div class=\"sk-item\"><div class=\"sk-estimator sk-toggleable\"><input class=\"sk-toggleable__control sk-hidden--visually\" id=\"e74d3d5a-9d9c-4df1-a4fb-51999705ad3c\" type=\"checkbox\" ><label for=\"e74d3d5a-9d9c-4df1-a4fb-51999705ad3c\" class=\"sk-toggleable__label sk-toggleable__label-arrow\">StandardScaler</label><div class=\"sk-toggleable__content\"><pre>StandardScaler()</pre></div></div></div></div></div></div></div></div><div class=\"sk-parallel-item\"><div class=\"sk-item\"><div class=\"sk-label-container\"><div class=\"sk-label sk-toggleable\"><input class=\"sk-toggleable__control sk-hidden--visually\" id=\"b60c8b8d-5385-455b-adf7-c37d7c2a825b\" type=\"checkbox\" ><label for=\"b60c8b8d-5385-455b-adf7-c37d7c2a825b\" class=\"sk-toggleable__label sk-toggleable__label-arrow\">onehot_encoder</label><div class=\"sk-toggleable__content\"><pre>[&#x27;ocean_proximity&#x27;]</pre></div></div></div><div class=\"sk-serial\"><div class=\"sk-item\"><div class=\"sk-estimator sk-toggleable\"><input class=\"sk-toggleable__control sk-hidden--visually\" id=\"f3d1142b-e40a-4f3b-8be3-1f95de7e5cce\" type=\"checkbox\" ><label for=\"f3d1142b-e40a-4f3b-8be3-1f95de7e5cce\" class=\"sk-toggleable__label sk-toggleable__label-arrow\">OneHotEncoder</label><div class=\"sk-toggleable__content\"><pre>OneHotEncoder()</pre></div></div></div></div></div></div></div></div></div></div>"
      ],
      "text/plain": [
       "ColumnTransformer(transformers=[('ratio_add_pipeline',\n",
       "                                 Pipeline(steps=[('imputer',\n",
       "                                                  SimpleImputer(strategy='median')),\n",
       "                                                 ('ratio_adder',\n",
       "                                                  CombinedAtrributeAdder()),\n",
       "                                                 ('std_scaler',\n",
       "                                                  StandardScaler())]),\n",
       "                                 ['total_rooms', 'total_bedrooms', 'population',\n",
       "                                  'households']),\n",
       "                                ('log_pipeline',\n",
       "                                 Pipeline(steps=[('imputer',\n",
       "                                                  SimpleImputer(strategy='median')),\n",
       "                                                 ('log_transformer',\n",
       "                                                  Func...\n",
       "                                 ['total_rooms', 'total_bedrooms', 'population',\n",
       "                                  'households', 'median_income']),\n",
       "                                ('cluster_simil',\n",
       "                                 ClusterSimilarity(random_state=42),\n",
       "                                 ['longitude', 'latitude']),\n",
       "                                ('num_pipeline',\n",
       "                                 Pipeline(steps=[('imputer',\n",
       "                                                  SimpleImputer(strategy='median')),\n",
       "                                                 ('std_scaler',\n",
       "                                                  StandardScaler())]),\n",
       "                                 ['longitude', 'latitude',\n",
       "                                  'housing_median_age']),\n",
       "                                ('onehot_encoder', OneHotEncoder(),\n",
       "                                 ['ocean_proximity'])])"
      ]
     },
     "execution_count": 151,
     "metadata": {},
     "output_type": "execute_result"
    }
   ],
   "source": [
    "full_pipeline"
   ]
  },
  {
   "cell_type": "markdown",
   "id": "226a047c",
   "metadata": {
    "id": "226a047c"
   },
   "source": [
    "## 6. 모델 선택과 훈련"
   ]
  },
  {
   "cell_type": "code",
   "execution_count": 124,
   "id": "684a39ad",
   "metadata": {
    "executionInfo": {
     "elapsed": 89,
     "status": "ok",
     "timestamp": 1669958776075,
     "user": {
      "displayName": "장경희",
      "userId": "05148120440289478711"
     },
     "user_tz": -540
    },
    "id": "684a39ad"
   },
   "outputs": [],
   "source": [
    "from sklearn.linear_model import LinearRegression\n",
    "from sklearn.tree import DecisionTreeRegressor\n",
    "from sklearn.ensemble import RandomForestRegressor\n",
    "from sklearn.model_selection import cross_val_score"
   ]
  },
  {
   "cell_type": "code",
   "execution_count": 125,
   "id": "eb466a04",
   "metadata": {
    "executionInfo": {
     "elapsed": 326,
     "status": "ok",
     "timestamp": 1669958797238,
     "user": {
      "displayName": "장경희",
      "userId": "05148120440289478711"
     },
     "user_tz": -540
    },
    "id": "eb466a04"
   },
   "outputs": [],
   "source": [
    "lin_reg = LinearRegression()\n",
    "tree_reg = DecisionTreeRegressor(random_state=42)\n",
    "rf_reg = RandomForestRegressor(random_state=42)"
   ]
  },
  {
   "cell_type": "code",
   "execution_count": 126,
   "id": "kVCRHhxvQwH4",
   "metadata": {
    "colab": {
     "base_uri": "https://localhost:8080/"
    },
    "executionInfo": {
     "elapsed": 489,
     "status": "ok",
     "timestamp": 1669958776476,
     "user": {
      "displayName": "장경희",
      "userId": "05148120440289478711"
     },
     "user_tz": -540
    },
    "id": "kVCRHhxvQwH4",
    "outputId": "9fcf1dd1-e49e-40a3-feb2-02c17d289cf4"
   },
   "outputs": [
    {
     "data": {
      "text/plain": [
       "71206.90552623491"
      ]
     },
     "execution_count": 126,
     "metadata": {},
     "output_type": "execute_result"
    }
   ],
   "source": [
    "# cross_val_score(모델, 특성, 정답, 성능측정지표, 폴드수)\n",
    "\n",
    "lin_scores = cross_val_score(lin_reg, housing_prepared, housing_label, scoring=\"neg_mean_squared_error\", cv=10, n_jobs=-1)\n",
    "lin_rmse = np.sqrt(-lin_scores).mean()\n",
    "lin_rmse"
   ]
  },
  {
   "cell_type": "code",
   "execution_count": 127,
   "id": "Q0LE4KjASCfE",
   "metadata": {
    "colab": {
     "base_uri": "https://localhost:8080/"
    },
    "executionInfo": {
     "elapsed": 1885,
     "status": "ok",
     "timestamp": 1669958803564,
     "user": {
      "displayName": "장경희",
      "userId": "05148120440289478711"
     },
     "user_tz": -540
    },
    "id": "Q0LE4KjASCfE",
    "outputId": "277e29e5-01d0-4422-b0e0-f12937c7cd44"
   },
   "outputs": [
    {
     "data": {
      "text/plain": [
       "65245.91802351343"
      ]
     },
     "execution_count": 127,
     "metadata": {},
     "output_type": "execute_result"
    }
   ],
   "source": [
    "tree_scores = cross_val_score(tree_reg, housing_prepared, housing_label, scoring=\"neg_mean_squared_error\", cv=10, n_jobs=-1)\n",
    "tree_rmse = np.sqrt(-tree_scores).mean()\n",
    "tree_rmse"
   ]
  },
  {
   "cell_type": "code",
   "execution_count": 128,
   "id": "hdJNjkt5SQBX",
   "metadata": {
    "colab": {
     "base_uri": "https://localhost:8080/"
    },
    "executionInfo": {
     "elapsed": 85601,
     "status": "ok",
     "timestamp": 1669958924754,
     "user": {
      "displayName": "장경희",
      "userId": "05148120440289478711"
     },
     "user_tz": -540
    },
    "id": "hdJNjkt5SQBX",
    "outputId": "b4bc5982-2b5a-40af-a017-8c63b4a57d08"
   },
   "outputs": [
    {
     "data": {
      "text/plain": [
       "46958.40137594243"
      ]
     },
     "execution_count": 128,
     "metadata": {},
     "output_type": "execute_result"
    }
   ],
   "source": [
    "rf_scores = cross_val_score(rf_reg, housing_prepared, housing_label, scoring=\"neg_mean_squared_error\", cv=10, n_jobs=-1)\n",
    "rf_rmse = np.sqrt(-rf_scores).mean()\n",
    "rf_rmse"
   ]
  },
  {
   "cell_type": "markdown",
   "id": "7b90bbe8",
   "metadata": {
    "id": "7b90bbe8"
   },
   "source": [
    "## 7. 모델 세부 튜닝"
   ]
  },
  {
   "cell_type": "markdown",
   "id": "f139148c",
   "metadata": {
    "id": "f139148c"
   },
   "source": [
    "**그리드 탐색**"
   ]
  },
  {
   "cell_type": "code",
   "execution_count": 129,
   "id": "iEyu3UWjUeBR",
   "metadata": {
    "executionInfo": {
     "elapsed": 319,
     "status": "ok",
     "timestamp": 1669959148714,
     "user": {
      "displayName": "장경희",
      "userId": "05148120440289478711"
     },
     "user_tz": -540
    },
    "id": "iEyu3UWjUeBR"
   },
   "outputs": [],
   "source": [
    "from sklearn.model_selection import GridSearchCV"
   ]
  },
  {
   "cell_type": "code",
   "execution_count": 130,
   "id": "82c6b571",
   "metadata": {
    "executionInfo": {
     "elapsed": 7,
     "status": "ok",
     "timestamp": 1669959149279,
     "user": {
      "displayName": "장경희",
      "userId": "05148120440289478711"
     },
     "user_tz": -540
    },
    "id": "82c6b571"
   },
   "outputs": [],
   "source": [
    "rf_reg = RandomForestRegressor(random_state=42)"
   ]
  },
  {
   "cell_type": "code",
   "execution_count": 131,
   "id": "F_LmPuRFUm-D",
   "metadata": {
    "colab": {
     "base_uri": "https://localhost:8080/"
    },
    "executionInfo": {
     "elapsed": 85461,
     "status": "ok",
     "timestamp": 1669959695191,
     "user": {
      "displayName": "장경희",
      "userId": "05148120440289478711"
     },
     "user_tz": -540
    },
    "id": "F_LmPuRFUm-D",
    "outputId": "24ef68eb-3ab8-4940-bc41-0e0197bfabad"
   },
   "outputs": [
    {
     "name": "stdout",
     "output_type": "stream",
     "text": [
      "CPU times: total: 4.86 s\n",
      "Wall time: 1min 12s\n"
     ]
    },
    {
     "data": {
      "text/plain": [
       "GridSearchCV(cv=5, estimator=RandomForestRegressor(random_state=42), n_jobs=-1,\n",
       "             param_grid={'max_features': [2, 4, 6, 8],\n",
       "                         'n_estimators': [30, 50, 100]},\n",
       "             scoring='neg_mean_squared_error')"
      ]
     },
     "execution_count": 131,
     "metadata": {},
     "output_type": "execute_result"
    }
   ],
   "source": [
    "param_grid = {'n_estimators':[30, 50, 100], 'max_features':[2, 4, 6, 8]} # 3*4 \n",
    "\n",
    "# GridSearchCV(모델, 탐색할파라미터, 성능측정기준, 폴드수)\n",
    "grid_search = GridSearchCV(rf_reg, param_grid, scoring='neg_mean_squared_error', cv=5, n_jobs=-1) # 3*4*5\n",
    "%time grid_search.fit(housing_prepared, housing_label)"
   ]
  },
  {
   "cell_type": "code",
   "execution_count": 132,
   "id": "T9Ba0GM3W5zU",
   "metadata": {
    "colab": {
     "base_uri": "https://localhost:8080/"
    },
    "executionInfo": {
     "elapsed": 326,
     "status": "ok",
     "timestamp": 1669959786769,
     "user": {
      "displayName": "장경희",
      "userId": "05148120440289478711"
     },
     "user_tz": -540
    },
    "id": "T9Ba0GM3W5zU",
    "outputId": "805e09f0-6340-46d6-a5d4-e185a237a4f1"
   },
   "outputs": [
    {
     "data": {
      "text/plain": [
       "{'max_features': 4, 'n_estimators': 100}"
      ]
     },
     "execution_count": 132,
     "metadata": {},
     "output_type": "execute_result"
    }
   ],
   "source": [
    "grid_search.best_params_"
   ]
  },
  {
   "cell_type": "code",
   "execution_count": 133,
   "id": "Q-yC8BzOW5v2",
   "metadata": {
    "colab": {
     "base_uri": "https://localhost:8080/"
    },
    "executionInfo": {
     "elapsed": 332,
     "status": "ok",
     "timestamp": 1669959828508,
     "user": {
      "displayName": "장경희",
      "userId": "05148120440289478711"
     },
     "user_tz": -540
    },
    "id": "Q-yC8BzOW5v2",
    "outputId": "a5896912-8ee2-4856-db2a-f0753df53386"
   },
   "outputs": [
    {
     "data": {
      "text/plain": [
       "RandomForestRegressor(max_features=4, random_state=42)"
      ]
     },
     "execution_count": 133,
     "metadata": {},
     "output_type": "execute_result"
    }
   ],
   "source": [
    "grid_search.best_estimator_"
   ]
  },
  {
   "cell_type": "code",
   "execution_count": 134,
   "id": "kq4n7eKFW5ql",
   "metadata": {
    "colab": {
     "base_uri": "https://localhost:8080/"
    },
    "executionInfo": {
     "elapsed": 330,
     "status": "ok",
     "timestamp": 1669960046959,
     "user": {
      "displayName": "장경희",
      "userId": "05148120440289478711"
     },
     "user_tz": -540
    },
    "id": "kq4n7eKFW5ql",
    "outputId": "f092be53-da95-4b4e-b782-890f823954e7"
   },
   "outputs": [
    {
     "name": "stdout",
     "output_type": "stream",
     "text": [
      "45930.524473040154 {'max_features': 2, 'n_estimators': 30}\n",
      "45221.44145629031 {'max_features': 2, 'n_estimators': 50}\n",
      "44851.38466635857 {'max_features': 2, 'n_estimators': 100}\n",
      "44081.79166377987 {'max_features': 4, 'n_estimators': 30}\n",
      "43741.500681650665 {'max_features': 4, 'n_estimators': 50}\n",
      "43590.74839381807 {'max_features': 4, 'n_estimators': 100}\n",
      "44350.69922649845 {'max_features': 6, 'n_estimators': 30}\n",
      "43887.32333301693 {'max_features': 6, 'n_estimators': 50}\n",
      "43686.3779287694 {'max_features': 6, 'n_estimators': 100}\n",
      "44926.59277621451 {'max_features': 8, 'n_estimators': 30}\n",
      "44547.54978870744 {'max_features': 8, 'n_estimators': 50}\n",
      "44217.38782260176 {'max_features': 8, 'n_estimators': 100}\n"
     ]
    }
   ],
   "source": [
    "for mean_score, params in zip(grid_search.cv_results_['mean_test_score'], grid_search.cv_results_['params']):\n",
    "  print(np.sqrt(-mean_score), params)"
   ]
  },
  {
   "cell_type": "markdown",
   "id": "Fo3ZetuzdYQ_",
   "metadata": {
    "id": "Fo3ZetuzdYQ_"
   },
   "source": [
    "**랜덤 탐색**"
   ]
  },
  {
   "cell_type": "code",
   "execution_count": 135,
   "id": "6Yq54BIAdeRT",
   "metadata": {
    "colab": {
     "base_uri": "https://localhost:8080/"
    },
    "executionInfo": {
     "elapsed": 112681,
     "status": "ok",
     "timestamp": 1669961990159,
     "user": {
      "displayName": "장경희",
      "userId": "05148120440289478711"
     },
     "user_tz": -540
    },
    "id": "6Yq54BIAdeRT",
    "outputId": "1e05559c-a62c-4d2a-caa2-47347dd2ad10"
   },
   "outputs": [
    {
     "name": "stdout",
     "output_type": "stream",
     "text": [
      "CPU times: total: 4.09 s\n",
      "Wall time: 1min 1s\n"
     ]
    },
    {
     "data": {
      "text/plain": [
       "RandomizedSearchCV(cv=5, estimator=RandomForestRegressor(random_state=42),\n",
       "                   n_jobs=-1,\n",
       "                   param_distributions={'max_features': <scipy.stats._distn_infrastructure.rv_frozen object at 0x000002D6AB9785B0>,\n",
       "                                        'n_estimators': <scipy.stats._distn_infrastructure.rv_frozen object at 0x000002D6AB9781F0>},\n",
       "                   scoring='neg_mean_squared_error')"
      ]
     },
     "execution_count": 135,
     "metadata": {},
     "output_type": "execute_result"
    }
   ],
   "source": [
    "from sklearn.model_selection import RandomizedSearchCV\n",
    "from scipy.stats import randint\n",
    "\n",
    "param_distribs = {'n_estimators' : randint(low=1, high=200), 'max_features' : randint(low=1, high=8)}\n",
    "\n",
    "\n",
    "# RandomizedSearchCV(모델, 탐색할파라미터, 반복횟수, 성능측정기준, 폴드수)\n",
    "rnd_search = RandomizedSearchCV(rf_reg, param_distribs, n_iter=10, scoring='neg_mean_squared_error', cv=5, n_jobs=-1) # 10*5\n",
    "%time rnd_search.fit(housing_prepared, housing_label)"
   ]
  },
  {
   "cell_type": "code",
   "execution_count": 136,
   "id": "TO3H1S6tfSRy",
   "metadata": {
    "colab": {
     "base_uri": "https://localhost:8080/"
    },
    "executionInfo": {
     "elapsed": 327,
     "status": "ok",
     "timestamp": 1669962000182,
     "user": {
      "displayName": "장경희",
      "userId": "05148120440289478711"
     },
     "user_tz": -540
    },
    "id": "TO3H1S6tfSRy",
    "outputId": "2b359150-a9c6-4d31-b7fc-898f6ce3fad0"
   },
   "outputs": [
    {
     "data": {
      "text/plain": [
       "{'max_features': 5, 'n_estimators': 72}"
      ]
     },
     "execution_count": 136,
     "metadata": {},
     "output_type": "execute_result"
    }
   ],
   "source": [
    "rnd_search.best_params_"
   ]
  },
  {
   "cell_type": "code",
   "execution_count": 137,
   "id": "Njg5h4qOhmJW",
   "metadata": {
    "executionInfo": {
     "elapsed": 411,
     "status": "ok",
     "timestamp": 1669962594678,
     "user": {
      "displayName": "장경희",
      "userId": "05148120440289478711"
     },
     "user_tz": -540
    },
    "id": "Njg5h4qOhmJW"
   },
   "outputs": [],
   "source": [
    "best_model = rnd_search.best_estimator_"
   ]
  },
  {
   "cell_type": "code",
   "execution_count": 138,
   "id": "VsFmJp7ZfSHY",
   "metadata": {
    "colab": {
     "base_uri": "https://localhost:8080/"
    },
    "executionInfo": {
     "elapsed": 326,
     "status": "ok",
     "timestamp": 1669962011419,
     "user": {
      "displayName": "장경희",
      "userId": "05148120440289478711"
     },
     "user_tz": -540
    },
    "id": "VsFmJp7ZfSHY",
    "outputId": "0f047270-8e8d-485f-cc4d-c0a2a0168775",
    "scrolled": true
   },
   "outputs": [
    {
     "name": "stdout",
     "output_type": "stream",
     "text": [
      "47427.91286206518 {'max_features': 1, 'n_estimators': 179}\n",
      "47504.04569501843 {'max_features': 1, 'n_estimators': 88}\n",
      "43709.69670888209 {'max_features': 4, 'n_estimators': 54}\n",
      "47584.22614000534 {'max_features': 1, 'n_estimators': 83}\n",
      "44843.726844153716 {'max_features': 2, 'n_estimators': 103}\n",
      "44772.9023944087 {'max_features': 2, 'n_estimators': 178}\n",
      "44408.807397996374 {'max_features': 6, 'n_estimators': 29}\n",
      "43439.410851905064 {'max_features': 5, 'n_estimators': 72}\n",
      "43826.92854550129 {'max_features': 7, 'n_estimators': 89}\n",
      "47390.02262501838 {'max_features': 1, 'n_estimators': 190}\n"
     ]
    }
   ],
   "source": [
    "for mean_score, params in zip(rnd_search.cv_results_['mean_test_score'], rnd_search.cv_results_['params']):\n",
    "  print(np.sqrt(-mean_score), params)"
   ]
  },
  {
   "cell_type": "code",
   "execution_count": 152,
   "id": "3c112a76",
   "metadata": {},
   "outputs": [],
   "source": [
    "ratio_attribs = ['rooms_per_household', 'bedrooms_per_rooms', 'population_per_household']\n",
    "log_attribs = ['total_rooms', 'total_bedrooms', 'population', 'households', 'median_income']\n",
    "geo_attribs = ['geo__Cluster 0 similarity',\n",
    "       'geo__Cluster 1 similarity', 'geo__Cluster 2 similarity',\n",
    "       'geo__Cluster 3 similarity', 'geo__Cluster 4 similarity',\n",
    "       'geo__Cluster 5 similarity', 'geo__Cluster 6 similarity',\n",
    "       'geo__Cluster 7 similarity', 'geo__Cluster 8 similarity',\n",
    "       'geo__Cluster 9 similarity']\n",
    "num_attribs = ['housing_median_age']\n",
    "\n",
    "cat_attib = ['ocean_proximity1', 'ocean_proximity2', 'ocean_proximity3', 'ocean_proximity4', 'ocean_proximity5']\n",
    "\n",
    "total_attrib = ratio_attribs + log_attribs + geo_attribs + num_attribs + cat_attib"
   ]
  },
  {
   "cell_type": "code",
   "execution_count": 153,
   "id": "b4a3cf30",
   "metadata": {},
   "outputs": [],
   "source": [
    "feature_importances = best_model.feature_importances_"
   ]
  },
  {
   "cell_type": "code",
   "execution_count": 154,
   "id": "bb9c8f6e",
   "metadata": {},
   "outputs": [
    {
     "data": {
      "text/plain": [
       "[(0.21558595116646964, 'median_income'),\n",
       " (0.11049173728071952, 'ocean_proximity4'),\n",
       " (0.0764592021614577, 'bedrooms_per_rooms'),\n",
       " (0.06951188178483862, 'population_per_household'),\n",
       " (0.06098764394252762, 'rooms_per_household'),\n",
       " (0.04959133655490918, 'geo__Cluster 3 similarity'),\n",
       " (0.049496704500900296, 'housing_median_age'),\n",
       " (0.04807578917355071, 'ocean_proximity1'),\n",
       " (0.03526810549902426, 'geo__Cluster 6 similarity'),\n",
       " (0.02957144770327165, 'geo__Cluster 9 similarity'),\n",
       " (0.02842648849061498, 'geo__Cluster 8 similarity'),\n",
       " (0.02813032694844923, 'geo__Cluster 0 similarity'),\n",
       " (0.02524781333226467, 'geo__Cluster 7 similarity'),\n",
       " (0.02515235545996094, 'geo__Cluster 5 similarity'),\n",
       " (0.020977796611315373, 'ocean_proximity2'),\n",
       " (0.01940171624349699, 'geo__Cluster 2 similarity'),\n",
       " (0.018949437309084816, 'geo__Cluster 1 similarity'),\n",
       " (0.015450448030310059, 'geo__Cluster 4 similarity'),\n",
       " (0.014951304186489829, 'ocean_proximity3'),\n",
       " (0.013813760167126758, 'total_rooms'),\n",
       " (0.013390033558210746, 'population'),\n",
       " (0.011704090838722085, 'total_bedrooms'),\n",
       " (0.010969195399077156, 'households'),\n",
       " (3.941540661962545e-05, 'ocean_proximity5')]"
      ]
     },
     "execution_count": 154,
     "metadata": {},
     "output_type": "execute_result"
    }
   ],
   "source": [
    "sorted(zip(feature_importances, total_attrib), reverse=True)"
   ]
  },
  {
   "cell_type": "markdown",
   "id": "0bb5a870",
   "metadata": {
    "id": "0bb5a870"
   },
   "source": [
    "## 8. 모델 예측과 성능 평가"
   ]
  },
  {
   "cell_type": "code",
   "execution_count": 139,
   "id": "eb223746",
   "metadata": {
    "colab": {
     "base_uri": "https://localhost:8080/"
    },
    "executionInfo": {
     "elapsed": 331,
     "status": "ok",
     "timestamp": 1669962221219,
     "user": {
      "displayName": "장경희",
      "userId": "05148120440289478711"
     },
     "user_tz": -540
    },
    "id": "eb223746",
    "outputId": "26c42f4b-9075-4bc8-97c0-d8d4736403bc"
   },
   "outputs": [
    {
     "data": {
      "text/plain": [
       "((4128, 9), (4128,))"
      ]
     },
     "execution_count": 139,
     "metadata": {},
     "output_type": "execute_result"
    }
   ],
   "source": [
    "X_test = strat_test_set.drop('median_house_value', axis=1)\n",
    "y_test = strat_test_set['median_house_value'].copy()\n",
    "X_test.shape, y_test.shape"
   ]
  },
  {
   "cell_type": "code",
   "execution_count": 140,
   "id": "SnWSkFvdgds6",
   "metadata": {
    "colab": {
     "base_uri": "https://localhost:8080/"
    },
    "executionInfo": {
     "elapsed": 323,
     "status": "ok",
     "timestamp": 1669962524127,
     "user": {
      "displayName": "장경희",
      "userId": "05148120440289478711"
     },
     "user_tz": -540
    },
    "id": "SnWSkFvdgds6",
    "outputId": "ae0e6088-7783-4fbb-b74c-6a725bd6dbff"
   },
   "outputs": [
    {
     "data": {
      "text/plain": [
       "(4128, 26)"
      ]
     },
     "execution_count": 140,
     "metadata": {},
     "output_type": "execute_result"
    }
   ],
   "source": [
    "# 훈련데이터를 변경할때는 파이프라인의 fit_transform()을 사용\n",
    "# 테스트데이터를 변경할때는 파이프라인의 transform()을 사용\n",
    "\n",
    "X_test_prepared = full_pipeline.transform(X_test)\n",
    "X_test_prepared.shape"
   ]
  },
  {
   "cell_type": "code",
   "execution_count": 141,
   "id": "DcW3Ave0hiiv",
   "metadata": {
    "executionInfo": {
     "elapsed": 335,
     "status": "ok",
     "timestamp": 1669962651171,
     "user": {
      "displayName": "장경희",
      "userId": "05148120440289478711"
     },
     "user_tz": -540
    },
    "id": "DcW3Ave0hiiv"
   },
   "outputs": [],
   "source": [
    "final_predictions = best_model.predict(X_test_prepared)"
   ]
  },
  {
   "cell_type": "code",
   "execution_count": 142,
   "id": "fkmCh0W6h-f7",
   "metadata": {
    "colab": {
     "base_uri": "https://localhost:8080/"
    },
    "executionInfo": {
     "elapsed": 328,
     "status": "ok",
     "timestamp": 1669962735430,
     "user": {
      "displayName": "장경희",
      "userId": "05148120440289478711"
     },
     "user_tz": -540
    },
    "id": "fkmCh0W6h-f7",
    "outputId": "e38966a1-9587-4ba1-cf3e-6a525e9d25f3"
   },
   "outputs": [
    {
     "data": {
      "text/plain": [
       "41423.63189515662"
      ]
     },
     "execution_count": 142,
     "metadata": {},
     "output_type": "execute_result"
    }
   ],
   "source": [
    "from sklearn.metrics import mean_squared_error\n",
    "\n",
    "final_rmse = mean_squared_error(y_test, final_predictions, squared=False) # RMSE\n",
    "final_rmse"
   ]
  },
  {
   "cell_type": "code",
   "execution_count": 143,
   "id": "OvRs7fVSjh_W",
   "metadata": {
    "executionInfo": {
     "elapsed": 21,
     "status": "ok",
     "timestamp": 1669963189745,
     "user": {
      "displayName": "장경희",
      "userId": "05148120440289478711"
     },
     "user_tz": -540
    },
    "id": "OvRs7fVSjh_W"
   },
   "outputs": [],
   "source": [
    "full_pipeline_with_predictor = Pipeline([\n",
    "                                  ('preparation', full_pipeline),\n",
    "                                  ('final', best_model)\n",
    "                              ])"
   ]
  },
  {
   "cell_type": "markdown",
   "id": "4cdb3b9d",
   "metadata": {
    "id": "4cdb3b9d"
   },
   "source": [
    "## 9. 모델 저장"
   ]
  },
  {
   "cell_type": "code",
   "execution_count": 144,
   "id": "81dbf54f",
   "metadata": {
    "colab": {
     "base_uri": "https://localhost:8080/"
    },
    "executionInfo": {
     "elapsed": 842,
     "status": "ok",
     "timestamp": 1669963208260,
     "user": {
      "displayName": "장경희",
      "userId": "05148120440289478711"
     },
     "user_tz": -540
    },
    "id": "81dbf54f",
    "outputId": "09902caa-36ff-4606-8b9b-109fa0b6bc87"
   },
   "outputs": [
    {
     "data": {
      "text/plain": [
       "['my_model.pkl']"
      ]
     },
     "execution_count": 144,
     "metadata": {},
     "output_type": "execute_result"
    }
   ],
   "source": [
    "import joblib\n",
    "\n",
    "joblib.dump(full_pipeline_with_predictor, 'my_model.pkl')"
   ]
  },
  {
   "cell_type": "code",
   "execution_count": 145,
   "id": "747d1536",
   "metadata": {
    "executionInfo": {
     "elapsed": 321,
     "status": "ok",
     "timestamp": 1669963210417,
     "user": {
      "displayName": "장경희",
      "userId": "05148120440289478711"
     },
     "user_tz": -540
    },
    "id": "747d1536"
   },
   "outputs": [],
   "source": [
    "loaded_model = joblib.load('my_model.pkl')"
   ]
  },
  {
   "cell_type": "code",
   "execution_count": 146,
   "id": "uhDr7nqnjTgf",
   "metadata": {
    "executionInfo": {
     "elapsed": 343,
     "status": "ok",
     "timestamp": 1669964800931,
     "user": {
      "displayName": "장경희",
      "userId": "05148120440289478711"
     },
     "user_tz": -540
    },
    "id": "uhDr7nqnjTgf"
   },
   "outputs": [],
   "source": [
    "final_predictions2= loaded_model.predict(X_test)"
   ]
  },
  {
   "cell_type": "code",
   "execution_count": 148,
   "id": "7-vAJvupjXEh",
   "metadata": {
    "colab": {
     "base_uri": "https://localhost:8080/"
    },
    "executionInfo": {
     "elapsed": 310,
     "status": "ok",
     "timestamp": 1669964810973,
     "user": {
      "displayName": "장경희",
      "userId": "05148120440289478711"
     },
     "user_tz": -540
    },
    "id": "7-vAJvupjXEh",
    "outputId": "a0310e6f-7887-4cce-9993-dfaa92a85eeb"
   },
   "outputs": [
    {
     "data": {
      "text/plain": [
       "41423.63189515662"
      ]
     },
     "execution_count": 148,
     "metadata": {},
     "output_type": "execute_result"
    }
   ],
   "source": [
    "mean_squared_error(y_test, final_predictions2, squared=False)"
   ]
  },
  {
   "cell_type": "code",
   "execution_count": null,
   "id": "qv2rIGVrqKGR",
   "metadata": {
    "id": "qv2rIGVrqKGR"
   },
   "outputs": [],
   "source": []
  }
 ],
 "metadata": {
  "colab": {
   "provenance": [],
   "toc_visible": true
  },
  "kernelspec": {
   "display_name": "Python 3 (ipykernel)",
   "language": "python",
   "name": "python3"
  },
  "language_info": {
   "codemirror_mode": {
    "name": "ipython",
    "version": 3
   },
   "file_extension": ".py",
   "mimetype": "text/x-python",
   "name": "python",
   "nbconvert_exporter": "python",
   "pygments_lexer": "ipython3",
   "version": "3.9.12"
  }
 },
 "nbformat": 4,
 "nbformat_minor": 5
}
