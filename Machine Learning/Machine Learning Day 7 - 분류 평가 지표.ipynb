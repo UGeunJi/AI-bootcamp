{
 "cells": [
  {
   "cell_type": "markdown",
   "id": "85542ebf",
   "metadata": {},
   "source": [
    "# 분류 평가 지표"
   ]
  },
  {
   "cell_type": "markdown",
   "id": "0c4762e3",
   "metadata": {},
   "source": [
    "## MNIST Dataset"
   ]
  },
  {
   "cell_type": "code",
   "execution_count": 1,
   "id": "5fb7141a",
   "metadata": {},
   "outputs": [],
   "source": [
    "import numpy as np\n",
    "from sklearn.datasets import fetch_openml\n",
    "import matplotlib.pyplot as plt"
   ]
  },
  {
   "cell_type": "markdown",
   "id": "e7df3c2c",
   "metadata": {},
   "source": [
    "### 데이터 가져오기"
   ]
  },
  {
   "cell_type": "code",
   "execution_count": 2,
   "id": "6b442cac",
   "metadata": {},
   "outputs": [],
   "source": [
    "mnist = fetch_openml(\"mnist_784\", version=1, as_frame=False)"
   ]
  },
  {
   "cell_type": "markdown",
   "id": "f13d3c22",
   "metadata": {},
   "source": [
    "### 데이터 탐색하기"
   ]
  },
  {
   "cell_type": "code",
   "execution_count": 3,
   "id": "311c596a",
   "metadata": {},
   "outputs": [
    {
     "data": {
      "text/plain": [
       "sklearn.utils.Bunch"
      ]
     },
     "execution_count": 3,
     "metadata": {},
     "output_type": "execute_result"
    }
   ],
   "source": [
    "type(mnist) # bunch type"
   ]
  },
  {
   "cell_type": "code",
   "execution_count": 4,
   "id": "fcaef4a5",
   "metadata": {},
   "outputs": [
    {
     "data": {
      "text/plain": [
       "dict_keys(['data', 'target', 'frame', 'categories', 'feature_names', 'target_names', 'DESCR', 'details', 'url'])"
      ]
     },
     "execution_count": 4,
     "metadata": {},
     "output_type": "execute_result"
    }
   ],
   "source": [
    "mnist.keys()"
   ]
  },
  {
   "cell_type": "code",
   "execution_count": 5,
   "id": "65fa96a3",
   "metadata": {},
   "outputs": [],
   "source": [
    "X = mnist['data']\n",
    "y = mnist['target']"
   ]
  },
  {
   "cell_type": "code",
   "execution_count": 6,
   "id": "3806dc39",
   "metadata": {},
   "outputs": [
    {
     "data": {
      "text/plain": [
       "(70000, 784)"
      ]
     },
     "execution_count": 6,
     "metadata": {},
     "output_type": "execute_result"
    }
   ],
   "source": [
    "X.shape  # 70000개의 샘플에 대해서 784개의 특성"
   ]
  },
  {
   "cell_type": "code",
   "execution_count": 7,
   "id": "c948f396",
   "metadata": {},
   "outputs": [
    {
     "data": {
      "text/plain": [
       "(70000,)"
      ]
     },
     "execution_count": 7,
     "metadata": {},
     "output_type": "execute_result"
    }
   ],
   "source": [
    "y.shape  # 70000개의 정답"
   ]
  },
  {
   "cell_type": "code",
   "execution_count": 9,
   "id": "065d50fe",
   "metadata": {},
   "outputs": [
    {
     "data": {
      "text/plain": [
       "(784,)"
      ]
     },
     "execution_count": 9,
     "metadata": {},
     "output_type": "execute_result"
    }
   ],
   "source": [
    "X[0].shape  # 0번째 샘플의 데이터 크기"
   ]
  },
  {
   "cell_type": "code",
   "execution_count": 10,
   "id": "25eed5e3",
   "metadata": {},
   "outputs": [
    {
     "data": {
      "text/plain": [
       "784"
      ]
     },
     "execution_count": 10,
     "metadata": {},
     "output_type": "execute_result"
    }
   ],
   "source": [
    "28 * 28"
   ]
  },
  {
   "cell_type": "code",
   "execution_count": 17,
   "id": "ea12fdc9",
   "metadata": {},
   "outputs": [
    {
     "name": "stdout",
     "output_type": "stream",
     "text": [
      "(784,)\n",
      "(28, 28)\n"
     ]
    }
   ],
   "source": [
    "some_digit = X[0]\n",
    "print(some_digit.shape)\n",
    "some_digit_img = some_digit.reshape(28, 28)\n",
    "print(some_digit_img.shape)"
   ]
  },
  {
   "cell_type": "code",
   "execution_count": 18,
   "id": "d78bdae1",
   "metadata": {},
   "outputs": [
    {
     "data": {
      "text/plain": [
       "<matplotlib.image.AxesImage at 0x2342e3a8160>"
      ]
     },
     "execution_count": 18,
     "metadata": {},
     "output_type": "execute_result"
    },
    {
     "data": {
      "image/png": "[encoded data removed]",
      "text/plain": [
       "<Figure size 432x288 with 1 Axes>"
      ]
     },
     "metadata": {
      "needs_background": "light"
     },
     "output_type": "display_data"
    }
   ],
   "source": [
    "plt.imshow(some_digit_img, cmap='binary')"
   ]
  },
  {
   "cell_type": "markdown",
   "id": "5b09e797",
   "metadata": {},
   "source": [
    "- 정답값 확인"
   ]
  },
  {
   "cell_type": "code",
   "execution_count": 19,
   "id": "a71db007",
   "metadata": {},
   "outputs": [
    {
     "data": {
      "text/plain": [
       "'5'"
      ]
     },
     "execution_count": 19,
     "metadata": {},
     "output_type": "execute_result"
    }
   ],
   "source": [
    "y[0]  # 현재 타입이 문자열"
   ]
  },
  {
   "cell_type": "code",
   "execution_count": 21,
   "id": "60e47611",
   "metadata": {},
   "outputs": [
    {
     "data": {
      "text/plain": [
       "5"
      ]
     },
     "execution_count": 21,
     "metadata": {},
     "output_type": "execute_result"
    }
   ],
   "source": [
    "y = y.astype(np.uint8)\n",
    "y[0]"
   ]
  },
  {
   "cell_type": "markdown",
   "id": "43c8a1e3",
   "metadata": {},
   "source": [
    "### 데이터 준비 (훈련데이터, 테스트데이터)"
   ]
  },
  {
   "cell_type": "code",
   "execution_count": 22,
   "id": "55a13035",
   "metadata": {},
   "outputs": [],
   "source": [
    "# 70000만개의 데이터가 이미 뒤섞여 있으므로 \n",
    "# 앞에서 60000개의 데이터를 훈련데이터로 사용\n",
    "# 뒤의 10000개의 데이터를 테스트데이터로 사용\n",
    "\n",
    "X_train, X_test, y_train, y_test = X[:60000], X[60000:], y[:60000], y[60000:]"
   ]
  },
  {
   "cell_type": "code",
   "execution_count": 31,
   "id": "2c146c2f",
   "metadata": {},
   "outputs": [
    {
     "name": "stdout",
     "output_type": "stream",
     "text": [
      "label의 분표: 0 - 5923\n",
      "label의 분표: 1 - 6742\n",
      "label의 분표: 2 - 5958\n",
      "label의 분표: 3 - 6131\n",
      "label의 분표: 4 - 5842\n",
      "label의 분표: 5 - 5421\n",
      "label의 분표: 6 - 5918\n",
      "label의 분표: 7 - 6265\n",
      "label의 분표: 8 - 5851\n",
      "label의 분표: 9 - 5949\n"
     ]
    }
   ],
   "source": [
    "for i in range(10):\n",
    "    print('label의 분표:', i, '-', (y_train == i).sum())"
   ]
  },
  {
   "cell_type": "markdown",
   "id": "88fa5980",
   "metadata": {},
   "source": [
    "### 이진분류"
   ]
  },
  {
   "cell_type": "code",
   "execution_count": 35,
   "id": "6cf55b2b",
   "metadata": {},
   "outputs": [
    {
     "data": {
      "text/plain": [
       "5421"
      ]
     },
     "execution_count": 35,
     "metadata": {},
     "output_type": "execute_result"
    }
   ],
   "source": [
    "(y_train == 5).sum()  # 10% (5인 데이터)"
   ]
  },
  {
   "cell_type": "code",
   "execution_count": 36,
   "id": "95e29388",
   "metadata": {},
   "outputs": [
    {
     "data": {
      "text/plain": [
       "54579"
      ]
     },
     "execution_count": 36,
     "metadata": {},
     "output_type": "execute_result"
    }
   ],
   "source": [
    "60000 - (y_train == 5).sum()  # 90% (5가 아닌 데이터)"
   ]
  },
  {
   "cell_type": "code",
   "execution_count": 37,
   "id": "eb981aac",
   "metadata": {},
   "outputs": [],
   "source": [
    "y_train_5 = (y_train == 5).astype(np.uint8)   # 5인지 아닌지를 분류: 5이면 1, 5가 아니면 0\n",
    "y_test_5 = (y_train == 5).astype(np.uint8)"
   ]
  },
  {
   "cell_type": "code",
   "execution_count": 38,
   "id": "2bea673a",
   "metadata": {},
   "outputs": [
    {
     "data": {
      "text/plain": [
       "(5421, 54579)"
      ]
     },
     "execution_count": 38,
     "metadata": {},
     "output_type": "execute_result"
    }
   ],
   "source": [
    "(y_train_5 == 1).sum(), (y_train_5 == 0).sum() "
   ]
  },
  {
   "cell_type": "code",
   "execution_count": 40,
   "id": "a7a84796",
   "metadata": {},
   "outputs": [],
   "source": [
    "from sklearn.linear_model import SGDClassifier\n",
    "\n",
    "sgd_clf = SGDClassifier(random_state=42)\n",
    "# sgd_clf.fit(X_train, y_train_5)"
   ]
  },
  {
   "cell_type": "code",
   "execution_count": 42,
   "id": "c075f996",
   "metadata": {},
   "outputs": [
    {
     "data": {
      "text/plain": [
       "array([0.95035, 0.96035, 0.9604 ])"
      ]
     },
     "execution_count": 42,
     "metadata": {},
     "output_type": "execute_result"
    }
   ],
   "source": [
    "from sklearn.model_selection import cross_val_score\n",
    "\n",
    "cross_val_score(sgd_clf, X_train, y_train_5, scoring='accuracy', cv=3)"
   ]
  },
  {
   "cell_type": "markdown",
   "id": "bb777880",
   "metadata": {},
   "source": [
    "### 오차행렬"
   ]
  },
  {
   "cell_type": "code",
   "execution_count": 43,
   "id": "772f94f5",
   "metadata": {},
   "outputs": [],
   "source": [
    "from sklearn.metrics import confusion_matrix, precision_score, recall_score, f1_score\n",
    "from sklearn.model_selection import cross_val_predict"
   ]
  },
  {
   "cell_type": "code",
   "execution_count": 44,
   "id": "801d81ad",
   "metadata": {},
   "outputs": [],
   "source": [
    "y_train_pred = cross_val_predict(sgd_clf, X_train, y_train_5, cv=3)"
   ]
  },
  {
   "cell_type": "code",
   "execution_count": 46,
   "id": "d8b744fe",
   "metadata": {},
   "outputs": [
    {
     "data": {
      "text/plain": [
       "(60000,)"
      ]
     },
     "execution_count": 46,
     "metadata": {},
     "output_type": "execute_result"
    }
   ],
   "source": [
    "y_train_pred.shape"
   ]
  },
  {
   "cell_type": "code",
   "execution_count": 47,
   "id": "c9def6a2",
   "metadata": {},
   "outputs": [
    {
     "data": {
      "text/plain": [
       "array([[53892,   687],\n",
       "       [ 1891,  3530]], dtype=int64)"
      ]
     },
     "execution_count": 47,
     "metadata": {},
     "output_type": "execute_result"
    }
   ],
   "source": [
    "confusion_matrix(y_train_5, y_train_pred)"
   ]
  },
  {
   "cell_type": "code",
   "execution_count": 48,
   "id": "121bf31e",
   "metadata": {},
   "outputs": [
    {
     "data": {
      "text/plain": [
       "0.8370879772350012"
      ]
     },
     "execution_count": 48,
     "metadata": {},
     "output_type": "execute_result"
    }
   ],
   "source": [
    "3530 / (687+3530)  # 정밀도"
   ]
  },
  {
   "cell_type": "code",
   "execution_count": 50,
   "id": "9986ddb2",
   "metadata": {},
   "outputs": [
    {
     "data": {
      "text/plain": [
       "0.8370879772350012"
      ]
     },
     "execution_count": 50,
     "metadata": {},
     "output_type": "execute_result"
    }
   ],
   "source": [
    "precision_score(y_train_5, y_train_pred)"
   ]
  },
  {
   "cell_type": "code",
   "execution_count": 49,
   "id": "a5ab8bc9",
   "metadata": {},
   "outputs": [
    {
     "data": {
      "text/plain": [
       "0.6511713705958311"
      ]
     },
     "execution_count": 49,
     "metadata": {},
     "output_type": "execute_result"
    }
   ],
   "source": [
    "3530 / (1891 + 3530)   # 재현율"
   ]
  },
  {
   "cell_type": "code",
   "execution_count": 51,
   "id": "99c9b39d",
   "metadata": {},
   "outputs": [
    {
     "data": {
      "text/plain": [
       "0.6511713705958311"
      ]
     },
     "execution_count": 51,
     "metadata": {},
     "output_type": "execute_result"
    }
   ],
   "source": [
    "recall_score(y_train_5, y_train_pred)"
   ]
  },
  {
   "cell_type": "code",
   "execution_count": 52,
   "id": "2856f58b",
   "metadata": {},
   "outputs": [
    {
     "data": {
      "text/plain": [
       "0.7325171197343846"
      ]
     },
     "execution_count": 52,
     "metadata": {},
     "output_type": "execute_result"
    }
   ],
   "source": [
    "f1_score(y_train_5, y_train_pred)"
   ]
  },
  {
   "cell_type": "code",
   "execution_count": 53,
   "id": "1850842c",
   "metadata": {},
   "outputs": [],
   "source": [
    "y_train_scores = cross_val_predict(sgd_clf, X_train, y_train_5, cv=3, method='decision_function')"
   ]
  },
  {
   "cell_type": "code",
   "execution_count": 54,
   "id": "091b2163",
   "metadata": {},
   "outputs": [
    {
     "data": {
      "text/plain": [
       "array([  1200.93051237, -26883.79202424, -33072.03475406, ...,\n",
       "        13272.12718981,  -7258.47203373, -16877.50840447])"
      ]
     },
     "execution_count": 54,
     "metadata": {},
     "output_type": "execute_result"
    }
   ],
   "source": [
    "y_train_scores  # 6만개의 데이터에 대한 확신 점수: 0보다 크면 양성(5 맞음), 0보다 작은 음성(5 아님)"
   ]
  },
  {
   "cell_type": "code",
   "execution_count": 55,
   "id": "8911d52c",
   "metadata": {},
   "outputs": [
    {
     "data": {
      "text/plain": [
       "4217"
      ]
     },
     "execution_count": 55,
     "metadata": {},
     "output_type": "execute_result"
    }
   ],
   "source": [
    "(y_train_scores > 0).sum()"
   ]
  },
  {
   "cell_type": "code",
   "execution_count": 56,
   "id": "0c7e597a",
   "metadata": {},
   "outputs": [
    {
     "data": {
      "text/plain": [
       "4217"
      ]
     },
     "execution_count": 56,
     "metadata": {},
     "output_type": "execute_result"
    }
   ],
   "source": [
    "(y_train_pred == 1).sum()"
   ]
  },
  {
   "cell_type": "code",
   "execution_count": 57,
   "id": "a31d5927",
   "metadata": {},
   "outputs": [
    {
     "data": {
      "text/plain": [
       "1667"
      ]
     },
     "execution_count": 57,
     "metadata": {},
     "output_type": "execute_result"
    }
   ],
   "source": [
    "# 임계값 (확신 점수에 대한 임계값을 0에서 8000으로 올리면 '5'에 대한 예측이 정밀해짐)\n",
    "(y_train_scores > 8000).sum()"
   ]
  },
  {
   "cell_type": "code",
   "execution_count": 58,
   "id": "4e04211d",
   "metadata": {},
   "outputs": [],
   "source": [
    "threshold = 8000\n",
    "y_train_pred_th8000 = y_train_scores > threshold"
   ]
  },
  {
   "cell_type": "code",
   "execution_count": 59,
   "id": "4db5d8ed",
   "metadata": {},
   "outputs": [
    {
     "data": {
      "text/plain": [
       "array([[54470,   109],\n",
       "       [ 3863,  1558]], dtype=int64)"
      ]
     },
     "execution_count": 59,
     "metadata": {},
     "output_type": "execute_result"
    }
   ],
   "source": [
    "# 임계값을 8000으로 했을 때의 오차 행렬\n",
    "confusion_matrix(y_train_5, y_train_pred_th8000)"
   ]
  },
  {
   "cell_type": "code",
   "execution_count": null,
   "id": "a928b1b4",
   "metadata": {},
   "outputs": [],
   "source": [
    "# 기본 임계값(0)일 때의 오차 행렬\n",
    "# array([[53892,   687],\n",
    "#        [ 1891,  3530]]"
   ]
  },
  {
   "cell_type": "code",
   "execution_count": 60,
   "id": "29ac52cd",
   "metadata": {},
   "outputs": [
    {
     "data": {
      "text/plain": [
       "0.9346130773845231"
      ]
     },
     "execution_count": 60,
     "metadata": {},
     "output_type": "execute_result"
    }
   ],
   "source": [
    "precision_score(y_train_5, y_train_pred_th8000)"
   ]
  },
  {
   "cell_type": "code",
   "execution_count": 61,
   "id": "5eecacc2",
   "metadata": {},
   "outputs": [
    {
     "data": {
      "text/plain": [
       "0.2874008485519277"
      ]
     },
     "execution_count": 61,
     "metadata": {},
     "output_type": "execute_result"
    }
   ],
   "source": [
    "recall_score(y_train_5, y_train_pred_th8000)"
   ]
  },
  {
   "cell_type": "code",
   "execution_count": 64,
   "id": "4cc0e863",
   "metadata": {},
   "outputs": [],
   "source": [
    "from sklearn.metrics import precision_recall_curve"
   ]
  },
  {
   "cell_type": "code",
   "execution_count": 65,
   "id": "489b4425",
   "metadata": {},
   "outputs": [],
   "source": [
    "precisions, recalls, thresholds = precision_recall_curve(y_train_5, y_train_scores)"
   ]
  },
  {
   "cell_type": "code",
   "execution_count": 66,
   "id": "05b24ea0",
   "metadata": {},
   "outputs": [
    {
     "data": {
      "text/plain": [
       "array([0.09040123, 0.09038606, 0.09038757, ..., 1.        , 1.        ,\n",
       "       1.        ])"
      ]
     },
     "execution_count": 66,
     "metadata": {},
     "output_type": "execute_result"
    }
   ],
   "source": [
    "precisions"
   ]
  },
  {
   "cell_type": "code",
   "execution_count": 67,
   "id": "bf6e07e4",
   "metadata": {},
   "outputs": [
    {
     "data": {
      "text/plain": [
       "array([1.00000000e+00, 9.99815532e-01, 9.99815532e-01, ...,\n",
       "       3.68935621e-04, 1.84467810e-04, 0.00000000e+00])"
      ]
     },
     "execution_count": 67,
     "metadata": {},
     "output_type": "execute_result"
    }
   ],
   "source": [
    "recalls"
   ]
  },
  {
   "cell_type": "code",
   "execution_count": 68,
   "id": "d69a6406",
   "metadata": {},
   "outputs": [
    {
     "data": {
      "text/plain": [
       "array([-106527.45300471, -105763.22240074, -105406.2965229 , ...,\n",
       "         38871.26391927,   42216.05562787,   49441.43765905])"
      ]
     },
     "execution_count": 68,
     "metadata": {},
     "output_type": "execute_result"
    }
   ],
   "source": [
    "thresholds"
   ]
  },
  {
   "cell_type": "code",
   "execution_count": 69,
   "id": "efd8d8a2",
   "metadata": {},
   "outputs": [
    {
     "data": {
      "text/plain": [
       "<matplotlib.legend.Legend at 0x23430245fd0>"
      ]
     },
     "execution_count": 69,
     "metadata": {},
     "output_type": "execute_result"
    },
    {
     "data": {
      "image/png": "[encoded data removed]",
      "text/plain": [
       "<Figure size 432x288 with 1 Axes>"
      ]
     },
     "metadata": {
      "needs_background": "light"
     },
     "output_type": "display_data"
    }
   ],
   "source": [
    "plt.plot(thresholds, precisions[:-1], label=\"Precision\")\n",
    "plt.plot(thresholds, recalls[:-1], label=\"Recall\")\n",
    "plt.legend()"
   ]
  },
  {
   "cell_type": "code",
   "execution_count": 70,
   "id": "dbaa643b",
   "metadata": {},
   "outputs": [
    {
     "data": {
      "text/plain": [
       "array([False, False, False, ...,  True,  True,  True])"
      ]
     },
     "execution_count": 70,
     "metadata": {},
     "output_type": "execute_result"
    }
   ],
   "source": [
    "precisions >= 0.9"
   ]
  },
  {
   "cell_type": "code",
   "execution_count": 71,
   "id": "e1dde895",
   "metadata": {},
   "outputs": [
    {
     "data": {
      "text/plain": [
       "3370.0194991439557"
      ]
     },
     "execution_count": 71,
     "metadata": {},
     "output_type": "execute_result"
    }
   ],
   "source": [
    "thresholds[np.argmax(precisions >= 0.9)]"
   ]
  },
  {
   "cell_type": "code",
   "execution_count": 72,
   "id": "b245a866",
   "metadata": {},
   "outputs": [],
   "source": [
    "thresholds = 3370\n",
    "y_train_pred_th3370 = y_train_scores > thresholds"
   ]
  },
  {
   "cell_type": "code",
   "execution_count": 73,
   "id": "f0f2f064",
   "metadata": {},
   "outputs": [
    {
     "data": {
      "text/plain": [
       "0.9000345901072293"
      ]
     },
     "execution_count": 73,
     "metadata": {},
     "output_type": "execute_result"
    }
   ],
   "source": [
    "precision_score(y_train_5, y_train_pred_th3370)"
   ]
  },
  {
   "cell_type": "code",
   "execution_count": 74,
   "id": "ddf43fc5",
   "metadata": {},
   "outputs": [
    {
     "data": {
      "text/plain": [
       "0.4799852425751706"
      ]
     },
     "execution_count": 74,
     "metadata": {},
     "output_type": "execute_result"
    }
   ],
   "source": [
    "recall_score(y_train_5, y_train_pred_th3370)"
   ]
  },
  {
   "cell_type": "markdown",
   "id": "388d06f2",
   "metadata": {},
   "source": [
    "### ROC 곡선"
   ]
  },
  {
   "cell_type": "code",
   "execution_count": 75,
   "id": "5d80a845",
   "metadata": {},
   "outputs": [],
   "source": [
    "from sklearn.metrics import roc_curve, plot_roc_curve, roc_auc_score"
   ]
  },
  {
   "cell_type": "code",
   "execution_count": null,
   "id": "01e8cc41",
   "metadata": {},
   "outputs": [],
   "source": [
    "fpr, tpr, thresholds = roc_curve(y_train_5, y_train_scores)\n",
    "\n",
    "plot_roc_curve(sgd_clf, X_train, y_train_5)"
   ]
  },
  {
   "attachments": {
    "image.png": {
     "image/png": "[encoded data removed]"
    }
   },
   "cell_type": "markdown",
   "id": "c814989e",
   "metadata": {},
   "source": [
    "![image.png](attachment:image.png)"
   ]
  },
  {
   "cell_type": "code",
   "execution_count": 78,
   "id": "3ef4c5f2",
   "metadata": {},
   "outputs": [
    {
     "data": {
      "text/plain": [
       "0.9604938554008616"
      ]
     },
     "execution_count": 78,
     "metadata": {},
     "output_type": "execute_result"
    }
   ],
   "source": [
    "roc_auc_score(y_train_5, y_train_scores) # AUC(면적) Score가 클수록 좋은 모델"
   ]
  },
  {
   "cell_type": "markdown",
   "id": "b4bf54eb",
   "metadata": {},
   "source": [
    "### 다중분류"
   ]
  },
  {
   "cell_type": "markdown",
   "id": "712d3cf8",
   "metadata": {},
   "source": [
    "#### SVM Classifier"
   ]
  },
  {
   "cell_type": "code",
   "execution_count": 79,
   "id": "f6e35c5c",
   "metadata": {},
   "outputs": [],
   "source": [
    "from sklearn.svm import SVC\n",
    "\n",
    "svm_clf = SVC(random_state=42)\n",
    "svm_scores = cross_val_score(svm_clf, X_train[:1000], y_train[:1000], cv=3)"
   ]
  },
  {
   "cell_type": "code",
   "execution_count": 80,
   "id": "51c7da8f",
   "metadata": {},
   "outputs": [
    {
     "data": {
      "text/plain": [
       "array([0.89520958, 0.9009009 , 0.88288288])"
      ]
     },
     "execution_count": 80,
     "metadata": {},
     "output_type": "execute_result"
    }
   ],
   "source": [
    "svm_scores"
   ]
  },
  {
   "cell_type": "markdown",
   "id": "862dcfb9",
   "metadata": {},
   "source": [
    "#### SGD Classifier"
   ]
  },
  {
   "cell_type": "code",
   "execution_count": 81,
   "id": "dbb12db8",
   "metadata": {},
   "outputs": [
    {
     "data": {
      "text/plain": [
       "array([0.87365, 0.85835, 0.8689 ])"
      ]
     },
     "execution_count": 81,
     "metadata": {},
     "output_type": "execute_result"
    }
   ],
   "source": [
    "# 특성 스케일링 적용 전\n",
    "sgd_clf = SGDClassifier(random_state=42)\n",
    "sgd_scores = cross_val_score(sgd_clf, X_train, y_train, cv=3)\n",
    "sgd_scores\n"
   ]
  },
  {
   "cell_type": "code",
   "execution_count": 82,
   "id": "768e476d",
   "metadata": {},
   "outputs": [],
   "source": [
    "# 특성 스케일링 적용 후\n",
    "from sklearn.preprocessing import StandardScaler\n",
    "std_scaler = StandardScaler()\n",
    "X_train_scaled = std_scaler.fit_transform(X_train)"
   ]
  },
  {
   "cell_type": "code",
   "execution_count": 83,
   "id": "0f0367c3",
   "metadata": {},
   "outputs": [
    {
     "data": {
      "text/plain": [
       "array([0.8983, 0.891 , 0.9018])"
      ]
     },
     "execution_count": 83,
     "metadata": {},
     "output_type": "execute_result"
    }
   ],
   "source": [
    "sgd_scores = cross_val_score(sgd_clf, X_train_scaled, y_train, cv=3)\n",
    "sgd_scores # 교차 검증을 통한 각 폴드(3)별 정확도(accuracy)"
   ]
  },
  {
   "cell_type": "code",
   "execution_count": 84,
   "id": "53bff533",
   "metadata": {},
   "outputs": [
    {
     "data": {
      "text/plain": [
       "(60000,)"
      ]
     },
     "execution_count": 84,
     "metadata": {},
     "output_type": "execute_result"
    }
   ],
   "source": [
    "y_train_pred = cross_val_predict(sgd_clf, X_train_scaled, y_train, cv=3)\n",
    "y_train_pred.shape # 각 폴드별 예측 결과 (60000개의 결과)"
   ]
  },
  {
   "cell_type": "code",
   "execution_count": 85,
   "id": "f838b974",
   "metadata": {},
   "outputs": [
    {
     "data": {
      "text/plain": [
       "array([[5577,    0,   22,    5,    8,   43,   36,    6,  225,    1],\n",
       "       [   0, 6400,   37,   24,    4,   44,    4,    7,  212,   10],\n",
       "       [  27,   27, 5220,   92,   73,   27,   67,   36,  378,   11],\n",
       "       [  22,   17,  117, 5227,    2,  203,   27,   40,  403,   73],\n",
       "       [  12,   14,   41,    9, 5182,   12,   34,   27,  347,  164],\n",
       "       [  27,   15,   30,  168,   53, 4444,   75,   14,  535,   60],\n",
       "       [  30,   15,   42,    3,   44,   97, 5552,    3,  131,    1],\n",
       "       [  21,   10,   51,   30,   49,   12,    3, 5684,  195,  210],\n",
       "       [  17,   63,   48,   86,    3,  126,   25,   10, 5429,   44],\n",
       "       [  25,   18,   30,   64,  118,   36,    1,  179,  371, 5107]],\n",
       "      dtype=int64)"
      ]
     },
     "execution_count": 85,
     "metadata": {},
     "output_type": "execute_result"
    }
   ],
   "source": [
    "conf_mx = confusion_matrix(y_train, y_train_pred)\n",
    "conf_mx"
   ]
  },
  {
   "cell_type": "markdown",
   "id": "c1d96dc8",
   "metadata": {},
   "source": [
    "### 다중 레이블 분류"
   ]
  },
  {
   "cell_type": "code",
   "execution_count": 87,
   "id": "811efdd8",
   "metadata": {},
   "outputs": [],
   "source": [
    "from sklearn.neighbors import KNeighborsClassifier\n",
    "\n",
    "y_train_large = (y_train >= 7)   # True or False\n",
    "y_train_odd = (y_train % 2 == 1)  # Odd or Even\n",
    "y_multilabel = np.c_[y_train_large, y_train_odd]"
   ]
  },
  {
   "cell_type": "code",
   "execution_count": 88,
   "id": "996206fc",
   "metadata": {},
   "outputs": [
    {
     "data": {
      "text/plain": [
       "KNeighborsClassifier()"
      ]
     },
     "execution_count": 88,
     "metadata": {},
     "output_type": "execute_result"
    }
   ],
   "source": [
    "knn_clf = KNeighborsClassifier()\n",
    "knn_clf.fit(X_train, y_multilabel)"
   ]
  },
  {
   "cell_type": "code",
   "execution_count": 89,
   "id": "ce8cfe45",
   "metadata": {},
   "outputs": [
    {
     "data": {
      "text/plain": [
       "array([[False,  True]])"
      ]
     },
     "execution_count": 89,
     "metadata": {},
     "output_type": "execute_result"
    }
   ],
   "source": [
    "knn_clf.predict([some_digit])  # '5' image에 대한 예측: [False, True]  -> 7보다 크지는 않지만 홀수"
   ]
  },
  {
   "cell_type": "code",
   "execution_count": null,
   "id": "9ced6e17",
   "metadata": {},
   "outputs": [],
   "source": []
  },
  {
   "cell_type": "code",
   "execution_count": 90,
   "id": "844cdc45",
   "metadata": {},
   "outputs": [
    {
     "data": {
      "text/plain": [
       "0.976410265560605"
      ]
     },
     "execution_count": 90,
     "metadata": {},
     "output_type": "execute_result"
    }
   ],
   "source": [
    "# 교차 검증으로 평가\n",
    "y_train_knn_pred = cross_val_predict(knn_clf, X_train, y_multilabel, cv=3)\n",
    "f1_score(y_multilabel, y_train_knn_pred, average='macro')"
   ]
  },
  {
   "cell_type": "markdown",
   "id": "3ec09889",
   "metadata": {},
   "source": [
    "### 다중 출력 분류"
   ]
  },
  {
   "cell_type": "code",
   "execution_count": 91,
   "id": "c4956f86",
   "metadata": {},
   "outputs": [],
   "source": [
    "# for train data\n",
    "noise = np.random.randint(0, 100, (len(X_train), 784))\n",
    "X_train_mod = X_train + noise\n",
    "\n",
    "# for test data\n",
    "noise = np.random.randint(0, 100, (len(X_test), 784))\n",
    "X_test_mod = X_test + noise\n",
    "\n",
    "# 깨끗한 원본 데이터를 정답 데이터로 만들기\n",
    "y_train_mod = X_train\n",
    "y_test_mod = X_test"
   ]
  },
  {
   "cell_type": "code",
   "execution_count": 92,
   "id": "82f6c5dd",
   "metadata": {},
   "outputs": [
    {
     "data": {
      "text/plain": [
       "KNeighborsClassifier()"
      ]
     },
     "execution_count": 92,
     "metadata": {},
     "output_type": "execute_result"
    }
   ],
   "source": [
    "# 훈련\n",
    "knn_clf = KNeighborsClassifier()\n",
    "knn_clf.fit(X_train_mod, y_train_mod)"
   ]
  },
  {
   "cell_type": "code",
   "execution_count": 93,
   "id": "502de7c4",
   "metadata": {},
   "outputs": [],
   "source": [
    "# 예측\n",
    "clean_digit = knn_clf.predict([X_test_mod[0]])"
   ]
  },
  {
   "cell_type": "code",
   "execution_count": 97,
   "id": "f7de23fa",
   "metadata": {},
   "outputs": [
    {
     "data": {
      "text/plain": [
       "<matplotlib.image.AxesImage at 0x23447aa5370>"
      ]
     },
     "execution_count": 97,
     "metadata": {},
     "output_type": "execute_result"
    },
    {
     "data": {
      "image/png": "[encoded data removed]",
      "text/plain": [
       "<Figure size 432x288 with 1 Axes>"
      ]
     },
     "metadata": {
      "needs_background": "light"
     },
     "output_type": "display_data"
    }
   ],
   "source": [
    "# 시각화\n",
    "# 노이즈가 들어간 특성 데이터\n",
    "plt.imshow(X_test_mod[0].reshape(28, 28), cmap='binary')"
   ]
  },
  {
   "cell_type": "code",
   "execution_count": 98,
   "id": "275b768d",
   "metadata": {},
   "outputs": [
    {
     "data": {
      "text/plain": [
       "<matplotlib.image.AxesImage at 0x23447e888b0>"
      ]
     },
     "execution_count": 98,
     "metadata": {},
     "output_type": "execute_result"
    },
    {
     "data": {
      "image/png": "[encoded data removed]",
      "text/plain": [
       "<Figure size 432x288 with 1 Axes>"
      ]
     },
     "metadata": {
      "needs_background": "light"
     },
     "output_type": "display_data"
    }
   ],
   "source": [
    "plt.imshow(clean_digit.reshape(28, 28), cmap='binary')"
   ]
  }
 ],
 "metadata": {
  "kernelspec": {
   "display_name": "Python 3 (ipykernel)",
   "language": "python",
   "name": "python3"
  },
  "language_info": {
   "codemirror_mode": {
    "name": "ipython",
    "version": 3
   },
   "file_extension": ".py",
   "mimetype": "text/x-python",
   "name": "python",
   "nbconvert_exporter": "python",
   "pygments_lexer": "ipython3",
   "version": "3.9.12"
  }
 },
 "nbformat": 4,
 "nbformat_minor": 5
}
