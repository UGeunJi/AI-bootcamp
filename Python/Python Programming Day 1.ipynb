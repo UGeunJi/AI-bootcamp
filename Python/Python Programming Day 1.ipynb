{
 "cells": [
  {
   "cell_type": "markdown",
   "id": "d58ec7db",
   "metadata": {},
   "source": [
    "# 많이 사용하는 단축기"
   ]
  },
  {
   "cell_type": "markdown",
   "id": "f2c68c2e",
   "metadata": {},
   "source": [
    "- shift + Enter : 실행\n",
    "- Alt + Enter : 실행 (후에 셀이 추가)\n",
    "- a : 위로 셀이 추가\n",
    "- b : 아래로 셀이 추가\n",
    "- m : 마크다운 모드로 변경\n",
    "- y : 코드 모드로 변경\n",
    "- x : 셀 삭제\n",
    "- dd : 셀 삭제\n",
    "- ctrl + shift + '-' : 커서가 위치한 곳에서 셀이 나뉨\n",
    "- shift + 'M' : 선택된 셀들이 병합\n",
    "- Esc : 에디터 모드 셀포커스 모드 전환"
   ]
  },
  {
   "cell_type": "markdown",
   "id": "1682c3da",
   "metadata": {},
   "source": [
    "# Python Code 실행하기\n",
    "## 1\n",
    "### 1.1\n",
    "#### 1.1.1\n",
    "##### 1.1.1.1"
   ]
  },
  {
   "cell_type": "markdown",
   "id": "3f2b7cea",
   "metadata": {},
   "source": [
    "**프로그램 실행방법** "
   ]
  },
  {
   "cell_type": "code",
   "execution_count": 90,
   "id": "c94fd70b",
   "metadata": {},
   "outputs": [
    {
     "name": "stdout",
     "output_type": "stream",
     "text": [
      "Hello world~!\n",
      "Hello world~!\n",
      "Hello world~!\n",
      "Hello world~!\n"
     ]
    }
   ],
   "source": [
    "print(\"Hello world~!\")\n",
    "print(\"Hello world~!\")\n",
    "\n",
    "print(\"Hello world~!\")\n",
    "print(\"Hello world~!\")"
   ]
  },
  {
   "cell_type": "code",
   "execution_count": 6,
   "id": "e482e719",
   "metadata": {},
   "outputs": [],
   "source": [
    "%run \"hello.py\" # run이란 매직명령어로 파이썬 스크립트 실행"
   ]
  },
  {
   "cell_type": "code",
   "execution_count": 3,
   "id": "aed7ed39",
   "metadata": {},
   "outputs": [],
   "source": [
    "# cmd 창 (or anaconda prompt 창)에서\n",
    "# python hello.py"
   ]
  },
  {
   "cell_type": "code",
   "execution_count": 5,
   "id": "f136ff49",
   "metadata": {},
   "outputs": [
    {
     "data": {
      "text/plain": [
       "'C:\\\\Users\\\\Playdata\\\\Documents\\\\인공지능 25기\\\\Python Programming'"
      ]
     },
     "execution_count": 5,
     "metadata": {},
     "output_type": "execute_result"
    }
   ],
   "source": [
    "%pwd"
   ]
  },
  {
   "cell_type": "markdown",
   "id": "19984dc0",
   "metadata": {},
   "source": [
    "# Markdown language\n",
    "\n",
    "\n",
    "[Markdown Cheetseet](https://www.markdownguide.org/cheat-sheet/)"
   ]
  },
  {
   "cell_type": "markdown",
   "id": "5d232fae",
   "metadata": {},
   "source": [
    "**bold text**"
   ]
  },
  {
   "cell_type": "code",
   "execution_count": 12,
   "id": "7e293194",
   "metadata": {},
   "outputs": [
    {
     "name": "stderr",
     "output_type": "stream",
     "text": [
      "'[Python'은(는) 내부 또는 외부 명령, 실행할 수 있는 프로그램, 또는\n",
      "배치 파일이 아닙니다.\n"
     ]
    }
   ],
   "source": [
    "![Python Image](\"Python Image.jpg\")"
   ]
  },
  {
   "cell_type": "code",
   "execution_count": 16,
   "id": "708ea941",
   "metadata": {},
   "outputs": [
    {
     "data": {
      "image/jpeg": "[encoded data removed]",
      "text/plain": [
       "<IPython.core.display.Image object>"
      ]
     },
     "execution_count": 16,
     "metadata": {
      "image/jpeg": {
       "width": 100
      }
     },
     "output_type": "execute_result"
    }
   ],
   "source": [
    "from IPython.display import Image\n",
    "Image(\"Python Image.jpg\", width = 100)"
   ]
  },
  {
   "cell_type": "markdown",
   "id": "0ded9d26",
   "metadata": {},
   "source": [
    "# 탭 완성기능"
   ]
  },
  {
   "cell_type": "code",
   "execution_count": 20,
   "id": "2827ecdc",
   "metadata": {},
   "outputs": [],
   "source": [
    "an_apple = \"apple\""
   ]
  },
  {
   "cell_type": "code",
   "execution_count": 24,
   "id": "dcfd8809",
   "metadata": {},
   "outputs": [
    {
     "name": "stdout",
     "output_type": "stream",
     "text": [
      "apple\n"
     ]
    },
    {
     "data": {
      "text/plain": [
       "(None, str)"
      ]
     },
     "execution_count": 24,
     "metadata": {},
     "output_type": "execute_result"
    }
   ],
   "source": [
    "print(an_apple), type(an_apple)"
   ]
  },
  {
   "cell_type": "code",
   "execution_count": 22,
   "id": "b447cbd1",
   "metadata": {},
   "outputs": [],
   "source": [
    "an_example = 42"
   ]
  },
  {
   "cell_type": "code",
   "execution_count": 25,
   "id": "83bbfc45",
   "metadata": {},
   "outputs": [
    {
     "name": "stdout",
     "output_type": "stream",
     "text": [
      "42\n"
     ]
    },
    {
     "data": {
      "text/plain": [
       "(None, int)"
      ]
     },
     "execution_count": 25,
     "metadata": {},
     "output_type": "execute_result"
    }
   ],
   "source": [
    "print(an_example), type(an_example)"
   ]
  },
  {
   "cell_type": "code",
   "execution_count": 26,
   "id": "10c9ae89",
   "metadata": {},
   "outputs": [],
   "source": [
    "an_float = 14.42"
   ]
  },
  {
   "cell_type": "code",
   "execution_count": 28,
   "id": "b5bc7481",
   "metadata": {},
   "outputs": [
    {
     "name": "stdout",
     "output_type": "stream",
     "text": [
      "14.42\n"
     ]
    },
    {
     "data": {
      "text/plain": [
       "(None, float)"
      ]
     },
     "execution_count": 28,
     "metadata": {},
     "output_type": "execute_result"
    }
   ],
   "source": [
    "print(an_float), type(an_float)"
   ]
  },
  {
   "cell_type": "code",
   "execution_count": 29,
   "id": "bdb26355",
   "metadata": {},
   "outputs": [
    {
     "ename": "SyntaxError",
     "evalue": "invalid syntax (3483848022.py, line 1)",
     "output_type": "error",
     "traceback": [
      "\u001b[1;36m  Input \u001b[1;32mIn [29]\u001b[1;36m\u001b[0m\n\u001b[1;33m    an_<tab 키>\u001b[0m\n\u001b[1;37m            ^\u001b[0m\n\u001b[1;31mSyntaxError\u001b[0m\u001b[1;31m:\u001b[0m invalid syntax\n"
     ]
    }
   ],
   "source": [
    "an_<tab 키>"
   ]
  },
  {
   "cell_type": "code",
   "execution_count": 30,
   "id": "2208b830",
   "metadata": {},
   "outputs": [],
   "source": [
    "# python list 자료형\n",
    "\n",
    "score = [90, 100, 75, 100]"
   ]
  },
  {
   "cell_type": "code",
   "execution_count": 31,
   "id": "5d349f71",
   "metadata": {},
   "outputs": [
    {
     "data": {
      "text/plain": [
       "[90, 100, 75, 100]"
      ]
     },
     "execution_count": 31,
     "metadata": {},
     "output_type": "execute_result"
    }
   ],
   "source": [
    "score"
   ]
  },
  {
   "cell_type": "code",
   "execution_count": 33,
   "id": "a9b67a9f",
   "metadata": {},
   "outputs": [
    {
     "data": {
      "text/plain": [
       "100"
      ]
     },
     "execution_count": 33,
     "metadata": {},
     "output_type": "execute_result"
    }
   ],
   "source": [
    "score.pop(-1)"
   ]
  },
  {
   "cell_type": "code",
   "execution_count": 34,
   "id": "b0ff4863",
   "metadata": {},
   "outputs": [
    {
     "data": {
      "text/plain": [
       "[90, 100, 75]"
      ]
     },
     "execution_count": 34,
     "metadata": {},
     "output_type": "execute_result"
    }
   ],
   "source": [
    "score"
   ]
  },
  {
   "cell_type": "code",
   "execution_count": 35,
   "id": "b3d987fa",
   "metadata": {},
   "outputs": [],
   "source": [
    "score.append(80)"
   ]
  },
  {
   "cell_type": "code",
   "execution_count": 36,
   "id": "c446f2cd",
   "metadata": {},
   "outputs": [
    {
     "data": {
      "text/plain": [
       "[90, 100, 75, 80]"
      ]
     },
     "execution_count": 36,
     "metadata": {},
     "output_type": "execute_result"
    }
   ],
   "source": [
    "score"
   ]
  },
  {
   "cell_type": "code",
   "execution_count": 37,
   "id": "244f593d",
   "metadata": {},
   "outputs": [
    {
     "data": {
      "text/plain": [
       "100"
      ]
     },
     "execution_count": 37,
     "metadata": {},
     "output_type": "execute_result"
    }
   ],
   "source": [
    "score.pop(1)"
   ]
  },
  {
   "cell_type": "code",
   "execution_count": 39,
   "id": "f541998e",
   "metadata": {},
   "outputs": [
    {
     "data": {
      "text/plain": [
       "[90, 75, 80]"
      ]
     },
     "execution_count": 39,
     "metadata": {},
     "output_type": "execute_result"
    }
   ],
   "source": [
    "score"
   ]
  },
  {
   "cell_type": "code",
   "execution_count": 40,
   "id": "f582e085",
   "metadata": {},
   "outputs": [
    {
     "data": {
      "text/plain": [
       "{75, 80, 90}"
      ]
     },
     "execution_count": 40,
     "metadata": {},
     "output_type": "execute_result"
    }
   ],
   "source": [
    "set(score)"
   ]
  },
  {
   "cell_type": "code",
   "execution_count": 41,
   "id": "09073df5",
   "metadata": {},
   "outputs": [
    {
     "data": {
      "text/plain": [
       "[90, 75, 80]"
      ]
     },
     "execution_count": 41,
     "metadata": {},
     "output_type": "execute_result"
    }
   ],
   "source": [
    "list(score)"
   ]
  },
  {
   "cell_type": "code",
   "execution_count": 43,
   "id": "1f653eb0",
   "metadata": {},
   "outputs": [],
   "source": [
    "score.append(100)"
   ]
  },
  {
   "cell_type": "code",
   "execution_count": 44,
   "id": "e7102fd3",
   "metadata": {},
   "outputs": [
    {
     "data": {
      "text/plain": [
       "[90, 75, 80, 100]"
      ]
     },
     "execution_count": 44,
     "metadata": {},
     "output_type": "execute_result"
    }
   ],
   "source": [
    "score"
   ]
  },
  {
   "cell_type": "code",
   "execution_count": 45,
   "id": "34fe9383",
   "metadata": {},
   "outputs": [],
   "source": [
    "score.append(100)"
   ]
  },
  {
   "cell_type": "code",
   "execution_count": 46,
   "id": "9a62ad8a",
   "metadata": {},
   "outputs": [
    {
     "data": {
      "text/plain": [
       "[90, 75, 80, 100, 100]"
      ]
     },
     "execution_count": 46,
     "metadata": {},
     "output_type": "execute_result"
    }
   ],
   "source": [
    "score"
   ]
  },
  {
   "cell_type": "code",
   "execution_count": 47,
   "id": "82d95836",
   "metadata": {},
   "outputs": [
    {
     "data": {
      "text/plain": [
       "{75, 80, 90, 100}"
      ]
     },
     "execution_count": 47,
     "metadata": {},
     "output_type": "execute_result"
    }
   ],
   "source": [
    "set(score)"
   ]
  },
  {
   "cell_type": "code",
   "execution_count": 48,
   "id": "5daa0a38",
   "metadata": {},
   "outputs": [
    {
     "data": {
      "text/plain": [
       "[90, 75, 80, 100, 100]"
      ]
     },
     "execution_count": 48,
     "metadata": {},
     "output_type": "execute_result"
    }
   ],
   "source": [
    "list(score)"
   ]
  },
  {
   "cell_type": "code",
   "execution_count": 50,
   "id": "75a7946a",
   "metadata": {},
   "outputs": [
    {
     "ename": "SyntaxError",
     "evalue": "invalid syntax (333547088.py, line 1)",
     "output_type": "error",
     "traceback": [
      "\u001b[1;36m  Input \u001b[1;32mIn [50]\u001b[1;36m\u001b[0m\n\u001b[1;33m    score.\u001b[0m\n\u001b[1;37m          ^\u001b[0m\n\u001b[1;31mSyntaxError\u001b[0m\u001b[1;31m:\u001b[0m invalid syntax\n"
     ]
    }
   ],
   "source": [
    "score.\n",
    "set.            + <tab 키> # 리스트 객체에서 제공한느 여러 메서드들이 보여짐\n",
    "dict."
   ]
  },
  {
   "cell_type": "markdown",
   "id": "eb52f849",
   "metadata": {},
   "source": [
    "# 도움말"
   ]
  },
  {
   "cell_type": "code",
   "execution_count": 52,
   "id": "16fe542d",
   "metadata": {},
   "outputs": [],
   "source": [
    "score?"
   ]
  },
  {
   "cell_type": "code",
   "execution_count": 53,
   "id": "5f490ffe",
   "metadata": {},
   "outputs": [],
   "source": [
    "?score"
   ]
  },
  {
   "cell_type": "code",
   "execution_count": 54,
   "id": "ea1c5fb0",
   "metadata": {},
   "outputs": [],
   "source": [
    "print? # 파이썬에서 제공하는 함수"
   ]
  },
  {
   "cell_type": "markdown",
   "id": "75350851",
   "metadata": {},
   "source": [
    "# 내가 만든 함수"
   ]
  },
  {
   "cell_type": "code",
   "execution_count": 58,
   "id": "26608f4d",
   "metadata": {},
   "outputs": [
    {
     "data": {
      "text/plain": [
       "7"
      ]
     },
     "execution_count": 58,
     "metadata": {},
     "output_type": "execute_result"
    }
   ],
   "source": [
    "# 1. 정의\n",
    "\n",
    "def addition(a, b):\n",
    "    \"\"\"\n",
    "    Add two numbers together\n",
    "    return a + b\n",
    "    \"\"\"\n",
    "    c = a + b\n",
    "    return c\n",
    "\n",
    "# 2. 호출\n",
    "addition(3, 4)"
   ]
  },
  {
   "cell_type": "code",
   "execution_count": 56,
   "id": "0fd5a6ae",
   "metadata": {},
   "outputs": [
    {
     "data": {
      "text/plain": [
       "120"
      ]
     },
     "execution_count": 56,
     "metadata": {},
     "output_type": "execute_result"
    }
   ],
   "source": [
    "addition(100, 20)"
   ]
  },
  {
   "cell_type": "code",
   "execution_count": 61,
   "id": "b0130ebe",
   "metadata": {},
   "outputs": [],
   "source": [
    "addition?"
   ]
  },
  {
   "cell_type": "code",
   "execution_count": 60,
   "id": "7722af33",
   "metadata": {},
   "outputs": [],
   "source": [
    "addition??"
   ]
  },
  {
   "cell_type": "code",
   "execution_count": 69,
   "id": "42e5a5e2",
   "metadata": {},
   "outputs": [],
   "source": [
    "def calculator(a, b, y):\n",
    "    if y == '+':\n",
    "        c = a + b\n",
    "    elif y == '-':\n",
    "        c = a - b\n",
    "    elif y == '*':\n",
    "        c = a * b\n",
    "    elif y == '/':\n",
    "        c = a / b\n",
    "    return c"
   ]
  },
  {
   "cell_type": "code",
   "execution_count": 74,
   "id": "e52fa76f",
   "metadata": {},
   "outputs": [
    {
     "data": {
      "text/plain": [
       "6"
      ]
     },
     "execution_count": 74,
     "metadata": {},
     "output_type": "execute_result"
    }
   ],
   "source": [
    "calculator(3, 2, '*')"
   ]
  },
  {
   "cell_type": "code",
   "execution_count": 86,
   "id": "da132af8",
   "metadata": {},
   "outputs": [
    {
     "name": "stdout",
     "output_type": "stream",
     "text": [
      "hello world\n"
     ]
    }
   ],
   "source": [
    "%run \"Hello.py\" # 파이썬 스크립트를 실행할 때 사용"
   ]
  },
  {
   "cell_type": "code",
   "execution_count": 79,
   "id": "1974113f",
   "metadata": {},
   "outputs": [
    {
     "data": {
      "text/plain": [
       "'C:\\\\Users\\\\Playdata\\\\Documents\\\\인공지능 25기\\\\Python Programming'"
      ]
     },
     "execution_count": 79,
     "metadata": {},
     "output_type": "execute_result"
    }
   ],
   "source": [
    "%pwd # 현재 작업중인 디렉토리 명을 알고 싶을 때 사용"
   ]
  },
  {
   "cell_type": "code",
   "execution_count": null,
   "id": "8e7a10c1",
   "metadata": {},
   "outputs": [],
   "source": [
    "# %load \"Hello.py\"\n",
    "print(\"hello world\")"
   ]
  },
  {
   "cell_type": "code",
   "execution_count": 88,
   "id": "0d7ec63a",
   "metadata": {},
   "outputs": [
    {
     "name": "stdout",
     "output_type": "stream",
     "text": [
      "CPU times: total: 0 ns\n",
      "Wall time: 0 ns\n"
     ]
    }
   ],
   "source": [
    "a = 2\n",
    "b = 3\n",
    "\n",
    "%time c = a + b    # time 뒤에 나오는 statement를 수행하는데 걸린 시간"
   ]
  },
  {
   "cell_type": "code",
   "execution_count": 89,
   "id": "8cf60ddc",
   "metadata": {},
   "outputs": [
    {
     "name": "stdout",
     "output_type": "stream",
     "text": [
      "75.6 ns ± 9.22 ns per loop (mean ± std. dev. of 7 runs, 10,000,000 loops each)\n"
     ]
    }
   ],
   "source": [
    "%timeit c = a + b    # timeif 뒤에 나오는 statement를 여러번 수행해서 평균 시간을 출력"
   ]
  },
  {
   "cell_type": "markdown",
   "id": "3eff3208",
   "metadata": {},
   "source": [
    "# 기본 문법"
   ]
  },
  {
   "cell_type": "code",
   "execution_count": 91,
   "id": "9358717d",
   "metadata": {},
   "outputs": [],
   "source": [
    "# 파이썬의 타입(자료형)은 미리 지정이 되어있지 않음\n",
    "# 입력되는 데이터의 종륭에 따라서 결정\n",
    "\n",
    "## example\n",
    "# int a, float b, str ana\n",
    "\n",
    "a = 3\n",
    "b = 4"
   ]
  },
  {
   "cell_type": "code",
   "execution_count": 92,
   "id": "15416228",
   "metadata": {},
   "outputs": [
    {
     "data": {
      "text/plain": [
       "int"
      ]
     },
     "execution_count": 92,
     "metadata": {},
     "output_type": "execute_result"
    }
   ],
   "source": [
    "type(a)"
   ]
  },
  {
   "cell_type": "code",
   "execution_count": 93,
   "id": "e41c324b",
   "metadata": {},
   "outputs": [
    {
     "data": {
      "text/plain": [
       "int"
      ]
     },
     "execution_count": 93,
     "metadata": {},
     "output_type": "execute_result"
    }
   ],
   "source": [
    "type(b)"
   ]
  },
  {
   "cell_type": "code",
   "execution_count": 94,
   "id": "27ffaf0b",
   "metadata": {},
   "outputs": [],
   "source": [
    "a = 3; b = 4    # 한줄에 여러 문장을 작성할 때는 세미콜론을 사용"
   ]
  },
  {
   "cell_type": "code",
   "execution_count": 95,
   "id": "66489694",
   "metadata": {},
   "outputs": [
    {
     "name": "stdout",
     "output_type": "stream",
     "text": [
      "a는 3입니다\n",
      "배고픕니다\n",
      "점심은 뭘 먹을까요\n",
      "나중에 메뉴 랜덤으로 정해주는 거 하나 만들어야겠습니다\n"
     ]
    }
   ],
   "source": [
    "# 들여쓰기\n",
    "\n",
    "if a == 3:\n",
    "    print(\"a는 3입니다\")\n",
    "    \n",
    "print(\"배고픕니다\")\n",
    "print(\"점심은 뭐 먹을까요\")\n",
    "print(\"나중에 메뉴 랜덤으로 정해주는 거 하나 만들어야겠습니다\")"
   ]
  },
  {
   "cell_type": "markdown",
   "id": "44178f9e",
   "metadata": {},
   "source": [
    "# 숫자 계산하기"
   ]
  },
  {
   "cell_type": "code",
   "execution_count": 96,
   "id": "a394c07e",
   "metadata": {},
   "outputs": [
    {
     "data": {
      "text/plain": [
       "2"
      ]
     },
     "execution_count": 96,
     "metadata": {},
     "output_type": "execute_result"
    }
   ],
   "source": [
    "1 + 1"
   ]
  },
  {
   "cell_type": "code",
   "execution_count": 97,
   "id": "cf287f72",
   "metadata": {},
   "outputs": [
    {
     "data": {
      "text/plain": [
       "1"
      ]
     },
     "execution_count": 97,
     "metadata": {},
     "output_type": "execute_result"
    }
   ],
   "source": [
    "2 - 1"
   ]
  },
  {
   "cell_type": "code",
   "execution_count": 98,
   "id": "2b449241",
   "metadata": {},
   "outputs": [
    {
     "data": {
      "text/plain": [
       "6"
      ]
     },
     "execution_count": 98,
     "metadata": {},
     "output_type": "execute_result"
    }
   ],
   "source": [
    "2 * 3"
   ]
  },
  {
   "cell_type": "code",
   "execution_count": 99,
   "id": "807a5626",
   "metadata": {},
   "outputs": [
    {
     "data": {
      "text/plain": [
       "2.0"
      ]
     },
     "execution_count": 99,
     "metadata": {},
     "output_type": "execute_result"
    }
   ],
   "source": [
    "4/2"
   ]
  },
  {
   "cell_type": "code",
   "execution_count": 100,
   "id": "8f6ab04f",
   "metadata": {},
   "outputs": [
    {
     "data": {
      "text/plain": [
       "2.5"
      ]
     },
     "execution_count": 100,
     "metadata": {},
     "output_type": "execute_result"
    }
   ],
   "source": [
    "5/2"
   ]
  },
  {
   "cell_type": "code",
   "execution_count": 105,
   "id": "1a384597",
   "metadata": {},
   "outputs": [
    {
     "data": {
      "text/plain": [
       "2"
      ]
     },
     "execution_count": 105,
     "metadata": {},
     "output_type": "execute_result"
    }
   ],
   "source": [
    "5 // 2"
   ]
  },
  {
   "cell_type": "code",
   "execution_count": 106,
   "id": "d9d2fe20",
   "metadata": {},
   "outputs": [
    {
     "data": {
      "text/plain": [
       "1"
      ]
     },
     "execution_count": 106,
     "metadata": {},
     "output_type": "execute_result"
    }
   ],
   "source": [
    "5 % 2"
   ]
  },
  {
   "cell_type": "code",
   "execution_count": 107,
   "id": "2302f792",
   "metadata": {},
   "outputs": [
    {
     "data": {
      "text/plain": [
       "1024"
      ]
     },
     "execution_count": 107,
     "metadata": {},
     "output_type": "execute_result"
    }
   ],
   "source": [
    "2 ** 10"
   ]
  },
  {
   "cell_type": "code",
   "execution_count": 110,
   "id": "0e704cb5",
   "metadata": {},
   "outputs": [
    {
     "name": "stdout",
     "output_type": "stream",
     "text": [
      "1.4142135623730951\n"
     ]
    }
   ],
   "source": [
    "import math\n",
    "\n",
    "print(math.sqrt(2))"
   ]
  },
  {
   "cell_type": "code",
   "execution_count": 112,
   "id": "124237cb",
   "metadata": {},
   "outputs": [
    {
     "data": {
      "text/plain": [
       "1.7320508075688772"
      ]
     },
     "execution_count": 112,
     "metadata": {},
     "output_type": "execute_result"
    }
   ],
   "source": [
    "math.sqrt(3)"
   ]
  },
  {
   "cell_type": "code",
   "execution_count": 114,
   "id": "21bfc1a2",
   "metadata": {},
   "outputs": [
    {
     "name": "stdout",
     "output_type": "stream",
     "text": [
      "<class 'int'>\n"
     ]
    }
   ],
   "source": [
    "a = 2\n",
    "print(type(a))"
   ]
  },
  {
   "cell_type": "code",
   "execution_count": 115,
   "id": "e93f9f45",
   "metadata": {},
   "outputs": [
    {
     "data": {
      "text/plain": [
       "0.5769230769230769"
      ]
     },
     "execution_count": 115,
     "metadata": {},
     "output_type": "execute_result"
    }
   ],
   "source": [
    "1.5/2.6"
   ]
  },
  {
   "cell_type": "code",
   "execution_count": 116,
   "id": "b14f6c90",
   "metadata": {},
   "outputs": [
    {
     "name": "stdout",
     "output_type": "stream",
     "text": [
      "<class 'float'>\n"
     ]
    }
   ],
   "source": [
    "b = 2.3\n",
    "print(type(b))"
   ]
  },
  {
   "cell_type": "code",
   "execution_count": 117,
   "id": "a7406966",
   "metadata": {},
   "outputs": [],
   "source": [
    "# 자료형 변환 (type casting)\n",
    "# a: int -------> float    (실수형으로 변환)\n",
    "\n",
    "c = float(a)\n"
   ]
  },
  {
   "cell_type": "code",
   "execution_count": 118,
   "id": "a63a2971",
   "metadata": {},
   "outputs": [
    {
     "data": {
      "text/plain": [
       "2.0"
      ]
     },
     "execution_count": 118,
     "metadata": {},
     "output_type": "execute_result"
    }
   ],
   "source": [
    "c"
   ]
  },
  {
   "cell_type": "code",
   "execution_count": 119,
   "id": "3587bfda",
   "metadata": {},
   "outputs": [
    {
     "name": "stdout",
     "output_type": "stream",
     "text": [
      "<class 'float'>\n"
     ]
    }
   ],
   "source": [
    "print(type(c))"
   ]
  },
  {
   "cell_type": "code",
   "execution_count": 120,
   "id": "6e35f034",
   "metadata": {},
   "outputs": [
    {
     "data": {
      "text/plain": [
       "float"
      ]
     },
     "execution_count": 120,
     "metadata": {},
     "output_type": "execute_result"
    }
   ],
   "source": [
    "# b: float ----> int  (정수형으로 변환)\n",
    "\n",
    "d = int(b)\n",
    "type(b)"
   ]
  },
  {
   "cell_type": "code",
   "execution_count": 122,
   "id": "a7e6d6b5",
   "metadata": {},
   "outputs": [
    {
     "data": {
      "text/plain": [
       "str"
      ]
     },
     "execution_count": 122,
     "metadata": {},
     "output_type": "execute_result"
    }
   ],
   "source": [
    "s = '10'\n",
    "type(s)"
   ]
  },
  {
   "cell_type": "code",
   "execution_count": 125,
   "id": "d94be6a1",
   "metadata": {},
   "outputs": [],
   "source": [
    "s2 = int(s)"
   ]
  },
  {
   "cell_type": "code",
   "execution_count": 127,
   "id": "83515601",
   "metadata": {},
   "outputs": [
    {
     "data": {
      "text/plain": [
       "10"
      ]
     },
     "execution_count": 127,
     "metadata": {},
     "output_type": "execute_result"
    }
   ],
   "source": [
    "s2"
   ]
  },
  {
   "cell_type": "code",
   "execution_count": 128,
   "id": "a8100ecc",
   "metadata": {},
   "outputs": [],
   "source": [
    "a = 3    # 오른쪽에 있는 값을 왼쪽의 변수에 할당"
   ]
  },
  {
   "cell_type": "code",
   "execution_count": 129,
   "id": "655b9676",
   "metadata": {},
   "outputs": [
    {
     "data": {
      "text/plain": [
       "True"
      ]
     },
     "execution_count": 129,
     "metadata": {},
     "output_type": "execute_result"
    }
   ],
   "source": [
    "a == 3    # 왼쪽 값과 오른쪽 값이 같은지 비교"
   ]
  },
  {
   "cell_type": "code",
   "execution_count": 130,
   "id": "c39d2dc3",
   "metadata": {},
   "outputs": [
    {
     "data": {
      "text/plain": [
       "False"
      ]
     },
     "execution_count": 130,
     "metadata": {},
     "output_type": "execute_result"
    }
   ],
   "source": [
    "a == 4"
   ]
  },
  {
   "cell_type": "code",
   "execution_count": 131,
   "id": "ccdaa7f9",
   "metadata": {},
   "outputs": [],
   "source": [
    "# 영문자 숫자를 함께 사용\n",
    "a1 = 4"
   ]
  },
  {
   "cell_type": "code",
   "execution_count": 132,
   "id": "155236b5",
   "metadata": {},
   "outputs": [],
   "source": [
    "A1 = 10"
   ]
  },
  {
   "cell_type": "code",
   "execution_count": 133,
   "id": "f1f817e8",
   "metadata": {},
   "outputs": [
    {
     "data": {
      "text/plain": [
       "4"
      ]
     },
     "execution_count": 133,
     "metadata": {},
     "output_type": "execute_result"
    }
   ],
   "source": [
    "# 대소문자 구분\n",
    "a1"
   ]
  },
  {
   "cell_type": "code",
   "execution_count": 134,
   "id": "baed3d5d",
   "metadata": {},
   "outputs": [
    {
     "data": {
      "text/plain": [
       "10"
      ]
     },
     "execution_count": 134,
     "metadata": {},
     "output_type": "execute_result"
    }
   ],
   "source": [
    "A1"
   ]
  },
  {
   "cell_type": "code",
   "execution_count": 137,
   "id": "5ec9248c",
   "metadata": {},
   "outputs": [
    {
     "ename": "SyntaxError",
     "evalue": "invalid syntax (2671216384.py, line 2)",
     "output_type": "error",
     "traceback": [
      "\u001b[1;36m  Input \u001b[1;32mIn [137]\u001b[1;36m\u001b[0m\n\u001b[1;33m    10a = 10        # Error\u001b[0m\n\u001b[1;37m      ^\u001b[0m\n\u001b[1;31mSyntaxError\u001b[0m\u001b[1;31m:\u001b[0m invalid syntax\n"
     ]
    }
   ],
   "source": [
    "# 숫자로 시작하는 변수\n",
    "10a = 10        # Error"
   ]
  },
  {
   "cell_type": "code",
   "execution_count": 138,
   "id": "d5efc4ea",
   "metadata": {},
   "outputs": [],
   "source": [
    "_a = 10"
   ]
  },
  {
   "cell_type": "code",
   "execution_count": 139,
   "id": "eb10ef79",
   "metadata": {},
   "outputs": [
    {
     "ename": "SyntaxError",
     "evalue": "invalid syntax (2944933938.py, line 2)",
     "output_type": "error",
     "traceback": [
      "\u001b[1;36m  Input \u001b[1;32mIn [139]\u001b[1;36m\u001b[0m\n\u001b[1;33m    $a = 10\u001b[0m\n\u001b[1;37m    ^\u001b[0m\n\u001b[1;31mSyntaxError\u001b[0m\u001b[1;31m:\u001b[0m invalid syntax\n"
     ]
    }
   ],
   "source": [
    "# 특수문자(+, -, / , $, %, &)는 변수에 사용할 수 없음\n",
    "$a = 10"
   ]
  },
  {
   "cell_type": "code",
   "execution_count": 150,
   "id": "ef2ac099",
   "metadata": {},
   "outputs": [
    {
     "name": "stdout",
     "output_type": "stream",
     "text": [
      "a는 3입니다\n"
     ]
    }
   ],
   "source": [
    "if a == 3:\n",
    "    print(\"a는 3입니다\")"
   ]
  },
  {
   "cell_type": "code",
   "execution_count": 151,
   "id": "55d2bacd",
   "metadata": {},
   "outputs": [
    {
     "data": {
      "text/plain": [
       "(1, 1)"
      ]
     },
     "execution_count": 151,
     "metadata": {},
     "output_type": "execute_result"
    }
   ],
   "source": [
    "divmod(3, 2)"
   ]
  },
  {
   "cell_type": "code",
   "execution_count": 152,
   "id": "0067968f",
   "metadata": {},
   "outputs": [
    {
     "data": {
      "text/plain": [
       "(33, 1)"
      ]
     },
     "execution_count": 152,
     "metadata": {},
     "output_type": "execute_result"
    }
   ],
   "source": [
    "divmod(100, 3)"
   ]
  },
  {
   "cell_type": "code",
   "execution_count": 153,
   "id": "baca514a",
   "metadata": {},
   "outputs": [],
   "source": [
    "x, y, z = 10, 20, 30"
   ]
  },
  {
   "cell_type": "code",
   "execution_count": 154,
   "id": "38e148d1",
   "metadata": {},
   "outputs": [
    {
     "data": {
      "text/plain": [
       "200"
      ]
     },
     "execution_count": 154,
     "metadata": {},
     "output_type": "execute_result"
    }
   ],
   "source": [
    "x * y"
   ]
  },
  {
   "cell_type": "code",
   "execution_count": 155,
   "id": "1dbf5131",
   "metadata": {},
   "outputs": [
    {
     "data": {
      "text/plain": [
       "1000000000000000000000000000000"
      ]
     },
     "execution_count": 155,
     "metadata": {},
     "output_type": "execute_result"
    }
   ],
   "source": [
    "x ** z"
   ]
  },
  {
   "cell_type": "code",
   "execution_count": null,
   "id": "7a99593a",
   "metadata": {},
   "outputs": [],
   "source": [
    "# 파이썬에 이미 예약된 키워드는 사용할 수 없음(if, for, while, and, or, str)\n",
    "\n",
    "# if = 2         (X)\n",
    "# str = \"hello\"  (X)"
   ]
  },
  {
   "cell_type": "code",
   "execution_count": 1,
   "id": "5e91aa80",
   "metadata": {},
   "outputs": [],
   "source": [
    "a, b = 2, 3"
   ]
  },
  {
   "cell_type": "code",
   "execution_count": 4,
   "id": "70712c60",
   "metadata": {},
   "outputs": [],
   "source": [
    "# a : 2 -> 3\n",
    "# b : 3 -> 2\n",
    "    \n",
    "a, b = b, a    # a와 b를 맞바꿈"
   ]
  },
  {
   "cell_type": "code",
   "execution_count": 9,
   "id": "9875d056",
   "metadata": {},
   "outputs": [
    {
     "data": {
      "text/plain": [
       "3"
      ]
     },
     "execution_count": 9,
     "metadata": {},
     "output_type": "execute_result"
    }
   ],
   "source": [
    "a"
   ]
  },
  {
   "cell_type": "code",
   "execution_count": 10,
   "id": "758ef679",
   "metadata": {},
   "outputs": [
    {
     "data": {
      "text/plain": [
       "2"
      ]
     },
     "execution_count": 10,
     "metadata": {},
     "output_type": "execute_result"
    }
   ],
   "source": [
    "b"
   ]
  },
  {
   "cell_type": "code",
   "execution_count": 16,
   "id": "229ba62c",
   "metadata": {},
   "outputs": [],
   "source": [
    "temp = a # a를 backup\n",
    "a = b\n",
    "b = temp"
   ]
  },
  {
   "cell_type": "code",
   "execution_count": 17,
   "id": "bf31e734",
   "metadata": {},
   "outputs": [
    {
     "data": {
      "text/plain": [
       "(2, 3)"
      ]
     },
     "execution_count": 17,
     "metadata": {},
     "output_type": "execute_result"
    }
   ],
   "source": [
    "a, b"
   ]
  },
  {
   "cell_type": "code",
   "execution_count": 18,
   "id": "e99bde9c",
   "metadata": {},
   "outputs": [
    {
     "ename": "ValueError",
     "evalue": "not enough values to unpack (expected 3, got 2)",
     "output_type": "error",
     "traceback": [
      "\u001b[1;31m---------------------------------------------------------------------------\u001b[0m",
      "\u001b[1;31mValueError\u001b[0m                                Traceback (most recent call last)",
      "Input \u001b[1;32mIn [18]\u001b[0m, in \u001b[0;36m<cell line: 2>\u001b[1;34m()\u001b[0m\n\u001b[0;32m      1\u001b[0m \u001b[38;5;66;03m# 할당할 값의 개수 맞추기\u001b[39;00m\n\u001b[1;32m----> 2\u001b[0m a, b, c \u001b[38;5;241m=\u001b[39m \u001b[38;5;241m10\u001b[39m, \u001b[38;5;241m20\u001b[39m\n",
      "\u001b[1;31mValueError\u001b[0m: not enough values to unpack (expected 3, got 2)"
     ]
    }
   ],
   "source": [
    "# 할당할 값의 개수 맞추기\n",
    "a, b, c = 10, 20"
   ]
  },
  {
   "cell_type": "code",
   "execution_count": 19,
   "id": "ce385d38",
   "metadata": {},
   "outputs": [],
   "source": [
    "del a"
   ]
  },
  {
   "cell_type": "code",
   "execution_count": 20,
   "id": "9454bfb8",
   "metadata": {},
   "outputs": [
    {
     "ename": "NameError",
     "evalue": "name 'a' is not defined",
     "output_type": "error",
     "traceback": [
      "\u001b[1;31m---------------------------------------------------------------------------\u001b[0m",
      "\u001b[1;31mNameError\u001b[0m                                 Traceback (most recent call last)",
      "Input \u001b[1;32mIn [20]\u001b[0m, in \u001b[0;36m<cell line: 1>\u001b[1;34m()\u001b[0m\n\u001b[1;32m----> 1\u001b[0m \u001b[43ma\u001b[49m\n",
      "\u001b[1;31mNameError\u001b[0m: name 'a' is not defined"
     ]
    }
   ],
   "source": [
    "a"
   ]
  },
  {
   "cell_type": "code",
   "execution_count": 21,
   "id": "12f5d1e2",
   "metadata": {},
   "outputs": [],
   "source": [
    "x = None"
   ]
  },
  {
   "cell_type": "code",
   "execution_count": 22,
   "id": "2385cc54",
   "metadata": {},
   "outputs": [],
   "source": [
    "x"
   ]
  },
  {
   "cell_type": "code",
   "execution_count": 24,
   "id": "d6395dbf",
   "metadata": {},
   "outputs": [
    {
     "data": {
      "text/plain": [
       "NoneType"
      ]
     },
     "execution_count": 24,
     "metadata": {},
     "output_type": "execute_result"
    }
   ],
   "source": [
    "type(x)"
   ]
  },
  {
   "cell_type": "code",
   "execution_count": 29,
   "id": "cb2637a2",
   "metadata": {},
   "outputs": [],
   "source": [
    "a = 10\n",
    "a = a + 10\n",
    "a += 10     # a = a + 10"
   ]
  },
  {
   "cell_type": "code",
   "execution_count": 30,
   "id": "6f95fda3",
   "metadata": {},
   "outputs": [
    {
     "data": {
      "text/plain": [
       "30"
      ]
     },
     "execution_count": 30,
     "metadata": {},
     "output_type": "execute_result"
    }
   ],
   "source": [
    "a"
   ]
  },
  {
   "cell_type": "code",
   "execution_count": 36,
   "id": "b74b6505",
   "metadata": {},
   "outputs": [
    {
     "data": {
      "text/plain": [
       "10"
      ]
     },
     "execution_count": 36,
     "metadata": {},
     "output_type": "execute_result"
    }
   ],
   "source": [
    "a = 20\n",
    "a -= 10\n",
    "a"
   ]
  },
  {
   "cell_type": "code",
   "execution_count": 37,
   "id": "60b56a46",
   "metadata": {},
   "outputs": [
    {
     "data": {
      "text/plain": [
       "200"
      ]
     },
     "execution_count": 37,
     "metadata": {},
     "output_type": "execute_result"
    }
   ],
   "source": [
    "a = 20\n",
    "a *= 10\n",
    "a"
   ]
  },
  {
   "cell_type": "code",
   "execution_count": 38,
   "id": "4a1481a8",
   "metadata": {},
   "outputs": [
    {
     "data": {
      "text/plain": [
       "2.0"
      ]
     },
     "execution_count": 38,
     "metadata": {},
     "output_type": "execute_result"
    }
   ],
   "source": [
    "a = 20\n",
    "a /= 10\n",
    "a"
   ]
  },
  {
   "cell_type": "code",
   "execution_count": 41,
   "id": "d1516873",
   "metadata": {},
   "outputs": [
    {
     "name": "stdout",
     "output_type": "stream",
     "text": [
      "7\n"
     ]
    }
   ],
   "source": [
    "print(int(0.2467 * 12 + 4.159))"
   ]
  },
  {
   "cell_type": "code",
   "execution_count": 44,
   "id": "b05bb644",
   "metadata": {},
   "outputs": [
    {
     "data": {
      "text/plain": [
       "9"
      ]
     },
     "execution_count": 44,
     "metadata": {},
     "output_type": "execute_result"
    }
   ],
   "source": [
    "prob2 = 1 - 4 * 1 * (-2)  # 판별식\n",
    "prob2"
   ]
  },
  {
   "cell_type": "code",
   "execution_count": 48,
   "id": "eea3b494",
   "metadata": {},
   "outputs": [
    {
     "data": {
      "text/plain": [
       "1.0"
      ]
     },
     "execution_count": 48,
     "metadata": {},
     "output_type": "execute_result"
    }
   ],
   "source": [
    "import math         # 모듈 사용\n",
    "\n",
    "prob2_1 = (((-1) + math.sqrt(1 - 4 * 1 * (-2))) / 2 * 1)\n",
    "prob2_1"
   ]
  },
  {
   "cell_type": "code",
   "execution_count": 49,
   "id": "186985ee",
   "metadata": {},
   "outputs": [
    {
     "data": {
      "text/plain": [
       "-2.0"
      ]
     },
     "execution_count": 49,
     "metadata": {},
     "output_type": "execute_result"
    }
   ],
   "source": [
    "prob2_2 = (((-1) - math.sqrt(1 - 4 * 1 * (-2))) / 2 * 1)\n",
    "prob2_2"
   ]
  },
  {
   "cell_type": "code",
   "execution_count": 51,
   "id": "ff371dba",
   "metadata": {},
   "outputs": [
    {
     "data": {
      "text/plain": [
       "(1.0, -2.0)"
      ]
     },
     "execution_count": 51,
     "metadata": {},
     "output_type": "execute_result"
    }
   ],
   "source": [
    "a = 1; b = 1; c = -2 \n",
    "\n",
    "x1 = (-b + (b ** 2 - 4 * a * c) ** 0.5) / 2 * a          # math 모듈 사용 X\n",
    "x2 = (-b - (b ** 2 - 4 * a * c) ** 0.5) / 2 * a\n",
    "\n",
    "x1, x2"
   ]
  },
  {
   "cell_type": "markdown",
   "id": "dc5b5958",
   "metadata": {},
   "source": [
    "# 입력값을 변수에 저장하기"
   ]
  },
  {
   "cell_type": "code",
   "execution_count": 52,
   "id": "164e16f4",
   "metadata": {},
   "outputs": [
    {
     "name": "stdout",
     "output_type": "stream",
     "text": [
      "점심 먹고나니 졸리다\n"
     ]
    },
    {
     "data": {
      "text/plain": [
       "'점심 먹고나니 졸리다'"
      ]
     },
     "execution_count": 52,
     "metadata": {},
     "output_type": "execute_result"
    }
   ],
   "source": [
    "input()"
   ]
  },
  {
   "cell_type": "code",
   "execution_count": 53,
   "id": "1952b569",
   "metadata": {},
   "outputs": [
    {
     "name": "stdout",
     "output_type": "stream",
     "text": [
      "I am so sleepy after I ate lunch\n"
     ]
    },
    {
     "data": {
      "text/plain": [
       "'I am so sleepy after I ate lunch'"
      ]
     },
     "execution_count": 53,
     "metadata": {},
     "output_type": "execute_result"
    }
   ],
   "source": [
    "input()"
   ]
  },
  {
   "cell_type": "code",
   "execution_count": 54,
   "id": "5852ac18",
   "metadata": {},
   "outputs": [
    {
     "name": "stdout",
     "output_type": "stream",
     "text": [
      "Smoking smell's so terrible\n"
     ]
    },
    {
     "data": {
      "text/plain": [
       "\"Smoking smell's so terrible\""
      ]
     },
     "execution_count": 54,
     "metadata": {},
     "output_type": "execute_result"
    }
   ],
   "source": [
    "input()"
   ]
  },
  {
   "cell_type": "code",
   "execution_count": 55,
   "id": "ee294b45",
   "metadata": {},
   "outputs": [
    {
     "name": "stdout",
     "output_type": "stream",
     "text": [
      "35\n"
     ]
    }
   ],
   "source": [
    "a = input()"
   ]
  },
  {
   "cell_type": "code",
   "execution_count": 56,
   "id": "69cea3a9",
   "metadata": {},
   "outputs": [
    {
     "data": {
      "text/plain": [
       "'35'"
      ]
     },
     "execution_count": 56,
     "metadata": {},
     "output_type": "execute_result"
    }
   ],
   "source": [
    "a"
   ]
  },
  {
   "cell_type": "code",
   "execution_count": 57,
   "id": "cbd74792",
   "metadata": {},
   "outputs": [
    {
     "data": {
      "text/plain": [
       "str"
      ]
     },
     "execution_count": 57,
     "metadata": {},
     "output_type": "execute_result"
    }
   ],
   "source": [
    "type(a)"
   ]
  },
  {
   "cell_type": "code",
   "execution_count": 58,
   "id": "f41c50a5",
   "metadata": {},
   "outputs": [
    {
     "name": "stdout",
     "output_type": "stream",
     "text": [
      "숫자를 입력하세요: 10\n",
      "숫자를 입력하세요: 20\n"
     ]
    }
   ],
   "source": [
    "a = input(\"숫자를 입력하세요: \")\n",
    "b = input(\"숫자를 입력하세요: \")"
   ]
  },
  {
   "cell_type": "code",
   "execution_count": 59,
   "id": "dd193e2a",
   "metadata": {},
   "outputs": [
    {
     "data": {
      "text/plain": [
       "('10', '20')"
      ]
     },
     "execution_count": 59,
     "metadata": {},
     "output_type": "execute_result"
    }
   ],
   "source": [
    "a, b"
   ]
  },
  {
   "cell_type": "code",
   "execution_count": 60,
   "id": "22d96d17",
   "metadata": {},
   "outputs": [
    {
     "data": {
      "text/plain": [
       "'1020'"
      ]
     },
     "execution_count": 60,
     "metadata": {},
     "output_type": "execute_result"
    }
   ],
   "source": [
    "a + b"
   ]
  },
  {
   "cell_type": "code",
   "execution_count": 61,
   "id": "6a8c8330",
   "metadata": {},
   "outputs": [
    {
     "data": {
      "text/plain": [
       "30"
      ]
     },
     "execution_count": 61,
     "metadata": {},
     "output_type": "execute_result"
    }
   ],
   "source": [
    "int(a) + int(b)"
   ]
  },
  {
   "cell_type": "code",
   "execution_count": 73,
   "id": "b55f074e",
   "metadata": {},
   "outputs": [
    {
     "name": "stdout",
     "output_type": "stream",
     "text": [
      "두 숫자를 입력하세요: 10 20\n"
     ]
    }
   ],
   "source": [
    "two_numbers = input(\"두 숫자를 입력하세요: \")"
   ]
  },
  {
   "cell_type": "code",
   "execution_count": 74,
   "id": "ab248852",
   "metadata": {},
   "outputs": [
    {
     "data": {
      "text/plain": [
       "<function str.split(sep=None, maxsplit=-1)>"
      ]
     },
     "execution_count": 74,
     "metadata": {},
     "output_type": "execute_result"
    }
   ],
   "source": [
    "two_numbers.split"
   ]
  },
  {
   "cell_type": "code",
   "execution_count": 85,
   "id": "d084f676",
   "metadata": {},
   "outputs": [],
   "source": [
    "# 문자열에서 제공하는 split() 함수는 whiltespace(스페이스 등)을 기준으로 나눈 결과를 리스트로 반환\n",
    "two_numbers_list = two_numbers.split()"
   ]
  },
  {
   "cell_type": "code",
   "execution_count": 88,
   "id": "62678651",
   "metadata": {},
   "outputs": [
    {
     "data": {
      "text/plain": [
       "['abc', 'def']"
      ]
     },
     "execution_count": 88,
     "metadata": {},
     "output_type": "execute_result"
    }
   ],
   "source": [
    "\"abc,def\".split(',')"
   ]
  },
  {
   "cell_type": "code",
   "execution_count": 84,
   "id": "949856be",
   "metadata": {},
   "outputs": [],
   "source": [
    "two_numbers.split?"
   ]
  },
  {
   "cell_type": "code",
   "execution_count": 80,
   "id": "95269c33",
   "metadata": {},
   "outputs": [
    {
     "data": {
      "text/plain": [
       "['10', '20']"
      ]
     },
     "execution_count": 80,
     "metadata": {},
     "output_type": "execute_result"
    }
   ],
   "source": [
    "two_numbers_list"
   ]
  },
  {
   "cell_type": "code",
   "execution_count": 81,
   "id": "030d9b7c",
   "metadata": {},
   "outputs": [],
   "source": [
    "a,b = map(int, two_numbers_list)"
   ]
  },
  {
   "cell_type": "code",
   "execution_count": 82,
   "id": "556f9cdc",
   "metadata": {},
   "outputs": [
    {
     "data": {
      "text/plain": [
       "(10, 20)"
      ]
     },
     "execution_count": 82,
     "metadata": {},
     "output_type": "execute_result"
    }
   ],
   "source": [
    "a, b"
   ]
  },
  {
   "cell_type": "code",
   "execution_count": 70,
   "id": "772b0ef7",
   "metadata": {},
   "outputs": [
    {
     "data": {
      "text/plain": [
       "(10, 20)"
      ]
     },
     "execution_count": 70,
     "metadata": {},
     "output_type": "execute_result"
    }
   ],
   "source": [
    "# map(적용하고자 하는 함수, list(sequence객체))\n",
    "\n",
    "a, b = map(int, ['10', '20'])     # map() 함수: list 안에 있는 원소 모두를 일괄 적용할 때 사용\n",
    "a, b"
   ]
  },
  {
   "cell_type": "code",
   "execution_count": 71,
   "id": "0d59c948",
   "metadata": {},
   "outputs": [
    {
     "data": {
      "text/plain": [
       "(int, int)"
      ]
     },
     "execution_count": 71,
     "metadata": {},
     "output_type": "execute_result"
    }
   ],
   "source": [
    "type(a), type(b)"
   ]
  },
  {
   "cell_type": "code",
   "execution_count": 89,
   "id": "4da4a724",
   "metadata": {},
   "outputs": [
    {
     "name": "stdout",
     "output_type": "stream",
     "text": [
      "숫자를 입력하세요: 10 20 30 40 50 60 70 80 90 100\n"
     ]
    }
   ],
   "source": [
    "numbers = input(\"숫자를 입력하세요: \")"
   ]
  },
  {
   "cell_type": "code",
   "execution_count": 93,
   "id": "13fbf0ba",
   "metadata": {},
   "outputs": [],
   "source": [
    "numbers_list = numbers.split()"
   ]
  },
  {
   "cell_type": "code",
   "execution_count": 94,
   "id": "f4ef4b24",
   "metadata": {},
   "outputs": [
    {
     "data": {
      "text/plain": [
       "['10', '20', '30', '40', '50', '60', '70', '80', '90', '100']"
      ]
     },
     "execution_count": 94,
     "metadata": {},
     "output_type": "execute_result"
    }
   ],
   "source": [
    "numbers_list"
   ]
  },
  {
   "cell_type": "code",
   "execution_count": 96,
   "id": "ddcab9e5",
   "metadata": {},
   "outputs": [
    {
     "data": {
      "text/plain": [
       "[10, 20, 30, 40, 50, 60, 70, 80, 90, 100]"
      ]
     },
     "execution_count": 96,
     "metadata": {},
     "output_type": "execute_result"
    }
   ],
   "source": [
    "numbers_list = list(map(int, numbers_list))\n",
    "numbers_list"
   ]
  },
  {
   "cell_type": "code",
   "execution_count": 103,
   "id": "841fce1c",
   "metadata": {},
   "outputs": [
    {
     "name": "stdout",
     "output_type": "stream",
     "text": [
      "숫자를 입력하세요: 10 20\n"
     ]
    },
    {
     "data": {
      "text/plain": [
       "(10, 20)"
      ]
     },
     "execution_count": 103,
     "metadata": {},
     "output_type": "execute_result"
    }
   ],
   "source": [
    "# (1) 두개 이상 입력받기\n",
    "n = input(\"숫자를 입력하세요: \")\n",
    "# (2) 구분자를 통해 나누기\n",
    "l = n.split()\n",
    "l\n",
    "# (3) 형변환\n",
    "l1, l2 = map(int, l)\n",
    "l1, l2"
   ]
  },
  {
   "cell_type": "markdown",
   "id": "811bb3de",
   "metadata": {},
   "source": [
    "# Workshop"
   ]
  },
  {
   "cell_type": "markdown",
   "id": "391ec630",
   "metadata": {},
   "source": [
    "**정수 세개를 입력 받고 합계 출력하기**"
   ]
  },
  {
   "cell_type": "code",
   "execution_count": 118,
   "id": "f27d2299",
   "metadata": {},
   "outputs": [
    {
     "name": "stdout",
     "output_type": "stream",
     "text": [
      "세개의 정수를 입력하세요: 10 20 30\n"
     ]
    }
   ],
   "source": [
    "a = input(\"세개의 정수를 입력하세요: \")"
   ]
  },
  {
   "cell_type": "code",
   "execution_count": 121,
   "id": "217450a2",
   "metadata": {},
   "outputs": [
    {
     "data": {
      "text/plain": [
       "(10, 20, 30)"
      ]
     },
     "execution_count": 121,
     "metadata": {},
     "output_type": "execute_result"
    }
   ],
   "source": [
    "p = a.split()            # split 사용 후, map() 함수로 묶은 다음 정수화\n",
    "p \n",
    "a1, a2, a3 = map(int, p)\n",
    "a1, a2, a3"
   ]
  },
  {
   "cell_type": "code",
   "execution_count": 123,
   "id": "f87e4198",
   "metadata": {},
   "outputs": [
    {
     "data": {
      "text/plain": [
       "60"
      ]
     },
     "execution_count": 123,
     "metadata": {},
     "output_type": "execute_result"
    }
   ],
   "source": [
    "d = a1 + a2 + a3\n",
    "d"
   ]
  },
  {
   "cell_type": "code",
   "execution_count": 138,
   "id": "efe1c658",
   "metadata": {},
   "outputs": [
    {
     "name": "stdout",
     "output_type": "stream",
     "text": [
      "세 개의 정수를 입력하세요: 10 20 30\n",
      "60\n"
     ]
    }
   ],
   "source": [
    "x, y, z = map(int, input(\"세 개의 정수를 입력하세요: \").split())       # 위의 과정을 한 번에 축약한 방식\n",
    "print(x + y + z)"
   ]
  },
  {
   "cell_type": "markdown",
   "id": "7f4b7088",
   "metadata": {},
   "source": [
    "**평균 점수 구하기**"
   ]
  },
  {
   "cell_type": "code",
   "execution_count": 169,
   "id": "f9a23622",
   "metadata": {},
   "outputs": [
    {
     "name": "stdout",
     "output_type": "stream",
     "text": [
      "100\n",
      "100\n",
      "90\n"
     ]
    },
    {
     "data": {
      "text/plain": [
       "96"
      ]
     },
     "execution_count": 169,
     "metadata": {},
     "output_type": "execute_result"
    }
   ],
   "source": [
    "Korean = int(input())\n",
    "English = int(input())            # int 한 번에 처리한 방식\n",
    "Science = int(input())\n",
    "\n",
    "(Korean + English + Science) // 3"
   ]
  },
  {
   "cell_type": "code",
   "execution_count": 167,
   "id": "0c56e09c",
   "metadata": {},
   "outputs": [
    {
     "data": {
      "text/plain": [
       "96"
      ]
     },
     "execution_count": 167,
     "metadata": {},
     "output_type": "execute_result"
    }
   ],
   "source": [
    "(Korean + English + Science) // 3"
   ]
  },
  {
   "cell_type": "code",
   "execution_count": 135,
   "id": "8c626571",
   "metadata": {},
   "outputs": [
    {
     "name": "stdout",
     "output_type": "stream",
     "text": [
      "100\n",
      "100\n",
      "90\n"
     ]
    }
   ],
   "source": [
    "Korean = input()              # int 따로 추가해서 마무리한 방식\n",
    "English = input()\n",
    "Science = input()              "
   ]
  },
  {
   "cell_type": "code",
   "execution_count": 166,
   "id": "6f8bc473",
   "metadata": {},
   "outputs": [
    {
     "data": {
      "text/plain": [
       "96"
      ]
     },
     "execution_count": 166,
     "metadata": {},
     "output_type": "execute_result"
    }
   ],
   "source": [
    "(int(Korean) + int(English) + int(Science)) // 3"
   ]
  },
  {
   "cell_type": "code",
   "execution_count": 165,
   "id": "cba493bf",
   "metadata": {},
   "outputs": [
    {
     "name": "stdout",
     "output_type": "stream",
     "text": [
      "100 100 100 80\n"
     ]
    },
    {
     "data": {
      "text/plain": [
       "95"
      ]
     },
     "execution_count": 165,
     "metadata": {},
     "output_type": "execute_result"
    }
   ],
   "source": [
    "k, e, m, s = map(int, input().split())\n",
    "A = (k + e + m + s) // 4\n",
    "A"
   ]
  },
  {
   "cell_type": "code",
   "execution_count": 152,
   "id": "1a600881",
   "metadata": {},
   "outputs": [],
   "source": [
    "def my_student_info(name, school_ID, phoneNumber):\n",
    "    print(\"--------------------------------\")\n",
    "    print(\"학생이름: \", name)\n",
    "    print(\"학급번호: \", school_ID)\n",
    "    print(\"전화번호: \", phoneNumber)"
   ]
  },
  {
   "cell_type": "code",
   "execution_count": 153,
   "id": "9f733193",
   "metadata": {},
   "outputs": [
    {
     "name": "stdout",
     "output_type": "stream",
     "text": [
      "--------------------------------\n",
      "학생이름:  우근\n",
      "학급번호:  01\n",
      "전화번호:  010-4563-8147\n",
      "--------------------------------\n",
      "학생이름:  대영\n",
      "학급번호:  02\n",
      "전화번호:  010-1234-8147\n"
     ]
    }
   ],
   "source": [
    "my_student_info(\"우근\", \"01\", \"010-4563-8147\")\n",
    "my_student_info(\"대영\", \"02\", \"010-1234-8147\")"
   ]
  },
  {
   "cell_type": "code",
   "execution_count": 156,
   "id": "84fea89c",
   "metadata": {},
   "outputs": [],
   "source": [
    "# 전역 변수 변경\n",
    "\n",
    "a = 5\n",
    "\n",
    "def func1():\n",
    "    a = 1 # 지역 변수. func1()에서만 사용\n",
    "    print(\"[func1] 지역 변수 a = \", a)\n",
    "\n",
    "def func2():\n",
    "    a = 2 # 지역 변수. func2()에서만 사용\n",
    "    print(\"[func2] 지역 변수 a = \", a)\n",
    "    \n",
    "def func3():\n",
    "    print(\"[func3] 지역 변수 a = \", a)\n",
    "    \n",
    "def func4():\n",
    "    global a    # 함수 내에서 전역 변수를 변경하기 위해 선언\n",
    "    a = 4       # 전역 변수의 값 변경\n",
    "    print(\"[func4] 지역 변수 a = \", a)"
   ]
  },
  {
   "cell_type": "code",
   "execution_count": 157,
   "id": "577ea423",
   "metadata": {},
   "outputs": [
    {
     "name": "stdout",
     "output_type": "stream",
     "text": [
      "[func1] 지역 변수 a =  1\n",
      "[func2] 지역 변수 a =  2\n",
      "전역 변수 a =  5\n"
     ]
    }
   ],
   "source": [
    "func1()   # 함수 func1() 호출\n",
    "func2()   # 함수 func1() 호출\n",
    "print(\"전역 변수 a = \", a)  # 전역 변수 출력"
   ]
  },
  {
   "cell_type": "code",
   "execution_count": 158,
   "id": "efdb1fd3",
   "metadata": {},
   "outputs": [
    {
     "name": "stdout",
     "output_type": "stream",
     "text": [
      "[func3] 지역 변수 a =  5\n",
      "[func4] 지역 변수 a =  4\n",
      "[func3] 지역 변수 a =  4\n"
     ]
    }
   ],
   "source": [
    "func3()   # 함수 func3() 호출 - 기존 전역 변수 출력\n",
    "func4()   # 함수 func4() 호출 - 전역 변수 변경\n",
    "func3()   # 함수 func3() 호출 - 변경된 전역 변수 출력"
   ]
  },
  {
   "cell_type": "code",
   "execution_count": 159,
   "id": "12763d1a",
   "metadata": {},
   "outputs": [
    {
     "data": {
      "text/plain": [
       "9"
      ]
     },
     "execution_count": 159,
     "metadata": {},
     "output_type": "execute_result"
    }
   ],
   "source": [
    "(lambda x : x ** 2) (3)"
   ]
  },
  {
   "cell_type": "code",
   "execution_count": 160,
   "id": "0c80131c",
   "metadata": {},
   "outputs": [
    {
     "data": {
      "text/plain": [
       "144"
      ]
     },
     "execution_count": 160,
     "metadata": {},
     "output_type": "execute_result"
    }
   ],
   "source": [
    "mySquare = lambda x : x ** 2\n",
    "mySquare(12)"
   ]
  },
  {
   "cell_type": "code",
   "execution_count": 161,
   "id": "1f389ffa",
   "metadata": {},
   "outputs": [
    {
     "data": {
      "text/plain": [
       "11"
      ]
     },
     "execution_count": 161,
     "metadata": {},
     "output_type": "execute_result"
    }
   ],
   "source": [
    "mySimpleFunc = lambda x, y, z : 2 * x + 3 * y + z\n",
    "mySimpleFunc(1, 2, 3)"
   ]
  },
  {
   "cell_type": "markdown",
   "id": "0ae622c5",
   "metadata": {},
   "source": [
    "# 출력 방법 알아보기"
   ]
  },
  {
   "cell_type": "markdown",
   "id": "b04c4002",
   "metadata": {},
   "source": [
    "- print(값1, 값2, 값3, ...)\n",
    "- print(변수1, 변수2, 변수3, ...)"
   ]
  },
  {
   "cell_type": "code",
   "execution_count": 170,
   "id": "8c0c22cb",
   "metadata": {},
   "outputs": [
    {
     "name": "stdout",
     "output_type": "stream",
     "text": [
      "1 2 3 4\n"
     ]
    }
   ],
   "source": [
    "print(1, 2, 3, 4)"
   ]
  },
  {
   "cell_type": "code",
   "execution_count": 171,
   "id": "c271d1a8",
   "metadata": {},
   "outputs": [
    {
     "name": "stdout",
     "output_type": "stream",
     "text": [
      "100 100 100 80\n"
     ]
    }
   ],
   "source": [
    "print(k, e, m, s)"
   ]
  },
  {
   "cell_type": "markdown",
   "id": "54cbe57d",
   "metadata": {},
   "source": [
    "- print(값1, 값2, 값3, ..., sep = '문자' 또는 '문자열')\n",
    "- print(변수1, 변수2, 변수3, ..., sep = '문자' 또는 '문자열')"
   ]
  },
  {
   "cell_type": "code",
   "execution_count": 173,
   "id": "9e6c054e",
   "metadata": {},
   "outputs": [
    {
     "name": "stdout",
     "output_type": "stream",
     "text": [
      "1, 2, 3, 4\n"
     ]
    }
   ],
   "source": [
    "print(1, 2, 3, 4, sep = ', ')"
   ]
  },
  {
   "cell_type": "code",
   "execution_count": 175,
   "id": "ced23e94",
   "metadata": {},
   "outputs": [
    {
     "name": "stdout",
     "output_type": "stream",
     "text": [
      "100, 100, 100, 80\n"
     ]
    }
   ],
   "source": [
    "print(k, e, m, s, sep = ', ')"
   ]
  },
  {
   "cell_type": "code",
   "execution_count": 177,
   "id": "046b1d78",
   "metadata": {},
   "outputs": [
    {
     "name": "stdout",
     "output_type": "stream",
     "text": [
      "2 X 3\n"
     ]
    }
   ],
   "source": [
    "print(2, 3 , sep = ' X ')"
   ]
  },
  {
   "cell_type": "code",
   "execution_count": 182,
   "id": "f4ba258c",
   "metadata": {},
   "outputs": [
    {
     "name": "stdout",
     "output_type": "stream",
     "text": [
      "1\n",
      "2\n",
      "3\n",
      "1\t2\t3\n"
     ]
    }
   ],
   "source": [
    "print(1, 2, 3, sep = '\\n')     # 개행문자(\\n)라는 제어문자를 지정하면 줄바꿈이 되어서 출력\n",
    "\n",
    "print(1, 2, 3, sep = '\\t')     # 개행문자(\\t)라는 제어문자를 지정하면 탭이 되어서 출력\n"
   ]
  },
  {
   "cell_type": "markdown",
   "id": "028dca90",
   "metadata": {},
   "source": [
    "- print(값1, 값2, 값3, ..., end = '문자' 또는 '문자열')\n",
    "- print(변수1, 변수2, 변수3, ..., end = '문자' 또는 '문자열')"
   ]
  },
  {
   "cell_type": "code",
   "execution_count": 189,
   "id": "e99b8aef",
   "metadata": {},
   "outputs": [
    {
     "name": "stdout",
     "output_type": "stream",
     "text": [
      "1 2 3 4 \t이히"
     ]
    }
   ],
   "source": [
    "print(1, 2, 3, 4, '\\t', end = '이히')"
   ]
  },
  {
   "cell_type": "code",
   "execution_count": 190,
   "id": "7d974414",
   "metadata": {},
   "outputs": [
    {
     "name": "stdout",
     "output_type": "stream",
     "text": [
      "1 2 3 4\n",
      "5 6 7 8\n"
     ]
    }
   ],
   "source": [
    "print(1, 2, 3, 4)         # 자동으로 \\n 처리가 되도록 되어있다.\n",
    "print(5, 6, 7, 8)"
   ]
  },
  {
   "cell_type": "code",
   "execution_count": 191,
   "id": "5ccc9f76",
   "metadata": {},
   "outputs": [
    {
     "name": "stdout",
     "output_type": "stream",
     "text": [
      "1 2 3 4 5 6 7 8\n"
     ]
    }
   ],
   "source": [
    "print(1, 2, 3, 4, end = ' ')         # 스페이스를 마지막에 붙여줌으로써 바꿔줌\n",
    "print(5, 6, 7, 8)"
   ]
  },
  {
   "cell_type": "markdown",
   "id": "5b933548",
   "metadata": {},
   "source": [
    "# Workshop"
   ]
  },
  {
   "cell_type": "markdown",
   "id": "68bf6c21",
   "metadata": {},
   "source": [
    "**날짜와 시간 출력하기**\n",
    "\n",
    "- 2022/10/17/16:26:06"
   ]
  },
  {
   "cell_type": "code",
   "execution_count": 197,
   "id": "3b33a165",
   "metadata": {},
   "outputs": [
    {
     "name": "stdout",
     "output_type": "stream",
     "text": [
      "2022 / 10 / 17 / 16 : 26 : 06\n"
     ]
    }
   ],
   "source": [
    "print(2022, '/', 10, '/', 17, '/', 16, ':', 26, ':', '06')"
   ]
  },
  {
   "cell_type": "code",
   "execution_count": 198,
   "id": "bf97c2f6",
   "metadata": {},
   "outputs": [
    {
     "name": "stdout",
     "output_type": "stream",
     "text": [
      "2022/10/17/16:26:06\n"
     ]
    }
   ],
   "source": [
    "print('2022/10/17/16:26:06')"
   ]
  },
  {
   "cell_type": "code",
   "execution_count": 199,
   "id": "c275c980",
   "metadata": {},
   "outputs": [],
   "source": [
    "year = 2022\n",
    "month = 10\n",
    "day = 17\n",
    "hour = 16\n",
    "minute = 26\n",
    "second = 6"
   ]
  },
  {
   "cell_type": "code",
   "execution_count": 203,
   "id": "c0857837",
   "metadata": {},
   "outputs": [
    {
     "name": "stdout",
     "output_type": "stream",
     "text": [
      "2022/10/17 16:26:06\n"
     ]
    }
   ],
   "source": [
    "# 날짜\n",
    "print(year, month, day, sep = '/', end = ' ')\n",
    "print(hour, minute, '0%d'% second, sep = ':')"
   ]
  },
  {
   "cell_type": "code",
   "execution_count": 207,
   "id": "0f568639",
   "metadata": {},
   "outputs": [
    {
     "name": "stdout",
     "output_type": "stream",
     "text": [
      "06\n"
     ]
    }
   ],
   "source": [
    "print('%02d'% second)      # 전체 두자리수로 표현하고 남는 자리는 0으로 표현"
   ]
  },
  {
   "cell_type": "markdown",
   "id": "53cdc2a3",
   "metadata": {},
   "source": [
    "# bool 자료형과 비교연산자"
   ]
  },
  {
   "cell_type": "code",
   "execution_count": 208,
   "id": "e88996ca",
   "metadata": {},
   "outputs": [],
   "source": [
    "result = (a == 4)"
   ]
  },
  {
   "cell_type": "code",
   "execution_count": 209,
   "id": "fd0c1a4c",
   "metadata": {},
   "outputs": [
    {
     "data": {
      "text/plain": [
       "(True, bool)"
      ]
     },
     "execution_count": 209,
     "metadata": {},
     "output_type": "execute_result"
    }
   ],
   "source": [
    "result, type(result)"
   ]
  },
  {
   "cell_type": "code",
   "execution_count": 210,
   "id": "157e8b7d",
   "metadata": {},
   "outputs": [
    {
     "data": {
      "text/plain": [
       "True"
      ]
     },
     "execution_count": 210,
     "metadata": {},
     "output_type": "execute_result"
    }
   ],
   "source": [
    "10 != 9"
   ]
  },
  {
   "cell_type": "code",
   "execution_count": 211,
   "id": "f0476c9d",
   "metadata": {},
   "outputs": [
    {
     "data": {
      "text/plain": [
       "False"
      ]
     },
     "execution_count": 211,
     "metadata": {},
     "output_type": "execute_result"
    }
   ],
   "source": [
    "\"Python\" == \"python\""
   ]
  },
  {
   "cell_type": "code",
   "execution_count": 212,
   "id": "a124d126",
   "metadata": {},
   "outputs": [
    {
     "data": {
      "text/plain": [
       "False"
      ]
     },
     "execution_count": 212,
     "metadata": {},
     "output_type": "execute_result"
    }
   ],
   "source": [
    "10 > 20"
   ]
  },
  {
   "cell_type": "code",
   "execution_count": 213,
   "id": "f14921fb",
   "metadata": {},
   "outputs": [
    {
     "data": {
      "text/plain": [
       "True"
      ]
     },
     "execution_count": 213,
     "metadata": {},
     "output_type": "execute_result"
    }
   ],
   "source": [
    "1 == 1.0"
   ]
  },
  {
   "cell_type": "markdown",
   "id": "83c12dae",
   "metadata": {},
   "source": [
    "# 논리 연산자"
   ]
  },
  {
   "cell_type": "code",
   "execution_count": null,
   "id": "62803e0a",
   "metadata": {},
   "outputs": [],
   "source": []
  }
 ],
 "metadata": {
  "kernelspec": {
   "display_name": "Python 3 (ipykernel)",
   "language": "python",
   "name": "python3"
  },
  "language_info": {
   "codemirror_mode": {
    "name": "ipython",
    "version": 3
   },
   "file_extension": ".py",
   "mimetype": "text/x-python",
   "name": "python",
   "nbconvert_exporter": "python",
   "pygments_lexer": "ipython3",
   "version": "3.9.12"
  }
 },
 "nbformat": 4,
 "nbformat_minor": 5
}
