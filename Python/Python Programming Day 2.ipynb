{
 "cells": [
  {
   "cell_type": "markdown",
   "id": "df40532c",
   "metadata": {},
   "source": [
    "# Day 1 review"
   ]
  },
  {
   "cell_type": "markdown",
   "id": "c0157b7d",
   "metadata": {},
   "source": [
    "- split 사용하여 입력값 덧셈\n",
    "- sep = '', end = '' (list value 설정)\n",
    "- bool 연산자와 비교 연산자"
   ]
  },
  {
   "cell_type": "markdown",
   "id": "4087cc22",
   "metadata": {},
   "source": [
    "---"
   ]
  },
  {
   "cell_type": "markdown",
   "id": "870bbe08",
   "metadata": {},
   "source": [
    "# Day 2\n",
    "\n",
    "- and\n",
    "- or\n",
    "- not"
   ]
  },
  {
   "cell_type": "code",
   "execution_count": 1,
   "id": "fe17196e",
   "metadata": {},
   "outputs": [
    {
     "data": {
      "text/plain": [
       "True"
      ]
     },
     "execution_count": 1,
     "metadata": {},
     "output_type": "execute_result"
    }
   ],
   "source": [
    "True and True"
   ]
  },
  {
   "cell_type": "code",
   "execution_count": 2,
   "id": "c5b8ba0e",
   "metadata": {},
   "outputs": [
    {
     "data": {
      "text/plain": [
       "False"
      ]
     },
     "execution_count": 2,
     "metadata": {},
     "output_type": "execute_result"
    }
   ],
   "source": [
    "True and False"
   ]
  },
  {
   "cell_type": "code",
   "execution_count": 4,
   "id": "9ae8638d",
   "metadata": {},
   "outputs": [
    {
     "ename": "NameError",
     "evalue": "name 'true' is not defined",
     "output_type": "error",
     "traceback": [
      "\u001b[1;31m---------------------------------------------------------------------------\u001b[0m",
      "\u001b[1;31mNameError\u001b[0m                                 Traceback (most recent call last)",
      "Input \u001b[1;32mIn [4]\u001b[0m, in \u001b[0;36m<cell line: 1>\u001b[1;34m()\u001b[0m\n\u001b[1;32m----> 1\u001b[0m \u001b[43mtrue\u001b[49m \u001b[38;5;129;01mand\u001b[39;00m false\n",
      "\u001b[1;31mNameError\u001b[0m: name 'true' is not defined"
     ]
    }
   ],
   "source": [
    "true and false      # 첫글자 대문자로 하지 않으면 bool로 판단하지 않음"
   ]
  },
  {
   "cell_type": "code",
   "execution_count": 5,
   "id": "0f6370b1",
   "metadata": {},
   "outputs": [
    {
     "data": {
      "text/plain": [
       "True"
      ]
     },
     "execution_count": 5,
     "metadata": {},
     "output_type": "execute_result"
    }
   ],
   "source": [
    "False or True"
   ]
  },
  {
   "cell_type": "code",
   "execution_count": 7,
   "id": "16f7908d",
   "metadata": {},
   "outputs": [
    {
     "ename": "SyntaxError",
     "evalue": "invalid syntax (2471178479.py, line 1)",
     "output_type": "error",
     "traceback": [
      "\u001b[1;36m  Input \u001b[1;32mIn [7]\u001b[1;36m\u001b[0m\n\u001b[1;33m    Not True\u001b[0m\n\u001b[1;37m        ^\u001b[0m\n\u001b[1;31mSyntaxError\u001b[0m\u001b[1;31m:\u001b[0m invalid syntax\n"
     ]
    }
   ],
   "source": [
    "Not True        # 논리 연산자는 모두 소문자로"
   ]
  },
  {
   "cell_type": "code",
   "execution_count": 8,
   "id": "f5aee9bb",
   "metadata": {},
   "outputs": [
    {
     "data": {
      "text/plain": [
       "False"
      ]
     },
     "execution_count": 8,
     "metadata": {},
     "output_type": "execute_result"
    }
   ],
   "source": [
    "not True"
   ]
  },
  {
   "cell_type": "markdown",
   "id": "9c04608d",
   "metadata": {},
   "source": [
    "# 비교 연산자와 논리 연산자를 함께 사용"
   ]
  },
  {
   "cell_type": "code",
   "execution_count": 9,
   "id": "9fcd9972",
   "metadata": {},
   "outputs": [
    {
     "data": {
      "text/plain": [
       "True"
      ]
     },
     "execution_count": 9,
     "metadata": {},
     "output_type": "execute_result"
    }
   ],
   "source": [
    "10 == 10"
   ]
  },
  {
   "cell_type": "code",
   "execution_count": 11,
   "id": "57bbecd3",
   "metadata": {},
   "outputs": [
    {
     "data": {
      "text/plain": [
       "True"
      ]
     },
     "execution_count": 11,
     "metadata": {},
     "output_type": "execute_result"
    }
   ],
   "source": [
    "10 != 5"
   ]
  },
  {
   "cell_type": "code",
   "execution_count": 12,
   "id": "8146c1f8",
   "metadata": {},
   "outputs": [
    {
     "data": {
      "text/plain": [
       "True"
      ]
     },
     "execution_count": 12,
     "metadata": {},
     "output_type": "execute_result"
    }
   ],
   "source": [
    "10 == 10 and 10 != 5"
   ]
  },
  {
   "cell_type": "code",
   "execution_count": 13,
   "id": "2bc5cbe0",
   "metadata": {},
   "outputs": [
    {
     "data": {
      "text/plain": [
       "False"
      ]
     },
     "execution_count": 13,
     "metadata": {},
     "output_type": "execute_result"
    }
   ],
   "source": [
    "10 == 10 and 10 == 5"
   ]
  },
  {
   "cell_type": "code",
   "execution_count": 19,
   "id": "f3dddfc0",
   "metadata": {},
   "outputs": [
    {
     "name": "stdout",
     "output_type": "stream",
     "text": [
      "1\n",
      "1.0\n",
      "1\n"
     ]
    }
   ],
   "source": [
    "# 자료형 변환\n",
    "\n",
    "print(int(1.5))\n",
    "print(float(1))\n",
    "print(str(1))"
   ]
  },
  {
   "cell_type": "code",
   "execution_count": 20,
   "id": "0e8c318d",
   "metadata": {},
   "outputs": [
    {
     "data": {
      "text/plain": [
       "True"
      ]
     },
     "execution_count": 20,
     "metadata": {},
     "output_type": "execute_result"
    }
   ],
   "source": [
    "bool(1)"
   ]
  },
  {
   "cell_type": "code",
   "execution_count": 21,
   "id": "716d6bad",
   "metadata": {},
   "outputs": [
    {
     "data": {
      "text/plain": [
       "False"
      ]
     },
     "execution_count": 21,
     "metadata": {},
     "output_type": "execute_result"
    }
   ],
   "source": [
    "bool(0)"
   ]
  },
  {
   "cell_type": "markdown",
   "id": "450a6cb9",
   "metadata": {},
   "source": [
    "# Workshop"
   ]
  },
  {
   "cell_type": "code",
   "execution_count": 27,
   "id": "f1024605",
   "metadata": {},
   "outputs": [
    {
     "name": "stdout",
     "output_type": "stream",
     "text": [
      "각 과목의 점수를 입력하세요: 100 100 100 40\n"
     ]
    },
    {
     "data": {
      "text/plain": [
       "False"
      ]
     },
     "execution_count": 27,
     "metadata": {},
     "output_type": "execute_result"
    }
   ],
   "source": [
    "k, e, m, s = map(int, input(\"각 과목의 점수를 입력하세요: \").split())\n",
    "k >= 50 and e >= 50 and m >= 50 and s >= 50"
   ]
  },
  {
   "cell_type": "code",
   "execution_count": 2,
   "id": "665e2926",
   "metadata": {},
   "outputs": [],
   "source": [
    "Korean = 92\n",
    "English = 95\n",
    "Mathmatics = 30\n",
    "Science = 90"
   ]
  },
  {
   "cell_type": "code",
   "execution_count": 30,
   "id": "171197b6",
   "metadata": {},
   "outputs": [
    {
     "name": "stdout",
     "output_type": "stream",
     "text": [
      "False\n"
     ]
    }
   ],
   "source": [
    "print(Korean >= 50 and English >= 50 and Mathmatics >= 50 and Science >= 50)"
   ]
  },
  {
   "cell_type": "code",
   "execution_count": 32,
   "id": "080013dc",
   "metadata": {},
   "outputs": [
    {
     "data": {
      "text/plain": [
       "False"
      ]
     },
     "execution_count": 32,
     "metadata": {},
     "output_type": "execute_result"
    }
   ],
   "source": [
    "not(Korean < 50 or English < 50 or Mathmatics < 50 or Science < 50)"
   ]
  },
  {
   "cell_type": "markdown",
   "id": "18f66df7",
   "metadata": {},
   "source": [
    "- all(), any()"
   ]
  },
  {
   "cell_type": "code",
   "execution_count": null,
   "id": "5624bd14",
   "metadata": {},
   "outputs": [],
   "source": [
    "all(______)  # 모두가 True이어야 한다.\n",
    "\n",
    "any(______)  # 하나라도 False면 False로 출력한다."
   ]
  },
  {
   "cell_type": "code",
   "execution_count": 4,
   "id": "cc5c7786",
   "metadata": {},
   "outputs": [],
   "source": [
    "is_pass = [Korean >= 50, English >= 50, Mathmatics >= 50, Science >= 50]"
   ]
  },
  {
   "cell_type": "code",
   "execution_count": 5,
   "id": "8a6e038a",
   "metadata": {},
   "outputs": [
    {
     "data": {
      "text/plain": [
       "False"
      ]
     },
     "execution_count": 5,
     "metadata": {},
     "output_type": "execute_result"
    }
   ],
   "source": [
    "all(is_pass)"
   ]
  },
  {
   "cell_type": "code",
   "execution_count": 7,
   "id": "d028fcde",
   "metadata": {},
   "outputs": [],
   "source": [
    "is_fail = [Korean < 50, English < 50, Mathmatics < 50, Science < 50]"
   ]
  },
  {
   "cell_type": "code",
   "execution_count": 8,
   "id": "314bee7c",
   "metadata": {},
   "outputs": [
    {
     "data": {
      "text/plain": [
       "[False, False, True, False]"
      ]
     },
     "execution_count": 8,
     "metadata": {},
     "output_type": "execute_result"
    }
   ],
   "source": [
    "is_fail"
   ]
  },
  {
   "cell_type": "code",
   "execution_count": 9,
   "id": "e74cf9a7",
   "metadata": {},
   "outputs": [
    {
     "data": {
      "text/plain": [
       "False"
      ]
     },
     "execution_count": 9,
     "metadata": {},
     "output_type": "execute_result"
    }
   ],
   "source": [
    "not(any(is_fail))"
   ]
  },
  {
   "cell_type": "markdown",
   "id": "46951e5c",
   "metadata": {},
   "source": [
    "### 3개의 과일에 벌레 5마리 이상 발견되면 폐기처리"
   ]
  },
  {
   "cell_type": "code",
   "execution_count": 21,
   "id": "232e862f",
   "metadata": {},
   "outputs": [
    {
     "name": "stdout",
     "output_type": "stream",
     "text": [
      "과일의 벌레수를 입력해주세요: 4 6 6\n",
      "a과일 적합\n",
      "b과일 폐기처리\n",
      "c과일 폐기처리\n"
     ]
    }
   ],
   "source": [
    "a, b, c = map(int, input(\"과일의 벌레수를 입력해주세요: \").split())\n",
    "if(a >= 5):\n",
    "    print(\"a과일 폐기처리\")\n",
    "else:\n",
    "    print(\"a과일 적합\")\n",
    "if(b >= 5):\n",
    "    print(\"b과일 폐기처리\")\n",
    "else:\n",
    "    print(\"b과일 적합\")\n",
    "if(c >= 5):\n",
    "    print(\"c과일 폐기처리\")\n",
    "else:\n",
    "    print(\"c과일 적합\")"
   ]
  },
  {
   "cell_type": "markdown",
   "id": "d48b52d8",
   "metadata": {},
   "source": [
    "### 일주일 간 평균기온 구하기"
   ]
  },
  {
   "cell_type": "code",
   "execution_count": 112,
   "id": "460c8f3b",
   "metadata": {},
   "outputs": [
    {
     "name": "stdout",
     "output_type": "stream",
     "text": [
      "각 요일의 기온을 입력해주세요. 단위는 drgree celsius: 2 2 43 1 2 2 3\n",
      "7\n"
     ]
    }
   ],
   "source": [
    "su, mo, tu, we, th, fi, sa = map(int, input(\"각 요일의 기온을 입력해주세요. 단위는 drgree celsius: \").split())\n",
    "average_temperature = (su + mo + tu + we + th + fi + sa) / 7\n",
    "print(int(average_temperature))"
   ]
  },
  {
   "cell_type": "markdown",
   "id": "ce26f360",
   "metadata": {},
   "source": [
    "# 문자열 사용하기"
   ]
  },
  {
   "cell_type": "code",
   "execution_count": 28,
   "id": "bf73ed85",
   "metadata": {},
   "outputs": [
    {
     "name": "stdout",
     "output_type": "stream",
     "text": [
      "<class 'str'>\n",
      "<class 'str'>\n",
      "<class 'str'>\n",
      "<class 'str'>\n"
     ]
    }
   ],
   "source": [
    "s1 = 'hello'\n",
    "s2 = \"hello\"\n",
    "s3 = '''hello'''\n",
    "s4 = \"\"\"hello\"\"\"\n",
    "print(type(s1))\n",
    "print(type(s2))\n",
    "print(type(s3))\n",
    "print(type(s4))"
   ]
  },
  {
   "cell_type": "code",
   "execution_count": 30,
   "id": "83e42dd9",
   "metadata": {},
   "outputs": [
    {
     "name": "stdout",
     "output_type": "stream",
     "text": [
      "hello hello hello hello\n"
     ]
    }
   ],
   "source": [
    "print(s1, s2, s3, s4)"
   ]
  },
  {
   "cell_type": "code",
   "execution_count": 32,
   "id": "1ee64670",
   "metadata": {},
   "outputs": [],
   "source": [
    "hello \"python\"을 출력"
   ]
  },
  {
   "cell_type": "code",
   "execution_count": 34,
   "id": "201c9709",
   "metadata": {},
   "outputs": [
    {
     "data": {
      "text/plain": [
       "str"
      ]
     },
     "execution_count": 34,
     "metadata": {},
     "output_type": "execute_result"
    }
   ],
   "source": [
    "s1 = 'hello \"python\"'\n",
    "type(s1)"
   ]
  },
  {
   "cell_type": "code",
   "execution_count": 35,
   "id": "0d1fb8f4",
   "metadata": {},
   "outputs": [
    {
     "name": "stdout",
     "output_type": "stream",
     "text": [
      "hello \"python\"\n"
     ]
    }
   ],
   "source": [
    "print(s1)"
   ]
  },
  {
   "cell_type": "code",
   "execution_count": null,
   "id": "8c9ae7be",
   "metadata": {},
   "outputs": [],
   "source": [
    "hello 'python'을 출력"
   ]
  },
  {
   "cell_type": "code",
   "execution_count": 36,
   "id": "385f20f0",
   "metadata": {},
   "outputs": [],
   "source": [
    "s2 = \"hello 'python'\""
   ]
  },
  {
   "cell_type": "code",
   "execution_count": 37,
   "id": "d618cbff",
   "metadata": {},
   "outputs": [
    {
     "name": "stdout",
     "output_type": "stream",
     "text": [
      "hello 'python'\n"
     ]
    }
   ],
   "source": [
    "print(s2)"
   ]
  },
  {
   "cell_type": "code",
   "execution_count": 39,
   "id": "2b9f8f01",
   "metadata": {},
   "outputs": [],
   "source": [
    "s3 = \"\"\"hello \"python\" \"\"\"      # 띄어쓰기 한 칸 필요하다"
   ]
  },
  {
   "cell_type": "code",
   "execution_count": 38,
   "id": "45ed4392",
   "metadata": {},
   "outputs": [],
   "source": [
    "s4 = '''hello 'python' '''      # 띄어쓰기 한 칸 필요하다"
   ]
  },
  {
   "cell_type": "code",
   "execution_count": 41,
   "id": "6307f091",
   "metadata": {},
   "outputs": [
    {
     "name": "stdout",
     "output_type": "stream",
     "text": [
      "hello \"python\" \n"
     ]
    }
   ],
   "source": [
    "print(s3)"
   ]
  },
  {
   "cell_type": "code",
   "execution_count": 42,
   "id": "43c719e1",
   "metadata": {},
   "outputs": [
    {
     "name": "stdout",
     "output_type": "stream",
     "text": [
      "hello 'python' \n"
     ]
    }
   ],
   "source": [
    "print(s4)"
   ]
  },
  {
   "cell_type": "code",
   "execution_count": null,
   "id": "3fef1ac4",
   "metadata": {},
   "outputs": [],
   "source": [
    "here is\n",
    "python world\n",
    "it is\n",
    "real!!!"
   ]
  },
  {
   "cell_type": "code",
   "execution_count": 44,
   "id": "5b8c0c84",
   "metadata": {},
   "outputs": [
    {
     "name": "stdout",
     "output_type": "stream",
     "text": [
      "here is\n",
      "python world\n",
      "it is\n",
      "real!!!\n"
     ]
    }
   ],
   "source": [
    "s5 = '''here is\n",
    "python world\n",
    "it is\n",
    "real!!!'''\n",
    "print(s5)                # ''' '''은 만능이라고 생각할 수 있다."
   ]
  },
  {
   "cell_type": "code",
   "execution_count": 45,
   "id": "081735f7",
   "metadata": {},
   "outputs": [
    {
     "name": "stdout",
     "output_type": "stream",
     "text": [
      "here is\n",
      "python world\n",
      "it is\n",
      "real!!!\n"
     ]
    }
   ],
   "source": [
    "s6 = \"\"\"here is\n",
    "python world\n",
    "it is\n",
    "real!!!\"\"\"\n",
    "print(s6)                # \"\"\" \"\"\"도 만능이라고 생각할 수 있다."
   ]
  },
  {
   "cell_type": "code",
   "execution_count": 47,
   "id": "e07e3153",
   "metadata": {},
   "outputs": [
    {
     "data": {
      "text/plain": [
       "3"
      ]
     },
     "execution_count": 47,
     "metadata": {},
     "output_type": "execute_result"
    }
   ],
   "source": [
    "s6.count('i')      # 입력값이 몇 개인지 세어주는 메서드"
   ]
  },
  {
   "cell_type": "code",
   "execution_count": 48,
   "id": "909ad682",
   "metadata": {},
   "outputs": [
    {
     "data": {
      "text/plain": [
       "3"
      ]
     },
     "execution_count": 48,
     "metadata": {},
     "output_type": "execute_result"
    }
   ],
   "source": [
    "s6.count('\\n')"
   ]
  },
  {
   "cell_type": "code",
   "execution_count": 49,
   "id": "2aed4b2d",
   "metadata": {},
   "outputs": [
    {
     "data": {
      "text/plain": [
       "3"
      ]
     },
     "execution_count": 49,
     "metadata": {},
     "output_type": "execute_result"
    }
   ],
   "source": [
    "s6.count('!')"
   ]
  },
  {
   "cell_type": "code",
   "execution_count": null,
   "id": "23eb83a0",
   "metadata": {},
   "outputs": [],
   "source": [
    "hello 'python'"
   ]
  },
  {
   "cell_type": "code",
   "execution_count": 50,
   "id": "a525a8a0",
   "metadata": {},
   "outputs": [],
   "source": [
    "s7 = 'hello \\'python\\''          # \\은 escaping이라고 하며 따로 구분해주는 역할을 한다."
   ]
  },
  {
   "cell_type": "code",
   "execution_count": 51,
   "id": "ee662c45",
   "metadata": {},
   "outputs": [
    {
     "data": {
      "text/plain": [
       "\"hello 'python'\""
      ]
     },
     "execution_count": 51,
     "metadata": {},
     "output_type": "execute_result"
    }
   ],
   "source": [
    "s7"
   ]
  },
  {
   "cell_type": "markdown",
   "id": "4ce0cc7b",
   "metadata": {},
   "source": [
    "# Workshop"
   ]
  },
  {
   "cell_type": "code",
   "execution_count": 54,
   "id": "4b15bfbe",
   "metadata": {},
   "outputs": [],
   "source": [
    "s = ''''python' is a \"programming language\"\n",
    "that lets you work quickly\n",
    "and\n",
    "integrate systems more effectively.'''"
   ]
  },
  {
   "cell_type": "code",
   "execution_count": 56,
   "id": "7952d8a2",
   "metadata": {},
   "outputs": [
    {
     "name": "stdout",
     "output_type": "stream",
     "text": [
      "'python' is a \"programming language\"\n",
      "that lets you work quickly\n",
      "and\n",
      "integrate systems more effectively.\n"
     ]
    }
   ],
   "source": [
    "print(s)"
   ]
  },
  {
   "cell_type": "markdown",
   "id": "19b2c28e",
   "metadata": {},
   "source": [
    "# list and tuple"
   ]
  },
  {
   "cell_type": "markdown",
   "id": "5b1abca7",
   "metadata": {},
   "source": [
    "- list = [value, value, value, ...]  \n",
    "#### 대괄호로 묶어줌"
   ]
  },
  {
   "cell_type": "code",
   "execution_count": null,
   "id": "baca906b",
   "metadata": {},
   "outputs": [],
   "source": [
    "programming_scores = [학생 1의 점수, 학생 2의 점수, ...]\n",
    "철수의 점수 = [파이썬 점수, 자바 점수, C 점수, C++ 점수, veilog 점수, ...]"
   ]
  },
  {
   "cell_type": "code",
   "execution_count": 58,
   "id": "de4e9a9d",
   "metadata": {},
   "outputs": [],
   "source": [
    "scores = [90, 95, 100, 100, 90, 95]"
   ]
  },
  {
   "cell_type": "code",
   "execution_count": 59,
   "id": "e9104ecd",
   "metadata": {},
   "outputs": [
    {
     "data": {
      "text/plain": [
       "[90, 95, 100, 100, 90, 95]"
      ]
     },
     "execution_count": 59,
     "metadata": {},
     "output_type": "execute_result"
    }
   ],
   "source": [
    "scores"
   ]
  },
  {
   "cell_type": "code",
   "execution_count": 60,
   "id": "9a337e7c",
   "metadata": {},
   "outputs": [
    {
     "data": {
      "text/plain": [
       "list"
      ]
     },
     "execution_count": 60,
     "metadata": {},
     "output_type": "execute_result"
    }
   ],
   "source": [
    "type(scores)"
   ]
  },
  {
   "cell_type": "code",
   "execution_count": null,
   "id": "a663b27b",
   "metadata": {},
   "outputs": [],
   "source": [
    "person = [name, age, height, weight]"
   ]
  },
  {
   "cell_type": "code",
   "execution_count": 61,
   "id": "c5f705e1",
   "metadata": {},
   "outputs": [
    {
     "data": {
      "text/plain": [
       "['UGeun', 25, 178, 70]"
      ]
     },
     "execution_count": 61,
     "metadata": {},
     "output_type": "execute_result"
    }
   ],
   "source": [
    "person1 = [\"UGeun\", 25, 178, 70]\n",
    "person1"
   ]
  },
  {
   "cell_type": "markdown",
   "id": "1934b6cb",
   "metadata": {},
   "source": [
    "**빈 리스트 만들기**\n",
    "- 리스트 = []\n",
    "- 리스트 = list()"
   ]
  },
  {
   "cell_type": "code",
   "execution_count": 62,
   "id": "d130ba05",
   "metadata": {},
   "outputs": [
    {
     "data": {
      "text/plain": [
       "[]"
      ]
     },
     "execution_count": 62,
     "metadata": {},
     "output_type": "execute_result"
    }
   ],
   "source": [
    "empty_list1 = []\n",
    "empty_list1"
   ]
  },
  {
   "cell_type": "code",
   "execution_count": 63,
   "id": "dcca1bf9",
   "metadata": {},
   "outputs": [
    {
     "data": {
      "text/plain": [
       "[]"
      ]
     },
     "execution_count": 63,
     "metadata": {},
     "output_type": "execute_result"
    }
   ],
   "source": [
    "empty_list2 = list()\n",
    "empty_list2"
   ]
  },
  {
   "cell_type": "markdown",
   "id": "00935f04",
   "metadata": {},
   "source": [
    "- range(횟수)"
   ]
  },
  {
   "cell_type": "code",
   "execution_count": 65,
   "id": "77aeaa61",
   "metadata": {},
   "outputs": [
    {
     "data": {
      "text/plain": [
       "range(0, 10)"
      ]
     },
     "execution_count": 65,
     "metadata": {},
     "output_type": "execute_result"
    }
   ],
   "source": [
    "range(10)"
   ]
  },
  {
   "cell_type": "code",
   "execution_count": 68,
   "id": "b4c43e61",
   "metadata": {},
   "outputs": [
    {
     "data": {
      "text/plain": [
       "[0, 1, 2, 3, 4, 5, 6, 7, 8, 9]"
      ]
     },
     "execution_count": 68,
     "metadata": {},
     "output_type": "execute_result"
    }
   ],
   "source": [
    "a = list(range(10))\n",
    "a"
   ]
  },
  {
   "cell_type": "markdown",
   "id": "6a6cf715",
   "metadata": {},
   "source": [
    "- range(시작, 끝)"
   ]
  },
  {
   "cell_type": "code",
   "execution_count": 69,
   "id": "a7d3c92b",
   "metadata": {},
   "outputs": [
    {
     "data": {
      "text/plain": [
       "[2, 3, 4, 5, 6, 7]"
      ]
     },
     "execution_count": 69,
     "metadata": {},
     "output_type": "execute_result"
    }
   ],
   "source": [
    "b = list(range(2, 8))\n",
    "b"
   ]
  },
  {
   "cell_type": "code",
   "execution_count": 70,
   "id": "80e79a90",
   "metadata": {},
   "outputs": [
    {
     "name": "stdout",
     "output_type": "stream",
     "text": [
      "[0, 1, 2, 3, 4, 5, 6, 7, 8, 9]\n",
      "[2, 3, 4, 5, 6, 7]\n"
     ]
    }
   ],
   "source": [
    "print(a)\n",
    "print(b)"
   ]
  },
  {
   "cell_type": "markdown",
   "id": "af1c537e",
   "metadata": {},
   "source": [
    "- range(시작, 끝, 증가폭)"
   ]
  },
  {
   "cell_type": "code",
   "execution_count": 71,
   "id": "78b4abcc",
   "metadata": {},
   "outputs": [
    {
     "data": {
      "text/plain": [
       "[2, 4, 6]"
      ]
     },
     "execution_count": 71,
     "metadata": {},
     "output_type": "execute_result"
    }
   ],
   "source": [
    "c = list(range(2, 8, 2))\n",
    "c"
   ]
  },
  {
   "cell_type": "code",
   "execution_count": 72,
   "id": "a94aaae8",
   "metadata": {},
   "outputs": [
    {
     "data": {
      "text/plain": [
       "[8, 7, 6, 5, 4, 3]"
      ]
     },
     "execution_count": 72,
     "metadata": {},
     "output_type": "execute_result"
    }
   ],
   "source": [
    "d = list(range(8, 2, -1))\n",
    "d"
   ]
  },
  {
   "cell_type": "markdown",
   "id": "59ee3c30",
   "metadata": {},
   "source": [
    "- list = (value, value, value, ...)\n",
    "#### 소괄호로 묶어줌"
   ]
  },
  {
   "cell_type": "markdown",
   "id": "3c43bcb9",
   "metadata": {},
   "source": [
    "- 튜플 = (값, 값, 값, ...)\n",
    "- 튜플 = 값, 값, 값, ..."
   ]
  },
  {
   "cell_type": "code",
   "execution_count": 74,
   "id": "6ab41109",
   "metadata": {},
   "outputs": [
    {
     "data": {
      "text/plain": [
       "(1, 2, 3, 4)"
      ]
     },
     "execution_count": 74,
     "metadata": {},
     "output_type": "execute_result"
    }
   ],
   "source": [
    "a = (1, 2, 3, 4)\n",
    "a"
   ]
  },
  {
   "cell_type": "code",
   "execution_count": 75,
   "id": "a28fc38e",
   "metadata": {},
   "outputs": [
    {
     "data": {
      "text/plain": [
       "tuple"
      ]
     },
     "execution_count": 75,
     "metadata": {},
     "output_type": "execute_result"
    }
   ],
   "source": [
    "type(a)"
   ]
  },
  {
   "cell_type": "code",
   "execution_count": 76,
   "id": "d3c2bd03",
   "metadata": {},
   "outputs": [],
   "source": [
    "b = 1, 2, 3, 4"
   ]
  },
  {
   "cell_type": "code",
   "execution_count": 77,
   "id": "e273043c",
   "metadata": {},
   "outputs": [
    {
     "data": {
      "text/plain": [
       "(1, 2, 3, 4)"
      ]
     },
     "execution_count": 77,
     "metadata": {},
     "output_type": "execute_result"
    }
   ],
   "source": [
    "b"
   ]
  },
  {
   "cell_type": "code",
   "execution_count": 78,
   "id": "f5644549",
   "metadata": {},
   "outputs": [
    {
     "data": {
      "text/plain": [
       "tuple"
      ]
     },
     "execution_count": 78,
     "metadata": {},
     "output_type": "execute_result"
    }
   ],
   "source": [
    "type(b)"
   ]
  },
  {
   "cell_type": "code",
   "execution_count": null,
   "id": "9e0ede6d",
   "metadata": {},
   "outputs": [],
   "source": [
    "c = (1,)     # 원소가 하나인 tuple을 생성하고 싶다면 ,(comma)를 찍어줘야 한다."
   ]
  },
  {
   "cell_type": "markdown",
   "id": "0e65b527",
   "metadata": {},
   "source": [
    "- tuple1 = tuple(range(times))"
   ]
  },
  {
   "cell_type": "code",
   "execution_count": 79,
   "id": "a16efe40",
   "metadata": {},
   "outputs": [
    {
     "data": {
      "text/plain": [
       "(0, 1, 2, 3, 4, 5, 6, 7, 8, 9)"
      ]
     },
     "execution_count": 79,
     "metadata": {},
     "output_type": "execute_result"
    }
   ],
   "source": [
    "a = tuple(range(10))\n",
    "a"
   ]
  },
  {
   "cell_type": "markdown",
   "id": "9f9fcd8a",
   "metadata": {},
   "source": [
    "- tuple1 = tuple(range(start, end))\n",
    "- tuple1 = tuple(range(start, end, interval))"
   ]
  },
  {
   "cell_type": "code",
   "execution_count": 81,
   "id": "8abc3c35",
   "metadata": {},
   "outputs": [
    {
     "data": {
      "text/plain": [
       "(1, 2, 3, 4, 5, 6, 7, 8, 9, 10, 11, 12, 13, 14)"
      ]
     },
     "execution_count": 81,
     "metadata": {},
     "output_type": "execute_result"
    }
   ],
   "source": [
    "b = tuple(range(1, 15))\n",
    "b"
   ]
  },
  {
   "cell_type": "code",
   "execution_count": 82,
   "id": "b3103703",
   "metadata": {},
   "outputs": [],
   "source": [
    "c = tuple(range(1, 15, 3))"
   ]
  },
  {
   "cell_type": "code",
   "execution_count": 83,
   "id": "cccb13dd",
   "metadata": {},
   "outputs": [
    {
     "data": {
      "text/plain": [
       "(1, 4, 7, 10, 13)"
      ]
     },
     "execution_count": 83,
     "metadata": {},
     "output_type": "execute_result"
    }
   ],
   "source": [
    "c"
   ]
  },
  {
   "cell_type": "code",
   "execution_count": 84,
   "id": "1be555b1",
   "metadata": {},
   "outputs": [
    {
     "data": {
      "text/plain": [
       "5"
      ]
     },
     "execution_count": 84,
     "metadata": {},
     "output_type": "execute_result"
    }
   ],
   "source": [
    "int(5.3)"
   ]
  },
  {
   "cell_type": "code",
   "execution_count": 85,
   "id": "769400f1",
   "metadata": {},
   "outputs": [
    {
     "data": {
      "text/plain": [
       "5.0"
      ]
     },
     "execution_count": 85,
     "metadata": {},
     "output_type": "execute_result"
    }
   ],
   "source": [
    "float(5)"
   ]
  },
  {
   "cell_type": "markdown",
   "id": "211a0f9e",
   "metadata": {},
   "source": [
    "# list to tuple and tuple to list"
   ]
  },
  {
   "cell_type": "code",
   "execution_count": 86,
   "id": "e088f451",
   "metadata": {},
   "outputs": [],
   "source": [
    "list_a = list(a)"
   ]
  },
  {
   "cell_type": "code",
   "execution_count": 90,
   "id": "208b1b14",
   "metadata": {},
   "outputs": [
    {
     "data": {
      "text/plain": [
       "[0, 1, 2, 3, 4, 5, 6, 7, 8, 9]"
      ]
     },
     "execution_count": 90,
     "metadata": {},
     "output_type": "execute_result"
    }
   ],
   "source": [
    "list_a"
   ]
  },
  {
   "cell_type": "code",
   "execution_count": 91,
   "id": "22d3b2a7",
   "metadata": {},
   "outputs": [],
   "source": [
    "tuple_a = tuple(a)"
   ]
  },
  {
   "cell_type": "code",
   "execution_count": 92,
   "id": "0702c497",
   "metadata": {},
   "outputs": [
    {
     "data": {
      "text/plain": [
       "(0, 1, 2, 3, 4, 5, 6, 7, 8, 9)"
      ]
     },
     "execution_count": 92,
     "metadata": {},
     "output_type": "execute_result"
    }
   ],
   "source": [
    "tuple_a"
   ]
  },
  {
   "cell_type": "markdown",
   "id": "cb0648a4",
   "metadata": {},
   "source": [
    "# Workshop"
   ]
  },
  {
   "cell_type": "code",
   "execution_count": 97,
   "id": "2e008fc0",
   "metadata": {},
   "outputs": [
    {
     "data": {
      "text/plain": [
       "[5, 3, 1, -1, -3, -5, -7, -9]"
      ]
     },
     "execution_count": 97,
     "metadata": {},
     "output_type": "execute_result"
    }
   ],
   "source": [
    "list_1 = list(range(5, -10, -2))\n",
    "list_1"
   ]
  },
  {
   "cell_type": "code",
   "execution_count": 108,
   "id": "11a64b62",
   "metadata": {},
   "outputs": [
    {
     "name": "stdout",
     "output_type": "stream",
     "text": [
      "2\n"
     ]
    },
    {
     "data": {
      "text/plain": [
       "(-10, -8, -6, -4, -2, 0, 2, 4, 6, 8)"
      ]
     },
     "execution_count": 108,
     "metadata": {},
     "output_type": "execute_result"
    }
   ],
   "source": [
    "a = int(input())\n",
    "tuple_1 = tuple(range(-10, 10, a))\n",
    "tuple_1"
   ]
  },
  {
   "cell_type": "code",
   "execution_count": 113,
   "id": "4f99e432",
   "metadata": {},
   "outputs": [
    {
     "name": "stdout",
     "output_type": "stream",
     "text": [
      "2\n",
      "(-10, -8, -6, -4, -2, 0, 2, 4, 6, 8)\n"
     ]
    }
   ],
   "source": [
    "step = int(input())\n",
    "print(tuple(range(-10, 10, step)))"
   ]
  },
  {
   "cell_type": "markdown",
   "id": "5fc2c441",
   "metadata": {},
   "source": [
    "# 시퀀스 자료형 활용하기"
   ]
  },
  {
   "cell_type": "markdown",
   "id": "5082c1f1",
   "metadata": {},
   "source": [
    "- 시퀀스 자료형: list, tuple range, str"
   ]
  },
  {
   "cell_type": "markdown",
   "id": "d0be4c9e",
   "metadata": {},
   "source": [
    "- value in sequence object"
   ]
  },
  {
   "cell_type": "code",
   "execution_count": 114,
   "id": "2e830b52",
   "metadata": {},
   "outputs": [
    {
     "data": {
      "text/plain": [
       "True"
      ]
     },
     "execution_count": 114,
     "metadata": {},
     "output_type": "execute_result"
    }
   ],
   "source": [
    "a = [1, 2, 3, 4, 5]\n",
    "1 in a"
   ]
  },
  {
   "cell_type": "code",
   "execution_count": 115,
   "id": "e59e8eb3",
   "metadata": {},
   "outputs": [
    {
     "data": {
      "text/plain": [
       "False"
      ]
     },
     "execution_count": 115,
     "metadata": {},
     "output_type": "execute_result"
    }
   ],
   "source": [
    "10 in a"
   ]
  },
  {
   "cell_type": "code",
   "execution_count": 116,
   "id": "4ce5d562",
   "metadata": {},
   "outputs": [
    {
     "data": {
      "text/plain": [
       "True"
      ]
     },
     "execution_count": 116,
     "metadata": {},
     "output_type": "execute_result"
    }
   ],
   "source": [
    "10 not in a"
   ]
  },
  {
   "cell_type": "code",
   "execution_count": 117,
   "id": "2663bbd8",
   "metadata": {},
   "outputs": [
    {
     "data": {
      "text/plain": [
       "False"
      ]
     },
     "execution_count": 117,
     "metadata": {},
     "output_type": "execute_result"
    }
   ],
   "source": [
    "b = (1, 2, 3, 4, 5)\n",
    "10 in b"
   ]
  },
  {
   "cell_type": "code",
   "execution_count": 118,
   "id": "ca5df42e",
   "metadata": {},
   "outputs": [
    {
     "data": {
      "text/plain": [
       "True"
      ]
     },
     "execution_count": 118,
     "metadata": {},
     "output_type": "execute_result"
    }
   ],
   "source": [
    "c = \"Hello\"\n",
    "'H' in c"
   ]
  },
  {
   "cell_type": "code",
   "execution_count": 120,
   "id": "b7a26e3b",
   "metadata": {},
   "outputs": [
    {
     "data": {
      "text/plain": [
       "False"
      ]
     },
     "execution_count": 120,
     "metadata": {},
     "output_type": "execute_result"
    }
   ],
   "source": [
    " 'h' in c         # 대소문자 구분"
   ]
  },
  {
   "cell_type": "code",
   "execution_count": 123,
   "id": "a9aab7dc",
   "metadata": {},
   "outputs": [
    {
     "data": {
      "text/plain": [
       "range(0, 10)"
      ]
     },
     "execution_count": 123,
     "metadata": {},
     "output_type": "execute_result"
    }
   ],
   "source": [
    "range(10)"
   ]
  },
  {
   "cell_type": "code",
   "execution_count": 124,
   "id": "71f8ccde",
   "metadata": {},
   "outputs": [
    {
     "data": {
      "text/plain": [
       "True"
      ]
     },
     "execution_count": 124,
     "metadata": {},
     "output_type": "execute_result"
    }
   ],
   "source": [
    "1 in range(10)"
   ]
  },
  {
   "cell_type": "code",
   "execution_count": 125,
   "id": "25d62104",
   "metadata": {},
   "outputs": [
    {
     "data": {
      "text/plain": [
       "False"
      ]
     },
     "execution_count": 125,
     "metadata": {},
     "output_type": "execute_result"
    }
   ],
   "source": [
    "10 in range(10)"
   ]
  },
  {
   "cell_type": "markdown",
   "id": "2657c12a",
   "metadata": {},
   "source": [
    "- sequence object1 + sequence object2"
   ]
  },
  {
   "cell_type": "code",
   "execution_count": 126,
   "id": "ffcffa77",
   "metadata": {},
   "outputs": [],
   "source": [
    "a = [1, 2, 3, 4, 5]\n",
    "b = [6, 7, 8, 9, 10]"
   ]
  },
  {
   "cell_type": "code",
   "execution_count": 127,
   "id": "e1d9b470",
   "metadata": {},
   "outputs": [
    {
     "data": {
      "text/plain": [
       "[1, 2, 3, 4, 5, 6, 7, 8, 9, 10]"
      ]
     },
     "execution_count": 127,
     "metadata": {},
     "output_type": "execute_result"
    }
   ],
   "source": [
    "a + b                    # 그럼 병합 메서드는 왜 존재하는가?"
   ]
  },
  {
   "cell_type": "code",
   "execution_count": 129,
   "id": "fc1630f3",
   "metadata": {},
   "outputs": [],
   "source": [
    "c = (1, 2, 3, 4, 5)\n",
    "d = (6, 7, 8, 9, 10)"
   ]
  },
  {
   "cell_type": "code",
   "execution_count": 130,
   "id": "2a35920f",
   "metadata": {},
   "outputs": [
    {
     "data": {
      "text/plain": [
       "(1, 2, 3, 4, 5, 6, 7, 8, 9, 10)"
      ]
     },
     "execution_count": 130,
     "metadata": {},
     "output_type": "execute_result"
    }
   ],
   "source": [
    "c + d"
   ]
  },
  {
   "cell_type": "code",
   "execution_count": null,
   "id": "606ea70c",
   "metadata": {},
   "outputs": [],
   "source": [
    "range(5) + range(5)         # 범위에 대한 정보만 가지고 있지, 실체는 없는 상태기 때문에 더할 수 없다."
   ]
  },
  {
   "cell_type": "code",
   "execution_count": 131,
   "id": "f8612d0e",
   "metadata": {},
   "outputs": [
    {
     "data": {
      "text/plain": [
       "[0, 1, 2, 3, 4, 0, 1, 2, 3, 4]"
      ]
     },
     "execution_count": 131,
     "metadata": {},
     "output_type": "execute_result"
    }
   ],
   "source": [
    "list(range(5)) + list(range(5))"
   ]
  },
  {
   "cell_type": "code",
   "execution_count": 134,
   "id": "85154e10",
   "metadata": {},
   "outputs": [],
   "source": [
    "s1 = \"Hello \"\n",
    "s2 = \"world!\""
   ]
  },
  {
   "cell_type": "code",
   "execution_count": 135,
   "id": "14e1e712",
   "metadata": {},
   "outputs": [
    {
     "data": {
      "text/plain": [
       "'Hello world!'"
      ]
     },
     "execution_count": 135,
     "metadata": {},
     "output_type": "execute_result"
    }
   ],
   "source": [
    "s1 + s2"
   ]
  },
  {
   "cell_type": "markdown",
   "id": "6b949b5e",
   "metadata": {},
   "source": [
    "- sequence object * integer\n",
    "- integer * sequence object"
   ]
  },
  {
   "cell_type": "code",
   "execution_count": 136,
   "id": "d7715cdb",
   "metadata": {},
   "outputs": [
    {
     "data": {
      "text/plain": [
       "[1, 2, 3, 1, 2, 3, 1, 2, 3]"
      ]
     },
     "execution_count": 136,
     "metadata": {},
     "output_type": "execute_result"
    }
   ],
   "source": [
    "[1, 2, 3] * 3"
   ]
  },
  {
   "cell_type": "code",
   "execution_count": 137,
   "id": "fe6e4378",
   "metadata": {},
   "outputs": [
    {
     "data": {
      "text/plain": [
       "[1, 2, 3, 1, 2, 3, 1, 2, 3]"
      ]
     },
     "execution_count": 137,
     "metadata": {},
     "output_type": "execute_result"
    }
   ],
   "source": [
    "3 * [1, 2, 3]"
   ]
  },
  {
   "cell_type": "code",
   "execution_count": 138,
   "id": "afe3387f",
   "metadata": {},
   "outputs": [
    {
     "ename": "TypeError",
     "evalue": "unsupported operand type(s) for *: 'int' and 'range'",
     "output_type": "error",
     "traceback": [
      "\u001b[1;31m---------------------------------------------------------------------------\u001b[0m",
      "\u001b[1;31mTypeError\u001b[0m                                 Traceback (most recent call last)",
      "Input \u001b[1;32mIn [138]\u001b[0m, in \u001b[0;36m<cell line: 1>\u001b[1;34m()\u001b[0m\n\u001b[1;32m----> 1\u001b[0m \u001b[38;5;241;43m2\u001b[39;49m\u001b[43m \u001b[49m\u001b[38;5;241;43m*\u001b[39;49m\u001b[43m \u001b[49m\u001b[38;5;28;43mrange\u001b[39;49m\u001b[43m(\u001b[49m\u001b[38;5;241;43m2\u001b[39;49m\u001b[43m)\u001b[49m\n",
      "\u001b[1;31mTypeError\u001b[0m: unsupported operand type(s) for *: 'int' and 'range'"
     ]
    }
   ],
   "source": [
    "2 * range(2)      # 실체 X"
   ]
  },
  {
   "cell_type": "code",
   "execution_count": 139,
   "id": "aca48173",
   "metadata": {},
   "outputs": [
    {
     "data": {
      "text/plain": [
       "[0, 1, 0, 1]"
      ]
     },
     "execution_count": 139,
     "metadata": {},
     "output_type": "execute_result"
    }
   ],
   "source": [
    "2 * list(range(2))"
   ]
  },
  {
   "cell_type": "code",
   "execution_count": 142,
   "id": "7d573376",
   "metadata": {},
   "outputs": [
    {
     "data": {
      "text/plain": [
       "'Hello Hello Hello '"
      ]
     },
     "execution_count": 142,
     "metadata": {},
     "output_type": "execute_result"
    }
   ],
   "source": [
    "'Hello ' * 3"
   ]
  },
  {
   "cell_type": "code",
   "execution_count": 143,
   "id": "48dc855f",
   "metadata": {},
   "outputs": [
    {
     "data": {
      "text/plain": [
       "(1, 2, 3, 1, 2, 3, 1, 2, 3)"
      ]
     },
     "execution_count": 143,
     "metadata": {},
     "output_type": "execute_result"
    }
   ],
   "source": [
    "3 * (1, 2, 3)"
   ]
  },
  {
   "cell_type": "markdown",
   "id": "89bd285e",
   "metadata": {},
   "source": [
    "- len(sequence object)"
   ]
  },
  {
   "cell_type": "code",
   "execution_count": 145,
   "id": "7db1edc8",
   "metadata": {},
   "outputs": [],
   "source": [
    "a = [1, 2, 3]      # length 길이 알아볼 때 사용"
   ]
  },
  {
   "cell_type": "code",
   "execution_count": 146,
   "id": "7e4ce651",
   "metadata": {},
   "outputs": [
    {
     "data": {
      "text/plain": [
       "3"
      ]
     },
     "execution_count": 146,
     "metadata": {},
     "output_type": "execute_result"
    }
   ],
   "source": [
    "len(a)"
   ]
  },
  {
   "cell_type": "code",
   "execution_count": 147,
   "id": "5402cf0e",
   "metadata": {},
   "outputs": [],
   "source": [
    "b = (1, 2, 3, 4, 5)"
   ]
  },
  {
   "cell_type": "code",
   "execution_count": 148,
   "id": "3a23ad7e",
   "metadata": {},
   "outputs": [
    {
     "data": {
      "text/plain": [
       "5"
      ]
     },
     "execution_count": 148,
     "metadata": {},
     "output_type": "execute_result"
    }
   ],
   "source": [
    "len(b)"
   ]
  },
  {
   "cell_type": "code",
   "execution_count": 149,
   "id": "70c87edf",
   "metadata": {},
   "outputs": [
    {
     "data": {
      "text/plain": [
       "10"
      ]
     },
     "execution_count": 149,
     "metadata": {},
     "output_type": "execute_result"
    }
   ],
   "source": [
    "len(range(10))"
   ]
  },
  {
   "cell_type": "code",
   "execution_count": 150,
   "id": "fa8b7a25",
   "metadata": {},
   "outputs": [
    {
     "data": {
      "text/plain": [
       "5"
      ]
     },
     "execution_count": 150,
     "metadata": {},
     "output_type": "execute_result"
    }
   ],
   "source": [
    "len(\"Hello\")"
   ]
  },
  {
   "cell_type": "code",
   "execution_count": 153,
   "id": "df40b297",
   "metadata": {},
   "outputs": [],
   "source": [
    " c = [2, 4, 5, 1]      # 앞에 띄어도 실행가능"
   ]
  },
  {
   "cell_type": "code",
   "execution_count": 154,
   "id": "5fcb5c4a",
   "metadata": {},
   "outputs": [
    {
     "data": {
      "text/plain": [
       "4"
      ]
     },
     "execution_count": 154,
     "metadata": {},
     "output_type": "execute_result"
    }
   ],
   "source": [
    "len(c)"
   ]
  },
  {
   "cell_type": "code",
   "execution_count": 155,
   "id": "a3a51175",
   "metadata": {},
   "outputs": [],
   "source": [
    "scores = [90, 80, 100, 90]    # 2번째에 있는 영어 점수만 알고 싶을 때"
   ]
  },
  {
   "cell_type": "code",
   "execution_count": 156,
   "id": "720db7c7",
   "metadata": {},
   "outputs": [
    {
     "data": {
      "text/plain": [
       "80"
      ]
     },
     "execution_count": 156,
     "metadata": {},
     "output_type": "execute_result"
    }
   ],
   "source": [
    "scores[1]           # index start from 0, so get second element from 'scores' list"
   ]
  },
  {
   "cell_type": "code",
   "execution_count": 157,
   "id": "b841e7dc",
   "metadata": {},
   "outputs": [],
   "source": [
    "# scores = [100, 90, ......................., 80] 일 때 마지막 거를 가져오고 싶다면\n",
    "# scores = [-1]을 사용"
   ]
  },
  {
   "cell_type": "code",
   "execution_count": 158,
   "id": "1852128a",
   "metadata": {},
   "outputs": [
    {
     "data": {
      "text/plain": [
       "90"
      ]
     },
     "execution_count": 158,
     "metadata": {},
     "output_type": "execute_result"
    }
   ],
   "source": [
    "scores[3]     # 마지막 원소"
   ]
  },
  {
   "cell_type": "code",
   "execution_count": 159,
   "id": "4562dc2d",
   "metadata": {},
   "outputs": [
    {
     "data": {
      "text/plain": [
       "90"
      ]
     },
     "execution_count": 159,
     "metadata": {},
     "output_type": "execute_result"
    }
   ],
   "source": [
    "scores[-1]    # 음수 인덱스 (마지막 원소를 가져올 때 편리)"
   ]
  },
  {
   "cell_type": "code",
   "execution_count": 160,
   "id": "cb7c5f89",
   "metadata": {},
   "outputs": [
    {
     "data": {
      "text/plain": [
       "3"
      ]
     },
     "execution_count": 160,
     "metadata": {},
     "output_type": "execute_result"
    }
   ],
   "source": [
    "len(scores) -1"
   ]
  },
  {
   "cell_type": "code",
   "execution_count": 162,
   "id": "b163bc74",
   "metadata": {},
   "outputs": [
    {
     "data": {
      "text/plain": [
       "100"
      ]
     },
     "execution_count": 162,
     "metadata": {},
     "output_type": "execute_result"
    }
   ],
   "source": [
    "scores[len(scores) - 2]"
   ]
  },
  {
   "cell_type": "code",
   "execution_count": 163,
   "id": "3d9df6c1",
   "metadata": {},
   "outputs": [],
   "source": [
    "b = (1, 2, 3)"
   ]
  },
  {
   "cell_type": "code",
   "execution_count": 164,
   "id": "7c2da61c",
   "metadata": {},
   "outputs": [
    {
     "ename": "IndexError",
     "evalue": "tuple index out of range",
     "output_type": "error",
     "traceback": [
      "\u001b[1;31m---------------------------------------------------------------------------\u001b[0m",
      "\u001b[1;31mIndexError\u001b[0m                                Traceback (most recent call last)",
      "Input \u001b[1;32mIn [164]\u001b[0m, in \u001b[0;36m<cell line: 1>\u001b[1;34m()\u001b[0m\n\u001b[1;32m----> 1\u001b[0m \u001b[43mb\u001b[49m\u001b[43m[\u001b[49m\u001b[38;5;241;43m4\u001b[39;49m\u001b[43m]\u001b[49m\n",
      "\u001b[1;31mIndexError\u001b[0m: tuple index out of range"
     ]
    }
   ],
   "source": [
    "b[4]"
   ]
  },
  {
   "cell_type": "code",
   "execution_count": 167,
   "id": "209b952b",
   "metadata": {},
   "outputs": [
    {
     "data": {
      "text/plain": [
       "4"
      ]
     },
     "execution_count": 167,
     "metadata": {},
     "output_type": "execute_result"
    }
   ],
   "source": [
    "range(10)[4]"
   ]
  },
  {
   "cell_type": "code",
   "execution_count": 168,
   "id": "81646d26",
   "metadata": {},
   "outputs": [
    {
     "data": {
      "text/plain": [
       "[0, 1, 2, 3, 4, 5, 6, 7, 8, 9]"
      ]
     },
     "execution_count": 168,
     "metadata": {},
     "output_type": "execute_result"
    }
   ],
   "source": [
    "list(range(10))"
   ]
  },
  {
   "cell_type": "code",
   "execution_count": 169,
   "id": "afc31081",
   "metadata": {},
   "outputs": [
    {
     "data": {
      "text/plain": [
       "[10, 20, 30, 40, 50, 60, 70, 80, 90]"
      ]
     },
     "execution_count": 169,
     "metadata": {},
     "output_type": "execute_result"
    }
   ],
   "source": [
    "list(range(10, 100, 10))"
   ]
  },
  {
   "cell_type": "code",
   "execution_count": 170,
   "id": "5717bfe7",
   "metadata": {},
   "outputs": [
    {
     "data": {
      "text/plain": [
       "30"
      ]
     },
     "execution_count": 170,
     "metadata": {},
     "output_type": "execute_result"
    }
   ],
   "source": [
    "range(10, 100, 10)[2]"
   ]
  },
  {
   "cell_type": "code",
   "execution_count": 171,
   "id": "207fa0fd",
   "metadata": {},
   "outputs": [
    {
     "data": {
      "text/plain": [
       "90"
      ]
     },
     "execution_count": 171,
     "metadata": {},
     "output_type": "execute_result"
    }
   ],
   "source": [
    "range(10, 100, 10)[len(range(10, 100, 10)) - 1]"
   ]
  },
  {
   "cell_type": "code",
   "execution_count": 172,
   "id": "993db710",
   "metadata": {},
   "outputs": [
    {
     "data": {
      "text/plain": [
       "90"
      ]
     },
     "execution_count": 172,
     "metadata": {},
     "output_type": "execute_result"
    }
   ],
   "source": [
    "range(10, 100, 10)[-1]"
   ]
  },
  {
   "cell_type": "code",
   "execution_count": 173,
   "id": "6d4e2871",
   "metadata": {},
   "outputs": [],
   "source": [
    "s = \"Hello\""
   ]
  },
  {
   "cell_type": "code",
   "execution_count": 174,
   "id": "2870d26b",
   "metadata": {},
   "outputs": [
    {
     "data": {
      "text/plain": [
       "'H'"
      ]
     },
     "execution_count": 174,
     "metadata": {},
     "output_type": "execute_result"
    }
   ],
   "source": [
    "s[0]"
   ]
  },
  {
   "cell_type": "code",
   "execution_count": 175,
   "id": "33ad127b",
   "metadata": {},
   "outputs": [
    {
     "data": {
      "text/plain": [
       "'o'"
      ]
     },
     "execution_count": 175,
     "metadata": {},
     "output_type": "execute_result"
    }
   ],
   "source": [
    "s[4]"
   ]
  },
  {
   "cell_type": "code",
   "execution_count": 176,
   "id": "550f4224",
   "metadata": {},
   "outputs": [
    {
     "data": {
      "text/plain": [
       "'o'"
      ]
     },
     "execution_count": 176,
     "metadata": {},
     "output_type": "execute_result"
    }
   ],
   "source": [
    "s[-1]"
   ]
  },
  {
   "cell_type": "code",
   "execution_count": 177,
   "id": "46379cd4",
   "metadata": {},
   "outputs": [
    {
     "data": {
      "text/plain": [
       "'l'"
      ]
     },
     "execution_count": 177,
     "metadata": {},
     "output_type": "execute_result"
    }
   ],
   "source": [
    "s[3]"
   ]
  },
  {
   "cell_type": "code",
   "execution_count": 178,
   "id": "e6b4d5e6",
   "metadata": {},
   "outputs": [
    {
     "data": {
      "text/plain": [
       "'l'"
      ]
     },
     "execution_count": 178,
     "metadata": {},
     "output_type": "execute_result"
    }
   ],
   "source": [
    "s[-2]"
   ]
  },
  {
   "cell_type": "markdown",
   "id": "15252e43",
   "metadata": {},
   "source": [
    "- sequence object[index] = value\n",
    "- 위의 문법은 list 객체에서만 유효. tuple, range, str 에서는 요소 값을 변경할 수 없다."
   ]
  },
  {
   "cell_type": "code",
   "execution_count": 179,
   "id": "0e8bd9ab",
   "metadata": {},
   "outputs": [],
   "source": [
    "scores = [90, 100, 100, 70]"
   ]
  },
  {
   "cell_type": "code",
   "execution_count": 180,
   "id": "1f2d2f13",
   "metadata": {},
   "outputs": [],
   "source": [
    "scores[0] = 95"
   ]
  },
  {
   "cell_type": "code",
   "execution_count": 181,
   "id": "70b7611c",
   "metadata": {},
   "outputs": [
    {
     "data": {
      "text/plain": [
       "[95, 100, 100, 70]"
      ]
     },
     "execution_count": 181,
     "metadata": {},
     "output_type": "execute_result"
    }
   ],
   "source": [
    "scores"
   ]
  },
  {
   "cell_type": "code",
   "execution_count": 183,
   "id": "9448b7aa",
   "metadata": {},
   "outputs": [
    {
     "ename": "TypeError",
     "evalue": "'tuple' object does not support item assignment",
     "output_type": "error",
     "traceback": [
      "\u001b[1;31m---------------------------------------------------------------------------\u001b[0m",
      "\u001b[1;31mTypeError\u001b[0m                                 Traceback (most recent call last)",
      "Input \u001b[1;32mIn [183]\u001b[0m, in \u001b[0;36m<cell line: 2>\u001b[1;34m()\u001b[0m\n\u001b[0;32m      1\u001b[0m shape \u001b[38;5;241m=\u001b[39m (\u001b[38;5;241m1200\u001b[39m, \u001b[38;5;241m900\u001b[39m)\n\u001b[1;32m----> 2\u001b[0m shape[\u001b[38;5;241m0\u001b[39m] \u001b[38;5;241m=\u001b[39m \u001b[38;5;241m1000\u001b[39m\n",
      "\u001b[1;31mTypeError\u001b[0m: 'tuple' object does not support item assignment"
     ]
    }
   ],
   "source": [
    "shape = (1200, 900)\n",
    "shape[0] = 1000            # tuple은 value 변경이 불가능하다."
   ]
  },
  {
   "cell_type": "code",
   "execution_count": 184,
   "id": "79ee7a33",
   "metadata": {},
   "outputs": [
    {
     "ename": "TypeError",
     "evalue": "'range' object does not support item assignment",
     "output_type": "error",
     "traceback": [
      "\u001b[1;31m---------------------------------------------------------------------------\u001b[0m",
      "\u001b[1;31mTypeError\u001b[0m                                 Traceback (most recent call last)",
      "Input \u001b[1;32mIn [184]\u001b[0m, in \u001b[0;36m<cell line: 1>\u001b[1;34m()\u001b[0m\n\u001b[1;32m----> 1\u001b[0m \u001b[38;5;28mrange\u001b[39m(\u001b[38;5;241m10\u001b[39m)[\u001b[38;5;241m0\u001b[39m] \u001b[38;5;241m=\u001b[39m \u001b[38;5;241m100\u001b[39m\n",
      "\u001b[1;31mTypeError\u001b[0m: 'range' object does not support item assignment"
     ]
    }
   ],
   "source": [
    "range(10)[0] = 100"
   ]
  },
  {
   "cell_type": "code",
   "execution_count": 185,
   "id": "0220a678",
   "metadata": {},
   "outputs": [
    {
     "ename": "TypeError",
     "evalue": "'str' object does not support item assignment",
     "output_type": "error",
     "traceback": [
      "\u001b[1;31m---------------------------------------------------------------------------\u001b[0m",
      "\u001b[1;31mTypeError\u001b[0m                                 Traceback (most recent call last)",
      "Input \u001b[1;32mIn [185]\u001b[0m, in \u001b[0;36m<cell line: 2>\u001b[1;34m()\u001b[0m\n\u001b[0;32m      1\u001b[0m s \u001b[38;5;241m=\u001b[39m \u001b[38;5;124m\"\u001b[39m\u001b[38;5;124mHello World!\u001b[39m\u001b[38;5;124m\"\u001b[39m\n\u001b[1;32m----> 2\u001b[0m s[\u001b[38;5;241m0\u001b[39m] \u001b[38;5;241m=\u001b[39m \u001b[38;5;124m'\u001b[39m\u001b[38;5;124mh\u001b[39m\u001b[38;5;124m'\u001b[39m\n",
      "\u001b[1;31mTypeError\u001b[0m: 'str' object does not support item assignment"
     ]
    }
   ],
   "source": [
    "s = \"Hello World!\"\n",
    "s[0] = 'h'"
   ]
  },
  {
   "cell_type": "markdown",
   "id": "119e3bcf",
   "metadata": {},
   "source": [
    "- del 시퀀스객체[index]\n",
    "- 위의 문법은 list 객체에서만 유효. tuple, range, str 에서는 요소 값을 변경할 수 없다."
   ]
  },
  {
   "cell_type": "code",
   "execution_count": 186,
   "id": "ce6951f5",
   "metadata": {},
   "outputs": [],
   "source": [
    "a = [1, 2, 3, 4]"
   ]
  },
  {
   "cell_type": "code",
   "execution_count": 187,
   "id": "9f19227b",
   "metadata": {},
   "outputs": [],
   "source": [
    "del a[2]"
   ]
  },
  {
   "cell_type": "code",
   "execution_count": 188,
   "id": "380b8032",
   "metadata": {},
   "outputs": [
    {
     "data": {
      "text/plain": [
       "[1, 2, 4]"
      ]
     },
     "execution_count": 188,
     "metadata": {},
     "output_type": "execute_result"
    }
   ],
   "source": [
    "a"
   ]
  },
  {
   "cell_type": "code",
   "execution_count": 189,
   "id": "ca406b4b",
   "metadata": {},
   "outputs": [
    {
     "ename": "TypeError",
     "evalue": "'tuple' object doesn't support item deletion",
     "output_type": "error",
     "traceback": [
      "\u001b[1;31m---------------------------------------------------------------------------\u001b[0m",
      "\u001b[1;31mTypeError\u001b[0m                                 Traceback (most recent call last)",
      "Input \u001b[1;32mIn [189]\u001b[0m, in \u001b[0;36m<cell line: 2>\u001b[1;34m()\u001b[0m\n\u001b[0;32m      1\u001b[0m b \u001b[38;5;241m=\u001b[39m (\u001b[38;5;241m1\u001b[39m, \u001b[38;5;241m2\u001b[39m, \u001b[38;5;241m3\u001b[39m, \u001b[38;5;241m4\u001b[39m)\n\u001b[1;32m----> 2\u001b[0m \u001b[38;5;28;01mdel\u001b[39;00m b[\u001b[38;5;241m2\u001b[39m]\n",
      "\u001b[1;31mTypeError\u001b[0m: 'tuple' object doesn't support item deletion"
     ]
    }
   ],
   "source": [
    "b = (1, 2, 3, 4)\n",
    "del b[2]"
   ]
  },
  {
   "cell_type": "code",
   "execution_count": 190,
   "id": "900c0710",
   "metadata": {},
   "outputs": [
    {
     "ename": "TypeError",
     "evalue": "'str' object doesn't support item deletion",
     "output_type": "error",
     "traceback": [
      "\u001b[1;31m---------------------------------------------------------------------------\u001b[0m",
      "\u001b[1;31mTypeError\u001b[0m                                 Traceback (most recent call last)",
      "Input \u001b[1;32mIn [190]\u001b[0m, in \u001b[0;36m<cell line: 2>\u001b[1;34m()\u001b[0m\n\u001b[0;32m      1\u001b[0m s \u001b[38;5;241m=\u001b[39m \u001b[38;5;124m\"\u001b[39m\u001b[38;5;124mHello\u001b[39m\u001b[38;5;124m\"\u001b[39m\n\u001b[1;32m----> 2\u001b[0m \u001b[38;5;28;01mdel\u001b[39;00m s[\u001b[38;5;241m1\u001b[39m]\n",
      "\u001b[1;31mTypeError\u001b[0m: 'str' object doesn't support item deletion"
     ]
    }
   ],
   "source": [
    "s = \"Hello\"\n",
    "del s[1]"
   ]
  },
  {
   "cell_type": "markdown",
   "id": "dac04ba8",
   "metadata": {},
   "source": [
    "- sequence object[start_index:end_index]"
   ]
  },
  {
   "cell_type": "code",
   "execution_count": 193,
   "id": "e3017caa",
   "metadata": {},
   "outputs": [
    {
     "data": {
      "text/plain": [
       "[10, 20, 30]"
      ]
     },
     "execution_count": 193,
     "metadata": {},
     "output_type": "execute_result"
    }
   ],
   "source": [
    "a = [10, 20, 30, 40, 50]\n",
    "# a[start:end]\n",
    "a[0:3]        # 3번째는 포함 안됨 (0 ~ 2번째까지 가져오는 문법)"
   ]
  },
  {
   "cell_type": "code",
   "execution_count": null,
   "id": "de6c5a8d",
   "metadata": {},
   "outputs": [],
   "source": [
    "a[:3]  # 0번째는 생략 가능"
   ]
  },
  {
   "cell_type": "code",
   "execution_count": 194,
   "id": "10c2e1e3",
   "metadata": {},
   "outputs": [
    {
     "data": {
      "text/plain": [
       "[30, 40, 50]"
      ]
     },
     "execution_count": 194,
     "metadata": {},
     "output_type": "execute_result"
    }
   ],
   "source": [
    "a[2:5]"
   ]
  },
  {
   "cell_type": "code",
   "execution_count": 195,
   "id": "e3f53301",
   "metadata": {},
   "outputs": [
    {
     "data": {
      "text/plain": [
       "[30, 40, 50]"
      ]
     },
     "execution_count": 195,
     "metadata": {},
     "output_type": "execute_result"
    }
   ],
   "source": [
    "a[2:]  # 마지막 번째 생략 가능"
   ]
  },
  {
   "cell_type": "code",
   "execution_count": 197,
   "id": "361f111f",
   "metadata": {},
   "outputs": [
    {
     "data": {
      "text/plain": [
       "[10, 20, 30, 40, 50]"
      ]
     },
     "execution_count": 197,
     "metadata": {},
     "output_type": "execute_result"
    }
   ],
   "source": [
    "a[:]     # 시작인덱스와 끝인덱스를 모두 생략하면 처음부터 끝까지 가져옴"
   ]
  },
  {
   "cell_type": "code",
   "execution_count": 198,
   "id": "5305ac73",
   "metadata": {},
   "outputs": [
    {
     "data": {
      "text/plain": [
       "[40]"
      ]
     },
     "execution_count": 198,
     "metadata": {},
     "output_type": "execute_result"
    }
   ],
   "source": [
    "a[3:-1]"
   ]
  },
  {
   "cell_type": "markdown",
   "id": "d4bb20c2",
   "metadata": {},
   "source": [
    "- sequence object[start_index:end_index:interval]"
   ]
  },
  {
   "cell_type": "code",
   "execution_count": 200,
   "id": "9f7a96d0",
   "metadata": {},
   "outputs": [
    {
     "data": {
      "text/plain": [
       "[0, 10, 20, 30, 40, 50, 60, 70, 80, 90]"
      ]
     },
     "execution_count": 200,
     "metadata": {},
     "output_type": "execute_result"
    }
   ],
   "source": [
    "a = list(range(0, 100, 10))\n",
    "a"
   ]
  },
  {
   "cell_type": "code",
   "execution_count": 201,
   "id": "14c1a5dd",
   "metadata": {},
   "outputs": [
    {
     "data": {
      "text/plain": [
       "[0, 10, 20, 30, 40]"
      ]
     },
     "execution_count": 201,
     "metadata": {},
     "output_type": "execute_result"
    }
   ],
   "source": [
    "a[0:5]"
   ]
  },
  {
   "cell_type": "code",
   "execution_count": 202,
   "id": "791f1ccc",
   "metadata": {},
   "outputs": [
    {
     "data": {
      "text/plain": [
       "[0, 20, 40]"
      ]
     },
     "execution_count": 202,
     "metadata": {},
     "output_type": "execute_result"
    }
   ],
   "source": [
    "a[0:5:2]"
   ]
  },
  {
   "cell_type": "code",
   "execution_count": 203,
   "id": "18b34843",
   "metadata": {},
   "outputs": [
    {
     "data": {
      "text/plain": [
       "[90, 80, 70, 60, 50, 40, 30, 20, 10, 0]"
      ]
     },
     "execution_count": 203,
     "metadata": {},
     "output_type": "execute_result"
    }
   ],
   "source": [
    "a[-1::-1]"
   ]
  },
  {
   "cell_type": "code",
   "execution_count": 205,
   "id": "531acf76",
   "metadata": {},
   "outputs": [
    {
     "data": {
      "text/plain": [
       "[0, 10, 20, 30, 40, 50, 60, 70, 80, 90]"
      ]
     },
     "execution_count": 205,
     "metadata": {},
     "output_type": "execute_result"
    }
   ],
   "source": [
    "a[0::1]"
   ]
  },
  {
   "cell_type": "markdown",
   "id": "200f055e",
   "metadata": {},
   "source": [
    "# Workshop"
   ]
  },
  {
   "cell_type": "code",
   "execution_count": 207,
   "id": "515492f6",
   "metadata": {},
   "outputs": [],
   "source": [
    "year = [2011, 2012, 2013, 2014, 2015, 2016, 2017, 2018]\n",
    "population = [10249679, 10195318, 10143645, 10103233, 10022181, 9930616, 9857426, 9838892]"
   ]
  },
  {
   "cell_type": "code",
   "execution_count": 211,
   "id": "01ff0299",
   "metadata": {},
   "outputs": [
    {
     "data": {
      "text/plain": [
       "[2016, 2017, 2018]"
      ]
     },
     "execution_count": 211,
     "metadata": {},
     "output_type": "execute_result"
    }
   ],
   "source": [
    "year[5:]"
   ]
  },
  {
   "cell_type": "code",
   "execution_count": 210,
   "id": "aea2c2da",
   "metadata": {},
   "outputs": [
    {
     "data": {
      "text/plain": [
       "[9930616, 9857426, 9838892]"
      ]
     },
     "execution_count": 210,
     "metadata": {},
     "output_type": "execute_result"
    }
   ],
   "source": [
    "population[5:]"
   ]
  },
  {
   "cell_type": "code",
   "execution_count": 261,
   "id": "4faaf388",
   "metadata": {},
   "outputs": [
    {
     "name": "stdout",
     "output_type": "stream",
     "text": [
      "[2016, 2017, 2018]\n"
     ]
    }
   ],
   "source": [
    "print(year[-3:])"
   ]
  },
  {
   "cell_type": "code",
   "execution_count": 262,
   "id": "a576cce8",
   "metadata": {},
   "outputs": [
    {
     "name": "stdout",
     "output_type": "stream",
     "text": [
      "[9930616, 9857426, 9838892]\n"
     ]
    }
   ],
   "source": [
    "print(population[-3:])"
   ]
  },
  {
   "cell_type": "code",
   "execution_count": 264,
   "id": "0a469e12",
   "metadata": {},
   "outputs": [
    {
     "data": {
      "text/plain": [
       "<zip at 0x2e457513700>"
      ]
     },
     "execution_count": 264,
     "metadata": {},
     "output_type": "execute_result"
    }
   ],
   "source": [
    "# year와 population을 연결지어서 한 번에 출력할 수 있음\n",
    "# zip(sequence object1, sequence object2)\n",
    "\n",
    "zip(year, population)"
   ]
  },
  {
   "cell_type": "code",
   "execution_count": 265,
   "id": "5128fbda",
   "metadata": {},
   "outputs": [
    {
     "data": {
      "text/plain": [
       "<map at 0x2e4578dcee0>"
      ]
     },
     "execution_count": 265,
     "metadata": {},
     "output_type": "execute_result"
    }
   ],
   "source": [
    "map(int, [\"10\", \"20\", \"30\"])      # 형태만 존재"
   ]
  },
  {
   "cell_type": "code",
   "execution_count": 267,
   "id": "5dd6d85a",
   "metadata": {},
   "outputs": [
    {
     "data": {
      "text/plain": [
       "[(2011, 10249679),\n",
       " (2012, 10195318),\n",
       " (2013, 10143645),\n",
       " (2014, 10103233),\n",
       " (2015, 10022181),\n",
       " (2016, 9930616),\n",
       " (2017, 9857426),\n",
       " (2018, 9838892)]"
      ]
     },
     "execution_count": 267,
     "metadata": {},
     "output_type": "execute_result"
    }
   ],
   "source": [
    "list(zip(year, population))       # 실체까지 출력"
   ]
  },
  {
   "cell_type": "code",
   "execution_count": 268,
   "id": "73902ef2",
   "metadata": {},
   "outputs": [
    {
     "data": {
      "text/plain": [
       "[(2016, 9930616), (2017, 9857426), (2018, 9838892)]"
      ]
     },
     "execution_count": 268,
     "metadata": {},
     "output_type": "execute_result"
    }
   ],
   "source": [
    "list(zip(year[-3:], population[-3:]))"
   ]
  },
  {
   "cell_type": "code",
   "execution_count": 269,
   "id": "3da2cf48",
   "metadata": {},
   "outputs": [
    {
     "data": {
      "text/plain": [
       "{2016: 9930616, 2017: 9857426, 2018: 9838892}"
      ]
     },
     "execution_count": 269,
     "metadata": {},
     "output_type": "execute_result"
    }
   ],
   "source": [
    "dict(zip(year[-3:], population[-3:]))"
   ]
  },
  {
   "cell_type": "markdown",
   "id": "d1e70da7",
   "metadata": {},
   "source": [
    "---"
   ]
  },
  {
   "cell_type": "code",
   "execution_count": 216,
   "id": "fc0beb3f",
   "metadata": {},
   "outputs": [],
   "source": [
    "n = -32, 75, 97, -10, 9, 32, 4, -15, 0, 76, 14, 2"
   ]
  },
  {
   "cell_type": "code",
   "execution_count": 218,
   "id": "096c1c03",
   "metadata": {},
   "outputs": [
    {
     "data": {
      "text/plain": [
       "(-32, 75, 97, -10, 9, 32, 4, -15, 0, 76, 14, 2)"
      ]
     },
     "execution_count": 218,
     "metadata": {},
     "output_type": "execute_result"
    }
   ],
   "source": [
    "tuple(n)"
   ]
  },
  {
   "cell_type": "code",
   "execution_count": 219,
   "id": "d54a697a",
   "metadata": {},
   "outputs": [
    {
     "data": {
      "text/plain": [
       "(-32, 75, 97, -10, 9, 32, 4, -15, 0, 76, 14, 2)"
      ]
     },
     "execution_count": 219,
     "metadata": {},
     "output_type": "execute_result"
    }
   ],
   "source": [
    "n"
   ]
  },
  {
   "cell_type": "code",
   "execution_count": 225,
   "id": "2bb6e90a",
   "metadata": {},
   "outputs": [
    {
     "data": {
      "text/plain": [
       "(2, 76, -15, 32, -10, 75)"
      ]
     },
     "execution_count": 225,
     "metadata": {},
     "output_type": "execute_result"
    }
   ],
   "source": [
    "n[-1::-2]"
   ]
  },
  {
   "cell_type": "code",
   "execution_count": 270,
   "id": "070a1a76",
   "metadata": {},
   "outputs": [
    {
     "data": {
      "text/plain": [
       "(75, -10, 32, -15, 76, 2)"
      ]
     },
     "execution_count": 270,
     "metadata": {},
     "output_type": "execute_result"
    }
   ],
   "source": [
    "n[1:len(n):2]"
   ]
  },
  {
   "cell_type": "code",
   "execution_count": 271,
   "id": "412dfa1a",
   "metadata": {},
   "outputs": [
    {
     "data": {
      "text/plain": [
       "(75, -10, 32, -15, 76, 2)"
      ]
     },
     "execution_count": 271,
     "metadata": {},
     "output_type": "execute_result"
    }
   ],
   "source": [
    "n[1::2]"
   ]
  },
  {
   "cell_type": "markdown",
   "id": "082df963",
   "metadata": {},
   "source": [
    "---"
   ]
  },
  {
   "cell_type": "code",
   "execution_count": 260,
   "id": "97b4307c",
   "metadata": {},
   "outputs": [
    {
     "name": "stdout",
     "output_type": "stream",
     "text": [
      "1 2 3 4 5 6 7 8\n"
     ]
    },
    {
     "data": {
      "text/plain": [
       "('1', '2', '3')"
      ]
     },
     "execution_count": 260,
     "metadata": {},
     "output_type": "execute_result"
    }
   ],
   "source": [
    "a = list(input().split())\n",
    "del a[-1:-6:-1]\n",
    "tuple(a)"
   ]
  },
  {
   "cell_type": "code",
   "execution_count": 275,
   "id": "b6670183",
   "metadata": {},
   "outputs": [
    {
     "name": "stdout",
     "output_type": "stream",
     "text": [
      "a b c d e f g\n"
     ]
    }
   ],
   "source": [
    "x = input()"
   ]
  },
  {
   "cell_type": "code",
   "execution_count": 278,
   "id": "366bb013",
   "metadata": {},
   "outputs": [
    {
     "data": {
      "text/plain": [
       "['a', 'b', 'c', 'd', 'e', 'f', 'g']"
      ]
     },
     "execution_count": 278,
     "metadata": {},
     "output_type": "execute_result"
    }
   ],
   "source": [
    "s = x.split()\n",
    "s"
   ]
  },
  {
   "cell_type": "code",
   "execution_count": 280,
   "id": "f3c2c940",
   "metadata": {},
   "outputs": [],
   "source": [
    "del s[-5:]"
   ]
  },
  {
   "cell_type": "code",
   "execution_count": 281,
   "id": "0dad4822",
   "metadata": {},
   "outputs": [
    {
     "data": {
      "text/plain": [
       "['a', 'b']"
      ]
     },
     "execution_count": 281,
     "metadata": {},
     "output_type": "execute_result"
    }
   ],
   "source": [
    "s"
   ]
  },
  {
   "cell_type": "code",
   "execution_count": 282,
   "id": "542a7c08",
   "metadata": {},
   "outputs": [
    {
     "name": "stdout",
     "output_type": "stream",
     "text": [
      "a b c d e f g\n",
      "('a', 'b')\n"
     ]
    }
   ],
   "source": [
    "x = input().split()\n",
    "del x[-5:]\n",
    "print(tuple(x))"
   ]
  },
  {
   "cell_type": "markdown",
   "id": "39609831",
   "metadata": {},
   "source": [
    "---"
   ]
  },
  {
   "cell_type": "markdown",
   "id": "ed98a9f3",
   "metadata": {},
   "source": [
    "# Workshop"
   ]
  },
  {
   "cell_type": "code",
   "execution_count": 301,
   "id": "6756f19f",
   "metadata": {},
   "outputs": [],
   "source": [
    "pin = '881204-1068234'"
   ]
  },
  {
   "cell_type": "code",
   "execution_count": 302,
   "id": "2bfef2f3",
   "metadata": {},
   "outputs": [
    {
     "data": {
      "text/plain": [
       "['881204', '1068234']"
      ]
     },
     "execution_count": 302,
     "metadata": {},
     "output_type": "execute_result"
    }
   ],
   "source": [
    "pin.split('-')"
   ]
  },
  {
   "cell_type": "code",
   "execution_count": 311,
   "id": "9360b15d",
   "metadata": {},
   "outputs": [],
   "source": [
    "x = list(pin)"
   ]
  },
  {
   "cell_type": "code",
   "execution_count": 312,
   "id": "613158bc",
   "metadata": {},
   "outputs": [
    {
     "data": {
      "text/plain": [
       "['8', '8', '1', '2', '0', '4', '-', '1', '0', '6', '8', '2', '3', '4']"
      ]
     },
     "execution_count": 312,
     "metadata": {},
     "output_type": "execute_result"
    }
   ],
   "source": [
    "x"
   ]
  },
  {
   "cell_type": "code",
   "execution_count": 314,
   "id": "6ec38780",
   "metadata": {},
   "outputs": [
    {
     "name": "stdout",
     "output_type": "stream",
     "text": [
      "male\n"
     ]
    }
   ],
   "source": [
    "if(x[7] == '1'):\n",
    "    print(\"male\")\n",
    "else:\n",
    "    print(\"female\")"
   ]
  },
  {
   "cell_type": "code",
   "execution_count": 331,
   "id": "da180a1c",
   "metadata": {},
   "outputs": [],
   "source": [
    "pin_list = pin.split('-') # 다른 풀이"
   ]
  },
  {
   "cell_type": "code",
   "execution_count": 327,
   "id": "31887eef",
   "metadata": {},
   "outputs": [
    {
     "data": {
      "text/plain": [
       "'1068234'"
      ]
     },
     "execution_count": 327,
     "metadata": {},
     "output_type": "execute_result"
    }
   ],
   "source": [
    "second = pin_list[1]\n",
    "second"
   ]
  },
  {
   "cell_type": "code",
   "execution_count": 328,
   "id": "4606a454",
   "metadata": {},
   "outputs": [
    {
     "data": {
      "text/plain": [
       "'1068234'"
      ]
     },
     "execution_count": 328,
     "metadata": {},
     "output_type": "execute_result"
    }
   ],
   "source": [
    "second"
   ]
  },
  {
   "cell_type": "code",
   "execution_count": 329,
   "id": "bac31ba2",
   "metadata": {},
   "outputs": [
    {
     "data": {
      "text/plain": [
       "'1'"
      ]
     },
     "execution_count": 329,
     "metadata": {},
     "output_type": "execute_result"
    }
   ],
   "source": [
    "second[0]"
   ]
  },
  {
   "cell_type": "code",
   "execution_count": 330,
   "id": "0b3f189a",
   "metadata": {},
   "outputs": [
    {
     "name": "stdout",
     "output_type": "stream",
     "text": [
      "male\n"
     ]
    }
   ],
   "source": [
    "if second[0] == '1':\n",
    "    print('male')\n",
    "else:\n",
    "    print('female')"
   ]
  },
  {
   "cell_type": "code",
   "execution_count": null,
   "id": "10561946",
   "metadata": {},
   "outputs": [],
   "source": [
    "# 최종 코드\n",
    "\n",
    "if pin.split('-')[1][0] == '1':\n",
    "    print('male')\n",
    "else:\n",
    "    print('female')"
   ]
  },
  {
   "cell_type": "markdown",
   "id": "e7bf17cf",
   "metadata": {},
   "source": [
    "---"
   ]
  },
  {
   "cell_type": "code",
   "execution_count": 323,
   "id": "5389c113",
   "metadata": {},
   "outputs": [
    {
     "name": "stdout",
     "output_type": "stream",
     "text": [
      "phone number 출력 문자열\n",
      "123457890\n",
      "['*', '*', '*', '*', '*', '*', '*', '7', '8', '9', '0']\n",
      "['*', '*', '*', '*', '*', '*', '*', '7', '8', '9', '0']\n",
      "['*', '*', '*', '*', '*', '*', '*', '7', '8', '9', '0']\n"
     ]
    }
   ],
   "source": [
    "print(\"phone number 출력 문자열\")\n",
    "y = input()\n",
    "z = list(y)\n",
    "z[:-4] = '*******'\n",
    "print(list(z))\n",
    "print(str(z))\n",
    "print(z)"
   ]
  },
  {
   "cell_type": "code",
   "execution_count": 332,
   "id": "e57b2366",
   "metadata": {},
   "outputs": [],
   "source": [
    "def solution(angle):\n",
    "    answer = (angle // 90) * 2 + (angle % 90 > 0) * 1\n",
    "    return answer"
   ]
  },
  {
   "cell_type": "code",
   "execution_count": 333,
   "id": "6ec1a51e",
   "metadata": {},
   "outputs": [
    {
     "data": {
      "text/plain": [
       "3"
      ]
     },
     "execution_count": 333,
     "metadata": {},
     "output_type": "execute_result"
    }
   ],
   "source": [
    "solution(130)"
   ]
  },
  {
   "cell_type": "code",
   "execution_count": 334,
   "id": "5af3fa58",
   "metadata": {},
   "outputs": [
    {
     "data": {
      "text/plain": [
       "1"
      ]
     },
     "execution_count": 334,
     "metadata": {},
     "output_type": "execute_result"
    }
   ],
   "source": [
    "solution(40)"
   ]
  },
  {
   "cell_type": "code",
   "execution_count": 335,
   "id": "b26b04ec",
   "metadata": {},
   "outputs": [
    {
     "data": {
      "text/plain": [
       "2"
      ]
     },
     "execution_count": 335,
     "metadata": {},
     "output_type": "execute_result"
    }
   ],
   "source": [
    "solution(90)"
   ]
  },
  {
   "cell_type": "code",
   "execution_count": 336,
   "id": "876f6f84",
   "metadata": {},
   "outputs": [
    {
     "data": {
      "text/plain": [
       "4"
      ]
     },
     "execution_count": 336,
     "metadata": {},
     "output_type": "execute_result"
    }
   ],
   "source": [
    "solution(180)"
   ]
  },
  {
   "cell_type": "code",
   "execution_count": 337,
   "id": "1e52cce5",
   "metadata": {},
   "outputs": [
    {
     "name": "stdout",
     "output_type": "stream",
     "text": [
      "01045638147\n"
     ]
    }
   ],
   "source": [
    "phone_number = input()"
   ]
  },
  {
   "cell_type": "code",
   "execution_count": 338,
   "id": "fb0d8b14",
   "metadata": {},
   "outputs": [
    {
     "data": {
      "text/plain": [
       "'01045638147'"
      ]
     },
     "execution_count": 338,
     "metadata": {},
     "output_type": "execute_result"
    }
   ],
   "source": [
    "phone_number"
   ]
  },
  {
   "cell_type": "code",
   "execution_count": 339,
   "id": "bc90f6b8",
   "metadata": {},
   "outputs": [
    {
     "data": {
      "text/plain": [
       "'0104563'"
      ]
     },
     "execution_count": 339,
     "metadata": {},
     "output_type": "execute_result"
    }
   ],
   "source": [
    "phone_number[:-4]"
   ]
  },
  {
   "cell_type": "code",
   "execution_count": 340,
   "id": "c06b1311",
   "metadata": {},
   "outputs": [
    {
     "data": {
      "text/plain": [
       "7"
      ]
     },
     "execution_count": 340,
     "metadata": {},
     "output_type": "execute_result"
    }
   ],
   "source": [
    "len(phone_number[:-4])"
   ]
  },
  {
   "cell_type": "code",
   "execution_count": 342,
   "id": "6d54a6cf",
   "metadata": {},
   "outputs": [],
   "source": [
    "# s1 = 시퀀스 객체 * 정수\n",
    "s1 = '*'* len(phone_number[:-4])"
   ]
  },
  {
   "cell_type": "code",
   "execution_count": 343,
   "id": "85bfa115",
   "metadata": {},
   "outputs": [],
   "source": [
    "s2 = phone_number[-4:]"
   ]
  },
  {
   "cell_type": "code",
   "execution_count": 344,
   "id": "827aaa92",
   "metadata": {},
   "outputs": [],
   "source": [
    "ss = s1 + s2"
   ]
  },
  {
   "cell_type": "code",
   "execution_count": 345,
   "id": "db13bd8b",
   "metadata": {},
   "outputs": [
    {
     "data": {
      "text/plain": [
       "'*******8147'"
      ]
     },
     "execution_count": 345,
     "metadata": {},
     "output_type": "execute_result"
    }
   ],
   "source": [
    "ss"
   ]
  },
  {
   "cell_type": "code",
   "execution_count": 346,
   "id": "c9fb2dcf",
   "metadata": {},
   "outputs": [
    {
     "name": "stdout",
     "output_type": "stream",
     "text": [
      "01050978147\n"
     ]
    },
    {
     "data": {
      "text/plain": [
       "'*******8147'"
      ]
     },
     "execution_count": 346,
     "metadata": {},
     "output_type": "execute_result"
    }
   ],
   "source": [
    "# 최종 코드\n",
    "\n",
    "phone_number = input()\n",
    "s1 = '*'* len(phone_number[:-4])\n",
    "s2 = phone_number[-4:]\n",
    "s1 + s2"
   ]
  },
  {
   "cell_type": "markdown",
   "id": "008c8e8a",
   "metadata": {},
   "source": [
    "# dictionary"
   ]
  },
  {
   "cell_type": "markdown",
   "id": "c9b72591",
   "metadata": {},
   "source": [
    "- dictionary = {key1:value1, key2:value2, key3:value3, ...}"
   ]
  },
  {
   "cell_type": "code",
   "execution_count": 347,
   "id": "1fcdd6cd",
   "metadata": {},
   "outputs": [],
   "source": [
    "year_pop = {2016:9981304, 2017:4072902, 2018:1204857}"
   ]
  },
  {
   "cell_type": "code",
   "execution_count": 348,
   "id": "636b73c8",
   "metadata": {},
   "outputs": [
    {
     "data": {
      "text/plain": [
       "dict"
      ]
     },
     "execution_count": 348,
     "metadata": {},
     "output_type": "execute_result"
    }
   ],
   "source": [
    "type(year_pop)"
   ]
  },
  {
   "cell_type": "code",
   "execution_count": 349,
   "id": "ff4f8191",
   "metadata": {},
   "outputs": [],
   "source": [
    "# 딕셔너리에서는 어떤 값을 찾아가기 위한 유일한 수단이 '키가 됨\n",
    "# (Note.) 리스트, 튜플, 문자열 등에서는 어떤 값을 찾아가기 위해 원소의 위치를 직접 계산을 했었음"
   ]
  },
  {
   "cell_type": "code",
   "execution_count": 350,
   "id": "629eb329",
   "metadata": {},
   "outputs": [
    {
     "data": {
      "text/plain": [
       "9981304"
      ]
     },
     "execution_count": 350,
     "metadata": {},
     "output_type": "execute_result"
    }
   ],
   "source": [
    "# 2016년도의 population을 알고 싶다면\n",
    "year_pop[2016]"
   ]
  },
  {
   "cell_type": "code",
   "execution_count": null,
   "id": "8186ec68",
   "metadata": {},
   "outputs": [],
   "source": [
    "# 딕셔너리에서는 어떤 값을 찾아가기 위한 유일한 수단 '키'이므로\n",
    "# '키'는 중복이 되어서는 안됨"
   ]
  },
  {
   "cell_type": "code",
   "execution_count": 356,
   "id": "4c95941b",
   "metadata": {},
   "outputs": [],
   "source": [
    "# 아래와 같이 키 값(2016)을 중복해서 사용해도 문법적으로 오류는 안나지만\n",
    "# 실제로 중복된 키(2016)로 색인했을 때 올바른 값을 얻어낼 수 없음\n",
    "# 중복된 값 중 뒤에 있는 값이 조회가 됨\n",
    "year_pop = {2016:9981304, 2016:4072902, 2018:1204857}"
   ]
  },
  {
   "cell_type": "code",
   "execution_count": 357,
   "id": "8e5c0462",
   "metadata": {},
   "outputs": [
    {
     "data": {
      "text/plain": [
       "4072902"
      ]
     },
     "execution_count": 357,
     "metadata": {},
     "output_type": "execute_result"
    }
   ],
   "source": [
    "year_pop[2016]"
   ]
  },
  {
   "cell_type": "code",
   "execution_count": 358,
   "id": "e507a973",
   "metadata": {},
   "outputs": [
    {
     "data": {
      "text/plain": [
       "4072902"
      ]
     },
     "execution_count": 358,
     "metadata": {},
     "output_type": "execute_result"
    }
   ],
   "source": [
    "year_pop[2016]"
   ]
  },
  {
   "cell_type": "code",
   "execution_count": 359,
   "id": "c879af6a",
   "metadata": {},
   "outputs": [
    {
     "data": {
      "text/plain": [
       "{2016: 9981304, 2017: 4072902, 2018: 1204857}"
      ]
     },
     "execution_count": 359,
     "metadata": {},
     "output_type": "execute_result"
    }
   ],
   "source": [
    "# 딕셔너리는 순서가 있는 자료형이 아님 (list나 tuple과는 달리 순서가 없어도 상관없다.)\n",
    "year_pop = {2016:9981304, 2017:4072902, 2018:1204857}\n",
    "year_pop"
   ]
  },
  {
   "cell_type": "code",
   "execution_count": 360,
   "id": "7d3c25ec",
   "metadata": {},
   "outputs": [],
   "source": [
    "# dictionary's key: string, float, bool, tuple, and so on\n",
    "# dictionary's value: all form including list, dictionary "
   ]
  },
  {
   "cell_type": "code",
   "execution_count": 361,
   "id": "74b1b371",
   "metadata": {},
   "outputs": [],
   "source": [
    "# 딕셔너리의 키 값으로는 읽기 가능한 자료형이 와야 함(리스트, 딕셔너리 올 수 없음)"
   ]
  },
  {
   "cell_type": "code",
   "execution_count": 362,
   "id": "1e83dd1f",
   "metadata": {},
   "outputs": [],
   "source": [
    "lux = {'health': 490, 'melee': 500, 'armor': 18.72}"
   ]
  },
  {
   "cell_type": "code",
   "execution_count": 363,
   "id": "9357577a",
   "metadata": {},
   "outputs": [
    {
     "data": {
      "text/plain": [
       "{'health': 490, 'melee': 500, 'armor': 18.72}"
      ]
     },
     "execution_count": 363,
     "metadata": {},
     "output_type": "execute_result"
    }
   ],
   "source": [
    "lux"
   ]
  },
  {
   "cell_type": "code",
   "execution_count": 364,
   "id": "f1c324cb",
   "metadata": {},
   "outputs": [
    {
     "ename": "TypeError",
     "evalue": "unhashable type: 'list'",
     "output_type": "error",
     "traceback": [
      "\u001b[1;31m---------------------------------------------------------------------------\u001b[0m",
      "\u001b[1;31mTypeError\u001b[0m                                 Traceback (most recent call last)",
      "Input \u001b[1;32mIn [364]\u001b[0m, in \u001b[0;36m<cell line: 1>\u001b[1;34m()\u001b[0m\n\u001b[1;32m----> 1\u001b[0m lux \u001b[38;5;241m=\u001b[39m {[\u001b[38;5;241m1\u001b[39m, \u001b[38;5;241m2\u001b[39m, \u001b[38;5;241m3\u001b[39m]: \u001b[38;5;241m490\u001b[39m, \u001b[38;5;124m'\u001b[39m\u001b[38;5;124mmelee\u001b[39m\u001b[38;5;124m'\u001b[39m: \u001b[38;5;241m500\u001b[39m, \u001b[38;5;124m'\u001b[39m\u001b[38;5;124marmor\u001b[39m\u001b[38;5;124m'\u001b[39m: \u001b[38;5;241m18.72\u001b[39m}\n",
      "\u001b[1;31mTypeError\u001b[0m: unhashable type: 'list'"
     ]
    }
   ],
   "source": [
    "lux = {[1, 2, 3]: 490, 'melee': 500, 'armor': 18.72}    # 딕셔너리의 키에 리스트가 들어간 경우"
   ]
  },
  {
   "cell_type": "code",
   "execution_count": 365,
   "id": "4346cca3",
   "metadata": {},
   "outputs": [
    {
     "ename": "TypeError",
     "evalue": "unhashable type: 'dict'",
     "output_type": "error",
     "traceback": [
      "\u001b[1;31m---------------------------------------------------------------------------\u001b[0m",
      "\u001b[1;31mTypeError\u001b[0m                                 Traceback (most recent call last)",
      "Input \u001b[1;32mIn [365]\u001b[0m, in \u001b[0;36m<cell line: 1>\u001b[1;34m()\u001b[0m\n\u001b[1;32m----> 1\u001b[0m lux \u001b[38;5;241m=\u001b[39m {{\u001b[38;5;124m'\u001b[39m\u001b[38;5;124mk\u001b[39m\u001b[38;5;124m'\u001b[39m: \u001b[38;5;124m'\u001b[39m\u001b[38;5;124mv\u001b[39m\u001b[38;5;124m'\u001b[39m}: \u001b[38;5;241m490\u001b[39m, \u001b[38;5;124m'\u001b[39m\u001b[38;5;124mmelee\u001b[39m\u001b[38;5;124m'\u001b[39m: \u001b[38;5;241m500\u001b[39m, \u001b[38;5;124m'\u001b[39m\u001b[38;5;124marmor\u001b[39m\u001b[38;5;124m'\u001b[39m: \u001b[38;5;241m18.72\u001b[39m}\n",
      "\u001b[1;31mTypeError\u001b[0m: unhashable type: 'dict'"
     ]
    }
   ],
   "source": [
    "lux = {{'k': 'v'}: 490, 'melee': 500, 'armor': 18.72}    # 딕셔너리의 키에 딕셔너리가 들어간 경우"
   ]
  },
  {
   "cell_type": "code",
   "execution_count": 367,
   "id": "0f6ae73b",
   "metadata": {},
   "outputs": [],
   "source": [
    "lux = {(1, 2): 490, 'melee': 500, 'armor': 18.72}    # 딕셔너리의 키에 튜플가 들어간 경우 (OK)"
   ]
  },
  {
   "cell_type": "markdown",
   "id": "278af2e5",
   "metadata": {},
   "source": [
    "**빈 딕셔너리 만들기**\n",
    "- 딕셔너리 = {}\n",
    "- 딕셔너리 = dict()"
   ]
  },
  {
   "cell_type": "code",
   "execution_count": 369,
   "id": "1a54d737",
   "metadata": {},
   "outputs": [
    {
     "data": {
      "text/plain": [
       "dict"
      ]
     },
     "execution_count": 369,
     "metadata": {},
     "output_type": "execute_result"
    }
   ],
   "source": [
    "x = {}\n",
    "type(x)"
   ]
  },
  {
   "cell_type": "code",
   "execution_count": 370,
   "id": "fc1f3e3b",
   "metadata": {},
   "outputs": [
    {
     "data": {
      "text/plain": [
       "dict"
      ]
     },
     "execution_count": 370,
     "metadata": {},
     "output_type": "execute_result"
    }
   ],
   "source": [
    "x = dict()\n",
    "type(x)"
   ]
  },
  {
   "cell_type": "markdown",
   "id": "a4cd842f",
   "metadata": {},
   "source": [
    "**dict()로 딕셔너리 만들기**\n",
    "- dictionary = dict(zip([key1, key2], [value1, value2]))\n",
    "- dictionary = dic([(key1, value1), (key2, value2)])"
   ]
  },
  {
   "cell_type": "code",
   "execution_count": 372,
   "id": "9280dbe9",
   "metadata": {},
   "outputs": [
    {
     "data": {
      "text/plain": [
       "<zip at 0x2e457515980>"
      ]
     },
     "execution_count": 372,
     "metadata": {},
     "output_type": "execute_result"
    }
   ],
   "source": [
    "zip(['health', 'melee', 'armor'], [490, 500, 18.72])"
   ]
  },
  {
   "cell_type": "code",
   "execution_count": 373,
   "id": "43234005",
   "metadata": {},
   "outputs": [
    {
     "data": {
      "text/plain": [
       "[('health', 490), ('melee', 500), ('armor', 18.72)]"
      ]
     },
     "execution_count": 373,
     "metadata": {},
     "output_type": "execute_result"
    }
   ],
   "source": [
    "list(zip(['health', 'melee', 'armor'], [490, 500, 18.72]))"
   ]
  },
  {
   "cell_type": "code",
   "execution_count": 374,
   "id": "946d3bac",
   "metadata": {},
   "outputs": [
    {
     "data": {
      "text/plain": [
       "{'health': 490, 'melee': 500, 'armor': 18.72}"
      ]
     },
     "execution_count": 374,
     "metadata": {},
     "output_type": "execute_result"
    }
   ],
   "source": [
    "dict(zip(['health', 'melee', 'armor'], [490, 500, 18.72]))"
   ]
  },
  {
   "cell_type": "code",
   "execution_count": 375,
   "id": "3c24e3b5",
   "metadata": {},
   "outputs": [
    {
     "data": {
      "text/plain": [
       "{'health': 490, 'melee': 500, 'armor': 18.72}"
      ]
     },
     "execution_count": 375,
     "metadata": {},
     "output_type": "execute_result"
    }
   ],
   "source": [
    "dict([('health', 490), ('melee', 500), ('armor', 18.72)])"
   ]
  },
  {
   "cell_type": "markdown",
   "id": "c220ccbe",
   "metadata": {},
   "source": [
    "**딕셔너리의 키로 값 조회하기**\n",
    "- dictionary[key]"
   ]
  },
  {
   "cell_type": "code",
   "execution_count": 376,
   "id": "59a099f7",
   "metadata": {},
   "outputs": [
    {
     "data": {
      "text/plain": [
       "9981304"
      ]
     },
     "execution_count": 376,
     "metadata": {},
     "output_type": "execute_result"
    }
   ],
   "source": [
    "year_pop[2016]"
   ]
  },
  {
   "cell_type": "code",
   "execution_count": 379,
   "id": "8272750d",
   "metadata": {},
   "outputs": [
    {
     "data": {
      "text/plain": [
       "500"
      ]
     },
     "execution_count": 379,
     "metadata": {},
     "output_type": "execute_result"
    }
   ],
   "source": [
    "lux['melee']"
   ]
  },
  {
   "cell_type": "markdown",
   "id": "56e0b623",
   "metadata": {},
   "source": [
    "**딕셔너리의 값 변경하기**\n",
    "- dictionary[key] = value"
   ]
  },
  {
   "cell_type": "code",
   "execution_count": 380,
   "id": "da30e747",
   "metadata": {},
   "outputs": [
    {
     "data": {
      "text/plain": [
       "{(1, 2): 490, 'melee': 500, 'armor': 18.72}"
      ]
     },
     "execution_count": 380,
     "metadata": {},
     "output_type": "execute_result"
    }
   ],
   "source": [
    "lux"
   ]
  },
  {
   "cell_type": "code",
   "execution_count": 381,
   "id": "f485a669",
   "metadata": {},
   "outputs": [
    {
     "data": {
      "text/plain": [
       "{(1, 2): 490, 'melee': 1000, 'armor': 18.72}"
      ]
     },
     "execution_count": 381,
     "metadata": {},
     "output_type": "execute_result"
    }
   ],
   "source": [
    "lux['melee'] = 1000\n",
    "lux"
   ]
  },
  {
   "cell_type": "code",
   "execution_count": 382,
   "id": "de1fbc2c",
   "metadata": {},
   "outputs": [],
   "source": [
    "lux['attack_speed'] = 500"
   ]
  },
  {
   "cell_type": "code",
   "execution_count": 383,
   "id": "2ae2b290",
   "metadata": {},
   "outputs": [
    {
     "data": {
      "text/plain": [
       "{(1, 2): 490, 'melee': 1000, 'armor': 18.72, 'attack_speed': 500}"
      ]
     },
     "execution_count": 383,
     "metadata": {},
     "output_type": "execute_result"
    }
   ],
   "source": [
    "lux"
   ]
  },
  {
   "cell_type": "code",
   "execution_count": 384,
   "id": "d6665817",
   "metadata": {},
   "outputs": [
    {
     "ename": "KeyError",
     "evalue": "'power'",
     "output_type": "error",
     "traceback": [
      "\u001b[1;31m---------------------------------------------------------------------------\u001b[0m",
      "\u001b[1;31mKeyError\u001b[0m                                  Traceback (most recent call last)",
      "Input \u001b[1;32mIn [384]\u001b[0m, in \u001b[0;36m<cell line: 1>\u001b[1;34m()\u001b[0m\n\u001b[1;32m----> 1\u001b[0m \u001b[43mlux\u001b[49m\u001b[43m[\u001b[49m\u001b[38;5;124;43m'\u001b[39;49m\u001b[38;5;124;43mpower\u001b[39;49m\u001b[38;5;124;43m'\u001b[39;49m\u001b[43m]\u001b[49m\n",
      "\u001b[1;31mKeyError\u001b[0m: 'power'"
     ]
    }
   ],
   "source": [
    "lux['power']     # 없는 키로 조회하면 오류"
   ]
  },
  {
   "cell_type": "markdown",
   "id": "a220235c",
   "metadata": {},
   "source": [
    "**딕셔너리에 키가 있는지 확인하기**\n",
    "- 키 in dictionary"
   ]
  },
  {
   "cell_type": "code",
   "execution_count": 385,
   "id": "e4a957e5",
   "metadata": {},
   "outputs": [
    {
     "data": {
      "text/plain": [
       "True"
      ]
     },
     "execution_count": 385,
     "metadata": {},
     "output_type": "execute_result"
    }
   ],
   "source": [
    "a = [1, 2, 3]\n",
    "1 in a"
   ]
  },
  {
   "cell_type": "code",
   "execution_count": 386,
   "id": "3e196df3",
   "metadata": {},
   "outputs": [
    {
     "data": {
      "text/plain": [
       "True"
      ]
     },
     "execution_count": 386,
     "metadata": {},
     "output_type": "execute_result"
    }
   ],
   "source": [
    "'melee' in lux"
   ]
  },
  {
   "cell_type": "code",
   "execution_count": 387,
   "id": "6ad61ada",
   "metadata": {},
   "outputs": [
    {
     "data": {
      "text/plain": [
       "False"
      ]
     },
     "execution_count": 387,
     "metadata": {},
     "output_type": "execute_result"
    }
   ],
   "source": [
    "'power' in lux"
   ]
  },
  {
   "cell_type": "code",
   "execution_count": 388,
   "id": "0c71b891",
   "metadata": {},
   "outputs": [
    {
     "data": {
      "text/plain": [
       "4"
      ]
     },
     "execution_count": 388,
     "metadata": {},
     "output_type": "execute_result"
    }
   ],
   "source": [
    "len(lux)"
   ]
  },
  {
   "cell_type": "markdown",
   "id": "0b401468",
   "metadata": {},
   "source": [
    "# Workshop"
   ]
  },
  {
   "cell_type": "code",
   "execution_count": 389,
   "id": "e3f45da7",
   "metadata": {},
   "outputs": [
    {
     "name": "stdout",
     "output_type": "stream",
     "text": [
      "12\n",
      "8350\n"
     ]
    }
   ],
   "source": [
    "age = int(input())\n",
    "balance = 9000\n",
    "if age >= 7 and age <= 12:\n",
    "    balance -= 650\n",
    "elif age >= 13 and age <= 18:\n",
    "    balance -= 1050\n",
    "elif age >= 19:\n",
    "    balance -= 1250\n",
    "print(balance)"
   ]
  },
  {
   "cell_type": "code",
   "execution_count": 394,
   "id": "d65c1173",
   "metadata": {},
   "outputs": [
    {
     "name": "stdout",
     "output_type": "stream",
     "text": [
      "1\n",
      "Error\n",
      "9000\n"
     ]
    }
   ],
   "source": [
    "age = int(input())\n",
    "balance = 9000\n",
    "\n",
    "if 7 <= age <= 12:  # 어린이\n",
    "    balance -= 650\n",
    "elif 13 <= age <= 18:  # 청소년\n",
    "    balance -= 1050\n",
    "elif age >= 19:    # 성인\n",
    "    balance -= 1250\n",
    "else:\n",
    "    print(\"Error\")\n",
    "print(balance)"
   ]
  },
  {
   "cell_type": "markdown",
   "id": "313f0f07",
   "metadata": {},
   "source": [
    "---"
   ]
  },
  {
   "cell_type": "markdown",
   "id": "489e75b3",
   "metadata": {},
   "source": [
    "**게임 캐릭터 능력 저장**\n",
    "- 표준 입력으로 문자열 여러 개와 숫자(실수) 여러 개가 두 줄로 입력됩니다. 입력된 첫 번째 줄은 키, 두 번째 줄은 값으로 하여 딕셔너리를 생성한 뒤 딕셔너리를 출력하는 프로그램을 만드세요. input().split()의 결과를 변수 한개에 저장하면 리스트로 저장됩니다.\n",
    "```\n",
    "(입력예)\n",
    "health health_regen mana mana_regen\n",
    "575.6 1.7 338.8 1.63\n",
    "(결과)\n",
    "{'health':575.6, 'health_regen':1.7, 'mana':338.8, 'mana_regen':1.63}\n",
    "```"
   ]
  },
  {
   "cell_type": "code",
   "execution_count": 390,
   "id": "9e0281aa",
   "metadata": {},
   "outputs": [
    {
     "name": "stdout",
     "output_type": "stream",
     "text": [
      "health health_regen mana mana_regen\n",
      "575.6 1.7 338.8 1.63\n"
     ]
    },
    {
     "data": {
      "text/plain": [
       "{'health': '575.6',\n",
       " 'health_regen': '1.7',\n",
       " 'mana': '338.8',\n",
       " 'mana_regen': '1.63'}"
      ]
     },
     "execution_count": 390,
     "metadata": {},
     "output_type": "execute_result"
    }
   ],
   "source": [
    "k = input().split()\n",
    "d = input().split()\n",
    "\n",
    "dict(zip(k, d))"
   ]
  },
  {
   "cell_type": "code",
   "execution_count": 391,
   "id": "d8e3e829",
   "metadata": {},
   "outputs": [
    {
     "name": "stdout",
     "output_type": "stream",
     "text": [
      "health healrh_regen mana mana_regen\n",
      "575.6 1.7 338.8 1.63\n"
     ]
    }
   ],
   "source": [
    "key_list = input().split()\n",
    "dict_list = input().split()"
   ]
  },
  {
   "cell_type": "code",
   "execution_count": 392,
   "id": "55471d29",
   "metadata": {},
   "outputs": [
    {
     "data": {
      "text/plain": [
       "{'health': '575.6',\n",
       " 'healrh_regen': '1.7',\n",
       " 'mana': '338.8',\n",
       " 'mana_regen': '1.63'}"
      ]
     },
     "execution_count": 392,
     "metadata": {},
     "output_type": "execute_result"
    }
   ],
   "source": [
    "dict(zip(key_list, dict_list))"
   ]
  },
  {
   "cell_type": "code",
   "execution_count": null,
   "id": "21674e51",
   "metadata": {},
   "outputs": [],
   "source": []
  }
 ],
 "metadata": {
  "kernelspec": {
   "display_name": "Python 3 (ipykernel)",
   "language": "python",
   "name": "python3"
  },
  "language_info": {
   "codemirror_mode": {
    "name": "ipython",
    "version": 3
   },
   "file_extension": ".py",
   "mimetype": "text/x-python",
   "name": "python",
   "nbconvert_exporter": "python",
   "pygments_lexer": "ipython3",
   "version": "3.9.12"
  }
 },
 "nbformat": 4,
 "nbformat_minor": 5
}
