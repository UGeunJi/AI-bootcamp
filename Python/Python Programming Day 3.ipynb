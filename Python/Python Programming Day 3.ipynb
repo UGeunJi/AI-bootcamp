{
 "cells": [
  {
   "cell_type": "markdown",
   "id": "111fddbc",
   "metadata": {},
   "source": [
    "# Day 2 review"
   ]
  },
  {
   "cell_type": "markdown",
   "id": "77c9bf35",
   "metadata": {},
   "source": [
    "- sequence object\n",
    "- index\n",
    "- sequence object[index]\n",
    "- range, del, ...\n",
    "- sequence object[start_index:end_index:interval] (slice), (omit O)\n",
    "- dictionary = {key:value}      (sequence X, overlap X)"
   ]
  },
  {
   "cell_type": "markdown",
   "id": "444bf8f0",
   "metadata": {},
   "source": [
    "---"
   ]
  },
  {
   "cell_type": "markdown",
   "id": "82785724",
   "metadata": {},
   "source": [
    "# for, range 사용"
   ]
  },
  {
   "cell_type": "code",
   "execution_count": 9,
   "id": "3b047f16",
   "metadata": {},
   "outputs": [],
   "source": [
    "for 변수 in range(횟수):\n",
    "    반복할 코드"
   ]
  },
  {
   "cell_type": "code",
   "execution_count": 12,
   "id": "330ce874",
   "metadata": {},
   "outputs": [
    {
     "name": "stdout",
     "output_type": "stream",
     "text": [
      "Hello World! 0\n",
      "Hello World! 1\n",
      "Hello World! 2\n",
      "Hello World! 3\n",
      "Hello World! 4\n",
      "Hello World! 5\n",
      "Hello World! 6\n",
      "Hello World! 7\n",
      "Hello World! 8\n",
      "Hello World! 9\n"
     ]
    }
   ],
   "source": [
    "for i in range(10):\n",
    "    print(\"Hello World!\", i)"
   ]
  },
  {
   "cell_type": "code",
   "execution_count": 8,
   "id": "db508402",
   "metadata": {},
   "outputs": [],
   "source": [
    "for 변수 in range(시작, 끝, 증가폭):\n",
    "    반복할 코드"
   ]
  },
  {
   "cell_type": "code",
   "execution_count": 13,
   "id": "a214c49f",
   "metadata": {},
   "outputs": [
    {
     "name": "stdout",
     "output_type": "stream",
     "text": [
      "Hello world! 0\n",
      "Hello world! 2\n",
      "Hello world! 4\n",
      "Hello world! 6\n",
      "Hello world! 8\n"
     ]
    }
   ],
   "source": [
    "for i in range(0, 10, 2):\n",
    "    print(\"Hello world!\", i)"
   ]
  },
  {
   "cell_type": "code",
   "execution_count": 14,
   "id": "618bca74",
   "metadata": {},
   "outputs": [
    {
     "name": "stdout",
     "output_type": "stream",
     "text": [
      "Hello World! 10\n",
      "Hello World! 9\n",
      "Hello World! 8\n",
      "Hello World! 7\n",
      "Hello World! 6\n",
      "Hello World! 5\n",
      "Hello World! 4\n",
      "Hello World! 3\n",
      "Hello World! 2\n",
      "Hello World! 1\n"
     ]
    }
   ],
   "source": [
    "for i in range(10, 0, -1):\n",
    "    print(\"Hello World!\", i)"
   ]
  },
  {
   "cell_type": "code",
   "execution_count": 17,
   "id": "f5c27136",
   "metadata": {},
   "outputs": [
    {
     "name": "stdout",
     "output_type": "stream",
     "text": [
      "Hello World! 0 0\n",
      "Hello World! 1 2\n",
      "Hello World! 2 4\n",
      "Hello World! 3 6\n",
      "Hello World! 4 8\n"
     ]
    }
   ],
   "source": [
    "# enumerate는 시퀀스 객체의 값뿐만 아니라 인덱스까지도 반환해줌\n",
    "for i, v in enumerate(range(0, 10, 2)):\n",
    "    print(\"Hello World!\", i, v)     # enumearate를 사용하면 index가 따라붙는다. index는 변수1에, valte는 변수2에 저장"
   ]
  },
  {
   "cell_type": "markdown",
   "id": "4309f2b4",
   "metadata": {},
   "source": [
    "for 변수 in 시퀀스 객체:\n",
    "    반복할 코드"
   ]
  },
  {
   "cell_type": "code",
   "execution_count": 18,
   "id": "523114ee",
   "metadata": {},
   "outputs": [
    {
     "name": "stdout",
     "output_type": "stream",
     "text": [
      "H\n",
      "e\n",
      "l\n",
      "l\n",
      "o\n"
     ]
    }
   ],
   "source": [
    "for i in \"Hello\":       # 문자\n",
    "    print(i)"
   ]
  },
  {
   "cell_type": "code",
   "execution_count": 19,
   "id": "387ba828",
   "metadata": {},
   "outputs": [
    {
     "name": "stdout",
     "output_type": "stream",
     "text": [
      "1\n",
      "2\n",
      "3\n"
     ]
    }
   ],
   "source": [
    "for i in [1, 2, 3]:       # list\n",
    "    print(i)"
   ]
  },
  {
   "cell_type": "code",
   "execution_count": 20,
   "id": "5c4b3b82",
   "metadata": {},
   "outputs": [
    {
     "name": "stdout",
     "output_type": "stream",
     "text": [
      "1\n",
      "2\n",
      "3\n"
     ]
    }
   ],
   "source": [
    "for i in (1, 2, 3):     # tuple\n",
    "    print(i)"
   ]
  },
  {
   "cell_type": "markdown",
   "id": "5429c3f4",
   "metadata": {},
   "source": [
    "- for i in enumearate(sequence object):"
   ]
  },
  {
   "cell_type": "code",
   "execution_count": 21,
   "id": "7f444efd",
   "metadata": {},
   "outputs": [
    {
     "name": "stdout",
     "output_type": "stream",
     "text": [
      "0 H\n",
      "1 e\n",
      "2 l\n",
      "3 l\n",
      "4 o\n"
     ]
    }
   ],
   "source": [
    "for i, v in enumerate(\"Hello\"):\n",
    "    print(i, v)"
   ]
  },
  {
   "cell_type": "code",
   "execution_count": null,
   "id": "a77c6684",
   "metadata": {},
   "outputs": [],
   "source": [
    "for i in reversed(sequence object):\n",
    "    반복할 코드"
   ]
  },
  {
   "cell_type": "code",
   "execution_count": 22,
   "id": "00f896b5",
   "metadata": {},
   "outputs": [
    {
     "name": "stdout",
     "output_type": "stream",
     "text": [
      "3\n",
      "2\n",
      "1\n"
     ]
    }
   ],
   "source": [
    "for i in reversed((1, 2, 3)):\n",
    "    print(i)"
   ]
  },
  {
   "cell_type": "code",
   "execution_count": 23,
   "id": "fefc5423",
   "metadata": {},
   "outputs": [
    {
     "name": "stdout",
     "output_type": "stream",
     "text": [
      "n\n",
      "o\n",
      "h\n",
      "t\n",
      "y\n",
      "P\n"
     ]
    }
   ],
   "source": [
    "for i in reversed(\"Python\"):\n",
    "    print(i)"
   ]
  },
  {
   "cell_type": "markdown",
   "id": "8492f177",
   "metadata": {},
   "source": [
    "# Workshop"
   ]
  },
  {
   "cell_type": "code",
   "execution_count": 37,
   "id": "71b02161",
   "metadata": {},
   "outputs": [
    {
     "name": "stdout",
     "output_type": "stream",
     "text": [
      "15\n",
      "15 * 1 = 15\n",
      "15 * 2 = 30\n",
      "15 * 3 = 45\n",
      "15 * 4 = 60\n",
      "15 * 5 = 75\n",
      "15 * 6 = 90\n",
      "15 * 7 = 105\n",
      "15 * 8 = 120\n",
      "15 * 9 = 135\n"
     ]
    }
   ],
   "source": [
    "a = int(input())\n",
    "for i in range(1, 10):\n",
    "    print(a, '*', i, '=' , a * i)"
   ]
  },
  {
   "cell_type": "code",
   "execution_count": 40,
   "id": "4c1532ea",
   "metadata": {},
   "outputs": [
    {
     "data": {
      "text/plain": [
       "'Hello'"
      ]
     },
     "execution_count": 40,
     "metadata": {},
     "output_type": "execute_result"
    }
   ],
   "source": [
    "\"Hello\".format()"
   ]
  },
  {
   "cell_type": "code",
   "execution_count": 43,
   "id": "7ac367a1",
   "metadata": {},
   "outputs": [
    {
     "name": "stdout",
     "output_type": "stream",
     "text": [
      "5\n",
      "5 * 1 = 5\n",
      "5 * 2 = 10\n",
      "5 * 3 = 15\n",
      "5 * 4 = 20\n",
      "5 * 5 = 25\n",
      "5 * 6 = 30\n",
      "5 * 7 = 35\n",
      "5 * 8 = 40\n",
      "5 * 9 = 45\n"
     ]
    }
   ],
   "source": [
    "# option 1  (format 함수 사용)\n",
    "\n",
    "x = int(input())\n",
    "for i in range(1, 10):\n",
    "    print(\"{0} * {1} = {2}\".format(x, i, x * i))     # format을 사용하여 C언어에서의 #d, #f, ...와 같은 것들을 파이썬으로 표현"
   ]
  },
  {
   "cell_type": "code",
   "execution_count": 46,
   "id": "125d44cd",
   "metadata": {},
   "outputs": [
    {
     "name": "stdout",
     "output_type": "stream",
     "text": [
      "5\n",
      "5 * 1 = 5\n",
      "10 * 2 = 5\n",
      "15 * 3 = 5\n",
      "20 * 4 = 5\n",
      "25 * 5 = 5\n",
      "30 * 6 = 5\n",
      "35 * 7 = 5\n",
      "40 * 8 = 5\n",
      "45 * 9 = 5\n"
     ]
    }
   ],
   "source": [
    "x = int(input())\n",
    "for i in range(1, 10):\n",
    "    print(\"{2} * {1} = {0}\".format(x, i, x * i))         # 입력하는 숫자에 따라서 입력되는 순서가 달라짐"
   ]
  },
  {
   "cell_type": "code",
   "execution_count": 49,
   "id": "485bede6",
   "metadata": {},
   "outputs": [
    {
     "name": "stdout",
     "output_type": "stream",
     "text": [
      "5\n",
      "5 * 1 = 5\n",
      "5 * 2 = 10\n",
      "5 * 3 = 15\n",
      "5 * 4 = 20\n",
      "5 * 5 = 25\n",
      "5 * 6 = 30\n",
      "5 * 7 = 35\n",
      "5 * 8 = 40\n",
      "5 * 9 = 45\n"
     ]
    }
   ],
   "source": [
    "# option 2   (서식 지정자 %)\n",
    "\n",
    "x = int(input())\n",
    "for i in range(1, 10):\n",
    "    print(\"%d * %d = %d\" % (x, i, x * i))     # C언어에서의 ,(comma) 대신 파이썬에서는 %를 입력해준다."
   ]
  },
  {
   "cell_type": "code",
   "execution_count": 51,
   "id": "e9c755d6",
   "metadata": {},
   "outputs": [
    {
     "name": "stdout",
     "output_type": "stream",
     "text": [
      "5\n",
      "5 * 1 = 5\n",
      "5 * 2 = 10\n",
      "5 * 3 = 15\n",
      "5 * 4 = 20\n",
      "5 * 5 = 25\n",
      "5 * 6 = 30\n",
      "5 * 7 = 35\n",
      "5 * 8 = 40\n",
      "5 * 9 = 45\n"
     ]
    }
   ],
   "source": [
    "# option 3 (문자열 포매팅(formatting) f를 붙이는 방법)\n",
    "\n",
    "x = int(input())\n",
    "for i in range(1, 10):\n",
    "    print(f\"{x} * {i} = {x * i}\")"
   ]
  },
  {
   "cell_type": "code",
   "execution_count": 56,
   "id": "dd5a0a14",
   "metadata": {},
   "outputs": [
    {
     "name": "stdout",
     "output_type": "stream",
     "text": [
      "Hello World! 0\n",
      "Hello World! 1\n",
      "Hello World! 2\n",
      "Hello World! 3\n",
      "Hello World! 4\n",
      "Hello World! 5\n",
      "Hello World! 6\n",
      "Hello World! 7\n",
      "Hello World! 8\n",
      "Hello World! 9\n"
     ]
    }
   ],
   "source": [
    "i = 0                         # 초기식\n",
    "while i < 10:                # while 조건식\n",
    "    print(\"Hello World!\", i)    # 반복할 코드\n",
    "    i += 1                  # 변화식 (없으면 무한 실행)"
   ]
  },
  {
   "cell_type": "markdown",
   "id": "09e1fb5b",
   "metadata": {},
   "source": [
    "# while 반복문 사용하기"
   ]
  },
  {
   "cell_type": "markdown",
   "id": "a1696a28",
   "metadata": {},
   "source": [
    "```\n",
    "초기식\n",
    "while 조건식:\n",
    "    반복할 코드\n",
    "    변화식\n",
    "```    "
   ]
  },
  {
   "cell_type": "code",
   "execution_count": 57,
   "id": "c4507118",
   "metadata": {},
   "outputs": [
    {
     "name": "stdout",
     "output_type": "stream",
     "text": [
      "Hello World!\n",
      "Hello World!\n",
      "Hello World!\n",
      "Hello World!\n",
      "Hello World!\n",
      "Hello World!\n",
      "Hello World!\n",
      "Hello World!\n",
      "Hello World!\n",
      "Hello World!\n"
     ]
    }
   ],
   "source": [
    "i = 10\n",
    "while i > 0:\n",
    "    print(\"Hello World!\")\n",
    "    i -= 1"
   ]
  },
  {
   "cell_type": "code",
   "execution_count": 65,
   "id": "4b49b58f",
   "metadata": {},
   "outputs": [
    {
     "data": {
      "text/plain": [
       "3"
      ]
     },
     "execution_count": 65,
     "metadata": {},
     "output_type": "execute_result"
    }
   ],
   "source": [
    "import random\n",
    "\n",
    "random.randint(1, 6)"
   ]
  },
  {
   "cell_type": "code",
   "execution_count": 74,
   "id": "46ce075e",
   "metadata": {},
   "outputs": [
    {
     "name": "stdout",
     "output_type": "stream",
     "text": [
      "4\n",
      "4\n",
      "6\n",
      "2\n",
      "5\n",
      "5\n",
      "4\n",
      "4\n",
      "4\n",
      "2\n",
      "6\n",
      "1\n",
      "3\n"
     ]
    }
   ],
   "source": [
    "i = 0\n",
    "while i != 3:\n",
    "    i = random.randint(1, 6)              \n",
    "    print(i)"
   ]
  },
  {
   "cell_type": "markdown",
   "id": "f32757da",
   "metadata": {},
   "source": [
    "---"
   ]
  },
  {
   "cell_type": "code",
   "execution_count": 75,
   "id": "4ea6c099",
   "metadata": {},
   "outputs": [
    {
     "name": "stdout",
     "output_type": "stream",
     "text": [
      "30000\n",
      "28650\n",
      "27300\n",
      "25950\n",
      "24600\n",
      "23250\n",
      "21900\n",
      "20550\n",
      "19200\n",
      "17850\n",
      "16500\n",
      "15150\n",
      "13800\n",
      "12450\n",
      "11100\n",
      "9750\n",
      "8400\n",
      "7050\n",
      "5700\n",
      "4350\n",
      "3000\n",
      "1650\n",
      "300\n"
     ]
    }
   ],
   "source": [
    "balance = int(input())\n",
    "while balance > 1340:\n",
    "    balance -= 1350\n",
    "    print(balance)"
   ]
  },
  {
   "cell_type": "markdown",
   "id": "63bd1819",
   "metadata": {},
   "source": [
    "---"
   ]
  },
  {
   "cell_type": "code",
   "execution_count": 92,
   "id": "91afac23",
   "metadata": {},
   "outputs": [
    {
     "name": "stdout",
     "output_type": "stream",
     "text": [
      "3 13 23 33 43 53 63 73 "
     ]
    }
   ],
   "source": [
    "for i in range(0, 80):\n",
    "    if i % 10 == 3:\n",
    "        print(i, end = \" \")"
   ]
  },
  {
   "cell_type": "code",
   "execution_count": 88,
   "id": "30fd77fd",
   "metadata": {},
   "outputs": [
    {
     "name": "stdout",
     "output_type": "stream",
     "text": [
      "3 13 23 33 43 53 63 73 "
     ]
    }
   ],
   "source": [
    "for i in range(74):\n",
    "    if (i % 10) == 3:\n",
    "        print(i, end = \" \")"
   ]
  },
  {
   "cell_type": "code",
   "execution_count": 89,
   "id": "780383ce",
   "metadata": {},
   "outputs": [
    {
     "name": "stdout",
     "output_type": "stream",
     "text": [
      "0\n",
      "1\n",
      "2\n",
      "3\n",
      "4\n",
      "5\n",
      "6\n",
      "7\n",
      "8\n",
      "9\n"
     ]
    }
   ],
   "source": [
    "# break문 사용법\n",
    "\n",
    "i = 0\n",
    "while True:\n",
    "    print(i)\n",
    "    i += 1\n",
    "    if i == 10:\n",
    "        break"
   ]
  },
  {
   "cell_type": "code",
   "execution_count": 91,
   "id": "f219cd91",
   "metadata": {},
   "outputs": [
    {
     "name": "stdout",
     "output_type": "stream",
     "text": [
      "3 13 23 33 43 53 63 73 "
     ]
    }
   ],
   "source": [
    "# continue\n",
    "\n",
    "for i in range(74):\n",
    "    if (i % 10) != 3:\n",
    "        continue\n",
    "    else:\n",
    "        print(i, end = \" \")"
   ]
  },
  {
   "cell_type": "code",
   "execution_count": 96,
   "id": "5ddf1672",
   "metadata": {},
   "outputs": [
    {
     "name": "stdout",
     "output_type": "stream",
     "text": [
      "0\n",
      "1\n",
      "2\n",
      "3\n",
      "4\n",
      "5\n",
      "6\n",
      "7\n",
      "8\n",
      "9\n",
      "10\n",
      "11\n",
      "12\n",
      "13\n",
      "14\n",
      "15\n",
      "16\n",
      "17\n",
      "18\n",
      "19\n",
      "20\n",
      "21\n",
      "22\n",
      "23\n",
      "24\n",
      "25\n",
      "26\n",
      "27\n",
      "28\n",
      "29\n",
      "30\n",
      "31\n",
      "32\n",
      "33\n",
      "34\n",
      "35\n",
      "36\n",
      "37\n",
      "38\n",
      "39\n",
      "40\n",
      "41\n",
      "42\n",
      "43\n",
      "44\n",
      "45\n",
      "46\n",
      "47\n",
      "48\n",
      "49\n",
      "50\n",
      "51\n",
      "52\n",
      "53\n",
      "54\n",
      "55\n",
      "56\n",
      "57\n",
      "58\n",
      "59\n",
      "60\n",
      "61\n",
      "62\n",
      "63\n",
      "64\n",
      "65\n",
      "66\n",
      "67\n",
      "68\n",
      "69\n",
      "70\n",
      "71\n",
      "72\n",
      "73\n"
     ]
    }
   ],
   "source": [
    "i = 0\n",
    "while True:\n",
    "    if i > 73:\n",
    "        break\n",
    "    print(i)\n",
    "    i += 1"
   ]
  },
  {
   "cell_type": "code",
   "execution_count": 98,
   "id": "aa22f21b",
   "metadata": {},
   "outputs": [
    {
     "name": "stdout",
     "output_type": "stream",
     "text": [
      "3 13 23 33 43 53 63 73 "
     ]
    }
   ],
   "source": [
    "i = 0\n",
    "while True:\n",
    "    if i % 10 != 3:\n",
    "        i += 1\n",
    "        continue\n",
    "        \n",
    "    if i > 73:\n",
    "        break\n",
    "    print(i, end = \" \")\n",
    "    i += 1"
   ]
  },
  {
   "cell_type": "markdown",
   "id": "6a72144d",
   "metadata": {},
   "source": [
    "---"
   ]
  },
  {
   "cell_type": "code",
   "execution_count": 132,
   "id": "5674e71d",
   "metadata": {},
   "outputs": [
    {
     "name": "stdout",
     "output_type": "stream",
     "text": [
      "l의 개수 : 1\n"
     ]
    },
    {
     "ename": "TypeError",
     "evalue": "'int' object is not iterable",
     "output_type": "error",
     "traceback": [
      "\u001b[1;31m---------------------------------------------------------------------------\u001b[0m",
      "\u001b[1;31mTypeError\u001b[0m                                 Traceback (most recent call last)",
      "Input \u001b[1;32mIn [132]\u001b[0m, in \u001b[0;36m<cell line: 8>\u001b[1;34m()\u001b[0m\n\u001b[0;32m      8\u001b[0m \u001b[38;5;28;01mfor\u001b[39;00m i \u001b[38;5;129;01min\u001b[39;00m s_list:\n\u001b[0;32m      9\u001b[0m     \u001b[38;5;28mprint\u001b[39m(\u001b[38;5;124m'\u001b[39m\u001b[38;5;132;01m%s\u001b[39;00m\u001b[38;5;124m의 개수 : \u001b[39m\u001b[38;5;132;01m%d\u001b[39;00m\u001b[38;5;124m'\u001b[39m \u001b[38;5;241m%\u001b[39m (i,s_list\u001b[38;5;241m.\u001b[39mcount(i)))\n\u001b[1;32m---> 10\u001b[0m     \u001b[38;5;28mlist\u001b[39m(\u001b[38;5;28;43mzip\u001b[39;49m\u001b[43m(\u001b[49m\u001b[38;5;28;43mlist\u001b[39;49m\u001b[43m(\u001b[49m\u001b[43mi\u001b[49m\u001b[43m)\u001b[49m\u001b[43m,\u001b[49m\u001b[43m \u001b[49m\u001b[43ms_list\u001b[49m\u001b[38;5;241;43m.\u001b[39;49m\u001b[43mcount\u001b[49m\u001b[43m(\u001b[49m\u001b[43mi\u001b[49m\u001b[43m)\u001b[49m\u001b[43m)\u001b[49m)\n",
      "\u001b[1;31mTypeError\u001b[0m: 'int' object is not iterable"
     ]
    }
   ],
   "source": [
    "s = 'life is short, so python is easy.'\n",
    "punct = ',.'\n",
    "d = {}\n",
    "\n",
    "s_list = list(s)\n",
    "s_list\n",
    "\n",
    "for i in s_list:\n",
    "    print('%s의 개수 : %d' % (i,s_list.count(i)))\n",
    "    list(zip(list(i), s_list.count(i)))"
   ]
  },
  {
   "cell_type": "code",
   "execution_count": 107,
   "id": "dec263ef",
   "metadata": {},
   "outputs": [
    {
     "name": "stdout",
     "output_type": "stream",
     "text": [
      "l의 개수 : 1\n"
     ]
    },
    {
     "ename": "TypeError",
     "evalue": "'int' object is not iterable",
     "output_type": "error",
     "traceback": [
      "\u001b[1;31m---------------------------------------------------------------------------\u001b[0m",
      "\u001b[1;31mTypeError\u001b[0m                                 Traceback (most recent call last)",
      "Input \u001b[1;32mIn [107]\u001b[0m, in \u001b[0;36m<cell line: 1>\u001b[1;34m()\u001b[0m\n\u001b[0;32m      1\u001b[0m \u001b[38;5;28;01mfor\u001b[39;00m i \u001b[38;5;129;01min\u001b[39;00m s_list:\n\u001b[0;32m      2\u001b[0m     \u001b[38;5;28mprint\u001b[39m(\u001b[38;5;124m'\u001b[39m\u001b[38;5;132;01m%s\u001b[39;00m\u001b[38;5;124m의 개수 : \u001b[39m\u001b[38;5;132;01m%d\u001b[39;00m\u001b[38;5;124m'\u001b[39m \u001b[38;5;241m%\u001b[39m (i,s_list\u001b[38;5;241m.\u001b[39mcount(i)))\n\u001b[1;32m----> 3\u001b[0m     e \u001b[38;5;241m+\u001b[39m\u001b[38;5;241m=\u001b[39m \u001b[38;5;28;43mlist\u001b[39;49m\u001b[43m(\u001b[49m\u001b[43ms_list\u001b[49m\u001b[38;5;241;43m.\u001b[39;49m\u001b[43mcount\u001b[49m\u001b[43m(\u001b[49m\u001b[43mi\u001b[49m\u001b[43m)\u001b[49m\u001b[43m)\u001b[49m\n",
      "\u001b[1;31mTypeError\u001b[0m: 'int' object is not iterable"
     ]
    }
   ],
   "source": [
    "for i in s_list:\n",
    "    print('%s의 개수 : %d' % (i,s_list.count(i)))\n",
    "    \n",
    "for i in s_list:\n",
    "    dict(list(zip(s_list, s_list.count(i))))"
   ]
  },
  {
   "cell_type": "code",
   "execution_count": 127,
   "id": "f41663a2",
   "metadata": {},
   "outputs": [],
   "source": [
    "s = 'life is short, so python is easy.'\n",
    "punct = ',. '\n",
    "d = {}\n",
    "\n",
    "for c in s:\n",
    "    # print(c)\n",
    "    if c in punct:\n",
    "        continue\n",
    "    if c not in d:\n",
    "        d[c] = 0\n",
    "    if c in d:\n",
    "        d[c] += 1"
   ]
  },
  {
   "cell_type": "code",
   "execution_count": 128,
   "id": "32eff207",
   "metadata": {},
   "outputs": [
    {
     "data": {
      "text/plain": [
       "{'l': 1,\n",
       " 'i': 3,\n",
       " 'f': 1,\n",
       " 'e': 2,\n",
       " 's': 5,\n",
       " 'h': 2,\n",
       " 'o': 3,\n",
       " 'r': 1,\n",
       " 't': 2,\n",
       " 'p': 1,\n",
       " 'y': 2,\n",
       " 'n': 1,\n",
       " 'a': 1}"
      ]
     },
     "execution_count": 128,
     "metadata": {},
     "output_type": "execute_result"
    }
   ],
   "source": [
    "d"
   ]
  },
  {
   "cell_type": "markdown",
   "id": "c889c202",
   "metadata": {},
   "source": [
    "# 중첩 루트 사용하기"
   ]
  },
  {
   "cell_type": "code",
   "execution_count": 139,
   "id": "f2d0eefd",
   "metadata": {},
   "outputs": [
    {
     "name": "stdout",
     "output_type": "stream",
     "text": [
      "* * * * * \n",
      "* * * * * \n",
      "* * * * * \n"
     ]
    }
   ],
   "source": [
    "for j in range(3):\n",
    "    for i in range(5):\n",
    "        print('*', end = \" \")\n",
    "    print()"
   ]
  },
  {
   "cell_type": "markdown",
   "id": "b1979ae6",
   "metadata": {},
   "source": [
    "```\n",
    "**계단식으로 별 출력하기 (1)**\n",
    "*\n",
    "**\n",
    "***\n",
    "****\n",
    "*****\n",
    "```"
   ]
  },
  {
   "cell_type": "code",
   "execution_count": 173,
   "id": "535b1deb",
   "metadata": {},
   "outputs": [
    {
     "name": "stdout",
     "output_type": "stream",
     "text": [
      "     *\n",
      "     **\n",
      "     ***\n",
      "     ****\n",
      "     *****\n"
     ]
    }
   ],
   "source": [
    "for j in range(1, 6):\n",
    "    for i in range(5):\n",
    "        print(end = \" \")\n",
    "    print(j * '*')"
   ]
  },
  {
   "cell_type": "code",
   "execution_count": null,
   "id": "e141223d",
   "metadata": {},
   "outputs": [],
   "source": []
  },
  {
   "cell_type": "markdown",
   "id": "1d272eaf",
   "metadata": {},
   "source": [
    "```\n",
    "**계단식으로 별 출력하기 (2)**\n",
    "*****\n",
    "****\n",
    "***\n",
    "**\n",
    "*\n",
    "```"
   ]
  },
  {
   "cell_type": "code",
   "execution_count": 160,
   "id": "43c3b82f",
   "metadata": {},
   "outputs": [
    {
     "name": "stdout",
     "output_type": "stream",
     "text": [
      "     *****\n",
      "     ****\n",
      "     ***\n",
      "     **\n",
      "     *\n"
     ]
    }
   ],
   "source": [
    "for j in range(5, 0, -1):\n",
    "    for i in range(5):\n",
    "        print(end = \" \")\n",
    "    print(j * '*')"
   ]
  },
  {
   "cell_type": "code",
   "execution_count": 175,
   "id": "9616c976",
   "metadata": {},
   "outputs": [
    {
     "name": "stdout",
     "output_type": "stream",
     "text": [
      "*****\n",
      " ****\n",
      "  ***\n",
      "   **\n",
      "    *\n"
     ]
    }
   ],
   "source": [
    "for i in range(5):      # i: 0 -> 1 -> 2 -> 3 -> 4\n",
    "    # 1. 공백\n",
    "    for j in range(i):       # j: 0 -> 1 -> 2 -> 3 -> 4\n",
    "        print(\" \", end = '')\n",
    "        \n",
    "    # 2. 별\n",
    "    \n",
    "    for k in range(5-i): # k: 5 -> 4 -> 3 -> 2 -> 1\n",
    "        print(\"*\", end = '')\n",
    "    print()"
   ]
  },
  {
   "cell_type": "markdown",
   "id": "520d5d2b",
   "metadata": {},
   "source": [
    "```\n",
    "**별로 산 만들기**\n",
    "    *\n",
    "   ***\n",
    "  *****\n",
    " *******\n",
    "*********\n",
    "```"
   ]
  },
  {
   "cell_type": "code",
   "execution_count": 180,
   "id": "72687843",
   "metadata": {},
   "outputs": [
    {
     "name": "stdout",
     "output_type": "stream",
     "text": [
      "    *\n",
      "   ***\n",
      "  *****\n",
      " *******\n",
      "*********\n"
     ]
    }
   ],
   "source": [
    "for i in range(1, 6):      # i: 1 -> 2 -> 3 -> 4 -> 5\n",
    "    # 1. 공백\n",
    "    for j in range(5-i):   # j: 4 -> 3 -> 2 -> 1 -> 0\n",
    "        print(\" \", end = \"\")\n",
    "        \n",
    "    # 2. 별\n",
    "    for k in range(2 * i - 1):   # k: 1 -> 3 -> 5 -> 7 -> 9\n",
    "        print(\"*\", end = \"\")\n",
    "    print()"
   ]
  },
  {
   "cell_type": "code",
   "execution_count": 178,
   "id": "e8db3af0",
   "metadata": {},
   "outputs": [
    {
     "name": "stdout",
     "output_type": "stream",
     "text": [
      "     *\n",
      "     ***\n",
      "     *****\n",
      "     *******\n",
      "     *********\n"
     ]
    }
   ],
   "source": [
    "for j in range(1, 10, 2):\n",
    "    for i in range(5):\n",
    "        print(end = \" \")\n",
    "    print(j * '*')"
   ]
  },
  {
   "cell_type": "markdown",
   "id": "4686bfd6",
   "metadata": {},
   "source": [
    "# FizzBuzz 문제"
   ]
  },
  {
   "cell_type": "code",
   "execution_count": 193,
   "id": "c5e9772d",
   "metadata": {},
   "outputs": [
    {
     "name": "stdout",
     "output_type": "stream",
     "text": [
      "1\n",
      "2\n",
      "Fizz\n",
      "4\n",
      "Buzz\n",
      "Fizz\n",
      "7\n",
      "8\n",
      "Fizz\n",
      "Buzz\n",
      "11\n",
      "Fizz\n",
      "13\n",
      "14\n",
      "FizzBuzz\n",
      "16\n",
      "17\n",
      "Fizz\n",
      "19\n",
      "Buzz\n",
      "Fizz\n",
      "22\n",
      "23\n",
      "Fizz\n",
      "Buzz\n",
      "26\n",
      "Fizz\n",
      "28\n",
      "29\n",
      "FizzBuzz\n",
      "31\n",
      "32\n",
      "Fizz\n",
      "34\n",
      "Buzz\n",
      "Fizz\n",
      "37\n",
      "38\n",
      "Fizz\n",
      "Buzz\n",
      "41\n",
      "Fizz\n",
      "43\n",
      "44\n",
      "FizzBuzz\n",
      "46\n",
      "47\n",
      "Fizz\n",
      "49\n",
      "Buzz\n",
      "Fizz\n",
      "52\n",
      "53\n",
      "Fizz\n",
      "Buzz\n",
      "56\n",
      "Fizz\n",
      "58\n",
      "59\n",
      "FizzBuzz\n",
      "61\n",
      "62\n",
      "Fizz\n",
      "64\n",
      "Buzz\n",
      "Fizz\n",
      "67\n",
      "68\n",
      "Fizz\n",
      "Buzz\n",
      "71\n",
      "Fizz\n",
      "73\n",
      "74\n",
      "FizzBuzz\n",
      "76\n",
      "77\n",
      "Fizz\n",
      "79\n",
      "Buzz\n",
      "Fizz\n",
      "82\n",
      "83\n",
      "Fizz\n",
      "Buzz\n",
      "86\n",
      "Fizz\n",
      "88\n",
      "89\n",
      "FizzBuzz\n",
      "91\n",
      "92\n",
      "Fizz\n",
      "94\n",
      "Buzz\n",
      "Fizz\n",
      "97\n",
      "98\n",
      "Fizz\n",
      "Buzz\n"
     ]
    }
   ],
   "source": [
    "for i in range(1, 101):\n",
    "    if i % 15 == 0:\n",
    "        print(\"FizzBuzz\")\n",
    "    elif i % 3 == 0:\n",
    "        print(\"Fizz\")\n",
    "    elif i % 5 == 0:\n",
    "        print(\"Buzz\")\n",
    "    else:\n",
    "        print(i)"
   ]
  },
  {
   "cell_type": "markdown",
   "id": "0b3a99d0",
   "metadata": {},
   "source": [
    "# list applying"
   ]
  },
  {
   "cell_type": "markdown",
   "id": "18fa161d",
   "metadata": {},
   "source": [
    "- append: 요소 하나를 추가\n",
    "- extend: 리스트를 연결하여 확장\n",
    "- insert: 특정 인덱스에 요소 추가"
   ]
  },
  {
   "cell_type": "code",
   "execution_count": 194,
   "id": "014e2f00",
   "metadata": {},
   "outputs": [],
   "source": [
    "a = [10, 20, 30]"
   ]
  },
  {
   "cell_type": "code",
   "execution_count": 195,
   "id": "8670bcfe",
   "metadata": {},
   "outputs": [],
   "source": [
    "a.append(500)"
   ]
  },
  {
   "cell_type": "code",
   "execution_count": 196,
   "id": "e4102b3b",
   "metadata": {},
   "outputs": [
    {
     "data": {
      "text/plain": [
       "[10, 20, 30, 500]"
      ]
     },
     "execution_count": 196,
     "metadata": {},
     "output_type": "execute_result"
    }
   ],
   "source": [
    "a"
   ]
  },
  {
   "cell_type": "code",
   "execution_count": 197,
   "id": "4635c819",
   "metadata": {},
   "outputs": [],
   "source": [
    "a = []\n",
    "a.append(10)"
   ]
  },
  {
   "cell_type": "code",
   "execution_count": 198,
   "id": "761b8098",
   "metadata": {},
   "outputs": [
    {
     "data": {
      "text/plain": [
       "[10]"
      ]
     },
     "execution_count": 198,
     "metadata": {},
     "output_type": "execute_result"
    }
   ],
   "source": [
    "a"
   ]
  },
  {
   "cell_type": "code",
   "execution_count": 199,
   "id": "b7a413b0",
   "metadata": {},
   "outputs": [],
   "source": [
    "a = [10, 20, 30]\n",
    "b = [40, 50, 60]"
   ]
  },
  {
   "cell_type": "code",
   "execution_count": 200,
   "id": "f3e86d08",
   "metadata": {},
   "outputs": [],
   "source": [
    "a.extend(b)"
   ]
  },
  {
   "cell_type": "code",
   "execution_count": 201,
   "id": "e7d0a417",
   "metadata": {},
   "outputs": [
    {
     "data": {
      "text/plain": [
       "[10, 20, 30, 40, 50, 60]"
      ]
     },
     "execution_count": 201,
     "metadata": {},
     "output_type": "execute_result"
    }
   ],
   "source": [
    "a"
   ]
  },
  {
   "cell_type": "code",
   "execution_count": 202,
   "id": "0ce939a0",
   "metadata": {},
   "outputs": [
    {
     "data": {
      "text/plain": [
       "[40, 50, 60]"
      ]
     },
     "execution_count": 202,
     "metadata": {},
     "output_type": "execute_result"
    }
   ],
   "source": [
    "b"
   ]
  },
  {
   "cell_type": "code",
   "execution_count": 203,
   "id": "41fea934",
   "metadata": {},
   "outputs": [
    {
     "data": {
      "text/plain": [
       "[10, 20, 30, 40, 50, 60]"
      ]
     },
     "execution_count": 203,
     "metadata": {},
     "output_type": "execute_result"
    }
   ],
   "source": [
    "a   # 기존 리스트가 변경됨"
   ]
  },
  {
   "cell_type": "code",
   "execution_count": 204,
   "id": "f99f8e3f",
   "metadata": {},
   "outputs": [
    {
     "data": {
      "text/plain": [
       "[10, 20, 30, 40, 50, 60]"
      ]
     },
     "execution_count": 204,
     "metadata": {},
     "output_type": "execute_result"
    }
   ],
   "source": [
    "# 참고      기존 리스트는 변경되지 않음\n",
    "\n",
    "a = [10, 20, 30]\n",
    "b = [40, 50, 60]\n",
    "\n",
    "a + b"
   ]
  },
  {
   "cell_type": "code",
   "execution_count": 205,
   "id": "c33ccb34",
   "metadata": {},
   "outputs": [
    {
     "data": {
      "text/plain": [
       "[10, 20, 30]"
      ]
     },
     "execution_count": 205,
     "metadata": {},
     "output_type": "execute_result"
    }
   ],
   "source": [
    "a"
   ]
  },
  {
   "cell_type": "code",
   "execution_count": 206,
   "id": "25442398",
   "metadata": {},
   "outputs": [
    {
     "data": {
      "text/plain": [
       "[40, 50, 60]"
      ]
     },
     "execution_count": 206,
     "metadata": {},
     "output_type": "execute_result"
    }
   ],
   "source": [
    "b"
   ]
  },
  {
   "cell_type": "markdown",
   "id": "c0a50397",
   "metadata": {},
   "source": [
    "```\n",
    "a.insert(location, something to insert)\n",
    "```"
   ]
  },
  {
   "cell_type": "code",
   "execution_count": 208,
   "id": "ef8ed81f",
   "metadata": {},
   "outputs": [],
   "source": [
    "a.insert(1, 500)"
   ]
  },
  {
   "cell_type": "code",
   "execution_count": 209,
   "id": "dac414ae",
   "metadata": {},
   "outputs": [
    {
     "data": {
      "text/plain": [
       "[10, 500, 20, 30]"
      ]
     },
     "execution_count": 209,
     "metadata": {},
     "output_type": "execute_result"
    }
   ],
   "source": [
    "a"
   ]
  },
  {
   "cell_type": "markdown",
   "id": "5a5a5622",
   "metadata": {},
   "source": [
    "- insert(0, element): add at the first of list\n",
    "- insert(len(list), element): add at the last of list"
   ]
  },
  {
   "cell_type": "code",
   "execution_count": 210,
   "id": "bbce3a88",
   "metadata": {},
   "outputs": [
    {
     "data": {
      "text/plain": [
       "[100, 10, 20, 30]"
      ]
     },
     "execution_count": 210,
     "metadata": {},
     "output_type": "execute_result"
    }
   ],
   "source": [
    "a = [10, 20, 30]\n",
    "a.insert(0, 100)\n",
    "a"
   ]
  },
  {
   "cell_type": "code",
   "execution_count": 211,
   "id": "22e4ea24",
   "metadata": {},
   "outputs": [
    {
     "data": {
      "text/plain": [
       "[100, 10, 20, 30, 1000]"
      ]
     },
     "execution_count": 211,
     "metadata": {},
     "output_type": "execute_result"
    }
   ],
   "source": [
    "a.insert(len(a), 1000)\n",
    "a"
   ]
  },
  {
   "cell_type": "code",
   "execution_count": 212,
   "id": "a6216a23",
   "metadata": {},
   "outputs": [
    {
     "data": {
      "text/plain": [
       "[100, 10, 20, 30, 2000, 1000]"
      ]
     },
     "execution_count": 212,
     "metadata": {},
     "output_type": "execute_result"
    }
   ],
   "source": [
    "a.insert(-1, 2000)\n",
    "a"
   ]
  },
  {
   "cell_type": "markdown",
   "id": "f72f31cb",
   "metadata": {},
   "source": [
    "- pop: delete last element or specular index\n",
    "- remove: delete someothing value"
   ]
  },
  {
   "cell_type": "code",
   "execution_count": 213,
   "id": "18dac9e9",
   "metadata": {},
   "outputs": [
    {
     "data": {
      "text/plain": [
       "30"
      ]
     },
     "execution_count": 213,
     "metadata": {},
     "output_type": "execute_result"
    }
   ],
   "source": [
    "a = [10, 20, 30]\n",
    "x = a.pop()\n",
    "x"
   ]
  },
  {
   "cell_type": "code",
   "execution_count": 214,
   "id": "74602bba",
   "metadata": {},
   "outputs": [
    {
     "data": {
      "text/plain": [
       "[10, 20]"
      ]
     },
     "execution_count": 214,
     "metadata": {},
     "output_type": "execute_result"
    }
   ],
   "source": [
    "a"
   ]
  },
  {
   "cell_type": "code",
   "execution_count": 215,
   "id": "72f252f6",
   "metadata": {},
   "outputs": [
    {
     "data": {
      "text/plain": [
       "20"
      ]
     },
     "execution_count": 215,
     "metadata": {},
     "output_type": "execute_result"
    }
   ],
   "source": [
    "a = [10, 20, 30]\n",
    "x = a.pop(1)       # index\n",
    "x"
   ]
  },
  {
   "cell_type": "code",
   "execution_count": 216,
   "id": "b609e4d9",
   "metadata": {},
   "outputs": [
    {
     "data": {
      "text/plain": [
       "[10, 30]"
      ]
     },
     "execution_count": 216,
     "metadata": {},
     "output_type": "execute_result"
    }
   ],
   "source": [
    "a"
   ]
  },
  {
   "cell_type": "code",
   "execution_count": 217,
   "id": "998714c2",
   "metadata": {},
   "outputs": [],
   "source": [
    "a = [10, 20, 30]\n",
    "a.remove(20)      # value"
   ]
  },
  {
   "cell_type": "code",
   "execution_count": 218,
   "id": "30704c79",
   "metadata": {},
   "outputs": [
    {
     "data": {
      "text/plain": [
       "[10, 30]"
      ]
     },
     "execution_count": 218,
     "metadata": {},
     "output_type": "execute_result"
    }
   ],
   "source": [
    "a"
   ]
  },
  {
   "cell_type": "markdown",
   "id": "675d8418",
   "metadata": {},
   "source": [
    "- index(value): 리스트에서 특정 값의 인덱스 구함\n",
    "- count(value): 리스트에서 특정 값의 개수를 구함"
   ]
  },
  {
   "cell_type": "code",
   "execution_count": 220,
   "id": "e477c8d8",
   "metadata": {},
   "outputs": [
    {
     "data": {
      "text/plain": [
       "1"
      ]
     },
     "execution_count": 220,
     "metadata": {},
     "output_type": "execute_result"
    }
   ],
   "source": [
    "a = [10, 20, 30]\n",
    "a.index(20)"
   ]
  },
  {
   "cell_type": "code",
   "execution_count": 224,
   "id": "003bdfe9",
   "metadata": {},
   "outputs": [],
   "source": [
    "a = [10, 10, 20, 30, 30, 30]"
   ]
  },
  {
   "cell_type": "code",
   "execution_count": 225,
   "id": "33a50c77",
   "metadata": {},
   "outputs": [
    {
     "data": {
      "text/plain": [
       "2"
      ]
     },
     "execution_count": 225,
     "metadata": {},
     "output_type": "execute_result"
    }
   ],
   "source": [
    "a.count(10)"
   ]
  },
  {
   "cell_type": "code",
   "execution_count": 226,
   "id": "37fe932d",
   "metadata": {},
   "outputs": [
    {
     "data": {
      "text/plain": [
       "3"
      ]
     },
     "execution_count": 226,
     "metadata": {},
     "output_type": "execute_result"
    }
   ],
   "source": [
    "a.count(30)"
   ]
  },
  {
   "cell_type": "markdown",
   "id": "f76da03b",
   "metadata": {},
   "source": [
    "- reverse(): 리스트에서 요소의 순서를 반대로 뒤집음.\n",
    "- sort(): 리스트의 요소를 정렬함(오름차순 기본값)"
   ]
  },
  {
   "cell_type": "code",
   "execution_count": 227,
   "id": "033f8c3a",
   "metadata": {},
   "outputs": [],
   "source": [
    "a = [10, 20, 30]\n",
    "a.reverse()"
   ]
  },
  {
   "cell_type": "code",
   "execution_count": 228,
   "id": "e6034844",
   "metadata": {},
   "outputs": [
    {
     "data": {
      "text/plain": [
       "[30, 20, 10]"
      ]
     },
     "execution_count": 228,
     "metadata": {},
     "output_type": "execute_result"
    }
   ],
   "source": [
    "a"
   ]
  },
  {
   "cell_type": "code",
   "execution_count": 229,
   "id": "bc1ecc90",
   "metadata": {},
   "outputs": [
    {
     "data": {
      "text/plain": [
       "[10, 20, 30]"
      ]
     },
     "execution_count": 229,
     "metadata": {},
     "output_type": "execute_result"
    }
   ],
   "source": [
    "# 참고 슬라이스로 뒤집기\n",
    "a[-1::-1]"
   ]
  },
  {
   "cell_type": "code",
   "execution_count": 230,
   "id": "f8d5ea6c",
   "metadata": {},
   "outputs": [
    {
     "data": {
      "text/plain": [
       "[-1, 0, 4, 10, 50, 10000]"
      ]
     },
     "execution_count": 230,
     "metadata": {},
     "output_type": "execute_result"
    }
   ],
   "source": [
    "a = [10, 50, -1, 0, 4, 10000]\n",
    "a.sort()     # reverse = False\n",
    "a"
   ]
  },
  {
   "cell_type": "code",
   "execution_count": 231,
   "id": "8d13b369",
   "metadata": {},
   "outputs": [
    {
     "data": {
      "text/plain": [
       "[10000, 50, 10, 4, 0, -1]"
      ]
     },
     "execution_count": 231,
     "metadata": {},
     "output_type": "execute_result"
    }
   ],
   "source": [
    "a = [10, 50, -1, 0, 4, 10000]\n",
    "a.sort(reverse = True)\n",
    "a"
   ]
  },
  {
   "cell_type": "markdown",
   "id": "5c977078",
   "metadata": {},
   "source": [
    "- =\n",
    "- copy()"
   ]
  },
  {
   "cell_type": "code",
   "execution_count": 232,
   "id": "a2eafbf5",
   "metadata": {},
   "outputs": [],
   "source": [
    "a = [0, 0, 0, 0]\n",
    "b = a            # 새로운 메모리가 할당되진 않고 a가 쓰는 메모리를 가리키는 것이다."
   ]
  },
  {
   "cell_type": "code",
   "execution_count": 233,
   "id": "2f67bdc5",
   "metadata": {},
   "outputs": [
    {
     "data": {
      "text/plain": [
       "[0, 0, 0, 0]"
      ]
     },
     "execution_count": 233,
     "metadata": {},
     "output_type": "execute_result"
    }
   ],
   "source": [
    "b"
   ]
  },
  {
   "cell_type": "code",
   "execution_count": 234,
   "id": "f4180801",
   "metadata": {},
   "outputs": [
    {
     "data": {
      "text/plain": [
       "[0, 0, 0, 0]"
      ]
     },
     "execution_count": 234,
     "metadata": {},
     "output_type": "execute_result"
    }
   ],
   "source": [
    "a"
   ]
  },
  {
   "cell_type": "code",
   "execution_count": 235,
   "id": "04276743",
   "metadata": {},
   "outputs": [
    {
     "data": {
      "text/plain": [
       "True"
      ]
     },
     "execution_count": 235,
     "metadata": {},
     "output_type": "execute_result"
    }
   ],
   "source": [
    "a is b"
   ]
  },
  {
   "cell_type": "code",
   "execution_count": 236,
   "id": "21f934c8",
   "metadata": {},
   "outputs": [],
   "source": [
    "b[1] = 1000"
   ]
  },
  {
   "cell_type": "code",
   "execution_count": 237,
   "id": "016d91c9",
   "metadata": {},
   "outputs": [
    {
     "data": {
      "text/plain": [
       "[0, 1000, 0, 0]"
      ]
     },
     "execution_count": 237,
     "metadata": {},
     "output_type": "execute_result"
    }
   ],
   "source": [
    "b"
   ]
  },
  {
   "cell_type": "code",
   "execution_count": 238,
   "id": "cb327dbf",
   "metadata": {},
   "outputs": [
    {
     "data": {
      "text/plain": [
       "True"
      ]
     },
     "execution_count": 238,
     "metadata": {},
     "output_type": "execute_result"
    }
   ],
   "source": [
    "a is b"
   ]
  },
  {
   "cell_type": "code",
   "execution_count": 239,
   "id": "ab266d17",
   "metadata": {},
   "outputs": [
    {
     "data": {
      "text/plain": [
       "[0, 1000, 0, 0]"
      ]
     },
     "execution_count": 239,
     "metadata": {},
     "output_type": "execute_result"
    }
   ],
   "source": [
    "a              # 같은 메모리를 공유하기 때문에 b를 바꿔도 a도 바뀜"
   ]
  },
  {
   "cell_type": "code",
   "execution_count": 240,
   "id": "934b0a6e",
   "metadata": {},
   "outputs": [],
   "source": [
    "a = [0, 0, 0, 0]\n",
    "b = a.copy()       # copy()를 사용해 b를 위한 또다른 메모리 할당"
   ]
  },
  {
   "cell_type": "code",
   "execution_count": 241,
   "id": "ae31da2c",
   "metadata": {},
   "outputs": [
    {
     "data": {
      "text/plain": [
       "[0, 0, 0, 0]"
      ]
     },
     "execution_count": 241,
     "metadata": {},
     "output_type": "execute_result"
    }
   ],
   "source": [
    "a"
   ]
  },
  {
   "cell_type": "code",
   "execution_count": 242,
   "id": "16735bbf",
   "metadata": {},
   "outputs": [
    {
     "data": {
      "text/plain": [
       "[0, 0, 0, 0]"
      ]
     },
     "execution_count": 242,
     "metadata": {},
     "output_type": "execute_result"
    }
   ],
   "source": [
    "b"
   ]
  },
  {
   "cell_type": "code",
   "execution_count": 243,
   "id": "9accffd0",
   "metadata": {},
   "outputs": [],
   "source": [
    "a[1] = 1000"
   ]
  },
  {
   "cell_type": "code",
   "execution_count": 244,
   "id": "7e322bfb",
   "metadata": {},
   "outputs": [
    {
     "data": {
      "text/plain": [
       "[0, 1000, 0, 0]"
      ]
     },
     "execution_count": 244,
     "metadata": {},
     "output_type": "execute_result"
    }
   ],
   "source": [
    "a          # 변경된 a의 메모리"
   ]
  },
  {
   "cell_type": "code",
   "execution_count": 245,
   "id": "268846bd",
   "metadata": {},
   "outputs": [
    {
     "data": {
      "text/plain": [
       "[0, 0, 0, 0]"
      ]
     },
     "execution_count": 245,
     "metadata": {},
     "output_type": "execute_result"
    }
   ],
   "source": [
    "b          # 변경되지 않은 b의 또다른 메모리"
   ]
  },
  {
   "cell_type": "markdown",
   "id": "53b8f105",
   "metadata": {},
   "source": [
    "- copy()와 deepcopy()"
   ]
  },
  {
   "cell_type": "code",
   "execution_count": 246,
   "id": "f521665e",
   "metadata": {},
   "outputs": [],
   "source": [
    "a = [[10, 20], [30, 40]]    # 2차원 리스트\n",
    "b = a"
   ]
  },
  {
   "cell_type": "code",
   "execution_count": 247,
   "id": "7b32c469",
   "metadata": {},
   "outputs": [
    {
     "data": {
      "text/plain": [
       "[[10, 20], [30, 40]]"
      ]
     },
     "execution_count": 247,
     "metadata": {},
     "output_type": "execute_result"
    }
   ],
   "source": [
    "a"
   ]
  },
  {
   "cell_type": "code",
   "execution_count": 248,
   "id": "4ada3b06",
   "metadata": {},
   "outputs": [
    {
     "data": {
      "text/plain": [
       "[[10, 20], [30, 40]]"
      ]
     },
     "execution_count": 248,
     "metadata": {},
     "output_type": "execute_result"
    }
   ],
   "source": [
    "b"
   ]
  },
  {
   "cell_type": "code",
   "execution_count": 249,
   "id": "bbf83f3b",
   "metadata": {},
   "outputs": [
    {
     "data": {
      "text/plain": [
       "[10, 20]"
      ]
     },
     "execution_count": 249,
     "metadata": {},
     "output_type": "execute_result"
    }
   ],
   "source": [
    "b[0]"
   ]
  },
  {
   "cell_type": "code",
   "execution_count": 251,
   "id": "f852801e",
   "metadata": {},
   "outputs": [],
   "source": [
    "b[0][0] = 3000   # 2차원 리스트를 2번 색인해서 원소값에 접근"
   ]
  },
  {
   "cell_type": "code",
   "execution_count": 252,
   "id": "db07b292",
   "metadata": {},
   "outputs": [
    {
     "data": {
      "text/plain": [
       "[[3000, 20], [30, 40]]"
      ]
     },
     "execution_count": 252,
     "metadata": {},
     "output_type": "execute_result"
    }
   ],
   "source": [
    "b"
   ]
  },
  {
   "cell_type": "code",
   "execution_count": 253,
   "id": "8eec8d9a",
   "metadata": {},
   "outputs": [
    {
     "data": {
      "text/plain": [
       "[[3000, 20], [30, 40]]"
      ]
     },
     "execution_count": 253,
     "metadata": {},
     "output_type": "execute_result"
    }
   ],
   "source": [
    "a"
   ]
  },
  {
   "cell_type": "code",
   "execution_count": 254,
   "id": "7a3e79dc",
   "metadata": {},
   "outputs": [],
   "source": [
    "a = [[10, 20], [30, 40]]\n",
    "b = a.copy()"
   ]
  },
  {
   "cell_type": "code",
   "execution_count": 255,
   "id": "b5c2f440",
   "metadata": {},
   "outputs": [
    {
     "data": {
      "text/plain": [
       "[[3000, 20], [30, 40]]"
      ]
     },
     "execution_count": 255,
     "metadata": {},
     "output_type": "execute_result"
    }
   ],
   "source": [
    "b[0][0] = 3000\n",
    "b"
   ]
  },
  {
   "cell_type": "code",
   "execution_count": 256,
   "id": "e77760b9",
   "metadata": {},
   "outputs": [
    {
     "data": {
      "text/plain": [
       "[[3000, 20], [30, 40]]"
      ]
     },
     "execution_count": 256,
     "metadata": {},
     "output_type": "execute_result"
    }
   ],
   "source": [
    "a          # copy()를 사용했음에도 메모리가 따로 할당되지 않았다."
   ]
  },
  {
   "cell_type": "code",
   "execution_count": 257,
   "id": "6ae62518",
   "metadata": {},
   "outputs": [],
   "source": [
    "import copy                   # import copy module\n",
    "\n",
    "a = [[10, 20], [30, 40]]\n",
    "b = copy.deepcopy(a)          # 2차원 리스트부터는 copy module에 deepcopy를 사용"
   ]
  },
  {
   "cell_type": "code",
   "execution_count": 258,
   "id": "1ffbb893",
   "metadata": {},
   "outputs": [
    {
     "data": {
      "text/plain": [
       "[[10, 20], [30, 40]]"
      ]
     },
     "execution_count": 258,
     "metadata": {},
     "output_type": "execute_result"
    }
   ],
   "source": [
    "a"
   ]
  },
  {
   "cell_type": "code",
   "execution_count": 259,
   "id": "45727cf2",
   "metadata": {},
   "outputs": [
    {
     "data": {
      "text/plain": [
       "[[10, 20], [30, 40]]"
      ]
     },
     "execution_count": 259,
     "metadata": {},
     "output_type": "execute_result"
    }
   ],
   "source": [
    "b"
   ]
  },
  {
   "cell_type": "code",
   "execution_count": 260,
   "id": "716d6ac2",
   "metadata": {},
   "outputs": [],
   "source": [
    "b[0][0] = 3000"
   ]
  },
  {
   "cell_type": "code",
   "execution_count": 261,
   "id": "65d57c88",
   "metadata": {},
   "outputs": [
    {
     "data": {
      "text/plain": [
       "[[3000, 20], [30, 40]]"
      ]
     },
     "execution_count": 261,
     "metadata": {},
     "output_type": "execute_result"
    }
   ],
   "source": [
    "b"
   ]
  },
  {
   "cell_type": "code",
   "execution_count": 262,
   "id": "6c33ff4b",
   "metadata": {},
   "outputs": [
    {
     "data": {
      "text/plain": [
       "[[10, 20], [30, 40]]"
      ]
     },
     "execution_count": 262,
     "metadata": {},
     "output_type": "execute_result"
    }
   ],
   "source": [
    "a"
   ]
  },
  {
   "cell_type": "markdown",
   "id": "4f5579fe",
   "metadata": {},
   "source": [
    "# print the list elements using repeat string\n",
    "\n",
    "- for element in list"
   ]
  },
  {
   "cell_type": "code",
   "execution_count": 263,
   "id": "3a4c8352",
   "metadata": {},
   "outputs": [
    {
     "name": "stdout",
     "output_type": "stream",
     "text": [
      "10\n",
      "20\n",
      "30\n"
     ]
    }
   ],
   "source": [
    "a = [10, 20, 30]\n",
    "for v in a:\n",
    "    print(v)"
   ]
  },
  {
   "cell_type": "code",
   "execution_count": 264,
   "id": "21b6cb89",
   "metadata": {},
   "outputs": [
    {
     "name": "stdout",
     "output_type": "stream",
     "text": [
      "10\n",
      "20\n",
      "30\n"
     ]
    }
   ],
   "source": [
    "for i in range(len(a)):         # C언어 방식 - 파이썬이 more simple\n",
    "    print(a[i])"
   ]
  },
  {
   "cell_type": "markdown",
   "id": "f24c1533",
   "metadata": {},
   "source": [
    "- for index, element in enumerate(list):"
   ]
  },
  {
   "cell_type": "code",
   "execution_count": 266,
   "id": "04b71dc2",
   "metadata": {},
   "outputs": [
    {
     "name": "stdout",
     "output_type": "stream",
     "text": [
      "1 10\n",
      "2 20\n",
      "3 30\n"
     ]
    }
   ],
   "source": [
    "a = [10, 20, 30]\n",
    "for i, v in enumerate(a, start = 1):          # start 활용\n",
    "    print(i, v)        # i: index, v: value"
   ]
  },
  {
   "cell_type": "markdown",
   "id": "5d861a39",
   "metadata": {},
   "source": [
    "**리스트의 가장 작은 수, 가장 큰 수, 합계**"
   ]
  },
  {
   "cell_type": "code",
   "execution_count": 267,
   "id": "8e3cc978",
   "metadata": {},
   "outputs": [],
   "source": [
    "a = [10, 20, 30]"
   ]
  },
  {
   "cell_type": "code",
   "execution_count": 268,
   "id": "1098157c",
   "metadata": {},
   "outputs": [
    {
     "data": {
      "text/plain": [
       "10"
      ]
     },
     "execution_count": 268,
     "metadata": {},
     "output_type": "execute_result"
    }
   ],
   "source": [
    "min(a)"
   ]
  },
  {
   "cell_type": "code",
   "execution_count": 269,
   "id": "a4178925",
   "metadata": {},
   "outputs": [
    {
     "data": {
      "text/plain": [
       "30"
      ]
     },
     "execution_count": 269,
     "metadata": {},
     "output_type": "execute_result"
    }
   ],
   "source": [
    "max(a)"
   ]
  },
  {
   "cell_type": "code",
   "execution_count": 270,
   "id": "b978790c",
   "metadata": {},
   "outputs": [
    {
     "data": {
      "text/plain": [
       "60"
      ]
     },
     "execution_count": 270,
     "metadata": {},
     "output_type": "execute_result"
    }
   ],
   "source": [
    "sum(a)"
   ]
  },
  {
   "cell_type": "code",
   "execution_count": 271,
   "id": "38720aad",
   "metadata": {},
   "outputs": [
    {
     "data": {
      "text/plain": [
       "20.0"
      ]
     },
     "execution_count": 271,
     "metadata": {},
     "output_type": "execute_result"
    }
   ],
   "source": [
    "sum(a)/len(a)        # average"
   ]
  },
  {
   "cell_type": "markdown",
   "id": "0d4183b3",
   "metadata": {},
   "source": [
    "**리스트 표현식(List comprehension)**"
   ]
  },
  {
   "cell_type": "markdown",
   "id": "2a7cac7b",
   "metadata": {},
   "source": [
    "- [식 for 변수 in 리스트]"
   ]
  },
  {
   "cell_type": "code",
   "execution_count": 272,
   "id": "ce4f7d06",
   "metadata": {},
   "outputs": [
    {
     "data": {
      "text/plain": [
       "[0, 1, 2, 3, 4, 5, 6, 7, 8, 9]"
      ]
     },
     "execution_count": 272,
     "metadata": {},
     "output_type": "execute_result"
    }
   ],
   "source": [
    "list(range(10))"
   ]
  },
  {
   "cell_type": "code",
   "execution_count": 273,
   "id": "f5446460",
   "metadata": {},
   "outputs": [
    {
     "name": "stdout",
     "output_type": "stream",
     "text": [
      "0\n",
      "2\n",
      "4\n",
      "6\n",
      "8\n",
      "10\n",
      "12\n",
      "14\n",
      "16\n",
      "18\n"
     ]
    }
   ],
   "source": [
    "for i in range(10):\n",
    "    print(i * 2)"
   ]
  },
  {
   "cell_type": "code",
   "execution_count": 275,
   "id": "1cc277da",
   "metadata": {},
   "outputs": [
    {
     "data": {
      "text/plain": [
       "[0, 2, 4, 6, 8, 10, 12, 14, 16, 18]"
      ]
     },
     "execution_count": 275,
     "metadata": {},
     "output_type": "execute_result"
    }
   ],
   "source": [
    "# 1. for문 이용, list의 append()함수 이용\n",
    "\n",
    "l = []\n",
    "for i in range(10):\n",
    "    l.append(i * 2)\n",
    "l"
   ]
  },
  {
   "cell_type": "code",
   "execution_count": 279,
   "id": "071447c1",
   "metadata": {},
   "outputs": [
    {
     "data": {
      "text/plain": [
       "[0, 2, 4, 6, 8, 10, 12, 14, 16, 18]"
      ]
     },
     "execution_count": 279,
     "metadata": {},
     "output_type": "execute_result"
    }
   ],
   "source": [
    "# 2. 리스트 표현식\n",
    "\n",
    "[i * 2 for i in range(10)]"
   ]
  },
  {
   "cell_type": "code",
   "execution_count": null,
   "id": "46913c25",
   "metadata": {},
   "outputs": [],
   "source": [
    "word_list = [\"Python\", \"is\", \"easy\"]\n",
    "\n",
    "[6, 2, 4]\n",
    "\n",
    "단어 길이 리스트로 구하기"
   ]
  },
  {
   "cell_type": "code",
   "execution_count": 292,
   "id": "44336166",
   "metadata": {},
   "outputs": [
    {
     "data": {
      "text/plain": [
       "[6, 2, 4]"
      ]
     },
     "execution_count": 292,
     "metadata": {},
     "output_type": "execute_result"
    }
   ],
   "source": [
    "# 1\n",
    "\n",
    "word_count = []\n",
    "word_list = [\"Python\", \"is\", \"easy\"]\n",
    "for word in word_list:\n",
    "    word_count.append(len(word))\n",
    "word_count"
   ]
  },
  {
   "cell_type": "code",
   "execution_count": 293,
   "id": "e8c05060",
   "metadata": {},
   "outputs": [
    {
     "data": {
      "text/plain": [
       "[6, 2, 4]"
      ]
     },
     "execution_count": 293,
     "metadata": {},
     "output_type": "execute_result"
    }
   ],
   "source": [
    "# 2\n",
    "\n",
    "[len(word) for word in word_list]"
   ]
  },
  {
   "cell_type": "markdown",
   "id": "6c05da4b",
   "metadata": {},
   "source": [
    "- [식 for 변수  in 리스트 if 조건식]"
   ]
  },
  {
   "cell_type": "code",
   "execution_count": 294,
   "id": "a41d18ba",
   "metadata": {},
   "outputs": [
    {
     "data": {
      "text/plain": [
       "[0, 2, 4, 6, 8]"
      ]
     },
     "execution_count": 294,
     "metadata": {},
     "output_type": "execute_result"
    }
   ],
   "source": [
    "[i for i in range(10) if i % 2 == 0]"
   ]
  },
  {
   "cell_type": "code",
   "execution_count": 295,
   "id": "b05671e9",
   "metadata": {},
   "outputs": [
    {
     "data": {
      "text/plain": [
       "[0, 2, 4, 6, 8]"
      ]
     },
     "execution_count": 295,
     "metadata": {},
     "output_type": "execute_result"
    }
   ],
   "source": [
    "l = []\n",
    "for i in range(10):\n",
    "    if i % 2 == 0:\n",
    "        l.append(i)\n",
    "l"
   ]
  },
  {
   "cell_type": "markdown",
   "id": "6c845b25",
   "metadata": {},
   "source": [
    "# Workshop"
   ]
  },
  {
   "cell_type": "code",
   "execution_count": 297,
   "id": "65de121b",
   "metadata": {},
   "outputs": [
    {
     "data": {
      "text/plain": [
       "['afawf', 'awfaw', 'wrtnn', 'awdaa']"
      ]
     },
     "execution_count": 297,
     "metadata": {},
     "output_type": "execute_result"
    }
   ],
   "source": [
    "a = ['awfnawkn', 'awkjfa', 'afawf', 'awff', 'awfaw', 'wrtnn', 'nrtnwr', 'asdasd', 'awdaa']\n",
    "\n",
    "[i for i in a if len(i) == 5]"
   ]
  },
  {
   "cell_type": "markdown",
   "id": "109e9723",
   "metadata": {},
   "source": [
    "**리스트에서 map 사용하기**"
   ]
  },
  {
   "cell_type": "code",
   "execution_count": 300,
   "id": "6d7ec641",
   "metadata": {},
   "outputs": [
    {
     "data": {
      "text/plain": [
       "[1, 2, 3, 4]"
      ]
     },
     "execution_count": 300,
     "metadata": {},
     "output_type": "execute_result"
    }
   ],
   "source": [
    "a = [1.2, 2.5, 3.7, 4.6]\n",
    "l = []\n",
    "\n",
    "for i in a:\n",
    "    l.append(int(i))\n",
    "l"
   ]
  },
  {
   "cell_type": "code",
   "execution_count": 301,
   "id": "ccbd85a3",
   "metadata": {},
   "outputs": [
    {
     "data": {
      "text/plain": [
       "[1, 2, 3, 4]"
      ]
     },
     "execution_count": 301,
     "metadata": {},
     "output_type": "execute_result"
    }
   ],
   "source": [
    "# 위의 코드와 동일한 결과. But, for문을 사용하지 않고 map을 사용해서 일괄 적용 \n",
    "list(map(int, a))"
   ]
  },
  {
   "cell_type": "markdown",
   "id": "fa61efa8",
   "metadata": {},
   "source": [
    "# applying tuple"
   ]
  },
  {
   "cell_type": "markdown",
   "id": "b6ba337f",
   "metadata": {},
   "source": [
    "- index(value): 특정값의 인덱스 구하기"
   ]
  },
  {
   "cell_type": "code",
   "execution_count": 302,
   "id": "9e0a9802",
   "metadata": {},
   "outputs": [
    {
     "data": {
      "text/plain": [
       "2"
      ]
     },
     "execution_count": 302,
     "metadata": {},
     "output_type": "execute_result"
    }
   ],
   "source": [
    "a = (10, 20, 30)\n",
    "a.index(30)"
   ]
  },
  {
   "cell_type": "markdown",
   "id": "6b878ddf",
   "metadata": {},
   "source": [
    "- count(value): 특정값의 개수 구하기"
   ]
  },
  {
   "cell_type": "code",
   "execution_count": 303,
   "id": "f6eb51f5",
   "metadata": {},
   "outputs": [
    {
     "data": {
      "text/plain": [
       "3"
      ]
     },
     "execution_count": 303,
     "metadata": {},
     "output_type": "execute_result"
    }
   ],
   "source": [
    "a = (10, 10, 10, 20, 30, 30)\n",
    "a.count(10)"
   ]
  },
  {
   "cell_type": "markdown",
   "id": "6a57c880",
   "metadata": {},
   "source": [
    "# Workshop"
   ]
  },
  {
   "cell_type": "markdown",
   "id": "785830e6",
   "metadata": {},
   "source": [
    "**자동 로또 번호 생성기**\n",
    "- 1~45 숫자 중에서 6개를 고르는 로또 번호를 자동으로 만들어 주는 프로그램 작성하기\n",
    "- 사용자가 입력한 개수만큼 번호 쌍을 생성하기(예: 5를 입력하면 5 세트의 번호가 생성되도록 하기)\n",
    "- 한번 뽑히것은 뽑히지 않도록 하고, 최종 출력은 오름차순 정렬해서 보여주기"
   ]
  },
  {
   "cell_type": "code",
   "execution_count": 363,
   "id": "ddb2c862",
   "metadata": {},
   "outputs": [
    {
     "name": "stdout",
     "output_type": "stream",
     "text": [
      "3\n",
      "[[15, 16, 29, 37, 42, 44], [15, 16, 29, 37, 42, 44], [15, 16, 29, 37, 42, 44], [15, 16, 29, 37, 42, 44], [15, 16, 29, 37, 42, 44], [15, 16, 29, 37, 42, 44], [15, 16, 29, 37, 42, 44], [15, 16, 29, 37, 42, 44], [15, 16, 29, 37, 42, 44], [15, 16, 29, 37, 42, 44], [15, 16, 29, 37, 42, 44], [15, 16, 29, 37, 42, 44], [15, 16, 29, 37, 42, 44], [15, 16, 29, 37, 42, 44], [15, 16, 29, 37, 42, 44], [15, 16, 29, 37, 42, 44], [15, 16, 29, 37, 42, 44], [15, 16, 29, 37, 42, 44]]\n"
     ]
    }
   ],
   "source": [
    "import random\n",
    "\n",
    "a = []\n",
    "c = []\n",
    "b = int(input())\n",
    "\n",
    "for i in range(6):\n",
    "    a.append(random.randint(1, 45))\n",
    "    a.sort()\n",
    "    \n",
    "    if i not in a:\n",
    "        for j in range(b):\n",
    "            c.append(a)\n",
    "print(c)"
   ]
  },
  {
   "cell_type": "code",
   "execution_count": 361,
   "id": "64401bb2",
   "metadata": {},
   "outputs": [
    {
     "name": "stdout",
     "output_type": "stream",
     "text": [
      "로또 몇 회 뽑으시겠습니까? 5\n"
     ]
    },
    {
     "data": {
      "text/plain": [
       "[[1, 5, 10, 14, 30, 43],\n",
       " [1, 4, 11, 13, 14, 43],\n",
       " [8, 22, 28, 30, 40, 44],\n",
       " [4, 5, 8, 22, 30, 35],\n",
       " [21, 25, 26, 30, 33, 37]]"
      ]
     },
     "execution_count": 361,
     "metadata": {},
     "output_type": "execute_result"
    }
   ],
   "source": [
    "count = int(input(\"로또 몇 회 뽑으시겠습니까? \"))\n",
    "\n",
    "total = []\n",
    "for i in range(count):\n",
    "    lotto = []\n",
    "    while True:       # 무한 루프는 break문 필수\n",
    "        pick = random.randint(1, 45)\n",
    "        if pick not in lotto:\n",
    "            lotto.append(pick)\n",
    "\n",
    "        if len(lotto) >= 6:\n",
    "            break\n",
    "    lotto.sort()\n",
    "    total.append(lotto)\n",
    "total\n",
    "        "
   ]
  },
  {
   "cell_type": "code",
   "execution_count": 365,
   "id": "af78601d",
   "metadata": {},
   "outputs": [
    {
     "name": "stdout",
     "output_type": "stream",
     "text": [
      "로또 몇 회 뽑으시겠습니까? 3\n"
     ]
    },
    {
     "data": {
      "text/plain": [
       "[[11, 23, 26, 37, 38, 39], [3, 8, 14, 15, 24, 44], [2, 4, 6, 19, 23, 28]]"
      ]
     },
     "execution_count": 365,
     "metadata": {},
     "output_type": "execute_result"
    }
   ],
   "source": [
    "count = int(input(\"로또 몇 회 뽑으시겠습니까? \"))\n",
    "\n",
    "total = []\n",
    "for i in range(count):\n",
    "    lotto = random.sample(range(1, 46), 6)\n",
    "    lotto.sort()\n",
    "    total.append(lotto)\n",
    "total"
   ]
  },
  {
   "cell_type": "markdown",
   "id": "f0cb2a96",
   "metadata": {},
   "source": [
    "# 문자열 응용하기"
   ]
  },
  {
   "cell_type": "markdown",
   "id": "e454b29e",
   "metadata": {},
   "source": [
    "- replace('바꿀문자열', '새문자열'): 문자열 바꾸기"
   ]
  },
  {
   "cell_type": "code",
   "execution_count": 366,
   "id": "34931359",
   "metadata": {},
   "outputs": [
    {
     "data": {
      "text/plain": [
       "'Hello, Python!'"
      ]
     },
     "execution_count": 366,
     "metadata": {},
     "output_type": "execute_result"
    }
   ],
   "source": [
    "s = \"Hello, World!\"\n",
    "result = s.replace('World!', 'Python!')\n",
    "result"
   ]
  },
  {
   "cell_type": "code",
   "execution_count": 367,
   "id": "69483a15",
   "metadata": {},
   "outputs": [
    {
     "data": {
      "text/plain": [
       "'Hello, World!'"
      ]
     },
     "execution_count": 367,
     "metadata": {},
     "output_type": "execute_result"
    }
   ],
   "source": [
    "s"
   ]
  },
  {
   "cell_type": "markdown",
   "id": "62e50dfa",
   "metadata": {},
   "source": [
    "- split('기준문자열'): 문자열 분리하기"
   ]
  },
  {
   "cell_type": "code",
   "execution_count": 370,
   "id": "ffefd2c6",
   "metadata": {},
   "outputs": [
    {
     "data": {
      "text/plain": [
       "['apple', 'pear', 'grape', 'pineapple', 'orange']"
      ]
     },
     "execution_count": 370,
     "metadata": {},
     "output_type": "execute_result"
    }
   ],
   "source": [
    "s = 'apple pear grape pineapple orange'\n",
    "result = s.split()\n",
    "result"
   ]
  },
  {
   "cell_type": "code",
   "execution_count": 371,
   "id": "86d9ce5b",
   "metadata": {},
   "outputs": [
    {
     "data": {
      "text/plain": [
       "'apple pear grape pineapple orange'"
      ]
     },
     "execution_count": 371,
     "metadata": {},
     "output_type": "execute_result"
    }
   ],
   "source": [
    "s"
   ]
  },
  {
   "cell_type": "code",
   "execution_count": 372,
   "id": "b2a642fe",
   "metadata": {},
   "outputs": [
    {
     "data": {
      "text/plain": [
       "['apple', 'pear', 'grape', 'pineapple', 'orange']"
      ]
     },
     "execution_count": 372,
     "metadata": {},
     "output_type": "execute_result"
    }
   ],
   "source": [
    "s = 'apple.pear.grape.pineapple.orange'\n",
    "result = s.split('.')\n",
    "result"
   ]
  },
  {
   "cell_type": "markdown",
   "id": "92972bea",
   "metadata": {},
   "source": [
    "- '구분자'.join(list)"
   ]
  },
  {
   "cell_type": "code",
   "execution_count": 376,
   "id": "629d58aa",
   "metadata": {},
   "outputs": [
    {
     "data": {
      "text/plain": [
       "'apple-pear-grape-pineapple-orange'"
      ]
     },
     "execution_count": 376,
     "metadata": {},
     "output_type": "execute_result"
    }
   ],
   "source": [
    "'-'.join(result)"
   ]
  },
  {
   "cell_type": "markdown",
   "id": "d6a9d737",
   "metadata": {},
   "source": [
    "- upper(): 대문자로 바꿈\n",
    "- lower(): 소문자로 바꿈\n",
    "- strip(): 문자열 양쪽에 있는 연속된 모든 공백을 삭제\n",
    "- lstrip(): 문자열 왼쪽에 있는 연속된 모든 공백을 삭제\n",
    "- rstrip(): 문자열 오른쪽에 있는 연속된 모든 공백을 삭제"
   ]
  },
  {
   "cell_type": "code",
   "execution_count": 377,
   "id": "afda9a24",
   "metadata": {},
   "outputs": [
    {
     "data": {
      "text/plain": [
       "'PYTHON'"
      ]
     },
     "execution_count": 377,
     "metadata": {},
     "output_type": "execute_result"
    }
   ],
   "source": [
    "'python'.upper()"
   ]
  },
  {
   "cell_type": "code",
   "execution_count": 378,
   "id": "dcbb80d5",
   "metadata": {},
   "outputs": [
    {
     "data": {
      "text/plain": [
       "'python'"
      ]
     },
     "execution_count": 378,
     "metadata": {},
     "output_type": "execute_result"
    }
   ],
   "source": [
    "'PYTHON'.lower()"
   ]
  },
  {
   "cell_type": "code",
   "execution_count": 379,
   "id": "d7acba43",
   "metadata": {},
   "outputs": [
    {
     "data": {
      "text/plain": [
       "'python'"
      ]
     },
     "execution_count": 379,
     "metadata": {},
     "output_type": "execute_result"
    }
   ],
   "source": [
    "'          python        '.strip()"
   ]
  },
  {
   "cell_type": "code",
   "execution_count": 380,
   "id": "d5adfc22",
   "metadata": {},
   "outputs": [
    {
     "data": {
      "text/plain": [
       "'python          '"
      ]
     },
     "execution_count": 380,
     "metadata": {},
     "output_type": "execute_result"
    }
   ],
   "source": [
    "'            python          '.lstrip()"
   ]
  },
  {
   "cell_type": "code",
   "execution_count": 382,
   "id": "419c6574",
   "metadata": {},
   "outputs": [
    {
     "data": {
      "text/plain": [
       "'            python'"
      ]
     },
     "execution_count": 382,
     "metadata": {},
     "output_type": "execute_result"
    }
   ],
   "source": [
    "'            python          '.rstrip()"
   ]
  },
  {
   "cell_type": "code",
   "execution_count": 394,
   "id": "d27c628e",
   "metadata": {},
   "outputs": [
    {
     "data": {
      "text/plain": [
       "'python'"
      ]
     },
     "execution_count": 394,
     "metadata": {},
     "output_type": "execute_result"
    }
   ],
   "source": [
    "' .,.    .,     python   .,.,.,.       '.strip(',. ')"
   ]
  },
  {
   "cell_type": "code",
   "execution_count": 389,
   "id": "a769aefb",
   "metadata": {},
   "outputs": [
    {
     "data": {
      "text/plain": [
       "'       python       '"
      ]
     },
     "execution_count": 389,
     "metadata": {},
     "output_type": "execute_result"
    }
   ],
   "source": [
    "'python'.center(20)    # 20(길이)만큼의 전체 사이즈를 확보하고 문자열을 중간에 배치"
   ]
  },
  {
   "cell_type": "markdown",
   "id": "9898e1a7",
   "metadata": {},
   "source": [
    "- index('찾을문자열'): 문자열에서 특정문자열을 찾아서 인덱스를 반환하고, 없으면 에러\n",
    "- find('찾을문자열'): 문자열에서 특정문자열을 찾아서 인덱스를 반환하고, 없으면 -1 반환"
   ]
  },
  {
   "cell_type": "code",
   "execution_count": 395,
   "id": "856b56c4",
   "metadata": {},
   "outputs": [
    {
     "data": {
      "text/plain": [
       "2"
      ]
     },
     "execution_count": 395,
     "metadata": {},
     "output_type": "execute_result"
    }
   ],
   "source": [
    "s = 'apple pear grape pineapple orange'\n",
    "s.index('pl')"
   ]
  },
  {
   "cell_type": "code",
   "execution_count": 396,
   "id": "426206c8",
   "metadata": {},
   "outputs": [
    {
     "data": {
      "text/plain": [
       "23"
      ]
     },
     "execution_count": 396,
     "metadata": {},
     "output_type": "execute_result"
    }
   ],
   "source": [
    "s.rindex('pl')    # 오른쪽부터 탐색"
   ]
  },
  {
   "cell_type": "code",
   "execution_count": 397,
   "id": "70ec47f1",
   "metadata": {},
   "outputs": [
    {
     "ename": "ValueError",
     "evalue": "substring not found",
     "output_type": "error",
     "traceback": [
      "\u001b[1;31m---------------------------------------------------------------------------\u001b[0m",
      "\u001b[1;31mValueError\u001b[0m                                Traceback (most recent call last)",
      "Input \u001b[1;32mIn [397]\u001b[0m, in \u001b[0;36m<cell line: 1>\u001b[1;34m()\u001b[0m\n\u001b[1;32m----> 1\u001b[0m \u001b[43ms\u001b[49m\u001b[38;5;241;43m.\u001b[39;49m\u001b[43mindex\u001b[49m\u001b[43m(\u001b[49m\u001b[38;5;124;43m'\u001b[39;49m\u001b[38;5;124;43moooo\u001b[39;49m\u001b[38;5;124;43m'\u001b[39;49m\u001b[43m)\u001b[49m\n",
      "\u001b[1;31mValueError\u001b[0m: substring not found"
     ]
    }
   ],
   "source": [
    "s.index('oooo')"
   ]
  },
  {
   "cell_type": "code",
   "execution_count": 398,
   "id": "50dc032f",
   "metadata": {},
   "outputs": [
    {
     "data": {
      "text/plain": [
       "-1"
      ]
     },
     "execution_count": 398,
     "metadata": {},
     "output_type": "execute_result"
    }
   ],
   "source": [
    "s.find('okkk')"
   ]
  },
  {
   "cell_type": "code",
   "execution_count": 399,
   "id": "72b52db8",
   "metadata": {},
   "outputs": [
    {
     "data": {
      "text/plain": [
       "2"
      ]
     },
     "execution_count": 399,
     "metadata": {},
     "output_type": "execute_result"
    }
   ],
   "source": [
    "s.find('pl')"
   ]
  },
  {
   "cell_type": "code",
   "execution_count": 400,
   "id": "df42b1bd",
   "metadata": {},
   "outputs": [
    {
     "data": {
      "text/plain": [
       "23"
      ]
     },
     "execution_count": 400,
     "metadata": {},
     "output_type": "execute_result"
    }
   ],
   "source": [
    "s.rfind('pl')        # index()와 같이 기본적으로 왼쪽부터 찾는다."
   ]
  },
  {
   "cell_type": "markdown",
   "id": "a35adae6",
   "metadata": {},
   "source": [
    "- count('문자열'): 현재 문자열에서 특정 문자열이 몇 번이나 나오는지 알아냄"
   ]
  },
  {
   "cell_type": "code",
   "execution_count": 401,
   "id": "252022ef",
   "metadata": {},
   "outputs": [
    {
     "data": {
      "text/plain": [
       "2"
      ]
     },
     "execution_count": 401,
     "metadata": {},
     "output_type": "execute_result"
    }
   ],
   "source": [
    "s.count('pl')"
   ]
  },
  {
   "cell_type": "markdown",
   "id": "d21555af",
   "metadata": {},
   "source": [
    "**서식 지정자**"
   ]
  },
  {
   "cell_type": "code",
   "execution_count": 402,
   "id": "dfc527df",
   "metadata": {},
   "outputs": [
    {
     "data": {
      "text/plain": [
       "'나는 지우근입니다.'"
      ]
     },
     "execution_count": 402,
     "metadata": {},
     "output_type": "execute_result"
    }
   ],
   "source": [
    "\"나는 지우근입니다.\""
   ]
  },
  {
   "cell_type": "code",
   "execution_count": 406,
   "id": "4f78c561",
   "metadata": {},
   "outputs": [
    {
     "name": "stdout",
     "output_type": "stream",
     "text": [
      "지우근\n"
     ]
    },
    {
     "data": {
      "text/plain": [
       "'나는 지우근입니다.'"
      ]
     },
     "execution_count": 406,
     "metadata": {},
     "output_type": "execute_result"
    }
   ],
   "source": [
    "name = input()\n",
    "\"나는 %s입니다.\" % name"
   ]
  },
  {
   "cell_type": "code",
   "execution_count": 411,
   "id": "a2e0a832",
   "metadata": {},
   "outputs": [
    {
     "name": "stdout",
     "output_type": "stream",
     "text": [
      "25\n"
     ]
    },
    {
     "data": {
      "text/plain": [
       "'나이는 25세 입니다.'"
      ]
     },
     "execution_count": 411,
     "metadata": {},
     "output_type": "execute_result"
    }
   ],
   "source": [
    "age = int(input())\n",
    "\"나이는 %d세 입니다.\" % age"
   ]
  },
  {
   "cell_type": "code",
   "execution_count": 416,
   "id": "4bf7e514",
   "metadata": {},
   "outputs": [
    {
     "name": "stdout",
     "output_type": "stream",
     "text": [
      "4.5\n"
     ]
    },
    {
     "data": {
      "text/plain": [
       "'제 학점은 4.5입니다.'"
      ]
     },
     "execution_count": 416,
     "metadata": {},
     "output_type": "execute_result"
    }
   ],
   "source": [
    "score = float(input())\n",
    "\"제 학점은 %.1f입니다.\" % score"
   ]
  },
  {
   "cell_type": "code",
   "execution_count": 424,
   "id": "9eb6cc46",
   "metadata": {},
   "outputs": [
    {
     "name": "stdout",
     "output_type": "stream",
     "text": [
      "지우근\n",
      "25\n",
      "4.5\n"
     ]
    },
    {
     "data": {
      "text/plain": [
       "'제 이름은 지우근이며 나이는 25세 학점은 4.5입니다.'"
      ]
     },
     "execution_count": 424,
     "metadata": {},
     "output_type": "execute_result"
    }
   ],
   "source": [
    "name = input()\n",
    "age = int(input())\n",
    "score = float(input())\n",
    "\n",
    "\"제 이름은 %s이며 나이는 %d세 학점은 %.1f입니다.\" % (name, age, score)"
   ]
  },
  {
   "cell_type": "markdown",
   "id": "b7b1ed9c",
   "metadata": {},
   "source": [
    "**format함수**"
   ]
  },
  {
   "cell_type": "code",
   "execution_count": 423,
   "id": "e20a80dc",
   "metadata": {},
   "outputs": [
    {
     "data": {
      "text/plain": [
       "'나는 지우근입니다.'"
      ]
     },
     "execution_count": 423,
     "metadata": {},
     "output_type": "execute_result"
    }
   ],
   "source": [
    "name = '지우근'\n",
    "\"나는 {}입니다.\".format(name)"
   ]
  },
  {
   "cell_type": "code",
   "execution_count": 425,
   "id": "97e9f057",
   "metadata": {},
   "outputs": [
    {
     "data": {
      "text/plain": [
       "'나는 지우근입니다.'"
      ]
     },
     "execution_count": 425,
     "metadata": {},
     "output_type": "execute_result"
    }
   ],
   "source": [
    "name = '지우근'\n",
    "f\"나는 {name}입니다.\""
   ]
  },
  {
   "cell_type": "code",
   "execution_count": null,
   "id": "bf8c01bd",
   "metadata": {},
   "outputs": [],
   "source": []
  }
 ],
 "metadata": {
  "kernelspec": {
   "display_name": "Python 3 (ipykernel)",
   "language": "python",
   "name": "python3"
  },
  "language_info": {
   "codemirror_mode": {
    "name": "ipython",
    "version": 3
   },
   "file_extension": ".py",
   "mimetype": "text/x-python",
   "name": "python",
   "nbconvert_exporter": "python",
   "pygments_lexer": "ipython3",
   "version": "3.9.12"
  }
 },
 "nbformat": 4,
 "nbformat_minor": 5
}
