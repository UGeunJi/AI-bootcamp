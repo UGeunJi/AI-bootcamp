{
 "cells": [
  {
   "cell_type": "markdown",
   "id": "8e38d9dd",
   "metadata": {},
   "source": [
    "# Applying dictionary"
   ]
  },
  {
   "cell_type": "markdown",
   "id": "03fdbb21",
   "metadata": {},
   "source": [
    "- setdefault: key:value twin add\n",
    "- update: 키의 값 수정, 키가 없으면 키-값 쌍 추가"
   ]
  },
  {
   "cell_type": "markdown",
   "id": "9334b545",
   "metadata": {},
   "source": [
    "shift + tab: 해당 단어에 대한 정보 열람"
   ]
  },
  {
   "cell_type": "code",
   "execution_count": 2,
   "id": "47520c6f",
   "metadata": {},
   "outputs": [
    {
     "data": {
      "text/plain": [
       "dict"
      ]
     },
     "execution_count": 2,
     "metadata": {},
     "output_type": "execute_result"
    }
   ],
   "source": [
    "x = {'a': 10, 'b': 20, 'c': 30, 'd': 40}\n",
    "type(x)"
   ]
  },
  {
   "cell_type": "code",
   "execution_count": 4,
   "id": "f10bbe1b",
   "metadata": {},
   "outputs": [
    {
     "data": {
      "text/plain": [
       "50"
      ]
     },
     "execution_count": 4,
     "metadata": {},
     "output_type": "execute_result"
    }
   ],
   "source": [
    "x.setdefault('e', 50)        # setdefault는 ,(comma)로 연결"
   ]
  },
  {
   "cell_type": "code",
   "execution_count": 5,
   "id": "299cec25",
   "metadata": {},
   "outputs": [
    {
     "data": {
      "text/plain": [
       "{'a': 10, 'b': 20, 'c': 30, 'd': 40, 'e': 50}"
      ]
     },
     "execution_count": 5,
     "metadata": {},
     "output_type": "execute_result"
    }
   ],
   "source": [
    "x"
   ]
  },
  {
   "cell_type": "code",
   "execution_count": 7,
   "id": "e4a02e1a",
   "metadata": {},
   "outputs": [
    {
     "data": {
      "text/plain": [
       "{'a': 10, 'b': 20, 'c': 30, 'd': 40, 'e': 50, 'f': None}"
      ]
     },
     "execution_count": 7,
     "metadata": {},
     "output_type": "execute_result"
    }
   ],
   "source": [
    "x.setdefault('f')          # value를 추가하지 않으면 None으로 출력\n",
    "x"
   ]
  },
  {
   "cell_type": "code",
   "execution_count": 8,
   "id": "12679036",
   "metadata": {},
   "outputs": [],
   "source": [
    "x.update({'a': 100, 'b': 200})           # update는 :(colon)으로 연결"
   ]
  },
  {
   "cell_type": "code",
   "execution_count": 9,
   "id": "605c0630",
   "metadata": {},
   "outputs": [
    {
     "data": {
      "text/plain": [
       "{'a': 100, 'b': 200, 'c': 30, 'd': 40, 'e': 50, 'f': None}"
      ]
     },
     "execution_count": 9,
     "metadata": {},
     "output_type": "execute_result"
    }
   ],
   "source": [
    "x"
   ]
  },
  {
   "cell_type": "code",
   "execution_count": 14,
   "id": "3c3ba4ed",
   "metadata": {},
   "outputs": [],
   "source": [
    "x.update({'a': 1000, 'b': 2000, 'g': 1234})"
   ]
  },
  {
   "cell_type": "code",
   "execution_count": 15,
   "id": "6bfabe1f",
   "metadata": {},
   "outputs": [
    {
     "data": {
      "text/plain": [
       "{'a': 1000, 'b': 2000, 'c': 30, 'd': 40, 'e': 50, 'f': None, 'g': 1234}"
      ]
     },
     "execution_count": 15,
     "metadata": {},
     "output_type": "execute_result"
    }
   ],
   "source": [
    "x"
   ]
  },
  {
   "cell_type": "markdown",
   "id": "0fcbde41",
   "metadata": {},
   "source": [
    "- pop(key): 특정 키-값 쌍을 삭제한 뒤, 삭제한 값을 반환\n",
    "- pop(key, default): 키가 없을 때 기본값을 반환\n",
    "- clear(): 딕셔너리의 모든 키-값 쌍을 삭제"
   ]
  },
  {
   "cell_type": "code",
   "execution_count": 16,
   "id": "39c7b244",
   "metadata": {},
   "outputs": [
    {
     "data": {
      "text/plain": [
       "{'a': 1000, 'b': 2000, 'c': 30, 'd': 40, 'e': 50, 'f': None, 'g': 1234}"
      ]
     },
     "execution_count": 16,
     "metadata": {},
     "output_type": "execute_result"
    }
   ],
   "source": [
    "x"
   ]
  },
  {
   "cell_type": "code",
   "execution_count": 17,
   "id": "aa74b4ca",
   "metadata": {},
   "outputs": [
    {
     "data": {
      "text/plain": [
       "1000"
      ]
     },
     "execution_count": 17,
     "metadata": {},
     "output_type": "execute_result"
    }
   ],
   "source": [
    "result = x.pop('a')\n",
    "result"
   ]
  },
  {
   "cell_type": "code",
   "execution_count": 18,
   "id": "64dc392c",
   "metadata": {},
   "outputs": [
    {
     "data": {
      "text/plain": [
       "{'b': 2000, 'c': 30, 'd': 40, 'e': 50, 'f': None, 'g': 1234}"
      ]
     },
     "execution_count": 18,
     "metadata": {},
     "output_type": "execute_result"
    }
   ],
   "source": [
    "x"
   ]
  },
  {
   "cell_type": "code",
   "execution_count": 19,
   "id": "de7db2bd",
   "metadata": {},
   "outputs": [
    {
     "data": {
      "text/plain": [
       "0"
      ]
     },
     "execution_count": 19,
     "metadata": {},
     "output_type": "execute_result"
    }
   ],
   "source": [
    "result = x.pop('a', 0)\n",
    "result"
   ]
  },
  {
   "cell_type": "code",
   "execution_count": 20,
   "id": "e503d51c",
   "metadata": {},
   "outputs": [
    {
     "data": {
      "text/plain": [
       "2000"
      ]
     },
     "execution_count": 20,
     "metadata": {},
     "output_type": "execute_result"
    }
   ],
   "source": [
    "result = x.pop('b', 0)\n",
    "result"
   ]
  },
  {
   "cell_type": "code",
   "execution_count": 21,
   "id": "ecc8caf3",
   "metadata": {},
   "outputs": [
    {
     "data": {
      "text/plain": [
       "{'c': 30, 'd': 40, 'e': 50, 'f': None, 'g': 1234}"
      ]
     },
     "execution_count": 21,
     "metadata": {},
     "output_type": "execute_result"
    }
   ],
   "source": [
    "x"
   ]
  },
  {
   "cell_type": "markdown",
   "id": "416cc5f3",
   "metadata": {},
   "source": [
    "- get(key): 특정 키의 값을 가져옴\n",
    "- get(key, default): 키가 없을 때 기본값을 반환"
   ]
  },
  {
   "cell_type": "code",
   "execution_count": 22,
   "id": "8446d9fa",
   "metadata": {},
   "outputs": [
    {
     "data": {
      "text/plain": [
       "{'c': 30, 'd': 40, 'e': 50, 'f': None, 'g': 1234}"
      ]
     },
     "execution_count": 22,
     "metadata": {},
     "output_type": "execute_result"
    }
   ],
   "source": [
    "x"
   ]
  },
  {
   "cell_type": "code",
   "execution_count": 23,
   "id": "b92093e2",
   "metadata": {},
   "outputs": [
    {
     "data": {
      "text/plain": [
       "30"
      ]
     },
     "execution_count": 23,
     "metadata": {},
     "output_type": "execute_result"
    }
   ],
   "source": [
    "result = x.get('c')\n",
    "result"
   ]
  },
  {
   "cell_type": "code",
   "execution_count": 25,
   "id": "02f51cb7",
   "metadata": {},
   "outputs": [
    {
     "data": {
      "text/plain": [
       "{'c': 30, 'd': 40, 'e': 50, 'f': None, 'g': 1234}"
      ]
     },
     "execution_count": 25,
     "metadata": {},
     "output_type": "execute_result"
    }
   ],
   "source": [
    "x             # pop()과는 다르게 딕셔너리에서 사라지지 않는다."
   ]
  },
  {
   "cell_type": "code",
   "execution_count": 26,
   "id": "e43fcda4",
   "metadata": {},
   "outputs": [
    {
     "data": {
      "text/plain": [
       "0"
      ]
     },
     "execution_count": 26,
     "metadata": {},
     "output_type": "execute_result"
    }
   ],
   "source": [
    "result = x.get('z', 0)\n",
    "result"
   ]
  },
  {
   "cell_type": "code",
   "execution_count": 27,
   "id": "992897c2",
   "metadata": {},
   "outputs": [
    {
     "data": {
      "text/plain": [
       "{'c': 30, 'd': 40, 'e': 50, 'f': None, 'g': 1234}"
      ]
     },
     "execution_count": 27,
     "metadata": {},
     "output_type": "execute_result"
    }
   ],
   "source": [
    "x"
   ]
  },
  {
   "cell_type": "markdown",
   "id": "daf61b5f",
   "metadata": {},
   "source": [
    "- item(): 키-값 쌍을 모두 가져옴\n",
    "- keys(): 키를 모두 가져옴\n",
    "- values(): 값을 모두 가져옴"
   ]
  },
  {
   "cell_type": "code",
   "execution_count": 28,
   "id": "fa5ec614",
   "metadata": {},
   "outputs": [
    {
     "data": {
      "text/plain": [
       "{'c': 30, 'd': 40, 'e': 50, 'f': None, 'g': 1234}"
      ]
     },
     "execution_count": 28,
     "metadata": {},
     "output_type": "execute_result"
    }
   ],
   "source": [
    "x"
   ]
  },
  {
   "cell_type": "code",
   "execution_count": 30,
   "id": "965f8102",
   "metadata": {},
   "outputs": [
    {
     "data": {
      "text/plain": [
       "dict_items([('c', 30), ('d', 40), ('e', 50), ('f', None), ('g', 1234)])"
      ]
     },
     "execution_count": 30,
     "metadata": {},
     "output_type": "execute_result"
    }
   ],
   "source": [
    "x.items()"
   ]
  },
  {
   "cell_type": "code",
   "execution_count": 31,
   "id": "3dde96fe",
   "metadata": {},
   "outputs": [
    {
     "data": {
      "text/plain": [
       "dict_keys(['c', 'd', 'e', 'f', 'g'])"
      ]
     },
     "execution_count": 31,
     "metadata": {},
     "output_type": "execute_result"
    }
   ],
   "source": [
    "x.keys()"
   ]
  },
  {
   "cell_type": "code",
   "execution_count": 32,
   "id": "782688a0",
   "metadata": {},
   "outputs": [
    {
     "data": {
      "text/plain": [
       "dict_values([30, 40, 50, None, 1234])"
      ]
     },
     "execution_count": 32,
     "metadata": {},
     "output_type": "execute_result"
    }
   ],
   "source": [
    "x.values()"
   ]
  },
  {
   "cell_type": "markdown",
   "id": "ecff08d6",
   "metadata": {},
   "source": [
    "- for key, value in dictionary.items():"
   ]
  },
  {
   "cell_type": "code",
   "execution_count": 33,
   "id": "501d3c0a",
   "metadata": {},
   "outputs": [
    {
     "name": "stdout",
     "output_type": "stream",
     "text": [
      "c 30\n",
      "d 40\n",
      "e 50\n",
      "f None\n",
      "g 1234\n"
     ]
    }
   ],
   "source": [
    "for k, v in x.items():\n",
    "    print(k, v)"
   ]
  },
  {
   "cell_type": "code",
   "execution_count": 34,
   "id": "6b0c6702",
   "metadata": {},
   "outputs": [
    {
     "name": "stdout",
     "output_type": "stream",
     "text": [
      "c\n",
      "d\n",
      "e\n",
      "f\n",
      "g\n"
     ]
    }
   ],
   "source": [
    "for k in x.keys():\n",
    "    print(k)"
   ]
  },
  {
   "cell_type": "code",
   "execution_count": 35,
   "id": "671a704d",
   "metadata": {},
   "outputs": [
    {
     "name": "stdout",
     "output_type": "stream",
     "text": [
      "30\n",
      "40\n",
      "50\n",
      "None\n",
      "1234\n"
     ]
    }
   ],
   "source": [
    "for v in x.values():\n",
    "    print(v)"
   ]
  },
  {
   "cell_type": "markdown",
   "id": "f714bb2b",
   "metadata": {},
   "source": [
    "# set"
   ]
  },
  {
   "cell_type": "markdown",
   "id": "f223e3af",
   "metadata": {},
   "source": [
    "- set = {value1, value2, value3, ...}"
   ]
  },
  {
   "cell_type": "code",
   "execution_count": 38,
   "id": "4b6c71ca",
   "metadata": {},
   "outputs": [
    {
     "data": {
      "text/plain": [
       "set"
      ]
     },
     "execution_count": 38,
     "metadata": {},
     "output_type": "execute_result"
    }
   ],
   "source": [
    "fruits = {'strawberry', ' grape', 'orange', 'pineapple', 'cherry'}\n",
    "type(fruits)"
   ]
  },
  {
   "cell_type": "code",
   "execution_count": 39,
   "id": "c83797e4",
   "metadata": {},
   "outputs": [
    {
     "data": {
      "text/plain": [
       "{' grape', 'cherry', 'orange', 'pineapple', 'strawberry'}"
      ]
     },
     "execution_count": 39,
     "metadata": {},
     "output_type": "execute_result"
    }
   ],
   "source": [
    "fruits"
   ]
  },
  {
   "cell_type": "code",
   "execution_count": 40,
   "id": "85f69c2f",
   "metadata": {},
   "outputs": [],
   "source": [
    "fruits = {'strawberry', 'strawberry', ' grape', 'orange', 'pineapple', 'cherry'}"
   ]
  },
  {
   "cell_type": "code",
   "execution_count": 42,
   "id": "d877fc07",
   "metadata": {},
   "outputs": [
    {
     "data": {
      "text/plain": [
       "{' grape', 'cherry', 'orange', 'pineapple', 'strawberry'}"
      ]
     },
     "execution_count": 42,
     "metadata": {},
     "output_type": "execute_result"
    }
   ],
   "source": [
    "fruits     # 세트는 중복이 없고(유일한 값만 사용), 순서도 없다."
   ]
  },
  {
   "cell_type": "code",
   "execution_count": 43,
   "id": "4cf47caf",
   "metadata": {},
   "outputs": [],
   "source": [
    "x = {'a', 'a', 'b'}\n",
    "y = {'a', 'b', 'a'}\n",
    "z = {'b', 'a'}"
   ]
  },
  {
   "cell_type": "code",
   "execution_count": 44,
   "id": "744adbca",
   "metadata": {},
   "outputs": [
    {
     "data": {
      "text/plain": [
       "True"
      ]
     },
     "execution_count": 44,
     "metadata": {},
     "output_type": "execute_result"
    }
   ],
   "source": [
    "x == y"
   ]
  },
  {
   "cell_type": "code",
   "execution_count": 45,
   "id": "caed9f9e",
   "metadata": {},
   "outputs": [
    {
     "data": {
      "text/plain": [
       "True"
      ]
     },
     "execution_count": 45,
     "metadata": {},
     "output_type": "execute_result"
    }
   ],
   "source": [
    "x == z"
   ]
  },
  {
   "cell_type": "code",
   "execution_count": 46,
   "id": "696acb05",
   "metadata": {},
   "outputs": [
    {
     "data": {
      "text/plain": [
       "True"
      ]
     },
     "execution_count": 46,
     "metadata": {},
     "output_type": "execute_result"
    }
   ],
   "source": [
    "y == z            # 순서, 중복이 없기에 모두 같은 set이다."
   ]
  },
  {
   "cell_type": "code",
   "execution_count": 47,
   "id": "c8f4876a",
   "metadata": {},
   "outputs": [
    {
     "data": {
      "text/plain": [
       "dict"
      ]
     },
     "execution_count": 47,
     "metadata": {},
     "output_type": "execute_result"
    }
   ],
   "source": [
    "d = {}\n",
    "type(d)"
   ]
  },
  {
   "cell_type": "code",
   "execution_count": 48,
   "id": "09285e4e",
   "metadata": {},
   "outputs": [],
   "source": [
    "s = set()     # 빈 set 만드는 방법"
   ]
  },
  {
   "cell_type": "markdown",
   "id": "58ae89f1",
   "metadata": {},
   "source": [
    "# Workshop"
   ]
  },
  {
   "cell_type": "markdown",
   "id": "1d60089e",
   "metadata": {},
   "source": [
    "**리스트와 반복문**\n",
    "- 아래에 주어진 리스트 l1의 요소 중에서 l2의 요소와 값이 같은 경우 삭제하는 파이썬 코드 작성하기"
   ]
  },
  {
   "cell_type": "markdown",
   "id": "b24c7d69",
   "metadata": {},
   "source": [
    "```\n",
    "l1 = ['a', 'b', 'c', 'd', 'a', 'b', 'a', 'b']\n",
    "l2 = ['b', 'a']\n",
    "결과 l1\n",
    "['c', 'd']\n",
    "```"
   ]
  },
  {
   "cell_type": "code",
   "execution_count": 50,
   "id": "9c213aa3",
   "metadata": {},
   "outputs": [],
   "source": [
    "l1 = ['a', 'b', 'c', 'd', 'a', 'b', 'a', 'b']\n",
    "l2 = ['b', 'a']\n",
    "\n",
    "s1 = set(l1)"
   ]
  },
  {
   "cell_type": "code",
   "execution_count": 51,
   "id": "412debf0",
   "metadata": {},
   "outputs": [
    {
     "data": {
      "text/plain": [
       "{'a', 'b', 'c', 'd'}"
      ]
     },
     "execution_count": 51,
     "metadata": {},
     "output_type": "execute_result"
    }
   ],
   "source": [
    "s1"
   ]
  },
  {
   "cell_type": "code",
   "execution_count": 52,
   "id": "bc825ad2",
   "metadata": {},
   "outputs": [],
   "source": [
    "s2 = set(l2)"
   ]
  },
  {
   "cell_type": "code",
   "execution_count": 53,
   "id": "ddcfa4e0",
   "metadata": {},
   "outputs": [
    {
     "data": {
      "text/plain": [
       "{'a', 'b'}"
      ]
     },
     "execution_count": 53,
     "metadata": {},
     "output_type": "execute_result"
    }
   ],
   "source": [
    "s2"
   ]
  },
  {
   "cell_type": "code",
   "execution_count": 54,
   "id": "443ada63",
   "metadata": {},
   "outputs": [],
   "source": [
    "s3 = s1 - s2"
   ]
  },
  {
   "cell_type": "code",
   "execution_count": 55,
   "id": "d89fc070",
   "metadata": {},
   "outputs": [
    {
     "data": {
      "text/plain": [
       "{'c', 'd'}"
      ]
     },
     "execution_count": 55,
     "metadata": {},
     "output_type": "execute_result"
    }
   ],
   "source": [
    "s3"
   ]
  },
  {
   "cell_type": "code",
   "execution_count": 56,
   "id": "b1dfd8d7",
   "metadata": {},
   "outputs": [],
   "source": [
    "l3 = list(s3)"
   ]
  },
  {
   "cell_type": "code",
   "execution_count": 57,
   "id": "97565a25",
   "metadata": {},
   "outputs": [
    {
     "data": {
      "text/plain": [
       "['c', 'd']"
      ]
     },
     "execution_count": 57,
     "metadata": {},
     "output_type": "execute_result"
    }
   ],
   "source": [
    "l3"
   ]
  },
  {
   "cell_type": "code",
   "execution_count": 84,
   "id": "7a6e745b",
   "metadata": {},
   "outputs": [
    {
     "name": "stdout",
     "output_type": "stream",
     "text": [
      "b will be removed\n",
      "b will be removed\n",
      "b will be removed\n",
      "a will be removed\n",
      "a will be removed\n",
      "a will be removed\n"
     ]
    },
    {
     "data": {
      "text/plain": [
       "['c', 'd']"
      ]
     },
     "execution_count": 84,
     "metadata": {},
     "output_type": "execute_result"
    }
   ],
   "source": [
    "l1 = ['a', 'b', 'c', 'd', 'a', 'b', 'a', 'b']\n",
    "l2 = ['b', 'a']\n",
    "\n",
    "for c2 in l2:    # b -> a\n",
    "    while c2 in l1:\n",
    "        print(c2, 'will be removed')\n",
    "        l1.remove(c2)\n",
    "l1"
   ]
  },
  {
   "cell_type": "markdown",
   "id": "4dc3d97f",
   "metadata": {},
   "source": [
    "---"
   ]
  },
  {
   "cell_type": "markdown",
   "id": "6caaf07b",
   "metadata": {},
   "source": [
    "**'the'의 개수 출력하기**\n",
    "- 아래 문자열에서 'the'의 개수를 출력하는 프로그램을 만드세요. \n",
    "- 단 , 모든 문자가 소문자인 'the'만 찾으면 되며 'them', 'there', 'their' 등은 포함되지 않아야 합니다."
   ]
  },
  {
   "cell_type": "code",
   "execution_count": 86,
   "id": "f625a69c",
   "metadata": {},
   "outputs": [],
   "source": [
    "s = \"the grown-ups' response, this time, was to advise me to lay aside my drawings of boa constrictors, whether from the inside or the outside, and devote myself instead to geography, history, arithmetic, and grammar. That is why, at the, age of six, I gave up what might have been a magnificent career as a painter. I had been disheartened by the failure of my Drawing Number One and my Drawing Number Two. Grown-ups never understand anything by themselves, and it is tiresome for children to be always and forever explaining things to the.\""
   ]
  },
  {
   "cell_type": "code",
   "execution_count": 87,
   "id": "a76f762e",
   "metadata": {},
   "outputs": [],
   "source": [
    "a = s.count(' the')"
   ]
  },
  {
   "cell_type": "code",
   "execution_count": 88,
   "id": "49ddf0a2",
   "metadata": {},
   "outputs": [
    {
     "data": {
      "text/plain": [
       "6"
      ]
     },
     "execution_count": 88,
     "metadata": {},
     "output_type": "execute_result"
    }
   ],
   "source": [
    "a"
   ]
  },
  {
   "cell_type": "code",
   "execution_count": 95,
   "id": "e7bcf618",
   "metadata": {},
   "outputs": [
    {
     "name": "stdout",
     "output_type": "stream",
     "text": [
      "the\n",
      "the\n",
      "the\n",
      "the\n"
     ]
    }
   ],
   "source": [
    "word_list = s.split()\n",
    "\n",
    "for word in word_list:\n",
    "    if word == 'the':\n",
    "        print(word)\n"
   ]
  },
  {
   "cell_type": "code",
   "execution_count": 96,
   "id": "a8f6888a",
   "metadata": {},
   "outputs": [
    {
     "name": "stdout",
     "output_type": "stream",
     "text": [
      "the\n",
      "the\n",
      "the\n",
      "the,\n",
      "the\n",
      "the.\n"
     ]
    }
   ],
   "source": [
    "word_list = s.split()\n",
    "\n",
    "for word in word_list:\n",
    "    if word.strip(',.') == 'the':\n",
    "        print(word)"
   ]
  },
  {
   "cell_type": "markdown",
   "id": "44c42dcb",
   "metadata": {},
   "source": [
    "---"
   ]
  },
  {
   "cell_type": "markdown",
   "id": "1a90f533",
   "metadata": {},
   "source": [
    "**평균 점수 구하기**\n",
    "- 다음 소스 코드를 완성하여 평균 점수가 출력되게 만드세요"
   ]
  },
  {
   "cell_type": "code",
   "execution_count": 64,
   "id": "17f6f8e0",
   "metadata": {},
   "outputs": [],
   "source": [
    "maria = {'korean' : 94, 'english': 91, 'mathmatics': 89, 'science': 83 }"
   ]
  },
  {
   "cell_type": "code",
   "execution_count": 66,
   "id": "71de6a6a",
   "metadata": {},
   "outputs": [],
   "source": [
    "scores = maria.values()"
   ]
  },
  {
   "cell_type": "code",
   "execution_count": 67,
   "id": "2907a2c1",
   "metadata": {},
   "outputs": [
    {
     "data": {
      "text/plain": [
       "dict_values([94, 91, 89, 83])"
      ]
     },
     "execution_count": 67,
     "metadata": {},
     "output_type": "execute_result"
    }
   ],
   "source": [
    "scores"
   ]
  },
  {
   "cell_type": "code",
   "execution_count": 69,
   "id": "cd35514a",
   "metadata": {},
   "outputs": [],
   "source": [
    "average = sum(scores) / len(scores)"
   ]
  },
  {
   "cell_type": "code",
   "execution_count": 70,
   "id": "2cfe5a15",
   "metadata": {},
   "outputs": [
    {
     "data": {
      "text/plain": [
       "89.25"
      ]
     },
     "execution_count": 70,
     "metadata": {},
     "output_type": "execute_result"
    }
   ],
   "source": [
    "average"
   ]
  },
  {
   "cell_type": "code",
   "execution_count": 98,
   "id": "1d6df88b",
   "metadata": {},
   "outputs": [
    {
     "data": {
      "text/plain": [
       "89.25"
      ]
     },
     "execution_count": 98,
     "metadata": {},
     "output_type": "execute_result"
    }
   ],
   "source": [
    "total_v = 0\n",
    "for v in maria.values():\n",
    "    total_v = total_v + v\n",
    "total_v/len(maria)"
   ]
  },
  {
   "cell_type": "markdown",
   "id": "02425564",
   "metadata": {},
   "source": [
    "---"
   ]
  },
  {
   "cell_type": "markdown",
   "id": "de591f2e",
   "metadata": {},
   "source": [
    "**딕셔너리에서 특정값 삭제하기**\n",
    "- 표준 입력으로 문자열 여러개와 숫자 여러개가 두 줄로 입력되고, 첫 번째 줄은 키, 두번째 줄은 값으로 하여 딕셔너리를 생성합니다.\n",
    "- 다음 코드를 완성하여 딕셔너리에서 키가 'delta'인 키-값 쌍과 값이 30인 키-값 쌍을 삭제하도록 만드세요."
   ]
  },
  {
   "cell_type": "markdown",
   "id": "8816bd6f",
   "metadata": {},
   "source": [
    "```\n",
    "입력\n",
    "alpha bravo charlie delta\n",
    "10 20 30 40\n",
    "결과\n",
    "{'alpha':10, 'bravo':20}\n",
    "```"
   ]
  },
  {
   "cell_type": "code",
   "execution_count": 74,
   "id": "4339507c",
   "metadata": {},
   "outputs": [],
   "source": [
    "k = ['alpha', 'bravo', 'charlie', 'delta']\n",
    "v = [10, 20, 30, 40]\n",
    "\n",
    "d = dict(zip(k, v))"
   ]
  },
  {
   "cell_type": "code",
   "execution_count": 75,
   "id": "2cb3f8ba",
   "metadata": {},
   "outputs": [
    {
     "data": {
      "text/plain": [
       "{'alpha': 10, 'bravo': 20, 'charlie': 30, 'delta': 40}"
      ]
     },
     "execution_count": 75,
     "metadata": {},
     "output_type": "execute_result"
    }
   ],
   "source": [
    "d"
   ]
  },
  {
   "cell_type": "code",
   "execution_count": 76,
   "id": "7b2e09bf",
   "metadata": {},
   "outputs": [
    {
     "data": {
      "text/plain": [
       "40"
      ]
     },
     "execution_count": 76,
     "metadata": {},
     "output_type": "execute_result"
    }
   ],
   "source": [
    "d.pop('delta')"
   ]
  },
  {
   "cell_type": "code",
   "execution_count": 77,
   "id": "b239b102",
   "metadata": {},
   "outputs": [
    {
     "data": {
      "text/plain": [
       "{'alpha': 10, 'bravo': 20, 'charlie': 30}"
      ]
     },
     "execution_count": 77,
     "metadata": {},
     "output_type": "execute_result"
    }
   ],
   "source": [
    "d"
   ]
  },
  {
   "cell_type": "code",
   "execution_count": 79,
   "id": "40101309",
   "metadata": {},
   "outputs": [
    {
     "data": {
      "text/plain": [
       "30"
      ]
     },
     "execution_count": 79,
     "metadata": {},
     "output_type": "execute_result"
    }
   ],
   "source": [
    "d.pop('charlie', 30)"
   ]
  },
  {
   "cell_type": "code",
   "execution_count": 80,
   "id": "b02578e3",
   "metadata": {},
   "outputs": [
    {
     "data": {
      "text/plain": [
       "{'alpha': 10, 'bravo': 20}"
      ]
     },
     "execution_count": 80,
     "metadata": {},
     "output_type": "execute_result"
    }
   ],
   "source": [
    "d"
   ]
  },
  {
   "cell_type": "code",
   "execution_count": 126,
   "id": "539a63e0",
   "metadata": {},
   "outputs": [
    {
     "name": "stdout",
     "output_type": "stream",
     "text": [
      "key:: alpha bravo charlie delta\n",
      "value: 10 20 30 40\n"
     ]
    }
   ],
   "source": [
    "keys = input(\"key:: \").split()\n",
    "values = map(int, input(\"value: \").split())"
   ]
  },
  {
   "cell_type": "code",
   "execution_count": 127,
   "id": "f6b9ce1a",
   "metadata": {},
   "outputs": [
    {
     "data": {
      "text/plain": [
       "['alpha', 'bravo', 'charlie', 'delta']"
      ]
     },
     "execution_count": 127,
     "metadata": {},
     "output_type": "execute_result"
    }
   ],
   "source": [
    "keys"
   ]
  },
  {
   "cell_type": "code",
   "execution_count": 128,
   "id": "84ebecbf",
   "metadata": {},
   "outputs": [
    {
     "data": {
      "text/plain": [
       "<map at 0x28dd80bb340>"
      ]
     },
     "execution_count": 128,
     "metadata": {},
     "output_type": "execute_result"
    }
   ],
   "source": [
    "values"
   ]
  },
  {
   "cell_type": "code",
   "execution_count": 129,
   "id": "5a1e239a",
   "metadata": {},
   "outputs": [
    {
     "data": {
      "text/plain": [
       "{'alpha': 10, 'bravo': 20, 'charlie': 30, 'delta': 40}"
      ]
     },
     "execution_count": 129,
     "metadata": {},
     "output_type": "execute_result"
    }
   ],
   "source": [
    "d = dict(zip(keys, values))\n",
    "d"
   ]
  },
  {
   "cell_type": "code",
   "execution_count": 120,
   "id": "b79fd642",
   "metadata": {},
   "outputs": [
    {
     "data": {
      "text/plain": [
       "{'alpha': 10, 'bravo': 20, 'charlic': 30}"
      ]
     },
     "execution_count": 120,
     "metadata": {},
     "output_type": "execute_result"
    }
   ],
   "source": [
    "d.pop('delta')\n",
    "d"
   ]
  },
  {
   "cell_type": "code",
   "execution_count": 123,
   "id": "263ae373",
   "metadata": {},
   "outputs": [
    {
     "data": {
      "text/plain": [
       "{'alpha': 10, 'bravo': 20}"
      ]
     },
     "execution_count": 123,
     "metadata": {},
     "output_type": "execute_result"
    }
   ],
   "source": [
    "# option 1\n",
    "\n",
    "n = {}\n",
    "\n",
    "for k, v in d.items():\n",
    "    if v != 30:\n",
    "        n.setdefault(k, v)\n",
    "n"
   ]
  },
  {
   "cell_type": "code",
   "execution_count": null,
   "id": "22686c94",
   "metadata": {},
   "outputs": [],
   "source": [
    "# list comprehension\n",
    "[식 for 변수 in 리스트 if 조건식]"
   ]
  },
  {
   "cell_type": "code",
   "execution_count": null,
   "id": "1e16cf92",
   "metadata": {},
   "outputs": [],
   "source": [
    "# dictionary comprehension\n",
    "{키:값 for 변수 in 리스트 if 조건식}"
   ]
  },
  {
   "cell_type": "code",
   "execution_count": 124,
   "id": "d4478642",
   "metadata": {},
   "outputs": [
    {
     "data": {
      "text/plain": [
       "{'alpha': 10, 'bravo': 20}"
      ]
     },
     "execution_count": 124,
     "metadata": {},
     "output_type": "execute_result"
    }
   ],
   "source": [
    "# option 2\n",
    "\n",
    "{k : v for k, v in d.items() if v != 30}"
   ]
  },
  {
   "cell_type": "code",
   "execution_count": 130,
   "id": "7d4b2988",
   "metadata": {},
   "outputs": [
    {
     "data": {
      "text/plain": [
       "{'alpha': 10, 'bravo': 20}"
      ]
     },
     "execution_count": 130,
     "metadata": {},
     "output_type": "execute_result"
    }
   ],
   "source": [
    "# 최종\n",
    "{k : v for k, v in d.items() if k != 'delta' and v != 30}       # 하나의 식으로 'delta'와 30에 해당되는 키와 값을 모두 제거"
   ]
  },
  {
   "cell_type": "markdown",
   "id": "663d0084",
   "metadata": {},
   "source": [
    "# 파일 사용하기"
   ]
  },
  {
   "cell_type": "markdown",
   "id": "74863e59",
   "metadata": {},
   "source": [
    "- 파일객체 = open(\"파일이름\", \"파일모드\")\n",
    "- 파일객체.write(\"문자열\")\n",
    "- 파일객체.close()"
   ]
  },
  {
   "cell_type": "code",
   "execution_count": 132,
   "id": "35198493",
   "metadata": {},
   "outputs": [],
   "source": [
    "fd = open(\"hello.txt\", \"w\")\n",
    "fd.write(\"hello world!\")\n",
    "fd.close()"
   ]
  },
  {
   "cell_type": "code",
   "execution_count": 133,
   "id": "1925c82a",
   "metadata": {},
   "outputs": [
    {
     "name": "stdout",
     "output_type": "stream",
     "text": [
      " C 드라이브의 볼륨에는 이름이 없습니다.\n",
      " 볼륨 일련 번호: 3A54-31BE\n",
      "\n",
      " C:\\Users\\Playdata\\Documents\\인공지능 25기\\Python Programming 디렉터리\n",
      "\n",
      "2022-10-20  오후 12:12    <DIR>          .\n",
      "2022-10-20  오후 12:12    <DIR>          ..\n",
      "2022-10-20  오전 09:16    <DIR>          .ipynb_checkpoints\n",
      "2022-10-17  오후 12:13                21 Hello.py\n",
      "2022-10-20  오후 12:12                12 hello.txt\n",
      "2022-10-17  오전 11:28            15,745 Python Image.jpg\n",
      "2022-10-17  오후 05:09            83,967 Python Programming Day 1.ipynb\n",
      "2022-10-18  오후 04:49            95,035 Python Programming Day 2.ipynb\n",
      "2022-10-19  오후 04:50            75,483 Python Programming Day 3.ipynb\n",
      "2022-10-20  오후 12:12            29,820 Python Programming Day 4.ipynb\n",
      "               7개 파일             300,083 바이트\n",
      "               3개 디렉터리  184,891,473,920 바이트 남음\n"
     ]
    }
   ],
   "source": [
    "!dir"
   ]
  },
  {
   "cell_type": "markdown",
   "id": "6ab652c6",
   "metadata": {},
   "source": [
    "- 파일객체 = open(\"파일이름\", \"파일모드\")\n",
    "- 변수 = 파일객체.read()\n",
    "- 파일객체.close()"
   ]
  },
  {
   "cell_type": "code",
   "execution_count": 135,
   "id": "e3826e36",
   "metadata": {},
   "outputs": [
    {
     "name": "stdout",
     "output_type": "stream",
     "text": [
      "hello world!\n"
     ]
    }
   ],
   "source": [
    "fd = open(\"hello.txt\", \"r\")\n",
    "s = fd.read()     # 파일 안에 있는 모든 데이터를 가져옴\n",
    "print(s)\n",
    "fd.close()"
   ]
  },
  {
   "cell_type": "code",
   "execution_count": null,
   "id": "568d13cd",
   "metadata": {},
   "outputs": [],
   "source": [
    "if xxxxx:\n",
    "    ----\n",
    "    ----"
   ]
  },
  {
   "cell_type": "markdown",
   "id": "24b9da08",
   "metadata": {},
   "source": [
    "```\n",
    "with open(\"파일이름\", \"파일모드\") as fd:\n",
    "    코드\n",
    "```"
   ]
  },
  {
   "cell_type": "code",
   "execution_count": 136,
   "id": "92f82b90",
   "metadata": {},
   "outputs": [
    {
     "name": "stdout",
     "output_type": "stream",
     "text": [
      "hello world!\n"
     ]
    }
   ],
   "source": [
    "with open('hello.txt', 'r') as fd:\n",
    "    s = fd.read()\n",
    "    \n",
    "print(s)"
   ]
  },
  {
   "cell_type": "code",
   "execution_count": 138,
   "id": "f597f9c7",
   "metadata": {},
   "outputs": [
    {
     "name": "stdout",
     "output_type": "stream",
     "text": [
      "hello world!\n"
     ]
    }
   ],
   "source": [
    "fd = open(\"hello.txt\", \"r\")\n",
    "s = fd.read()\n",
    "print(s)\n",
    "fd.close()"
   ]
  },
  {
   "cell_type": "code",
   "execution_count": 142,
   "id": "b948e6fe",
   "metadata": {
    "scrolled": true
   },
   "outputs": [],
   "source": [
    "with open('hello.txt', 'w') as fd:\n",
    "    for i in range(3):\n",
    "        fd.write(\"Hello World!!! \\n\")"
   ]
  },
  {
   "cell_type": "code",
   "execution_count": 144,
   "id": "4904af45",
   "metadata": {},
   "outputs": [],
   "source": [
    "with open('hello.txt', 'w') as fd:\n",
    "    for i in range(3):\n",
    "        fd.write(\"Hello World!!! {} \\n\".format(i))"
   ]
  },
  {
   "cell_type": "code",
   "execution_count": 149,
   "id": "f88f7ff3",
   "metadata": {},
   "outputs": [],
   "source": [
    "line_list = [\"여기는 \\n\", \"플레이데이터입니다. \\n\", \"오늘도 \\n\", \"화이팅 \\n\"]\n",
    "with open('play.txt', 'w') as fd:\n",
    "    fd.writelines(line_list)   #writelines는 여러 라인을 출력할 수 있음"
   ]
  },
  {
   "cell_type": "code",
   "execution_count": 150,
   "id": "5cf8dff1",
   "metadata": {},
   "outputs": [],
   "source": [
    "with open('play.txt', 'r') as fd:\n",
    "    lines = fd.readlines()"
   ]
  },
  {
   "cell_type": "code",
   "execution_count": 151,
   "id": "afd52270",
   "metadata": {},
   "outputs": [
    {
     "data": {
      "text/plain": [
       "['여기는 \\n', '플레이데이터입니다. \\n', '오늘도 \\n', '화이팅 \\n']"
      ]
     },
     "execution_count": 151,
     "metadata": {},
     "output_type": "execute_result"
    }
   ],
   "source": [
    "lines"
   ]
  },
  {
   "cell_type": "code",
   "execution_count": 152,
   "id": "1a7bbe34",
   "metadata": {},
   "outputs": [],
   "source": [
    "# fd.read(): 파일에 있는 모든 데이터를 읽음\n",
    "# fd.readline(): 한 줄로 읽은 문자열을 반환\n",
    "# fd.readlines(): 라인별로 읽은 문자열들을 리스트 형태로 반환"
   ]
  },
  {
   "cell_type": "code",
   "execution_count": 153,
   "id": "a87c0a2b",
   "metadata": {},
   "outputs": [],
   "source": [
    "# fd.write(문자열): 파일에 문자열을 씀\n",
    "# fd.writelines(문자열): 리스트에 있는 여러 문자열을 한 라인씩 씀"
   ]
  },
  {
   "cell_type": "code",
   "execution_count": 154,
   "id": "ff4cf427",
   "metadata": {},
   "outputs": [
    {
     "data": {
      "text/plain": [
       "'여기는 \\n'"
      ]
     },
     "execution_count": 154,
     "metadata": {},
     "output_type": "execute_result"
    }
   ],
   "source": [
    "with open('play.txt', 'r') as fd:\n",
    "    line = fd.readline()\n",
    "line"
   ]
  },
  {
   "cell_type": "code",
   "execution_count": 158,
   "id": "6b21da83",
   "metadata": {},
   "outputs": [
    {
     "name": "stdout",
     "output_type": "stream",
     "text": [
      "여기는 \n",
      "\n",
      "플레이데이터입니다. \n",
      "\n",
      "오늘도 \n",
      "\n",
      "화이팅 \n",
      "\n",
      "\n"
     ]
    }
   ],
   "source": [
    "with open('play.txt', 'r') as fd:\n",
    "    line = None\n",
    "    while line != '':\n",
    "        line = fd.readline()\n",
    "        print(line)"
   ]
  },
  {
   "cell_type": "code",
   "execution_count": 160,
   "id": "96991b00",
   "metadata": {},
   "outputs": [
    {
     "name": "stdout",
     "output_type": "stream",
     "text": [
      "여기는 \n",
      "플레이데이터입니다. \n",
      "오늘도 \n",
      "화이팅 \n",
      "\n"
     ]
    }
   ],
   "source": [
    "with open('play.txt', 'r') as fd:\n",
    "    line = None\n",
    "    while line != '':\n",
    "        line = fd.readline()\n",
    "        print(line.strip('\\n'))"
   ]
  },
  {
   "cell_type": "code",
   "execution_count": 169,
   "id": "c4da618b",
   "metadata": {},
   "outputs": [],
   "source": [
    "import pickle"
   ]
  },
  {
   "cell_type": "code",
   "execution_count": 170,
   "id": "12a5da1c",
   "metadata": {},
   "outputs": [],
   "source": [
    "name = \"james\"  # 파이썬 문자열 객체\n",
    "age = 17        # 파이썬 정수 객체\n",
    "scores = {'korean': 90, 'english': 80}       # 파이썬 딕셔너리 객체"
   ]
  },
  {
   "cell_type": "code",
   "execution_count": 171,
   "id": "6e807251",
   "metadata": {},
   "outputs": [],
   "source": [
    "with open(\"student.pkl\", \"wb\") as fd:          # wb: write binary mode\n",
    "    pickle.dump(name, fd)\n",
    "    pickle.dump(age, fd)\n",
    "    pickle.dump(scores, fd)"
   ]
  },
  {
   "cell_type": "markdown",
   "id": "77d572bb",
   "metadata": {},
   "source": [
    "...."
   ]
  },
  {
   "cell_type": "code",
   "execution_count": 172,
   "id": "e528e033",
   "metadata": {},
   "outputs": [],
   "source": [
    "with open(\"student.pkl\", \"rb\") as fd:\n",
    "    loaded_name = pickle.load(fd)\n",
    "    loaded_age = pickle.load(fd)\n",
    "    loaded_scores = pickle.load(fd)"
   ]
  },
  {
   "cell_type": "code",
   "execution_count": 173,
   "id": "01a816f2",
   "metadata": {},
   "outputs": [
    {
     "data": {
      "text/plain": [
       "'james'"
      ]
     },
     "execution_count": 173,
     "metadata": {},
     "output_type": "execute_result"
    }
   ],
   "source": [
    "loaded_name"
   ]
  },
  {
   "cell_type": "code",
   "execution_count": 174,
   "id": "9ea70335",
   "metadata": {},
   "outputs": [
    {
     "data": {
      "text/plain": [
       "17"
      ]
     },
     "execution_count": 174,
     "metadata": {},
     "output_type": "execute_result"
    }
   ],
   "source": [
    "loaded_age"
   ]
  },
  {
   "cell_type": "code",
   "execution_count": 175,
   "id": "d9bcfec5",
   "metadata": {},
   "outputs": [
    {
     "data": {
      "text/plain": [
       "{'korean': 90, 'english': 80}"
      ]
     },
     "execution_count": 175,
     "metadata": {},
     "output_type": "execute_result"
    }
   ],
   "source": [
    "loaded_scores"
   ]
  },
  {
   "cell_type": "markdown",
   "id": "6656d24b",
   "metadata": {},
   "source": [
    "# Workshop"
   ]
  },
  {
   "cell_type": "markdown",
   "id": "64b2f8e9",
   "metadata": {},
   "source": [
    "**파일에서 10자 이하인 단어 개수 세기**\n",
    "- 단어가 줄 단위로 저장된 words.txt 파일이 주어집니다. 10자 이하인 단어의 개수가 출력되게 만드세요."
   ]
  },
  {
   "cell_type": "code",
   "execution_count": 213,
   "id": "29ee4171",
   "metadata": {},
   "outputs": [
    {
     "ename": "NameError",
     "evalue": "name 'count' is not defined",
     "output_type": "error",
     "traceback": [
      "\u001b[1;31m---------------------------------------------------------------------------\u001b[0m",
      "\u001b[1;31mNameError\u001b[0m                                 Traceback (most recent call last)",
      "Input \u001b[1;32mIn [213]\u001b[0m, in \u001b[0;36m<cell line: 1>\u001b[1;34m()\u001b[0m\n\u001b[0;32m      3\u001b[0m     \u001b[38;5;28;01mfor\u001b[39;00m word \u001b[38;5;129;01min\u001b[39;00m word_list:\n\u001b[0;32m      4\u001b[0m         \u001b[38;5;28;01mif\u001b[39;00m \u001b[38;5;28mlen\u001b[39m(word\u001b[38;5;241m.\u001b[39mrstrip(\u001b[38;5;124m'\u001b[39m\u001b[38;5;130;01m\\n\u001b[39;00m\u001b[38;5;124m'\u001b[39m)) \u001b[38;5;241m<\u001b[39m\u001b[38;5;241m=\u001b[39m \u001b[38;5;241m10\u001b[39m:\n\u001b[1;32m----> 5\u001b[0m             count \u001b[38;5;241m+\u001b[39m\u001b[38;5;241m=\u001b[39m \u001b[38;5;241m1\u001b[39m\n\u001b[0;32m      6\u001b[0m count\n",
      "\u001b[1;31mNameError\u001b[0m: name 'count' is not defined"
     ]
    }
   ],
   "source": [
    "with open('words.txt', 'r') as fd:\n",
    "    word_list = fd.readlines()\n",
    "    for word in word_list:\n",
    "        if len(word.rstrip('\\n')) <= 10:\n",
    "            count += 1\n",
    "count\n",
    "    "
   ]
  },
  {
   "cell_type": "markdown",
   "id": "64b4cbe7",
   "metadata": {},
   "source": [
    "---"
   ]
  },
  {
   "cell_type": "markdown",
   "id": "99be37e7",
   "metadata": {},
   "source": [
    "**특정 문자가 들어 있는 단어 찾기**\n",
    "- 문자열이 저장된 words2.txt 파일이 주어집니다(문자열은 한 줄로 저장되어 있습니다). \n",
    "words2.txt 파일에서 문자 c가 포함된 단어를 각 줄에 출력하는 프로그램을 만드세요.\n",
    "단어를 출력할 때는 등장한 순서대로 출력해야 하며 ,(콤마)와 .(점)은 출력하지 않아야 합니다."
   ]
  },
  {
   "cell_type": "code",
   "execution_count": 291,
   "id": "2117d4fa",
   "metadata": {},
   "outputs": [
    {
     "ename": "SyntaxError",
     "evalue": "expression cannot contain assignment, perhaps you meant \"==\"? (2807842162.py, line 6)",
     "output_type": "error",
     "traceback": [
      "\u001b[1;36m  Input \u001b[1;32mIn [291]\u001b[1;36m\u001b[0m\n\u001b[1;33m    print(word.strip = ',.')\u001b[0m\n\u001b[1;37m          ^\u001b[0m\n\u001b[1;31mSyntaxError\u001b[0m\u001b[1;31m:\u001b[0m expression cannot contain assignment, perhaps you meant \"==\"?\n"
     ]
    }
   ],
   "source": [
    "with open('words2.txt', 'r') as fd:\n",
    "    paragraph = fd.read()\n",
    "    word_list = paragragh.split()\n",
    "    for word in word_list:\n",
    "        if 'c' in word:\n",
    "            print(word.strip = ',.')"
   ]
  },
  {
   "cell_type": "markdown",
   "id": "26f4c477",
   "metadata": {},
   "source": [
    "# 함수"
   ]
  },
  {
   "cell_type": "markdown",
   "id": "c50b8312",
   "metadata": {},
   "source": [
    "- 코드의 용도 구분\n",
    "- 코드를 재사용\n",
    "- 실수를 줄일 수 있음"
   ]
  },
  {
   "cell_type": "code",
   "execution_count": 220,
   "id": "7196e331",
   "metadata": {},
   "outputs": [],
   "source": [
    "def hello():\n",
    "    print(\"Hello World!\")"
   ]
  },
  {
   "cell_type": "markdown",
   "id": "366c1852",
   "metadata": {},
   "source": [
    "```\n",
    "def 함수이름():\n",
    "    코드\n",
    "```"
   ]
  },
  {
   "cell_type": "code",
   "execution_count": 222,
   "id": "7d4aab2c",
   "metadata": {},
   "outputs": [
    {
     "name": "stdout",
     "output_type": "stream",
     "text": [
      "Hello World!\n"
     ]
    }
   ],
   "source": [
    "hello()"
   ]
  },
  {
   "cell_type": "code",
   "execution_count": 223,
   "id": "309d7c80",
   "metadata": {},
   "outputs": [],
   "source": [
    "def add(num1, num2):\n",
    "    return num1 + num2"
   ]
  },
  {
   "cell_type": "code",
   "execution_count": 225,
   "id": "18c08d84",
   "metadata": {},
   "outputs": [
    {
     "data": {
      "text/plain": [
       "3"
      ]
     },
     "execution_count": 225,
     "metadata": {},
     "output_type": "execute_result"
    }
   ],
   "source": [
    "add(1, 2)"
   ]
  },
  {
   "cell_type": "code",
   "execution_count": 226,
   "id": "a4bf6ae1",
   "metadata": {},
   "outputs": [],
   "source": [
    "def add1(a, b):\n",
    "    c = a + b\n",
    "    print(c)"
   ]
  },
  {
   "cell_type": "code",
   "execution_count": 227,
   "id": "71d7d9c9",
   "metadata": {},
   "outputs": [
    {
     "data": {
      "text/plain": [
       "3"
      ]
     },
     "execution_count": 227,
     "metadata": {},
     "output_type": "execute_result"
    }
   ],
   "source": [
    "add(1, 2)"
   ]
  },
  {
   "cell_type": "code",
   "execution_count": 228,
   "id": "b0861ac2",
   "metadata": {},
   "outputs": [
    {
     "data": {
      "text/plain": [
       "12"
      ]
     },
     "execution_count": 228,
     "metadata": {},
     "output_type": "execute_result"
    }
   ],
   "source": [
    "add(5, 7)"
   ]
  },
  {
   "cell_type": "code",
   "execution_count": 229,
   "id": "daab2677",
   "metadata": {},
   "outputs": [
    {
     "data": {
      "text/plain": [
       "5129590129625"
      ]
     },
     "execution_count": 229,
     "metadata": {},
     "output_type": "execute_result"
    }
   ],
   "source": [
    "add(124, 5129590129501)"
   ]
  },
  {
   "cell_type": "code",
   "execution_count": 230,
   "id": "4d27a7e5",
   "metadata": {},
   "outputs": [
    {
     "data": {
      "text/plain": [
       "103987521030"
      ]
     },
     "execution_count": 230,
     "metadata": {},
     "output_type": "execute_result"
    }
   ],
   "source": [
    "add(1028508125, 102959012905)"
   ]
  },
  {
   "cell_type": "markdown",
   "id": "ea2112bf",
   "metadata": {},
   "source": [
    "```\n",
    "def 함수이름(매개변수1, 매개변수2):\n",
    "    코드\n",
    "    return 반환값\n",
    "```"
   ]
  },
  {
   "cell_type": "code",
   "execution_count": 231,
   "id": "5c2b89bc",
   "metadata": {},
   "outputs": [],
   "source": [
    "def add2(a, b):\n",
    "    c = a + b\n",
    "    return c          # return이 없으면 결과값을 변수에 할당하고 출력할 수가 없게 된다."
   ]
  },
  {
   "cell_type": "code",
   "execution_count": 232,
   "id": "d5c9c1ae",
   "metadata": {},
   "outputs": [
    {
     "data": {
      "text/plain": [
       "9719"
      ]
     },
     "execution_count": 232,
     "metadata": {},
     "output_type": "execute_result"
    }
   ],
   "source": [
    "add2(8129, 1590)"
   ]
  },
  {
   "cell_type": "markdown",
   "id": "de0dfebf",
   "metadata": {},
   "source": [
    "```\n",
    "def 함수이름(매개변수1, 매개변수2):\n",
    "    코드\n",
    "    return 반환값1, 반환값2\n",
    "```"
   ]
  },
  {
   "cell_type": "code",
   "execution_count": 237,
   "id": "6304d6ac",
   "metadata": {},
   "outputs": [],
   "source": [
    "def add_sub(a, b):\n",
    "    return a + b, a - b"
   ]
  },
  {
   "cell_type": "code",
   "execution_count": 238,
   "id": "2a1857a8",
   "metadata": {},
   "outputs": [
    {
     "data": {
      "text/plain": [
       "(15, 5)"
      ]
     },
     "execution_count": 238,
     "metadata": {},
     "output_type": "execute_result"
    }
   ],
   "source": [
    "add_sub(10, 5)"
   ]
  },
  {
   "cell_type": "code",
   "execution_count": 239,
   "id": "5b2f5835",
   "metadata": {},
   "outputs": [
    {
     "data": {
      "text/plain": [
       "6"
      ]
     },
     "execution_count": 239,
     "metadata": {},
     "output_type": "execute_result"
    }
   ],
   "source": [
    "a"
   ]
  },
  {
   "cell_type": "markdown",
   "id": "396e4aeb",
   "metadata": {},
   "source": [
    "**I have a dream 연설문 단어 빈도수 계산**\n",
    "- WordCount 함수에서 ihaveadream.txt 파일을 열어 전체 내용 중 단어를 키로, 빈도를 값으로 매핑한 사전형 자료를 반환하세요.\n",
    "- 단 stopwords.txt에 있는 단어는 제외시킵니다.\n",
    "- WordCount 함수의 결과를 result.txt로 저장하세요.\n",
    "- majorityCnt 함수에서 사전형 자료를 인수로 받아 값을 기준으로 내림차순으로 정렬하여 값이 가장 큰 키를 반환하세요."
   ]
  },
  {
   "cell_type": "code",
   "execution_count": 280,
   "id": "82586586",
   "metadata": {},
   "outputs": [
    {
     "name": "stdout",
     "output_type": "stream",
     "text": [
      "['I', 'am', 'happy', 'to', 'join', 'with', 'you', 'today', 'in', 'what', 'will', 'go', 'down', 'in', 'history', 'as', 'the', 'greatest', 'demonstration', 'for', 'freedom', 'in', 'the', 'history', 'of', 'our', 'nation.']\n",
      "[]\n",
      "['Five', 'score', 'years', 'ago,', 'a', 'great', 'American,', 'in', 'whose', 'symbolic', 'shadow', 'we', 'stand', 'today,', 'signed', 'the', 'Emancipation', 'Proclamation.', 'This', 'momentous', 'decree', 'came', 'as', 'a', 'great', 'beacon', 'light', 'of', 'hope', 'to', 'millions', 'of', 'Negro', 'slaves', 'who', 'had', 'been', 'seared', 'in', 'the', 'flames', 'of', 'withering', 'injustice.', 'It', 'came', 'as', 'a', 'joyous', 'daybreak', 'to', 'end', 'the', 'long', 'night', 'of', 'their', 'captivity.']\n",
      "[]\n",
      "['But', 'one', 'hundred', 'years', 'later,', 'the', 'Negro', 'still', 'is', 'not', 'free.', 'One', 'hundred', 'years', 'later,', 'the', 'life', 'of', 'the', 'Negro', 'is', 'still', 'sadly', 'crippled', 'by', 'the', 'manacles', 'of', 'segregation', 'and', 'the', 'chains', 'of', 'discrimination.', 'One', 'hundred', 'years', 'later,', 'the', 'Negro', 'lives', 'on', 'a', 'lonely', 'island', 'of', 'poverty', 'in', 'the', 'midst', 'of', 'a', 'vast', 'ocean', 'of', 'material', 'prosperity.', 'One', 'hundred', 'years', 'later,', 'the', 'Negro', 'is', 'still', 'languished', 'in', 'the', 'corners', 'of', 'American', 'society', 'and', 'finds', 'himself', 'an', 'exile', 'in', 'his', 'own', 'land.', 'And', 'so', \"we've\", 'come', 'here', 'today', 'to', 'dramatize', 'a', 'shameful', 'condition.']\n",
      "[]\n",
      "['In', 'a', 'sense', \"we've\", 'come', 'to', 'our', \"nation's\", 'capital', 'to', 'cash', 'a', 'check.', 'When', 'the', 'architects', 'of', 'our', 'republic', 'wrote', 'the', 'magnificent', 'words', 'of', 'the', 'Constitution', 'and', 'the', 'Declaration', 'of', 'Independence,', 'they', 'were', 'signing', 'a', 'promissory', 'note', 'to', 'which', 'every', 'American', 'was', 'to', 'fall', 'heir.', 'This', 'note', 'was', 'a', 'promise', 'that', 'all', 'men,', 'yes,', 'black', 'men', 'as', 'well', 'as', 'white', 'men,', 'would', 'be', 'guaranteed', 'the', '\"unalienable', 'Rights\"', 'of', '\"Life,', 'Liberty', 'and', 'the', 'pursuit', 'of', 'Happiness.\"', 'It', 'is', 'obvious', 'today', 'that', 'America', 'has', 'defaulted', 'on', 'this', 'promissory', 'note,', 'insofar', 'as', 'her', 'citizens', 'of', 'color', 'are', 'concerned.', 'Instead', 'of', 'honoring', 'this', 'sacred', 'obligation,', 'America', 'has', 'given', 'the', 'Negro', 'people', 'a', 'bad', 'check,', 'a', 'check', 'which', 'has', 'come', 'back', 'marked', '\"insufficient', 'funds.\"']\n",
      "[]\n",
      "['But', 'we', 'refuse', 'to', 'believe', 'that', 'the', 'bank', 'of', 'justice', 'is', 'bankrupt.', 'We', 'refuse', 'to', 'believe', 'that', 'there', 'are', 'insufficient', 'funds', 'in', 'the', 'great', 'vaults', 'of', 'opportunity', 'of', 'this', 'nation.', 'And', 'so,', \"we've\", 'come', 'to', 'cash', 'this', 'check,', 'a', 'check', 'that', 'will', 'give', 'us', 'upon', 'demand', 'the', 'riches', 'of', 'freedom', 'and', 'the', 'security', 'of', 'justice.']\n",
      "[]\n",
      "['We', 'have', 'also', 'come', 'to', 'this', 'hallowed', 'spot', 'to', 'remind', 'America', 'of', 'the', 'fierce', 'urgency', 'of', 'Now.', 'This', 'is', 'no', 'time', 'to', 'engage', 'in', 'the', 'luxury', 'of', 'cooling', 'off', 'or', 'to', 'take', 'the', 'tranquilizing', 'drug', 'of', 'gradualism.', 'Now', 'is', 'the', 'time', 'to', 'make', 'real', 'the', 'promises', 'of', 'democracy.', 'Now', 'is', 'the', 'time', 'to', 'rise', 'from', 'the', 'dark', 'and', 'desolate', 'valley', 'of', 'segregation', 'to', 'the', 'sunlit', 'path', 'of', 'racial', 'justice.', 'Now', 'is', 'the', 'time', 'to', 'lift', 'our', 'nation', 'from', 'the', 'quicksands', 'of', 'racial', 'injustice', 'to', 'the', 'solid', 'rock', 'of', 'brotherhood.', 'Now', 'is', 'the', 'time', 'to', 'make', 'justice', 'a', 'reality', 'for', 'all', 'of', \"God's\", 'children.']\n",
      "[]\n",
      "['It', 'would', 'be', 'fatal', 'for', 'the', 'nation', 'to', 'overlook', 'the', 'urgency', 'of', 'the', 'moment.', 'This', 'sweltering', 'summer', 'of', 'the', \"Negro's\", 'legitimate', 'discontent', 'will', 'not', 'pass', 'until', 'there', 'is', 'an', 'invigorating', 'autumn', 'of', 'freedom', 'and', 'equality.', 'Nineteen', 'sixty-three', 'is', 'not', 'an', 'end,', 'but', 'a', 'beginning.', 'And', 'those', 'who', 'hope', 'that', 'the', 'Negro', 'needed', 'to', 'blow', 'off', 'steam', 'and', 'will', 'now', 'be', 'content', 'will', 'have', 'a', 'rude', 'awakening', 'if', 'the', 'nation', 'returns', 'to', 'business', 'as', 'usual.', 'And', 'there', 'will', 'be', 'neither', 'rest', 'nor', 'tranquility', 'in', 'America', 'until', 'the', 'Negro', 'is', 'granted', 'his', 'citizenship', 'rights.', 'The', 'whirlwinds', 'of', 'revolt', 'will', 'continue', 'to', 'shake', 'the', 'foundations', 'of', 'our', 'nation', 'until', 'the', 'bright', 'day', 'of', 'justice', 'emerges.']\n",
      "[]\n",
      "['But', 'there', 'is', 'something', 'that', 'I', 'must', 'say', 'to', 'my', 'people,', 'who', 'stand', 'on', 'the', 'warm', 'threshold', 'which', 'leads', 'into', 'the', 'palace', 'of', 'justice:', 'In', 'the', 'process', 'of', 'gaining', 'our', 'rightful', 'place,', 'we', 'must', 'not', 'be', 'guilty', 'of', 'wrongful', 'deeds.', 'Let', 'us', 'not', 'seek', 'to', 'satisfy', 'our', 'thirst', 'for', 'freedom', 'by', 'drinking', 'from', 'the', 'cup', 'of', 'bitterness', 'and', 'hatred.', 'We', 'must', 'forever', 'conduct', 'our', 'struggle', 'on', 'the', 'high', 'plane', 'of', 'dignity', 'and', 'discipline.', 'We', 'must', 'not', 'allow', 'our', 'creative', 'protest', 'to', 'degenerate', 'into', 'physical', 'violence.', 'Again', 'and', 'again,', 'we', 'must', 'rise', 'to', 'the', 'majestic', 'heights', 'of', 'meeting', 'physical', 'force', 'with', 'soul', 'force.']\n",
      "[]\n",
      "['The', 'marvelous', 'new', 'militancy', 'which', 'has', 'engulfed', 'the', 'Negro', 'community', 'must', 'not', 'lead', 'us', 'to', 'a', 'distrust', 'of', 'all', 'white', 'people,', 'for', 'many', 'of', 'our', 'white', 'brothers,', 'as', 'evidenced', 'by', 'their', 'presence', 'here', 'today,', 'have', 'come', 'to', 'realize', 'that', 'their', 'destiny', 'is', 'tied', 'up', 'with', 'our', 'destiny.', 'And', 'they', 'have', 'come', 'to', 'realize', 'that', 'their', 'freedom', 'is', 'inextricably', 'bound', 'to', 'our', 'freedom.']\n",
      "[]\n",
      "['We', 'cannot', 'walk', 'alone.']\n",
      "[]\n",
      "['And', 'as', 'we', 'walk,', 'we', 'must', 'make', 'the', 'pledge', 'that', 'we', 'shall', 'always', 'march', 'ahead.']\n",
      "[]\n",
      "['We', 'cannot', 'turn', 'back.']\n",
      "[]\n",
      "['There', 'are', 'those', 'who', 'are', 'asking', 'the', 'devotees', 'of', 'civil', 'rights,', '\"When', 'will', 'you', 'be', 'satisfied?\"', 'We', 'can', 'never', 'be', 'satisfied', 'as', 'long', 'as', 'the', 'Negro', 'is', 'the', 'victim', 'of', 'the', 'unspeakable', 'horrors', 'of', 'police', 'brutality.', 'We', 'can', 'never', 'be', 'satisfied', 'as', 'long', 'as', 'our', 'bodies,', 'heavy', 'with', 'the', 'fatigue', 'of', 'travel,', 'cannot', 'gain', 'lodging', 'in', 'the', 'motels', 'of', 'the', 'highways', 'and', 'the', 'hotels', 'of', 'the', 'cities.', '*We', 'cannot', 'be', 'satisfied', 'as', 'long', 'as', 'the', \"negro's\", 'basic', 'mobility', 'is', 'from', 'a', 'smaller', 'ghetto', 'to', 'a', 'larger', 'one.', 'We', 'can', 'never', 'be', 'satisfied', 'as', 'long', 'as', 'our', 'children', 'are', 'stripped', 'of', 'their', 'self-hood', 'and', 'robbed', 'of', 'their', 'dignity', 'by', 'signs', 'stating:', '\"For', 'Whites', 'Only.\"*', 'We', 'cannot', 'be', 'satisfied', 'as', 'long', 'as', 'a', 'Negro', 'in', 'Mississippi', 'cannot', 'vote', 'and', 'a', 'Negro', 'in', 'New', 'York', 'believes', 'he', 'has', 'nothing', 'for', 'which', 'to', 'vote.', 'No,', 'no,', 'we', 'are', 'not', 'satisfied,', 'and', 'we', 'will', 'not', 'be', 'satisfied', 'until', '\"justice', 'rolls', 'down', 'like', 'waters,', 'and', 'righteousness', 'like', 'a', 'mighty', 'stream.\"1']\n",
      "[]\n",
      "[]\n",
      "[]\n",
      "['I', 'am', 'not', 'unmindful', 'that', 'some', 'of', 'you', 'have', 'come', 'here', 'out', 'of', 'great', 'trials', 'and', 'tribulations.', 'Some', 'of', 'you', 'have', 'come', 'fresh', 'from', 'narrow', 'jail', 'cells.', 'And', 'some', 'of', 'you', 'have', 'come', 'from', 'areas', 'where', 'your', 'quest', '--', 'quest', 'for', 'freedom', 'left', 'you', 'battered', 'by', 'the', 'storms', 'of', 'persecution', 'and', 'staggered', 'by', 'the', 'winds', 'of', 'police', 'brutality.', 'You', 'have', 'been', 'the', 'veterans', 'of', 'creative', 'suffering.', 'Continue', 'to', 'work', 'with', 'the', 'faith', 'that', 'unearned', 'suffering', 'is', 'redemptive.', 'Go', 'back', 'to', 'Mississippi,', 'go', 'back', 'to', 'Alabama,', 'go', 'back', 'to', 'South', 'Carolina,', 'go', 'back', 'to', 'Georgia,', 'go', 'back', 'to', 'Louisiana,', 'go', 'back', 'to', 'the', 'slums', 'and', 'ghettos', 'of', 'our', 'northern', 'cities,', 'knowing', 'that', 'somehow', 'this', 'situation', 'can', 'and', 'will', 'be', 'changed.']\n",
      "[]\n",
      "['Let', 'us', 'not', 'wallow', 'in', 'the', 'valley', 'of', 'despair,', 'I', 'say', 'to', 'you', 'today,', 'my', 'friends.']\n",
      "[]\n",
      "['And', 'so', 'even', 'though', 'we', 'face', 'the', 'difficulties', 'of', 'today', 'and', 'tomorrow,', 'I', 'still', 'have', 'a', 'dream.', 'It', 'is', 'a', 'dream', 'deeply', 'rooted', 'in', 'the', 'American', 'dream.']\n",
      "[]\n",
      "['I', 'have', 'a', 'dream', 'that', 'one', 'day', 'this', 'nation', 'will', 'rise', 'up', 'and', 'live', 'out', 'the', 'true', 'meaning', 'of', 'its', 'creed:', '\"We', 'hold', 'these', 'truths', 'to', 'be', 'self-evident,', 'that', 'all', 'men', 'are', 'created', 'equal.\"']\n",
      "[]\n",
      "['I', 'have', 'a', 'dream', 'that', 'one', 'day', 'on', 'the', 'red', 'hills', 'of', 'Georgia,', 'the', 'sons', 'of', 'former', 'slaves', 'and', 'the', 'sons', 'of', 'former', 'slave', 'owners', 'will', 'be', 'able', 'to', 'sit', 'down', 'together', 'at', 'the', 'table', 'of', 'brotherhood.']\n",
      "[]\n",
      "['I', 'have', 'a', 'dream', 'that', 'one', 'day', 'even', 'the', 'state', 'of', 'Mississippi,', 'a', 'state', 'sweltering', 'with', 'the', 'heat', 'of', 'injustice,', 'sweltering', 'with', 'the', 'heat', 'of', 'oppression,', 'will', 'be', 'transformed', 'into', 'an', 'oasis', 'of', 'freedom', 'and', 'justice.']\n",
      "[]\n",
      "['I', 'have', 'a', 'dream', 'that', 'my', 'four', 'little', 'children', 'will', 'one', 'day', 'live', 'in', 'a', 'nation', 'where', 'they', 'will', 'not', 'be', 'judged', 'by', 'the', 'color', 'of', 'their', 'skin', 'but', 'by', 'the', 'content', 'of', 'their', 'character.']\n",
      "[]\n",
      "['I', 'have', 'a', 'dream', 'today!']\n",
      "[]\n",
      "['I', 'have', 'a', 'dream', 'that', 'one', 'day,', 'down', 'in', 'Alabama,', 'with', 'its', 'vicious', 'racists,', 'with', 'its', 'governor', 'having', 'his', 'lips', 'dripping', 'with', 'the', 'words', 'of', '\"interposition\"', 'and', '\"nullification\"', '--', 'one', 'day', 'right', 'there', 'in', 'Alabama', 'little', 'black', 'boys', 'and', 'black', 'girls', 'will', 'be', 'able', 'to', 'join', 'hands', 'with', 'little', 'white', 'boys', 'and', 'white', 'girls', 'as', 'sisters', 'and', 'brothers.']\n",
      "[]\n",
      "['I', 'have', 'a', 'dream', 'today!']\n",
      "[]\n",
      "['I', 'have', 'a', 'dream', 'that', 'one', 'day', 'every', 'valley', 'shall', 'be', 'exalted,', 'and', 'every', 'hill', 'and', 'mountain', 'shall', 'be', 'made', 'low,', 'the', 'rough', 'places', 'will', 'be', 'made', 'plain,', 'and', 'the', 'crooked', 'places', 'will', 'be', 'made', 'straight;', '\"and', 'the', 'glory', 'of', 'the', 'Lord', 'shall', 'be', 'revealed', 'and', 'all', 'flesh', 'shall', 'see', 'it', 'together.\"2']\n",
      "[]\n",
      "['This', 'is', 'our', 'hope,', 'and', 'this', 'is', 'the', 'faith', 'that', 'I', 'go', 'back', 'to', 'the', 'South', 'with.']\n",
      "[]\n",
      "['With', 'this', 'faith,', 'we', 'will', 'be', 'able', 'to', 'hew', 'out', 'of', 'the', 'mountain', 'of', 'despair', 'a', 'stone', 'of', 'hope.', 'With', 'this', 'faith,', 'we', 'will', 'be', 'able', 'to', 'transform', 'the', 'jangling', 'discords', 'of', 'our', 'nation', 'into', 'a', 'beautiful', 'symphony', 'of', 'brotherhood.', 'With', 'this', 'faith,', 'we', 'will', 'be', 'able', 'to', 'work', 'together,', 'to', 'pray', 'together,', 'to', 'struggle', 'together,', 'to', 'go', 'to', 'jail', 'together,', 'to', 'stand', 'up', 'for', 'freedom', 'together,', 'knowing', 'that', 'we', 'will', 'be', 'free', 'one', 'day.']\n",
      "[]\n",
      "['And', 'this', 'will', 'be', 'the', 'day', '--', 'this', 'will', 'be', 'the', 'day', 'when', 'all', 'of', \"God's\", 'children', 'will', 'be', 'able', 'to', 'sing', 'with', 'new', 'meaning:']\n",
      "[]\n",
      "['My', 'country', \"'tis\", 'of', 'thee,', 'sweet', 'land', 'of', 'liberty,', 'of', 'thee', 'I', 'sing.', 'Land', 'where', 'my', 'fathers', 'died,', 'land', 'of', 'the', \"Pilgrim's\", 'pride,', 'From', 'every', 'mountainside,', 'let', 'freedom', 'ring!']\n",
      "[]\n",
      "['And', 'if', 'America', 'is', 'to', 'be', 'a', 'great', 'nation,', 'this', 'must', 'become', 'true.']\n",
      "[]\n",
      "['And', 'so', 'let', 'freedom', 'ring', 'from', 'the', 'prodigious', 'hilltops', 'of', 'New', 'Hampshire.']\n",
      "[]\n",
      "['Let', 'freedom', 'ring', 'from', 'the', 'mighty', 'mountains', 'of', 'New', 'York.']\n",
      "[]\n",
      "['Let', 'freedom', 'ring', 'from', 'the', 'heightening', 'Alleghenies', 'of', 'Pennsylvania.']\n",
      "[]\n",
      "['Let', 'freedom', 'ring', 'from', 'the', 'snow-capped', 'Rockies', 'of', 'Colorado.']\n",
      "[]\n",
      "['Let', 'freedom', 'ring', 'from', 'the', 'curvaceous', 'slopes', 'of', 'California.']\n",
      "[]\n",
      "['But', 'not', 'only', 'that:']\n",
      "[]\n",
      "['Let', 'freedom', 'ring', 'from', 'Stone', 'Mountain', 'of', 'Georgia.']\n",
      "[]\n",
      "['Let', 'freedom', 'ring', 'from', 'Lookout', 'Mountain', 'of', 'Tennessee.']\n",
      "[]\n",
      "['Let', 'freedom', 'ring', 'from', 'every', 'hill', 'and', 'molehill', 'of', 'Mississippi.']\n",
      "[]\n",
      "['From', 'every', 'mountainside,', 'let', 'freedom', 'ring.']\n",
      "[]\n",
      "['And', 'when', 'this', 'happens,', 'and', 'when', 'we', 'allow', 'freedom', 'ring,', 'when', 'we', 'let', 'it', 'ring', 'from', 'every', 'village', 'and', 'every', 'hamlet,', 'from', 'every', 'state', 'and', 'every', 'city,', 'we', 'will', 'be', 'able', 'to', 'speed', 'up', 'that', 'day', 'when', 'all', 'of', \"God's\", 'children,', 'black', 'men', 'and', 'white', 'men,', 'Jews', 'and', 'Gentiles,', 'Protestants', 'and', 'Catholics,', 'will', 'be', 'able', 'to', 'join', 'hands', 'and', 'sing', 'in', 'the', 'words', 'of', 'the', 'old', 'Negro', 'spiritual:']\n",
      "[]\n",
      "['Free', 'at', 'last!', 'Free', 'at', 'last!']\n",
      "[]\n",
      "['Thank', 'God', 'Almighty,', 'we', 'are', 'free', 'at', 'last!']\n",
      "[]\n"
     ]
    }
   ],
   "source": [
    "with open(\"ihaveadream.txt\", \"r\") as fd:\n",
    "    word = None\n",
    "    while word != '':\n",
    "        word = fd.readline()\n",
    "        print(word.split())"
   ]
  },
  {
   "cell_type": "code",
   "execution_count": 289,
   "id": "20f33601",
   "metadata": {
    "scrolled": false
   },
   "outputs": [
    {
     "name": "stdout",
     "output_type": "stream",
     "text": [
      "['a', 'about', 'above', 'across', 'after', 'again', 'against', 'all', 'almost', 'alone', 'along', 'already', 'also', 'although', 'always', 'among', 'an', 'and', 'another', 'any', 'anybody', 'anyone', 'anything', 'anywhere', 'are', 'area', 'areas', 'around', 'as', 'ask', 'asked', 'asking', 'asks', 'at', 'away', 'b', 'back', 'backed', 'backing', 'backs', 'be', 'became', 'because', 'become', 'becomes', 'been', 'before', 'began', 'behind', 'being', 'beings', 'best', 'better', 'between', 'big', 'both', 'but', 'by', 'c', 'came', 'can', 'cannot', 'case', 'cases', 'certain', 'certainly', 'clear', 'clearly', 'come', 'could', 'd', 'did', 'differ', 'different', 'differently', 'do', 'does', 'done', 'down', 'down', 'downed', 'downing', 'downs', 'during', 'e', 'each', 'early', 'either', 'end', 'ended', 'ending', 'ends', 'enough', 'even', 'evenly', 'ever', 'every', 'everybody', 'everyone', 'everything', 'everywhere', 'f', 'face', 'faces', 'fact', 'facts', 'far', 'felt', 'few', 'find', 'finds', 'first', 'for', 'four', 'from', 'full', 'fully', 'further', 'furthered', 'furthering', 'furthers', 'g', 'gave', 'general', 'generally', 'get', 'gets', 'give', 'given', 'gives', 'go', 'going', 'good', 'goods', 'got', 'great', 'greater', 'greatest', 'group', 'grouped', 'grouping', 'groups', 'h', 'had', 'has', 'have', 'having', 'he', 'her', 'here', 'herself', 'high', 'high', 'high', 'higher', 'highest', 'him', 'himself', 'his', 'how', 'however', 'i', 'if', 'important', 'in', 'interest', 'interested', 'interesting', 'interests', 'into', 'is', 'it', 'its', 'itself', 'j', 'just', 'k', 'keep', 'keeps', 'kind', 'knew', 'know', 'known', 'knows', 'l', 'large', 'largely', 'last', 'later', 'latest', 'least', 'less', 'let', 'lets', 'like', 'likely', 'long', 'longer', 'longest', 'm', 'made', 'make', 'making', 'man', 'many', 'may', 'me', 'member', 'members', 'men', 'might', 'more', 'most', 'mostly', 'mr', 'mrs', 'much', 'must', 'my', 'myself', 'n', 'necessary', 'need', 'needed', 'needing', 'needs', 'never', 'new', 'new', 'newer', 'newest', 'next', 'no', 'nobody', 'non', 'noone', 'not', 'nothing', 'now', 'nowhere', 'number', 'numbers', 'o', 'of', 'off', 'often', 'old', 'older', 'oldest', 'on', 'once', 'one', 'only', 'open', 'opened', 'opening', 'opens', 'or', 'order', 'ordered', 'ordering', 'orders', 'other', 'others', 'our', 'out', 'over', 'p', 'part', 'parted', 'parting', 'parts', 'per', 'perhaps', 'place', 'places', 'point', 'pointed', 'pointing', 'points', 'possible', 'present', 'presented', 'presenting', 'presents', 'problem', 'problems', 'put', 'puts', 'q', 'quite', 'r', 'rather', 'really', 'right', 'right', 'room', 'rooms', 's', 'said', 'same', 'saw', 'say', 'says', 'second', 'seconds', 'see', 'seem', 'seemed', 'seeming', 'seems', 'sees', 'several', 'shall', 'she', 'should', 'show', 'showed', 'showing', 'shows', 'side', 'sides', 'since', 'small', 'smaller', 'smallest', 'so', 'some', 'somebody', 'someone', 'something', 'somewhere', 'state', 'states', 'still', 'still', 'such', 'sure', 't', 'take', 'taken', 'than', 'that', 'the', 'their', 'them', 'then', 'there', 'therefore', 'these', 'they', 'thing', 'things', 'think', 'thinks', 'this', 'those', 'though', 'thought', 'thoughts', 'three', 'through', 'thus', 'to', 'today', 'together', 'too', 'took', 'toward', 'turn', 'turned', 'turning', 'turns', 'two', 'u', 'under', 'until', 'up', 'upon', 'us', 'use', 'used', 'uses', 'v', 'very', 'w', 'want', 'wanted', 'wanting', 'wants', 'was', 'way', 'ways', 'we', 'well', 'wells', 'went', 'were', 'what', 'when', 'where', 'whether', 'which', 'while', 'who', 'whole', 'whose', 'why', 'will', 'with', 'within', 'without', 'work', 'worked', 'working', 'works', 'would', 'x', 'y', 'year', 'years', 'yet', 'you', 'young', 'younger', 'youngest', 'your', 'yours', 'z']\n",
      "[]\n"
     ]
    }
   ],
   "source": [
    "with open(\"stopwords.txt\", \"r\") as fd:\n",
    "    stop = None\n",
    "    while stop != '':\n",
    "        stop = fd.read()\n",
    "        a = list(stop.split())\n",
    "        \n",
    "        print(a)\n"
   ]
  },
  {
   "cell_type": "code",
   "execution_count": 351,
   "id": "b6d05058",
   "metadata": {},
   "outputs": [],
   "source": [
    "with open ('ihaveadream.txt', 'r') as fd1:\n",
    "    speech = fd1.read()\n",
    "with open('stopwords.txt', 'r') as fd2:\n",
    "    stopwords = fd2.read()"
   ]
  },
  {
   "cell_type": "code",
   "execution_count": 352,
   "id": "b8a9f3a0",
   "metadata": {},
   "outputs": [],
   "source": [
    "word_list = speech.lower().split()\n",
    "stop_list = stopwords.lower().split()"
   ]
  },
  {
   "cell_type": "code",
   "execution_count": 353,
   "id": "3a5f0476",
   "metadata": {},
   "outputs": [
    {
     "data": {
      "text/plain": [
       "(1667, 429)"
      ]
     },
     "execution_count": 353,
     "metadata": {},
     "output_type": "execute_result"
    }
   ],
   "source": [
    "len(word_list), len(stop_list)"
   ]
  },
  {
   "cell_type": "code",
   "execution_count": 354,
   "id": "868bbcb1",
   "metadata": {},
   "outputs": [
    {
     "data": {
      "text/plain": [
       "{'am': 2,\n",
       " 'happy': 1,\n",
       " 'join': 3,\n",
       " 'history': 2,\n",
       " 'demonstration': 1,\n",
       " 'freedom': 19,\n",
       " 'nation.': 2,\n",
       " 'five': 1,\n",
       " 'score': 1,\n",
       " 'ago,': 1,\n",
       " 'american,': 1,\n",
       " 'symbolic': 1,\n",
       " 'shadow': 1,\n",
       " 'stand': 3,\n",
       " 'today,': 3,\n",
       " 'signed': 1,\n",
       " 'emancipation': 1,\n",
       " 'proclamation.': 1,\n",
       " 'momentous': 1,\n",
       " 'decree': 1,\n",
       " 'beacon': 1,\n",
       " 'light': 1,\n",
       " 'hope': 2,\n",
       " 'millions': 1,\n",
       " 'negro': 13,\n",
       " 'slaves': 2,\n",
       " 'seared': 1,\n",
       " 'flames': 1,\n",
       " 'withering': 1,\n",
       " 'injustice.': 1,\n",
       " 'joyous': 1,\n",
       " 'daybreak': 1,\n",
       " 'night': 1,\n",
       " 'captivity.': 1,\n",
       " 'hundred': 4,\n",
       " 'later,': 4,\n",
       " 'free.': 1,\n",
       " 'life': 1,\n",
       " 'sadly': 1,\n",
       " 'crippled': 1,\n",
       " 'manacles': 1,\n",
       " 'segregation': 2,\n",
       " 'chains': 1,\n",
       " 'discrimination.': 1,\n",
       " 'lives': 1,\n",
       " 'lonely': 1,\n",
       " 'island': 1,\n",
       " 'poverty': 1,\n",
       " 'midst': 1,\n",
       " 'vast': 1,\n",
       " 'ocean': 1,\n",
       " 'material': 1,\n",
       " 'prosperity.': 1,\n",
       " 'languished': 1,\n",
       " 'corners': 1,\n",
       " 'american': 3,\n",
       " 'society': 1,\n",
       " 'exile': 1,\n",
       " 'own': 1,\n",
       " 'land.': 1,\n",
       " \"we've\": 3,\n",
       " 'dramatize': 1,\n",
       " 'shameful': 1,\n",
       " 'condition.': 1,\n",
       " 'sense': 1,\n",
       " \"nation's\": 1,\n",
       " 'capital': 1,\n",
       " 'cash': 2,\n",
       " 'check.': 1,\n",
       " 'architects': 1,\n",
       " 'republic': 1,\n",
       " 'wrote': 1,\n",
       " 'magnificent': 1,\n",
       " 'words': 3,\n",
       " 'constitution': 1,\n",
       " 'declaration': 1,\n",
       " 'independence,': 1,\n",
       " 'signing': 1,\n",
       " 'promissory': 2,\n",
       " 'note': 2,\n",
       " 'fall': 1,\n",
       " 'heir.': 1,\n",
       " 'promise': 1,\n",
       " 'men,': 3,\n",
       " 'yes,': 1,\n",
       " 'black': 4,\n",
       " 'white': 6,\n",
       " 'guaranteed': 1,\n",
       " '\"unalienable': 1,\n",
       " 'rights\"': 1,\n",
       " '\"life,': 1,\n",
       " 'liberty': 1,\n",
       " 'pursuit': 1,\n",
       " 'happiness.\"': 1,\n",
       " 'obvious': 1,\n",
       " 'america': 5,\n",
       " 'defaulted': 1,\n",
       " 'note,': 1,\n",
       " 'insofar': 1,\n",
       " 'citizens': 1,\n",
       " 'color': 2,\n",
       " 'concerned.': 1,\n",
       " 'instead': 1,\n",
       " 'honoring': 1,\n",
       " 'sacred': 1,\n",
       " 'obligation,': 1,\n",
       " 'people': 1,\n",
       " 'bad': 1,\n",
       " 'check,': 2,\n",
       " 'check': 2,\n",
       " 'marked': 1,\n",
       " '\"insufficient': 1,\n",
       " 'funds.\"': 1,\n",
       " 'refuse': 2,\n",
       " 'believe': 2,\n",
       " 'bank': 1,\n",
       " 'justice': 3,\n",
       " 'bankrupt.': 1,\n",
       " 'insufficient': 1,\n",
       " 'funds': 1,\n",
       " 'vaults': 1,\n",
       " 'opportunity': 1,\n",
       " 'so,': 1,\n",
       " 'demand': 1,\n",
       " 'riches': 1,\n",
       " 'security': 1,\n",
       " 'justice.': 3,\n",
       " 'hallowed': 1,\n",
       " 'spot': 1,\n",
       " 'remind': 1,\n",
       " 'fierce': 1,\n",
       " 'urgency': 2,\n",
       " 'now.': 1,\n",
       " 'time': 5,\n",
       " 'engage': 1,\n",
       " 'luxury': 1,\n",
       " 'cooling': 1,\n",
       " 'tranquilizing': 1,\n",
       " 'drug': 1,\n",
       " 'gradualism.': 1,\n",
       " 'real': 1,\n",
       " 'promises': 1,\n",
       " 'democracy.': 1,\n",
       " 'rise': 3,\n",
       " 'dark': 1,\n",
       " 'desolate': 1,\n",
       " 'valley': 3,\n",
       " 'sunlit': 1,\n",
       " 'path': 1,\n",
       " 'racial': 2,\n",
       " 'lift': 1,\n",
       " 'nation': 7,\n",
       " 'quicksands': 1,\n",
       " 'injustice': 1,\n",
       " 'solid': 1,\n",
       " 'rock': 1,\n",
       " 'brotherhood.': 3,\n",
       " 'reality': 1,\n",
       " \"god's\": 3,\n",
       " 'children.': 1,\n",
       " 'fatal': 1,\n",
       " 'overlook': 1,\n",
       " 'moment.': 1,\n",
       " 'sweltering': 3,\n",
       " 'summer': 1,\n",
       " \"negro's\": 2,\n",
       " 'legitimate': 1,\n",
       " 'discontent': 1,\n",
       " 'pass': 1,\n",
       " 'invigorating': 1,\n",
       " 'autumn': 1,\n",
       " 'equality.': 1,\n",
       " 'nineteen': 1,\n",
       " 'sixty-three': 1,\n",
       " 'end,': 1,\n",
       " 'beginning.': 1,\n",
       " 'blow': 1,\n",
       " 'steam': 1,\n",
       " 'content': 2,\n",
       " 'rude': 1,\n",
       " 'awakening': 1,\n",
       " 'returns': 1,\n",
       " 'business': 1,\n",
       " 'usual.': 1,\n",
       " 'neither': 1,\n",
       " 'rest': 1,\n",
       " 'nor': 1,\n",
       " 'tranquility': 1,\n",
       " 'granted': 1,\n",
       " 'citizenship': 1,\n",
       " 'rights.': 1,\n",
       " 'whirlwinds': 1,\n",
       " 'revolt': 1,\n",
       " 'continue': 2,\n",
       " 'shake': 1,\n",
       " 'foundations': 1,\n",
       " 'bright': 1,\n",
       " 'day': 10,\n",
       " 'emerges.': 1,\n",
       " 'people,': 2,\n",
       " 'warm': 1,\n",
       " 'threshold': 1,\n",
       " 'leads': 1,\n",
       " 'palace': 1,\n",
       " 'justice:': 1,\n",
       " 'process': 1,\n",
       " 'gaining': 1,\n",
       " 'rightful': 1,\n",
       " 'place,': 1,\n",
       " 'guilty': 1,\n",
       " 'wrongful': 1,\n",
       " 'deeds.': 1,\n",
       " 'seek': 1,\n",
       " 'satisfy': 1,\n",
       " 'thirst': 1,\n",
       " 'drinking': 1,\n",
       " 'cup': 1,\n",
       " 'bitterness': 1,\n",
       " 'hatred.': 1,\n",
       " 'forever': 1,\n",
       " 'conduct': 1,\n",
       " 'struggle': 2,\n",
       " 'plane': 1,\n",
       " 'dignity': 2,\n",
       " 'discipline.': 1,\n",
       " 'allow': 2,\n",
       " 'creative': 2,\n",
       " 'protest': 1,\n",
       " 'degenerate': 1,\n",
       " 'physical': 2,\n",
       " 'violence.': 1,\n",
       " 'again,': 1,\n",
       " 'majestic': 1,\n",
       " 'heights': 1,\n",
       " 'meeting': 1,\n",
       " 'force': 1,\n",
       " 'soul': 1,\n",
       " 'force.': 1,\n",
       " 'marvelous': 1,\n",
       " 'militancy': 1,\n",
       " 'engulfed': 1,\n",
       " 'community': 1,\n",
       " 'lead': 1,\n",
       " 'distrust': 1,\n",
       " 'brothers,': 1,\n",
       " 'evidenced': 1,\n",
       " 'presence': 1,\n",
       " 'realize': 2,\n",
       " 'destiny': 1,\n",
       " 'tied': 1,\n",
       " 'destiny.': 1,\n",
       " 'inextricably': 1,\n",
       " 'bound': 1,\n",
       " 'freedom.': 1,\n",
       " 'walk': 1,\n",
       " 'alone.': 1,\n",
       " 'walk,': 1,\n",
       " 'pledge': 1,\n",
       " 'march': 1,\n",
       " 'ahead.': 1,\n",
       " 'back.': 1,\n",
       " 'devotees': 1,\n",
       " 'civil': 1,\n",
       " 'rights,': 1,\n",
       " '\"when': 1,\n",
       " 'satisfied?\"': 1,\n",
       " 'satisfied': 6,\n",
       " 'victim': 1,\n",
       " 'unspeakable': 1,\n",
       " 'horrors': 1,\n",
       " 'police': 2,\n",
       " 'brutality.': 2,\n",
       " 'bodies,': 1,\n",
       " 'heavy': 1,\n",
       " 'fatigue': 1,\n",
       " 'travel,': 1,\n",
       " 'gain': 1,\n",
       " 'lodging': 1,\n",
       " 'motels': 1,\n",
       " 'highways': 1,\n",
       " 'hotels': 1,\n",
       " 'cities.': 1,\n",
       " '*we': 1,\n",
       " 'basic': 1,\n",
       " 'mobility': 1,\n",
       " 'ghetto': 1,\n",
       " 'larger': 1,\n",
       " 'one.': 1,\n",
       " 'children': 3,\n",
       " 'stripped': 1,\n",
       " 'self-hood': 1,\n",
       " 'robbed': 1,\n",
       " 'signs': 1,\n",
       " 'stating:': 1,\n",
       " '\"for': 1,\n",
       " 'whites': 1,\n",
       " 'only.\"*': 1,\n",
       " 'mississippi': 1,\n",
       " 'vote': 1,\n",
       " 'york': 1,\n",
       " 'believes': 1,\n",
       " 'vote.': 1,\n",
       " 'no,': 2,\n",
       " 'satisfied,': 1,\n",
       " '\"justice': 1,\n",
       " 'rolls': 1,\n",
       " 'waters,': 1,\n",
       " 'righteousness': 1,\n",
       " 'mighty': 2,\n",
       " 'stream.\"1': 1,\n",
       " 'unmindful': 1,\n",
       " 'trials': 1,\n",
       " 'tribulations.': 1,\n",
       " 'fresh': 1,\n",
       " 'narrow': 1,\n",
       " 'jail': 2,\n",
       " 'cells.': 1,\n",
       " 'quest': 2,\n",
       " '--': 3,\n",
       " 'left': 1,\n",
       " 'battered': 1,\n",
       " 'storms': 1,\n",
       " 'persecution': 1,\n",
       " 'staggered': 1,\n",
       " 'winds': 1,\n",
       " 'veterans': 1,\n",
       " 'suffering.': 1,\n",
       " 'faith': 2,\n",
       " 'unearned': 1,\n",
       " 'suffering': 1,\n",
       " 'redemptive.': 1,\n",
       " 'mississippi,': 2,\n",
       " 'alabama,': 2,\n",
       " 'south': 2,\n",
       " 'carolina,': 1,\n",
       " 'georgia,': 2,\n",
       " 'louisiana,': 1,\n",
       " 'slums': 1,\n",
       " 'ghettos': 1,\n",
       " 'northern': 1,\n",
       " 'cities,': 1,\n",
       " 'knowing': 2,\n",
       " 'somehow': 1,\n",
       " 'situation': 1,\n",
       " 'changed.': 1,\n",
       " 'wallow': 1,\n",
       " 'despair,': 1,\n",
       " 'friends.': 1,\n",
       " 'difficulties': 1,\n",
       " 'tomorrow,': 1,\n",
       " 'dream.': 2,\n",
       " 'dream': 9,\n",
       " 'deeply': 1,\n",
       " 'rooted': 1,\n",
       " 'live': 2,\n",
       " 'true': 1,\n",
       " 'meaning': 1,\n",
       " 'creed:': 1,\n",
       " '\"we': 1,\n",
       " 'hold': 1,\n",
       " 'truths': 1,\n",
       " 'self-evident,': 1,\n",
       " 'created': 1,\n",
       " 'equal.\"': 1,\n",
       " 'red': 1,\n",
       " 'hills': 1,\n",
       " 'sons': 2,\n",
       " 'former': 2,\n",
       " 'slave': 1,\n",
       " 'owners': 1,\n",
       " 'able': 8,\n",
       " 'sit': 1,\n",
       " 'table': 1,\n",
       " 'heat': 2,\n",
       " 'injustice,': 1,\n",
       " 'oppression,': 1,\n",
       " 'transformed': 1,\n",
       " 'oasis': 1,\n",
       " 'little': 3,\n",
       " 'judged': 1,\n",
       " 'skin': 1,\n",
       " 'character.': 1,\n",
       " 'today!': 2,\n",
       " 'day,': 1,\n",
       " 'vicious': 1,\n",
       " 'racists,': 1,\n",
       " 'governor': 1,\n",
       " 'lips': 1,\n",
       " 'dripping': 1,\n",
       " '\"interposition\"': 1,\n",
       " '\"nullification\"': 1,\n",
       " 'alabama': 1,\n",
       " 'boys': 2,\n",
       " 'girls': 2,\n",
       " 'hands': 2,\n",
       " 'sisters': 1,\n",
       " 'brothers.': 1,\n",
       " 'exalted,': 1,\n",
       " 'hill': 2,\n",
       " 'mountain': 4,\n",
       " 'low,': 1,\n",
       " 'rough': 1,\n",
       " 'plain,': 1,\n",
       " 'crooked': 1,\n",
       " 'straight;': 1,\n",
       " '\"and': 1,\n",
       " 'glory': 1,\n",
       " 'lord': 1,\n",
       " 'revealed': 1,\n",
       " 'flesh': 1,\n",
       " 'together.\"2': 1,\n",
       " 'hope,': 1,\n",
       " 'with.': 1,\n",
       " 'faith,': 3,\n",
       " 'hew': 1,\n",
       " 'despair': 1,\n",
       " 'stone': 2,\n",
       " 'hope.': 1,\n",
       " 'transform': 1,\n",
       " 'jangling': 1,\n",
       " 'discords': 1,\n",
       " 'beautiful': 1,\n",
       " 'symphony': 1,\n",
       " 'together,': 5,\n",
       " 'pray': 1,\n",
       " 'free': 4,\n",
       " 'day.': 1,\n",
       " 'sing': 2,\n",
       " 'meaning:': 1,\n",
       " 'country': 1,\n",
       " \"'tis\": 1,\n",
       " 'thee,': 1,\n",
       " 'sweet': 1,\n",
       " 'land': 3,\n",
       " 'liberty,': 1,\n",
       " 'thee': 1,\n",
       " 'sing.': 1,\n",
       " 'fathers': 1,\n",
       " 'died,': 1,\n",
       " \"pilgrim's\": 1,\n",
       " 'pride,': 1,\n",
       " 'mountainside,': 2,\n",
       " 'ring!': 1,\n",
       " 'nation,': 1,\n",
       " 'true.': 1,\n",
       " 'ring': 9,\n",
       " 'prodigious': 1,\n",
       " 'hilltops': 1,\n",
       " 'hampshire.': 1,\n",
       " 'mountains': 1,\n",
       " 'york.': 1,\n",
       " 'heightening': 1,\n",
       " 'alleghenies': 1,\n",
       " 'pennsylvania.': 1,\n",
       " 'snow-capped': 1,\n",
       " 'rockies': 1,\n",
       " 'colorado.': 1,\n",
       " 'curvaceous': 1,\n",
       " 'slopes': 1,\n",
       " 'california.': 1,\n",
       " 'that:': 1,\n",
       " 'georgia.': 1,\n",
       " 'lookout': 1,\n",
       " 'tennessee.': 1,\n",
       " 'molehill': 1,\n",
       " 'mississippi.': 1,\n",
       " 'ring.': 1,\n",
       " 'happens,': 1,\n",
       " 'ring,': 1,\n",
       " 'village': 1,\n",
       " 'hamlet,': 1,\n",
       " 'city,': 1,\n",
       " 'speed': 1,\n",
       " 'children,': 1,\n",
       " 'jews': 1,\n",
       " 'gentiles,': 1,\n",
       " 'protestants': 1,\n",
       " 'catholics,': 1,\n",
       " 'spiritual:': 1,\n",
       " 'last!': 3,\n",
       " 'thank': 1,\n",
       " 'god': 1,\n",
       " 'almighty,': 1}"
      ]
     },
     "execution_count": 354,
     "metadata": {},
     "output_type": "execute_result"
    }
   ],
   "source": [
    "# option 1\n",
    "\n",
    "d = {}\n",
    "for word in word_list:    # word: i -> am -> happy -> ....\n",
    "    if word in stop_list:\n",
    "        continue\n",
    "    if word not in d:\n",
    "        d[word] = 1       # 이 단어가 처음 등장해서 최초로 카운트\n",
    "    else:\n",
    "        d[word] += 1      # 이미 단어가 등록된 경우에는 카운트 누적\n",
    "\n",
    "d"
   ]
  },
  {
   "cell_type": "code",
   "execution_count": 339,
   "id": "7baf4230",
   "metadata": {},
   "outputs": [
    {
     "data": {
      "text/plain": [
       "{'am': 2,\n",
       " 'happy': 1,\n",
       " 'join': 3,\n",
       " 'history': 2,\n",
       " 'demonstration': 1,\n",
       " 'freedom': 19,\n",
       " 'nation.': 2,\n",
       " 'five': 1,\n",
       " 'score': 1,\n",
       " 'ago,': 1,\n",
       " 'american,': 1,\n",
       " 'symbolic': 1,\n",
       " 'shadow': 1,\n",
       " 'stand': 3,\n",
       " 'today,': 3,\n",
       " 'signed': 1,\n",
       " 'emancipation': 1,\n",
       " 'proclamation.': 1,\n",
       " 'momentous': 1,\n",
       " 'decree': 1,\n",
       " 'beacon': 1,\n",
       " 'light': 1,\n",
       " 'hope': 2,\n",
       " 'millions': 1,\n",
       " 'negro': 13,\n",
       " 'slaves': 2,\n",
       " 'seared': 1,\n",
       " 'flames': 1,\n",
       " 'withering': 1,\n",
       " 'injustice.': 1,\n",
       " 'joyous': 1,\n",
       " 'daybreak': 1,\n",
       " 'night': 1,\n",
       " 'captivity.': 1,\n",
       " 'hundred': 4,\n",
       " 'later,': 4,\n",
       " 'free.': 1,\n",
       " 'life': 1,\n",
       " 'sadly': 1,\n",
       " 'crippled': 1,\n",
       " 'manacles': 1,\n",
       " 'segregation': 2,\n",
       " 'chains': 1,\n",
       " 'discrimination.': 1,\n",
       " 'lives': 1,\n",
       " 'lonely': 1,\n",
       " 'island': 1,\n",
       " 'poverty': 1,\n",
       " 'midst': 1,\n",
       " 'vast': 1,\n",
       " 'ocean': 1,\n",
       " 'material': 1,\n",
       " 'prosperity.': 1,\n",
       " 'languished': 1,\n",
       " 'corners': 1,\n",
       " 'american': 3,\n",
       " 'society': 1,\n",
       " 'exile': 1,\n",
       " 'own': 1,\n",
       " 'land.': 1,\n",
       " \"we've\": 3,\n",
       " 'dramatize': 1,\n",
       " 'shameful': 1,\n",
       " 'condition.': 1,\n",
       " 'sense': 1,\n",
       " \"nation's\": 1,\n",
       " 'capital': 1,\n",
       " 'cash': 2,\n",
       " 'check.': 1,\n",
       " 'architects': 1,\n",
       " 'republic': 1,\n",
       " 'wrote': 1,\n",
       " 'magnificent': 1,\n",
       " 'words': 3,\n",
       " 'constitution': 1,\n",
       " 'declaration': 1,\n",
       " 'independence,': 1,\n",
       " 'signing': 1,\n",
       " 'promissory': 2,\n",
       " 'note': 2,\n",
       " 'fall': 1,\n",
       " 'heir.': 1,\n",
       " 'promise': 1,\n",
       " 'men,': 3,\n",
       " 'yes,': 1,\n",
       " 'black': 4,\n",
       " 'white': 6,\n",
       " 'guaranteed': 1,\n",
       " '\"unalienable': 1,\n",
       " 'rights\"': 1,\n",
       " '\"life,': 1,\n",
       " 'liberty': 1,\n",
       " 'pursuit': 1,\n",
       " 'happiness.\"': 1,\n",
       " 'obvious': 1,\n",
       " 'america': 5,\n",
       " 'defaulted': 1,\n",
       " 'note,': 1,\n",
       " 'insofar': 1,\n",
       " 'citizens': 1,\n",
       " 'color': 2,\n",
       " 'concerned.': 1,\n",
       " 'instead': 1,\n",
       " 'honoring': 1,\n",
       " 'sacred': 1,\n",
       " 'obligation,': 1,\n",
       " 'people': 1,\n",
       " 'bad': 1,\n",
       " 'check,': 2,\n",
       " 'check': 2,\n",
       " 'marked': 1,\n",
       " '\"insufficient': 1,\n",
       " 'funds.\"': 1,\n",
       " 'refuse': 2,\n",
       " 'believe': 2,\n",
       " 'bank': 1,\n",
       " 'justice': 3,\n",
       " 'bankrupt.': 1,\n",
       " 'insufficient': 1,\n",
       " 'funds': 1,\n",
       " 'vaults': 1,\n",
       " 'opportunity': 1,\n",
       " 'so,': 1,\n",
       " 'demand': 1,\n",
       " 'riches': 1,\n",
       " 'security': 1,\n",
       " 'justice.': 3,\n",
       " 'hallowed': 1,\n",
       " 'spot': 1,\n",
       " 'remind': 1,\n",
       " 'fierce': 1,\n",
       " 'urgency': 2,\n",
       " 'now.': 1,\n",
       " 'time': 5,\n",
       " 'engage': 1,\n",
       " 'luxury': 1,\n",
       " 'cooling': 1,\n",
       " 'tranquilizing': 1,\n",
       " 'drug': 1,\n",
       " 'gradualism.': 1,\n",
       " 'real': 1,\n",
       " 'promises': 1,\n",
       " 'democracy.': 1,\n",
       " 'rise': 3,\n",
       " 'dark': 1,\n",
       " 'desolate': 1,\n",
       " 'valley': 3,\n",
       " 'sunlit': 1,\n",
       " 'path': 1,\n",
       " 'racial': 2,\n",
       " 'lift': 1,\n",
       " 'nation': 7,\n",
       " 'quicksands': 1,\n",
       " 'injustice': 1,\n",
       " 'solid': 1,\n",
       " 'rock': 1,\n",
       " 'brotherhood.': 3,\n",
       " 'reality': 1,\n",
       " \"god's\": 3,\n",
       " 'children.': 1,\n",
       " 'fatal': 1,\n",
       " 'overlook': 1,\n",
       " 'moment.': 1,\n",
       " 'sweltering': 3,\n",
       " 'summer': 1,\n",
       " \"negro's\": 2,\n",
       " 'legitimate': 1,\n",
       " 'discontent': 1,\n",
       " 'pass': 1,\n",
       " 'invigorating': 1,\n",
       " 'autumn': 1,\n",
       " 'equality.': 1,\n",
       " 'nineteen': 1,\n",
       " 'sixty-three': 1,\n",
       " 'end,': 1,\n",
       " 'beginning.': 1,\n",
       " 'blow': 1,\n",
       " 'steam': 1,\n",
       " 'content': 2,\n",
       " 'rude': 1,\n",
       " 'awakening': 1,\n",
       " 'returns': 1,\n",
       " 'business': 1,\n",
       " 'usual.': 1,\n",
       " 'neither': 1,\n",
       " 'rest': 1,\n",
       " 'nor': 1,\n",
       " 'tranquility': 1,\n",
       " 'granted': 1,\n",
       " 'citizenship': 1,\n",
       " 'rights.': 1,\n",
       " 'whirlwinds': 1,\n",
       " 'revolt': 1,\n",
       " 'continue': 2,\n",
       " 'shake': 1,\n",
       " 'foundations': 1,\n",
       " 'bright': 1,\n",
       " 'day': 10,\n",
       " 'emerges.': 1,\n",
       " 'people,': 2,\n",
       " 'warm': 1,\n",
       " 'threshold': 1,\n",
       " 'leads': 1,\n",
       " 'palace': 1,\n",
       " 'justice:': 1,\n",
       " 'process': 1,\n",
       " 'gaining': 1,\n",
       " 'rightful': 1,\n",
       " 'place,': 1,\n",
       " 'guilty': 1,\n",
       " 'wrongful': 1,\n",
       " 'deeds.': 1,\n",
       " 'seek': 1,\n",
       " 'satisfy': 1,\n",
       " 'thirst': 1,\n",
       " 'drinking': 1,\n",
       " 'cup': 1,\n",
       " 'bitterness': 1,\n",
       " 'hatred.': 1,\n",
       " 'forever': 1,\n",
       " 'conduct': 1,\n",
       " 'struggle': 2,\n",
       " 'plane': 1,\n",
       " 'dignity': 2,\n",
       " 'discipline.': 1,\n",
       " 'allow': 2,\n",
       " 'creative': 2,\n",
       " 'protest': 1,\n",
       " 'degenerate': 1,\n",
       " 'physical': 2,\n",
       " 'violence.': 1,\n",
       " 'again,': 1,\n",
       " 'majestic': 1,\n",
       " 'heights': 1,\n",
       " 'meeting': 1,\n",
       " 'force': 1,\n",
       " 'soul': 1,\n",
       " 'force.': 1,\n",
       " 'marvelous': 1,\n",
       " 'militancy': 1,\n",
       " 'engulfed': 1,\n",
       " 'community': 1,\n",
       " 'lead': 1,\n",
       " 'distrust': 1,\n",
       " 'brothers,': 1,\n",
       " 'evidenced': 1,\n",
       " 'presence': 1,\n",
       " 'realize': 2,\n",
       " 'destiny': 1,\n",
       " 'tied': 1,\n",
       " 'destiny.': 1,\n",
       " 'inextricably': 1,\n",
       " 'bound': 1,\n",
       " 'freedom.': 1,\n",
       " 'walk': 1,\n",
       " 'alone.': 1,\n",
       " 'walk,': 1,\n",
       " 'pledge': 1,\n",
       " 'march': 1,\n",
       " 'ahead.': 1,\n",
       " 'back.': 1,\n",
       " 'devotees': 1,\n",
       " 'civil': 1,\n",
       " 'rights,': 1,\n",
       " '\"when': 1,\n",
       " 'satisfied?\"': 1,\n",
       " 'satisfied': 6,\n",
       " 'victim': 1,\n",
       " 'unspeakable': 1,\n",
       " 'horrors': 1,\n",
       " 'police': 2,\n",
       " 'brutality.': 2,\n",
       " 'bodies,': 1,\n",
       " 'heavy': 1,\n",
       " 'fatigue': 1,\n",
       " 'travel,': 1,\n",
       " 'gain': 1,\n",
       " 'lodging': 1,\n",
       " 'motels': 1,\n",
       " 'highways': 1,\n",
       " 'hotels': 1,\n",
       " 'cities.': 1,\n",
       " '*we': 1,\n",
       " 'basic': 1,\n",
       " 'mobility': 1,\n",
       " 'ghetto': 1,\n",
       " 'larger': 1,\n",
       " 'one.': 1,\n",
       " 'children': 3,\n",
       " 'stripped': 1,\n",
       " 'self-hood': 1,\n",
       " 'robbed': 1,\n",
       " 'signs': 1,\n",
       " 'stating:': 1,\n",
       " '\"for': 1,\n",
       " 'whites': 1,\n",
       " 'only.\"*': 1,\n",
       " 'mississippi': 1,\n",
       " 'vote': 1,\n",
       " 'york': 1,\n",
       " 'believes': 1,\n",
       " 'vote.': 1,\n",
       " 'no,': 2,\n",
       " 'satisfied,': 1,\n",
       " '\"justice': 1,\n",
       " 'rolls': 1,\n",
       " 'waters,': 1,\n",
       " 'righteousness': 1,\n",
       " 'mighty': 2,\n",
       " 'stream.\"1': 1,\n",
       " 'unmindful': 1,\n",
       " 'trials': 1,\n",
       " 'tribulations.': 1,\n",
       " 'fresh': 1,\n",
       " 'narrow': 1,\n",
       " 'jail': 2,\n",
       " 'cells.': 1,\n",
       " 'quest': 2,\n",
       " '--': 3,\n",
       " 'left': 1,\n",
       " 'battered': 1,\n",
       " 'storms': 1,\n",
       " 'persecution': 1,\n",
       " 'staggered': 1,\n",
       " 'winds': 1,\n",
       " 'veterans': 1,\n",
       " 'suffering.': 1,\n",
       " 'faith': 2,\n",
       " 'unearned': 1,\n",
       " 'suffering': 1,\n",
       " 'redemptive.': 1,\n",
       " 'mississippi,': 2,\n",
       " 'alabama,': 2,\n",
       " 'south': 2,\n",
       " 'carolina,': 1,\n",
       " 'georgia,': 2,\n",
       " 'louisiana,': 1,\n",
       " 'slums': 1,\n",
       " 'ghettos': 1,\n",
       " 'northern': 1,\n",
       " 'cities,': 1,\n",
       " 'knowing': 2,\n",
       " 'somehow': 1,\n",
       " 'situation': 1,\n",
       " 'changed.': 1,\n",
       " 'wallow': 1,\n",
       " 'despair,': 1,\n",
       " 'friends.': 1,\n",
       " 'difficulties': 1,\n",
       " 'tomorrow,': 1,\n",
       " 'dream.': 2,\n",
       " 'dream': 9,\n",
       " 'deeply': 1,\n",
       " 'rooted': 1,\n",
       " 'live': 2,\n",
       " 'true': 1,\n",
       " 'meaning': 1,\n",
       " 'creed:': 1,\n",
       " '\"we': 1,\n",
       " 'hold': 1,\n",
       " 'truths': 1,\n",
       " 'self-evident,': 1,\n",
       " 'created': 1,\n",
       " 'equal.\"': 1,\n",
       " 'red': 1,\n",
       " 'hills': 1,\n",
       " 'sons': 2,\n",
       " 'former': 2,\n",
       " 'slave': 1,\n",
       " 'owners': 1,\n",
       " 'able': 8,\n",
       " 'sit': 1,\n",
       " 'table': 1,\n",
       " 'heat': 2,\n",
       " 'injustice,': 1,\n",
       " 'oppression,': 1,\n",
       " 'transformed': 1,\n",
       " 'oasis': 1,\n",
       " 'little': 3,\n",
       " 'judged': 1,\n",
       " 'skin': 1,\n",
       " 'character.': 1,\n",
       " 'today!': 2,\n",
       " 'day,': 1,\n",
       " 'vicious': 1,\n",
       " 'racists,': 1,\n",
       " 'governor': 1,\n",
       " 'lips': 1,\n",
       " 'dripping': 1,\n",
       " '\"interposition\"': 1,\n",
       " '\"nullification\"': 1,\n",
       " 'alabama': 1,\n",
       " 'boys': 2,\n",
       " 'girls': 2,\n",
       " 'hands': 2,\n",
       " 'sisters': 1,\n",
       " 'brothers.': 1,\n",
       " 'exalted,': 1,\n",
       " 'hill': 2,\n",
       " 'mountain': 4,\n",
       " 'low,': 1,\n",
       " 'rough': 1,\n",
       " 'plain,': 1,\n",
       " 'crooked': 1,\n",
       " 'straight;': 1,\n",
       " '\"and': 1,\n",
       " 'glory': 1,\n",
       " 'lord': 1,\n",
       " 'revealed': 1,\n",
       " 'flesh': 1,\n",
       " 'together.\"2': 1,\n",
       " 'hope,': 1,\n",
       " 'with.': 1,\n",
       " 'faith,': 3,\n",
       " 'hew': 1,\n",
       " 'despair': 1,\n",
       " 'stone': 2,\n",
       " 'hope.': 1,\n",
       " 'transform': 1,\n",
       " 'jangling': 1,\n",
       " 'discords': 1,\n",
       " 'beautiful': 1,\n",
       " 'symphony': 1,\n",
       " 'together,': 5,\n",
       " 'pray': 1,\n",
       " 'free': 4,\n",
       " 'day.': 1,\n",
       " 'sing': 2,\n",
       " 'meaning:': 1,\n",
       " 'country': 1,\n",
       " \"'tis\": 1,\n",
       " 'thee,': 1,\n",
       " 'sweet': 1,\n",
       " 'land': 3,\n",
       " 'liberty,': 1,\n",
       " 'thee': 1,\n",
       " 'sing.': 1,\n",
       " 'fathers': 1,\n",
       " 'died,': 1,\n",
       " \"pilgrim's\": 1,\n",
       " 'pride,': 1,\n",
       " 'mountainside,': 2,\n",
       " 'ring!': 1,\n",
       " 'nation,': 1,\n",
       " 'true.': 1,\n",
       " 'ring': 9,\n",
       " 'prodigious': 1,\n",
       " 'hilltops': 1,\n",
       " 'hampshire.': 1,\n",
       " 'mountains': 1,\n",
       " 'york.': 1,\n",
       " 'heightening': 1,\n",
       " 'alleghenies': 1,\n",
       " 'pennsylvania.': 1,\n",
       " 'snow-capped': 1,\n",
       " 'rockies': 1,\n",
       " 'colorado.': 1,\n",
       " 'curvaceous': 1,\n",
       " 'slopes': 1,\n",
       " 'california.': 1,\n",
       " 'that:': 1,\n",
       " 'georgia.': 1,\n",
       " 'lookout': 1,\n",
       " 'tennessee.': 1,\n",
       " 'molehill': 1,\n",
       " 'mississippi.': 1,\n",
       " 'ring.': 1,\n",
       " 'happens,': 1,\n",
       " 'ring,': 1,\n",
       " 'village': 1,\n",
       " 'hamlet,': 1,\n",
       " 'city,': 1,\n",
       " 'speed': 1,\n",
       " 'children,': 1,\n",
       " 'jews': 1,\n",
       " 'gentiles,': 1,\n",
       " 'protestants': 1,\n",
       " 'catholics,': 1,\n",
       " 'spiritual:': 1,\n",
       " 'last!': 3,\n",
       " 'thank': 1,\n",
       " 'god': 1,\n",
       " 'almighty,': 1}"
      ]
     },
     "execution_count": 339,
     "metadata": {},
     "output_type": "execute_result"
    }
   ],
   "source": [
    "# option 2\n",
    "\n",
    "d = {}\n",
    "for word in word_list:    # word: i -> am -> happy -> ....\n",
    "    if word in stop_list:\n",
    "        continue\n",
    "    d[word] = d.get(word, 0) + 1      # 이미 단어가 사전에 있으면 pass, 없으면 value로 0을 가져온다.\n",
    "\n",
    "d"
   ]
  },
  {
   "cell_type": "code",
   "execution_count": 347,
   "id": "8d849d16",
   "metadata": {},
   "outputs": [],
   "source": [
    "# option 3\n",
    "def WordCount():\n",
    "    d = {}\n",
    "    for word in word_list:    # word: i -> am -> happy -> ....\n",
    "        if word in stop_list:\n",
    "            continue\n",
    "        d[word] = d.get(word, 0) + 1      # 이미 단어가 사전에 있으면 pass, 없으면 value로 0을 가져온다.\n",
    "    return d\n",
    "    "
   ]
  },
  {
   "cell_type": "code",
   "execution_count": 341,
   "id": "a3291ca4",
   "metadata": {},
   "outputs": [],
   "source": [
    "d = WordCount()\n",
    "with open('result.txt', 'w') as fd3:\n",
    "    fd3.write(str(d))"
   ]
  },
  {
   "cell_type": "markdown",
   "id": "a6991bf2",
   "metadata": {},
   "source": [
    "**(참고) 정렬**"
   ]
  },
  {
   "cell_type": "code",
   "execution_count": 317,
   "id": "c285279f",
   "metadata": {},
   "outputs": [
    {
     "data": {
      "text/plain": [
       "[-10, -1, 1, 4, 5, 6]"
      ]
     },
     "execution_count": 317,
     "metadata": {},
     "output_type": "execute_result"
    }
   ],
   "source": [
    "l = [1, 4, 5, 6, -1, -10]\n",
    "l.sort()      # 리스트에서 제공하는 sort() 메서드를 사용\n",
    "l          # 오름차순으로 정렬된 것이 l에 반영"
   ]
  },
  {
   "cell_type": "code",
   "execution_count": 319,
   "id": "2da8f2bb",
   "metadata": {},
   "outputs": [
    {
     "data": {
      "text/plain": [
       "[-10, -1, 1, 4, 5, 6]"
      ]
     },
     "execution_count": 319,
     "metadata": {},
     "output_type": "execute_result"
    }
   ],
   "source": [
    "l = [1, 4, 5, 6, -1, -10]\n",
    "result = sorted(l)     # sorted() 함수는 다른 시퀀스 객체에서도 사용할 수 있음\n",
    "result       # 정렬의 결과물이 반환되고, l은 원본 그래로"
   ]
  },
  {
   "cell_type": "code",
   "execution_count": 320,
   "id": "c13bb955",
   "metadata": {},
   "outputs": [
    {
     "data": {
      "text/plain": [
       "[1, 4, 5, 6, -1, -10]"
      ]
     },
     "execution_count": 320,
     "metadata": {},
     "output_type": "execute_result"
    }
   ],
   "source": [
    "l"
   ]
  },
  {
   "cell_type": "code",
   "execution_count": 321,
   "id": "f7eb75eb",
   "metadata": {},
   "outputs": [],
   "source": [
    "# 단어의 리스트가 준비\n",
    "words = [\"abc\", \"defgh\", \"i\", \"jklm\", \"nm\"]"
   ]
  },
  {
   "cell_type": "code",
   "execution_count": 322,
   "id": "aa930863",
   "metadata": {},
   "outputs": [
    {
     "data": {
      "text/plain": [
       "[3, 5, 1, 4, 2]"
      ]
     },
     "execution_count": 322,
     "metadata": {},
     "output_type": "execute_result"
    }
   ],
   "source": [
    "list(map(len, words)) # 각 단어의 길이 값이 나옴"
   ]
  },
  {
   "cell_type": "code",
   "execution_count": 324,
   "id": "db1317de",
   "metadata": {},
   "outputs": [
    {
     "data": {
      "text/plain": [
       "['i', 'nm', 'abc', 'jklm', 'defgh']"
      ]
     },
     "execution_count": 324,
     "metadata": {},
     "output_type": "execute_result"
    }
   ],
   "source": [
    "sorted(words, key = len)      # key 매개변수에 적당한 함수를 제공해주면, 그에 맞게 정렬"
   ]
  },
  {
   "cell_type": "code",
   "execution_count": 325,
   "id": "564f1add",
   "metadata": {},
   "outputs": [],
   "source": [
    "# 딕셔너리 정렬  (높은 점수 순으로 정렬)\n",
    "scores = {\"James\": 90, \"Selly\": 80, \"Jun\": 100}"
   ]
  },
  {
   "cell_type": "code",
   "execution_count": 368,
   "id": "53833245",
   "metadata": {},
   "outputs": [
    {
     "data": {
      "text/plain": [
       "[('Jun', 100), ('James', 90), ('Selly', 80)]"
      ]
     },
     "execution_count": 368,
     "metadata": {},
     "output_type": "execute_result"
    }
   ],
   "source": [
    "# option 1\n",
    "\n",
    "def return_score(x):\n",
    "    # print(x)\n",
    "    return x[1]\n",
    "\n",
    "sorted(scores.items(), key = return_score, reverse = True)      # key에 함수만 주어도 자동으로 순서대로 정렬해준다."
   ]
  },
  {
   "cell_type": "code",
   "execution_count": 346,
   "id": "c8fcc9b0",
   "metadata": {},
   "outputs": [
    {
     "data": {
      "text/plain": [
       "[('Jun', 100), ('James', 90), ('Selly', 80)]"
      ]
     },
     "execution_count": 346,
     "metadata": {},
     "output_type": "execute_result"
    }
   ],
   "source": [
    "# option 2\n",
    "sorted(scores.items(), key = lambda x : x[1], reverse = True)"
   ]
  },
  {
   "cell_type": "markdown",
   "id": "ce9bdfe5",
   "metadata": {},
   "source": [
    "---"
   ]
  },
  {
   "cell_type": "code",
   "execution_count": 376,
   "id": "fb94cb4f",
   "metadata": {},
   "outputs": [
    {
     "data": {
      "text/plain": [
       "{'am': 2,\n",
       " 'happy': 1,\n",
       " 'join': 3,\n",
       " 'history': 2,\n",
       " 'demonstration': 1,\n",
       " 'freedom': 19,\n",
       " 'nation.': 2,\n",
       " 'five': 1,\n",
       " 'score': 1,\n",
       " 'ago,': 1,\n",
       " 'american,': 1,\n",
       " 'symbolic': 1,\n",
       " 'shadow': 1,\n",
       " 'stand': 3,\n",
       " 'today,': 3,\n",
       " 'signed': 1,\n",
       " 'emancipation': 1,\n",
       " 'proclamation.': 1,\n",
       " 'momentous': 1,\n",
       " 'decree': 1,\n",
       " 'beacon': 1,\n",
       " 'light': 1,\n",
       " 'hope': 2,\n",
       " 'millions': 1,\n",
       " 'negro': 13,\n",
       " 'slaves': 2,\n",
       " 'seared': 1,\n",
       " 'flames': 1,\n",
       " 'withering': 1,\n",
       " 'injustice.': 1,\n",
       " 'joyous': 1,\n",
       " 'daybreak': 1,\n",
       " 'night': 1,\n",
       " 'captivity.': 1,\n",
       " 'hundred': 4,\n",
       " 'later,': 4,\n",
       " 'free.': 1,\n",
       " 'life': 1,\n",
       " 'sadly': 1,\n",
       " 'crippled': 1,\n",
       " 'manacles': 1,\n",
       " 'segregation': 2,\n",
       " 'chains': 1,\n",
       " 'discrimination.': 1,\n",
       " 'lives': 1,\n",
       " 'lonely': 1,\n",
       " 'island': 1,\n",
       " 'poverty': 1,\n",
       " 'midst': 1,\n",
       " 'vast': 1,\n",
       " 'ocean': 1,\n",
       " 'material': 1,\n",
       " 'prosperity.': 1,\n",
       " 'languished': 1,\n",
       " 'corners': 1,\n",
       " 'american': 3,\n",
       " 'society': 1,\n",
       " 'exile': 1,\n",
       " 'own': 1,\n",
       " 'land.': 1,\n",
       " \"we've\": 3,\n",
       " 'dramatize': 1,\n",
       " 'shameful': 1,\n",
       " 'condition.': 1,\n",
       " 'sense': 1,\n",
       " \"nation's\": 1,\n",
       " 'capital': 1,\n",
       " 'cash': 2,\n",
       " 'check.': 1,\n",
       " 'architects': 1,\n",
       " 'republic': 1,\n",
       " 'wrote': 1,\n",
       " 'magnificent': 1,\n",
       " 'words': 3,\n",
       " 'constitution': 1,\n",
       " 'declaration': 1,\n",
       " 'independence,': 1,\n",
       " 'signing': 1,\n",
       " 'promissory': 2,\n",
       " 'note': 2,\n",
       " 'fall': 1,\n",
       " 'heir.': 1,\n",
       " 'promise': 1,\n",
       " 'men,': 3,\n",
       " 'yes,': 1,\n",
       " 'black': 4,\n",
       " 'white': 6,\n",
       " 'guaranteed': 1,\n",
       " '\"unalienable': 1,\n",
       " 'rights\"': 1,\n",
       " '\"life,': 1,\n",
       " 'liberty': 1,\n",
       " 'pursuit': 1,\n",
       " 'happiness.\"': 1,\n",
       " 'obvious': 1,\n",
       " 'america': 5,\n",
       " 'defaulted': 1,\n",
       " 'note,': 1,\n",
       " 'insofar': 1,\n",
       " 'citizens': 1,\n",
       " 'color': 2,\n",
       " 'concerned.': 1,\n",
       " 'instead': 1,\n",
       " 'honoring': 1,\n",
       " 'sacred': 1,\n",
       " 'obligation,': 1,\n",
       " 'people': 1,\n",
       " 'bad': 1,\n",
       " 'check,': 2,\n",
       " 'check': 2,\n",
       " 'marked': 1,\n",
       " '\"insufficient': 1,\n",
       " 'funds.\"': 1,\n",
       " 'refuse': 2,\n",
       " 'believe': 2,\n",
       " 'bank': 1,\n",
       " 'justice': 3,\n",
       " 'bankrupt.': 1,\n",
       " 'insufficient': 1,\n",
       " 'funds': 1,\n",
       " 'vaults': 1,\n",
       " 'opportunity': 1,\n",
       " 'so,': 1,\n",
       " 'demand': 1,\n",
       " 'riches': 1,\n",
       " 'security': 1,\n",
       " 'justice.': 3,\n",
       " 'hallowed': 1,\n",
       " 'spot': 1,\n",
       " 'remind': 1,\n",
       " 'fierce': 1,\n",
       " 'urgency': 2,\n",
       " 'now.': 1,\n",
       " 'time': 5,\n",
       " 'engage': 1,\n",
       " 'luxury': 1,\n",
       " 'cooling': 1,\n",
       " 'tranquilizing': 1,\n",
       " 'drug': 1,\n",
       " 'gradualism.': 1,\n",
       " 'real': 1,\n",
       " 'promises': 1,\n",
       " 'democracy.': 1,\n",
       " 'rise': 3,\n",
       " 'dark': 1,\n",
       " 'desolate': 1,\n",
       " 'valley': 3,\n",
       " 'sunlit': 1,\n",
       " 'path': 1,\n",
       " 'racial': 2,\n",
       " 'lift': 1,\n",
       " 'nation': 7,\n",
       " 'quicksands': 1,\n",
       " 'injustice': 1,\n",
       " 'solid': 1,\n",
       " 'rock': 1,\n",
       " 'brotherhood.': 3,\n",
       " 'reality': 1,\n",
       " \"god's\": 3,\n",
       " 'children.': 1,\n",
       " 'fatal': 1,\n",
       " 'overlook': 1,\n",
       " 'moment.': 1,\n",
       " 'sweltering': 3,\n",
       " 'summer': 1,\n",
       " \"negro's\": 2,\n",
       " 'legitimate': 1,\n",
       " 'discontent': 1,\n",
       " 'pass': 1,\n",
       " 'invigorating': 1,\n",
       " 'autumn': 1,\n",
       " 'equality.': 1,\n",
       " 'nineteen': 1,\n",
       " 'sixty-three': 1,\n",
       " 'end,': 1,\n",
       " 'beginning.': 1,\n",
       " 'blow': 1,\n",
       " 'steam': 1,\n",
       " 'content': 2,\n",
       " 'rude': 1,\n",
       " 'awakening': 1,\n",
       " 'returns': 1,\n",
       " 'business': 1,\n",
       " 'usual.': 1,\n",
       " 'neither': 1,\n",
       " 'rest': 1,\n",
       " 'nor': 1,\n",
       " 'tranquility': 1,\n",
       " 'granted': 1,\n",
       " 'citizenship': 1,\n",
       " 'rights.': 1,\n",
       " 'whirlwinds': 1,\n",
       " 'revolt': 1,\n",
       " 'continue': 2,\n",
       " 'shake': 1,\n",
       " 'foundations': 1,\n",
       " 'bright': 1,\n",
       " 'day': 10,\n",
       " 'emerges.': 1,\n",
       " 'people,': 2,\n",
       " 'warm': 1,\n",
       " 'threshold': 1,\n",
       " 'leads': 1,\n",
       " 'palace': 1,\n",
       " 'justice:': 1,\n",
       " 'process': 1,\n",
       " 'gaining': 1,\n",
       " 'rightful': 1,\n",
       " 'place,': 1,\n",
       " 'guilty': 1,\n",
       " 'wrongful': 1,\n",
       " 'deeds.': 1,\n",
       " 'seek': 1,\n",
       " 'satisfy': 1,\n",
       " 'thirst': 1,\n",
       " 'drinking': 1,\n",
       " 'cup': 1,\n",
       " 'bitterness': 1,\n",
       " 'hatred.': 1,\n",
       " 'forever': 1,\n",
       " 'conduct': 1,\n",
       " 'struggle': 2,\n",
       " 'plane': 1,\n",
       " 'dignity': 2,\n",
       " 'discipline.': 1,\n",
       " 'allow': 2,\n",
       " 'creative': 2,\n",
       " 'protest': 1,\n",
       " 'degenerate': 1,\n",
       " 'physical': 2,\n",
       " 'violence.': 1,\n",
       " 'again,': 1,\n",
       " 'majestic': 1,\n",
       " 'heights': 1,\n",
       " 'meeting': 1,\n",
       " 'force': 1,\n",
       " 'soul': 1,\n",
       " 'force.': 1,\n",
       " 'marvelous': 1,\n",
       " 'militancy': 1,\n",
       " 'engulfed': 1,\n",
       " 'community': 1,\n",
       " 'lead': 1,\n",
       " 'distrust': 1,\n",
       " 'brothers,': 1,\n",
       " 'evidenced': 1,\n",
       " 'presence': 1,\n",
       " 'realize': 2,\n",
       " 'destiny': 1,\n",
       " 'tied': 1,\n",
       " 'destiny.': 1,\n",
       " 'inextricably': 1,\n",
       " 'bound': 1,\n",
       " 'freedom.': 1,\n",
       " 'walk': 1,\n",
       " 'alone.': 1,\n",
       " 'walk,': 1,\n",
       " 'pledge': 1,\n",
       " 'march': 1,\n",
       " 'ahead.': 1,\n",
       " 'back.': 1,\n",
       " 'devotees': 1,\n",
       " 'civil': 1,\n",
       " 'rights,': 1,\n",
       " '\"when': 1,\n",
       " 'satisfied?\"': 1,\n",
       " 'satisfied': 6,\n",
       " 'victim': 1,\n",
       " 'unspeakable': 1,\n",
       " 'horrors': 1,\n",
       " 'police': 2,\n",
       " 'brutality.': 2,\n",
       " 'bodies,': 1,\n",
       " 'heavy': 1,\n",
       " 'fatigue': 1,\n",
       " 'travel,': 1,\n",
       " 'gain': 1,\n",
       " 'lodging': 1,\n",
       " 'motels': 1,\n",
       " 'highways': 1,\n",
       " 'hotels': 1,\n",
       " 'cities.': 1,\n",
       " '*we': 1,\n",
       " 'basic': 1,\n",
       " 'mobility': 1,\n",
       " 'ghetto': 1,\n",
       " 'larger': 1,\n",
       " 'one.': 1,\n",
       " 'children': 3,\n",
       " 'stripped': 1,\n",
       " 'self-hood': 1,\n",
       " 'robbed': 1,\n",
       " 'signs': 1,\n",
       " 'stating:': 1,\n",
       " '\"for': 1,\n",
       " 'whites': 1,\n",
       " 'only.\"*': 1,\n",
       " 'mississippi': 1,\n",
       " 'vote': 1,\n",
       " 'york': 1,\n",
       " 'believes': 1,\n",
       " 'vote.': 1,\n",
       " 'no,': 2,\n",
       " 'satisfied,': 1,\n",
       " '\"justice': 1,\n",
       " 'rolls': 1,\n",
       " 'waters,': 1,\n",
       " 'righteousness': 1,\n",
       " 'mighty': 2,\n",
       " 'stream.\"1': 1,\n",
       " 'unmindful': 1,\n",
       " 'trials': 1,\n",
       " 'tribulations.': 1,\n",
       " 'fresh': 1,\n",
       " 'narrow': 1,\n",
       " 'jail': 2,\n",
       " 'cells.': 1,\n",
       " 'quest': 2,\n",
       " '--': 3,\n",
       " 'left': 1,\n",
       " 'battered': 1,\n",
       " 'storms': 1,\n",
       " 'persecution': 1,\n",
       " 'staggered': 1,\n",
       " 'winds': 1,\n",
       " 'veterans': 1,\n",
       " 'suffering.': 1,\n",
       " 'faith': 2,\n",
       " 'unearned': 1,\n",
       " 'suffering': 1,\n",
       " 'redemptive.': 1,\n",
       " 'mississippi,': 2,\n",
       " 'alabama,': 2,\n",
       " 'south': 2,\n",
       " 'carolina,': 1,\n",
       " 'georgia,': 2,\n",
       " 'louisiana,': 1,\n",
       " 'slums': 1,\n",
       " 'ghettos': 1,\n",
       " 'northern': 1,\n",
       " 'cities,': 1,\n",
       " 'knowing': 2,\n",
       " 'somehow': 1,\n",
       " 'situation': 1,\n",
       " 'changed.': 1,\n",
       " 'wallow': 1,\n",
       " 'despair,': 1,\n",
       " 'friends.': 1,\n",
       " 'difficulties': 1,\n",
       " 'tomorrow,': 1,\n",
       " 'dream.': 2,\n",
       " 'dream': 9,\n",
       " 'deeply': 1,\n",
       " 'rooted': 1,\n",
       " 'live': 2,\n",
       " 'true': 1,\n",
       " 'meaning': 1,\n",
       " 'creed:': 1,\n",
       " '\"we': 1,\n",
       " 'hold': 1,\n",
       " 'truths': 1,\n",
       " 'self-evident,': 1,\n",
       " 'created': 1,\n",
       " 'equal.\"': 1,\n",
       " 'red': 1,\n",
       " 'hills': 1,\n",
       " 'sons': 2,\n",
       " 'former': 2,\n",
       " 'slave': 1,\n",
       " 'owners': 1,\n",
       " 'able': 8,\n",
       " 'sit': 1,\n",
       " 'table': 1,\n",
       " 'heat': 2,\n",
       " 'injustice,': 1,\n",
       " 'oppression,': 1,\n",
       " 'transformed': 1,\n",
       " 'oasis': 1,\n",
       " 'little': 3,\n",
       " 'judged': 1,\n",
       " 'skin': 1,\n",
       " 'character.': 1,\n",
       " 'today!': 2,\n",
       " 'day,': 1,\n",
       " 'vicious': 1,\n",
       " 'racists,': 1,\n",
       " 'governor': 1,\n",
       " 'lips': 1,\n",
       " 'dripping': 1,\n",
       " '\"interposition\"': 1,\n",
       " '\"nullification\"': 1,\n",
       " 'alabama': 1,\n",
       " 'boys': 2,\n",
       " 'girls': 2,\n",
       " 'hands': 2,\n",
       " 'sisters': 1,\n",
       " 'brothers.': 1,\n",
       " 'exalted,': 1,\n",
       " 'hill': 2,\n",
       " 'mountain': 4,\n",
       " 'low,': 1,\n",
       " 'rough': 1,\n",
       " 'plain,': 1,\n",
       " 'crooked': 1,\n",
       " 'straight;': 1,\n",
       " '\"and': 1,\n",
       " 'glory': 1,\n",
       " 'lord': 1,\n",
       " 'revealed': 1,\n",
       " 'flesh': 1,\n",
       " 'together.\"2': 1,\n",
       " 'hope,': 1,\n",
       " 'with.': 1,\n",
       " 'faith,': 3,\n",
       " 'hew': 1,\n",
       " 'despair': 1,\n",
       " 'stone': 2,\n",
       " 'hope.': 1,\n",
       " 'transform': 1,\n",
       " 'jangling': 1,\n",
       " 'discords': 1,\n",
       " 'beautiful': 1,\n",
       " 'symphony': 1,\n",
       " 'together,': 5,\n",
       " 'pray': 1,\n",
       " 'free': 4,\n",
       " 'day.': 1,\n",
       " 'sing': 2,\n",
       " 'meaning:': 1,\n",
       " 'country': 1,\n",
       " \"'tis\": 1,\n",
       " 'thee,': 1,\n",
       " 'sweet': 1,\n",
       " 'land': 3,\n",
       " 'liberty,': 1,\n",
       " 'thee': 1,\n",
       " 'sing.': 1,\n",
       " 'fathers': 1,\n",
       " 'died,': 1,\n",
       " \"pilgrim's\": 1,\n",
       " 'pride,': 1,\n",
       " 'mountainside,': 2,\n",
       " 'ring!': 1,\n",
       " 'nation,': 1,\n",
       " 'true.': 1,\n",
       " 'ring': 9,\n",
       " 'prodigious': 1,\n",
       " 'hilltops': 1,\n",
       " 'hampshire.': 1,\n",
       " 'mountains': 1,\n",
       " 'york.': 1,\n",
       " 'heightening': 1,\n",
       " 'alleghenies': 1,\n",
       " 'pennsylvania.': 1,\n",
       " 'snow-capped': 1,\n",
       " 'rockies': 1,\n",
       " 'colorado.': 1,\n",
       " 'curvaceous': 1,\n",
       " 'slopes': 1,\n",
       " 'california.': 1,\n",
       " 'that:': 1,\n",
       " 'georgia.': 1,\n",
       " 'lookout': 1,\n",
       " 'tennessee.': 1,\n",
       " 'molehill': 1,\n",
       " 'mississippi.': 1,\n",
       " 'ring.': 1,\n",
       " 'happens,': 1,\n",
       " 'ring,': 1,\n",
       " 'village': 1,\n",
       " 'hamlet,': 1,\n",
       " 'city,': 1,\n",
       " 'speed': 1,\n",
       " 'children,': 1,\n",
       " 'jews': 1,\n",
       " 'gentiles,': 1,\n",
       " 'protestants': 1,\n",
       " 'catholics,': 1,\n",
       " 'spiritual:': 1,\n",
       " 'last!': 3,\n",
       " 'thank': 1,\n",
       " 'god': 1,\n",
       " 'almighty,': 1}"
      ]
     },
     "execution_count": 376,
     "metadata": {},
     "output_type": "execute_result"
    }
   ],
   "source": [
    "d"
   ]
  },
  {
   "cell_type": "code",
   "execution_count": 370,
   "id": "9837ab0c",
   "metadata": {},
   "outputs": [
    {
     "data": {
      "text/plain": [
       "[('freedom', 19),\n",
       " ('negro', 13),\n",
       " ('day', 10),\n",
       " ('dream', 9),\n",
       " ('ring', 9),\n",
       " ('able', 8),\n",
       " ('nation', 7),\n",
       " ('white', 6),\n",
       " ('satisfied', 6),\n",
       " ('america', 5),\n",
       " ('time', 5),\n",
       " ('together,', 5),\n",
       " ('hundred', 4),\n",
       " ('later,', 4),\n",
       " ('black', 4),\n",
       " ('mountain', 4),\n",
       " ('free', 4),\n",
       " ('join', 3),\n",
       " ('stand', 3),\n",
       " ('today,', 3),\n",
       " ('american', 3),\n",
       " (\"we've\", 3),\n",
       " ('words', 3),\n",
       " ('men,', 3),\n",
       " ('justice', 3),\n",
       " ('justice.', 3),\n",
       " ('rise', 3),\n",
       " ('valley', 3),\n",
       " ('brotherhood.', 3),\n",
       " (\"god's\", 3),\n",
       " ('sweltering', 3),\n",
       " ('children', 3),\n",
       " ('--', 3),\n",
       " ('little', 3),\n",
       " ('faith,', 3),\n",
       " ('land', 3),\n",
       " ('last!', 3),\n",
       " ('am', 2),\n",
       " ('history', 2),\n",
       " ('nation.', 2),\n",
       " ('hope', 2),\n",
       " ('slaves', 2),\n",
       " ('segregation', 2),\n",
       " ('cash', 2),\n",
       " ('promissory', 2),\n",
       " ('note', 2),\n",
       " ('color', 2),\n",
       " ('check,', 2),\n",
       " ('check', 2),\n",
       " ('refuse', 2),\n",
       " ('believe', 2),\n",
       " ('urgency', 2),\n",
       " ('racial', 2),\n",
       " (\"negro's\", 2),\n",
       " ('content', 2),\n",
       " ('continue', 2),\n",
       " ('people,', 2),\n",
       " ('struggle', 2),\n",
       " ('dignity', 2),\n",
       " ('allow', 2),\n",
       " ('creative', 2),\n",
       " ('physical', 2),\n",
       " ('realize', 2),\n",
       " ('police', 2),\n",
       " ('brutality.', 2),\n",
       " ('no,', 2),\n",
       " ('mighty', 2),\n",
       " ('jail', 2),\n",
       " ('quest', 2),\n",
       " ('faith', 2),\n",
       " ('mississippi,', 2),\n",
       " ('alabama,', 2),\n",
       " ('south', 2),\n",
       " ('georgia,', 2),\n",
       " ('knowing', 2),\n",
       " ('dream.', 2),\n",
       " ('live', 2),\n",
       " ('sons', 2),\n",
       " ('former', 2),\n",
       " ('heat', 2),\n",
       " ('today!', 2),\n",
       " ('boys', 2),\n",
       " ('girls', 2),\n",
       " ('hands', 2),\n",
       " ('hill', 2),\n",
       " ('stone', 2),\n",
       " ('sing', 2),\n",
       " ('mountainside,', 2),\n",
       " ('happy', 1),\n",
       " ('demonstration', 1),\n",
       " ('five', 1),\n",
       " ('score', 1),\n",
       " ('ago,', 1),\n",
       " ('american,', 1),\n",
       " ('symbolic', 1),\n",
       " ('shadow', 1),\n",
       " ('signed', 1),\n",
       " ('emancipation', 1),\n",
       " ('proclamation.', 1),\n",
       " ('momentous', 1),\n",
       " ('decree', 1),\n",
       " ('beacon', 1),\n",
       " ('light', 1),\n",
       " ('millions', 1),\n",
       " ('seared', 1),\n",
       " ('flames', 1),\n",
       " ('withering', 1),\n",
       " ('injustice.', 1),\n",
       " ('joyous', 1),\n",
       " ('daybreak', 1),\n",
       " ('night', 1),\n",
       " ('captivity.', 1),\n",
       " ('free.', 1),\n",
       " ('life', 1),\n",
       " ('sadly', 1),\n",
       " ('crippled', 1),\n",
       " ('manacles', 1),\n",
       " ('chains', 1),\n",
       " ('discrimination.', 1),\n",
       " ('lives', 1),\n",
       " ('lonely', 1),\n",
       " ('island', 1),\n",
       " ('poverty', 1),\n",
       " ('midst', 1),\n",
       " ('vast', 1),\n",
       " ('ocean', 1),\n",
       " ('material', 1),\n",
       " ('prosperity.', 1),\n",
       " ('languished', 1),\n",
       " ('corners', 1),\n",
       " ('society', 1),\n",
       " ('exile', 1),\n",
       " ('own', 1),\n",
       " ('land.', 1),\n",
       " ('dramatize', 1),\n",
       " ('shameful', 1),\n",
       " ('condition.', 1),\n",
       " ('sense', 1),\n",
       " (\"nation's\", 1),\n",
       " ('capital', 1),\n",
       " ('check.', 1),\n",
       " ('architects', 1),\n",
       " ('republic', 1),\n",
       " ('wrote', 1),\n",
       " ('magnificent', 1),\n",
       " ('constitution', 1),\n",
       " ('declaration', 1),\n",
       " ('independence,', 1),\n",
       " ('signing', 1),\n",
       " ('fall', 1),\n",
       " ('heir.', 1),\n",
       " ('promise', 1),\n",
       " ('yes,', 1),\n",
       " ('guaranteed', 1),\n",
       " ('\"unalienable', 1),\n",
       " ('rights\"', 1),\n",
       " ('\"life,', 1),\n",
       " ('liberty', 1),\n",
       " ('pursuit', 1),\n",
       " ('happiness.\"', 1),\n",
       " ('obvious', 1),\n",
       " ('defaulted', 1),\n",
       " ('note,', 1),\n",
       " ('insofar', 1),\n",
       " ('citizens', 1),\n",
       " ('concerned.', 1),\n",
       " ('instead', 1),\n",
       " ('honoring', 1),\n",
       " ('sacred', 1),\n",
       " ('obligation,', 1),\n",
       " ('people', 1),\n",
       " ('bad', 1),\n",
       " ('marked', 1),\n",
       " ('\"insufficient', 1),\n",
       " ('funds.\"', 1),\n",
       " ('bank', 1),\n",
       " ('bankrupt.', 1),\n",
       " ('insufficient', 1),\n",
       " ('funds', 1),\n",
       " ('vaults', 1),\n",
       " ('opportunity', 1),\n",
       " ('so,', 1),\n",
       " ('demand', 1),\n",
       " ('riches', 1),\n",
       " ('security', 1),\n",
       " ('hallowed', 1),\n",
       " ('spot', 1),\n",
       " ('remind', 1),\n",
       " ('fierce', 1),\n",
       " ('now.', 1),\n",
       " ('engage', 1),\n",
       " ('luxury', 1),\n",
       " ('cooling', 1),\n",
       " ('tranquilizing', 1),\n",
       " ('drug', 1),\n",
       " ('gradualism.', 1),\n",
       " ('real', 1),\n",
       " ('promises', 1),\n",
       " ('democracy.', 1),\n",
       " ('dark', 1),\n",
       " ('desolate', 1),\n",
       " ('sunlit', 1),\n",
       " ('path', 1),\n",
       " ('lift', 1),\n",
       " ('quicksands', 1),\n",
       " ('injustice', 1),\n",
       " ('solid', 1),\n",
       " ('rock', 1),\n",
       " ('reality', 1),\n",
       " ('children.', 1),\n",
       " ('fatal', 1),\n",
       " ('overlook', 1),\n",
       " ('moment.', 1),\n",
       " ('summer', 1),\n",
       " ('legitimate', 1),\n",
       " ('discontent', 1),\n",
       " ('pass', 1),\n",
       " ('invigorating', 1),\n",
       " ('autumn', 1),\n",
       " ('equality.', 1),\n",
       " ('nineteen', 1),\n",
       " ('sixty-three', 1),\n",
       " ('end,', 1),\n",
       " ('beginning.', 1),\n",
       " ('blow', 1),\n",
       " ('steam', 1),\n",
       " ('rude', 1),\n",
       " ('awakening', 1),\n",
       " ('returns', 1),\n",
       " ('business', 1),\n",
       " ('usual.', 1),\n",
       " ('neither', 1),\n",
       " ('rest', 1),\n",
       " ('nor', 1),\n",
       " ('tranquility', 1),\n",
       " ('granted', 1),\n",
       " ('citizenship', 1),\n",
       " ('rights.', 1),\n",
       " ('whirlwinds', 1),\n",
       " ('revolt', 1),\n",
       " ('shake', 1),\n",
       " ('foundations', 1),\n",
       " ('bright', 1),\n",
       " ('emerges.', 1),\n",
       " ('warm', 1),\n",
       " ('threshold', 1),\n",
       " ('leads', 1),\n",
       " ('palace', 1),\n",
       " ('justice:', 1),\n",
       " ('process', 1),\n",
       " ('gaining', 1),\n",
       " ('rightful', 1),\n",
       " ('place,', 1),\n",
       " ('guilty', 1),\n",
       " ('wrongful', 1),\n",
       " ('deeds.', 1),\n",
       " ('seek', 1),\n",
       " ('satisfy', 1),\n",
       " ('thirst', 1),\n",
       " ('drinking', 1),\n",
       " ('cup', 1),\n",
       " ('bitterness', 1),\n",
       " ('hatred.', 1),\n",
       " ('forever', 1),\n",
       " ('conduct', 1),\n",
       " ('plane', 1),\n",
       " ('discipline.', 1),\n",
       " ('protest', 1),\n",
       " ('degenerate', 1),\n",
       " ('violence.', 1),\n",
       " ('again,', 1),\n",
       " ('majestic', 1),\n",
       " ('heights', 1),\n",
       " ('meeting', 1),\n",
       " ('force', 1),\n",
       " ('soul', 1),\n",
       " ('force.', 1),\n",
       " ('marvelous', 1),\n",
       " ('militancy', 1),\n",
       " ('engulfed', 1),\n",
       " ('community', 1),\n",
       " ('lead', 1),\n",
       " ('distrust', 1),\n",
       " ('brothers,', 1),\n",
       " ('evidenced', 1),\n",
       " ('presence', 1),\n",
       " ('destiny', 1),\n",
       " ('tied', 1),\n",
       " ('destiny.', 1),\n",
       " ('inextricably', 1),\n",
       " ('bound', 1),\n",
       " ('freedom.', 1),\n",
       " ('walk', 1),\n",
       " ('alone.', 1),\n",
       " ('walk,', 1),\n",
       " ('pledge', 1),\n",
       " ('march', 1),\n",
       " ('ahead.', 1),\n",
       " ('back.', 1),\n",
       " ('devotees', 1),\n",
       " ('civil', 1),\n",
       " ('rights,', 1),\n",
       " ('\"when', 1),\n",
       " ('satisfied?\"', 1),\n",
       " ('victim', 1),\n",
       " ('unspeakable', 1),\n",
       " ('horrors', 1),\n",
       " ('bodies,', 1),\n",
       " ('heavy', 1),\n",
       " ('fatigue', 1),\n",
       " ('travel,', 1),\n",
       " ('gain', 1),\n",
       " ('lodging', 1),\n",
       " ('motels', 1),\n",
       " ('highways', 1),\n",
       " ('hotels', 1),\n",
       " ('cities.', 1),\n",
       " ('*we', 1),\n",
       " ('basic', 1),\n",
       " ('mobility', 1),\n",
       " ('ghetto', 1),\n",
       " ('larger', 1),\n",
       " ('one.', 1),\n",
       " ('stripped', 1),\n",
       " ('self-hood', 1),\n",
       " ('robbed', 1),\n",
       " ('signs', 1),\n",
       " ('stating:', 1),\n",
       " ('\"for', 1),\n",
       " ('whites', 1),\n",
       " ('only.\"*', 1),\n",
       " ('mississippi', 1),\n",
       " ('vote', 1),\n",
       " ('york', 1),\n",
       " ('believes', 1),\n",
       " ('vote.', 1),\n",
       " ('satisfied,', 1),\n",
       " ('\"justice', 1),\n",
       " ('rolls', 1),\n",
       " ('waters,', 1),\n",
       " ('righteousness', 1),\n",
       " ('stream.\"1', 1),\n",
       " ('unmindful', 1),\n",
       " ('trials', 1),\n",
       " ('tribulations.', 1),\n",
       " ('fresh', 1),\n",
       " ('narrow', 1),\n",
       " ('cells.', 1),\n",
       " ('left', 1),\n",
       " ('battered', 1),\n",
       " ('storms', 1),\n",
       " ('persecution', 1),\n",
       " ('staggered', 1),\n",
       " ('winds', 1),\n",
       " ('veterans', 1),\n",
       " ('suffering.', 1),\n",
       " ('unearned', 1),\n",
       " ('suffering', 1),\n",
       " ('redemptive.', 1),\n",
       " ('carolina,', 1),\n",
       " ('louisiana,', 1),\n",
       " ('slums', 1),\n",
       " ('ghettos', 1),\n",
       " ('northern', 1),\n",
       " ('cities,', 1),\n",
       " ('somehow', 1),\n",
       " ('situation', 1),\n",
       " ('changed.', 1),\n",
       " ('wallow', 1),\n",
       " ('despair,', 1),\n",
       " ('friends.', 1),\n",
       " ('difficulties', 1),\n",
       " ('tomorrow,', 1),\n",
       " ('deeply', 1),\n",
       " ('rooted', 1),\n",
       " ('true', 1),\n",
       " ('meaning', 1),\n",
       " ('creed:', 1),\n",
       " ('\"we', 1),\n",
       " ('hold', 1),\n",
       " ('truths', 1),\n",
       " ('self-evident,', 1),\n",
       " ('created', 1),\n",
       " ('equal.\"', 1),\n",
       " ('red', 1),\n",
       " ('hills', 1),\n",
       " ('slave', 1),\n",
       " ('owners', 1),\n",
       " ('sit', 1),\n",
       " ('table', 1),\n",
       " ('injustice,', 1),\n",
       " ('oppression,', 1),\n",
       " ('transformed', 1),\n",
       " ('oasis', 1),\n",
       " ('judged', 1),\n",
       " ('skin', 1),\n",
       " ('character.', 1),\n",
       " ('day,', 1),\n",
       " ('vicious', 1),\n",
       " ('racists,', 1),\n",
       " ('governor', 1),\n",
       " ('lips', 1),\n",
       " ('dripping', 1),\n",
       " ('\"interposition\"', 1),\n",
       " ('\"nullification\"', 1),\n",
       " ('alabama', 1),\n",
       " ('sisters', 1),\n",
       " ('brothers.', 1),\n",
       " ('exalted,', 1),\n",
       " ('low,', 1),\n",
       " ('rough', 1),\n",
       " ('plain,', 1),\n",
       " ('crooked', 1),\n",
       " ('straight;', 1),\n",
       " ('\"and', 1),\n",
       " ('glory', 1),\n",
       " ('lord', 1),\n",
       " ('revealed', 1),\n",
       " ('flesh', 1),\n",
       " ('together.\"2', 1),\n",
       " ('hope,', 1),\n",
       " ('with.', 1),\n",
       " ('hew', 1),\n",
       " ('despair', 1),\n",
       " ('hope.', 1),\n",
       " ('transform', 1),\n",
       " ('jangling', 1),\n",
       " ('discords', 1),\n",
       " ('beautiful', 1),\n",
       " ('symphony', 1),\n",
       " ('pray', 1),\n",
       " ('day.', 1),\n",
       " ('meaning:', 1),\n",
       " ('country', 1),\n",
       " (\"'tis\", 1),\n",
       " ('thee,', 1),\n",
       " ('sweet', 1),\n",
       " ('liberty,', 1),\n",
       " ('thee', 1),\n",
       " ('sing.', 1),\n",
       " ('fathers', 1),\n",
       " ('died,', 1),\n",
       " (\"pilgrim's\", 1),\n",
       " ('pride,', 1),\n",
       " ('ring!', 1),\n",
       " ('nation,', 1),\n",
       " ('true.', 1),\n",
       " ('prodigious', 1),\n",
       " ('hilltops', 1),\n",
       " ('hampshire.', 1),\n",
       " ('mountains', 1),\n",
       " ('york.', 1),\n",
       " ('heightening', 1),\n",
       " ('alleghenies', 1),\n",
       " ('pennsylvania.', 1),\n",
       " ('snow-capped', 1),\n",
       " ('rockies', 1),\n",
       " ('colorado.', 1),\n",
       " ('curvaceous', 1),\n",
       " ('slopes', 1),\n",
       " ('california.', 1),\n",
       " ('that:', 1),\n",
       " ('georgia.', 1),\n",
       " ('lookout', 1),\n",
       " ('tennessee.', 1),\n",
       " ('molehill', 1),\n",
       " ('mississippi.', 1),\n",
       " ('ring.', 1),\n",
       " ('happens,', 1),\n",
       " ('ring,', 1),\n",
       " ('village', 1),\n",
       " ('hamlet,', 1),\n",
       " ('city,', 1),\n",
       " ('speed', 1),\n",
       " ('children,', 1),\n",
       " ('jews', 1),\n",
       " ('gentiles,', 1),\n",
       " ('protestants', 1),\n",
       " ('catholics,', 1),\n",
       " ('spiritual:', 1),\n",
       " ('thank', 1),\n",
       " ('god', 1),\n",
       " ('almighty,', 1)]"
      ]
     },
     "execution_count": 370,
     "metadata": {},
     "output_type": "execute_result"
    }
   ],
   "source": [
    "sorted(d.items(), key = return_score, reverse = True)"
   ]
  },
  {
   "cell_type": "code",
   "execution_count": 372,
   "id": "ba8411a8",
   "metadata": {},
   "outputs": [],
   "source": [
    "def majorityCnt(d):\n",
    "    result  = sorted(d.items(), key = return_score, reverse = True)\n",
    "    return result[0]"
   ]
  },
  {
   "cell_type": "code",
   "execution_count": 373,
   "id": "c7301826",
   "metadata": {},
   "outputs": [
    {
     "name": "stdout",
     "output_type": "stream",
     "text": [
      "('freedom', 19)\n"
     ]
    }
   ],
   "source": [
    "most_freq_word = majorityCnt(d)\n",
    "print(most_freq_word)"
   ]
  },
  {
   "cell_type": "code",
   "execution_count": 374,
   "id": "e2d29f95",
   "metadata": {},
   "outputs": [],
   "source": [
    "def majorityCnt(d):\n",
    "    result = sorted(d.items(), key = lambda x : x[1], reverse = True)\n",
    "    return result[0]"
   ]
  },
  {
   "cell_type": "code",
   "execution_count": 375,
   "id": "a36995b4",
   "metadata": {},
   "outputs": [
    {
     "name": "stdout",
     "output_type": "stream",
     "text": [
      "('freedom', 19)\n"
     ]
    }
   ],
   "source": [
    "most_freq_word = majorityCnt(d)\n",
    "print(most_freq_word)"
   ]
  },
  {
   "cell_type": "markdown",
   "id": "78cf8509",
   "metadata": {},
   "source": [
    "**참고** \n",
    "- 단어 리스트에서 개별 단어들 strip 하려면"
   ]
  },
  {
   "cell_type": "code",
   "execution_count": 365,
   "id": "d36af080",
   "metadata": {},
   "outputs": [
    {
     "data": {
      "text/plain": [
       "['abc', 'def']"
      ]
     },
     "execution_count": 365,
     "metadata": {},
     "output_type": "execute_result"
    }
   ],
   "source": [
    "a = [\"abc\", \"def,\"]\n",
    "\n",
    "[word.strip(',.') for word in a]"
   ]
  },
  {
   "cell_type": "code",
   "execution_count": 366,
   "id": "ee68044d",
   "metadata": {},
   "outputs": [
    {
     "data": {
      "text/plain": [
       "['abc', 'def']"
      ]
     },
     "execution_count": 366,
     "metadata": {},
     "output_type": "execute_result"
    }
   ],
   "source": [
    "list(map(lambda x : x.strip(',.'), a))"
   ]
  },
  {
   "cell_type": "code",
   "execution_count": null,
   "id": "fd32eac2",
   "metadata": {},
   "outputs": [],
   "source": []
  }
 ],
 "metadata": {
  "kernelspec": {
   "display_name": "Python 3 (ipykernel)",
   "language": "python",
   "name": "python3"
  },
  "language_info": {
   "codemirror_mode": {
    "name": "ipython",
    "version": 3
   },
   "file_extension": ".py",
   "mimetype": "text/x-python",
   "name": "python",
   "nbconvert_exporter": "python",
   "pygments_lexer": "ipython3",
   "version": "3.9.12"
  }
 },
 "nbformat": 4,
 "nbformat_minor": 5
}
