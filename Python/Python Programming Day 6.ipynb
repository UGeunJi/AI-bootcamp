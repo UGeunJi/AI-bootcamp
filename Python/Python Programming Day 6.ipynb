{
 "cells": [
  {
   "cell_type": "markdown",
   "id": "a51de31d",
   "metadata": {},
   "source": [
    "# 예외 처리하기\n",
    "- 예외처리는 에러가 발생하더라도 스크립트 실행을 중단하지 않고 계속 실행하고자 할 때 사용함"
   ]
  },
  {
   "cell_type": "code",
   "execution_count": null,
   "id": "47613050",
   "metadata": {},
   "outputs": [],
   "source": [
    "x = int(input(\"나눌 숫자를 입력하세요: \"))\n",
    "\n",
    "y = 10 / x\n",
    "print(y)"
   ]
  },
  {
   "cell_type": "markdown",
   "id": "0e87266e",
   "metadata": {},
   "source": [
    "```\n",
    "try:\n",
    "    실행할 코드\n",
    "except:\n",
    "    예외가 발생했을 때 처리할 코드\n",
    "```"
   ]
  },
  {
   "cell_type": "code",
   "execution_count": 15,
   "id": "db8de697",
   "metadata": {},
   "outputs": [
    {
     "name": "stdout",
     "output_type": "stream",
     "text": [
      "나눌 숫자를 입력하세요: ㄹ\n",
      "예외가 발생했습니다.\n"
     ]
    }
   ],
   "source": [
    "try:\n",
    "    x = int(input(\"나눌 숫자를 입력하세요: \"))\n",
    "    y = 10 / x\n",
    "    print(y)\n",
    "except:\n",
    "    print(\"예외가 발생했습니다.\")"
   ]
  },
  {
   "cell_type": "code",
   "execution_count": 17,
   "id": "3b738cd8",
   "metadata": {},
   "outputs": [
    {
     "name": "stdout",
     "output_type": "stream",
     "text": [
      "나눌 숫자를 입력하세요: 0\n",
      "예외가 발생했습니다.\n",
      "0이 아닌 숫자를 다시 입력해주세요: 2\n",
      "5.0\n"
     ]
    }
   ],
   "source": [
    "try:\n",
    "    x = int(input(\"나눌 숫자를 입력하세요: \"))\n",
    "    y = 10 / x\n",
    "    print(y)\n",
    "except:\n",
    "    print(\"예외가 발생했습니다.\")\n",
    "    x = int(input(\"0이 아닌 숫자를 다시 입력해주세요: \"))\n",
    "    y = 10 / x\n",
    "    print(y)"
   ]
  },
  {
   "cell_type": "markdown",
   "id": "857109d7",
   "metadata": {},
   "source": [
    "```\n",
    "특정 예외만 처리하기\n",
    "\n",
    "try:\n",
    "    실행할 코드\n",
    "except 예외이름1:\n",
    "    예외가 발생했을 때 처리할 코드\n",
    "except 예외이름2:\n",
    "    예외가 발생했을 때 처리할 코드\n",
    "```"
   ]
  },
  {
   "cell_type": "code",
   "execution_count": 19,
   "id": "df15567e",
   "metadata": {},
   "outputs": [
    {
     "name": "stdout",
     "output_type": "stream",
     "text": [
      "나눌 숫자를 입력하세요: 0\n",
      "0으로 나눌 수 없습니다.\n"
     ]
    }
   ],
   "source": [
    "try:\n",
    "    x = int(input(\"나눌 숫자를 입력하세요: \"))\n",
    "    y = 10 / x\n",
    "    print(y)\n",
    "except ZeroDivisionError:\n",
    "    print(\"0으로 나눌 수 없습니다.\")"
   ]
  },
  {
   "cell_type": "code",
   "execution_count": 25,
   "id": "7cca46c1",
   "metadata": {},
   "outputs": [
    {
     "name": "stdout",
     "output_type": "stream",
     "text": [
      "인덱스를 입력하세요0\n",
      "10\n"
     ]
    }
   ],
   "source": [
    "y = [10, 20, 30]\n",
    "index = int(input(\"인덱스를 입력하세요\"))\n",
    "print(y[index])"
   ]
  },
  {
   "cell_type": "code",
   "execution_count": 32,
   "id": "c8e1fa1e",
   "metadata": {},
   "outputs": [
    {
     "name": "stdout",
     "output_type": "stream",
     "text": [
      "인덱스와 나눌 숫자를 입력하세요: 3 0\n",
      "잘못된 인덱스입니다.\n"
     ]
    }
   ],
   "source": [
    "y = [10, 20, 30]\n",
    "\n",
    "try:\n",
    "    index, x = map(int, input(\"인덱스와 나눌 숫자를 입력하세요: \").split())\n",
    "    y = y[index] / x\n",
    "    print(y)\n",
    "    \n",
    "except ZeroDivisionError:\n",
    "    print(\"0으로 나눌 수 없습니다.\")\n",
    "    \n",
    "except IndexError:\n",
    "    print(\"잘못된 인덱스입니다.\")"
   ]
  },
  {
   "cell_type": "markdown",
   "id": "0dbe0ffb",
   "metadata": {},
   "source": [
    "```\n",
    "예외 메시지 출력하기\n",
    "\n",
    "try:\n",
    "    실행할 코드\n",
    "except 예외이름1 as 변수:\n",
    "    예외가 발생했을 때 처리할 코드\n",
    "```"
   ]
  },
  {
   "cell_type": "code",
   "execution_count": 33,
   "id": "2185c008",
   "metadata": {},
   "outputs": [
    {
     "name": "stdout",
     "output_type": "stream",
     "text": [
      "인덱스와 나눌 숫자를 입력하세요: 0 0\n",
      "0으로 나눌 수 없습니다. division by zero\n"
     ]
    }
   ],
   "source": [
    "y = [10, 20, 30]\n",
    "\n",
    "try:\n",
    "    index, x = map(int, input(\"인덱스와 나눌 숫자를 입력하세요: \").split())\n",
    "    y = y[index] / x\n",
    "    print(y)\n",
    "    \n",
    "except ZeroDivisionError as e:\n",
    "    print(\"0으로 나눌 수 없습니다.\", e)\n",
    "    \n",
    "except IndexError as e:\n",
    "    print(\"잘못된 인덱스입니다.\", e)"
   ]
  },
  {
   "cell_type": "code",
   "execution_count": 34,
   "id": "1b58cc17",
   "metadata": {},
   "outputs": [
    {
     "name": "stdout",
     "output_type": "stream",
     "text": [
      "인덱스와 나눌 숫자를 입력하세요: 3 2\n",
      "잘못된 인덱스입니다. list index out of range\n"
     ]
    }
   ],
   "source": [
    "y = [10, 20, 30]\n",
    "\n",
    "try:\n",
    "    index, x = map(int, input(\"인덱스와 나눌 숫자를 입력하세요: \").split())\n",
    "    y = y[index] / x\n",
    "    print(y)\n",
    "    \n",
    "except ZeroDivisionError as e:\n",
    "    print(\"0으로 나눌 수 없습니다.\", e)\n",
    "    \n",
    "except IndexError as e:\n",
    "    print(\"잘못된 인덱스입니다.\", e)"
   ]
  },
  {
   "cell_type": "markdown",
   "id": "69ac3eb1",
   "metadata": {},
   "source": [
    "```\n",
    "예외 발생 여부에 따라 분기\n",
    "\n",
    "try:\n",
    "    실행할 코드\n",
    "except 예외이름1 as 변수:\n",
    "    예외가 발생했을 때 처리할 코드\n",
    "else:\n",
    "    예외가 발생하지 않았을 때 실행할 코드\n",
    "```"
   ]
  },
  {
   "cell_type": "code",
   "execution_count": 35,
   "id": "9c12c382",
   "metadata": {},
   "outputs": [
    {
     "name": "stdout",
     "output_type": "stream",
     "text": [
      "인덱스와 나눌 숫자를 입력하세요: 0 2\n",
      "5.0\n"
     ]
    }
   ],
   "source": [
    "y = [10, 20, 30]\n",
    "\n",
    "try:\n",
    "    index, x = map(int, input(\"인덱스와 나눌 숫자를 입력하세요: \").split())\n",
    "    y = y[index] / x    # <-- 문제가 생겼을 때 예외가 발생하는 위치\n",
    "    \n",
    "except ZeroDivisionError as e:\n",
    "    print(\"0으로 나눌 수 없습니다.\", e)\n",
    "    \n",
    "except IndexError as e:\n",
    "    print(\"잘못된 인덱스입니다.\", e)\n",
    "\n",
    "else:\n",
    "    print(y)"
   ]
  },
  {
   "cell_type": "markdown",
   "id": "38837f2b",
   "metadata": {},
   "source": [
    "```\n",
    "예외 발생 여부 상관없이 처리(finally)\n",
    "\n",
    "try:\n",
    "    실행할 코드\n",
    "except 예외이름1 as 변수:\n",
    "    예외가 발생했을 때 처리할 코드\n",
    "else:\n",
    "    예외가 발생하지 않았을 때 실행할 코드\n",
    "finally:\n",
    "    예외 발생 여부와 상관없이 항상 실행할 코드\n",
    "```"
   ]
  },
  {
   "cell_type": "code",
   "execution_count": 39,
   "id": "0d5eafe0",
   "metadata": {},
   "outputs": [
    {
     "name": "stdout",
     "output_type": "stream",
     "text": [
      "인덱스와 나눌 숫자를 입력하세요: 0 2\n",
      "5.0\n",
      "프로그램이 종료되었습니다.\n"
     ]
    }
   ],
   "source": [
    "y = [10, 20, 30]\n",
    "\n",
    "try:\n",
    "    index, x = map(int, input(\"인덱스와 나눌 숫자를 입력하세요: \").split())\n",
    "    y = y[index] / x    # <-- 문제가 생겼을 때 예외가 발생하는 위치\n",
    "    \n",
    "except ZeroDivisionError as e:\n",
    "    print(\"0으로 나눌 수 없습니다.\", e)\n",
    "    \n",
    "except IndexError as e:\n",
    "    print(\"잘못된 인덱스입니다.\", e)\n",
    "\n",
    "else:\n",
    "    print(y)\n",
    "    \n",
    "finally:\n",
    "    print(\"프로그램이 종료되었습니다.\")"
   ]
  },
  {
   "cell_type": "markdown",
   "id": "26869fe1",
   "metadata": {},
   "source": [
    "```\n",
    "예외 발생시키기\n",
    "\n",
    "raisse exeeption(\"에러메시지\")\n",
    "```"
   ]
  },
  {
   "cell_type": "code",
   "execution_count": 53,
   "id": "080a4fe5",
   "metadata": {},
   "outputs": [
    {
     "name": "stdout",
     "output_type": "stream",
     "text": [
      "3의 배수를 입력하세요: 2\n"
     ]
    },
    {
     "ename": "Exception",
     "evalue": "3의 배수가 아닙니다.",
     "output_type": "error",
     "traceback": [
      "\u001b[1;31m---------------------------------------------------------------------------\u001b[0m",
      "\u001b[1;31mException\u001b[0m                                 Traceback (most recent call last)",
      "Input \u001b[1;32mIn [53]\u001b[0m, in \u001b[0;36m<cell line: 2>\u001b[1;34m()\u001b[0m\n\u001b[0;32m      1\u001b[0m x \u001b[38;5;241m=\u001b[39m \u001b[38;5;28mint\u001b[39m(\u001b[38;5;28minput\u001b[39m(\u001b[38;5;124m\"\u001b[39m\u001b[38;5;124m3의 배수를 입력하세요: \u001b[39m\u001b[38;5;124m\"\u001b[39m))\n\u001b[0;32m      2\u001b[0m \u001b[38;5;28;01mif\u001b[39;00m x \u001b[38;5;241m%\u001b[39m \u001b[38;5;241m3\u001b[39m \u001b[38;5;241m!=\u001b[39m \u001b[38;5;241m0\u001b[39m:    \u001b[38;5;66;03m# 3으로 나눴을 때 나머지가 0이 아닌 때\u001b[39;00m\n\u001b[1;32m----> 3\u001b[0m     \u001b[38;5;28;01mraise\u001b[39;00m \u001b[38;5;167;01mException\u001b[39;00m(\u001b[38;5;124m\"\u001b[39m\u001b[38;5;124m3의 배수가 아닙니다.\u001b[39m\u001b[38;5;124m\"\u001b[39m)\n",
      "\u001b[1;31mException\u001b[0m: 3의 배수가 아닙니다."
     ]
    }
   ],
   "source": [
    "x = int(input(\"3의 배수를 입력하세요: \"))\n",
    "if x % 3 != 0:    # 3으로 나눴을 때 나머지가 0이 아닌 때\n",
    "    raise Exception(\"3의 배수가 아닙니다.\")"
   ]
  },
  {
   "cell_type": "code",
   "execution_count": 47,
   "id": "66650c57",
   "metadata": {},
   "outputs": [
    {
     "name": "stdout",
     "output_type": "stream",
     "text": [
      "3의 배수를 입력하세요: 2\n",
      "예외가 발생했습니다. 3의 배수가 아닙니다.\n"
     ]
    }
   ],
   "source": [
    "try:\n",
    "    x = int(input(\"3의 배수를 입력하세요: \"))\n",
    "    if x % 3 != 0:    # 3으로 나눴을 때 나머지가 0이 아닌 때\n",
    "        raise Exception(\"3의 배수가 아닙니다.\")\n",
    "except Exception as e:     # e는 에러메시지를 받는 공간\n",
    "    print(\"예외가 발생했습니다.\", e) "
   ]
  },
  {
   "cell_type": "markdown",
   "id": "2d182722",
   "metadata": {},
   "source": [
    "# 이터레이터\n",
    "\n",
    "- **이터레이터(iterator)**는 값을 차례대로 꺼낼 수 있는 객체(object)\n",
    "- 파이썬에서는 이터레이터만 생성하고 값이 \"필요한 시점\" 되었을 때 값을 만드는 방식을 사용\n",
    "- 데이터 생성을 뒤로 미루는 방식을 지연평가(lazy evaluation)라고 함\n",
    "\n",
    "\n",
    "- **반복 가능한 객체** 는 말 그대로 반복할 수 있는 객체인데 문자열, 리스트, 딕셔너리, 세트가 그 예임\n",
    "- 객체 안에 요소가 여러 개 들어있고, 한 번에 하나씩 꺼낼 수 있는 객체\n",
    "\n",
    "\n",
    "- 객체가 반복 가능한 객체인지 알아보는 방법은 객체의 iter 메서드가 들어 있는지 확인해 보면 됨"
   ]
  },
  {
   "cell_type": "code",
   "execution_count": 54,
   "id": "5d92f150",
   "metadata": {},
   "outputs": [
    {
     "data": {
      "text/plain": [
       "[1, 2, 3]"
      ]
     },
     "execution_count": 54,
     "metadata": {},
     "output_type": "execute_result"
    }
   ],
   "source": [
    "l = [1, 2, 3]\n",
    "l    # 반복 가능한 객체"
   ]
  },
  {
   "cell_type": "code",
   "execution_count": 55,
   "id": "61f16cdb",
   "metadata": {},
   "outputs": [
    {
     "data": {
      "text/plain": [
       "['__add__',\n",
       " '__class__',\n",
       " '__class_getitem__',\n",
       " '__contains__',\n",
       " '__delattr__',\n",
       " '__delitem__',\n",
       " '__dir__',\n",
       " '__doc__',\n",
       " '__eq__',\n",
       " '__format__',\n",
       " '__ge__',\n",
       " '__getattribute__',\n",
       " '__getitem__',\n",
       " '__gt__',\n",
       " '__hash__',\n",
       " '__iadd__',\n",
       " '__imul__',\n",
       " '__init__',\n",
       " '__init_subclass__',\n",
       " '__iter__',\n",
       " '__le__',\n",
       " '__len__',\n",
       " '__lt__',\n",
       " '__mul__',\n",
       " '__ne__',\n",
       " '__new__',\n",
       " '__reduce__',\n",
       " '__reduce_ex__',\n",
       " '__repr__',\n",
       " '__reversed__',\n",
       " '__rmul__',\n",
       " '__setattr__',\n",
       " '__setitem__',\n",
       " '__sizeof__',\n",
       " '__str__',\n",
       " '__subclasshook__',\n",
       " 'append',\n",
       " 'clear',\n",
       " 'copy',\n",
       " 'count',\n",
       " 'extend',\n",
       " 'index',\n",
       " 'insert',\n",
       " 'pop',\n",
       " 'remove',\n",
       " 'reverse',\n",
       " 'sort']"
      ]
     },
     "execution_count": 55,
     "metadata": {},
     "output_type": "execute_result"
    }
   ],
   "source": [
    "dir(l)"
   ]
  },
  {
   "cell_type": "code",
   "execution_count": 58,
   "id": "0076aa6f",
   "metadata": {},
   "outputs": [
    {
     "data": {
      "text/plain": [
       "<list_iterator at 0x23bce752e20>"
      ]
     },
     "execution_count": 58,
     "metadata": {},
     "output_type": "execute_result"
    }
   ],
   "source": [
    "iter = l.__iter__()    # l = [1, 2, 3]\n",
    "iter                   # 이터레이터"
   ]
  },
  {
   "cell_type": "code",
   "execution_count": 59,
   "id": "16c3a49c",
   "metadata": {},
   "outputs": [
    {
     "data": {
      "text/plain": [
       "1"
      ]
     },
     "execution_count": 59,
     "metadata": {},
     "output_type": "execute_result"
    }
   ],
   "source": [
    "iter.__next__()    # 실체가 없는 것의 데이터를 가져온 것임"
   ]
  },
  {
   "cell_type": "code",
   "execution_count": 60,
   "id": "7dc6ebf0",
   "metadata": {},
   "outputs": [
    {
     "data": {
      "text/plain": [
       "2"
      ]
     },
     "execution_count": 60,
     "metadata": {},
     "output_type": "execute_result"
    }
   ],
   "source": [
    "iter.__next__()"
   ]
  },
  {
   "cell_type": "code",
   "execution_count": 61,
   "id": "d367f699",
   "metadata": {},
   "outputs": [
    {
     "data": {
      "text/plain": [
       "3"
      ]
     },
     "execution_count": 61,
     "metadata": {},
     "output_type": "execute_result"
    }
   ],
   "source": [
    "iter.__next__()"
   ]
  },
  {
   "cell_type": "code",
   "execution_count": 62,
   "id": "8bd321bb",
   "metadata": {},
   "outputs": [
    {
     "ename": "StopIteration",
     "evalue": "",
     "output_type": "error",
     "traceback": [
      "\u001b[1;31m---------------------------------------------------------------------------\u001b[0m",
      "\u001b[1;31mStopIteration\u001b[0m                             Traceback (most recent call last)",
      "Input \u001b[1;32mIn [62]\u001b[0m, in \u001b[0;36m<cell line: 1>\u001b[1;34m()\u001b[0m\n\u001b[1;32m----> 1\u001b[0m \u001b[38;5;28;43miter\u001b[39;49m\u001b[38;5;241;43m.\u001b[39;49m\u001b[38;5;21;43m__next__\u001b[39;49m\u001b[43m(\u001b[49m\u001b[43m)\u001b[49m\n",
      "\u001b[1;31mStopIteration\u001b[0m: "
     ]
    }
   ],
   "source": [
    "iter.__next__()"
   ]
  },
  {
   "cell_type": "code",
   "execution_count": null,
   "id": "f1478ebf",
   "metadata": {},
   "outputs": [],
   "source": [
    "for i in range(10):\n",
    "    print(i)"
   ]
  },
  {
   "cell_type": "code",
   "execution_count": 63,
   "id": "38e5e2f0",
   "metadata": {},
   "outputs": [
    {
     "data": {
      "text/plain": [
       "'Hello World'"
      ]
     },
     "execution_count": 63,
     "metadata": {},
     "output_type": "execute_result"
    }
   ],
   "source": [
    "s = \"Hello World\"\n",
    "s # 반복 가능한 객체"
   ]
  },
  {
   "cell_type": "code",
   "execution_count": 64,
   "id": "0a19cb14",
   "metadata": {},
   "outputs": [
    {
     "data": {
      "text/plain": [
       "['__add__',\n",
       " '__class__',\n",
       " '__contains__',\n",
       " '__delattr__',\n",
       " '__dir__',\n",
       " '__doc__',\n",
       " '__eq__',\n",
       " '__format__',\n",
       " '__ge__',\n",
       " '__getattribute__',\n",
       " '__getitem__',\n",
       " '__getnewargs__',\n",
       " '__gt__',\n",
       " '__hash__',\n",
       " '__init__',\n",
       " '__init_subclass__',\n",
       " '__iter__',\n",
       " '__le__',\n",
       " '__len__',\n",
       " '__lt__',\n",
       " '__mod__',\n",
       " '__mul__',\n",
       " '__ne__',\n",
       " '__new__',\n",
       " '__reduce__',\n",
       " '__reduce_ex__',\n",
       " '__repr__',\n",
       " '__rmod__',\n",
       " '__rmul__',\n",
       " '__setattr__',\n",
       " '__sizeof__',\n",
       " '__str__',\n",
       " '__subclasshook__',\n",
       " 'capitalize',\n",
       " 'casefold',\n",
       " 'center',\n",
       " 'count',\n",
       " 'encode',\n",
       " 'endswith',\n",
       " 'expandtabs',\n",
       " 'find',\n",
       " 'format',\n",
       " 'format_map',\n",
       " 'index',\n",
       " 'isalnum',\n",
       " 'isalpha',\n",
       " 'isascii',\n",
       " 'isdecimal',\n",
       " 'isdigit',\n",
       " 'isidentifier',\n",
       " 'islower',\n",
       " 'isnumeric',\n",
       " 'isprintable',\n",
       " 'isspace',\n",
       " 'istitle',\n",
       " 'isupper',\n",
       " 'join',\n",
       " 'ljust',\n",
       " 'lower',\n",
       " 'lstrip',\n",
       " 'maketrans',\n",
       " 'partition',\n",
       " 'removeprefix',\n",
       " 'removesuffix',\n",
       " 'replace',\n",
       " 'rfind',\n",
       " 'rindex',\n",
       " 'rjust',\n",
       " 'rpartition',\n",
       " 'rsplit',\n",
       " 'rstrip',\n",
       " 'split',\n",
       " 'splitlines',\n",
       " 'startswith',\n",
       " 'strip',\n",
       " 'swapcase',\n",
       " 'title',\n",
       " 'translate',\n",
       " 'upper',\n",
       " 'zfill']"
      ]
     },
     "execution_count": 64,
     "metadata": {},
     "output_type": "execute_result"
    }
   ],
   "source": [
    "dir(s)"
   ]
  },
  {
   "cell_type": "code",
   "execution_count": 65,
   "id": "3c2e351e",
   "metadata": {},
   "outputs": [
    {
     "data": {
      "text/plain": [
       "<str_iterator at 0x23bcca0c550>"
      ]
     },
     "execution_count": 65,
     "metadata": {},
     "output_type": "execute_result"
    }
   ],
   "source": [
    "s.__iter__()"
   ]
  },
  {
   "cell_type": "code",
   "execution_count": 68,
   "id": "282a085b",
   "metadata": {},
   "outputs": [],
   "source": [
    "d = {\"a\": 1, \"b\": 2}"
   ]
  },
  {
   "cell_type": "code",
   "execution_count": 69,
   "id": "8fd3416c",
   "metadata": {},
   "outputs": [
    {
     "data": {
      "text/plain": [
       "<dict_keyiterator at 0x23bcea84a40>"
      ]
     },
     "execution_count": 69,
     "metadata": {},
     "output_type": "execute_result"
    }
   ],
   "source": [
    "d.__iter__()"
   ]
  },
  {
   "cell_type": "markdown",
   "id": "e07cb0d4",
   "metadata": {},
   "source": [
    "# 이터레이터 만들기"
   ]
  },
  {
   "cell_type": "markdown",
   "id": "da78a7ae",
   "metadata": {},
   "source": [
    "```\n",
    "class 이터레이터 이름:\n",
    "    def __iter__(self):\n",
    "        코드\n",
    "    def __next__(self):\n",
    "        코드\n",
    "```"
   ]
  },
  {
   "cell_type": "code",
   "execution_count": 93,
   "id": "b3ccd9a1",
   "metadata": {},
   "outputs": [],
   "source": [
    "# range()와 유사한 이터레이터\n",
    "\n",
    "class myrange:\n",
    "    def __init__(self, stop):\n",
    "        self.current = 0\n",
    "        self.stop = stop\n",
    "        \n",
    "    def __iter__(self):\n",
    "        return self\n",
    "    \n",
    "    def __next__(self):\n",
    "        if self.current < self.stop:\n",
    "            r = self.current\n",
    "            self.current += 1\n",
    "            return r\n",
    "        \n",
    "        else:\n",
    "            raise StopIteration"
   ]
  },
  {
   "cell_type": "code",
   "execution_count": 94,
   "id": "c0b93ff9",
   "metadata": {},
   "outputs": [
    {
     "name": "stdout",
     "output_type": "stream",
     "text": [
      "0\n",
      "1\n",
      "2\n"
     ]
    }
   ],
   "source": [
    "for i in myrange(3):\n",
    "    print(i)"
   ]
  },
  {
   "cell_type": "code",
   "execution_count": 95,
   "id": "b457e0e8",
   "metadata": {},
   "outputs": [
    {
     "data": {
      "text/plain": [
       "<__main__.myrange at 0x23bcf7230a0>"
      ]
     },
     "execution_count": 95,
     "metadata": {},
     "output_type": "execute_result"
    }
   ],
   "source": [
    "it = myrange(3).__iter__()\n",
    "it"
   ]
  },
  {
   "cell_type": "code",
   "execution_count": 96,
   "id": "d25d2cbe",
   "metadata": {},
   "outputs": [
    {
     "data": {
      "text/plain": [
       "0"
      ]
     },
     "execution_count": 96,
     "metadata": {},
     "output_type": "execute_result"
    }
   ],
   "source": [
    "it.__next__()"
   ]
  },
  {
   "cell_type": "code",
   "execution_count": 97,
   "id": "a05469be",
   "metadata": {},
   "outputs": [
    {
     "data": {
      "text/plain": [
       "1"
      ]
     },
     "execution_count": 97,
     "metadata": {},
     "output_type": "execute_result"
    }
   ],
   "source": [
    "it.__next__()"
   ]
  },
  {
   "cell_type": "code",
   "execution_count": 98,
   "id": "790c3d36",
   "metadata": {},
   "outputs": [
    {
     "data": {
      "text/plain": [
       "2"
      ]
     },
     "execution_count": 98,
     "metadata": {},
     "output_type": "execute_result"
    }
   ],
   "source": [
    "it.__next__()"
   ]
  },
  {
   "cell_type": "code",
   "execution_count": 99,
   "id": "8db18e28",
   "metadata": {},
   "outputs": [
    {
     "ename": "StopIteration",
     "evalue": "",
     "output_type": "error",
     "traceback": [
      "\u001b[1;31m---------------------------------------------------------------------------\u001b[0m",
      "\u001b[1;31mStopIteration\u001b[0m                             Traceback (most recent call last)",
      "Input \u001b[1;32mIn [99]\u001b[0m, in \u001b[0;36m<cell line: 1>\u001b[1;34m()\u001b[0m\n\u001b[1;32m----> 1\u001b[0m \u001b[43mit\u001b[49m\u001b[38;5;241;43m.\u001b[39;49m\u001b[38;5;21;43m__next__\u001b[39;49m\u001b[43m(\u001b[49m\u001b[43m)\u001b[49m\n",
      "Input \u001b[1;32mIn [93]\u001b[0m, in \u001b[0;36mmyrange.__next__\u001b[1;34m(self)\u001b[0m\n\u001b[0;32m     15\u001b[0m     \u001b[38;5;28;01mreturn\u001b[39;00m r\n\u001b[0;32m     17\u001b[0m \u001b[38;5;28;01melse\u001b[39;00m:\n\u001b[1;32m---> 18\u001b[0m     \u001b[38;5;28;01mraise\u001b[39;00m \u001b[38;5;167;01mStopIteration\u001b[39;00m\n",
      "\u001b[1;31mStopIteration\u001b[0m: "
     ]
    }
   ],
   "source": [
    "it.__next__()"
   ]
  },
  {
   "cell_type": "code",
   "execution_count": 103,
   "id": "f459b33a",
   "metadata": {},
   "outputs": [
    {
     "data": {
      "text/plain": [
       "4"
      ]
     },
     "execution_count": 103,
     "metadata": {},
     "output_type": "execute_result"
    }
   ],
   "source": [
    "range(10)[4]"
   ]
  },
  {
   "cell_type": "code",
   "execution_count": 104,
   "id": "1fa4ecff",
   "metadata": {},
   "outputs": [
    {
     "ename": "TypeError",
     "evalue": "'myrange' object is not subscriptable",
     "output_type": "error",
     "traceback": [
      "\u001b[1;31m---------------------------------------------------------------------------\u001b[0m",
      "\u001b[1;31mTypeError\u001b[0m                                 Traceback (most recent call last)",
      "Input \u001b[1;32mIn [104]\u001b[0m, in \u001b[0;36m<cell line: 1>\u001b[1;34m()\u001b[0m\n\u001b[1;32m----> 1\u001b[0m \u001b[43mmyrange\u001b[49m\u001b[43m(\u001b[49m\u001b[38;5;241;43m10\u001b[39;49m\u001b[43m)\u001b[49m\u001b[43m[\u001b[49m\u001b[38;5;241;43m0\u001b[39;49m\u001b[43m]\u001b[49m\n",
      "\u001b[1;31mTypeError\u001b[0m: 'myrange' object is not subscriptable"
     ]
    }
   ],
   "source": [
    "myrange(10)[0]      # 색인은 되지 않음. range()와 완전히 같진 않음."
   ]
  },
  {
   "cell_type": "markdown",
   "id": "733df601",
   "metadata": {},
   "source": [
    "**인덱스로 접근할 수 있는 이터레이터 만들기**\n",
    "- **getitem()** 함수 작성\n",
    "- 딥러닝 프레임워크에 데이터셋을 준비할 때 이런 방식이 사용됨"
   ]
  },
  {
   "cell_type": "markdown",
   "id": "6ec99356",
   "metadata": {},
   "source": [
    "```\n",
    "class 이터레이터이름:\n",
    "    def __getitem__(self, 인덱스):\n",
    "        코드\n",
    "```"
   ]
  },
  {
   "cell_type": "code",
   "execution_count": 107,
   "id": "3740bc49",
   "metadata": {},
   "outputs": [],
   "source": [
    "class myrange:\n",
    "    def __init__(self, stop):\n",
    "        self.stop = stop\n",
    "        \n",
    "    def __getitem__(self, index):\n",
    "        if index < self.stop:\n",
    "            return index\n",
    "        else:\n",
    "            raise IndexError"
   ]
  },
  {
   "cell_type": "code",
   "execution_count": 111,
   "id": "f9794c53",
   "metadata": {},
   "outputs": [
    {
     "data": {
      "text/plain": [
       "6"
      ]
     },
     "execution_count": 111,
     "metadata": {},
     "output_type": "execute_result"
    }
   ],
   "source": [
    "myrange(10)[6]"
   ]
  },
  {
   "cell_type": "markdown",
   "id": "02d5844e",
   "metadata": {},
   "source": [
    "# 제너레이터\n",
    "\n",
    "- 이터레이터를 만들어 주는 또다른 방식(함수를 사용)\n",
    "- 제너레이터는 이터레이터를 생성해 주는 함수\n",
    "- 이터레이터에서는 클래스 안에 iter(), next(), getitem()메서드들을 구현해야 하지만 제너레이터는 함수 안에서 yield라는 키워드만 사용하면 간단히 작성할 수 있음."
   ]
  },
  {
   "cell_type": "code",
   "execution_count": 114,
   "id": "202afd3c",
   "metadata": {},
   "outputs": [],
   "source": [
    "def myrange2(): # 함수로써 이터레이터를 만들 수 있음\n",
    "    yield 0\n",
    "    yield 1\n",
    "    yield 2\n",
    "    yield 5"
   ]
  },
  {
   "cell_type": "code",
   "execution_count": 115,
   "id": "9ef1be94",
   "metadata": {},
   "outputs": [
    {
     "name": "stdout",
     "output_type": "stream",
     "text": [
      "0\n",
      "1\n",
      "2\n",
      "5\n"
     ]
    }
   ],
   "source": [
    "for i in myrange2():\n",
    "    print(i)"
   ]
  },
  {
   "cell_type": "markdown",
   "id": "b3d83915",
   "metadata": {},
   "source": [
    "# 모듈과 패키지"
   ]
  },
  {
   "cell_type": "markdown",
   "id": "7d53fd8f",
   "metadata": {},
   "source": [
    "#### 모듈을 가져오는 방법\n",
    "\n",
    "- import module\n",
    "- import module1, module2\n",
    "\n",
    "#### 모듈을 사용하는 방법\n",
    "\n",
    "- 모듈.variable\n",
    "- 모듈.function()\n",
    "- 모듈.class()"
   ]
  },
  {
   "cell_type": "code",
   "execution_count": 116,
   "id": "aa3e9f6e",
   "metadata": {},
   "outputs": [],
   "source": [
    "import math"
   ]
  },
  {
   "cell_type": "code",
   "execution_count": 119,
   "id": "20df2eec",
   "metadata": {},
   "outputs": [
    {
     "data": {
      "text/plain": [
       "1.4142135623730951"
      ]
     },
     "execution_count": 119,
     "metadata": {},
     "output_type": "execute_result"
    }
   ],
   "source": [
    "math.sqrt(2)      # module.function"
   ]
  },
  {
   "cell_type": "code",
   "execution_count": 120,
   "id": "ee846375",
   "metadata": {},
   "outputs": [
    {
     "data": {
      "text/plain": [
       "3.141592653589793"
      ]
     },
     "execution_count": 120,
     "metadata": {},
     "output_type": "execute_result"
    }
   ],
   "source": [
    "math.pi      # module.variable"
   ]
  },
  {
   "cell_type": "markdown",
   "id": "dd4bdeb4",
   "metadata": {},
   "source": [
    "- import module as nickname"
   ]
  },
  {
   "cell_type": "code",
   "execution_count": null,
   "id": "93589e14",
   "metadata": {},
   "outputs": [],
   "source": [
    "import math as m"
   ]
  },
  {
   "cell_type": "code",
   "execution_count": null,
   "id": "bd77be7e",
   "metadata": {},
   "outputs": [],
   "source": [
    "m.sqrt(4.0)"
   ]
  },
  {
   "cell_type": "code",
   "execution_count": null,
   "id": "08238574",
   "metadata": {},
   "outputs": [],
   "source": [
    "m.pi"
   ]
  },
  {
   "cell_type": "code",
   "execution_count": 122,
   "id": "8e496429",
   "metadata": {},
   "outputs": [],
   "source": [
    "# 참고 (데이터 분석을 위해 파이썬 생태계에서 사용하는 모듈들)\n",
    "import numpy as np  # 관례적으로 사용\n",
    "import pandas as pd"
   ]
  },
  {
   "cell_type": "markdown",
   "id": "3a3ec3e4",
   "metadata": {},
   "source": [
    "- from 모듈 import 변수\n",
    "- from 모듈 import 함수\n",
    "- from 모듈 import 클래스"
   ]
  },
  {
   "cell_type": "code",
   "execution_count": 124,
   "id": "475f54f8",
   "metadata": {},
   "outputs": [],
   "source": [
    "from math import sqrt"
   ]
  },
  {
   "cell_type": "code",
   "execution_count": 126,
   "id": "29649997",
   "metadata": {},
   "outputs": [
    {
     "data": {
      "text/plain": [
       "3.141592653589793"
      ]
     },
     "execution_count": 126,
     "metadata": {},
     "output_type": "execute_result"
    }
   ],
   "source": [
    "import math\n",
    "\n",
    "math.sqrt(2)\n",
    "math.pi"
   ]
  },
  {
   "cell_type": "code",
   "execution_count": 127,
   "id": "5536be40",
   "metadata": {},
   "outputs": [],
   "source": [
    "from math import pi"
   ]
  },
  {
   "cell_type": "code",
   "execution_count": 128,
   "id": "c3b3c73d",
   "metadata": {},
   "outputs": [
    {
     "data": {
      "text/plain": [
       "3.141592653589793"
      ]
     },
     "execution_count": 128,
     "metadata": {},
     "output_type": "execute_result"
    }
   ],
   "source": [
    "pi"
   ]
  },
  {
   "cell_type": "markdown",
   "id": "bbbf7956",
   "metadata": {},
   "source": [
    "- from module import variable, function, class, ..."
   ]
  },
  {
   "cell_type": "code",
   "execution_count": 129,
   "id": "79ad75c8",
   "metadata": {},
   "outputs": [],
   "source": [
    "from math import sqrt, pi"
   ]
  },
  {
   "cell_type": "code",
   "execution_count": 130,
   "id": "702a80a8",
   "metadata": {},
   "outputs": [
    {
     "data": {
      "text/plain": [
       "2.0"
      ]
     },
     "execution_count": 130,
     "metadata": {},
     "output_type": "execute_result"
    }
   ],
   "source": [
    "sqrt(4)"
   ]
  },
  {
   "cell_type": "code",
   "execution_count": 132,
   "id": "3306c179",
   "metadata": {},
   "outputs": [],
   "source": [
    "from math import *"
   ]
  },
  {
   "cell_type": "markdown",
   "id": "4cdbf945",
   "metadata": {},
   "source": [
    "- from module import variable as nickname"
   ]
  },
  {
   "cell_type": "code",
   "execution_count": 133,
   "id": "be97f368",
   "metadata": {},
   "outputs": [],
   "source": [
    "from math import pi as p"
   ]
  },
  {
   "cell_type": "code",
   "execution_count": 134,
   "id": "5b3a79fa",
   "metadata": {},
   "outputs": [
    {
     "data": {
      "text/plain": [
       "3.141592653589793"
      ]
     },
     "execution_count": 134,
     "metadata": {},
     "output_type": "execute_result"
    }
   ],
   "source": [
    "p"
   ]
  },
  {
   "cell_type": "markdown",
   "id": "e83ff91e",
   "metadata": {},
   "source": [
    "**패키지 안의 모듈 가져오는 방법**\n",
    "- import package.module\n",
    "- import package.module1, package.module2\n",
    "\n",
    "**패키지 안의 모듈 사용하는 방법**\n",
    "- package.module.variable\n",
    "- package.module.function()\n",
    "- package.module.class()"
   ]
  },
  {
   "cell_type": "code",
   "execution_count": 135,
   "id": "224ab46a",
   "metadata": {},
   "outputs": [],
   "source": [
    "import urllib.request"
   ]
  },
  {
   "cell_type": "code",
   "execution_count": 138,
   "id": "88f72f37",
   "metadata": {},
   "outputs": [],
   "source": [
    "reponse = urllib.request.urlopen(\"http://www.google.co.kr\")  # package.module.function()"
   ]
  },
  {
   "cell_type": "code",
   "execution_count": 139,
   "id": "42c9af7e",
   "metadata": {},
   "outputs": [
    {
     "data": {
      "text/plain": [
       "200"
      ]
     },
     "execution_count": 139,
     "metadata": {},
     "output_type": "execute_result"
    }
   ],
   "source": [
    "reponse.status"
   ]
  },
  {
   "cell_type": "markdown",
   "id": "66899490",
   "metadata": {},
   "source": [
    "- import package.module as name"
   ]
  },
  {
   "cell_type": "code",
   "execution_count": 141,
   "id": "1a04c9b7",
   "metadata": {},
   "outputs": [
    {
     "data": {
      "text/plain": [
       "200"
      ]
     },
     "execution_count": 141,
     "metadata": {},
     "output_type": "execute_result"
    }
   ],
   "source": [
    "import urllib.request as r\n",
    "\n",
    "response = r.urlopen(\"http://www.google.co.kr\")\n",
    "response.status"
   ]
  },
  {
   "cell_type": "markdown",
   "id": "b4e05caf",
   "metadata": {},
   "source": [
    "- from package.module import variable\n",
    "- from package.module import class\n",
    "- from package.module import function\n",
    "- from package.module import function, class, variable"
   ]
  },
  {
   "cell_type": "code",
   "execution_count": 142,
   "id": "19431dba",
   "metadata": {},
   "outputs": [
    {
     "data": {
      "text/plain": [
       "200"
      ]
     },
     "execution_count": 142,
     "metadata": {},
     "output_type": "execute_result"
    }
   ],
   "source": [
    "from urllib.request import urlopen\n",
    "\n",
    "response = r.urlopen(\"http://www.google.co.kr\")\n",
    "response.status"
   ]
  },
  {
   "cell_type": "markdown",
   "id": "5350cd4f",
   "metadata": {},
   "source": [
    "- from package.module import *"
   ]
  },
  {
   "cell_type": "code",
   "execution_count": 143,
   "id": "b1e5bdbc",
   "metadata": {},
   "outputs": [
    {
     "data": {
      "text/plain": [
       "200"
      ]
     },
     "execution_count": 143,
     "metadata": {},
     "output_type": "execute_result"
    }
   ],
   "source": [
    "from urllib.request import *\n",
    "\n",
    "response = r.urlopen(\"http://www.google.co.kr\")\n",
    "response.status"
   ]
  },
  {
   "cell_type": "markdown",
   "id": "f0ab5709",
   "metadata": {},
   "source": [
    "**나만의 모듈 만들어서 사용하기**"
   ]
  },
  {
   "cell_type": "code",
   "execution_count": 144,
   "id": "bb90b802",
   "metadata": {},
   "outputs": [],
   "source": [
    "import square2"
   ]
  },
  {
   "cell_type": "code",
   "execution_count": 147,
   "id": "1d7c8cee",
   "metadata": {},
   "outputs": [
    {
     "data": {
      "text/plain": [
       "2"
      ]
     },
     "execution_count": 147,
     "metadata": {},
     "output_type": "execute_result"
    }
   ],
   "source": [
    "square2.base"
   ]
  },
  {
   "cell_type": "code",
   "execution_count": 149,
   "id": "17a3bdbd",
   "metadata": {},
   "outputs": [
    {
     "data": {
      "text/plain": [
       "32"
      ]
     },
     "execution_count": 149,
     "metadata": {},
     "output_type": "execute_result"
    }
   ],
   "source": [
    "square2.square2(5)  # 2 ** 5를 계산"
   ]
  },
  {
   "cell_type": "code",
   "execution_count": 150,
   "id": "5cfaf49a",
   "metadata": {},
   "outputs": [],
   "source": [
    "from square2 import square2"
   ]
  },
  {
   "cell_type": "code",
   "execution_count": 151,
   "id": "8b713431",
   "metadata": {},
   "outputs": [
    {
     "data": {
      "text/plain": [
       "1024"
      ]
     },
     "execution_count": 151,
     "metadata": {},
     "output_type": "execute_result"
    }
   ],
   "source": [
    "square2(10)"
   ]
  },
  {
   "cell_type": "code",
   "execution_count": 152,
   "id": "fbaec39f",
   "metadata": {},
   "outputs": [],
   "source": [
    "import Person"
   ]
  },
  {
   "cell_type": "code",
   "execution_count": 153,
   "id": "5152818e",
   "metadata": {},
   "outputs": [
    {
     "name": "stdout",
     "output_type": "stream",
     "text": [
      "안녕하세요\n",
      "저는 지우근입니다\n",
      "나이는 25살입니다.\n"
     ]
    }
   ],
   "source": [
    "me = Person.Person(\"지우근\", 25, \"경기 파주\")\n",
    "me.greeting()"
   ]
  },
  {
   "cell_type": "code",
   "execution_count": 159,
   "id": "7f2094ed",
   "metadata": {},
   "outputs": [
    {
     "name": "stdout",
     "output_type": "stream",
     "text": [
      "hellp start module\n",
      "hello __name__: __main__\n",
      "hello end module\n"
     ]
    }
   ],
   "source": [
    "%run hello2.py   # anaconda prompt에서 python hello2.py"
   ]
  },
  {
   "cell_type": "code",
   "execution_count": 155,
   "id": "960bd9cc",
   "metadata": {},
   "outputs": [
    {
     "name": "stdout",
     "output_type": "stream",
     "text": [
      "hellp start module\n",
      "hello __name__: hello2\n",
      "hello end module\n",
      "start main module\n",
      "main __name__: __main__\n",
      "end main module\n"
     ]
    }
   ],
   "source": [
    "%run main.py"
   ]
  },
  {
   "cell_type": "code",
   "execution_count": 160,
   "id": "d096a92d",
   "metadata": {},
   "outputs": [
    {
     "name": "stdout",
     "output_type": "stream",
     "text": [
      "start main module\n",
      "main __name__: __main__\n",
      "end main module\n"
     ]
    }
   ],
   "source": [
    "%run test.py"
   ]
  },
  {
   "cell_type": "code",
   "execution_count": 161,
   "id": "c5eda81b",
   "metadata": {},
   "outputs": [
    {
     "name": "stdout",
     "output_type": "stream",
     "text": [
      "30\n",
      "200\n"
     ]
    }
   ],
   "source": [
    "%run calc.py"
   ]
  },
  {
   "cell_type": "code",
   "execution_count": 162,
   "id": "e71ba0b4",
   "metadata": {},
   "outputs": [],
   "source": [
    "import calc"
   ]
  },
  {
   "cell_type": "code",
   "execution_count": 163,
   "id": "91ff42ee",
   "metadata": {},
   "outputs": [
    {
     "data": {
      "text/plain": [
       "30"
      ]
     },
     "execution_count": 163,
     "metadata": {},
     "output_type": "execute_result"
    }
   ],
   "source": [
    "calc.add(10, 20)"
   ]
  },
  {
   "cell_type": "code",
   "execution_count": 164,
   "id": "9a7a575b",
   "metadata": {},
   "outputs": [
    {
     "data": {
      "text/plain": [
       "100000"
      ]
     },
     "execution_count": 164,
     "metadata": {},
     "output_type": "execute_result"
    }
   ],
   "source": [
    "calc.mul(500, 200)"
   ]
  },
  {
   "cell_type": "code",
   "execution_count": 165,
   "id": "13941431",
   "metadata": {},
   "outputs": [
    {
     "data": {
      "text/plain": [
       "30"
      ]
     },
     "execution_count": 165,
     "metadata": {},
     "output_type": "execute_result"
    }
   ],
   "source": [
    "import calcpkg.operation\n",
    "calcpkg.operation.add(10, 20)"
   ]
  },
  {
   "cell_type": "code",
   "execution_count": 166,
   "id": "0b0481af",
   "metadata": {},
   "outputs": [
    {
     "data": {
      "text/plain": [
       "50.0"
      ]
     },
     "execution_count": 166,
     "metadata": {},
     "output_type": "execute_result"
    }
   ],
   "source": [
    "import calcpkg.geometry\n",
    "calcpkg.geometry.triangle_area(10, 10)"
   ]
  },
  {
   "cell_type": "code",
   "execution_count": 167,
   "id": "9e74b53f",
   "metadata": {},
   "outputs": [],
   "source": [
    "from calcpkg.operation import add, mul"
   ]
  },
  {
   "cell_type": "code",
   "execution_count": 168,
   "id": "c03a9b8a",
   "metadata": {},
   "outputs": [
    {
     "data": {
      "text/plain": [
       "30"
      ]
     },
     "execution_count": 168,
     "metadata": {},
     "output_type": "execute_result"
    }
   ],
   "source": [
    "add(10, 20)"
   ]
  },
  {
   "cell_type": "code",
   "execution_count": 169,
   "id": "d8905ccb",
   "metadata": {},
   "outputs": [
    {
     "data": {
      "text/plain": [
       "200"
      ]
     },
     "execution_count": 169,
     "metadata": {},
     "output_type": "execute_result"
    }
   ],
   "source": [
    "mul(10, 20)"
   ]
  },
  {
   "cell_type": "code",
   "execution_count": 170,
   "id": "3da29f41",
   "metadata": {},
   "outputs": [],
   "source": [
    "from calcpkg.geometry import *"
   ]
  },
  {
   "cell_type": "code",
   "execution_count": 171,
   "id": "bab27962",
   "metadata": {},
   "outputs": [
    {
     "data": {
      "text/plain": [
       "50.0"
      ]
     },
     "execution_count": 171,
     "metadata": {},
     "output_type": "execute_result"
    }
   ],
   "source": [
    "triangle_area(10, 10)"
   ]
  },
  {
   "cell_type": "code",
   "execution_count": 172,
   "id": "ca62d1c4",
   "metadata": {},
   "outputs": [
    {
     "data": {
      "text/plain": [
       "100"
      ]
     },
     "execution_count": 172,
     "metadata": {},
     "output_type": "execute_result"
    }
   ],
   "source": [
    "rectangle_area(10, 10)"
   ]
  }
 ],
 "metadata": {
  "kernelspec": {
   "display_name": "Python 3 (ipykernel)",
   "language": "python",
   "name": "python3"
  },
  "language_info": {
   "codemirror_mode": {
    "name": "ipython",
    "version": 3
   },
   "file_extension": ".py",
   "mimetype": "text/x-python",
   "name": "python",
   "nbconvert_exporter": "python",
   "pygments_lexer": "ipython3",
   "version": "3.9.12"
  }
 },
 "nbformat": 4,
 "nbformat_minor": 5
}
