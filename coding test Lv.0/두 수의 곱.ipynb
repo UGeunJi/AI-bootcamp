정수 num1, num2가 매개변수로 주어집니다.
num1과`num2를 곱한 값을 return 하도록 solution 함수를 완성해주세요.

```py
